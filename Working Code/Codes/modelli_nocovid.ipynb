{
 "cells": [
  {
   "cell_type": "code",
   "execution_count": 1,
   "metadata": {},
   "outputs": [],
   "source": [
    "import pandas as pd\n",
    "import matplotlib.pyplot as plt\n",
    "import seaborn as sns\n",
    "from pandas import Timedelta\n",
    "import numpy as np\n",
    "import warnings\n",
    "warnings.filterwarnings(\"ignore\")\n",
    "\n",
    "\n",
    "pd.set_option('display.max_columns', None)"
   ]
  },
  {
   "cell_type": "markdown",
   "metadata": {},
   "source": [
    "# SMARTPHONE"
   ]
  },
  {
   "cell_type": "code",
   "execution_count": 2,
   "metadata": {},
   "outputs": [],
   "source": [
    "smartphones = pd.read_csv('./Working Code/Datasets/smartphones1.csv') \n",
    "smartphones['DATA_INIZIO'] = pd.to_datetime(smartphones['DATA_INIZIO'])\n",
    "smartphones['Year'] = smartphones['DATA_INIZIO'].dt.year\n",
    "smartphones = smartphones[smartphones['Year'] != 2020].reset_index()  #EXCLUDE YEAR 2020\n",
    "smartphones.drop('index', axis=1, inplace=True)"
   ]
  },
  {
   "cell_type": "code",
   "execution_count": 3,
   "metadata": {},
   "outputs": [],
   "source": [
    "X = smartphones[['PREZZO_PROMO', 'PREZZO_LISTINO', 'STOCK_PZ',\n",
    "                 'TIPOLOGIA_PRODOTTO', 'SCONTO_PERC', 'KPI_1',\n",
    "                 'KPI_2', 'KPI_3', 'KPI_4', 'KPI_5', 'QTA_storico',\n",
    "                 'FATTURATO_storico', 'DURATA_VOLANTINO_IN_GIORNI',\n",
    "                 'DISPLAY_SIZE', 'OPERATOR', 'NUMBER_OF_SIM',\n",
    "                 'CAPACITY', 'GENERATION', 'OPERATING_SYST', 'Month_Redditivity',\n",
    "                 'SCONTO_PERC_MEDIO_VOLANTINO', 'SCONTO_PERC_MEDIO_NOME_CAMPAGNA']]\n",
    "\n",
    "y = smartphones[['QTA']].values\n",
    "\n",
    "from sklearn.preprocessing import OneHotEncoder\n",
    "ohe = OneHotEncoder(sparse = False)\n",
    "oheTransform = ohe.fit_transform(X[['TIPOLOGIA_PRODOTTO', 'OPERATOR']])\n",
    "oheTransform = pd.DataFrame(oheTransform, columns=ohe.get_feature_names_out())\n",
    "\n",
    "final_df = pd.concat([X, oheTransform], axis=1)\n",
    "\n",
    "final_df = final_df.drop(['TIPOLOGIA_PRODOTTO', 'OPERATOR'], axis = 1)"
   ]
  },
  {
   "cell_type": "markdown",
   "metadata": {},
   "source": [
    "## BENCHMARK"
   ]
  },
  {
   "cell_type": "code",
   "execution_count": 4,
   "metadata": {},
   "outputs": [
    {
     "name": "stdout",
     "output_type": "stream",
     "text": [
      "RMSE = 541.5361289135686\n"
     ]
    }
   ],
   "source": [
    "from sklearn.metrics import mean_squared_error as mse\n",
    "\n",
    "bench = smartphones.copy(deep=True)\n",
    "bench = bench.dropna(subset=['QTA'])\n",
    "bench['Previsione'] = bench['QTA_storico']/30\n",
    "bench['Previsione'] *= bench['DURATA_VOLANTINO_IN_GIORNI']\n",
    "\n",
    "rmse = np.sqrt(mse(bench['QTA'], bench['Previsione']))\n",
    "\n",
    "print(f'RMSE = {rmse}')"
   ]
  },
  {
   "cell_type": "markdown",
   "metadata": {},
   "source": [
    "## REGRESSIONE LINEARE"
   ]
  },
  {
   "cell_type": "code",
   "execution_count": 5,
   "metadata": {},
   "outputs": [
    {
     "name": "stdout",
     "output_type": "stream",
     "text": [
      "Linear Regression RMSE scores per fold: [399.30463261 346.01846887 459.78963058 429.17489509 367.73041507\n",
      " 404.13396227 468.794116   495.48481639 390.22263758 413.30378771]\n",
      "Linear Regression Average RMSE: 417.3957362165429\n"
     ]
    }
   ],
   "source": [
    "from sklearn.model_selection import KFold\n",
    "from sklearn.model_selection import cross_val_score\n",
    "from sklearn.linear_model import LinearRegression\n",
    "from sklearn.preprocessing import StandardScaler\n",
    "\n",
    "scaler = StandardScaler()\n",
    "final_df_scaled = scaler.fit_transform(final_df)\n",
    "\n",
    "kf = KFold(n_splits=10, shuffle=True, random_state=42)\n",
    "lr = LinearRegression()\n",
    "\n",
    "lr_scores = cross_val_score(lr, final_df_scaled, y, cv=kf, scoring='neg_mean_squared_error')\n",
    "lr_rmse_scores = np.sqrt(-lr_scores)\n",
    "\n",
    "print(f\"Linear Regression RMSE scores per fold: {lr_rmse_scores}\")\n",
    "print(f\"Linear Regression Average RMSE: {lr_rmse_scores.mean()}\")"
   ]
  },
  {
   "cell_type": "code",
   "execution_count": 6,
   "metadata": {},
   "outputs": [
    {
     "name": "stdout",
     "output_type": "stream",
     "text": [
      "\n",
      "Coefficients:\n",
      "PREZZO_PROMO: 5.699541817809937\n",
      "PREZZO_LISTINO: -143.632549811455\n",
      "STOCK_PZ: 119.6034824423928\n",
      "SCONTO_PERC: 30.064083623235916\n",
      "KPI_1: 56.15785069044351\n",
      "KPI_2: -34.77930251001062\n",
      "KPI_3: 103.71025690493967\n",
      "KPI_4: 61.1829212565718\n",
      "KPI_5: 2.1286885489866134\n",
      "QTA_storico: 148.7580268497485\n",
      "FATTURATO_storico: -22.58382743469818\n",
      "DURATA_VOLANTINO_IN_GIORNI: 64.17891224673913\n",
      "DISPLAY_SIZE: 76.04472890882558\n",
      "NUMBER_OF_SIM: 3.8864102279123354\n",
      "CAPACITY: 14.584544943253508\n",
      "GENERATION: -1.187181002185497\n",
      "OPERATING_SYST: 100.91077738902237\n",
      "Month_Redditivity: 11.54606300139728\n",
      "SCONTO_PERC_MEDIO_VOLANTINO: -23.021068036076198\n",
      "SCONTO_PERC_MEDIO_NOME_CAMPAGNA: 44.52655091867933\n",
      "TIPOLOGIA_PRODOTTO_ND: 142437655188947.72\n",
      "TIPOLOGIA_PRODOTTO_Principale: 102703014634913.19\n",
      "TIPOLOGIA_PRODOTTO_Sostitutivo: 127294839211484.78\n",
      "OPERATOR_SIM FREE: -7734699012003.718\n",
      "OPERATOR_TIM: -4902691671936.123\n",
      "OPERATOR_VODAFONE: -4721766651496.661\n",
      "OPERATOR_WINDTRE: -4072240593371.4214\n"
     ]
    }
   ],
   "source": [
    "column_names = final_df.columns.tolist()\n",
    "\n",
    "lr.fit(final_df_scaled, y)\n",
    "\n",
    "print(\"\\nCoefficients:\")\n",
    "for feature, coef in zip(column_names, lr.coef_.tolist()[0]):\n",
    "    print(f\"{feature}: {coef}\")"
   ]
  },
  {
   "cell_type": "markdown",
   "metadata": {},
   "source": [
    "## RANDOM FOREST"
   ]
  },
  {
   "cell_type": "code",
   "execution_count": 7,
   "metadata": {},
   "outputs": [
    {
     "name": "stdout",
     "output_type": "stream",
     "text": [
      "Random Forest RMSE scores per fold: [340.04600646 328.73209675 370.56911456 379.43232263 306.65376017\n",
      " 359.15148308 390.22680105 411.22336201 368.92804444 346.31158298]\n",
      "Random Forest Average RMSE: 360.1274574148954\n"
     ]
    }
   ],
   "source": [
    "from sklearn.model_selection import KFold\n",
    "from sklearn.model_selection import cross_val_score\n",
    "from sklearn.ensemble import RandomForestRegressor\n",
    "\n",
    "kf = KFold(n_splits=10, shuffle=True, random_state=42)\n",
    "rfr = RandomForestRegressor()\n",
    "\n",
    "rfr_scores = cross_val_score(rfr, final_df, y, cv=kf, scoring='neg_mean_squared_error')\n",
    "rfr_rmse_scores = np.sqrt(-rfr_scores)\n",
    "\n",
    "print(f\"Random Forest RMSE scores per fold: {rfr_rmse_scores}\")\n",
    "print(f\"Random Forest Average RMSE: {rfr_rmse_scores.mean()}\")"
   ]
  },
  {
   "cell_type": "code",
   "execution_count": 8,
   "metadata": {},
   "outputs": [
    {
     "name": "stdout",
     "output_type": "stream",
     "text": [
      "Feature Importance:\n",
      "PREZZO_PROMO: 0.05424684775368942\n",
      "PREZZO_LISTINO: 0.03423861810464885\n",
      "STOCK_PZ: 0.16325192611086556\n",
      "SCONTO_PERC: 0.049082747532182044\n",
      "KPI_1: 0.055917995254037504\n",
      "KPI_2: 0.031891545873539075\n",
      "KPI_3: 0.04606279139679284\n",
      "KPI_4: 0.028730138064133985\n",
      "KPI_5: 0.01854016520961762\n",
      "QTA_storico: 0.3127612981156704\n",
      "FATTURATO_storico: 0.029556565602794755\n",
      "DURATA_VOLANTINO_IN_GIORNI: 0.039996102792718764\n",
      "DISPLAY_SIZE: 0.03670581334645954\n",
      "NUMBER_OF_SIM: 0.0015971670886612596\n",
      "CAPACITY: 0.01086608367463311\n",
      "GENERATION: 0.0019134627716746013\n",
      "OPERATING_SYST: 0.0006153975549616861\n",
      "Month_Redditivity: 0.005849322300450878\n",
      "SCONTO_PERC_MEDIO_VOLANTINO: 0.03140072825990671\n",
      "SCONTO_PERC_MEDIO_NOME_CAMPAGNA: 0.01472032771764468\n",
      "TIPOLOGIA_PRODOTTO_ND: 0.0031490059751239875\n",
      "TIPOLOGIA_PRODOTTO_Principale: 0.010926984142317386\n",
      "TIPOLOGIA_PRODOTTO_Sostitutivo: 0.0027927165415685107\n",
      "OPERATOR_SIM FREE: 0.004729663105919104\n",
      "OPERATOR_TIM: 0.003336119203382926\n",
      "OPERATOR_VODAFONE: 0.003688915563261139\n",
      "OPERATOR_WINDTRE: 0.0034315509433436252\n"
     ]
    }
   ],
   "source": [
    "rfr.fit(final_df, y)\n",
    "\n",
    "print(\"Feature Importance:\")\n",
    "for feature, importance in zip(final_df.columns, rfr.feature_importances_):\n",
    "    print(f\"{feature}: {importance}\")"
   ]
  },
  {
   "cell_type": "markdown",
   "metadata": {},
   "source": [
    "## XGBoost"
   ]
  },
  {
   "cell_type": "code",
   "execution_count": 9,
   "metadata": {},
   "outputs": [
    {
     "name": "stdout",
     "output_type": "stream",
     "text": [
      "XGBoost RMSE scores per fold: [342.52157819 314.63734424 341.50783431 371.05608936 288.76909502\n",
      " 329.90104892 342.45124379 406.8388123  334.11303998 320.28596057]\n",
      "XGBoost Average RMSE: 339.208204666886\n"
     ]
    }
   ],
   "source": [
    "import xgboost as xgb\n",
    "from sklearn.model_selection import KFold, cross_val_score\n",
    "\n",
    "xgb_model = xgb.XGBRegressor()\n",
    "\n",
    "kf = KFold(n_splits=10, shuffle=True, random_state=42)\n",
    "xgb_scores = cross_val_score(xgb_model, final_df, y.ravel(), cv=kf, scoring='neg_mean_squared_error')\n",
    "xgb_rmse_scores = np.sqrt(-xgb_scores)\n",
    "\n",
    "print(f\"XGBoost RMSE scores per fold: {xgb_rmse_scores}\")\n",
    "print(f\"XGBoost Average RMSE: {xgb_rmse_scores.mean()}\")"
   ]
  },
  {
   "cell_type": "code",
   "execution_count": 10,
   "metadata": {},
   "outputs": [
    {
     "name": "stdout",
     "output_type": "stream",
     "text": [
      "Feature Importance:\n",
      "PREZZO_PROMO: 0.032499752938747406\n",
      "PREZZO_LISTINO: 0.03104330413043499\n",
      "STOCK_PZ: 0.05625305697321892\n",
      "SCONTO_PERC: 0.032209694385528564\n",
      "KPI_1: 0.04434063658118248\n",
      "KPI_2: 0.026875706389546394\n",
      "KPI_3: 0.02311650663614273\n",
      "KPI_4: 0.032319072633981705\n",
      "KPI_5: 0.015949439257383347\n",
      "QTA_storico: 0.15576879680156708\n",
      "FATTURATO_storico: 0.014598820358514786\n",
      "DURATA_VOLANTINO_IN_GIORNI: 0.04014192521572113\n",
      "DISPLAY_SIZE: 0.04848195239901543\n",
      "NUMBER_OF_SIM: 0.010876871645450592\n",
      "CAPACITY: 0.017412003129720688\n",
      "GENERATION: 0.029084276407957077\n",
      "OPERATING_SYST: 0.015887971967458725\n",
      "Month_Redditivity: 0.030888812616467476\n",
      "SCONTO_PERC_MEDIO_VOLANTINO: 0.022525975480675697\n",
      "SCONTO_PERC_MEDIO_NOME_CAMPAGNA: 0.01855411008000374\n",
      "TIPOLOGIA_PRODOTTO_ND: 0.023656675592064857\n",
      "TIPOLOGIA_PRODOTTO_Principale: 0.046026166528463364\n",
      "TIPOLOGIA_PRODOTTO_Sostitutivo: 0.01696990802884102\n",
      "OPERATOR_SIM FREE: 0.06590153276920319\n",
      "OPERATOR_TIM: 0.03257433697581291\n",
      "OPERATOR_VODAFONE: 0.0687551200389862\n",
      "OPERATOR_WINDTRE: 0.04728763550519943\n"
     ]
    }
   ],
   "source": [
    "xgb_model = xgb.XGBRegressor()\n",
    "xgb_model.fit(final_df, y.ravel())\n",
    "\n",
    "print(\"Feature Importance:\")\n",
    "for feature, importance in zip(final_df.columns, xgb_model.feature_importances_):\n",
    "    print(f\"{feature}: {importance}\")"
   ]
  },
  {
   "cell_type": "markdown",
   "metadata": {},
   "source": [
    "# PC"
   ]
  },
  {
   "cell_type": "code",
   "execution_count": 11,
   "metadata": {},
   "outputs": [],
   "source": [
    "pc = pd.read_csv('./Working Code/Datasets/pc1.csv') \n",
    "pc['DATA_INIZIO'] = pd.to_datetime(pc['DATA_INIZIO'])\n",
    "pc['Year'] = pc['DATA_INIZIO'].dt.year\n",
    "pc = pc[pc['Year'] != 2020].reset_index()  #EXCLUDE YEAR 2020\n",
    "pc.drop('index', axis=1, inplace=True)"
   ]
  },
  {
   "cell_type": "code",
   "execution_count": 12,
   "metadata": {},
   "outputs": [],
   "source": [
    "X = pc[['PREZZO_PROMO', 'PREZZO_LISTINO', 'STOCK_PZ',\n",
    "        'TIPOLOGIA_PRODOTTO','SCONTO_PERC', 'KPI_1',\n",
    "        'KPI_2', 'KPI_3', 'KPI_4', 'KPI_5', 'QTA_storico',\n",
    "        'FATTURATO_storico', 'DURATA_VOLANTINO_IN_GIORNI',\n",
    "        'STORAGE_GB', 'RAM_GB', 'DISPLAY_SIZE', 'CONVERTIBLE',\n",
    "        'SCONTO_PERC_MEDIO_VOLANTINO', 'VERSION_NOT_DEFINED',\n",
    "        'VERSION_INTEL', 'VERSION_APPLE', 'VERSION_RAD',\n",
    "        'VERSION_GEF', 'QUALITY_VERSION', 'QUALITY_PROCESSOR',\n",
    "        'Month_Redditivity', 'Year', 'SCONTO_PERC_MEDIO_NOME_CAMPAGNA']]\n",
    "y = pc[['QTA']].values\n",
    "\n",
    "from sklearn.preprocessing import OneHotEncoder\n",
    "ohe = OneHotEncoder(sparse = False)\n",
    "oheTransform = ohe.fit_transform(X[['TIPOLOGIA_PRODOTTO', 'Year']])\n",
    "oheTransform = pd.DataFrame(oheTransform, columns=ohe.get_feature_names_out())\n",
    "\n",
    "final_df = pd.concat([X, oheTransform], axis=1)\n",
    "\n",
    "final_df = final_df.drop(['TIPOLOGIA_PRODOTTO', 'Year'], axis = 1)"
   ]
  },
  {
   "cell_type": "markdown",
   "metadata": {},
   "source": [
    "## BENCHMARK"
   ]
  },
  {
   "cell_type": "code",
   "execution_count": 13,
   "metadata": {},
   "outputs": [
    {
     "name": "stdout",
     "output_type": "stream",
     "text": [
      "RMSE = 406.77545296404577\n"
     ]
    }
   ],
   "source": [
    "from sklearn.metrics import mean_squared_error as mse\n",
    "\n",
    "bench = pc.copy(deep=True)\n",
    "bench = bench.dropna(subset=['QTA'])\n",
    "bench['Previsione'] = bench['QTA_storico']/30\n",
    "bench['Previsione'] *= bench['DURATA_VOLANTINO_IN_GIORNI']\n",
    "\n",
    "rmse = np.sqrt(mse(bench['QTA'], bench['Previsione']))\n",
    "\n",
    "print(f'RMSE = {rmse}')"
   ]
  },
  {
   "cell_type": "markdown",
   "metadata": {},
   "source": [
    "## LINEAR REGRESSION"
   ]
  },
  {
   "cell_type": "code",
   "execution_count": 14,
   "metadata": {},
   "outputs": [
    {
     "name": "stdout",
     "output_type": "stream",
     "text": [
      "Linear Regression RMSE scores per fold: [274.66703814 210.21204842 333.46857714 263.71950428 286.8618647\n",
      " 222.51948775 257.81397043 370.19475489 242.29561888 241.55601659]\n",
      "Linear Regression Average RMSE: 270.3308881209832\n"
     ]
    }
   ],
   "source": [
    "from sklearn.model_selection import KFold\n",
    "from sklearn.model_selection import cross_val_score\n",
    "from sklearn.linear_model import LinearRegression\n",
    "from sklearn.preprocessing import StandardScaler\n",
    "\n",
    "scaler = StandardScaler()\n",
    "final_df_scaled = scaler.fit_transform(final_df)\n",
    "\n",
    "kf = KFold(n_splits=10, shuffle=True, random_state=42)\n",
    "lr = LinearRegression()\n",
    "\n",
    "lr_scores = cross_val_score(lr, final_df_scaled, y, cv=kf, scoring='neg_mean_squared_error')\n",
    "lr_rmse_scores = np.sqrt(-lr_scores)\n",
    "\n",
    "print(f\"Linear Regression RMSE scores per fold: {lr_rmse_scores}\")\n",
    "print(f\"Linear Regression Average RMSE: {lr_rmse_scores.mean()}\")"
   ]
  },
  {
   "cell_type": "code",
   "execution_count": 15,
   "metadata": {},
   "outputs": [
    {
     "name": "stdout",
     "output_type": "stream",
     "text": [
      "\n",
      "Coefficients:\n",
      "PREZZO_PROMO: -123.39979781838744\n",
      "PREZZO_LISTINO: 10.68425047668801\n",
      "STOCK_PZ: 43.253463154086816\n",
      "SCONTO_PERC: 12.496209054097847\n",
      "KPI_1: 45.2904932206431\n",
      "KPI_2: -15.421839610167423\n",
      "KPI_3: -6.645169450958147\n",
      "KPI_4: 22.048831510880245\n",
      "KPI_5: -24.778339787324683\n",
      "QTA_storico: 25.824654515833764\n",
      "FATTURATO_storico: -0.6815856679290959\n",
      "DURATA_VOLANTINO_IN_GIORNI: 70.93012564153211\n",
      "STORAGE_GB: 7.777630193838639\n",
      "RAM_GB: 10.698387297747153\n",
      "DISPLAY_SIZE: 97.00343521810387\n",
      "CONVERTIBLE: -13.84038677105983\n",
      "SCONTO_PERC_MEDIO_VOLANTINO: 66.93984798949786\n",
      "VERSION_NOT_DEFINED: -20.839566071496943\n",
      "VERSION_INTEL: -10.031906518005774\n",
      "VERSION_APPLE: 79.23755920995868\n",
      "VERSION_RAD: -2.782915264257386\n",
      "VERSION_GEF: -51.1771540754773\n",
      "QUALITY_VERSION: -0.2969231162857892\n",
      "QUALITY_PROCESSOR: 17.659584816340217\n",
      "Month_Redditivity: 9.62884842983655\n",
      "SCONTO_PERC_MEDIO_NOME_CAMPAGNA: 9.123984555890846\n",
      "TIPOLOGIA_PRODOTTO_ND: 93.91188354061153\n",
      "TIPOLOGIA_PRODOTTO_Principale: -50.339211539341406\n",
      "TIPOLOGIA_PRODOTTO_Sostitutivo: -71.63874326423857\n",
      "Year_2018: -17.04487889249646\n",
      "Year_2019: -32.995969959427654\n",
      "Year_2021: 10.99972992049455\n",
      "Year_2022: 18.587404990048665\n",
      "Year_2023: 10.182494874455667\n"
     ]
    }
   ],
   "source": [
    "column_names = final_df.columns.tolist()\n",
    "\n",
    "lr.fit(final_df_scaled, y)\n",
    "\n",
    "print(\"\\nCoefficients:\")\n",
    "for feature, coef in zip(column_names, lr.coef_.tolist()[0]):\n",
    "    print(f\"{feature}: {coef}\")"
   ]
  },
  {
   "cell_type": "markdown",
   "metadata": {},
   "source": [
    "## RANDOM FOREST"
   ]
  },
  {
   "cell_type": "code",
   "execution_count": 16,
   "metadata": {},
   "outputs": [
    {
     "name": "stdout",
     "output_type": "stream",
     "text": [
      "Random Forest RMSE scores per fold: [249.90776722 187.4337974  243.25474683 223.76319227 249.82394546\n",
      " 227.56226877 243.16922906 330.00074318 236.07140435 228.1009554 ]\n",
      "Random Forest Average RMSE: 241.908804995021\n"
     ]
    }
   ],
   "source": [
    "from sklearn.model_selection import KFold\n",
    "from sklearn.model_selection import cross_val_score\n",
    "from sklearn.ensemble import RandomForestRegressor\n",
    "\n",
    "kf = KFold(n_splits=10, shuffle=True, random_state=42)\n",
    "rfr = RandomForestRegressor()\n",
    "\n",
    "rfr_scores = cross_val_score(rfr, final_df, y, cv=kf, scoring='neg_mean_squared_error')\n",
    "rfr_rmse_scores = np.sqrt(-rfr_scores)\n",
    "\n",
    "print(f\"Random Forest RMSE scores per fold: {rfr_rmse_scores}\")\n",
    "print(f\"Random Forest Average RMSE: {rfr_rmse_scores.mean()}\")"
   ]
  },
  {
   "cell_type": "code",
   "execution_count": 17,
   "metadata": {},
   "outputs": [
    {
     "name": "stdout",
     "output_type": "stream",
     "text": [
      "Feature Importance:\n",
      "PREZZO_PROMO: 0.1706217701097797\n",
      "PREZZO_LISTINO: 0.09299061810841083\n",
      "STOCK_PZ: 0.08738848556466981\n",
      "SCONTO_PERC: 0.05202423596971098\n",
      "KPI_1: 0.06096623395644825\n",
      "KPI_2: 0.019034299644153152\n",
      "KPI_3: 0.03452277086311535\n",
      "KPI_4: 0.036891875370043355\n",
      "KPI_5: 0.020529316128276767\n",
      "QTA_storico: 0.0356922695820713\n",
      "FATTURATO_storico: 0.027315544985396206\n",
      "DURATA_VOLANTINO_IN_GIORNI: 0.02851911014913904\n",
      "STORAGE_GB: 0.03616935098556028\n",
      "RAM_GB: 0.010748078163930466\n",
      "DISPLAY_SIZE: 0.035898069021851525\n",
      "CONVERTIBLE: 0.0007625053926391781\n",
      "SCONTO_PERC_MEDIO_VOLANTINO: 0.11005906317485183\n",
      "VERSION_NOT_DEFINED: 0.0003476382234584586\n",
      "VERSION_INTEL: 0.002981548664194282\n",
      "VERSION_APPLE: 0.0006318584791145912\n",
      "VERSION_RAD: 0.004731591745037395\n",
      "VERSION_GEF: 0.004522640809289173\n",
      "QUALITY_VERSION: 0.015058850158862387\n",
      "QUALITY_PROCESSOR: 0.004446489452746464\n",
      "Month_Redditivity: 0.01316764204714495\n",
      "SCONTO_PERC_MEDIO_NOME_CAMPAGNA: 0.019070133001593798\n",
      "TIPOLOGIA_PRODOTTO_ND: 0.022264297706780293\n",
      "TIPOLOGIA_PRODOTTO_Principale: 0.005130712039016827\n",
      "TIPOLOGIA_PRODOTTO_Sostitutivo: 0.022875787630208963\n",
      "Year_2018: 0.003089879570716819\n",
      "Year_2019: 0.003999270368063976\n",
      "Year_2021: 0.012997241385244784\n",
      "Year_2022: 0.00179540592896502\n",
      "Year_2023: 0.00275541561951383\n"
     ]
    }
   ],
   "source": [
    "rfr.fit(final_df, y)\n",
    "\n",
    "print(\"Feature Importance:\")\n",
    "for feature, importance in zip(final_df.columns, rfr.feature_importances_):\n",
    "    print(f\"{feature}: {importance}\")"
   ]
  },
  {
   "cell_type": "markdown",
   "metadata": {},
   "source": [
    "## XGBoost"
   ]
  },
  {
   "cell_type": "code",
   "execution_count": 18,
   "metadata": {},
   "outputs": [
    {
     "name": "stdout",
     "output_type": "stream",
     "text": [
      "XGBoost RMSE scores per fold: [260.74863198 195.03356171 238.66237291 240.05538791 256.97066156\n",
      " 207.09042498 215.97451237 333.8415826  227.76539949 229.0922001 ]\n",
      "XGBoost Average RMSE: 240.52347356077917\n"
     ]
    }
   ],
   "source": [
    "import xgboost as xgb\n",
    "from sklearn.model_selection import KFold, cross_val_score\n",
    "\n",
    "xgb_model = xgb.XGBRegressor()\n",
    "\n",
    "kf = KFold(n_splits=10, shuffle=True, random_state=42)\n",
    "xgb_scores = cross_val_score(xgb_model, final_df, y.ravel(), cv=kf, scoring='neg_mean_squared_error')\n",
    "xgb_rmse_scores = np.sqrt(-xgb_scores)\n",
    "\n",
    "print(f\"XGBoost RMSE scores per fold: {xgb_rmse_scores}\")\n",
    "print(f\"XGBoost Average RMSE: {xgb_rmse_scores.mean()}\")"
   ]
  },
  {
   "cell_type": "code",
   "execution_count": 19,
   "metadata": {},
   "outputs": [
    {
     "name": "stdout",
     "output_type": "stream",
     "text": [
      "Feature Importance:\n",
      "PREZZO_PROMO: 0.023024704307317734\n",
      "PREZZO_LISTINO: 0.049192339181900024\n",
      "STOCK_PZ: 0.01083252765238285\n",
      "SCONTO_PERC: 0.016061196103692055\n",
      "KPI_1: 0.021009644493460655\n",
      "KPI_2: 0.01237213984131813\n",
      "KPI_3: 0.01303675677627325\n",
      "KPI_4: 0.013712843880057335\n",
      "KPI_5: 0.006830899976193905\n",
      "QTA_storico: 0.012572884559631348\n",
      "FATTURATO_storico: 0.01265389658510685\n",
      "DURATA_VOLANTINO_IN_GIORNI: 0.014728573150932789\n",
      "STORAGE_GB: 0.04109904542565346\n",
      "RAM_GB: 0.017708228901028633\n",
      "DISPLAY_SIZE: 0.07224392890930176\n",
      "CONVERTIBLE: 0.010369821451604366\n",
      "SCONTO_PERC_MEDIO_VOLANTINO: 0.02791629731655121\n",
      "VERSION_NOT_DEFINED: 0.01088472455739975\n",
      "VERSION_INTEL: 0.01579396240413189\n",
      "VERSION_APPLE: 0.020218074321746826\n",
      "VERSION_RAD: 0.01694084331393242\n",
      "VERSION_GEF: 0.005778848193585873\n",
      "QUALITY_VERSION: 0.03492075204849243\n",
      "QUALITY_PROCESSOR: 0.01989382691681385\n",
      "Month_Redditivity: 0.023401441052556038\n",
      "SCONTO_PERC_MEDIO_NOME_CAMPAGNA: 0.005345299374312162\n",
      "TIPOLOGIA_PRODOTTO_ND: 0.16411669552326202\n",
      "TIPOLOGIA_PRODOTTO_Principale: 0.05365388095378876\n",
      "TIPOLOGIA_PRODOTTO_Sostitutivo: 0.1357785016298294\n",
      "Year_2018: 0.032225918024778366\n",
      "Year_2019: 0.011357388459146023\n",
      "Year_2021: 0.044282641261816025\n",
      "Year_2022: 0.00721250893548131\n",
      "Year_2023: 0.022828906774520874\n"
     ]
    }
   ],
   "source": [
    "xgb_model = xgb.XGBRegressor()\n",
    "xgb_model.fit(final_df, y.ravel())\n",
    "\n",
    "print(\"Feature Importance:\")\n",
    "for feature, importance in zip(final_df.columns, xgb_model.feature_importances_):\n",
    "    print(f\"{feature}: {importance}\")"
   ]
  },
  {
   "cell_type": "markdown",
   "metadata": {},
   "source": [
    "# WASH"
   ]
  },
  {
   "cell_type": "code",
   "execution_count": 20,
   "metadata": {},
   "outputs": [],
   "source": [
    "wash = pd.read_csv('./Working Code/Datasets/wash1.csv')\n",
    "wash['DATA_INIZIO'] = pd.to_datetime(wash['DATA_INIZIO'])\n",
    "wash['Year'] = wash['DATA_INIZIO'].dt.year\n",
    "wash = wash[wash['Year'] != 2020].reset_index()  #EXCLUDE YEAR 2020\n",
    "wash.drop('index', axis=1, inplace=True)"
   ]
  },
  {
   "cell_type": "code",
   "execution_count": 21,
   "metadata": {},
   "outputs": [],
   "source": [
    "X = wash[['PREZZO_PROMO', 'PREZZO_LISTINO', 'STOCK_PZ',\n",
    "        'TIPOLOGIA_PRODOTTO','SCONTO_PERC', 'KPI_1',\n",
    "        'KPI_2', 'KPI_3', 'KPI_4', 'KPI_5', 'QTA_storico',\n",
    "        'FATTURATO_storico', 'DURATA_VOLANTINO_IN_GIORNI',\n",
    "        'TYPE', 'TOPLOADING', 'LOADING_KG', 'ENERGY_CLASS',\n",
    "        'DEPTH_CM>48', 'SMART_CONNECT', 'SCONTO_PERC_MEDIO_VOLANTINO', 'Month_Redditivity', 'Year',\n",
    "        'SCONTO_PERC_MEDIO_NOME_CAMPAGNA']]\n",
    "y = wash[['QTA']].values\n",
    "\n",
    "from sklearn.preprocessing import OneHotEncoder\n",
    "ohe = OneHotEncoder(sparse = False)\n",
    "oheTransform = ohe.fit_transform(X[['TIPOLOGIA_PRODOTTO', 'Year']])\n",
    "oheTransform = pd.DataFrame(oheTransform, columns=ohe.get_feature_names_out())\n",
    "\n",
    "final_df = pd.concat([X, oheTransform], axis=1)\n",
    "\n",
    "final_df = final_df.drop(['TIPOLOGIA_PRODOTTO', 'Year'], axis = 1)"
   ]
  },
  {
   "cell_type": "markdown",
   "metadata": {},
   "source": [
    "## BENCHMARK"
   ]
  },
  {
   "cell_type": "code",
   "execution_count": 22,
   "metadata": {},
   "outputs": [
    {
     "name": "stdout",
     "output_type": "stream",
     "text": [
      "RMSE = 374.44030989644216\n"
     ]
    }
   ],
   "source": [
    "from sklearn.metrics import mean_squared_error as mse\n",
    "\n",
    "bench = wash.copy(deep=True)\n",
    "bench = bench.dropna(subset=['QTA'])\n",
    "bench['Previsione'] = bench['QTA_storico']/30\n",
    "bench['Previsione'] *= bench['DURATA_VOLANTINO_IN_GIORNI']\n",
    "\n",
    "rmse = np.sqrt(mse(bench['QTA'], bench['Previsione']))\n",
    "\n",
    "print(f'RMSE = {rmse}')"
   ]
  },
  {
   "cell_type": "markdown",
   "metadata": {},
   "source": [
    "## LINEAR REGRESSION"
   ]
  },
  {
   "cell_type": "code",
   "execution_count": 23,
   "metadata": {},
   "outputs": [
    {
     "name": "stdout",
     "output_type": "stream",
     "text": [
      "Linear Regression RMSE scores per fold: [212.54947152 283.36791038 219.71456837 206.51636029 169.06654341\n",
      " 210.81887281 209.98256001 164.72641186 250.35866263 200.2190312 ]\n",
      "Linear Regression Average RMSE: 212.73203924758485\n"
     ]
    }
   ],
   "source": [
    "from sklearn.model_selection import KFold\n",
    "from sklearn.model_selection import cross_val_score\n",
    "from sklearn.linear_model import LinearRegression\n",
    "from sklearn.preprocessing import StandardScaler\n",
    "\n",
    "scaler = StandardScaler()\n",
    "final_df_scaled = scaler.fit_transform(final_df)\n",
    "\n",
    "kf = KFold(n_splits=10, shuffle=True, random_state=42)\n",
    "lr = LinearRegression()\n",
    "\n",
    "lr_scores = cross_val_score(lr, final_df_scaled, y, cv=kf, scoring='neg_mean_squared_error')\n",
    "lr_rmse_scores = np.sqrt(-lr_scores)\n",
    "\n",
    "print(f\"Linear Regression RMSE scores per fold: {lr_rmse_scores}\")\n",
    "print(f\"Linear Regression Average RMSE: {lr_rmse_scores.mean()}\")"
   ]
  },
  {
   "cell_type": "code",
   "execution_count": 24,
   "metadata": {},
   "outputs": [
    {
     "name": "stdout",
     "output_type": "stream",
     "text": [
      "\n",
      "Coefficients:\n",
      "PREZZO_PROMO: -85.02528829782874\n",
      "PREZZO_LISTINO: -12.060949908717497\n",
      "STOCK_PZ: 15.762985025122392\n",
      "SCONTO_PERC: 79.90525503926041\n",
      "KPI_1: 19.328585557642633\n",
      "KPI_2: 9.026341875040263\n",
      "KPI_3: -13.80014779111255\n",
      "KPI_4: 2.7273340123657297\n",
      "KPI_5: 17.442246820426032\n",
      "QTA_storico: 4.964240195194885\n",
      "FATTURATO_storico: 10.419269498952435\n",
      "DURATA_VOLANTINO_IN_GIORNI: 91.46685724891088\n",
      "TYPE: 25.19511631064143\n",
      "TOPLOADING: -59.620282537553464\n",
      "LOADING_KG: -32.91040443840494\n",
      "ENERGY_CLASS: 1.1300660435302599\n",
      "DEPTH_CM>48: 28.986044309117798\n",
      "SMART_CONNECT: 6.327467548230932\n",
      "SCONTO_PERC_MEDIO_VOLANTINO: 5.9055950190157285\n",
      "Month_Redditivity: -10.607262735371396\n",
      "SCONTO_PERC_MEDIO_NOME_CAMPAGNA: 21.144082587539586\n",
      "TIPOLOGIA_PRODOTTO_ND: 5.449380413567215\n",
      "TIPOLOGIA_PRODOTTO_Principale: -3.018243354337912\n",
      "TIPOLOGIA_PRODOTTO_Sostitutivo: -16.25576754602029\n",
      "Year_2018: 38.2897744089877\n",
      "Year_2019: 14.9447332395084\n",
      "Year_2021: -22.79446611969669\n",
      "Year_2022: -8.215612490719474\n",
      "Year_2023: -9.872754220877482\n"
     ]
    }
   ],
   "source": [
    "column_names = final_df.columns.tolist()\n",
    "\n",
    "lr.fit(final_df_scaled, y)\n",
    "\n",
    "print(\"\\nCoefficients:\")\n",
    "for feature, coef in zip(column_names, lr.coef_.tolist()[0]):\n",
    "    print(f\"{feature}: {coef}\")"
   ]
  },
  {
   "cell_type": "markdown",
   "metadata": {},
   "source": [
    "## RANDOM FOREST"
   ]
  },
  {
   "cell_type": "code",
   "execution_count": 25,
   "metadata": {},
   "outputs": [
    {
     "name": "stdout",
     "output_type": "stream",
     "text": [
      "Random Forest RMSE scores per fold: [211.40295879 231.12055545 186.04629565 179.24714679 165.58157449\n",
      " 182.01184137 175.99058208 137.26334805 222.13651097 175.74967731]\n",
      "Random Forest Average RMSE: 186.65504909310536\n"
     ]
    }
   ],
   "source": [
    "from sklearn.model_selection import KFold\n",
    "from sklearn.model_selection import cross_val_score\n",
    "from sklearn.ensemble import RandomForestRegressor\n",
    "\n",
    "kf = KFold(n_splits=10, shuffle=True, random_state=42)\n",
    "rfr = RandomForestRegressor()\n",
    "\n",
    "rfr_scores = cross_val_score(rfr, final_df, y, cv=kf, scoring='neg_mean_squared_error')\n",
    "rfr_rmse_scores = np.sqrt(-rfr_scores)\n",
    "\n",
    "print(f\"Random Forest RMSE scores per fold: {rfr_rmse_scores}\")\n",
    "print(f\"Random Forest Average RMSE: {rfr_rmse_scores.mean()}\")"
   ]
  },
  {
   "cell_type": "code",
   "execution_count": 26,
   "metadata": {},
   "outputs": [
    {
     "name": "stdout",
     "output_type": "stream",
     "text": [
      "Feature Importance:\n",
      "PREZZO_PROMO: 0.3215077968233402\n",
      "PREZZO_LISTINO: 0.03581538771377743\n",
      "STOCK_PZ: 0.03530136396127201\n",
      "SCONTO_PERC: 0.111471528179402\n",
      "KPI_1: 0.02439188010183893\n",
      "KPI_2: 0.0320296040014657\n",
      "KPI_3: 0.03186054586738708\n",
      "KPI_4: 0.05985556799401717\n",
      "KPI_5: 0.01998638649149565\n",
      "QTA_storico: 0.020128469243244632\n",
      "FATTURATO_storico: 0.0194350166790906\n",
      "DURATA_VOLANTINO_IN_GIORNI: 0.1284129302235503\n",
      "TYPE: 0.00018816135959100148\n",
      "TOPLOADING: 0.0016812522343460435\n",
      "LOADING_KG: 0.01622947089436754\n",
      "ENERGY_CLASS: 0.036985982892623316\n",
      "DEPTH_CM>48: 0.0013920844605196509\n",
      "SMART_CONNECT: 0.006575031608843544\n",
      "SCONTO_PERC_MEDIO_VOLANTINO: 0.03167329492222231\n",
      "Month_Redditivity: 0.014070653379514231\n",
      "SCONTO_PERC_MEDIO_NOME_CAMPAGNA: 0.01820218279746129\n",
      "TIPOLOGIA_PRODOTTO_ND: 0.0011140461637069625\n",
      "TIPOLOGIA_PRODOTTO_Principale: 0.0016737858496054634\n",
      "TIPOLOGIA_PRODOTTO_Sostitutivo: 0.0004267309937333292\n",
      "Year_2018: 0.017738092528797256\n",
      "Year_2019: 0.0035825786427450866\n",
      "Year_2021: 0.004112059213209886\n",
      "Year_2022: 0.0017734470364022922\n",
      "Year_2023: 0.0023846677424291373\n"
     ]
    }
   ],
   "source": [
    "rfr.fit(final_df, y)\n",
    "\n",
    "print(\"Feature Importance:\")\n",
    "for feature, importance in zip(final_df.columns, rfr.feature_importances_):\n",
    "    print(f\"{feature}: {importance}\")"
   ]
  },
  {
   "cell_type": "markdown",
   "metadata": {},
   "source": [
    "## XGBoost"
   ]
  },
  {
   "cell_type": "code",
   "execution_count": 27,
   "metadata": {},
   "outputs": [
    {
     "name": "stdout",
     "output_type": "stream",
     "text": [
      "XGBoost RMSE scores per fold: [188.04661625 240.09950646 187.24531936 174.24995909 165.07393546\n",
      " 180.25716743 171.56434675 161.46995817 184.38189266 166.95907059]\n",
      "XGBoost Average RMSE: 181.93477722442702\n"
     ]
    }
   ],
   "source": [
    "import xgboost as xgb\n",
    "from sklearn.model_selection import KFold, cross_val_score\n",
    "\n",
    "xgb_model = xgb.XGBRegressor()\n",
    "\n",
    "kf = KFold(n_splits=10, shuffle=True, random_state=42)\n",
    "xgb_scores = cross_val_score(xgb_model, final_df, y.ravel(), cv=kf, scoring='neg_mean_squared_error')\n",
    "xgb_rmse_scores = np.sqrt(-xgb_scores)\n",
    "\n",
    "print(f\"XGBoost RMSE scores per fold: {xgb_rmse_scores}\")\n",
    "print(f\"XGBoost Average RMSE: {xgb_rmse_scores.mean()}\")"
   ]
  },
  {
   "cell_type": "code",
   "execution_count": 28,
   "metadata": {},
   "outputs": [
    {
     "name": "stdout",
     "output_type": "stream",
     "text": [
      "Feature Importance:\n",
      "PREZZO_PROMO: 0.07973040640354156\n",
      "PREZZO_LISTINO: 0.015998519957065582\n",
      "STOCK_PZ: 0.008429051376879215\n",
      "SCONTO_PERC: 0.046168792992830276\n",
      "KPI_1: 0.012669000774621964\n",
      "KPI_2: 0.009366994723677635\n",
      "KPI_3: 0.012493573129177094\n",
      "KPI_4: 0.02263393998146057\n",
      "KPI_5: 0.009812884032726288\n",
      "QTA_storico: 0.012135456316173077\n",
      "FATTURATO_storico: 0.008450315333902836\n",
      "DURATA_VOLANTINO_IN_GIORNI: 0.10825470089912415\n",
      "TYPE: 0.000523527676705271\n",
      "TOPLOADING: 0.10810583084821701\n",
      "LOADING_KG: 0.014831963926553726\n",
      "ENERGY_CLASS: 0.08609554916620255\n",
      "DEPTH_CM>48: 0.024483684450387955\n",
      "SMART_CONNECT: 0.024477439001202583\n",
      "SCONTO_PERC_MEDIO_VOLANTINO: 0.010701475664973259\n",
      "Month_Redditivity: 0.07567855715751648\n",
      "SCONTO_PERC_MEDIO_NOME_CAMPAGNA: 0.018364695832133293\n",
      "TIPOLOGIA_PRODOTTO_ND: 0.007295545190572739\n",
      "TIPOLOGIA_PRODOTTO_Principale: 0.015408295206725597\n",
      "TIPOLOGIA_PRODOTTO_Sostitutivo: 0.03589335456490517\n",
      "Year_2018: 0.1455061435699463\n",
      "Year_2019: 0.028043435886502266\n",
      "Year_2021: 0.023271625861525536\n",
      "Year_2022: 0.01821000501513481\n",
      "Year_2023: 0.016965212300419807\n"
     ]
    }
   ],
   "source": [
    "xgb_model = xgb.XGBRegressor()\n",
    "xgb_model.fit(final_df, y.ravel())\n",
    "\n",
    "print(\"Feature Importance:\")\n",
    "for feature, importance in zip(final_df.columns, xgb_model.feature_importances_):\n",
    "    print(f\"{feature}: {importance}\")"
   ]
  },
  {
   "cell_type": "markdown",
   "metadata": {},
   "source": [
    "# CORE WEAR"
   ]
  },
  {
   "cell_type": "code",
   "execution_count": 29,
   "metadata": {},
   "outputs": [],
   "source": [
    "core_wear = pd.read_csv('./Working Code/Datasets/core_wear1.csv')\n",
    "core_wear['DATA_INIZIO'] = pd.to_datetime(core_wear['DATA_INIZIO'])\n",
    "core_wear['Year'] = core_wear['DATA_INIZIO'].dt.year\n",
    "core_wear = core_wear[core_wear['Year'] != 2020].reset_index()  #EXCLUDE YEAR 2020\n",
    "core_wear.drop('index', axis=1, inplace=True)"
   ]
  },
  {
   "cell_type": "code",
   "execution_count": 30,
   "metadata": {},
   "outputs": [],
   "source": [
    "X = core_wear[['PREZZO_PROMO', 'PREZZO_LISTINO', 'STOCK_PZ',\n",
    "        'TIPOLOGIA_PRODOTTO','SCONTO_PERC', 'KPI_1',\n",
    "        'KPI_2', 'KPI_3', 'KPI_4', 'KPI_5', 'QTA_storico',\n",
    "        'FATTURATO_storico', 'DURATA_VOLANTINO_IN_GIORNI',\n",
    "        'DISPLAY_QUALITY', 'BLUETOOTH', 'WIFI', 'DISPLAY_SIZE',\n",
    "        'SCONTO_PERC_MEDIO_VOLANTINO', 'Month_Redditivity', 'Year', 'SCONTO_PERC_MEDIO_NOME_CAMPAGNA']]\n",
    "y = core_wear[['QTA']].values\n",
    "\n",
    "from sklearn.preprocessing import OneHotEncoder\n",
    "ohe = OneHotEncoder(sparse = False)\n",
    "oheTransform = ohe.fit_transform(X[['TIPOLOGIA_PRODOTTO', 'Year']])\n",
    "oheTransform = pd.DataFrame(oheTransform, columns=ohe.get_feature_names_out())\n",
    "\n",
    "final_df = pd.concat([X, oheTransform], axis=1)\n",
    "\n",
    "final_df = final_df.drop(['TIPOLOGIA_PRODOTTO', 'Year'], axis = 1)"
   ]
  },
  {
   "cell_type": "markdown",
   "metadata": {},
   "source": [
    "## BENCHMARK"
   ]
  },
  {
   "cell_type": "code",
   "execution_count": 31,
   "metadata": {},
   "outputs": [
    {
     "name": "stdout",
     "output_type": "stream",
     "text": [
      "RMSE = 299.85758113598865\n"
     ]
    }
   ],
   "source": [
    "from sklearn.metrics import mean_squared_error as mse\n",
    "\n",
    "bench = core_wear.copy(deep=True)\n",
    "bench = bench.dropna(subset=['QTA'])\n",
    "bench['Previsione'] = bench['QTA_storico']/30\n",
    "bench['Previsione'] *= bench['DURATA_VOLANTINO_IN_GIORNI']\n",
    "\n",
    "rmse = np.sqrt(mse(bench['QTA'], bench['Previsione']))\n",
    "\n",
    "print(f'RMSE = {rmse}')"
   ]
  },
  {
   "cell_type": "markdown",
   "metadata": {},
   "source": [
    "## LINEAR REGRESSION"
   ]
  },
  {
   "cell_type": "code",
   "execution_count": 32,
   "metadata": {},
   "outputs": [
    {
     "name": "stdout",
     "output_type": "stream",
     "text": [
      "Linear Regression RMSE scores per fold: [286.18155151 157.02504165 191.68184059 329.38280846 198.99742458\n",
      " 198.952401   152.31912906 168.8486142  306.32869187 214.73634579]\n",
      "Linear Regression Average RMSE: 220.44538486949764\n"
     ]
    }
   ],
   "source": [
    "from sklearn.model_selection import KFold\n",
    "from sklearn.model_selection import cross_val_score\n",
    "from sklearn.linear_model import LinearRegression\n",
    "from sklearn.preprocessing import StandardScaler\n",
    "\n",
    "scaler = StandardScaler()\n",
    "final_df_scaled = scaler.fit_transform(final_df)\n",
    "\n",
    "kf = KFold(n_splits=10, shuffle=True, random_state=42)\n",
    "lr = LinearRegression()\n",
    "\n",
    "lr_scores = cross_val_score(lr, final_df_scaled, y, cv=kf, scoring='neg_mean_squared_error')\n",
    "lr_rmse_scores = np.sqrt(-lr_scores)\n",
    "\n",
    "print(f\"Linear Regression RMSE scores per fold: {lr_rmse_scores}\")\n",
    "print(f\"Linear Regression Average RMSE: {lr_rmse_scores.mean()}\")"
   ]
  },
  {
   "cell_type": "code",
   "execution_count": 33,
   "metadata": {},
   "outputs": [
    {
     "name": "stdout",
     "output_type": "stream",
     "text": [
      "\n",
      "Coefficients:\n",
      "PREZZO_PROMO: 98.76942075548955\n",
      "PREZZO_LISTINO: -120.25578965319983\n",
      "STOCK_PZ: 172.84355406670508\n",
      "SCONTO_PERC: 31.674855487402684\n",
      "KPI_1: 53.45898917636532\n",
      "KPI_2: 30.501884647262248\n",
      "KPI_3: 33.84223429559056\n",
      "KPI_4: 3.568766656487847\n",
      "KPI_5: -5.021659765250094\n",
      "QTA_storico: 106.91214678102695\n",
      "FATTURATO_storico: -17.61006143503543\n",
      "DURATA_VOLANTINO_IN_GIORNI: 22.936144208873966\n",
      "DISPLAY_QUALITY: 8.450273393112631\n",
      "BLUETOOTH: -5.071175256340083\n",
      "WIFI: -4.869931019605111\n",
      "DISPLAY_SIZE: -33.54502867951699\n",
      "SCONTO_PERC_MEDIO_VOLANTINO: 17.955564453137924\n",
      "Month_Redditivity: 4.907844145792728\n",
      "SCONTO_PERC_MEDIO_NOME_CAMPAGNA: -3.5131688051390264\n",
      "TIPOLOGIA_PRODOTTO_ND: -43535851570465.05\n",
      "TIPOLOGIA_PRODOTTO_Principale: -35676650104562.27\n",
      "TIPOLOGIA_PRODOTTO_Sostitutivo: -40765676292911.47\n",
      "Year_2018: -38451276107868.98\n",
      "Year_2019: -50095131963803.484\n",
      "Year_2021: -74254283560557.83\n",
      "Year_2022: -82949759937764.72\n",
      "Year_2023: -74075575230608.8\n"
     ]
    }
   ],
   "source": [
    "column_names = final_df.columns.tolist()\n",
    "\n",
    "lr.fit(final_df_scaled, y)\n",
    "\n",
    "print(\"\\nCoefficients:\")\n",
    "for feature, coef in zip(column_names, lr.coef_.tolist()[0]):\n",
    "    print(f\"{feature}: {coef}\")"
   ]
  },
  {
   "cell_type": "markdown",
   "metadata": {},
   "source": [
    "## RANDOM FOREST"
   ]
  },
  {
   "cell_type": "code",
   "execution_count": 34,
   "metadata": {},
   "outputs": [
    {
     "name": "stdout",
     "output_type": "stream",
     "text": [
      "Random Forest RMSE scores per fold: [195.07541693 132.79187775 164.22345511 411.14029576 198.31436502\n",
      " 152.18492202 110.36987209 137.04648358 178.9486731  175.53519491]\n",
      "Random Forest Average RMSE: 185.56305562792596\n"
     ]
    }
   ],
   "source": [
    "from sklearn.model_selection import KFold\n",
    "from sklearn.model_selection import cross_val_score\n",
    "from sklearn.ensemble import RandomForestRegressor\n",
    "\n",
    "kf = KFold(n_splits=10, shuffle=True, random_state=42)\n",
    "rfr = RandomForestRegressor()\n",
    "\n",
    "rfr_scores = cross_val_score(rfr, final_df, y, cv=kf, scoring='neg_mean_squared_error')\n",
    "rfr_rmse_scores = np.sqrt(-rfr_scores)\n",
    "\n",
    "print(f\"Random Forest RMSE scores per fold: {rfr_rmse_scores}\")\n",
    "print(f\"Random Forest Average RMSE: {rfr_rmse_scores.mean()}\")"
   ]
  },
  {
   "cell_type": "code",
   "execution_count": 35,
   "metadata": {},
   "outputs": [
    {
     "name": "stdout",
     "output_type": "stream",
     "text": [
      "Feature Importance:\n",
      "PREZZO_PROMO: 0.31066664232010216\n",
      "PREZZO_LISTINO: 0.02752283252820325\n",
      "STOCK_PZ: 0.2276110821421233\n",
      "SCONTO_PERC: 0.03377915436555159\n",
      "KPI_1: 0.03497119279752135\n",
      "KPI_2: 0.0216684491531623\n",
      "KPI_3: 0.02699292228308076\n",
      "KPI_4: 0.008877022936601338\n",
      "KPI_5: 0.008219348349458675\n",
      "QTA_storico: 0.1849766702838756\n",
      "FATTURATO_storico: 0.01412578910823588\n",
      "DURATA_VOLANTINO_IN_GIORNI: 0.022969333245935277\n",
      "DISPLAY_QUALITY: 0.0015800258627066222\n",
      "BLUETOOTH: 0.0004608266230238464\n",
      "WIFI: 0.0003831870840644018\n",
      "DISPLAY_SIZE: 0.014688626910138265\n",
      "SCONTO_PERC_MEDIO_VOLANTINO: 0.0175250270161127\n",
      "Month_Redditivity: 0.0213635840556108\n",
      "SCONTO_PERC_MEDIO_NOME_CAMPAGNA: 0.0061902801483887816\n",
      "TIPOLOGIA_PRODOTTO_ND: 0.001461834734450495\n",
      "TIPOLOGIA_PRODOTTO_Principale: 0.0030653954489799308\n",
      "TIPOLOGIA_PRODOTTO_Sostitutivo: 0.0011821031087579064\n",
      "Year_2018: 9.659982559716466e-05\n",
      "Year_2019: 0.0003718572780801043\n",
      "Year_2021: 0.005642967848932432\n",
      "Year_2022: 0.0013450428860344798\n",
      "Year_2023: 0.002262201655270533\n"
     ]
    }
   ],
   "source": [
    "rfr.fit(final_df, y)\n",
    "\n",
    "print(\"Feature Importance:\")\n",
    "for feature, importance in zip(final_df.columns, rfr.feature_importances_):\n",
    "    print(f\"{feature}: {importance}\")"
   ]
  },
  {
   "cell_type": "markdown",
   "metadata": {},
   "source": [
    "## XGBoost"
   ]
  },
  {
   "cell_type": "code",
   "execution_count": 36,
   "metadata": {},
   "outputs": [
    {
     "name": "stdout",
     "output_type": "stream",
     "text": [
      "XGBoost RMSE scores per fold: [181.26279544 123.94969863 161.58015532 412.02222921 198.50525477\n",
      " 256.92790251  96.57978877 109.05872309 183.02550201 164.49379137]\n",
      "XGBoost Average RMSE: 188.74058411095092\n"
     ]
    }
   ],
   "source": [
    "import xgboost as xgb\n",
    "from sklearn.model_selection import KFold, cross_val_score\n",
    "\n",
    "xgb_model = xgb.XGBRegressor()\n",
    "\n",
    "kf = KFold(n_splits=10, shuffle=True, random_state=42)\n",
    "xgb_scores = cross_val_score(xgb_model, final_df, y.ravel(), cv=kf, scoring='neg_mean_squared_error')\n",
    "xgb_rmse_scores = np.sqrt(-xgb_scores)\n",
    "\n",
    "print(f\"XGBoost RMSE scores per fold: {xgb_rmse_scores}\")\n",
    "print(f\"XGBoost Average RMSE: {xgb_rmse_scores.mean()}\")"
   ]
  },
  {
   "cell_type": "code",
   "execution_count": 37,
   "metadata": {},
   "outputs": [
    {
     "name": "stdout",
     "output_type": "stream",
     "text": [
      "Feature Importance:\n",
      "PREZZO_PROMO: 0.2601602375507355\n",
      "PREZZO_LISTINO: 0.020450409501791\n",
      "STOCK_PZ: 0.06115761026740074\n",
      "SCONTO_PERC: 0.01252376101911068\n",
      "KPI_1: 0.04126065596938133\n",
      "KPI_2: 0.026684671640396118\n",
      "KPI_3: 0.008171679452061653\n",
      "KPI_4: 0.011483368463814259\n",
      "KPI_5: 0.00778677174821496\n",
      "QTA_storico: 0.10698121041059494\n",
      "FATTURATO_storico: 0.006918222643435001\n",
      "DURATA_VOLANTINO_IN_GIORNI: 0.029554707929491997\n",
      "DISPLAY_QUALITY: 0.018456213176250458\n",
      "BLUETOOTH: 0.0029159041587263346\n",
      "WIFI: 0.002270021243020892\n",
      "DISPLAY_SIZE: 0.01585221104323864\n",
      "SCONTO_PERC_MEDIO_VOLANTINO: 0.015196160413324833\n",
      "Month_Redditivity: 0.02552313543856144\n",
      "SCONTO_PERC_MEDIO_NOME_CAMPAGNA: 0.004435498733073473\n",
      "TIPOLOGIA_PRODOTTO_ND: 0.22508850693702698\n",
      "TIPOLOGIA_PRODOTTO_Principale: 0.005218462087213993\n",
      "TIPOLOGIA_PRODOTTO_Sostitutivo: 0.01920890249311924\n",
      "Year_2018: 0.0002370686415815726\n",
      "Year_2019: 0.006637048441916704\n",
      "Year_2021: 0.049451082944869995\n",
      "Year_2022: 0.0010244565783068538\n",
      "Year_2023: 0.015352035872638226\n"
     ]
    }
   ],
   "source": [
    "xgb_model = xgb.XGBRegressor()\n",
    "xgb_model.fit(final_df, y.ravel())\n",
    "\n",
    "print(\"Feature Importance:\")\n",
    "for feature, importance in zip(final_df.columns, xgb_model.feature_importances_):\n",
    "    print(f\"{feature}: {importance}\")"
   ]
  },
  {
   "cell_type": "markdown",
   "metadata": {},
   "source": [
    "# TV"
   ]
  },
  {
   "cell_type": "code",
   "execution_count": 38,
   "metadata": {},
   "outputs": [],
   "source": [
    "tv = pd.read_csv('./Working Code/Datasets/tv1.csv') \n",
    "tv['DATA_INIZIO'] = pd.to_datetime(tv['DATA_INIZIO'])\n",
    "tv['Year'] = tv['DATA_INIZIO'].dt.year\n",
    "tv = tv[tv['Year'] != 2020].reset_index()  #EXCLUDE YEAR 2020\n",
    "tv.drop('index', axis=1, inplace=True) "
   ]
  },
  {
   "cell_type": "code",
   "execution_count": 39,
   "metadata": {},
   "outputs": [],
   "source": [
    "X = tv[['PREZZO_PROMO', 'PREZZO_LISTINO', 'STOCK_PZ',\n",
    "        'SCONTO_PERC', 'KPI_1',\n",
    "        'KPI_2', 'KPI_3', 'KPI_4', 'KPI_5', 'QTA_storico',\n",
    "        'FATTURATO_storico', 'DURATA_VOLANTINO_IN_GIORNI',\n",
    "        'DISPLAY_SIZE', 'HD_QUALITY', 'OLED', 'SMART',\n",
    "        'MFM', 'WCG', 'MINILED', 'SCONTO_PERC_MEDIO_VOLANTINO', 'Month_Redditivity',\n",
    "        'Year', 'SCONTO_PERC_MEDIO_NOME_CAMPAGNA']]\n",
    "y = tv[['QTA']].values\n",
    "\n",
    "from sklearn.preprocessing import OneHotEncoder\n",
    "ohe = OneHotEncoder(sparse = False)\n",
    "oheTransform = ohe.fit_transform(X[['Year']])\n",
    "oheTransform = pd.DataFrame(oheTransform, columns=ohe.get_feature_names_out())\n",
    "\n",
    "final_df = pd.concat([X, oheTransform], axis=1)\n",
    "\n",
    "final_df = final_df.drop(['Year'], axis = 1)"
   ]
  },
  {
   "cell_type": "markdown",
   "metadata": {},
   "source": [
    "## BENCHMARK"
   ]
  },
  {
   "cell_type": "code",
   "execution_count": 40,
   "metadata": {},
   "outputs": [
    {
     "name": "stdout",
     "output_type": "stream",
     "text": [
      "RMSE = 399.47158405944776\n"
     ]
    }
   ],
   "source": [
    "from sklearn.metrics import mean_squared_error as mse\n",
    "\n",
    "bench = tv.copy(deep=True)\n",
    "bench = bench.dropna(subset=['QTA'])\n",
    "bench['Previsione'] = bench['QTA_storico']/30\n",
    "bench['Previsione'] *= bench['DURATA_VOLANTINO_IN_GIORNI']\n",
    "\n",
    "rmse = np.sqrt(mse(bench['QTA'], bench['Previsione']))\n",
    "\n",
    "print(f'RMSE = {rmse}')"
   ]
  },
  {
   "cell_type": "markdown",
   "metadata": {},
   "source": [
    "## LINEAR REGRESSION"
   ]
  },
  {
   "cell_type": "code",
   "execution_count": 41,
   "metadata": {},
   "outputs": [
    {
     "name": "stdout",
     "output_type": "stream",
     "text": [
      "Linear Regression RMSE scores per fold: [323.19336451 303.4929569  290.20487487 278.39455518 302.6866927\n",
      " 255.77998823 511.38986648 263.63394978 236.59929532 231.34397537]\n",
      "Linear Regression Average RMSE: 299.67195193289814\n"
     ]
    }
   ],
   "source": [
    "from sklearn.model_selection import KFold\n",
    "from sklearn.model_selection import cross_val_score\n",
    "from sklearn.linear_model import LinearRegression\n",
    "from sklearn.preprocessing import StandardScaler\n",
    "\n",
    "scaler = StandardScaler()\n",
    "final_df_scaled = scaler.fit_transform(final_df)\n",
    "\n",
    "kf = KFold(n_splits=10, shuffle=True, random_state=42)\n",
    "lr = LinearRegression()\n",
    "\n",
    "lr_scores = cross_val_score(lr, final_df_scaled, y, cv=kf, scoring='neg_mean_squared_error')\n",
    "lr_rmse_scores = np.sqrt(-lr_scores)\n",
    "\n",
    "print(f\"Linear Regression RMSE scores per fold: {lr_rmse_scores}\")\n",
    "print(f\"Linear Regression Average RMSE: {lr_rmse_scores.mean()}\")"
   ]
  },
  {
   "cell_type": "code",
   "execution_count": 42,
   "metadata": {},
   "outputs": [
    {
     "name": "stdout",
     "output_type": "stream",
     "text": [
      "\n",
      "Coefficients:\n",
      "PREZZO_PROMO: 13.461367386992\n",
      "PREZZO_LISTINO: -44.91865518041408\n",
      "STOCK_PZ: 84.8258116630344\n",
      "SCONTO_PERC: 51.521336080735125\n",
      "KPI_1: 25.85859016291787\n",
      "KPI_2: -9.963507614180248\n",
      "KPI_3: 23.599443926610114\n",
      "KPI_4: -2.2649740071414093\n",
      "KPI_5: 25.2318926995451\n",
      "QTA_storico: 80.75212810112525\n",
      "FATTURATO_storico: -24.988800415182077\n",
      "DURATA_VOLANTINO_IN_GIORNI: 75.26224338203362\n",
      "DISPLAY_SIZE: -49.685395266951694\n",
      "HD_QUALITY: -95.44720563821251\n",
      "OLED: -5.903102106975784\n",
      "SMART: 38.6570945015274\n",
      "MFM: -4.429267106091771\n",
      "WCG: -24.738847318594967\n",
      "MINILED: -2.5602444291931747\n",
      "SCONTO_PERC_MEDIO_VOLANTINO: 22.735144577536396\n",
      "Month_Redditivity: 33.43352084557082\n",
      "SCONTO_PERC_MEDIO_NOME_CAMPAGNA: 32.421504864508854\n",
      "Year_2018: 13.92113265049297\n",
      "Year_2019: -15.033746589628688\n",
      "Year_2021: 33.83521689554803\n",
      "Year_2022: 10.932122455674271\n",
      "Year_2023: -48.7363282235248\n"
     ]
    }
   ],
   "source": [
    "column_names = final_df.columns.tolist()\n",
    "\n",
    "lr.fit(final_df_scaled, y)\n",
    "\n",
    "print(\"\\nCoefficients:\")\n",
    "for feature, coef in zip(column_names, lr.coef_.tolist()[0]):\n",
    "    print(f\"{feature}: {coef}\")"
   ]
  },
  {
   "cell_type": "markdown",
   "metadata": {},
   "source": [
    "## RANDOM FOREST"
   ]
  },
  {
   "cell_type": "code",
   "execution_count": 43,
   "metadata": {},
   "outputs": [
    {
     "name": "stdout",
     "output_type": "stream",
     "text": [
      "Random Forest RMSE scores per fold: [334.15114318 303.59344077 308.92988125 267.0012453  297.44900724\n",
      " 262.11265741 465.43973154 223.46950925 241.7487937  235.63828323]\n",
      "Random Forest Average RMSE: 293.953369288072\n"
     ]
    }
   ],
   "source": [
    "from sklearn.model_selection import KFold\n",
    "from sklearn.model_selection import cross_val_score\n",
    "from sklearn.ensemble import RandomForestRegressor\n",
    "\n",
    "kf = KFold(n_splits=10, shuffle=True, random_state=42)\n",
    "rfr = RandomForestRegressor()\n",
    "\n",
    "rfr_scores = cross_val_score(rfr, final_df, y, cv=kf, scoring='neg_mean_squared_error')\n",
    "rfr_rmse_scores = np.sqrt(-rfr_scores)\n",
    "\n",
    "print(f\"Random Forest RMSE scores per fold: {rfr_rmse_scores}\")\n",
    "print(f\"Random Forest Average RMSE: {rfr_rmse_scores.mean()}\")"
   ]
  },
  {
   "cell_type": "code",
   "execution_count": 44,
   "metadata": {},
   "outputs": [
    {
     "name": "stdout",
     "output_type": "stream",
     "text": [
      "Feature Importance:\n",
      "PREZZO_PROMO: 0.20615782672206545\n",
      "PREZZO_LISTINO: 0.04624224379539963\n",
      "STOCK_PZ: 0.11674017744571674\n",
      "SCONTO_PERC: 0.06578978319793716\n",
      "KPI_1: 0.04103109099628173\n",
      "KPI_2: 0.030679218888065362\n",
      "KPI_3: 0.046644665086384964\n",
      "KPI_4: 0.023669268632608743\n",
      "KPI_5: 0.026801472589663845\n",
      "QTA_storico: 0.1720575695702539\n",
      "FATTURATO_storico: 0.049204926158081905\n",
      "DURATA_VOLANTINO_IN_GIORNI: 0.026236307339956206\n",
      "DISPLAY_SIZE: 0.014348274305982438\n",
      "HD_QUALITY: 0.005680962823390373\n",
      "OLED: 0.00010753670461626869\n",
      "SMART: 0.0017941985702209925\n",
      "MFM: 0.0006533379908260178\n",
      "WCG: 0.0017291232676180878\n",
      "MINILED: 4.85796898606418e-05\n",
      "SCONTO_PERC_MEDIO_VOLANTINO: 0.06376400058840286\n",
      "Month_Redditivity: 0.00947478555599921\n",
      "SCONTO_PERC_MEDIO_NOME_CAMPAGNA: 0.021350043942431042\n",
      "Year_2018: 0.003344725310835771\n",
      "Year_2019: 0.0033893855376835526\n",
      "Year_2021: 0.007205252412137268\n",
      "Year_2022: 0.010532957179222641\n",
      "Year_2023: 0.005322285698357097\n"
     ]
    }
   ],
   "source": [
    "rfr.fit(final_df, y)\n",
    "\n",
    "print(\"Feature Importance:\")\n",
    "for feature, importance in zip(final_df.columns, rfr.feature_importances_):\n",
    "    print(f\"{feature}: {importance}\")"
   ]
  },
  {
   "cell_type": "markdown",
   "metadata": {},
   "source": [
    "## XGBoost"
   ]
  },
  {
   "cell_type": "code",
   "execution_count": 45,
   "metadata": {},
   "outputs": [
    {
     "name": "stdout",
     "output_type": "stream",
     "text": [
      "XGBoost RMSE scores per fold: [327.54174752 276.20433432 318.03415787 269.32311311 267.39492737\n",
      " 281.98693439 467.6297806  235.41796955 248.16342783 239.64891818]\n",
      "XGBoost Average RMSE: 293.13453107499697\n"
     ]
    }
   ],
   "source": [
    "import xgboost as xgb\n",
    "from sklearn.model_selection import KFold, cross_val_score\n",
    "\n",
    "xgb_model = xgb.XGBRegressor()\n",
    "\n",
    "kf = KFold(n_splits=10, shuffle=True, random_state=42)\n",
    "xgb_scores = cross_val_score(xgb_model, final_df, y.ravel(), cv=kf, scoring='neg_mean_squared_error')\n",
    "xgb_rmse_scores = np.sqrt(-xgb_scores)\n",
    "\n",
    "print(f\"XGBoost RMSE scores per fold: {xgb_rmse_scores}\")\n",
    "print(f\"XGBoost Average RMSE: {xgb_rmse_scores.mean()}\")"
   ]
  },
  {
   "cell_type": "code",
   "execution_count": 46,
   "metadata": {},
   "outputs": [
    {
     "name": "stdout",
     "output_type": "stream",
     "text": [
      "Feature Importance:\n",
      "PREZZO_PROMO: 0.08433965593576431\n",
      "PREZZO_LISTINO: 0.014649502001702785\n",
      "STOCK_PZ: 0.026334092020988464\n",
      "SCONTO_PERC: 0.029544295743107796\n",
      "KPI_1: 0.010828118771314621\n",
      "KPI_2: 0.02727380022406578\n",
      "KPI_3: 0.03201192989945412\n",
      "KPI_4: 0.009447255171835423\n",
      "KPI_5: 0.014794709160923958\n",
      "QTA_storico: 0.07458850741386414\n",
      "FATTURATO_storico: 0.013800864107906818\n",
      "DURATA_VOLANTINO_IN_GIORNI: 0.03268468379974365\n",
      "DISPLAY_SIZE: 0.02062912844121456\n",
      "HD_QUALITY: 0.027758410200476646\n",
      "OLED: 0.0007654921500943601\n",
      "SMART: 0.04148885980248451\n",
      "MFM: 0.1664208471775055\n",
      "WCG: 0.003943315707147121\n",
      "MINILED: 0.00043265652493573725\n",
      "SCONTO_PERC_MEDIO_VOLANTINO: 0.04337825998663902\n",
      "Month_Redditivity: 0.024125369265675545\n",
      "SCONTO_PERC_MEDIO_NOME_CAMPAGNA: 0.03452567383646965\n",
      "Year_2018: 0.013891573995351791\n",
      "Year_2019: 0.020845696330070496\n",
      "Year_2021: 0.06358927488327026\n",
      "Year_2022: 0.10309073328971863\n",
      "Year_2023: 0.06481732428073883\n"
     ]
    }
   ],
   "source": [
    "xgb_model = xgb.XGBRegressor()\n",
    "xgb_model.fit(final_df, y.ravel())\n",
    "\n",
    "print(\"Feature Importance:\")\n",
    "for feature, importance in zip(final_df.columns, xgb_model.feature_importances_):\n",
    "    print(f\"{feature}: {importance}\")"
   ]
  }
 ],
 "metadata": {
  "kernelspec": {
   "display_name": "base",
   "language": "python",
   "name": "python3"
  },
  "language_info": {
   "codemirror_mode": {
    "name": "ipython",
    "version": 3
   },
   "file_extension": ".py",
   "mimetype": "text/x-python",
   "name": "python",
   "nbconvert_exporter": "python",
   "pygments_lexer": "ipython3",
   "version": "3.9.13"
  }
 },
 "nbformat": 4,
 "nbformat_minor": 2
}
