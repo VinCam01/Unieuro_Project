{
 "cells": [
  {
   "cell_type": "markdown",
   "metadata": {},
   "source": [
    "In the previous notebooks we modified the train data.\n",
    "\n",
    "In the following notebook we apply the same modifications to the test data in order to calculate sales predictions."
   ]
  },
  {
   "cell_type": "markdown",
   "metadata": {},
   "source": [
    "# DATA CLEANING & CREAZIONE DATASET"
   ]
  },
  {
   "cell_type": "markdown",
   "metadata": {},
   "source": [
    "## IMPORT"
   ]
  },
  {
   "cell_type": "code",
   "execution_count": 1,
   "metadata": {},
   "outputs": [],
   "source": [
    "import pandas as pd\n",
    "import matplotlib.pyplot as plt\n",
    "import seaborn as sns\n",
    "from pandas import Timedelta\n",
    "import numpy as np\n",
    "import warnings\n",
    "warnings.filterwarnings(\"ignore\")\n",
    "\n",
    "\n",
    "pd.set_option('display.max_columns', None)"
   ]
  },
  {
   "cell_type": "code",
   "execution_count": 2,
   "metadata": {},
   "outputs": [],
   "source": [
    "ice = pd.read_csv('./Working Code/Datasets/icecat_caratteristiche_test.csv')\n",
    "kpi = pd.read_csv('./Working Code/Datasets/kpi_prodotti_volantini_test.csv')\n",
    "anagrafica = pd.read_csv('./Working Code/Datasets/anagrafica_volantini_test.csv', encoding='ISO-8859-1')\n",
    "storico = pd.read_csv('./Working Code/Datasets/storico_quantita_test.csv')\n",
    "gfk = pd.read_csv('./Working Code/Datasets/gfk_caratteristiche_test.csv')"
   ]
  },
  {
   "cell_type": "markdown",
   "metadata": {},
   "source": [
    "## DATA CLEANING"
   ]
  },
  {
   "cell_type": "markdown",
   "metadata": {},
   "source": [
    "### ICE"
   ]
  },
  {
   "cell_type": "code",
   "execution_count": 3,
   "metadata": {},
   "outputs": [
    {
     "data": {
      "text/html": [
       "<div>\n",
       "<style scoped>\n",
       "    .dataframe tbody tr th:only-of-type {\n",
       "        vertical-align: middle;\n",
       "    }\n",
       "\n",
       "    .dataframe tbody tr th {\n",
       "        vertical-align: top;\n",
       "    }\n",
       "\n",
       "    .dataframe thead th {\n",
       "        text-align: right;\n",
       "    }\n",
       "</style>\n",
       "<table border=\"1\" class=\"dataframe\">\n",
       "  <thead>\n",
       "    <tr style=\"text-align: right;\">\n",
       "      <th></th>\n",
       "      <th>ART_COD</th>\n",
       "      <th>name</th>\n",
       "      <th>title</th>\n",
       "      <th>description</th>\n",
       "      <th>macro_feature_cod</th>\n",
       "      <th>macro_feature_des</th>\n",
       "      <th>feature_cod</th>\n",
       "      <th>feature_des</th>\n",
       "      <th>feature_value</th>\n",
       "      <th>feature_value_nounit</th>\n",
       "      <th>feature_value_unit_cod</th>\n",
       "      <th>feature_value_unit_des</th>\n",
       "      <th>feature_value_type</th>\n",
       "    </tr>\n",
       "  </thead>\n",
       "  <tbody>\n",
       "    <tr>\n",
       "      <th>0</th>\n",
       "      <td>CANCST360L01</td>\n",
       "      <td>CST 360L-01</td>\n",
       "      <td>Candy Smart CST 360L-01 lavatrice Caricamento ...</td>\n",
       "      <td>Smart\\nCandy crede nell'importanza del godersi...</td>\n",
       "      <td>1829</td>\n",
       "      <td>Gestione energetica</td>\n",
       "      <td>2494</td>\n",
       "      <td>Consumo di energia per lavaggio</td>\n",
       "      <td>0.765 kWh</td>\n",
       "      <td>0.765</td>\n",
       "      <td>173.0</td>\n",
       "      <td>kWh</td>\n",
       "      <td>number</td>\n",
       "    </tr>\n",
       "    <tr>\n",
       "      <th>1</th>\n",
       "      <td>CANCST360L01</td>\n",
       "      <td>CST 360L-01</td>\n",
       "      <td>Candy Smart CST 360L-01 lavatrice Caricamento ...</td>\n",
       "      <td>Smart\\nCandy crede nell'importanza del godersi...</td>\n",
       "      <td>1829</td>\n",
       "      <td>Gestione energetica</td>\n",
       "      <td>8491</td>\n",
       "      <td>Tensione di ingresso AC</td>\n",
       "      <td>220 - 240 V</td>\n",
       "      <td>220 - 240</td>\n",
       "      <td>379.0</td>\n",
       "      <td>V</td>\n",
       "      <td>text</td>\n",
       "    </tr>\n",
       "    <tr>\n",
       "      <th>2</th>\n",
       "      <td>CANCST360L01</td>\n",
       "      <td>CST 360L-01</td>\n",
       "      <td>Candy Smart CST 360L-01 lavatrice Caricamento ...</td>\n",
       "      <td>Smart\\nCandy crede nell'importanza del godersi...</td>\n",
       "      <td>1829</td>\n",
       "      <td>Gestione energetica</td>\n",
       "      <td>8484</td>\n",
       "      <td>Frequenza di ingresso AC</td>\n",
       "      <td>50 Hz</td>\n",
       "      <td>50</td>\n",
       "      <td>130.0</td>\n",
       "      <td>Hz</td>\n",
       "      <td>text</td>\n",
       "    </tr>\n",
       "    <tr>\n",
       "      <th>3</th>\n",
       "      <td>CANCST360L01</td>\n",
       "      <td>CST 360L-01</td>\n",
       "      <td>Candy Smart CST 360L-01 lavatrice Caricamento ...</td>\n",
       "      <td>Smart\\nCandy crede nell'importanza del godersi...</td>\n",
       "      <td>1829</td>\n",
       "      <td>Gestione energetica</td>\n",
       "      <td>2034</td>\n",
       "      <td>Consumi (modalità spento)</td>\n",
       "      <td>0.2 W</td>\n",
       "      <td>0.2</td>\n",
       "      <td>387.0</td>\n",
       "      <td>W</td>\n",
       "      <td>number</td>\n",
       "    </tr>\n",
       "    <tr>\n",
       "      <th>4</th>\n",
       "      <td>CANCST360L01</td>\n",
       "      <td>CST 360L-01</td>\n",
       "      <td>Candy Smart CST 360L-01 lavatrice Caricamento ...</td>\n",
       "      <td>Smart\\nCandy crede nell'importanza del godersi...</td>\n",
       "      <td>1829</td>\n",
       "      <td>Gestione energetica</td>\n",
       "      <td>2036</td>\n",
       "      <td>Consumi (modalità stand-by)</td>\n",
       "      <td>1 W</td>\n",
       "      <td>1</td>\n",
       "      <td>387.0</td>\n",
       "      <td>W</td>\n",
       "      <td>number</td>\n",
       "    </tr>\n",
       "  </tbody>\n",
       "</table>\n",
       "</div>"
      ],
      "text/plain": [
       "        ART_COD         name  \\\n",
       "0  CANCST360L01  CST 360L-01   \n",
       "1  CANCST360L01  CST 360L-01   \n",
       "2  CANCST360L01  CST 360L-01   \n",
       "3  CANCST360L01  CST 360L-01   \n",
       "4  CANCST360L01  CST 360L-01   \n",
       "\n",
       "                                               title  \\\n",
       "0  Candy Smart CST 360L-01 lavatrice Caricamento ...   \n",
       "1  Candy Smart CST 360L-01 lavatrice Caricamento ...   \n",
       "2  Candy Smart CST 360L-01 lavatrice Caricamento ...   \n",
       "3  Candy Smart CST 360L-01 lavatrice Caricamento ...   \n",
       "4  Candy Smart CST 360L-01 lavatrice Caricamento ...   \n",
       "\n",
       "                                         description  macro_feature_cod  \\\n",
       "0  Smart\\nCandy crede nell'importanza del godersi...               1829   \n",
       "1  Smart\\nCandy crede nell'importanza del godersi...               1829   \n",
       "2  Smart\\nCandy crede nell'importanza del godersi...               1829   \n",
       "3  Smart\\nCandy crede nell'importanza del godersi...               1829   \n",
       "4  Smart\\nCandy crede nell'importanza del godersi...               1829   \n",
       "\n",
       "     macro_feature_des  feature_cod                      feature_des  \\\n",
       "0  Gestione energetica         2494  Consumo di energia per lavaggio   \n",
       "1  Gestione energetica         8491          Tensione di ingresso AC   \n",
       "2  Gestione energetica         8484         Frequenza di ingresso AC   \n",
       "3  Gestione energetica         2034        Consumi (modalità spento)   \n",
       "4  Gestione energetica         2036      Consumi (modalità stand-by)   \n",
       "\n",
       "  feature_value feature_value_nounit feature_value_unit_cod  \\\n",
       "0     0.765 kWh                0.765                  173.0   \n",
       "1   220 - 240 V            220 - 240                  379.0   \n",
       "2         50 Hz                   50                  130.0   \n",
       "3         0.2 W                  0.2                  387.0   \n",
       "4           1 W                    1                  387.0   \n",
       "\n",
       "  feature_value_unit_des feature_value_type  \n",
       "0                    kWh             number  \n",
       "1                      V               text  \n",
       "2                     Hz               text  \n",
       "3                      W             number  \n",
       "4                      W             number  "
      ]
     },
     "execution_count": 3,
     "metadata": {},
     "output_type": "execute_result"
    }
   ],
   "source": [
    "ice.head()"
   ]
  },
  {
   "cell_type": "code",
   "execution_count": 4,
   "metadata": {},
   "outputs": [
    {
     "name": "stdout",
     "output_type": "stream",
     "text": [
      "<class 'pandas.core.frame.DataFrame'>\n",
      "RangeIndex: 491277 entries, 0 to 491276\n",
      "Data columns (total 13 columns):\n",
      " #   Column                  Non-Null Count   Dtype \n",
      "---  ------                  --------------   ----- \n",
      " 0   ART_COD                 491277 non-null  object\n",
      " 1   name                    491277 non-null  object\n",
      " 2   title                   491277 non-null  object\n",
      " 3   description             491153 non-null  object\n",
      " 4   macro_feature_cod       491277 non-null  int64 \n",
      " 5   macro_feature_des       491277 non-null  object\n",
      " 6   feature_cod             491277 non-null  int64 \n",
      " 7   feature_des             491277 non-null  object\n",
      " 8   feature_value           466447 non-null  object\n",
      " 9   feature_value_nounit    466444 non-null  object\n",
      " 10  feature_value_unit_cod  125171 non-null  object\n",
      " 11  feature_value_unit_des  125171 non-null  object\n",
      " 12  feature_value_type      491277 non-null  object\n",
      "dtypes: int64(2), object(11)\n",
      "memory usage: 48.7+ MB\n"
     ]
    }
   ],
   "source": [
    "ice.info()"
   ]
  },
  {
   "cell_type": "code",
   "execution_count": 5,
   "metadata": {},
   "outputs": [
    {
     "data": {
      "text/plain": [
       "71"
      ]
     },
     "execution_count": 5,
     "metadata": {},
     "output_type": "execute_result"
    }
   ],
   "source": [
    "ice['feature_value_unit_des'].nunique()"
   ]
  },
  {
   "cell_type": "code",
   "execution_count": 6,
   "metadata": {},
   "outputs": [
    {
     "data": {
      "text/html": [
       "<div>\n",
       "<style scoped>\n",
       "    .dataframe tbody tr th:only-of-type {\n",
       "        vertical-align: middle;\n",
       "    }\n",
       "\n",
       "    .dataframe tbody tr th {\n",
       "        vertical-align: top;\n",
       "    }\n",
       "\n",
       "    .dataframe thead th {\n",
       "        text-align: right;\n",
       "    }\n",
       "</style>\n",
       "<table border=\"1\" class=\"dataframe\">\n",
       "  <thead>\n",
       "    <tr style=\"text-align: right;\">\n",
       "      <th></th>\n",
       "      <th>macro_feature_cod</th>\n",
       "      <th>feature_cod</th>\n",
       "    </tr>\n",
       "  </thead>\n",
       "  <tbody>\n",
       "    <tr>\n",
       "      <th>count</th>\n",
       "      <td>491277.000000</td>\n",
       "      <td>491277.000000</td>\n",
       "    </tr>\n",
       "    <tr>\n",
       "      <th>mean</th>\n",
       "      <td>8948.912101</td>\n",
       "      <td>12231.972417</td>\n",
       "    </tr>\n",
       "    <tr>\n",
       "      <th>std</th>\n",
       "      <td>7607.729523</td>\n",
       "      <td>12572.139867</td>\n",
       "    </tr>\n",
       "    <tr>\n",
       "      <th>min</th>\n",
       "      <td>-1.000000</td>\n",
       "      <td>5.000000</td>\n",
       "    </tr>\n",
       "    <tr>\n",
       "      <th>25%</th>\n",
       "      <td>5078.000000</td>\n",
       "      <td>2328.000000</td>\n",
       "    </tr>\n",
       "    <tr>\n",
       "      <th>50%</th>\n",
       "      <td>6890.000000</td>\n",
       "      <td>7979.000000</td>\n",
       "    </tr>\n",
       "    <tr>\n",
       "      <th>75%</th>\n",
       "      <td>10707.000000</td>\n",
       "      <td>17554.000000</td>\n",
       "    </tr>\n",
       "    <tr>\n",
       "      <th>max</th>\n",
       "      <td>77548.000000</td>\n",
       "      <td>47293.000000</td>\n",
       "    </tr>\n",
       "  </tbody>\n",
       "</table>\n",
       "</div>"
      ],
      "text/plain": [
       "       macro_feature_cod    feature_cod\n",
       "count      491277.000000  491277.000000\n",
       "mean         8948.912101   12231.972417\n",
       "std          7607.729523   12572.139867\n",
       "min            -1.000000       5.000000\n",
       "25%          5078.000000    2328.000000\n",
       "50%          6890.000000    7979.000000\n",
       "75%         10707.000000   17554.000000\n",
       "max         77548.000000   47293.000000"
      ]
     },
     "execution_count": 6,
     "metadata": {},
     "output_type": "execute_result"
    }
   ],
   "source": [
    "ice.describe()"
   ]
  },
  {
   "cell_type": "code",
   "execution_count": 7,
   "metadata": {},
   "outputs": [
    {
     "data": {
      "text/plain": [
       "ART_COD                        0\n",
       "name                           0\n",
       "title                          0\n",
       "description                  124\n",
       "macro_feature_cod              0\n",
       "macro_feature_des              0\n",
       "feature_cod                    0\n",
       "feature_des                    0\n",
       "feature_value              24830\n",
       "feature_value_nounit       24833\n",
       "feature_value_unit_cod    366106\n",
       "feature_value_unit_des    366106\n",
       "feature_value_type             0\n",
       "dtype: int64"
      ]
     },
     "execution_count": 7,
     "metadata": {},
     "output_type": "execute_result"
    }
   ],
   "source": [
    "ice.isnull().sum()"
   ]
  },
  {
   "cell_type": "code",
   "execution_count": 8,
   "metadata": {},
   "outputs": [
    {
     "data": {
      "text/html": [
       "<div>\n",
       "<style scoped>\n",
       "    .dataframe tbody tr th:only-of-type {\n",
       "        vertical-align: middle;\n",
       "    }\n",
       "\n",
       "    .dataframe tbody tr th {\n",
       "        vertical-align: top;\n",
       "    }\n",
       "\n",
       "    .dataframe thead th {\n",
       "        text-align: right;\n",
       "    }\n",
       "</style>\n",
       "<table border=\"1\" class=\"dataframe\">\n",
       "  <thead>\n",
       "    <tr style=\"text-align: right;\">\n",
       "      <th></th>\n",
       "      <th>ART_COD</th>\n",
       "      <th>name</th>\n",
       "      <th>title</th>\n",
       "      <th>description</th>\n",
       "      <th>macro_feature_cod</th>\n",
       "      <th>macro_feature_des</th>\n",
       "      <th>feature_cod</th>\n",
       "      <th>feature_des</th>\n",
       "      <th>feature_value</th>\n",
       "      <th>feature_value_nounit</th>\n",
       "      <th>feature_value_unit_cod</th>\n",
       "      <th>feature_value_unit_des</th>\n",
       "      <th>feature_value_type</th>\n",
       "    </tr>\n",
       "  </thead>\n",
       "  <tbody>\n",
       "    <tr>\n",
       "      <th>100022</th>\n",
       "      <td>HORVIEW10LITE64</td>\n",
       "      <td>Honor View 10 Lite 6.5 Doppia SIM</td>\n",
       "      <td>Honor View 10 Lite 6.5 Doppia SIM</td>\n",
       "      <td>Sistema operativo Android 8.1 Processore Octa ...</td>\n",
       "      <td>6887</td>\n",
       "      <td>Archiviazione</td>\n",
       "      <td>33517</td>\n",
       "      <td>Tipo di slot per scheda di memoria</td>\n",
       "      <td>microSD</td>\n",
       "      <td>NaN</td>\n",
       "      <td>NaN</td>\n",
       "      <td>NaN</td>\n",
       "      <td>enumerate</td>\n",
       "    </tr>\n",
       "    <tr>\n",
       "      <th>100025</th>\n",
       "      <td>HORVIEW10LITE64</td>\n",
       "      <td>Honor View 10 Lite 6.5 Doppia SIM</td>\n",
       "      <td>Honor View 10 Lite 6.5 Doppia SIM</td>\n",
       "      <td>Sistema operativo Android 8.1 Processore Octa ...</td>\n",
       "      <td>6890</td>\n",
       "      <td>Collegamento in rete</td>\n",
       "      <td>1208</td>\n",
       "      <td>Versione Bluetooth</td>\n",
       "      <td>4.2</td>\n",
       "      <td>NaN</td>\n",
       "      <td>NaN</td>\n",
       "      <td>NaN</td>\n",
       "      <td>enumerate</td>\n",
       "    </tr>\n",
       "    <tr>\n",
       "      <th>100026</th>\n",
       "      <td>HORVIEW10LITE64</td>\n",
       "      <td>Honor View 10 Lite 6.5 Doppia SIM</td>\n",
       "      <td>Honor View 10 Lite 6.5 Doppia SIM</td>\n",
       "      <td>Sistema operativo Android 8.1 Processore Octa ...</td>\n",
       "      <td>6890</td>\n",
       "      <td>Collegamento in rete</td>\n",
       "      <td>16921</td>\n",
       "      <td>4G</td>\n",
       "      <td>Sì</td>\n",
       "      <td>NaN</td>\n",
       "      <td>NaN</td>\n",
       "      <td>NaN</td>\n",
       "      <td>enumerate</td>\n",
       "    </tr>\n",
       "  </tbody>\n",
       "</table>\n",
       "</div>"
      ],
      "text/plain": [
       "                ART_COD                               name  \\\n",
       "100022  HORVIEW10LITE64  Honor View 10 Lite 6.5 Doppia SIM   \n",
       "100025  HORVIEW10LITE64  Honor View 10 Lite 6.5 Doppia SIM   \n",
       "100026  HORVIEW10LITE64  Honor View 10 Lite 6.5 Doppia SIM   \n",
       "\n",
       "                                    title  \\\n",
       "100022  Honor View 10 Lite 6.5 Doppia SIM   \n",
       "100025  Honor View 10 Lite 6.5 Doppia SIM   \n",
       "100026  Honor View 10 Lite 6.5 Doppia SIM   \n",
       "\n",
       "                                              description  macro_feature_cod  \\\n",
       "100022  Sistema operativo Android 8.1 Processore Octa ...               6887   \n",
       "100025  Sistema operativo Android 8.1 Processore Octa ...               6890   \n",
       "100026  Sistema operativo Android 8.1 Processore Octa ...               6890   \n",
       "\n",
       "           macro_feature_des  feature_cod                         feature_des  \\\n",
       "100022         Archiviazione        33517  Tipo di slot per scheda di memoria   \n",
       "100025  Collegamento in rete         1208                  Versione Bluetooth   \n",
       "100026  Collegamento in rete        16921                                  4G   \n",
       "\n",
       "       feature_value feature_value_nounit feature_value_unit_cod  \\\n",
       "100022       microSD                  NaN                    NaN   \n",
       "100025           4.2                  NaN                    NaN   \n",
       "100026            Sì                  NaN                    NaN   \n",
       "\n",
       "       feature_value_unit_des feature_value_type  \n",
       "100022                    NaN          enumerate  \n",
       "100025                    NaN          enumerate  \n",
       "100026                    NaN          enumerate  "
      ]
     },
     "execution_count": 8,
     "metadata": {},
     "output_type": "execute_result"
    }
   ],
   "source": [
    "ice[(ice['feature_value'].notnull()) & (ice['feature_value_nounit'].isnull())]"
   ]
  },
  {
   "cell_type": "markdown",
   "metadata": {},
   "source": [
    "### KPI"
   ]
  },
  {
   "cell_type": "code",
   "execution_count": 9,
   "metadata": {},
   "outputs": [
    {
     "data": {
      "text/html": [
       "<div>\n",
       "<style scoped>\n",
       "    .dataframe tbody tr th:only-of-type {\n",
       "        vertical-align: middle;\n",
       "    }\n",
       "\n",
       "    .dataframe tbody tr th {\n",
       "        vertical-align: top;\n",
       "    }\n",
       "\n",
       "    .dataframe thead th {\n",
       "        text-align: right;\n",
       "    }\n",
       "</style>\n",
       "<table border=\"1\" class=\"dataframe\">\n",
       "  <thead>\n",
       "    <tr style=\"text-align: right;\">\n",
       "      <th></th>\n",
       "      <th>CODICE_VOLANTINO</th>\n",
       "      <th>ART_COD</th>\n",
       "      <th>PRODUCT_GROUP</th>\n",
       "      <th>ITEM_ID</th>\n",
       "      <th>KPI_1</th>\n",
       "      <th>KPI_2</th>\n",
       "      <th>KPI_3</th>\n",
       "      <th>KPI_4</th>\n",
       "      <th>KPI_5</th>\n",
       "    </tr>\n",
       "  </thead>\n",
       "  <tbody>\n",
       "    <tr>\n",
       "      <th>0</th>\n",
       "      <td>23MA</td>\n",
       "      <td>ACEA3155879TU</td>\n",
       "      <td>MOBILE COMPUTING</td>\n",
       "      <td>172435098</td>\n",
       "      <td>0.960614</td>\n",
       "      <td>0.577713</td>\n",
       "      <td>0.622543</td>\n",
       "      <td>0.193957</td>\n",
       "      <td>1.000000</td>\n",
       "    </tr>\n",
       "    <tr>\n",
       "      <th>1</th>\n",
       "      <td>23MA</td>\n",
       "      <td>AEGL6FBI48W</td>\n",
       "      <td>WASHINGMACHINES FREESTANDING</td>\n",
       "      <td>176720202</td>\n",
       "      <td>0.949306</td>\n",
       "      <td>0.757657</td>\n",
       "      <td>0.338377</td>\n",
       "      <td>0.789157</td>\n",
       "      <td>0.200890</td>\n",
       "    </tr>\n",
       "    <tr>\n",
       "      <th>2</th>\n",
       "      <td>23MA</td>\n",
       "      <td>AMFGTR3</td>\n",
       "      <td>CORE WEARABLES</td>\n",
       "      <td>172236545</td>\n",
       "      <td>0.423670</td>\n",
       "      <td>0.209620</td>\n",
       "      <td>0.165108</td>\n",
       "      <td>1.000000</td>\n",
       "      <td>0.720034</td>\n",
       "    </tr>\n",
       "    <tr>\n",
       "      <th>3</th>\n",
       "      <td>23MA</td>\n",
       "      <td>AMFGTR3GREY</td>\n",
       "      <td>CORE WEARABLES</td>\n",
       "      <td>172236545</td>\n",
       "      <td>0.423670</td>\n",
       "      <td>0.209620</td>\n",
       "      <td>0.039904</td>\n",
       "      <td>1.000000</td>\n",
       "      <td>0.720034</td>\n",
       "    </tr>\n",
       "    <tr>\n",
       "      <th>4</th>\n",
       "      <td>23MA</td>\n",
       "      <td>APLIPHONE13128</td>\n",
       "      <td>SMARTPHONES</td>\n",
       "      <td>171845322</td>\n",
       "      <td>0.768852</td>\n",
       "      <td>0.725024</td>\n",
       "      <td>0.726402</td>\n",
       "      <td>0.449412</td>\n",
       "      <td>1.000000</td>\n",
       "    </tr>\n",
       "  </tbody>\n",
       "</table>\n",
       "</div>"
      ],
      "text/plain": [
       "  CODICE_VOLANTINO         ART_COD                 PRODUCT_GROUP    ITEM_ID  \\\n",
       "0             23MA   ACEA3155879TU              MOBILE COMPUTING  172435098   \n",
       "1             23MA     AEGL6FBI48W  WASHINGMACHINES FREESTANDING  176720202   \n",
       "2             23MA         AMFGTR3                CORE WEARABLES  172236545   \n",
       "3             23MA     AMFGTR3GREY                CORE WEARABLES  172236545   \n",
       "4             23MA  APLIPHONE13128                   SMARTPHONES  171845322   \n",
       "\n",
       "      KPI_1     KPI_2     KPI_3     KPI_4     KPI_5  \n",
       "0  0.960614  0.577713  0.622543  0.193957  1.000000  \n",
       "1  0.949306  0.757657  0.338377  0.789157  0.200890  \n",
       "2  0.423670  0.209620  0.165108  1.000000  0.720034  \n",
       "3  0.423670  0.209620  0.039904  1.000000  0.720034  \n",
       "4  0.768852  0.725024  0.726402  0.449412  1.000000  "
      ]
     },
     "execution_count": 9,
     "metadata": {},
     "output_type": "execute_result"
    }
   ],
   "source": [
    "kpi.head()"
   ]
  },
  {
   "cell_type": "code",
   "execution_count": 10,
   "metadata": {},
   "outputs": [],
   "source": [
    "kpi['ITEM_ID'].replace('ND', np.nan, inplace=True)\n",
    "kpi['ITEM_ID'] = kpi['ITEM_ID'].astype(float)"
   ]
  },
  {
   "cell_type": "code",
   "execution_count": 11,
   "metadata": {},
   "outputs": [
    {
     "name": "stdout",
     "output_type": "stream",
     "text": [
      "<class 'pandas.core.frame.DataFrame'>\n",
      "RangeIndex: 1382 entries, 0 to 1381\n",
      "Data columns (total 9 columns):\n",
      " #   Column            Non-Null Count  Dtype  \n",
      "---  ------            --------------  -----  \n",
      " 0   CODICE_VOLANTINO  1382 non-null   object \n",
      " 1   ART_COD           1382 non-null   object \n",
      " 2   PRODUCT_GROUP     1382 non-null   object \n",
      " 3   ITEM_ID           1330 non-null   float64\n",
      " 4   KPI_1             1382 non-null   float64\n",
      " 5   KPI_2             1205 non-null   float64\n",
      " 6   KPI_3             1224 non-null   float64\n",
      " 7   KPI_4             1297 non-null   float64\n",
      " 8   KPI_5             1199 non-null   float64\n",
      "dtypes: float64(6), object(3)\n",
      "memory usage: 97.3+ KB\n"
     ]
    }
   ],
   "source": [
    "kpi.info()"
   ]
  },
  {
   "cell_type": "code",
   "execution_count": 12,
   "metadata": {},
   "outputs": [
    {
     "data": {
      "text/html": [
       "<div>\n",
       "<style scoped>\n",
       "    .dataframe tbody tr th:only-of-type {\n",
       "        vertical-align: middle;\n",
       "    }\n",
       "\n",
       "    .dataframe tbody tr th {\n",
       "        vertical-align: top;\n",
       "    }\n",
       "\n",
       "    .dataframe thead th {\n",
       "        text-align: right;\n",
       "    }\n",
       "</style>\n",
       "<table border=\"1\" class=\"dataframe\">\n",
       "  <thead>\n",
       "    <tr style=\"text-align: right;\">\n",
       "      <th></th>\n",
       "      <th>ITEM_ID</th>\n",
       "      <th>KPI_1</th>\n",
       "      <th>KPI_2</th>\n",
       "      <th>KPI_3</th>\n",
       "      <th>KPI_4</th>\n",
       "      <th>KPI_5</th>\n",
       "    </tr>\n",
       "  </thead>\n",
       "  <tbody>\n",
       "    <tr>\n",
       "      <th>count</th>\n",
       "      <td>1.330000e+03</td>\n",
       "      <td>1382.000000</td>\n",
       "      <td>1205.000000</td>\n",
       "      <td>1.224000e+03</td>\n",
       "      <td>1297.000000</td>\n",
       "      <td>1199.000000</td>\n",
       "    </tr>\n",
       "    <tr>\n",
       "      <th>mean</th>\n",
       "      <td>1.794904e+08</td>\n",
       "      <td>0.859072</td>\n",
       "      <td>0.326937</td>\n",
       "      <td>2.450557e-01</td>\n",
       "      <td>0.592823</td>\n",
       "      <td>0.494002</td>\n",
       "    </tr>\n",
       "    <tr>\n",
       "      <th>std</th>\n",
       "      <td>5.179774e+06</td>\n",
       "      <td>0.188017</td>\n",
       "      <td>0.285078</td>\n",
       "      <td>2.458584e-01</td>\n",
       "      <td>0.366711</td>\n",
       "      <td>0.368892</td>\n",
       "    </tr>\n",
       "    <tr>\n",
       "      <th>min</th>\n",
       "      <td>1.461419e+08</td>\n",
       "      <td>0.423670</td>\n",
       "      <td>0.000000</td>\n",
       "      <td>2.867000e-07</td>\n",
       "      <td>0.000000</td>\n",
       "      <td>0.000000</td>\n",
       "    </tr>\n",
       "    <tr>\n",
       "      <th>25%</th>\n",
       "      <td>1.775740e+08</td>\n",
       "      <td>0.768852</td>\n",
       "      <td>0.000000</td>\n",
       "      <td>4.636393e-02</td>\n",
       "      <td>0.270186</td>\n",
       "      <td>0.135960</td>\n",
       "    </tr>\n",
       "    <tr>\n",
       "      <th>50%</th>\n",
       "      <td>1.807003e+08</td>\n",
       "      <td>0.960614</td>\n",
       "      <td>0.327734</td>\n",
       "      <td>1.574722e-01</td>\n",
       "      <td>0.574520</td>\n",
       "      <td>0.506164</td>\n",
       "    </tr>\n",
       "    <tr>\n",
       "      <th>75%</th>\n",
       "      <td>1.835322e+08</td>\n",
       "      <td>1.000000</td>\n",
       "      <td>0.525348</td>\n",
       "      <td>3.868058e-01</td>\n",
       "      <td>1.000000</td>\n",
       "      <td>1.000000</td>\n",
       "    </tr>\n",
       "    <tr>\n",
       "      <th>max</th>\n",
       "      <td>1.851389e+08</td>\n",
       "      <td>1.000000</td>\n",
       "      <td>1.000000</td>\n",
       "      <td>1.000000e+00</td>\n",
       "      <td>1.000000</td>\n",
       "      <td>1.000000</td>\n",
       "    </tr>\n",
       "  </tbody>\n",
       "</table>\n",
       "</div>"
      ],
      "text/plain": [
       "            ITEM_ID        KPI_1        KPI_2         KPI_3        KPI_4  \\\n",
       "count  1.330000e+03  1382.000000  1205.000000  1.224000e+03  1297.000000   \n",
       "mean   1.794904e+08     0.859072     0.326937  2.450557e-01     0.592823   \n",
       "std    5.179774e+06     0.188017     0.285078  2.458584e-01     0.366711   \n",
       "min    1.461419e+08     0.423670     0.000000  2.867000e-07     0.000000   \n",
       "25%    1.775740e+08     0.768852     0.000000  4.636393e-02     0.270186   \n",
       "50%    1.807003e+08     0.960614     0.327734  1.574722e-01     0.574520   \n",
       "75%    1.835322e+08     1.000000     0.525348  3.868058e-01     1.000000   \n",
       "max    1.851389e+08     1.000000     1.000000  1.000000e+00     1.000000   \n",
       "\n",
       "             KPI_5  \n",
       "count  1199.000000  \n",
       "mean      0.494002  \n",
       "std       0.368892  \n",
       "min       0.000000  \n",
       "25%       0.135960  \n",
       "50%       0.506164  \n",
       "75%       1.000000  \n",
       "max       1.000000  "
      ]
     },
     "execution_count": 12,
     "metadata": {},
     "output_type": "execute_result"
    }
   ],
   "source": [
    "kpi.describe()"
   ]
  },
  {
   "cell_type": "code",
   "execution_count": 13,
   "metadata": {},
   "outputs": [
    {
     "data": {
      "text/html": [
       "<div>\n",
       "<style scoped>\n",
       "    .dataframe tbody tr th:only-of-type {\n",
       "        vertical-align: middle;\n",
       "    }\n",
       "\n",
       "    .dataframe tbody tr th {\n",
       "        vertical-align: top;\n",
       "    }\n",
       "\n",
       "    .dataframe thead th {\n",
       "        text-align: right;\n",
       "    }\n",
       "</style>\n",
       "<table border=\"1\" class=\"dataframe\">\n",
       "  <thead>\n",
       "    <tr style=\"text-align: right;\">\n",
       "      <th></th>\n",
       "      <th>CODICE_VOLANTINO</th>\n",
       "      <th>ART_COD</th>\n",
       "      <th>PRODUCT_GROUP</th>\n",
       "      <th>ITEM_ID</th>\n",
       "      <th>KPI_1</th>\n",
       "      <th>KPI_2</th>\n",
       "      <th>KPI_3</th>\n",
       "      <th>KPI_4</th>\n",
       "      <th>KPI_5</th>\n",
       "    </tr>\n",
       "  </thead>\n",
       "  <tbody>\n",
       "    <tr>\n",
       "      <th>0</th>\n",
       "      <td>23MA</td>\n",
       "      <td>ACEA3155879TU</td>\n",
       "      <td>MOBILE COMPUTING</td>\n",
       "      <td>172435098.0</td>\n",
       "      <td>0.960614</td>\n",
       "      <td>0.577713</td>\n",
       "      <td>0.622543</td>\n",
       "      <td>0.193957</td>\n",
       "      <td>1.000000</td>\n",
       "    </tr>\n",
       "    <tr>\n",
       "      <th>1</th>\n",
       "      <td>23MA</td>\n",
       "      <td>AEGL6FBI48W</td>\n",
       "      <td>WASHINGMACHINES FREESTANDING</td>\n",
       "      <td>176720202.0</td>\n",
       "      <td>0.949306</td>\n",
       "      <td>0.757657</td>\n",
       "      <td>0.338377</td>\n",
       "      <td>0.789157</td>\n",
       "      <td>0.200890</td>\n",
       "    </tr>\n",
       "    <tr>\n",
       "      <th>2</th>\n",
       "      <td>23MA</td>\n",
       "      <td>AMFGTR3</td>\n",
       "      <td>CORE WEARABLES</td>\n",
       "      <td>172236545.0</td>\n",
       "      <td>0.423670</td>\n",
       "      <td>0.209620</td>\n",
       "      <td>0.165108</td>\n",
       "      <td>1.000000</td>\n",
       "      <td>0.720034</td>\n",
       "    </tr>\n",
       "    <tr>\n",
       "      <th>3</th>\n",
       "      <td>23MA</td>\n",
       "      <td>AMFGTR3GREY</td>\n",
       "      <td>CORE WEARABLES</td>\n",
       "      <td>172236545.0</td>\n",
       "      <td>0.423670</td>\n",
       "      <td>0.209620</td>\n",
       "      <td>0.039904</td>\n",
       "      <td>1.000000</td>\n",
       "      <td>0.720034</td>\n",
       "    </tr>\n",
       "    <tr>\n",
       "      <th>4</th>\n",
       "      <td>23MA</td>\n",
       "      <td>APLIPHONE13128</td>\n",
       "      <td>SMARTPHONES</td>\n",
       "      <td>171845322.0</td>\n",
       "      <td>0.768852</td>\n",
       "      <td>0.725024</td>\n",
       "      <td>0.726402</td>\n",
       "      <td>0.449412</td>\n",
       "      <td>1.000000</td>\n",
       "    </tr>\n",
       "    <tr>\n",
       "      <th>...</th>\n",
       "      <td>...</td>\n",
       "      <td>...</td>\n",
       "      <td>...</td>\n",
       "      <td>...</td>\n",
       "      <td>...</td>\n",
       "      <td>...</td>\n",
       "      <td>...</td>\n",
       "      <td>...</td>\n",
       "      <td>...</td>\n",
       "    </tr>\n",
       "    <tr>\n",
       "      <th>1377</th>\n",
       "      <td>23NC</td>\n",
       "      <td>XIARENOTE12PRO256W</td>\n",
       "      <td>SMARTPHONES</td>\n",
       "      <td>NaN</td>\n",
       "      <td>1.000000</td>\n",
       "      <td>NaN</td>\n",
       "      <td>NaN</td>\n",
       "      <td>NaN</td>\n",
       "      <td>NaN</td>\n",
       "    </tr>\n",
       "    <tr>\n",
       "      <th>1378</th>\n",
       "      <td>23NC</td>\n",
       "      <td>SAMS23FE128</td>\n",
       "      <td>SMARTPHONES</td>\n",
       "      <td>NaN</td>\n",
       "      <td>1.000000</td>\n",
       "      <td>NaN</td>\n",
       "      <td>NaN</td>\n",
       "      <td>NaN</td>\n",
       "      <td>NaN</td>\n",
       "    </tr>\n",
       "    <tr>\n",
       "      <th>1379</th>\n",
       "      <td>23NC</td>\n",
       "      <td>SAMS23FE128CR</td>\n",
       "      <td>SMARTPHONES</td>\n",
       "      <td>NaN</td>\n",
       "      <td>1.000000</td>\n",
       "      <td>NaN</td>\n",
       "      <td>NaN</td>\n",
       "      <td>NaN</td>\n",
       "      <td>NaN</td>\n",
       "    </tr>\n",
       "    <tr>\n",
       "      <th>1380</th>\n",
       "      <td>23NC</td>\n",
       "      <td>XIAREDMI13C128B</td>\n",
       "      <td>SMARTPHONES</td>\n",
       "      <td>NaN</td>\n",
       "      <td>1.000000</td>\n",
       "      <td>NaN</td>\n",
       "      <td>NaN</td>\n",
       "      <td>NaN</td>\n",
       "      <td>NaN</td>\n",
       "    </tr>\n",
       "    <tr>\n",
       "      <th>1381</th>\n",
       "      <td>23NC</td>\n",
       "      <td>XIAREDMINOTE12PRO4GW</td>\n",
       "      <td>SMARTPHONES</td>\n",
       "      <td>NaN</td>\n",
       "      <td>1.000000</td>\n",
       "      <td>NaN</td>\n",
       "      <td>NaN</td>\n",
       "      <td>NaN</td>\n",
       "      <td>NaN</td>\n",
       "    </tr>\n",
       "  </tbody>\n",
       "</table>\n",
       "<p>1382 rows × 9 columns</p>\n",
       "</div>"
      ],
      "text/plain": [
       "     CODICE_VOLANTINO               ART_COD                 PRODUCT_GROUP  \\\n",
       "0                23MA         ACEA3155879TU              MOBILE COMPUTING   \n",
       "1                23MA           AEGL6FBI48W  WASHINGMACHINES FREESTANDING   \n",
       "2                23MA               AMFGTR3                CORE WEARABLES   \n",
       "3                23MA           AMFGTR3GREY                CORE WEARABLES   \n",
       "4                23MA        APLIPHONE13128                   SMARTPHONES   \n",
       "...               ...                   ...                           ...   \n",
       "1377             23NC    XIARENOTE12PRO256W                   SMARTPHONES   \n",
       "1378             23NC           SAMS23FE128                   SMARTPHONES   \n",
       "1379             23NC         SAMS23FE128CR                   SMARTPHONES   \n",
       "1380             23NC       XIAREDMI13C128B                   SMARTPHONES   \n",
       "1381             23NC  XIAREDMINOTE12PRO4GW                   SMARTPHONES   \n",
       "\n",
       "          ITEM_ID     KPI_1     KPI_2     KPI_3     KPI_4     KPI_5  \n",
       "0     172435098.0  0.960614  0.577713  0.622543  0.193957  1.000000  \n",
       "1     176720202.0  0.949306  0.757657  0.338377  0.789157  0.200890  \n",
       "2     172236545.0  0.423670  0.209620  0.165108  1.000000  0.720034  \n",
       "3     172236545.0  0.423670  0.209620  0.039904  1.000000  0.720034  \n",
       "4     171845322.0  0.768852  0.725024  0.726402  0.449412  1.000000  \n",
       "...           ...       ...       ...       ...       ...       ...  \n",
       "1377          NaN  1.000000       NaN       NaN       NaN       NaN  \n",
       "1378          NaN  1.000000       NaN       NaN       NaN       NaN  \n",
       "1379          NaN  1.000000       NaN       NaN       NaN       NaN  \n",
       "1380          NaN  1.000000       NaN       NaN       NaN       NaN  \n",
       "1381          NaN  1.000000       NaN       NaN       NaN       NaN  \n",
       "\n",
       "[1382 rows x 9 columns]"
      ]
     },
     "execution_count": 13,
     "metadata": {},
     "output_type": "execute_result"
    }
   ],
   "source": [
    "kpi['KPI_3'].where(kpi['KPI_3']>=0, pd.NA, inplace=True)\n",
    "kpi"
   ]
  },
  {
   "cell_type": "code",
   "execution_count": 14,
   "metadata": {},
   "outputs": [
    {
     "data": {
      "text/html": [
       "<div>\n",
       "<style scoped>\n",
       "    .dataframe tbody tr th:only-of-type {\n",
       "        vertical-align: middle;\n",
       "    }\n",
       "\n",
       "    .dataframe tbody tr th {\n",
       "        vertical-align: top;\n",
       "    }\n",
       "\n",
       "    .dataframe thead th {\n",
       "        text-align: right;\n",
       "    }\n",
       "</style>\n",
       "<table border=\"1\" class=\"dataframe\">\n",
       "  <thead>\n",
       "    <tr style=\"text-align: right;\">\n",
       "      <th></th>\n",
       "      <th>ITEM_ID</th>\n",
       "      <th>KPI_1</th>\n",
       "      <th>KPI_2</th>\n",
       "      <th>KPI_3</th>\n",
       "      <th>KPI_4</th>\n",
       "      <th>KPI_5</th>\n",
       "    </tr>\n",
       "  </thead>\n",
       "  <tbody>\n",
       "    <tr>\n",
       "      <th>count</th>\n",
       "      <td>1.330000e+03</td>\n",
       "      <td>1382.000000</td>\n",
       "      <td>1205.000000</td>\n",
       "      <td>1.224000e+03</td>\n",
       "      <td>1297.000000</td>\n",
       "      <td>1199.000000</td>\n",
       "    </tr>\n",
       "    <tr>\n",
       "      <th>mean</th>\n",
       "      <td>1.794904e+08</td>\n",
       "      <td>0.859072</td>\n",
       "      <td>0.326937</td>\n",
       "      <td>2.450557e-01</td>\n",
       "      <td>0.592823</td>\n",
       "      <td>0.494002</td>\n",
       "    </tr>\n",
       "    <tr>\n",
       "      <th>std</th>\n",
       "      <td>5.179774e+06</td>\n",
       "      <td>0.188017</td>\n",
       "      <td>0.285078</td>\n",
       "      <td>2.458584e-01</td>\n",
       "      <td>0.366711</td>\n",
       "      <td>0.368892</td>\n",
       "    </tr>\n",
       "    <tr>\n",
       "      <th>min</th>\n",
       "      <td>1.461419e+08</td>\n",
       "      <td>0.423670</td>\n",
       "      <td>0.000000</td>\n",
       "      <td>2.867000e-07</td>\n",
       "      <td>0.000000</td>\n",
       "      <td>0.000000</td>\n",
       "    </tr>\n",
       "    <tr>\n",
       "      <th>25%</th>\n",
       "      <td>1.775740e+08</td>\n",
       "      <td>0.768852</td>\n",
       "      <td>0.000000</td>\n",
       "      <td>4.636393e-02</td>\n",
       "      <td>0.270186</td>\n",
       "      <td>0.135960</td>\n",
       "    </tr>\n",
       "    <tr>\n",
       "      <th>50%</th>\n",
       "      <td>1.807003e+08</td>\n",
       "      <td>0.960614</td>\n",
       "      <td>0.327734</td>\n",
       "      <td>1.574722e-01</td>\n",
       "      <td>0.574520</td>\n",
       "      <td>0.506164</td>\n",
       "    </tr>\n",
       "    <tr>\n",
       "      <th>75%</th>\n",
       "      <td>1.835322e+08</td>\n",
       "      <td>1.000000</td>\n",
       "      <td>0.525348</td>\n",
       "      <td>3.868058e-01</td>\n",
       "      <td>1.000000</td>\n",
       "      <td>1.000000</td>\n",
       "    </tr>\n",
       "    <tr>\n",
       "      <th>max</th>\n",
       "      <td>1.851389e+08</td>\n",
       "      <td>1.000000</td>\n",
       "      <td>1.000000</td>\n",
       "      <td>1.000000e+00</td>\n",
       "      <td>1.000000</td>\n",
       "      <td>1.000000</td>\n",
       "    </tr>\n",
       "  </tbody>\n",
       "</table>\n",
       "</div>"
      ],
      "text/plain": [
       "            ITEM_ID        KPI_1        KPI_2         KPI_3        KPI_4  \\\n",
       "count  1.330000e+03  1382.000000  1205.000000  1.224000e+03  1297.000000   \n",
       "mean   1.794904e+08     0.859072     0.326937  2.450557e-01     0.592823   \n",
       "std    5.179774e+06     0.188017     0.285078  2.458584e-01     0.366711   \n",
       "min    1.461419e+08     0.423670     0.000000  2.867000e-07     0.000000   \n",
       "25%    1.775740e+08     0.768852     0.000000  4.636393e-02     0.270186   \n",
       "50%    1.807003e+08     0.960614     0.327734  1.574722e-01     0.574520   \n",
       "75%    1.835322e+08     1.000000     0.525348  3.868058e-01     1.000000   \n",
       "max    1.851389e+08     1.000000     1.000000  1.000000e+00     1.000000   \n",
       "\n",
       "             KPI_5  \n",
       "count  1199.000000  \n",
       "mean      0.494002  \n",
       "std       0.368892  \n",
       "min       0.000000  \n",
       "25%       0.135960  \n",
       "50%       0.506164  \n",
       "75%       1.000000  \n",
       "max       1.000000  "
      ]
     },
     "execution_count": 14,
     "metadata": {},
     "output_type": "execute_result"
    }
   ],
   "source": [
    "kpi.describe()"
   ]
  },
  {
   "cell_type": "code",
   "execution_count": 15,
   "metadata": {},
   "outputs": [
    {
     "data": {
      "text/plain": [
       "CODICE_VOLANTINO      0\n",
       "ART_COD               0\n",
       "PRODUCT_GROUP         0\n",
       "ITEM_ID              52\n",
       "KPI_1                 0\n",
       "KPI_2               177\n",
       "KPI_3               158\n",
       "KPI_4                85\n",
       "KPI_5               183\n",
       "dtype: int64"
      ]
     },
     "execution_count": 15,
     "metadata": {},
     "output_type": "execute_result"
    }
   ],
   "source": [
    "kpi.isnull().sum()"
   ]
  },
  {
   "cell_type": "markdown",
   "metadata": {},
   "source": [
    "### ANAGRAFICA"
   ]
  },
  {
   "cell_type": "code",
   "execution_count": 3,
   "metadata": {},
   "outputs": [
    {
     "data": {
      "text/html": [
       "<div>\n",
       "<style scoped>\n",
       "    .dataframe tbody tr th:only-of-type {\n",
       "        vertical-align: middle;\n",
       "    }\n",
       "\n",
       "    .dataframe tbody tr th {\n",
       "        vertical-align: top;\n",
       "    }\n",
       "\n",
       "    .dataframe thead th {\n",
       "        text-align: right;\n",
       "    }\n",
       "</style>\n",
       "<table border=\"1\" class=\"dataframe\">\n",
       "  <thead>\n",
       "    <tr style=\"text-align: right;\">\n",
       "      <th></th>\n",
       "      <th>CODICE_VOLANTINO</th>\n",
       "      <th>DATA_INIZIO</th>\n",
       "      <th>DATA_FINE</th>\n",
       "      <th>NOME_CAMPAGNA</th>\n",
       "      <th>ART_COD</th>\n",
       "      <th>PREZZO_PROMO</th>\n",
       "      <th>PREZZO_LISTINO</th>\n",
       "      <th>STOCK_PZ</th>\n",
       "      <th>TIPOLOGIA_PRODOTTO</th>\n",
       "      <th>SCONTO_PERC</th>\n",
       "      <th>STOCK_ORD_IN_ARRIVO_PZ</th>\n",
       "      <th>PRODUCT_GROUP</th>\n",
       "      <th>BRAND</th>\n",
       "    </tr>\n",
       "  </thead>\n",
       "  <tbody>\n",
       "    <tr>\n",
       "      <th>0</th>\n",
       "      <td>23MA</td>\n",
       "      <td>2023-11-01T00:00:00.0</td>\n",
       "      <td>2023-11-08T00:00:00.0</td>\n",
       "      <td>BASKET TASSO ZERO</td>\n",
       "      <td>AMFACTIVEB</td>\n",
       "      <td>129.99</td>\n",
       "      <td>129.99</td>\n",
       "      <td>0</td>\n",
       "      <td>Principale</td>\n",
       "      <td>0.0</td>\n",
       "      <td>0</td>\n",
       "      <td>CORE WEARABLES                                ...</td>\n",
       "      <td>AMAZFIT</td>\n",
       "    </tr>\n",
       "    <tr>\n",
       "      <th>1</th>\n",
       "      <td>23NA</td>\n",
       "      <td>2023-12-01T00:00:00.0</td>\n",
       "      <td>2023-12-06T00:00:00.0</td>\n",
       "      <td>BASKET TASSO ZERO</td>\n",
       "      <td>AMFACTIVEB</td>\n",
       "      <td>129.99</td>\n",
       "      <td>129.99</td>\n",
       "      <td>1111</td>\n",
       "      <td>Principale</td>\n",
       "      <td>0.0</td>\n",
       "      <td>0</td>\n",
       "      <td>CORE WEARABLES                                ...</td>\n",
       "      <td>AMAZFIT</td>\n",
       "    </tr>\n",
       "    <tr>\n",
       "      <th>2</th>\n",
       "      <td>23MA</td>\n",
       "      <td>2023-11-01T00:00:00.0</td>\n",
       "      <td>2023-11-08T00:00:00.0</td>\n",
       "      <td>BASKET TASSO ZERO</td>\n",
       "      <td>AMFACTIVEP</td>\n",
       "      <td>129.99</td>\n",
       "      <td>129.99</td>\n",
       "      <td>0</td>\n",
       "      <td>Sostitutivo</td>\n",
       "      <td>0.0</td>\n",
       "      <td>0</td>\n",
       "      <td>CORE WEARABLES                                ...</td>\n",
       "      <td>AMAZFIT</td>\n",
       "    </tr>\n",
       "    <tr>\n",
       "      <th>3</th>\n",
       "      <td>23NA</td>\n",
       "      <td>2023-12-01T00:00:00.0</td>\n",
       "      <td>2023-12-06T00:00:00.0</td>\n",
       "      <td>BASKET TASSO ZERO</td>\n",
       "      <td>AMFACTIVEP</td>\n",
       "      <td>129.99</td>\n",
       "      <td>129.99</td>\n",
       "      <td>962</td>\n",
       "      <td>Sostitutivo</td>\n",
       "      <td>0.0</td>\n",
       "      <td>0</td>\n",
       "      <td>CORE WEARABLES                                ...</td>\n",
       "      <td>AMAZFIT</td>\n",
       "    </tr>\n",
       "    <tr>\n",
       "      <th>4</th>\n",
       "      <td>23NC</td>\n",
       "      <td>2023-12-17T00:00:00.0</td>\n",
       "      <td>2023-12-24T00:00:00.0</td>\n",
       "      <td>NATALISSIMI TASSO ZERO</td>\n",
       "      <td>AMFBAND7</td>\n",
       "      <td>44.99</td>\n",
       "      <td>49.99</td>\n",
       "      <td>237</td>\n",
       "      <td>Principale</td>\n",
       "      <td>-10.0</td>\n",
       "      <td>0</td>\n",
       "      <td>CORE WEARABLES                                ...</td>\n",
       "      <td>AMAZFIT</td>\n",
       "    </tr>\n",
       "  </tbody>\n",
       "</table>\n",
       "</div>"
      ],
      "text/plain": [
       "  CODICE_VOLANTINO            DATA_INIZIO              DATA_FINE  \\\n",
       "0             23MA  2023-11-01T00:00:00.0  2023-11-08T00:00:00.0   \n",
       "1             23NA  2023-12-01T00:00:00.0  2023-12-06T00:00:00.0   \n",
       "2             23MA  2023-11-01T00:00:00.0  2023-11-08T00:00:00.0   \n",
       "3             23NA  2023-12-01T00:00:00.0  2023-12-06T00:00:00.0   \n",
       "4             23NC  2023-12-17T00:00:00.0  2023-12-24T00:00:00.0   \n",
       "\n",
       "            NOME_CAMPAGNA     ART_COD  PREZZO_PROMO  PREZZO_LISTINO  STOCK_PZ  \\\n",
       "0       BASKET TASSO ZERO  AMFACTIVEB        129.99          129.99         0   \n",
       "1       BASKET TASSO ZERO  AMFACTIVEB        129.99          129.99      1111   \n",
       "2       BASKET TASSO ZERO  AMFACTIVEP        129.99          129.99         0   \n",
       "3       BASKET TASSO ZERO  AMFACTIVEP        129.99          129.99       962   \n",
       "4  NATALISSIMI TASSO ZERO    AMFBAND7         44.99           49.99       237   \n",
       "\n",
       "  TIPOLOGIA_PRODOTTO  SCONTO_PERC  STOCK_ORD_IN_ARRIVO_PZ  \\\n",
       "0         Principale          0.0                       0   \n",
       "1         Principale          0.0                       0   \n",
       "2        Sostitutivo          0.0                       0   \n",
       "3        Sostitutivo          0.0                       0   \n",
       "4         Principale        -10.0                       0   \n",
       "\n",
       "                                       PRODUCT_GROUP  \\\n",
       "0  CORE WEARABLES                                ...   \n",
       "1  CORE WEARABLES                                ...   \n",
       "2  CORE WEARABLES                                ...   \n",
       "3  CORE WEARABLES                                ...   \n",
       "4  CORE WEARABLES                                ...   \n",
       "\n",
       "                            BRAND  \n",
       "0  AMAZFIT                         \n",
       "1  AMAZFIT                         \n",
       "2  AMAZFIT                         \n",
       "3  AMAZFIT                         \n",
       "4  AMAZFIT                         "
      ]
     },
     "metadata": {},
     "output_type": "display_data"
    },
    {
     "data": {
      "text/plain": [
       "(1382, 13)"
      ]
     },
     "execution_count": 3,
     "metadata": {},
     "output_type": "execute_result"
    }
   ],
   "source": [
    "display(anagrafica.head())\n",
    "anagrafica.shape"
   ]
  },
  {
   "cell_type": "code",
   "execution_count": 4,
   "metadata": {},
   "outputs": [],
   "source": [
    "anagrafica['DATA_INIZIO'] = anagrafica['DATA_INIZIO'].str.slice(0, 10)\n",
    "anagrafica['DATA_FINE'] = anagrafica['DATA_FINE'].str.slice(0, 10)"
   ]
  },
  {
   "cell_type": "code",
   "execution_count": 18,
   "metadata": {},
   "outputs": [
    {
     "name": "stdout",
     "output_type": "stream",
     "text": [
      "<class 'pandas.core.frame.DataFrame'>\n",
      "RangeIndex: 1382 entries, 0 to 1381\n",
      "Data columns (total 13 columns):\n",
      " #   Column                  Non-Null Count  Dtype  \n",
      "---  ------                  --------------  -----  \n",
      " 0   CODICE_VOLANTINO        1382 non-null   object \n",
      " 1   DATA_INIZIO             1382 non-null   object \n",
      " 2   DATA_FINE               1382 non-null   object \n",
      " 3   NOME_CAMPAGNA           1382 non-null   object \n",
      " 4   ART_COD                 1382 non-null   object \n",
      " 5   PREZZO_PROMO            1382 non-null   float64\n",
      " 6   PREZZO_LISTINO          1382 non-null   float64\n",
      " 7   STOCK_PZ                1382 non-null   int64  \n",
      " 8   TIPOLOGIA_PRODOTTO      1382 non-null   object \n",
      " 9   SCONTO_PERC             1382 non-null   float64\n",
      " 10  STOCK_ORD_IN_ARRIVO_PZ  1382 non-null   int64  \n",
      " 11  PRODUCT_GROUP           1382 non-null   object \n",
      " 12  BRAND                   1382 non-null   object \n",
      "dtypes: float64(3), int64(2), object(8)\n",
      "memory usage: 140.5+ KB\n"
     ]
    }
   ],
   "source": [
    "anagrafica.info()"
   ]
  },
  {
   "cell_type": "code",
   "execution_count": 5,
   "metadata": {},
   "outputs": [
    {
     "data": {
      "text/plain": [
       "CODICE_VOLANTINO          0\n",
       "DATA_INIZIO               0\n",
       "DATA_FINE                 0\n",
       "NOME_CAMPAGNA             0\n",
       "ART_COD                   0\n",
       "PREZZO_PROMO              0\n",
       "PREZZO_LISTINO            0\n",
       "STOCK_PZ                  0\n",
       "TIPOLOGIA_PRODOTTO        0\n",
       "SCONTO_PERC               0\n",
       "STOCK_ORD_IN_ARRIVO_PZ    0\n",
       "PRODUCT_GROUP             0\n",
       "BRAND                     0\n",
       "dtype: int64"
      ]
     },
     "execution_count": 5,
     "metadata": {},
     "output_type": "execute_result"
    }
   ],
   "source": [
    "anagrafica.isnull().sum()"
   ]
  },
  {
   "cell_type": "code",
   "execution_count": 20,
   "metadata": {},
   "outputs": [
    {
     "data": {
      "text/html": [
       "<div>\n",
       "<style scoped>\n",
       "    .dataframe tbody tr th:only-of-type {\n",
       "        vertical-align: middle;\n",
       "    }\n",
       "\n",
       "    .dataframe tbody tr th {\n",
       "        vertical-align: top;\n",
       "    }\n",
       "\n",
       "    .dataframe thead th {\n",
       "        text-align: right;\n",
       "    }\n",
       "</style>\n",
       "<table border=\"1\" class=\"dataframe\">\n",
       "  <thead>\n",
       "    <tr style=\"text-align: right;\">\n",
       "      <th></th>\n",
       "      <th>PREZZO_PROMO</th>\n",
       "      <th>PREZZO_LISTINO</th>\n",
       "      <th>STOCK_PZ</th>\n",
       "      <th>SCONTO_PERC</th>\n",
       "      <th>STOCK_ORD_IN_ARRIVO_PZ</th>\n",
       "    </tr>\n",
       "  </thead>\n",
       "  <tbody>\n",
       "    <tr>\n",
       "      <th>count</th>\n",
       "      <td>1382.000000</td>\n",
       "      <td>1382.000000</td>\n",
       "      <td>1382.000000</td>\n",
       "      <td>1382.000000</td>\n",
       "      <td>1382.000000</td>\n",
       "    </tr>\n",
       "    <tr>\n",
       "      <th>mean</th>\n",
       "      <td>453.479631</td>\n",
       "      <td>594.580528</td>\n",
       "      <td>717.501447</td>\n",
       "      <td>-24.398915</td>\n",
       "      <td>81.026049</td>\n",
       "    </tr>\n",
       "    <tr>\n",
       "      <th>std</th>\n",
       "      <td>369.127898</td>\n",
       "      <td>467.894516</td>\n",
       "      <td>1832.580655</td>\n",
       "      <td>14.699590</td>\n",
       "      <td>207.379155</td>\n",
       "    </tr>\n",
       "    <tr>\n",
       "      <th>min</th>\n",
       "      <td>24.990000</td>\n",
       "      <td>0.000000</td>\n",
       "      <td>-15117.000000</td>\n",
       "      <td>-83.330000</td>\n",
       "      <td>0.000000</td>\n",
       "    </tr>\n",
       "    <tr>\n",
       "      <th>25%</th>\n",
       "      <td>179.990000</td>\n",
       "      <td>269.900000</td>\n",
       "      <td>53.000000</td>\n",
       "      <td>-35.840000</td>\n",
       "      <td>1.000000</td>\n",
       "    </tr>\n",
       "    <tr>\n",
       "      <th>50%</th>\n",
       "      <td>349.900000</td>\n",
       "      <td>459.000000</td>\n",
       "      <td>310.000000</td>\n",
       "      <td>-25.000000</td>\n",
       "      <td>7.000000</td>\n",
       "    </tr>\n",
       "    <tr>\n",
       "      <th>75%</th>\n",
       "      <td>599.900000</td>\n",
       "      <td>829.900000</td>\n",
       "      <td>885.750000</td>\n",
       "      <td>-11.120000</td>\n",
       "      <td>45.000000</td>\n",
       "    </tr>\n",
       "    <tr>\n",
       "      <th>max</th>\n",
       "      <td>2899.000000</td>\n",
       "      <td>4299.000000</td>\n",
       "      <td>19826.000000</td>\n",
       "      <td>35.730000</td>\n",
       "      <td>1831.000000</td>\n",
       "    </tr>\n",
       "  </tbody>\n",
       "</table>\n",
       "</div>"
      ],
      "text/plain": [
       "       PREZZO_PROMO  PREZZO_LISTINO      STOCK_PZ  SCONTO_PERC  \\\n",
       "count   1382.000000     1382.000000   1382.000000  1382.000000   \n",
       "mean     453.479631      594.580528    717.501447   -24.398915   \n",
       "std      369.127898      467.894516   1832.580655    14.699590   \n",
       "min       24.990000        0.000000 -15117.000000   -83.330000   \n",
       "25%      179.990000      269.900000     53.000000   -35.840000   \n",
       "50%      349.900000      459.000000    310.000000   -25.000000   \n",
       "75%      599.900000      829.900000    885.750000   -11.120000   \n",
       "max     2899.000000     4299.000000  19826.000000    35.730000   \n",
       "\n",
       "       STOCK_ORD_IN_ARRIVO_PZ  \n",
       "count             1382.000000  \n",
       "mean                81.026049  \n",
       "std                207.379155  \n",
       "min                  0.000000  \n",
       "25%                  1.000000  \n",
       "50%                  7.000000  \n",
       "75%                 45.000000  \n",
       "max               1831.000000  "
      ]
     },
     "execution_count": 20,
     "metadata": {},
     "output_type": "execute_result"
    }
   ],
   "source": [
    "anagrafica.describe()"
   ]
  },
  {
   "cell_type": "code",
   "execution_count": 21,
   "metadata": {},
   "outputs": [],
   "source": [
    "anagrafica['SCONTO_PERC'] = anagrafica['SCONTO_PERC'].abs()"
   ]
  },
  {
   "cell_type": "code",
   "execution_count": 22,
   "metadata": {},
   "outputs": [],
   "source": [
    "# REPLACE 0 WITH NAN IN PREZZO_LISTINO\n",
    "\n",
    "anagrafica['PREZZO_LISTINO'].replace(0, np.nan, inplace=True)"
   ]
  },
  {
   "cell_type": "code",
   "execution_count": 23,
   "metadata": {},
   "outputs": [],
   "source": [
    "# RETRIEVE MISSING PREZZO_LISTINO BY AVERAGING PRICES WITH THE SAME ART_CODE\n",
    "\n",
    "for i in range(anagrafica.shape[0]):\n",
    "    if pd.isna(anagrafica['PREZZO_LISTINO'][i]):\n",
    "        df = anagrafica[anagrafica['ART_COD'] == anagrafica['ART_COD'][i]].reset_index()\n",
    "        if pd.notnull(df['PREZZO_LISTINO'].mean()):\n",
    "            anagrafica['PREZZO_LISTINO'][i] = df['PREZZO_LISTINO'].mean()"
   ]
  },
  {
   "cell_type": "code",
   "execution_count": 24,
   "metadata": {},
   "outputs": [],
   "source": [
    "# CALCULATE SCONTO_PERC WHERE I HAVE BOTH PREZZO_LISTINO AND PREZZO_PROMO\n",
    "\n",
    "condizione = (\n",
    "    pd.notnull(anagrafica['PREZZO_LISTINO']) &\n",
    "    pd.notnull(anagrafica['PREZZO_PROMO']) &\n",
    "    pd.isnull(anagrafica['SCONTO_PERC']) &\n",
    "    (anagrafica['PREZZO_PROMO'] <= anagrafica['PREZZO_LISTINO'])\n",
    ")\n",
    "\n",
    "anagrafica['SCONTO_PERC'] = np.where(\n",
    "    condizione,\n",
    "    ((anagrafica['PREZZO_LISTINO'] - anagrafica['PREZZO_PROMO']) / anagrafica['PREZZO_LISTINO']) * 100,\n",
    "    anagrafica['SCONTO_PERC']\n",
    ")"
   ]
  },
  {
   "cell_type": "code",
   "execution_count": 25,
   "metadata": {},
   "outputs": [],
   "source": [
    "# CALCULATE PREZZO_PROMO WHERE I HAVE BOTH PREZZO_LISTINO AND SCONTO_PERC\n",
    "\n",
    "condizione = (\n",
    "    pd.notnull(anagrafica['PREZZO_LISTINO']) &\n",
    "    pd.isnull(anagrafica['PREZZO_PROMO']) &\n",
    "    pd.notnull(anagrafica['SCONTO_PERC'])\n",
    ")\n",
    "\n",
    "anagrafica['PREZZO_PROMO'] = np.where(\n",
    "    condizione,\n",
    "    anagrafica['PREZZO_LISTINO'] * (1 - (anagrafica['SCONTO_PERC'])/100),\n",
    "    anagrafica['PREZZO_PROMO']\n",
    ")"
   ]
  },
  {
   "cell_type": "code",
   "execution_count": 26,
   "metadata": {},
   "outputs": [
    {
     "data": {
      "text/plain": [
       "CODICE_VOLANTINO          0\n",
       "DATA_INIZIO               0\n",
       "DATA_FINE                 0\n",
       "NOME_CAMPAGNA             0\n",
       "ART_COD                   0\n",
       "PREZZO_PROMO              0\n",
       "PREZZO_LISTINO            0\n",
       "STOCK_PZ                  0\n",
       "TIPOLOGIA_PRODOTTO        0\n",
       "SCONTO_PERC               0\n",
       "STOCK_ORD_IN_ARRIVO_PZ    0\n",
       "PRODUCT_GROUP             0\n",
       "BRAND                     0\n",
       "dtype: int64"
      ]
     },
     "execution_count": 26,
     "metadata": {},
     "output_type": "execute_result"
    }
   ],
   "source": [
    "anagrafica.isnull().sum()"
   ]
  },
  {
   "cell_type": "code",
   "execution_count": 27,
   "metadata": {},
   "outputs": [],
   "source": [
    "x = list(anagrafica[anagrafica['PREZZO_LISTINO'].isnull()]['ART_COD'].unique())  "
   ]
  },
  {
   "cell_type": "markdown",
   "metadata": {},
   "source": [
    "x is a list containing the 'ART_COD' of all the product that have a 'PREZZO_LISTINO' null.\n",
    "\n",
    "We will use this list later."
   ]
  },
  {
   "cell_type": "code",
   "execution_count": 28,
   "metadata": {},
   "outputs": [
    {
     "data": {
      "text/html": [
       "<div>\n",
       "<style scoped>\n",
       "    .dataframe tbody tr th:only-of-type {\n",
       "        vertical-align: middle;\n",
       "    }\n",
       "\n",
       "    .dataframe tbody tr th {\n",
       "        vertical-align: top;\n",
       "    }\n",
       "\n",
       "    .dataframe thead th {\n",
       "        text-align: right;\n",
       "    }\n",
       "</style>\n",
       "<table border=\"1\" class=\"dataframe\">\n",
       "  <thead>\n",
       "    <tr style=\"text-align: right;\">\n",
       "      <th></th>\n",
       "      <th>CODICE_VOLANTINO</th>\n",
       "      <th>DATA_INIZIO</th>\n",
       "      <th>DATA_FINE</th>\n",
       "      <th>NOME_CAMPAGNA</th>\n",
       "      <th>ART_COD</th>\n",
       "      <th>PREZZO_PROMO</th>\n",
       "      <th>PREZZO_LISTINO</th>\n",
       "      <th>STOCK_PZ</th>\n",
       "      <th>TIPOLOGIA_PRODOTTO</th>\n",
       "      <th>SCONTO_PERC</th>\n",
       "      <th>STOCK_ORD_IN_ARRIVO_PZ</th>\n",
       "      <th>PRODUCT_GROUP</th>\n",
       "      <th>BRAND</th>\n",
       "    </tr>\n",
       "  </thead>\n",
       "  <tbody>\n",
       "    <tr>\n",
       "      <th>0</th>\n",
       "      <td>23MA</td>\n",
       "      <td>2023-11-01</td>\n",
       "      <td>2023-11-08</td>\n",
       "      <td>BASKET TASSO ZERO</td>\n",
       "      <td>AMFACTIVEB</td>\n",
       "      <td>129.99</td>\n",
       "      <td>129.99</td>\n",
       "      <td>0</td>\n",
       "      <td>Principale</td>\n",
       "      <td>0.00</td>\n",
       "      <td>0</td>\n",
       "      <td>CORE WEARABLES                                ...</td>\n",
       "      <td>AMAZFIT</td>\n",
       "    </tr>\n",
       "    <tr>\n",
       "      <th>1</th>\n",
       "      <td>23NA</td>\n",
       "      <td>2023-12-01</td>\n",
       "      <td>2023-12-06</td>\n",
       "      <td>BASKET TASSO ZERO</td>\n",
       "      <td>AMFACTIVEB</td>\n",
       "      <td>129.99</td>\n",
       "      <td>129.99</td>\n",
       "      <td>1111</td>\n",
       "      <td>Principale</td>\n",
       "      <td>0.00</td>\n",
       "      <td>0</td>\n",
       "      <td>CORE WEARABLES                                ...</td>\n",
       "      <td>AMAZFIT</td>\n",
       "    </tr>\n",
       "    <tr>\n",
       "      <th>2</th>\n",
       "      <td>23MA</td>\n",
       "      <td>2023-11-01</td>\n",
       "      <td>2023-11-08</td>\n",
       "      <td>BASKET TASSO ZERO</td>\n",
       "      <td>AMFACTIVEP</td>\n",
       "      <td>129.99</td>\n",
       "      <td>129.99</td>\n",
       "      <td>0</td>\n",
       "      <td>Sostitutivo</td>\n",
       "      <td>0.00</td>\n",
       "      <td>0</td>\n",
       "      <td>CORE WEARABLES                                ...</td>\n",
       "      <td>AMAZFIT</td>\n",
       "    </tr>\n",
       "    <tr>\n",
       "      <th>3</th>\n",
       "      <td>23NA</td>\n",
       "      <td>2023-12-01</td>\n",
       "      <td>2023-12-06</td>\n",
       "      <td>BASKET TASSO ZERO</td>\n",
       "      <td>AMFACTIVEP</td>\n",
       "      <td>129.99</td>\n",
       "      <td>129.99</td>\n",
       "      <td>962</td>\n",
       "      <td>Sostitutivo</td>\n",
       "      <td>0.00</td>\n",
       "      <td>0</td>\n",
       "      <td>CORE WEARABLES                                ...</td>\n",
       "      <td>AMAZFIT</td>\n",
       "    </tr>\n",
       "    <tr>\n",
       "      <th>7</th>\n",
       "      <td>23NA</td>\n",
       "      <td>2023-12-01</td>\n",
       "      <td>2023-12-06</td>\n",
       "      <td>BASKET TASSO ZERO</td>\n",
       "      <td>AMFBIP5</td>\n",
       "      <td>89.99</td>\n",
       "      <td>89.99</td>\n",
       "      <td>-98</td>\n",
       "      <td>Principale</td>\n",
       "      <td>0.00</td>\n",
       "      <td>0</td>\n",
       "      <td>CORE WEARABLES                                ...</td>\n",
       "      <td>AMAZFIT</td>\n",
       "    </tr>\n",
       "    <tr>\n",
       "      <th>...</th>\n",
       "      <td>...</td>\n",
       "      <td>...</td>\n",
       "      <td>...</td>\n",
       "      <td>...</td>\n",
       "      <td>...</td>\n",
       "      <td>...</td>\n",
       "      <td>...</td>\n",
       "      <td>...</td>\n",
       "      <td>...</td>\n",
       "      <td>...</td>\n",
       "      <td>...</td>\n",
       "      <td>...</td>\n",
       "      <td>...</td>\n",
       "    </tr>\n",
       "    <tr>\n",
       "      <th>1181</th>\n",
       "      <td>23NA</td>\n",
       "      <td>2023-12-01</td>\n",
       "      <td>2023-12-06</td>\n",
       "      <td>BASKET TASSO ZERO</td>\n",
       "      <td>MOTRAZR40ULTRA256</td>\n",
       "      <td>1199.00</td>\n",
       "      <td>1199.00</td>\n",
       "      <td>82</td>\n",
       "      <td>Principale</td>\n",
       "      <td>0.00</td>\n",
       "      <td>1</td>\n",
       "      <td>SMARTPHONES                                   ...</td>\n",
       "      <td>MOTOROLA</td>\n",
       "    </tr>\n",
       "    <tr>\n",
       "      <th>1325</th>\n",
       "      <td>23NA</td>\n",
       "      <td>2023-12-01</td>\n",
       "      <td>2023-12-06</td>\n",
       "      <td>BASKET TASSO ZERO</td>\n",
       "      <td>XIA13TPRO12512B</td>\n",
       "      <td>899.90</td>\n",
       "      <td>899.90</td>\n",
       "      <td>49</td>\n",
       "      <td>Sostitutivo</td>\n",
       "      <td>0.00</td>\n",
       "      <td>1</td>\n",
       "      <td>SMARTPHONES                                   ...</td>\n",
       "      <td>XIAOMI</td>\n",
       "    </tr>\n",
       "    <tr>\n",
       "      <th>1342</th>\n",
       "      <td>23NC</td>\n",
       "      <td>2023-12-17</td>\n",
       "      <td>2023-12-24</td>\n",
       "      <td>NATALISSIMI TASSO ZERO</td>\n",
       "      <td>XIAREDMI13C128</td>\n",
       "      <td>159.99</td>\n",
       "      <td>159.90</td>\n",
       "      <td>-4</td>\n",
       "      <td>Principale</td>\n",
       "      <td>0.06</td>\n",
       "      <td>0</td>\n",
       "      <td>SMARTPHONES                                   ...</td>\n",
       "      <td>XIAOMI</td>\n",
       "    </tr>\n",
       "    <tr>\n",
       "      <th>1343</th>\n",
       "      <td>23NC</td>\n",
       "      <td>2023-12-17</td>\n",
       "      <td>2023-12-24</td>\n",
       "      <td>NATALISSIMI TASSO ZERO</td>\n",
       "      <td>XIAREDMI13C128G</td>\n",
       "      <td>159.99</td>\n",
       "      <td>159.90</td>\n",
       "      <td>0</td>\n",
       "      <td>Sostitutivo</td>\n",
       "      <td>0.06</td>\n",
       "      <td>0</td>\n",
       "      <td>SMARTPHONES                                   ...</td>\n",
       "      <td>XIAOMI</td>\n",
       "    </tr>\n",
       "    <tr>\n",
       "      <th>1344</th>\n",
       "      <td>23NC</td>\n",
       "      <td>2023-12-17</td>\n",
       "      <td>2023-12-24</td>\n",
       "      <td>NATALISSIMI TASSO ZERO</td>\n",
       "      <td>XIAREDMI13C128W</td>\n",
       "      <td>159.99</td>\n",
       "      <td>159.90</td>\n",
       "      <td>0</td>\n",
       "      <td>Sostitutivo</td>\n",
       "      <td>0.06</td>\n",
       "      <td>0</td>\n",
       "      <td>SMARTPHONES                                   ...</td>\n",
       "      <td>XIAOMI</td>\n",
       "    </tr>\n",
       "  </tbody>\n",
       "</table>\n",
       "<p>86 rows × 13 columns</p>\n",
       "</div>"
      ],
      "text/plain": [
       "     CODICE_VOLANTINO DATA_INIZIO   DATA_FINE           NOME_CAMPAGNA  \\\n",
       "0                23MA  2023-11-01  2023-11-08       BASKET TASSO ZERO   \n",
       "1                23NA  2023-12-01  2023-12-06       BASKET TASSO ZERO   \n",
       "2                23MA  2023-11-01  2023-11-08       BASKET TASSO ZERO   \n",
       "3                23NA  2023-12-01  2023-12-06       BASKET TASSO ZERO   \n",
       "7                23NA  2023-12-01  2023-12-06       BASKET TASSO ZERO   \n",
       "...               ...         ...         ...                     ...   \n",
       "1181             23NA  2023-12-01  2023-12-06       BASKET TASSO ZERO   \n",
       "1325             23NA  2023-12-01  2023-12-06       BASKET TASSO ZERO   \n",
       "1342             23NC  2023-12-17  2023-12-24  NATALISSIMI TASSO ZERO   \n",
       "1343             23NC  2023-12-17  2023-12-24  NATALISSIMI TASSO ZERO   \n",
       "1344             23NC  2023-12-17  2023-12-24  NATALISSIMI TASSO ZERO   \n",
       "\n",
       "                ART_COD  PREZZO_PROMO  PREZZO_LISTINO  STOCK_PZ  \\\n",
       "0            AMFACTIVEB        129.99          129.99         0   \n",
       "1            AMFACTIVEB        129.99          129.99      1111   \n",
       "2            AMFACTIVEP        129.99          129.99         0   \n",
       "3            AMFACTIVEP        129.99          129.99       962   \n",
       "7               AMFBIP5         89.99           89.99       -98   \n",
       "...                 ...           ...             ...       ...   \n",
       "1181  MOTRAZR40ULTRA256       1199.00         1199.00        82   \n",
       "1325    XIA13TPRO12512B        899.90          899.90        49   \n",
       "1342     XIAREDMI13C128        159.99          159.90        -4   \n",
       "1343    XIAREDMI13C128G        159.99          159.90         0   \n",
       "1344    XIAREDMI13C128W        159.99          159.90         0   \n",
       "\n",
       "     TIPOLOGIA_PRODOTTO  SCONTO_PERC  STOCK_ORD_IN_ARRIVO_PZ  \\\n",
       "0            Principale         0.00                       0   \n",
       "1            Principale         0.00                       0   \n",
       "2           Sostitutivo         0.00                       0   \n",
       "3           Sostitutivo         0.00                       0   \n",
       "7            Principale         0.00                       0   \n",
       "...                 ...          ...                     ...   \n",
       "1181         Principale         0.00                       1   \n",
       "1325        Sostitutivo         0.00                       1   \n",
       "1342         Principale         0.06                       0   \n",
       "1343        Sostitutivo         0.06                       0   \n",
       "1344        Sostitutivo         0.06                       0   \n",
       "\n",
       "                                          PRODUCT_GROUP  \\\n",
       "0     CORE WEARABLES                                ...   \n",
       "1     CORE WEARABLES                                ...   \n",
       "2     CORE WEARABLES                                ...   \n",
       "3     CORE WEARABLES                                ...   \n",
       "7     CORE WEARABLES                                ...   \n",
       "...                                                 ...   \n",
       "1181  SMARTPHONES                                   ...   \n",
       "1325  SMARTPHONES                                   ...   \n",
       "1342  SMARTPHONES                                   ...   \n",
       "1343  SMARTPHONES                                   ...   \n",
       "1344  SMARTPHONES                                   ...   \n",
       "\n",
       "                               BRAND  \n",
       "0     AMAZFIT                         \n",
       "1     AMAZFIT                         \n",
       "2     AMAZFIT                         \n",
       "3     AMAZFIT                         \n",
       "7     AMAZFIT                         \n",
       "...                              ...  \n",
       "1181  MOTOROLA                        \n",
       "1325  XIAOMI                          \n",
       "1342  XIAOMI                          \n",
       "1343  XIAOMI                          \n",
       "1344  XIAOMI                          \n",
       "\n",
       "[86 rows x 13 columns]"
      ]
     },
     "execution_count": 28,
     "metadata": {},
     "output_type": "execute_result"
    }
   ],
   "source": [
    "anagrafica[anagrafica['SCONTO_PERC']<1]"
   ]
  },
  {
   "cell_type": "code",
   "execution_count": 29,
   "metadata": {},
   "outputs": [],
   "source": [
    "anagrafica.loc[anagrafica['SCONTO_PERC']<1, 'SCONTO_PERC'] *= 100"
   ]
  },
  {
   "cell_type": "code",
   "execution_count": 30,
   "metadata": {},
   "outputs": [
    {
     "data": {
      "text/html": [
       "<div>\n",
       "<style scoped>\n",
       "    .dataframe tbody tr th:only-of-type {\n",
       "        vertical-align: middle;\n",
       "    }\n",
       "\n",
       "    .dataframe tbody tr th {\n",
       "        vertical-align: top;\n",
       "    }\n",
       "\n",
       "    .dataframe thead th {\n",
       "        text-align: right;\n",
       "    }\n",
       "</style>\n",
       "<table border=\"1\" class=\"dataframe\">\n",
       "  <thead>\n",
       "    <tr style=\"text-align: right;\">\n",
       "      <th></th>\n",
       "      <th>PREZZO_PROMO</th>\n",
       "      <th>PREZZO_LISTINO</th>\n",
       "      <th>STOCK_PZ</th>\n",
       "      <th>SCONTO_PERC</th>\n",
       "      <th>STOCK_ORD_IN_ARRIVO_PZ</th>\n",
       "    </tr>\n",
       "  </thead>\n",
       "  <tbody>\n",
       "    <tr>\n",
       "      <th>count</th>\n",
       "      <td>1382.000000</td>\n",
       "      <td>1382.000000</td>\n",
       "      <td>1382.000000</td>\n",
       "      <td>1382.000000</td>\n",
       "      <td>1382.000000</td>\n",
       "    </tr>\n",
       "    <tr>\n",
       "      <th>mean</th>\n",
       "      <td>453.479631</td>\n",
       "      <td>595.520470</td>\n",
       "      <td>717.501447</td>\n",
       "      <td>25.096715</td>\n",
       "      <td>81.026049</td>\n",
       "    </tr>\n",
       "    <tr>\n",
       "      <th>std</th>\n",
       "      <td>369.127898</td>\n",
       "      <td>468.003964</td>\n",
       "      <td>1832.580655</td>\n",
       "      <td>14.571946</td>\n",
       "      <td>207.379155</td>\n",
       "    </tr>\n",
       "    <tr>\n",
       "      <th>min</th>\n",
       "      <td>24.990000</td>\n",
       "      <td>24.990000</td>\n",
       "      <td>-15117.000000</td>\n",
       "      <td>0.000000</td>\n",
       "      <td>0.000000</td>\n",
       "    </tr>\n",
       "    <tr>\n",
       "      <th>25%</th>\n",
       "      <td>179.990000</td>\n",
       "      <td>269.900000</td>\n",
       "      <td>53.000000</td>\n",
       "      <td>12.500000</td>\n",
       "      <td>1.000000</td>\n",
       "    </tr>\n",
       "    <tr>\n",
       "      <th>50%</th>\n",
       "      <td>349.900000</td>\n",
       "      <td>459.000000</td>\n",
       "      <td>310.000000</td>\n",
       "      <td>25.020000</td>\n",
       "      <td>7.000000</td>\n",
       "    </tr>\n",
       "    <tr>\n",
       "      <th>75%</th>\n",
       "      <td>599.900000</td>\n",
       "      <td>829.900000</td>\n",
       "      <td>885.750000</td>\n",
       "      <td>35.840000</td>\n",
       "      <td>45.000000</td>\n",
       "    </tr>\n",
       "    <tr>\n",
       "      <th>max</th>\n",
       "      <td>2899.000000</td>\n",
       "      <td>4299.000000</td>\n",
       "      <td>19826.000000</td>\n",
       "      <td>90.000000</td>\n",
       "      <td>1831.000000</td>\n",
       "    </tr>\n",
       "  </tbody>\n",
       "</table>\n",
       "</div>"
      ],
      "text/plain": [
       "       PREZZO_PROMO  PREZZO_LISTINO      STOCK_PZ  SCONTO_PERC  \\\n",
       "count   1382.000000     1382.000000   1382.000000  1382.000000   \n",
       "mean     453.479631      595.520470    717.501447    25.096715   \n",
       "std      369.127898      468.003964   1832.580655    14.571946   \n",
       "min       24.990000       24.990000 -15117.000000     0.000000   \n",
       "25%      179.990000      269.900000     53.000000    12.500000   \n",
       "50%      349.900000      459.000000    310.000000    25.020000   \n",
       "75%      599.900000      829.900000    885.750000    35.840000   \n",
       "max     2899.000000     4299.000000  19826.000000    90.000000   \n",
       "\n",
       "       STOCK_ORD_IN_ARRIVO_PZ  \n",
       "count             1382.000000  \n",
       "mean                81.026049  \n",
       "std                207.379155  \n",
       "min                  0.000000  \n",
       "25%                  1.000000  \n",
       "50%                  7.000000  \n",
       "75%                 45.000000  \n",
       "max               1831.000000  "
      ]
     },
     "execution_count": 30,
     "metadata": {},
     "output_type": "execute_result"
    }
   ],
   "source": [
    "anagrafica.describe()"
   ]
  },
  {
   "cell_type": "code",
   "execution_count": 31,
   "metadata": {},
   "outputs": [
    {
     "data": {
      "text/plain": [
       "CODICE_VOLANTINO          0\n",
       "DATA_INIZIO               0\n",
       "DATA_FINE                 0\n",
       "NOME_CAMPAGNA             0\n",
       "ART_COD                   0\n",
       "PREZZO_PROMO              0\n",
       "PREZZO_LISTINO            0\n",
       "STOCK_PZ                  0\n",
       "TIPOLOGIA_PRODOTTO        0\n",
       "SCONTO_PERC               0\n",
       "STOCK_ORD_IN_ARRIVO_PZ    0\n",
       "PRODUCT_GROUP             0\n",
       "BRAND                     0\n",
       "dtype: int64"
      ]
     },
     "execution_count": 31,
     "metadata": {},
     "output_type": "execute_result"
    }
   ],
   "source": [
    "anagrafica.isnull().sum()"
   ]
  },
  {
   "cell_type": "code",
   "execution_count": 32,
   "metadata": {},
   "outputs": [
    {
     "data": {
      "text/html": [
       "<div>\n",
       "<style scoped>\n",
       "    .dataframe tbody tr th:only-of-type {\n",
       "        vertical-align: middle;\n",
       "    }\n",
       "\n",
       "    .dataframe tbody tr th {\n",
       "        vertical-align: top;\n",
       "    }\n",
       "\n",
       "    .dataframe thead th {\n",
       "        text-align: right;\n",
       "    }\n",
       "</style>\n",
       "<table border=\"1\" class=\"dataframe\">\n",
       "  <thead>\n",
       "    <tr style=\"text-align: right;\">\n",
       "      <th></th>\n",
       "      <th>CODICE_VOLANTINO</th>\n",
       "      <th>DATA_INIZIO</th>\n",
       "      <th>DATA_FINE</th>\n",
       "      <th>NOME_CAMPAGNA</th>\n",
       "      <th>ART_COD</th>\n",
       "      <th>PREZZO_PROMO</th>\n",
       "      <th>PREZZO_LISTINO</th>\n",
       "      <th>STOCK_PZ</th>\n",
       "      <th>TIPOLOGIA_PRODOTTO</th>\n",
       "      <th>SCONTO_PERC</th>\n",
       "      <th>STOCK_ORD_IN_ARRIVO_PZ</th>\n",
       "      <th>PRODUCT_GROUP</th>\n",
       "      <th>BRAND</th>\n",
       "    </tr>\n",
       "  </thead>\n",
       "  <tbody>\n",
       "    <tr>\n",
       "      <th>7</th>\n",
       "      <td>23NA</td>\n",
       "      <td>2023-12-01</td>\n",
       "      <td>2023-12-06</td>\n",
       "      <td>BASKET TASSO ZERO</td>\n",
       "      <td>AMFBIP5</td>\n",
       "      <td>89.99</td>\n",
       "      <td>89.99</td>\n",
       "      <td>-98</td>\n",
       "      <td>Principale</td>\n",
       "      <td>0.00</td>\n",
       "      <td>0</td>\n",
       "      <td>CORE WEARABLES                                ...</td>\n",
       "      <td>AMAZFIT</td>\n",
       "    </tr>\n",
       "    <tr>\n",
       "      <th>8</th>\n",
       "      <td>23NA</td>\n",
       "      <td>2023-12-01</td>\n",
       "      <td>2023-12-06</td>\n",
       "      <td>BASKET TASSO ZERO</td>\n",
       "      <td>AMFBIP5W</td>\n",
       "      <td>89.99</td>\n",
       "      <td>89.99</td>\n",
       "      <td>-46</td>\n",
       "      <td>Sostitutivo</td>\n",
       "      <td>0.00</td>\n",
       "      <td>0</td>\n",
       "      <td>CORE WEARABLES                                ...</td>\n",
       "      <td>AMAZFIT</td>\n",
       "    </tr>\n",
       "    <tr>\n",
       "      <th>152</th>\n",
       "      <td>23NA</td>\n",
       "      <td>2023-12-01</td>\n",
       "      <td>2023-12-06</td>\n",
       "      <td>BASKET TASSO ZERO</td>\n",
       "      <td>XIAWATCH2PROBT</td>\n",
       "      <td>249.90</td>\n",
       "      <td>269.90</td>\n",
       "      <td>-4</td>\n",
       "      <td>Principale</td>\n",
       "      <td>7.41</td>\n",
       "      <td>0</td>\n",
       "      <td>CORE WEARABLES                                ...</td>\n",
       "      <td>XIAOMI</td>\n",
       "    </tr>\n",
       "    <tr>\n",
       "      <th>170</th>\n",
       "      <td>23NA</td>\n",
       "      <td>2023-12-01</td>\n",
       "      <td>2023-12-06</td>\n",
       "      <td>BASKET TASSO ZERO</td>\n",
       "      <td>APLMLXY3TA</td>\n",
       "      <td>1199.00</td>\n",
       "      <td>1349.00</td>\n",
       "      <td>-8</td>\n",
       "      <td>Sostitutivo</td>\n",
       "      <td>11.12</td>\n",
       "      <td>4</td>\n",
       "      <td>MOBILE COMPUTING                              ...</td>\n",
       "      <td>APPLE</td>\n",
       "    </tr>\n",
       "    <tr>\n",
       "      <th>171</th>\n",
       "      <td>23NC</td>\n",
       "      <td>2023-12-17</td>\n",
       "      <td>2023-12-24</td>\n",
       "      <td>NATALISSIMI TASSO ZERO</td>\n",
       "      <td>APLMLXY3TA</td>\n",
       "      <td>1199.00</td>\n",
       "      <td>1349.00</td>\n",
       "      <td>-21</td>\n",
       "      <td>Sostitutivo</td>\n",
       "      <td>11.12</td>\n",
       "      <td>6</td>\n",
       "      <td>MOBILE COMPUTING                              ...</td>\n",
       "      <td>APPLE</td>\n",
       "    </tr>\n",
       "    <tr>\n",
       "      <th>...</th>\n",
       "      <td>...</td>\n",
       "      <td>...</td>\n",
       "      <td>...</td>\n",
       "      <td>...</td>\n",
       "      <td>...</td>\n",
       "      <td>...</td>\n",
       "      <td>...</td>\n",
       "      <td>...</td>\n",
       "      <td>...</td>\n",
       "      <td>...</td>\n",
       "      <td>...</td>\n",
       "      <td>...</td>\n",
       "      <td>...</td>\n",
       "    </tr>\n",
       "    <tr>\n",
       "      <th>1377</th>\n",
       "      <td>23NC</td>\n",
       "      <td>2023-12-17</td>\n",
       "      <td>2023-12-24</td>\n",
       "      <td>NATALISSIMI TASSO ZERO</td>\n",
       "      <td>XIARENOTE12PRO256GR</td>\n",
       "      <td>249.90</td>\n",
       "      <td>399.90</td>\n",
       "      <td>-44</td>\n",
       "      <td>Sostitutivo</td>\n",
       "      <td>37.51</td>\n",
       "      <td>0</td>\n",
       "      <td>SMARTPHONES                                   ...</td>\n",
       "      <td>XIAOMI</td>\n",
       "    </tr>\n",
       "    <tr>\n",
       "      <th>1378</th>\n",
       "      <td>23MC</td>\n",
       "      <td>2023-11-16</td>\n",
       "      <td>2023-11-22</td>\n",
       "      <td>BLACK FRIDAY 2 - TASSO ZERO</td>\n",
       "      <td>XIARENOTE12PRO256GR</td>\n",
       "      <td>249.90</td>\n",
       "      <td>399.90</td>\n",
       "      <td>-19</td>\n",
       "      <td>Sostitutivo</td>\n",
       "      <td>37.51</td>\n",
       "      <td>0</td>\n",
       "      <td>SMARTPHONES                                   ...</td>\n",
       "      <td>XIAOMI</td>\n",
       "    </tr>\n",
       "    <tr>\n",
       "      <th>1379</th>\n",
       "      <td>23NA</td>\n",
       "      <td>2023-12-01</td>\n",
       "      <td>2023-12-06</td>\n",
       "      <td>BASKET TASSO ZERO</td>\n",
       "      <td>XIARENOTE12PRO256W</td>\n",
       "      <td>249.90</td>\n",
       "      <td>399.90</td>\n",
       "      <td>-42</td>\n",
       "      <td>Sostitutivo</td>\n",
       "      <td>37.51</td>\n",
       "      <td>0</td>\n",
       "      <td>SMARTPHONES                                   ...</td>\n",
       "      <td>XIAOMI</td>\n",
       "    </tr>\n",
       "    <tr>\n",
       "      <th>1380</th>\n",
       "      <td>23NC</td>\n",
       "      <td>2023-12-17</td>\n",
       "      <td>2023-12-24</td>\n",
       "      <td>NATALISSIMI TASSO ZERO</td>\n",
       "      <td>XIARENOTE12PRO256W</td>\n",
       "      <td>249.90</td>\n",
       "      <td>399.90</td>\n",
       "      <td>-51</td>\n",
       "      <td>Sostitutivo</td>\n",
       "      <td>37.51</td>\n",
       "      <td>0</td>\n",
       "      <td>SMARTPHONES                                   ...</td>\n",
       "      <td>XIAOMI</td>\n",
       "    </tr>\n",
       "    <tr>\n",
       "      <th>1381</th>\n",
       "      <td>23MC</td>\n",
       "      <td>2023-11-16</td>\n",
       "      <td>2023-11-22</td>\n",
       "      <td>BLACK FRIDAY 2 - TASSO ZERO</td>\n",
       "      <td>XIARENOTE12PRO256W</td>\n",
       "      <td>249.90</td>\n",
       "      <td>399.90</td>\n",
       "      <td>-37</td>\n",
       "      <td>Sostitutivo</td>\n",
       "      <td>37.51</td>\n",
       "      <td>0</td>\n",
       "      <td>SMARTPHONES                                   ...</td>\n",
       "      <td>XIAOMI</td>\n",
       "    </tr>\n",
       "  </tbody>\n",
       "</table>\n",
       "<p>141 rows × 13 columns</p>\n",
       "</div>"
      ],
      "text/plain": [
       "     CODICE_VOLANTINO DATA_INIZIO   DATA_FINE                NOME_CAMPAGNA  \\\n",
       "7                23NA  2023-12-01  2023-12-06            BASKET TASSO ZERO   \n",
       "8                23NA  2023-12-01  2023-12-06            BASKET TASSO ZERO   \n",
       "152              23NA  2023-12-01  2023-12-06            BASKET TASSO ZERO   \n",
       "170              23NA  2023-12-01  2023-12-06            BASKET TASSO ZERO   \n",
       "171              23NC  2023-12-17  2023-12-24       NATALISSIMI TASSO ZERO   \n",
       "...               ...         ...         ...                          ...   \n",
       "1377             23NC  2023-12-17  2023-12-24       NATALISSIMI TASSO ZERO   \n",
       "1378             23MC  2023-11-16  2023-11-22  BLACK FRIDAY 2 - TASSO ZERO   \n",
       "1379             23NA  2023-12-01  2023-12-06            BASKET TASSO ZERO   \n",
       "1380             23NC  2023-12-17  2023-12-24       NATALISSIMI TASSO ZERO   \n",
       "1381             23MC  2023-11-16  2023-11-22  BLACK FRIDAY 2 - TASSO ZERO   \n",
       "\n",
       "                  ART_COD  PREZZO_PROMO  PREZZO_LISTINO  STOCK_PZ  \\\n",
       "7                 AMFBIP5         89.99           89.99       -98   \n",
       "8                AMFBIP5W         89.99           89.99       -46   \n",
       "152        XIAWATCH2PROBT        249.90          269.90        -4   \n",
       "170            APLMLXY3TA       1199.00         1349.00        -8   \n",
       "171            APLMLXY3TA       1199.00         1349.00       -21   \n",
       "...                   ...           ...             ...       ...   \n",
       "1377  XIARENOTE12PRO256GR        249.90          399.90       -44   \n",
       "1378  XIARENOTE12PRO256GR        249.90          399.90       -19   \n",
       "1379   XIARENOTE12PRO256W        249.90          399.90       -42   \n",
       "1380   XIARENOTE12PRO256W        249.90          399.90       -51   \n",
       "1381   XIARENOTE12PRO256W        249.90          399.90       -37   \n",
       "\n",
       "     TIPOLOGIA_PRODOTTO  SCONTO_PERC  STOCK_ORD_IN_ARRIVO_PZ  \\\n",
       "7            Principale         0.00                       0   \n",
       "8           Sostitutivo         0.00                       0   \n",
       "152          Principale         7.41                       0   \n",
       "170         Sostitutivo        11.12                       4   \n",
       "171         Sostitutivo        11.12                       6   \n",
       "...                 ...          ...                     ...   \n",
       "1377        Sostitutivo        37.51                       0   \n",
       "1378        Sostitutivo        37.51                       0   \n",
       "1379        Sostitutivo        37.51                       0   \n",
       "1380        Sostitutivo        37.51                       0   \n",
       "1381        Sostitutivo        37.51                       0   \n",
       "\n",
       "                                          PRODUCT_GROUP  \\\n",
       "7     CORE WEARABLES                                ...   \n",
       "8     CORE WEARABLES                                ...   \n",
       "152   CORE WEARABLES                                ...   \n",
       "170   MOBILE COMPUTING                              ...   \n",
       "171   MOBILE COMPUTING                              ...   \n",
       "...                                                 ...   \n",
       "1377  SMARTPHONES                                   ...   \n",
       "1378  SMARTPHONES                                   ...   \n",
       "1379  SMARTPHONES                                   ...   \n",
       "1380  SMARTPHONES                                   ...   \n",
       "1381  SMARTPHONES                                   ...   \n",
       "\n",
       "                               BRAND  \n",
       "7     AMAZFIT                         \n",
       "8     AMAZFIT                         \n",
       "152   XIAOMI                          \n",
       "170   APPLE                           \n",
       "171   APPLE                           \n",
       "...                              ...  \n",
       "1377  XIAOMI                          \n",
       "1378  XIAOMI                          \n",
       "1379  XIAOMI                          \n",
       "1380  XIAOMI                          \n",
       "1381  XIAOMI                          \n",
       "\n",
       "[141 rows x 13 columns]"
      ]
     },
     "execution_count": 32,
     "metadata": {},
     "output_type": "execute_result"
    }
   ],
   "source": [
    "anagrafica[anagrafica['STOCK_PZ'] < 0]"
   ]
  },
  {
   "cell_type": "code",
   "execution_count": 33,
   "metadata": {},
   "outputs": [],
   "source": [
    "anagrafica['STOCK_PZ'] = anagrafica['STOCK_PZ'].mask(anagrafica['STOCK_PZ'] < 0, 0)\n",
    "anagrafica['STOCK_PZ'].fillna(0, inplace=True)"
   ]
  },
  {
   "cell_type": "code",
   "execution_count": 34,
   "metadata": {},
   "outputs": [],
   "source": [
    "anagrafica = anagrafica.drop('STOCK_ORD_IN_ARRIVO_PZ', axis=1)"
   ]
  },
  {
   "cell_type": "code",
   "execution_count": 35,
   "metadata": {},
   "outputs": [
    {
     "data": {
      "text/html": [
       "<div>\n",
       "<style scoped>\n",
       "    .dataframe tbody tr th:only-of-type {\n",
       "        vertical-align: middle;\n",
       "    }\n",
       "\n",
       "    .dataframe tbody tr th {\n",
       "        vertical-align: top;\n",
       "    }\n",
       "\n",
       "    .dataframe thead th {\n",
       "        text-align: right;\n",
       "    }\n",
       "</style>\n",
       "<table border=\"1\" class=\"dataframe\">\n",
       "  <thead>\n",
       "    <tr style=\"text-align: right;\">\n",
       "      <th></th>\n",
       "      <th>PREZZO_PROMO</th>\n",
       "      <th>PREZZO_LISTINO</th>\n",
       "      <th>STOCK_PZ</th>\n",
       "      <th>SCONTO_PERC</th>\n",
       "    </tr>\n",
       "  </thead>\n",
       "  <tbody>\n",
       "    <tr>\n",
       "      <th>count</th>\n",
       "      <td>1382.000000</td>\n",
       "      <td>1382.000000</td>\n",
       "      <td>1382.000000</td>\n",
       "      <td>1382.000000</td>\n",
       "    </tr>\n",
       "    <tr>\n",
       "      <th>mean</th>\n",
       "      <td>453.479631</td>\n",
       "      <td>595.520470</td>\n",
       "      <td>793.414616</td>\n",
       "      <td>25.096715</td>\n",
       "    </tr>\n",
       "    <tr>\n",
       "      <th>std</th>\n",
       "      <td>369.127898</td>\n",
       "      <td>468.003964</td>\n",
       "      <td>1552.472690</td>\n",
       "      <td>14.571946</td>\n",
       "    </tr>\n",
       "    <tr>\n",
       "      <th>min</th>\n",
       "      <td>24.990000</td>\n",
       "      <td>24.990000</td>\n",
       "      <td>0.000000</td>\n",
       "      <td>0.000000</td>\n",
       "    </tr>\n",
       "    <tr>\n",
       "      <th>25%</th>\n",
       "      <td>179.990000</td>\n",
       "      <td>269.900000</td>\n",
       "      <td>53.000000</td>\n",
       "      <td>12.500000</td>\n",
       "    </tr>\n",
       "    <tr>\n",
       "      <th>50%</th>\n",
       "      <td>349.900000</td>\n",
       "      <td>459.000000</td>\n",
       "      <td>310.000000</td>\n",
       "      <td>25.020000</td>\n",
       "    </tr>\n",
       "    <tr>\n",
       "      <th>75%</th>\n",
       "      <td>599.900000</td>\n",
       "      <td>829.900000</td>\n",
       "      <td>885.750000</td>\n",
       "      <td>35.840000</td>\n",
       "    </tr>\n",
       "    <tr>\n",
       "      <th>max</th>\n",
       "      <td>2899.000000</td>\n",
       "      <td>4299.000000</td>\n",
       "      <td>19826.000000</td>\n",
       "      <td>90.000000</td>\n",
       "    </tr>\n",
       "  </tbody>\n",
       "</table>\n",
       "</div>"
      ],
      "text/plain": [
       "       PREZZO_PROMO  PREZZO_LISTINO      STOCK_PZ  SCONTO_PERC\n",
       "count   1382.000000     1382.000000   1382.000000  1382.000000\n",
       "mean     453.479631      595.520470    793.414616    25.096715\n",
       "std      369.127898      468.003964   1552.472690    14.571946\n",
       "min       24.990000       24.990000      0.000000     0.000000\n",
       "25%      179.990000      269.900000     53.000000    12.500000\n",
       "50%      349.900000      459.000000    310.000000    25.020000\n",
       "75%      599.900000      829.900000    885.750000    35.840000\n",
       "max     2899.000000     4299.000000  19826.000000    90.000000"
      ]
     },
     "execution_count": 35,
     "metadata": {},
     "output_type": "execute_result"
    }
   ],
   "source": [
    "anagrafica.describe()"
   ]
  },
  {
   "cell_type": "code",
   "execution_count": 36,
   "metadata": {},
   "outputs": [
    {
     "data": {
      "text/plain": [
       "CODICE_VOLANTINO      0\n",
       "DATA_INIZIO           0\n",
       "DATA_FINE             0\n",
       "NOME_CAMPAGNA         0\n",
       "ART_COD               0\n",
       "PREZZO_PROMO          0\n",
       "PREZZO_LISTINO        0\n",
       "STOCK_PZ              0\n",
       "TIPOLOGIA_PRODOTTO    0\n",
       "SCONTO_PERC           0\n",
       "PRODUCT_GROUP         0\n",
       "BRAND                 0\n",
       "dtype: int64"
      ]
     },
     "execution_count": 36,
     "metadata": {},
     "output_type": "execute_result"
    }
   ],
   "source": [
    "anagrafica.isnull().sum()"
   ]
  },
  {
   "cell_type": "code",
   "execution_count": 37,
   "metadata": {},
   "outputs": [
    {
     "data": {
      "text/plain": [
       "(1382, 12)"
      ]
     },
     "execution_count": 37,
     "metadata": {},
     "output_type": "execute_result"
    }
   ],
   "source": [
    "anagrafica.shape"
   ]
  },
  {
   "cell_type": "markdown",
   "metadata": {},
   "source": [
    "### STORICO QUANTITA'"
   ]
  },
  {
   "cell_type": "code",
   "execution_count": 38,
   "metadata": {},
   "outputs": [
    {
     "data": {
      "text/html": [
       "<div>\n",
       "<style scoped>\n",
       "    .dataframe tbody tr th:only-of-type {\n",
       "        vertical-align: middle;\n",
       "    }\n",
       "\n",
       "    .dataframe tbody tr th {\n",
       "        vertical-align: top;\n",
       "    }\n",
       "\n",
       "    .dataframe thead th {\n",
       "        text-align: right;\n",
       "    }\n",
       "</style>\n",
       "<table border=\"1\" class=\"dataframe\">\n",
       "  <thead>\n",
       "    <tr style=\"text-align: right;\">\n",
       "      <th></th>\n",
       "      <th>CODICE_VOLANTINO</th>\n",
       "      <th>GIORNO</th>\n",
       "      <th>QTA</th>\n",
       "      <th>ART_COD</th>\n",
       "      <th>FATTURATO</th>\n",
       "    </tr>\n",
       "  </thead>\n",
       "  <tbody>\n",
       "    <tr>\n",
       "      <th>0</th>\n",
       "      <td>23MA</td>\n",
       "      <td>2023-10-03</td>\n",
       "      <td>27</td>\n",
       "      <td>OOPA785G8128</td>\n",
       "      <td>5504.00</td>\n",
       "    </tr>\n",
       "    <tr>\n",
       "      <th>1</th>\n",
       "      <td>23MA</td>\n",
       "      <td>2023-09-24</td>\n",
       "      <td>1</td>\n",
       "      <td>AMFGTR3GREY</td>\n",
       "      <td>122.94</td>\n",
       "    </tr>\n",
       "    <tr>\n",
       "      <th>2</th>\n",
       "      <td>23MA</td>\n",
       "      <td>2023-09-23</td>\n",
       "      <td>22</td>\n",
       "      <td>MOTE13GR</td>\n",
       "      <td>1781.39</td>\n",
       "    </tr>\n",
       "    <tr>\n",
       "      <th>3</th>\n",
       "      <td>23MA</td>\n",
       "      <td>2023-09-29</td>\n",
       "      <td>6</td>\n",
       "      <td>XIAREDMINOTE12PRO+B</td>\n",
       "      <td>1951.98</td>\n",
       "    </tr>\n",
       "    <tr>\n",
       "      <th>4</th>\n",
       "      <td>23MA</td>\n",
       "      <td>2023-09-07</td>\n",
       "      <td>2</td>\n",
       "      <td>REXEW2F5W82</td>\n",
       "      <td>702.46</td>\n",
       "    </tr>\n",
       "  </tbody>\n",
       "</table>\n",
       "</div>"
      ],
      "text/plain": [
       "  CODICE_VOLANTINO      GIORNO  QTA              ART_COD  FATTURATO\n",
       "0             23MA  2023-10-03   27         OOPA785G8128    5504.00\n",
       "1             23MA  2023-09-24    1          AMFGTR3GREY     122.94\n",
       "2             23MA  2023-09-23   22             MOTE13GR    1781.39\n",
       "3             23MA  2023-09-29    6  XIAREDMINOTE12PRO+B    1951.98\n",
       "4             23MA  2023-09-07    2          REXEW2F5W82     702.46"
      ]
     },
     "execution_count": 38,
     "metadata": {},
     "output_type": "execute_result"
    }
   ],
   "source": [
    "storico.head()"
   ]
  },
  {
   "cell_type": "code",
   "execution_count": 39,
   "metadata": {},
   "outputs": [
    {
     "name": "stdout",
     "output_type": "stream",
     "text": [
      "<class 'pandas.core.frame.DataFrame'>\n",
      "RangeIndex: 42918 entries, 0 to 42917\n",
      "Data columns (total 5 columns):\n",
      " #   Column            Non-Null Count  Dtype  \n",
      "---  ------            --------------  -----  \n",
      " 0   CODICE_VOLANTINO  42918 non-null  object \n",
      " 1   GIORNO            42918 non-null  object \n",
      " 2   QTA               42918 non-null  int64  \n",
      " 3   ART_COD           42918 non-null  object \n",
      " 4   FATTURATO         26222 non-null  float64\n",
      "dtypes: float64(1), int64(1), object(3)\n",
      "memory usage: 1.6+ MB\n"
     ]
    }
   ],
   "source": [
    "storico.info()"
   ]
  },
  {
   "cell_type": "code",
   "execution_count": 40,
   "metadata": {},
   "outputs": [],
   "source": [
    "storico = storico.groupby(['CODICE_VOLANTINO', 'ART_COD']).agg({'QTA': 'sum', 'FATTURATO': 'sum'}).reset_index()"
   ]
  },
  {
   "cell_type": "code",
   "execution_count": 41,
   "metadata": {},
   "outputs": [
    {
     "data": {
      "text/html": [
       "<div>\n",
       "<style scoped>\n",
       "    .dataframe tbody tr th:only-of-type {\n",
       "        vertical-align: middle;\n",
       "    }\n",
       "\n",
       "    .dataframe tbody tr th {\n",
       "        vertical-align: top;\n",
       "    }\n",
       "\n",
       "    .dataframe thead th {\n",
       "        text-align: right;\n",
       "    }\n",
       "</style>\n",
       "<table border=\"1\" class=\"dataframe\">\n",
       "  <thead>\n",
       "    <tr style=\"text-align: right;\">\n",
       "      <th></th>\n",
       "      <th>CODICE_VOLANTINO</th>\n",
       "      <th>ART_COD</th>\n",
       "      <th>QTA</th>\n",
       "      <th>FATTURATO</th>\n",
       "    </tr>\n",
       "  </thead>\n",
       "  <tbody>\n",
       "    <tr>\n",
       "      <th>0</th>\n",
       "      <td>23MA</td>\n",
       "      <td>ACEA3155879TU</td>\n",
       "      <td>347</td>\n",
       "      <td>171665.89</td>\n",
       "    </tr>\n",
       "    <tr>\n",
       "      <th>1</th>\n",
       "      <td>23MA</td>\n",
       "      <td>ACEANV155154ZC</td>\n",
       "      <td>0</td>\n",
       "      <td>0.00</td>\n",
       "    </tr>\n",
       "    <tr>\n",
       "      <th>2</th>\n",
       "      <td>23MA</td>\n",
       "      <td>ACECB3153HC322</td>\n",
       "      <td>0</td>\n",
       "      <td>0.00</td>\n",
       "    </tr>\n",
       "    <tr>\n",
       "      <th>3</th>\n",
       "      <td>23MA</td>\n",
       "      <td>AEGL6FBI48W</td>\n",
       "      <td>64</td>\n",
       "      <td>28524.40</td>\n",
       "    </tr>\n",
       "    <tr>\n",
       "      <th>4</th>\n",
       "      <td>23MA</td>\n",
       "      <td>AMFACTIVEB</td>\n",
       "      <td>0</td>\n",
       "      <td>0.00</td>\n",
       "    </tr>\n",
       "  </tbody>\n",
       "</table>\n",
       "</div>"
      ],
      "text/plain": [
       "  CODICE_VOLANTINO         ART_COD  QTA  FATTURATO\n",
       "0             23MA   ACEA3155879TU  347  171665.89\n",
       "1             23MA  ACEANV155154ZC    0       0.00\n",
       "2             23MA  ACECB3153HC322    0       0.00\n",
       "3             23MA     AEGL6FBI48W   64   28524.40\n",
       "4             23MA      AMFACTIVEB    0       0.00"
      ]
     },
     "execution_count": 41,
     "metadata": {},
     "output_type": "execute_result"
    }
   ],
   "source": [
    "storico.head()"
   ]
  },
  {
   "cell_type": "code",
   "execution_count": 42,
   "metadata": {},
   "outputs": [
    {
     "data": {
      "text/plain": [
       "CODICE_VOLANTINO    0\n",
       "ART_COD             0\n",
       "QTA                 0\n",
       "FATTURATO           0\n",
       "dtype: int64"
      ]
     },
     "execution_count": 42,
     "metadata": {},
     "output_type": "execute_result"
    }
   ],
   "source": [
    "storico.isnull().sum()"
   ]
  },
  {
   "cell_type": "markdown",
   "metadata": {},
   "source": [
    "### RECUPERO PREZZI LISTINI IN ANAGRAFICA"
   ]
  },
  {
   "cell_type": "code",
   "execution_count": 43,
   "metadata": {},
   "outputs": [],
   "source": [
    "prezzi_listini_mancanti = {}\n",
    "for i in x:   # BEFORE WE CREATED THE LIST X CONTAINING ALL THE 'ART_COD' THAT HAVE E 'PREZZO_LISTINO' NULL.\n",
    "    for index in range(storico.shape[0]):\n",
    "        if storico['ART_COD'][index] == i:\n",
    "            prezzo = storico['FATTURATO'][index] / storico['QTA'][index]\n",
    "            prezzi_listini_mancanti[i] = prezzo\n",
    "\n"
   ]
  },
  {
   "cell_type": "code",
   "execution_count": 44,
   "metadata": {},
   "outputs": [],
   "source": [
    "# INSERT IN THE 'anagrafica' DATAFRAME THE 'PREZZO_LISTINO' VALUES THAT WE HAVE FOUND\n",
    "\n",
    "for index in range(anagrafica.shape[0]):\n",
    "    if anagrafica['ART_COD'][index] in prezzi_listini_mancanti.keys() and pd.isnull(anagrafica['PREZZO_LISTINO'][index]):\n",
    "        anagrafica['PREZZO_LISTINO'][index] = prezzi_listini_mancanti[anagrafica['ART_COD'][index]]\n"
   ]
  },
  {
   "cell_type": "code",
   "execution_count": 45,
   "metadata": {},
   "outputs": [],
   "source": [
    "# CALCULATE 'SCONTO_PERC' WHERE I HAVE BOTH 'PREZZO_LISTINO' AND 'PREZZO_PROMO'\n",
    "\n",
    "condizione = (\n",
    "    pd.notnull(anagrafica['PREZZO_LISTINO']) &\n",
    "    pd.notnull(anagrafica['PREZZO_PROMO']) &\n",
    "    pd.isnull(anagrafica['SCONTO_PERC']) &\n",
    "    (anagrafica['PREZZO_PROMO'] <= anagrafica['PREZZO_LISTINO'])\n",
    ")\n",
    "\n",
    "anagrafica['SCONTO_PERC'] = np.where(\n",
    "    condizione,\n",
    "    ((anagrafica['PREZZO_LISTINO'] - anagrafica['PREZZO_PROMO']) / anagrafica['PREZZO_LISTINO']) * 100,\n",
    "    anagrafica['SCONTO_PERC']\n",
    ")"
   ]
  },
  {
   "cell_type": "code",
   "execution_count": 46,
   "metadata": {},
   "outputs": [
    {
     "data": {
      "text/plain": [
       "CODICE_VOLANTINO       0\n",
       "DATA_INIZIO            0\n",
       "DATA_FINE              0\n",
       "NOME_CAMPAGNA          0\n",
       "ART_COD                0\n",
       "PREZZO_PROMO          31\n",
       "PREZZO_LISTINO         0\n",
       "STOCK_PZ               0\n",
       "TIPOLOGIA_PRODOTTO     0\n",
       "SCONTO_PERC            0\n",
       "PRODUCT_GROUP          0\n",
       "BRAND                  0\n",
       "dtype: int64"
      ]
     },
     "execution_count": 46,
     "metadata": {},
     "output_type": "execute_result"
    }
   ],
   "source": [
    "# SET ALL 'PREZZO_PROMO' GREATER THAN 'PREZZO_LISTINO' AS NULL\n",
    "\n",
    "anagrafica.loc[anagrafica['PREZZO_PROMO'] > anagrafica['PREZZO_LISTINO'], 'PREZZO_PROMO'] = np.nan\n",
    "anagrafica.isnull().sum()"
   ]
  },
  {
   "cell_type": "code",
   "execution_count": 47,
   "metadata": {},
   "outputs": [],
   "source": [
    "# RECOVERY 'PREZZO_PROMO' DIVIDING 'FATTURATO' BY 'QTA'\n",
    "\n",
    "for index in range(anagrafica.shape[0]):\n",
    "    if pd.isnull(anagrafica['PREZZO_PROMO'][index]):\n",
    "        for element in range(storico.shape[0]):\n",
    "            if anagrafica['ART_COD'][index] == storico['ART_COD'][element] and anagrafica['CODICE_VOLANTINO'][index] == storico['CODICE_VOLANTINO'][element]:\n",
    "                prezzo = storico['FATTURATO'][element] / storico['QTA'][element]\n",
    "                anagrafica['PREZZO_PROMO'][index] = prezzo"
   ]
  },
  {
   "cell_type": "code",
   "execution_count": 48,
   "metadata": {},
   "outputs": [
    {
     "data": {
      "text/plain": [
       "CODICE_VOLANTINO       0\n",
       "DATA_INIZIO            0\n",
       "DATA_FINE              0\n",
       "NOME_CAMPAGNA          0\n",
       "ART_COD                0\n",
       "PREZZO_PROMO          17\n",
       "PREZZO_LISTINO         0\n",
       "STOCK_PZ               0\n",
       "TIPOLOGIA_PRODOTTO     0\n",
       "SCONTO_PERC            0\n",
       "PRODUCT_GROUP          0\n",
       "BRAND                  0\n",
       "dtype: int64"
      ]
     },
     "execution_count": 48,
     "metadata": {},
     "output_type": "execute_result"
    }
   ],
   "source": [
    "anagrafica.isnull().sum()"
   ]
  },
  {
   "cell_type": "code",
   "execution_count": 49,
   "metadata": {},
   "outputs": [],
   "source": [
    "# CALCULATE AGAIN 'SCONTO_PERC' WHERE I HAVE BOTH 'PREZZO_LISTINO' AND 'PREZZO_PROMO'\n",
    "\n",
    "condizione = (\n",
    "    pd.notnull(anagrafica['PREZZO_LISTINO']) &\n",
    "    pd.notnull(anagrafica['PREZZO_PROMO']) &\n",
    "    pd.isnull(anagrafica['SCONTO_PERC']) &\n",
    "    (anagrafica['PREZZO_PROMO'] <= anagrafica['PREZZO_LISTINO'])\n",
    ")\n",
    "\n",
    "anagrafica['SCONTO_PERC'] = np.where(\n",
    "    condizione,\n",
    "    ((anagrafica['PREZZO_LISTINO'] - anagrafica['PREZZO_PROMO']) / anagrafica['PREZZO_LISTINO']) * 100,\n",
    "    anagrafica['SCONTO_PERC']\n",
    ")"
   ]
  },
  {
   "cell_type": "code",
   "execution_count": 50,
   "metadata": {},
   "outputs": [
    {
     "data": {
      "text/plain": [
       "CODICE_VOLANTINO       0\n",
       "DATA_INIZIO            0\n",
       "DATA_FINE              0\n",
       "NOME_CAMPAGNA          0\n",
       "ART_COD                0\n",
       "PREZZO_PROMO          17\n",
       "PREZZO_LISTINO         0\n",
       "STOCK_PZ               0\n",
       "TIPOLOGIA_PRODOTTO     0\n",
       "SCONTO_PERC            0\n",
       "PRODUCT_GROUP          0\n",
       "BRAND                  0\n",
       "dtype: int64"
      ]
     },
     "execution_count": 50,
     "metadata": {},
     "output_type": "execute_result"
    }
   ],
   "source": [
    "anagrafica.isnull().sum()"
   ]
  },
  {
   "cell_type": "code",
   "execution_count": 51,
   "metadata": {},
   "outputs": [],
   "source": [
    "# CALCULATE 'PREZZO_PROMO' WHERE I HAVE BOTH 'PREZZO_LISTINO' AND 'SCONTO_PERC'\n",
    "\n",
    "condizione = (\n",
    "    pd.notnull(anagrafica['PREZZO_LISTINO']) &\n",
    "    pd.isnull(anagrafica['PREZZO_PROMO']) &\n",
    "    pd.notnull(anagrafica['SCONTO_PERC'])\n",
    ")\n",
    "\n",
    "anagrafica['PREZZO_PROMO'] = np.where(\n",
    "    condizione,\n",
    "    anagrafica['PREZZO_LISTINO'] * (1 - (anagrafica['SCONTO_PERC'])/100),\n",
    "    anagrafica['PREZZO_PROMO']\n",
    ")"
   ]
  },
  {
   "cell_type": "code",
   "execution_count": 52,
   "metadata": {},
   "outputs": [
    {
     "data": {
      "text/plain": [
       "CODICE_VOLANTINO      0\n",
       "DATA_INIZIO           0\n",
       "DATA_FINE             0\n",
       "NOME_CAMPAGNA         0\n",
       "ART_COD               0\n",
       "PREZZO_PROMO          0\n",
       "PREZZO_LISTINO        0\n",
       "STOCK_PZ              0\n",
       "TIPOLOGIA_PRODOTTO    0\n",
       "SCONTO_PERC           0\n",
       "PRODUCT_GROUP         0\n",
       "BRAND                 0\n",
       "dtype: int64"
      ]
     },
     "execution_count": 52,
     "metadata": {},
     "output_type": "execute_result"
    }
   ],
   "source": [
    "anagrafica.isnull().sum()"
   ]
  },
  {
   "cell_type": "code",
   "execution_count": 53,
   "metadata": {},
   "outputs": [
    {
     "data": {
      "text/html": [
       "<div>\n",
       "<style scoped>\n",
       "    .dataframe tbody tr th:only-of-type {\n",
       "        vertical-align: middle;\n",
       "    }\n",
       "\n",
       "    .dataframe tbody tr th {\n",
       "        vertical-align: top;\n",
       "    }\n",
       "\n",
       "    .dataframe thead th {\n",
       "        text-align: right;\n",
       "    }\n",
       "</style>\n",
       "<table border=\"1\" class=\"dataframe\">\n",
       "  <thead>\n",
       "    <tr style=\"text-align: right;\">\n",
       "      <th></th>\n",
       "      <th>count</th>\n",
       "      <th>mean</th>\n",
       "      <th>std</th>\n",
       "      <th>min</th>\n",
       "      <th>25%</th>\n",
       "      <th>50%</th>\n",
       "      <th>75%</th>\n",
       "      <th>max</th>\n",
       "    </tr>\n",
       "  </thead>\n",
       "  <tbody>\n",
       "    <tr>\n",
       "      <th>PREZZO_PROMO</th>\n",
       "      <td>1382.0</td>\n",
       "      <td>351.347381</td>\n",
       "      <td>1010.159009</td>\n",
       "      <td>-9720.927</td>\n",
       "      <td>169.99</td>\n",
       "      <td>349.00</td>\n",
       "      <td>599.00</td>\n",
       "      <td>2899.0</td>\n",
       "    </tr>\n",
       "    <tr>\n",
       "      <th>PREZZO_LISTINO</th>\n",
       "      <td>1382.0</td>\n",
       "      <td>595.520470</td>\n",
       "      <td>468.003964</td>\n",
       "      <td>24.990</td>\n",
       "      <td>269.90</td>\n",
       "      <td>459.00</td>\n",
       "      <td>829.90</td>\n",
       "      <td>4299.0</td>\n",
       "    </tr>\n",
       "    <tr>\n",
       "      <th>STOCK_PZ</th>\n",
       "      <td>1382.0</td>\n",
       "      <td>793.414616</td>\n",
       "      <td>1552.472690</td>\n",
       "      <td>0.000</td>\n",
       "      <td>53.00</td>\n",
       "      <td>310.00</td>\n",
       "      <td>885.75</td>\n",
       "      <td>19826.0</td>\n",
       "    </tr>\n",
       "    <tr>\n",
       "      <th>SCONTO_PERC</th>\n",
       "      <td>1382.0</td>\n",
       "      <td>25.096715</td>\n",
       "      <td>14.571946</td>\n",
       "      <td>0.000</td>\n",
       "      <td>12.50</td>\n",
       "      <td>25.02</td>\n",
       "      <td>35.84</td>\n",
       "      <td>90.0</td>\n",
       "    </tr>\n",
       "  </tbody>\n",
       "</table>\n",
       "</div>"
      ],
      "text/plain": [
       "                 count        mean          std       min     25%     50%  \\\n",
       "PREZZO_PROMO    1382.0  351.347381  1010.159009 -9720.927  169.99  349.00   \n",
       "PREZZO_LISTINO  1382.0  595.520470   468.003964    24.990  269.90  459.00   \n",
       "STOCK_PZ        1382.0  793.414616  1552.472690     0.000   53.00  310.00   \n",
       "SCONTO_PERC     1382.0   25.096715    14.571946     0.000   12.50   25.02   \n",
       "\n",
       "                   75%      max  \n",
       "PREZZO_PROMO    599.00   2899.0  \n",
       "PREZZO_LISTINO  829.90   4299.0  \n",
       "STOCK_PZ        885.75  19826.0  \n",
       "SCONTO_PERC      35.84     90.0  "
      ]
     },
     "execution_count": 53,
     "metadata": {},
     "output_type": "execute_result"
    }
   ],
   "source": [
    "anagrafica.describe().T"
   ]
  },
  {
   "cell_type": "code",
   "execution_count": 54,
   "metadata": {},
   "outputs": [],
   "source": [
    "anagrafica['PREZZO_PROMO'] = np.where(anagrafica['PREZZO_PROMO']<0, \n",
    "                                      anagrafica['PREZZO_LISTINO'] * (1 - anagrafica['SCONTO_PERC'] / 100), \n",
    "                                      anagrafica['PREZZO_PROMO'])\n"
   ]
  },
  {
   "cell_type": "code",
   "execution_count": 55,
   "metadata": {},
   "outputs": [
    {
     "data": {
      "text/plain": [
       "(1382, 12)"
      ]
     },
     "execution_count": 55,
     "metadata": {},
     "output_type": "execute_result"
    }
   ],
   "source": [
    "anagrafica.shape"
   ]
  },
  {
   "cell_type": "markdown",
   "metadata": {},
   "source": [
    "### GFK"
   ]
  },
  {
   "cell_type": "code",
   "execution_count": 56,
   "metadata": {},
   "outputs": [
    {
     "data": {
      "text/html": [
       "<div>\n",
       "<style scoped>\n",
       "    .dataframe tbody tr th:only-of-type {\n",
       "        vertical-align: middle;\n",
       "    }\n",
       "\n",
       "    .dataframe tbody tr th {\n",
       "        vertical-align: top;\n",
       "    }\n",
       "\n",
       "    .dataframe thead th {\n",
       "        text-align: right;\n",
       "    }\n",
       "</style>\n",
       "<table border=\"1\" class=\"dataframe\">\n",
       "  <thead>\n",
       "    <tr style=\"text-align: right;\">\n",
       "      <th></th>\n",
       "      <th>ITEM_ID</th>\n",
       "      <th>CARATTERISTICA_01</th>\n",
       "      <th>CARATTERISTICA_02</th>\n",
       "      <th>CARATTERISTICA_05</th>\n",
       "      <th>CARATTERISTICA_04</th>\n",
       "      <th>CARATTERISTICA_03</th>\n",
       "      <th>CARATTERISTICA_06</th>\n",
       "      <th>CARATTERISTICA_07</th>\n",
       "      <th>CARATTERISTICA_08</th>\n",
       "    </tr>\n",
       "  </thead>\n",
       "  <tbody>\n",
       "    <tr>\n",
       "      <th>0</th>\n",
       "      <td>136498792.0</td>\n",
       "      <td>GPU MODEL RAD 520</td>\n",
       "      <td>PROCESSOR A9-SERIES</td>\n",
       "      <td>OS VERSION WIN10 HOME</td>\n",
       "      <td>STORAGE IN GB 1000</td>\n",
       "      <td>RAM IN GB 8</td>\n",
       "      <td>DISPLAY SIZE 15.6</td>\n",
       "      <td>CONVERTIBLE NO</td>\n",
       "      <td>ND</td>\n",
       "    </tr>\n",
       "    <tr>\n",
       "      <th>1</th>\n",
       "      <td>126394531.0</td>\n",
       "      <td>SEGMENTS NOTEBOOK</td>\n",
       "      <td>PROCESSOR CELERON N</td>\n",
       "      <td>OS VERSION WIN10 HOME</td>\n",
       "      <td>STORAGE IN GB 500</td>\n",
       "      <td>RAM IN GB 4</td>\n",
       "      <td>DISPLAY SIZE 15.6</td>\n",
       "      <td>CONVERTIBLE NO</td>\n",
       "      <td>ND</td>\n",
       "    </tr>\n",
       "    <tr>\n",
       "      <th>2</th>\n",
       "      <td>125136538.0</td>\n",
       "      <td>SEGMENTS NOTEBOOK</td>\n",
       "      <td>PROCESSOR CORE I5</td>\n",
       "      <td>OS VERSION MACOS HIGH SIER</td>\n",
       "      <td>STORAGE IN GB 128</td>\n",
       "      <td>RAM IN GB 8</td>\n",
       "      <td>DISPLAY SIZE 13.3</td>\n",
       "      <td>CONVERTIBLE NO</td>\n",
       "      <td>ND</td>\n",
       "    </tr>\n",
       "    <tr>\n",
       "      <th>3</th>\n",
       "      <td>124814100.0</td>\n",
       "      <td>SEGMENTS NOTEBOOK</td>\n",
       "      <td>PROCESSOR CORE I5</td>\n",
       "      <td>OS VERSION MACOS SIERRA</td>\n",
       "      <td>STORAGE IN GB 128</td>\n",
       "      <td>RAM IN GB 8</td>\n",
       "      <td>DISPLAY SIZE 13.3</td>\n",
       "      <td>CONVERTIBLE NO</td>\n",
       "      <td>ND</td>\n",
       "    </tr>\n",
       "    <tr>\n",
       "      <th>4</th>\n",
       "      <td>133558471.0</td>\n",
       "      <td>NaN</td>\n",
       "      <td>NaN</td>\n",
       "      <td>NaN</td>\n",
       "      <td>NaN</td>\n",
       "      <td>NaN</td>\n",
       "      <td>NaN</td>\n",
       "      <td>NaN</td>\n",
       "      <td>NaN</td>\n",
       "    </tr>\n",
       "  </tbody>\n",
       "</table>\n",
       "</div>"
      ],
      "text/plain": [
       "       ITEM_ID  CARATTERISTICA_01    CARATTERISTICA_02  \\\n",
       "0  136498792.0  GPU MODEL RAD 520  PROCESSOR A9-SERIES   \n",
       "1  126394531.0  SEGMENTS NOTEBOOK  PROCESSOR CELERON N   \n",
       "2  125136538.0  SEGMENTS NOTEBOOK    PROCESSOR CORE I5   \n",
       "3  124814100.0  SEGMENTS NOTEBOOK    PROCESSOR CORE I5   \n",
       "4  133558471.0                NaN                  NaN   \n",
       "\n",
       "            CARATTERISTICA_05   CARATTERISTICA_04 CARATTERISTICA_03  \\\n",
       "0       OS VERSION WIN10 HOME  STORAGE IN GB 1000       RAM IN GB 8   \n",
       "1       OS VERSION WIN10 HOME   STORAGE IN GB 500       RAM IN GB 4   \n",
       "2  OS VERSION MACOS HIGH SIER   STORAGE IN GB 128       RAM IN GB 8   \n",
       "3     OS VERSION MACOS SIERRA   STORAGE IN GB 128       RAM IN GB 8   \n",
       "4                         NaN                 NaN               NaN   \n",
       "\n",
       "   CARATTERISTICA_06 CARATTERISTICA_07 CARATTERISTICA_08  \n",
       "0  DISPLAY SIZE 15.6    CONVERTIBLE NO                ND  \n",
       "1  DISPLAY SIZE 15.6    CONVERTIBLE NO                ND  \n",
       "2  DISPLAY SIZE 13.3    CONVERTIBLE NO                ND  \n",
       "3  DISPLAY SIZE 13.3    CONVERTIBLE NO                ND  \n",
       "4                NaN               NaN               NaN  "
      ]
     },
     "execution_count": 56,
     "metadata": {},
     "output_type": "execute_result"
    }
   ],
   "source": [
    "gfk.head()"
   ]
  },
  {
   "cell_type": "code",
   "execution_count": 57,
   "metadata": {},
   "outputs": [
    {
     "name": "stdout",
     "output_type": "stream",
     "text": [
      "<class 'pandas.core.frame.DataFrame'>\n",
      "RangeIndex: 3267 entries, 0 to 3266\n",
      "Data columns (total 9 columns):\n",
      " #   Column             Non-Null Count  Dtype  \n",
      "---  ------             --------------  -----  \n",
      " 0   ITEM_ID            3266 non-null   float64\n",
      " 1   CARATTERISTICA_01  2923 non-null   object \n",
      " 2   CARATTERISTICA_02  2923 non-null   object \n",
      " 3   CARATTERISTICA_05  2923 non-null   object \n",
      " 4   CARATTERISTICA_04  2923 non-null   object \n",
      " 5   CARATTERISTICA_03  2923 non-null   object \n",
      " 6   CARATTERISTICA_06  2923 non-null   object \n",
      " 7   CARATTERISTICA_07  2923 non-null   object \n",
      " 8   CARATTERISTICA_08  2923 non-null   object \n",
      "dtypes: float64(1), object(8)\n",
      "memory usage: 229.8+ KB\n"
     ]
    }
   ],
   "source": [
    "gfk.info()"
   ]
  },
  {
   "cell_type": "code",
   "execution_count": 58,
   "metadata": {},
   "outputs": [
    {
     "data": {
      "text/plain": [
       "ITEM_ID                1\n",
       "CARATTERISTICA_01    344\n",
       "CARATTERISTICA_02    344\n",
       "CARATTERISTICA_05    344\n",
       "CARATTERISTICA_04    344\n",
       "CARATTERISTICA_03    344\n",
       "CARATTERISTICA_06    344\n",
       "CARATTERISTICA_07    344\n",
       "CARATTERISTICA_08    344\n",
       "dtype: int64"
      ]
     },
     "execution_count": 58,
     "metadata": {},
     "output_type": "execute_result"
    }
   ],
   "source": [
    "gfk.isnull().sum()"
   ]
  },
  {
   "cell_type": "code",
   "execution_count": 59,
   "metadata": {},
   "outputs": [],
   "source": [
    "gfk = gfk.dropna() # WE USED dropna() BECAUSE THERE WERE 344 ROWS WITH ONLY NULL VALUES\n",
    "gfk.replace('ND', np.nan, inplace=True)\n",
    "gfk.drop('CARATTERISTICA_08', axis=1, inplace=True) #DROP THIS COLUMN BECAUSE THERE ARE ONLY NULL VALUES\n"
   ]
  },
  {
   "cell_type": "markdown",
   "metadata": {},
   "source": [
    "## UNIONE"
   ]
  },
  {
   "cell_type": "code",
   "execution_count": 60,
   "metadata": {},
   "outputs": [],
   "source": [
    "df1 = pd.merge(anagrafica, kpi, on = [\"ART_COD\", \"CODICE_VOLANTINO\"])"
   ]
  },
  {
   "cell_type": "code",
   "execution_count": 61,
   "metadata": {},
   "outputs": [
    {
     "data": {
      "text/html": [
       "<div>\n",
       "<style scoped>\n",
       "    .dataframe tbody tr th:only-of-type {\n",
       "        vertical-align: middle;\n",
       "    }\n",
       "\n",
       "    .dataframe tbody tr th {\n",
       "        vertical-align: top;\n",
       "    }\n",
       "\n",
       "    .dataframe thead th {\n",
       "        text-align: right;\n",
       "    }\n",
       "</style>\n",
       "<table border=\"1\" class=\"dataframe\">\n",
       "  <thead>\n",
       "    <tr style=\"text-align: right;\">\n",
       "      <th></th>\n",
       "      <th>CODICE_VOLANTINO</th>\n",
       "      <th>DATA_INIZIO</th>\n",
       "      <th>DATA_FINE</th>\n",
       "      <th>NOME_CAMPAGNA</th>\n",
       "      <th>ART_COD</th>\n",
       "      <th>PREZZO_PROMO</th>\n",
       "      <th>PREZZO_LISTINO</th>\n",
       "      <th>STOCK_PZ</th>\n",
       "      <th>TIPOLOGIA_PRODOTTO</th>\n",
       "      <th>SCONTO_PERC</th>\n",
       "      <th>PRODUCT_GROUP_x</th>\n",
       "      <th>BRAND</th>\n",
       "      <th>PRODUCT_GROUP_y</th>\n",
       "      <th>ITEM_ID</th>\n",
       "      <th>KPI_1</th>\n",
       "      <th>KPI_2</th>\n",
       "      <th>KPI_3</th>\n",
       "      <th>KPI_4</th>\n",
       "      <th>KPI_5</th>\n",
       "    </tr>\n",
       "  </thead>\n",
       "  <tbody>\n",
       "    <tr>\n",
       "      <th>0</th>\n",
       "      <td>23MA</td>\n",
       "      <td>2023-11-01</td>\n",
       "      <td>2023-11-08</td>\n",
       "      <td>BASKET TASSO ZERO</td>\n",
       "      <td>AMFACTIVEB</td>\n",
       "      <td>129.99</td>\n",
       "      <td>129.99</td>\n",
       "      <td>0</td>\n",
       "      <td>Principale</td>\n",
       "      <td>0.0</td>\n",
       "      <td>CORE WEARABLES                                ...</td>\n",
       "      <td>AMAZFIT</td>\n",
       "      <td>CORE WEARABLES</td>\n",
       "      <td>184518908.0</td>\n",
       "      <td>0.42367</td>\n",
       "      <td>NaN</td>\n",
       "      <td>NaN</td>\n",
       "      <td>1.0</td>\n",
       "      <td>NaN</td>\n",
       "    </tr>\n",
       "    <tr>\n",
       "      <th>1</th>\n",
       "      <td>23NA</td>\n",
       "      <td>2023-12-01</td>\n",
       "      <td>2023-12-06</td>\n",
       "      <td>BASKET TASSO ZERO</td>\n",
       "      <td>AMFACTIVEB</td>\n",
       "      <td>129.99</td>\n",
       "      <td>129.99</td>\n",
       "      <td>1111</td>\n",
       "      <td>Principale</td>\n",
       "      <td>0.0</td>\n",
       "      <td>CORE WEARABLES                                ...</td>\n",
       "      <td>AMAZFIT</td>\n",
       "      <td>CORE WEARABLES</td>\n",
       "      <td>184518908.0</td>\n",
       "      <td>1.00000</td>\n",
       "      <td>NaN</td>\n",
       "      <td>0.046811</td>\n",
       "      <td>1.0</td>\n",
       "      <td>0.756182</td>\n",
       "    </tr>\n",
       "    <tr>\n",
       "      <th>2</th>\n",
       "      <td>23MA</td>\n",
       "      <td>2023-11-01</td>\n",
       "      <td>2023-11-08</td>\n",
       "      <td>BASKET TASSO ZERO</td>\n",
       "      <td>AMFACTIVEP</td>\n",
       "      <td>129.99</td>\n",
       "      <td>129.99</td>\n",
       "      <td>0</td>\n",
       "      <td>Sostitutivo</td>\n",
       "      <td>0.0</td>\n",
       "      <td>CORE WEARABLES                                ...</td>\n",
       "      <td>AMAZFIT</td>\n",
       "      <td>CORE WEARABLES</td>\n",
       "      <td>184518908.0</td>\n",
       "      <td>0.42367</td>\n",
       "      <td>NaN</td>\n",
       "      <td>NaN</td>\n",
       "      <td>1.0</td>\n",
       "      <td>NaN</td>\n",
       "    </tr>\n",
       "    <tr>\n",
       "      <th>3</th>\n",
       "      <td>23NA</td>\n",
       "      <td>2023-12-01</td>\n",
       "      <td>2023-12-06</td>\n",
       "      <td>BASKET TASSO ZERO</td>\n",
       "      <td>AMFACTIVEP</td>\n",
       "      <td>129.99</td>\n",
       "      <td>129.99</td>\n",
       "      <td>962</td>\n",
       "      <td>Sostitutivo</td>\n",
       "      <td>0.0</td>\n",
       "      <td>CORE WEARABLES                                ...</td>\n",
       "      <td>AMAZFIT</td>\n",
       "      <td>CORE WEARABLES</td>\n",
       "      <td>184518908.0</td>\n",
       "      <td>1.00000</td>\n",
       "      <td>NaN</td>\n",
       "      <td>0.018919</td>\n",
       "      <td>1.0</td>\n",
       "      <td>0.756182</td>\n",
       "    </tr>\n",
       "    <tr>\n",
       "      <th>4</th>\n",
       "      <td>23NC</td>\n",
       "      <td>2023-12-17</td>\n",
       "      <td>2023-12-24</td>\n",
       "      <td>NATALISSIMI TASSO ZERO</td>\n",
       "      <td>AMFBAND7</td>\n",
       "      <td>44.99</td>\n",
       "      <td>49.99</td>\n",
       "      <td>237</td>\n",
       "      <td>Principale</td>\n",
       "      <td>10.0</td>\n",
       "      <td>CORE WEARABLES                                ...</td>\n",
       "      <td>AMAZFIT</td>\n",
       "      <td>CORE WEARABLES</td>\n",
       "      <td>177507779.0</td>\n",
       "      <td>1.00000</td>\n",
       "      <td>0.252783</td>\n",
       "      <td>0.061233</td>\n",
       "      <td>1.0</td>\n",
       "      <td>0.068461</td>\n",
       "    </tr>\n",
       "  </tbody>\n",
       "</table>\n",
       "</div>"
      ],
      "text/plain": [
       "  CODICE_VOLANTINO DATA_INIZIO   DATA_FINE           NOME_CAMPAGNA  \\\n",
       "0             23MA  2023-11-01  2023-11-08       BASKET TASSO ZERO   \n",
       "1             23NA  2023-12-01  2023-12-06       BASKET TASSO ZERO   \n",
       "2             23MA  2023-11-01  2023-11-08       BASKET TASSO ZERO   \n",
       "3             23NA  2023-12-01  2023-12-06       BASKET TASSO ZERO   \n",
       "4             23NC  2023-12-17  2023-12-24  NATALISSIMI TASSO ZERO   \n",
       "\n",
       "      ART_COD  PREZZO_PROMO  PREZZO_LISTINO  STOCK_PZ TIPOLOGIA_PRODOTTO  \\\n",
       "0  AMFACTIVEB        129.99          129.99         0         Principale   \n",
       "1  AMFACTIVEB        129.99          129.99      1111         Principale   \n",
       "2  AMFACTIVEP        129.99          129.99         0        Sostitutivo   \n",
       "3  AMFACTIVEP        129.99          129.99       962        Sostitutivo   \n",
       "4    AMFBAND7         44.99           49.99       237         Principale   \n",
       "\n",
       "   SCONTO_PERC                                    PRODUCT_GROUP_x  \\\n",
       "0          0.0  CORE WEARABLES                                ...   \n",
       "1          0.0  CORE WEARABLES                                ...   \n",
       "2          0.0  CORE WEARABLES                                ...   \n",
       "3          0.0  CORE WEARABLES                                ...   \n",
       "4         10.0  CORE WEARABLES                                ...   \n",
       "\n",
       "                            BRAND PRODUCT_GROUP_y      ITEM_ID    KPI_1  \\\n",
       "0  AMAZFIT                         CORE WEARABLES  184518908.0  0.42367   \n",
       "1  AMAZFIT                         CORE WEARABLES  184518908.0  1.00000   \n",
       "2  AMAZFIT                         CORE WEARABLES  184518908.0  0.42367   \n",
       "3  AMAZFIT                         CORE WEARABLES  184518908.0  1.00000   \n",
       "4  AMAZFIT                         CORE WEARABLES  177507779.0  1.00000   \n",
       "\n",
       "      KPI_2     KPI_3  KPI_4     KPI_5  \n",
       "0       NaN       NaN    1.0       NaN  \n",
       "1       NaN  0.046811    1.0  0.756182  \n",
       "2       NaN       NaN    1.0       NaN  \n",
       "3       NaN  0.018919    1.0  0.756182  \n",
       "4  0.252783  0.061233    1.0  0.068461  "
      ]
     },
     "execution_count": 61,
     "metadata": {},
     "output_type": "execute_result"
    }
   ],
   "source": [
    "df1.head()"
   ]
  },
  {
   "cell_type": "code",
   "execution_count": 62,
   "metadata": {},
   "outputs": [],
   "source": [
    "df1 = pd.merge(df1, storico, on = [\"ART_COD\", \"CODICE_VOLANTINO\"])\n",
    "df1 = df1.rename(columns={'QTA' : 'QTA_storico'})\n",
    "df1 = df1.rename(columns={'FATTURATO' : 'FATTURATO_storico'})"
   ]
  },
  {
   "cell_type": "code",
   "execution_count": 63,
   "metadata": {},
   "outputs": [
    {
     "data": {
      "text/html": [
       "<div>\n",
       "<style scoped>\n",
       "    .dataframe tbody tr th:only-of-type {\n",
       "        vertical-align: middle;\n",
       "    }\n",
       "\n",
       "    .dataframe tbody tr th {\n",
       "        vertical-align: top;\n",
       "    }\n",
       "\n",
       "    .dataframe thead th {\n",
       "        text-align: right;\n",
       "    }\n",
       "</style>\n",
       "<table border=\"1\" class=\"dataframe\">\n",
       "  <thead>\n",
       "    <tr style=\"text-align: right;\">\n",
       "      <th></th>\n",
       "      <th>CODICE_VOLANTINO</th>\n",
       "      <th>DATA_INIZIO</th>\n",
       "      <th>DATA_FINE</th>\n",
       "      <th>NOME_CAMPAGNA</th>\n",
       "      <th>ART_COD</th>\n",
       "      <th>PREZZO_PROMO</th>\n",
       "      <th>PREZZO_LISTINO</th>\n",
       "      <th>STOCK_PZ</th>\n",
       "      <th>TIPOLOGIA_PRODOTTO</th>\n",
       "      <th>SCONTO_PERC</th>\n",
       "      <th>PRODUCT_GROUP_x</th>\n",
       "      <th>BRAND</th>\n",
       "      <th>PRODUCT_GROUP_y</th>\n",
       "      <th>ITEM_ID</th>\n",
       "      <th>KPI_1</th>\n",
       "      <th>KPI_2</th>\n",
       "      <th>KPI_3</th>\n",
       "      <th>KPI_4</th>\n",
       "      <th>KPI_5</th>\n",
       "      <th>QTA_storico</th>\n",
       "      <th>FATTURATO_storico</th>\n",
       "    </tr>\n",
       "  </thead>\n",
       "  <tbody>\n",
       "    <tr>\n",
       "      <th>0</th>\n",
       "      <td>23MA</td>\n",
       "      <td>2023-11-01</td>\n",
       "      <td>2023-11-08</td>\n",
       "      <td>BASKET TASSO ZERO</td>\n",
       "      <td>AMFACTIVEB</td>\n",
       "      <td>129.99</td>\n",
       "      <td>129.99</td>\n",
       "      <td>0</td>\n",
       "      <td>Principale</td>\n",
       "      <td>0.0</td>\n",
       "      <td>CORE WEARABLES                                ...</td>\n",
       "      <td>AMAZFIT</td>\n",
       "      <td>CORE WEARABLES</td>\n",
       "      <td>184518908.0</td>\n",
       "      <td>0.42367</td>\n",
       "      <td>NaN</td>\n",
       "      <td>NaN</td>\n",
       "      <td>1.0</td>\n",
       "      <td>NaN</td>\n",
       "      <td>0</td>\n",
       "      <td>0.00</td>\n",
       "    </tr>\n",
       "    <tr>\n",
       "      <th>1</th>\n",
       "      <td>23NA</td>\n",
       "      <td>2023-12-01</td>\n",
       "      <td>2023-12-06</td>\n",
       "      <td>BASKET TASSO ZERO</td>\n",
       "      <td>AMFACTIVEB</td>\n",
       "      <td>129.99</td>\n",
       "      <td>129.99</td>\n",
       "      <td>1111</td>\n",
       "      <td>Principale</td>\n",
       "      <td>0.0</td>\n",
       "      <td>CORE WEARABLES                                ...</td>\n",
       "      <td>AMAZFIT</td>\n",
       "      <td>CORE WEARABLES</td>\n",
       "      <td>184518908.0</td>\n",
       "      <td>1.00000</td>\n",
       "      <td>NaN</td>\n",
       "      <td>0.046811</td>\n",
       "      <td>1.0</td>\n",
       "      <td>0.756182</td>\n",
       "      <td>15</td>\n",
       "      <td>1593.97</td>\n",
       "    </tr>\n",
       "    <tr>\n",
       "      <th>2</th>\n",
       "      <td>23MA</td>\n",
       "      <td>2023-11-01</td>\n",
       "      <td>2023-11-08</td>\n",
       "      <td>BASKET TASSO ZERO</td>\n",
       "      <td>AMFACTIVEP</td>\n",
       "      <td>129.99</td>\n",
       "      <td>129.99</td>\n",
       "      <td>0</td>\n",
       "      <td>Sostitutivo</td>\n",
       "      <td>0.0</td>\n",
       "      <td>CORE WEARABLES                                ...</td>\n",
       "      <td>AMAZFIT</td>\n",
       "      <td>CORE WEARABLES</td>\n",
       "      <td>184518908.0</td>\n",
       "      <td>0.42367</td>\n",
       "      <td>NaN</td>\n",
       "      <td>NaN</td>\n",
       "      <td>1.0</td>\n",
       "      <td>NaN</td>\n",
       "      <td>0</td>\n",
       "      <td>0.00</td>\n",
       "    </tr>\n",
       "    <tr>\n",
       "      <th>3</th>\n",
       "      <td>23NA</td>\n",
       "      <td>2023-12-01</td>\n",
       "      <td>2023-12-06</td>\n",
       "      <td>BASKET TASSO ZERO</td>\n",
       "      <td>AMFACTIVEP</td>\n",
       "      <td>129.99</td>\n",
       "      <td>129.99</td>\n",
       "      <td>962</td>\n",
       "      <td>Sostitutivo</td>\n",
       "      <td>0.0</td>\n",
       "      <td>CORE WEARABLES                                ...</td>\n",
       "      <td>AMAZFIT</td>\n",
       "      <td>CORE WEARABLES</td>\n",
       "      <td>184518908.0</td>\n",
       "      <td>1.00000</td>\n",
       "      <td>NaN</td>\n",
       "      <td>0.018919</td>\n",
       "      <td>1.0</td>\n",
       "      <td>0.756182</td>\n",
       "      <td>7</td>\n",
       "      <td>745.84</td>\n",
       "    </tr>\n",
       "    <tr>\n",
       "      <th>4</th>\n",
       "      <td>23NC</td>\n",
       "      <td>2023-12-17</td>\n",
       "      <td>2023-12-24</td>\n",
       "      <td>NATALISSIMI TASSO ZERO</td>\n",
       "      <td>AMFBAND7</td>\n",
       "      <td>44.99</td>\n",
       "      <td>49.99</td>\n",
       "      <td>237</td>\n",
       "      <td>Principale</td>\n",
       "      <td>10.0</td>\n",
       "      <td>CORE WEARABLES                                ...</td>\n",
       "      <td>AMAZFIT</td>\n",
       "      <td>CORE WEARABLES</td>\n",
       "      <td>177507779.0</td>\n",
       "      <td>1.00000</td>\n",
       "      <td>0.252783</td>\n",
       "      <td>0.061233</td>\n",
       "      <td>1.0</td>\n",
       "      <td>0.068461</td>\n",
       "      <td>63</td>\n",
       "      <td>2442.52</td>\n",
       "    </tr>\n",
       "  </tbody>\n",
       "</table>\n",
       "</div>"
      ],
      "text/plain": [
       "  CODICE_VOLANTINO DATA_INIZIO   DATA_FINE           NOME_CAMPAGNA  \\\n",
       "0             23MA  2023-11-01  2023-11-08       BASKET TASSO ZERO   \n",
       "1             23NA  2023-12-01  2023-12-06       BASKET TASSO ZERO   \n",
       "2             23MA  2023-11-01  2023-11-08       BASKET TASSO ZERO   \n",
       "3             23NA  2023-12-01  2023-12-06       BASKET TASSO ZERO   \n",
       "4             23NC  2023-12-17  2023-12-24  NATALISSIMI TASSO ZERO   \n",
       "\n",
       "      ART_COD  PREZZO_PROMO  PREZZO_LISTINO  STOCK_PZ TIPOLOGIA_PRODOTTO  \\\n",
       "0  AMFACTIVEB        129.99          129.99         0         Principale   \n",
       "1  AMFACTIVEB        129.99          129.99      1111         Principale   \n",
       "2  AMFACTIVEP        129.99          129.99         0        Sostitutivo   \n",
       "3  AMFACTIVEP        129.99          129.99       962        Sostitutivo   \n",
       "4    AMFBAND7         44.99           49.99       237         Principale   \n",
       "\n",
       "   SCONTO_PERC                                    PRODUCT_GROUP_x  \\\n",
       "0          0.0  CORE WEARABLES                                ...   \n",
       "1          0.0  CORE WEARABLES                                ...   \n",
       "2          0.0  CORE WEARABLES                                ...   \n",
       "3          0.0  CORE WEARABLES                                ...   \n",
       "4         10.0  CORE WEARABLES                                ...   \n",
       "\n",
       "                            BRAND PRODUCT_GROUP_y      ITEM_ID    KPI_1  \\\n",
       "0  AMAZFIT                         CORE WEARABLES  184518908.0  0.42367   \n",
       "1  AMAZFIT                         CORE WEARABLES  184518908.0  1.00000   \n",
       "2  AMAZFIT                         CORE WEARABLES  184518908.0  0.42367   \n",
       "3  AMAZFIT                         CORE WEARABLES  184518908.0  1.00000   \n",
       "4  AMAZFIT                         CORE WEARABLES  177507779.0  1.00000   \n",
       "\n",
       "      KPI_2     KPI_3  KPI_4     KPI_5  QTA_storico  FATTURATO_storico  \n",
       "0       NaN       NaN    1.0       NaN            0               0.00  \n",
       "1       NaN  0.046811    1.0  0.756182           15            1593.97  \n",
       "2       NaN       NaN    1.0       NaN            0               0.00  \n",
       "3       NaN  0.018919    1.0  0.756182            7             745.84  \n",
       "4  0.252783  0.061233    1.0  0.068461           63            2442.52  "
      ]
     },
     "execution_count": 63,
     "metadata": {},
     "output_type": "execute_result"
    }
   ],
   "source": [
    "df1.head()"
   ]
  },
  {
   "cell_type": "code",
   "execution_count": 64,
   "metadata": {},
   "outputs": [],
   "source": [
    "df1 = df1.rename(columns={'PRODUCT_GROUP_x' : 'PRODUCT_GROUP'})\n",
    "df1.drop(['PRODUCT_GROUP_y'], inplace = True, axis = 1)"
   ]
  },
  {
   "cell_type": "code",
   "execution_count": 65,
   "metadata": {},
   "outputs": [
    {
     "data": {
      "text/plain": [
       "Index(['CODICE_VOLANTINO', 'DATA_INIZIO', 'DATA_FINE', 'NOME_CAMPAGNA',\n",
       "       'ART_COD', 'PREZZO_PROMO', 'PREZZO_LISTINO', 'STOCK_PZ',\n",
       "       'TIPOLOGIA_PRODOTTO', 'SCONTO_PERC', 'PRODUCT_GROUP', 'BRAND',\n",
       "       'ITEM_ID', 'KPI_1', 'KPI_2', 'KPI_3', 'KPI_4', 'KPI_5', 'QTA_storico',\n",
       "       'FATTURATO_storico'],\n",
       "      dtype='object')"
      ]
     },
     "execution_count": 65,
     "metadata": {},
     "output_type": "execute_result"
    }
   ],
   "source": [
    "df1.columns"
   ]
  },
  {
   "cell_type": "code",
   "execution_count": 66,
   "metadata": {},
   "outputs": [
    {
     "data": {
      "text/plain": [
       "CODICE_VOLANTINO        0\n",
       "DATA_INIZIO             0\n",
       "DATA_FINE               0\n",
       "NOME_CAMPAGNA           0\n",
       "ART_COD                 0\n",
       "PREZZO_PROMO            0\n",
       "PREZZO_LISTINO          0\n",
       "STOCK_PZ                0\n",
       "TIPOLOGIA_PRODOTTO      0\n",
       "SCONTO_PERC             0\n",
       "PRODUCT_GROUP           0\n",
       "BRAND                   0\n",
       "ITEM_ID                52\n",
       "KPI_1                   0\n",
       "KPI_2                 177\n",
       "KPI_3                 158\n",
       "KPI_4                  85\n",
       "KPI_5                 183\n",
       "QTA_storico             0\n",
       "FATTURATO_storico       0\n",
       "dtype: int64"
      ]
     },
     "execution_count": 66,
     "metadata": {},
     "output_type": "execute_result"
    }
   ],
   "source": [
    "df1.isnull().sum()"
   ]
  },
  {
   "cell_type": "code",
   "execution_count": 67,
   "metadata": {},
   "outputs": [
    {
     "data": {
      "text/plain": [
       "(1382, 20)"
      ]
     },
     "execution_count": 67,
     "metadata": {},
     "output_type": "execute_result"
    }
   ],
   "source": [
    "df1.shape"
   ]
  },
  {
   "cell_type": "markdown",
   "metadata": {},
   "source": [
    "## LAVORO SUL DATASET"
   ]
  },
  {
   "cell_type": "code",
   "execution_count": 68,
   "metadata": {},
   "outputs": [
    {
     "data": {
      "text/html": [
       "<div>\n",
       "<style scoped>\n",
       "    .dataframe tbody tr th:only-of-type {\n",
       "        vertical-align: middle;\n",
       "    }\n",
       "\n",
       "    .dataframe tbody tr th {\n",
       "        vertical-align: top;\n",
       "    }\n",
       "\n",
       "    .dataframe thead th {\n",
       "        text-align: right;\n",
       "    }\n",
       "</style>\n",
       "<table border=\"1\" class=\"dataframe\">\n",
       "  <thead>\n",
       "    <tr style=\"text-align: right;\">\n",
       "      <th></th>\n",
       "      <th>CODICE_VOLANTINO</th>\n",
       "      <th>DATA_INIZIO</th>\n",
       "      <th>DATA_FINE</th>\n",
       "      <th>NOME_CAMPAGNA</th>\n",
       "      <th>ART_COD</th>\n",
       "      <th>PREZZO_PROMO</th>\n",
       "      <th>PREZZO_LISTINO</th>\n",
       "      <th>STOCK_PZ</th>\n",
       "      <th>TIPOLOGIA_PRODOTTO</th>\n",
       "      <th>SCONTO_PERC</th>\n",
       "      <th>PRODUCT_GROUP</th>\n",
       "      <th>BRAND</th>\n",
       "      <th>ITEM_ID</th>\n",
       "      <th>KPI_1</th>\n",
       "      <th>KPI_2</th>\n",
       "      <th>KPI_3</th>\n",
       "      <th>KPI_4</th>\n",
       "      <th>KPI_5</th>\n",
       "      <th>QTA_storico</th>\n",
       "      <th>FATTURATO_storico</th>\n",
       "    </tr>\n",
       "  </thead>\n",
       "  <tbody>\n",
       "    <tr>\n",
       "      <th>0</th>\n",
       "      <td>23MA</td>\n",
       "      <td>2023-11-01</td>\n",
       "      <td>2023-11-08</td>\n",
       "      <td>BASKET TASSO ZERO</td>\n",
       "      <td>AMFACTIVEB</td>\n",
       "      <td>129.99</td>\n",
       "      <td>129.99</td>\n",
       "      <td>0</td>\n",
       "      <td>Principale</td>\n",
       "      <td>0.0</td>\n",
       "      <td>CORE WEARABLES                                ...</td>\n",
       "      <td>AMAZFIT</td>\n",
       "      <td>184518908.0</td>\n",
       "      <td>0.42367</td>\n",
       "      <td>NaN</td>\n",
       "      <td>NaN</td>\n",
       "      <td>1.0</td>\n",
       "      <td>NaN</td>\n",
       "      <td>0</td>\n",
       "      <td>0.00</td>\n",
       "    </tr>\n",
       "    <tr>\n",
       "      <th>1</th>\n",
       "      <td>23NA</td>\n",
       "      <td>2023-12-01</td>\n",
       "      <td>2023-12-06</td>\n",
       "      <td>BASKET TASSO ZERO</td>\n",
       "      <td>AMFACTIVEB</td>\n",
       "      <td>129.99</td>\n",
       "      <td>129.99</td>\n",
       "      <td>1111</td>\n",
       "      <td>Principale</td>\n",
       "      <td>0.0</td>\n",
       "      <td>CORE WEARABLES                                ...</td>\n",
       "      <td>AMAZFIT</td>\n",
       "      <td>184518908.0</td>\n",
       "      <td>1.00000</td>\n",
       "      <td>NaN</td>\n",
       "      <td>0.046811</td>\n",
       "      <td>1.0</td>\n",
       "      <td>0.756182</td>\n",
       "      <td>15</td>\n",
       "      <td>1593.97</td>\n",
       "    </tr>\n",
       "    <tr>\n",
       "      <th>2</th>\n",
       "      <td>23MA</td>\n",
       "      <td>2023-11-01</td>\n",
       "      <td>2023-11-08</td>\n",
       "      <td>BASKET TASSO ZERO</td>\n",
       "      <td>AMFACTIVEP</td>\n",
       "      <td>129.99</td>\n",
       "      <td>129.99</td>\n",
       "      <td>0</td>\n",
       "      <td>Sostitutivo</td>\n",
       "      <td>0.0</td>\n",
       "      <td>CORE WEARABLES                                ...</td>\n",
       "      <td>AMAZFIT</td>\n",
       "      <td>184518908.0</td>\n",
       "      <td>0.42367</td>\n",
       "      <td>NaN</td>\n",
       "      <td>NaN</td>\n",
       "      <td>1.0</td>\n",
       "      <td>NaN</td>\n",
       "      <td>0</td>\n",
       "      <td>0.00</td>\n",
       "    </tr>\n",
       "    <tr>\n",
       "      <th>3</th>\n",
       "      <td>23NA</td>\n",
       "      <td>2023-12-01</td>\n",
       "      <td>2023-12-06</td>\n",
       "      <td>BASKET TASSO ZERO</td>\n",
       "      <td>AMFACTIVEP</td>\n",
       "      <td>129.99</td>\n",
       "      <td>129.99</td>\n",
       "      <td>962</td>\n",
       "      <td>Sostitutivo</td>\n",
       "      <td>0.0</td>\n",
       "      <td>CORE WEARABLES                                ...</td>\n",
       "      <td>AMAZFIT</td>\n",
       "      <td>184518908.0</td>\n",
       "      <td>1.00000</td>\n",
       "      <td>NaN</td>\n",
       "      <td>0.018919</td>\n",
       "      <td>1.0</td>\n",
       "      <td>0.756182</td>\n",
       "      <td>7</td>\n",
       "      <td>745.84</td>\n",
       "    </tr>\n",
       "    <tr>\n",
       "      <th>4</th>\n",
       "      <td>23NC</td>\n",
       "      <td>2023-12-17</td>\n",
       "      <td>2023-12-24</td>\n",
       "      <td>NATALISSIMI TASSO ZERO</td>\n",
       "      <td>AMFBAND7</td>\n",
       "      <td>44.99</td>\n",
       "      <td>49.99</td>\n",
       "      <td>237</td>\n",
       "      <td>Principale</td>\n",
       "      <td>10.0</td>\n",
       "      <td>CORE WEARABLES                                ...</td>\n",
       "      <td>AMAZFIT</td>\n",
       "      <td>177507779.0</td>\n",
       "      <td>1.00000</td>\n",
       "      <td>0.252783</td>\n",
       "      <td>0.061233</td>\n",
       "      <td>1.0</td>\n",
       "      <td>0.068461</td>\n",
       "      <td>63</td>\n",
       "      <td>2442.52</td>\n",
       "    </tr>\n",
       "  </tbody>\n",
       "</table>\n",
       "</div>"
      ],
      "text/plain": [
       "  CODICE_VOLANTINO DATA_INIZIO   DATA_FINE           NOME_CAMPAGNA  \\\n",
       "0             23MA  2023-11-01  2023-11-08       BASKET TASSO ZERO   \n",
       "1             23NA  2023-12-01  2023-12-06       BASKET TASSO ZERO   \n",
       "2             23MA  2023-11-01  2023-11-08       BASKET TASSO ZERO   \n",
       "3             23NA  2023-12-01  2023-12-06       BASKET TASSO ZERO   \n",
       "4             23NC  2023-12-17  2023-12-24  NATALISSIMI TASSO ZERO   \n",
       "\n",
       "      ART_COD  PREZZO_PROMO  PREZZO_LISTINO  STOCK_PZ TIPOLOGIA_PRODOTTO  \\\n",
       "0  AMFACTIVEB        129.99          129.99         0         Principale   \n",
       "1  AMFACTIVEB        129.99          129.99      1111         Principale   \n",
       "2  AMFACTIVEP        129.99          129.99         0        Sostitutivo   \n",
       "3  AMFACTIVEP        129.99          129.99       962        Sostitutivo   \n",
       "4    AMFBAND7         44.99           49.99       237         Principale   \n",
       "\n",
       "   SCONTO_PERC                                      PRODUCT_GROUP  \\\n",
       "0          0.0  CORE WEARABLES                                ...   \n",
       "1          0.0  CORE WEARABLES                                ...   \n",
       "2          0.0  CORE WEARABLES                                ...   \n",
       "3          0.0  CORE WEARABLES                                ...   \n",
       "4         10.0  CORE WEARABLES                                ...   \n",
       "\n",
       "                            BRAND      ITEM_ID    KPI_1     KPI_2     KPI_3  \\\n",
       "0  AMAZFIT                         184518908.0  0.42367       NaN       NaN   \n",
       "1  AMAZFIT                         184518908.0  1.00000       NaN  0.046811   \n",
       "2  AMAZFIT                         184518908.0  0.42367       NaN       NaN   \n",
       "3  AMAZFIT                         184518908.0  1.00000       NaN  0.018919   \n",
       "4  AMAZFIT                         177507779.0  1.00000  0.252783  0.061233   \n",
       "\n",
       "   KPI_4     KPI_5  QTA_storico  FATTURATO_storico  \n",
       "0    1.0       NaN            0               0.00  \n",
       "1    1.0  0.756182           15            1593.97  \n",
       "2    1.0       NaN            0               0.00  \n",
       "3    1.0  0.756182            7             745.84  \n",
       "4    1.0  0.068461           63            2442.52  "
      ]
     },
     "execution_count": 68,
     "metadata": {},
     "output_type": "execute_result"
    }
   ],
   "source": [
    "df1.head()"
   ]
  },
  {
   "cell_type": "code",
   "execution_count": 69,
   "metadata": {},
   "outputs": [],
   "source": [
    "df1['DATA_INIZIO'] = pd.to_datetime(df1['DATA_INIZIO'])\n",
    "df1['DATA_FINE'] = pd.to_datetime(df1['DATA_FINE'])"
   ]
  },
  {
   "cell_type": "code",
   "execution_count": 70,
   "metadata": {},
   "outputs": [],
   "source": [
    "df1['DURATA_VOLANTINO_IN_GIORNI'] = df1['DATA_FINE'] - df1['DATA_INIZIO']\n",
    "df1['DURATA_VOLANTINO_IN_GIORNI'] = df1['DURATA_VOLANTINO_IN_GIORNI'].apply(lambda x: x.days)"
   ]
  },
  {
   "cell_type": "code",
   "execution_count": 71,
   "metadata": {},
   "outputs": [
    {
     "name": "stdout",
     "output_type": "stream",
     "text": [
      "<class 'pandas.core.frame.DataFrame'>\n",
      "RangeIndex: 1382 entries, 0 to 1381\n",
      "Data columns (total 21 columns):\n",
      " #   Column                      Non-Null Count  Dtype         \n",
      "---  ------                      --------------  -----         \n",
      " 0   CODICE_VOLANTINO            1382 non-null   object        \n",
      " 1   DATA_INIZIO                 1382 non-null   datetime64[ns]\n",
      " 2   DATA_FINE                   1382 non-null   datetime64[ns]\n",
      " 3   NOME_CAMPAGNA               1382 non-null   object        \n",
      " 4   ART_COD                     1382 non-null   object        \n",
      " 5   PREZZO_PROMO                1382 non-null   float64       \n",
      " 6   PREZZO_LISTINO              1382 non-null   float64       \n",
      " 7   STOCK_PZ                    1382 non-null   int64         \n",
      " 8   TIPOLOGIA_PRODOTTO          1382 non-null   object        \n",
      " 9   SCONTO_PERC                 1382 non-null   float64       \n",
      " 10  PRODUCT_GROUP               1382 non-null   object        \n",
      " 11  BRAND                       1382 non-null   object        \n",
      " 12  ITEM_ID                     1330 non-null   float64       \n",
      " 13  KPI_1                       1382 non-null   float64       \n",
      " 14  KPI_2                       1205 non-null   float64       \n",
      " 15  KPI_3                       1224 non-null   float64       \n",
      " 16  KPI_4                       1297 non-null   float64       \n",
      " 17  KPI_5                       1199 non-null   float64       \n",
      " 18  QTA_storico                 1382 non-null   int64         \n",
      " 19  FATTURATO_storico           1382 non-null   float64       \n",
      " 20  DURATA_VOLANTINO_IN_GIORNI  1382 non-null   int64         \n",
      "dtypes: datetime64[ns](2), float64(10), int64(3), object(6)\n",
      "memory usage: 226.9+ KB\n"
     ]
    }
   ],
   "source": [
    "df1.info()"
   ]
  },
  {
   "cell_type": "code",
   "execution_count": 72,
   "metadata": {},
   "outputs": [
    {
     "data": {
      "text/plain": [
       "CODICE_VOLANTINO                0\n",
       "DATA_INIZIO                     0\n",
       "DATA_FINE                       0\n",
       "NOME_CAMPAGNA                   0\n",
       "ART_COD                         0\n",
       "PREZZO_PROMO                    0\n",
       "PREZZO_LISTINO                  0\n",
       "STOCK_PZ                        0\n",
       "TIPOLOGIA_PRODOTTO              0\n",
       "SCONTO_PERC                     0\n",
       "PRODUCT_GROUP                   0\n",
       "BRAND                           0\n",
       "ITEM_ID                        52\n",
       "KPI_1                           0\n",
       "KPI_2                         177\n",
       "KPI_3                         158\n",
       "KPI_4                          85\n",
       "KPI_5                         183\n",
       "QTA_storico                     0\n",
       "FATTURATO_storico               0\n",
       "DURATA_VOLANTINO_IN_GIORNI      0\n",
       "dtype: int64"
      ]
     },
     "execution_count": 72,
     "metadata": {},
     "output_type": "execute_result"
    }
   ],
   "source": [
    "df1.isnull().sum()"
   ]
  },
  {
   "cell_type": "code",
   "execution_count": 73,
   "metadata": {},
   "outputs": [],
   "source": [
    "df1['KPI_2'].fillna(0, inplace=True)\n",
    "df1['KPI_3'].fillna(0, inplace=True)\n",
    "df1['KPI_4'].fillna(0, inplace=True)\n",
    "df1['KPI_5'].fillna(0, inplace=True)"
   ]
  },
  {
   "cell_type": "code",
   "execution_count": 74,
   "metadata": {},
   "outputs": [
    {
     "data": {
      "text/html": [
       "<div>\n",
       "<style scoped>\n",
       "    .dataframe tbody tr th:only-of-type {\n",
       "        vertical-align: middle;\n",
       "    }\n",
       "\n",
       "    .dataframe tbody tr th {\n",
       "        vertical-align: top;\n",
       "    }\n",
       "\n",
       "    .dataframe thead th {\n",
       "        text-align: right;\n",
       "    }\n",
       "</style>\n",
       "<table border=\"1\" class=\"dataframe\">\n",
       "  <thead>\n",
       "    <tr style=\"text-align: right;\">\n",
       "      <th></th>\n",
       "      <th>count</th>\n",
       "      <th>mean</th>\n",
       "      <th>min</th>\n",
       "      <th>25%</th>\n",
       "      <th>50%</th>\n",
       "      <th>75%</th>\n",
       "      <th>max</th>\n",
       "      <th>std</th>\n",
       "    </tr>\n",
       "  </thead>\n",
       "  <tbody>\n",
       "    <tr>\n",
       "      <th>DATA_INIZIO</th>\n",
       "      <td>1382</td>\n",
       "      <td>2023-11-25 10:52:16.324167936</td>\n",
       "      <td>2023-11-01 00:00:00</td>\n",
       "      <td>2023-11-16 00:00:00</td>\n",
       "      <td>2023-11-23 00:00:00</td>\n",
       "      <td>2023-12-07 00:00:00</td>\n",
       "      <td>2023-12-17 00:00:00</td>\n",
       "      <td>NaN</td>\n",
       "    </tr>\n",
       "    <tr>\n",
       "      <th>DATA_FINE</th>\n",
       "      <td>1382</td>\n",
       "      <td>2023-12-02 04:56:57.655571712</td>\n",
       "      <td>2023-11-08 00:00:00</td>\n",
       "      <td>2023-11-22 00:00:00</td>\n",
       "      <td>2023-11-30 00:00:00</td>\n",
       "      <td>2023-12-16 00:00:00</td>\n",
       "      <td>2023-12-24 00:00:00</td>\n",
       "      <td>NaN</td>\n",
       "    </tr>\n",
       "    <tr>\n",
       "      <th>PREZZO_PROMO</th>\n",
       "      <td>1382.0</td>\n",
       "      <td>449.316139</td>\n",
       "      <td>24.99</td>\n",
       "      <td>179.99</td>\n",
       "      <td>349.9</td>\n",
       "      <td>599.9</td>\n",
       "      <td>2899.0</td>\n",
       "      <td>363.108602</td>\n",
       "    </tr>\n",
       "    <tr>\n",
       "      <th>PREZZO_LISTINO</th>\n",
       "      <td>1382.0</td>\n",
       "      <td>595.52047</td>\n",
       "      <td>24.99</td>\n",
       "      <td>269.9</td>\n",
       "      <td>459.0</td>\n",
       "      <td>829.9</td>\n",
       "      <td>4299.0</td>\n",
       "      <td>468.003964</td>\n",
       "    </tr>\n",
       "    <tr>\n",
       "      <th>STOCK_PZ</th>\n",
       "      <td>1382.0</td>\n",
       "      <td>793.414616</td>\n",
       "      <td>0.0</td>\n",
       "      <td>53.0</td>\n",
       "      <td>310.0</td>\n",
       "      <td>885.75</td>\n",
       "      <td>19826.0</td>\n",
       "      <td>1552.47269</td>\n",
       "    </tr>\n",
       "    <tr>\n",
       "      <th>SCONTO_PERC</th>\n",
       "      <td>1382.0</td>\n",
       "      <td>25.096715</td>\n",
       "      <td>0.0</td>\n",
       "      <td>12.5</td>\n",
       "      <td>25.02</td>\n",
       "      <td>35.84</td>\n",
       "      <td>90.0</td>\n",
       "      <td>14.571946</td>\n",
       "    </tr>\n",
       "    <tr>\n",
       "      <th>ITEM_ID</th>\n",
       "      <td>1330.0</td>\n",
       "      <td>179490411.68797</td>\n",
       "      <td>146141911.0</td>\n",
       "      <td>177574023.0</td>\n",
       "      <td>180700321.0</td>\n",
       "      <td>183532152.25</td>\n",
       "      <td>185138937.0</td>\n",
       "      <td>5179774.263373</td>\n",
       "    </tr>\n",
       "    <tr>\n",
       "      <th>KPI_1</th>\n",
       "      <td>1382.0</td>\n",
       "      <td>0.859072</td>\n",
       "      <td>0.42367</td>\n",
       "      <td>0.768852</td>\n",
       "      <td>0.960614</td>\n",
       "      <td>1.0</td>\n",
       "      <td>1.0</td>\n",
       "      <td>0.188017</td>\n",
       "    </tr>\n",
       "    <tr>\n",
       "      <th>KPI_2</th>\n",
       "      <td>1382.0</td>\n",
       "      <td>0.285064</td>\n",
       "      <td>0.0</td>\n",
       "      <td>0.0</td>\n",
       "      <td>0.271409</td>\n",
       "      <td>0.502334</td>\n",
       "      <td>1.0</td>\n",
       "      <td>0.287747</td>\n",
       "    </tr>\n",
       "    <tr>\n",
       "      <th>KPI_3</th>\n",
       "      <td>1382.0</td>\n",
       "      <td>0.217039</td>\n",
       "      <td>0.0</td>\n",
       "      <td>0.018255</td>\n",
       "      <td>0.118825</td>\n",
       "      <td>0.35151</td>\n",
       "      <td>1.0</td>\n",
       "      <td>0.244163</td>\n",
       "    </tr>\n",
       "    <tr>\n",
       "      <th>KPI_4</th>\n",
       "      <td>1382.0</td>\n",
       "      <td>0.556362</td>\n",
       "      <td>0.0</td>\n",
       "      <td>0.195341</td>\n",
       "      <td>0.497881</td>\n",
       "      <td>1.0</td>\n",
       "      <td>1.0</td>\n",
       "      <td>0.382754</td>\n",
       "    </tr>\n",
       "    <tr>\n",
       "      <th>KPI_5</th>\n",
       "      <td>1382.0</td>\n",
       "      <td>0.428588</td>\n",
       "      <td>0.0</td>\n",
       "      <td>0.050513</td>\n",
       "      <td>0.334504</td>\n",
       "      <td>0.73701</td>\n",
       "      <td>1.0</td>\n",
       "      <td>0.382237</td>\n",
       "    </tr>\n",
       "    <tr>\n",
       "      <th>QTA_storico</th>\n",
       "      <td>1382.0</td>\n",
       "      <td>335.964544</td>\n",
       "      <td>0.0</td>\n",
       "      <td>8.0</td>\n",
       "      <td>93.5</td>\n",
       "      <td>421.5</td>\n",
       "      <td>5541.0</td>\n",
       "      <td>611.053586</td>\n",
       "    </tr>\n",
       "    <tr>\n",
       "      <th>FATTURATO_storico</th>\n",
       "      <td>1382.0</td>\n",
       "      <td>95861.276064</td>\n",
       "      <td>0.0</td>\n",
       "      <td>2435.7625</td>\n",
       "      <td>26514.275</td>\n",
       "      <td>109935.4525</td>\n",
       "      <td>2330256.23</td>\n",
       "      <td>192309.652652</td>\n",
       "    </tr>\n",
       "    <tr>\n",
       "      <th>DURATA_VOLANTINO_IN_GIORNI</th>\n",
       "      <td>1382.0</td>\n",
       "      <td>6.753256</td>\n",
       "      <td>5.0</td>\n",
       "      <td>6.0</td>\n",
       "      <td>7.0</td>\n",
       "      <td>7.0</td>\n",
       "      <td>9.0</td>\n",
       "      <td>1.170745</td>\n",
       "    </tr>\n",
       "  </tbody>\n",
       "</table>\n",
       "</div>"
      ],
      "text/plain": [
       "                             count                           mean  \\\n",
       "DATA_INIZIO                   1382  2023-11-25 10:52:16.324167936   \n",
       "DATA_FINE                     1382  2023-12-02 04:56:57.655571712   \n",
       "PREZZO_PROMO                1382.0                     449.316139   \n",
       "PREZZO_LISTINO              1382.0                      595.52047   \n",
       "STOCK_PZ                    1382.0                     793.414616   \n",
       "SCONTO_PERC                 1382.0                      25.096715   \n",
       "ITEM_ID                     1330.0                179490411.68797   \n",
       "KPI_1                       1382.0                       0.859072   \n",
       "KPI_2                       1382.0                       0.285064   \n",
       "KPI_3                       1382.0                       0.217039   \n",
       "KPI_4                       1382.0                       0.556362   \n",
       "KPI_5                       1382.0                       0.428588   \n",
       "QTA_storico                 1382.0                     335.964544   \n",
       "FATTURATO_storico           1382.0                   95861.276064   \n",
       "DURATA_VOLANTINO_IN_GIORNI  1382.0                       6.753256   \n",
       "\n",
       "                                            min                  25%  \\\n",
       "DATA_INIZIO                 2023-11-01 00:00:00  2023-11-16 00:00:00   \n",
       "DATA_FINE                   2023-11-08 00:00:00  2023-11-22 00:00:00   \n",
       "PREZZO_PROMO                              24.99               179.99   \n",
       "PREZZO_LISTINO                            24.99                269.9   \n",
       "STOCK_PZ                                    0.0                 53.0   \n",
       "SCONTO_PERC                                 0.0                 12.5   \n",
       "ITEM_ID                             146141911.0          177574023.0   \n",
       "KPI_1                                   0.42367             0.768852   \n",
       "KPI_2                                       0.0                  0.0   \n",
       "KPI_3                                       0.0             0.018255   \n",
       "KPI_4                                       0.0             0.195341   \n",
       "KPI_5                                       0.0             0.050513   \n",
       "QTA_storico                                 0.0                  8.0   \n",
       "FATTURATO_storico                           0.0            2435.7625   \n",
       "DURATA_VOLANTINO_IN_GIORNI                  5.0                  6.0   \n",
       "\n",
       "                                            50%                  75%  \\\n",
       "DATA_INIZIO                 2023-11-23 00:00:00  2023-12-07 00:00:00   \n",
       "DATA_FINE                   2023-11-30 00:00:00  2023-12-16 00:00:00   \n",
       "PREZZO_PROMO                              349.9                599.9   \n",
       "PREZZO_LISTINO                            459.0                829.9   \n",
       "STOCK_PZ                                  310.0               885.75   \n",
       "SCONTO_PERC                               25.02                35.84   \n",
       "ITEM_ID                             180700321.0         183532152.25   \n",
       "KPI_1                                  0.960614                  1.0   \n",
       "KPI_2                                  0.271409             0.502334   \n",
       "KPI_3                                  0.118825              0.35151   \n",
       "KPI_4                                  0.497881                  1.0   \n",
       "KPI_5                                  0.334504              0.73701   \n",
       "QTA_storico                                93.5                421.5   \n",
       "FATTURATO_storico                     26514.275          109935.4525   \n",
       "DURATA_VOLANTINO_IN_GIORNI                  7.0                  7.0   \n",
       "\n",
       "                                            max             std  \n",
       "DATA_INIZIO                 2023-12-17 00:00:00             NaN  \n",
       "DATA_FINE                   2023-12-24 00:00:00             NaN  \n",
       "PREZZO_PROMO                             2899.0      363.108602  \n",
       "PREZZO_LISTINO                           4299.0      468.003964  \n",
       "STOCK_PZ                                19826.0      1552.47269  \n",
       "SCONTO_PERC                                90.0       14.571946  \n",
       "ITEM_ID                             185138937.0  5179774.263373  \n",
       "KPI_1                                       1.0        0.188017  \n",
       "KPI_2                                       1.0        0.287747  \n",
       "KPI_3                                       1.0        0.244163  \n",
       "KPI_4                                       1.0        0.382754  \n",
       "KPI_5                                       1.0        0.382237  \n",
       "QTA_storico                              5541.0      611.053586  \n",
       "FATTURATO_storico                    2330256.23   192309.652652  \n",
       "DURATA_VOLANTINO_IN_GIORNI                  9.0        1.170745  "
      ]
     },
     "execution_count": 74,
     "metadata": {},
     "output_type": "execute_result"
    }
   ],
   "source": [
    "df1.describe().T"
   ]
  },
  {
   "cell_type": "code",
   "execution_count": 75,
   "metadata": {},
   "outputs": [
    {
     "data": {
      "text/plain": [
       "(1382, 21)"
      ]
     },
     "execution_count": 75,
     "metadata": {},
     "output_type": "execute_result"
    }
   ],
   "source": [
    "df1.shape"
   ]
  },
  {
   "cell_type": "markdown",
   "metadata": {},
   "source": [
    "# DIVISONE PER PRODUCT GROUPS ED UTILIZZO DEL DF GKF"
   ]
  },
  {
   "cell_type": "markdown",
   "metadata": {},
   "source": [
    "## PREPARAZIONE"
   ]
  },
  {
   "cell_type": "code",
   "execution_count": 76,
   "metadata": {},
   "outputs": [
    {
     "data": {
      "text/html": [
       "<div>\n",
       "<style scoped>\n",
       "    .dataframe tbody tr th:only-of-type {\n",
       "        vertical-align: middle;\n",
       "    }\n",
       "\n",
       "    .dataframe tbody tr th {\n",
       "        vertical-align: top;\n",
       "    }\n",
       "\n",
       "    .dataframe thead th {\n",
       "        text-align: right;\n",
       "    }\n",
       "</style>\n",
       "<table border=\"1\" class=\"dataframe\">\n",
       "  <thead>\n",
       "    <tr style=\"text-align: right;\">\n",
       "      <th></th>\n",
       "      <th>CODICE_VOLANTINO</th>\n",
       "      <th>DATA_INIZIO</th>\n",
       "      <th>DATA_FINE</th>\n",
       "      <th>NOME_CAMPAGNA</th>\n",
       "      <th>ART_COD</th>\n",
       "      <th>PREZZO_PROMO</th>\n",
       "      <th>PREZZO_LISTINO</th>\n",
       "      <th>STOCK_PZ</th>\n",
       "      <th>TIPOLOGIA_PRODOTTO</th>\n",
       "      <th>SCONTO_PERC</th>\n",
       "      <th>PRODUCT_GROUP</th>\n",
       "      <th>BRAND</th>\n",
       "      <th>ITEM_ID</th>\n",
       "      <th>KPI_1</th>\n",
       "      <th>KPI_2</th>\n",
       "      <th>KPI_3</th>\n",
       "      <th>KPI_4</th>\n",
       "      <th>KPI_5</th>\n",
       "      <th>QTA_storico</th>\n",
       "      <th>FATTURATO_storico</th>\n",
       "      <th>DURATA_VOLANTINO_IN_GIORNI</th>\n",
       "    </tr>\n",
       "  </thead>\n",
       "  <tbody>\n",
       "    <tr>\n",
       "      <th>0</th>\n",
       "      <td>23MA</td>\n",
       "      <td>2023-11-01</td>\n",
       "      <td>2023-11-08</td>\n",
       "      <td>BASKET TASSO ZERO</td>\n",
       "      <td>AMFACTIVEB</td>\n",
       "      <td>129.99</td>\n",
       "      <td>129.99</td>\n",
       "      <td>0</td>\n",
       "      <td>Principale</td>\n",
       "      <td>0.0</td>\n",
       "      <td>CORE WEARABLES                                ...</td>\n",
       "      <td>AMAZFIT</td>\n",
       "      <td>184518908.0</td>\n",
       "      <td>0.42367</td>\n",
       "      <td>0.000000</td>\n",
       "      <td>0.000000</td>\n",
       "      <td>1.0</td>\n",
       "      <td>0.000000</td>\n",
       "      <td>0</td>\n",
       "      <td>0.00</td>\n",
       "      <td>7</td>\n",
       "    </tr>\n",
       "    <tr>\n",
       "      <th>1</th>\n",
       "      <td>23NA</td>\n",
       "      <td>2023-12-01</td>\n",
       "      <td>2023-12-06</td>\n",
       "      <td>BASKET TASSO ZERO</td>\n",
       "      <td>AMFACTIVEB</td>\n",
       "      <td>129.99</td>\n",
       "      <td>129.99</td>\n",
       "      <td>1111</td>\n",
       "      <td>Principale</td>\n",
       "      <td>0.0</td>\n",
       "      <td>CORE WEARABLES                                ...</td>\n",
       "      <td>AMAZFIT</td>\n",
       "      <td>184518908.0</td>\n",
       "      <td>1.00000</td>\n",
       "      <td>0.000000</td>\n",
       "      <td>0.046811</td>\n",
       "      <td>1.0</td>\n",
       "      <td>0.756182</td>\n",
       "      <td>15</td>\n",
       "      <td>1593.97</td>\n",
       "      <td>5</td>\n",
       "    </tr>\n",
       "    <tr>\n",
       "      <th>2</th>\n",
       "      <td>23MA</td>\n",
       "      <td>2023-11-01</td>\n",
       "      <td>2023-11-08</td>\n",
       "      <td>BASKET TASSO ZERO</td>\n",
       "      <td>AMFACTIVEP</td>\n",
       "      <td>129.99</td>\n",
       "      <td>129.99</td>\n",
       "      <td>0</td>\n",
       "      <td>Sostitutivo</td>\n",
       "      <td>0.0</td>\n",
       "      <td>CORE WEARABLES                                ...</td>\n",
       "      <td>AMAZFIT</td>\n",
       "      <td>184518908.0</td>\n",
       "      <td>0.42367</td>\n",
       "      <td>0.000000</td>\n",
       "      <td>0.000000</td>\n",
       "      <td>1.0</td>\n",
       "      <td>0.000000</td>\n",
       "      <td>0</td>\n",
       "      <td>0.00</td>\n",
       "      <td>7</td>\n",
       "    </tr>\n",
       "    <tr>\n",
       "      <th>3</th>\n",
       "      <td>23NA</td>\n",
       "      <td>2023-12-01</td>\n",
       "      <td>2023-12-06</td>\n",
       "      <td>BASKET TASSO ZERO</td>\n",
       "      <td>AMFACTIVEP</td>\n",
       "      <td>129.99</td>\n",
       "      <td>129.99</td>\n",
       "      <td>962</td>\n",
       "      <td>Sostitutivo</td>\n",
       "      <td>0.0</td>\n",
       "      <td>CORE WEARABLES                                ...</td>\n",
       "      <td>AMAZFIT</td>\n",
       "      <td>184518908.0</td>\n",
       "      <td>1.00000</td>\n",
       "      <td>0.000000</td>\n",
       "      <td>0.018919</td>\n",
       "      <td>1.0</td>\n",
       "      <td>0.756182</td>\n",
       "      <td>7</td>\n",
       "      <td>745.84</td>\n",
       "      <td>5</td>\n",
       "    </tr>\n",
       "    <tr>\n",
       "      <th>4</th>\n",
       "      <td>23NC</td>\n",
       "      <td>2023-12-17</td>\n",
       "      <td>2023-12-24</td>\n",
       "      <td>NATALISSIMI TASSO ZERO</td>\n",
       "      <td>AMFBAND7</td>\n",
       "      <td>44.99</td>\n",
       "      <td>49.99</td>\n",
       "      <td>237</td>\n",
       "      <td>Principale</td>\n",
       "      <td>10.0</td>\n",
       "      <td>CORE WEARABLES                                ...</td>\n",
       "      <td>AMAZFIT</td>\n",
       "      <td>177507779.0</td>\n",
       "      <td>1.00000</td>\n",
       "      <td>0.252783</td>\n",
       "      <td>0.061233</td>\n",
       "      <td>1.0</td>\n",
       "      <td>0.068461</td>\n",
       "      <td>63</td>\n",
       "      <td>2442.52</td>\n",
       "      <td>7</td>\n",
       "    </tr>\n",
       "  </tbody>\n",
       "</table>\n",
       "</div>"
      ],
      "text/plain": [
       "  CODICE_VOLANTINO DATA_INIZIO  DATA_FINE           NOME_CAMPAGNA     ART_COD  \\\n",
       "0             23MA  2023-11-01 2023-11-08       BASKET TASSO ZERO  AMFACTIVEB   \n",
       "1             23NA  2023-12-01 2023-12-06       BASKET TASSO ZERO  AMFACTIVEB   \n",
       "2             23MA  2023-11-01 2023-11-08       BASKET TASSO ZERO  AMFACTIVEP   \n",
       "3             23NA  2023-12-01 2023-12-06       BASKET TASSO ZERO  AMFACTIVEP   \n",
       "4             23NC  2023-12-17 2023-12-24  NATALISSIMI TASSO ZERO    AMFBAND7   \n",
       "\n",
       "   PREZZO_PROMO  PREZZO_LISTINO  STOCK_PZ TIPOLOGIA_PRODOTTO  SCONTO_PERC  \\\n",
       "0        129.99          129.99         0         Principale          0.0   \n",
       "1        129.99          129.99      1111         Principale          0.0   \n",
       "2        129.99          129.99         0        Sostitutivo          0.0   \n",
       "3        129.99          129.99       962        Sostitutivo          0.0   \n",
       "4         44.99           49.99       237         Principale         10.0   \n",
       "\n",
       "                                       PRODUCT_GROUP  \\\n",
       "0  CORE WEARABLES                                ...   \n",
       "1  CORE WEARABLES                                ...   \n",
       "2  CORE WEARABLES                                ...   \n",
       "3  CORE WEARABLES                                ...   \n",
       "4  CORE WEARABLES                                ...   \n",
       "\n",
       "                            BRAND      ITEM_ID    KPI_1     KPI_2     KPI_3  \\\n",
       "0  AMAZFIT                         184518908.0  0.42367  0.000000  0.000000   \n",
       "1  AMAZFIT                         184518908.0  1.00000  0.000000  0.046811   \n",
       "2  AMAZFIT                         184518908.0  0.42367  0.000000  0.000000   \n",
       "3  AMAZFIT                         184518908.0  1.00000  0.000000  0.018919   \n",
       "4  AMAZFIT                         177507779.0  1.00000  0.252783  0.061233   \n",
       "\n",
       "   KPI_4     KPI_5  QTA_storico  FATTURATO_storico  DURATA_VOLANTINO_IN_GIORNI  \n",
       "0    1.0  0.000000            0               0.00                           7  \n",
       "1    1.0  0.756182           15            1593.97                           5  \n",
       "2    1.0  0.000000            0               0.00                           7  \n",
       "3    1.0  0.756182            7             745.84                           5  \n",
       "4    1.0  0.068461           63            2442.52                           7  "
      ]
     },
     "execution_count": 76,
     "metadata": {},
     "output_type": "execute_result"
    }
   ],
   "source": [
    "df1.head()"
   ]
  },
  {
   "cell_type": "code",
   "execution_count": 77,
   "metadata": {},
   "outputs": [
    {
     "data": {
      "text/plain": [
       "array(['CORE WEARABLES                                    ',\n",
       "       'MOBILE COMPUTING                                  ',\n",
       "       'SMARTPHONES                                       ',\n",
       "       'PTV/FLAT                                          ',\n",
       "       'WASHINGMACHINES FREESTANDING                      '], dtype=object)"
      ]
     },
     "execution_count": 77,
     "metadata": {},
     "output_type": "execute_result"
    }
   ],
   "source": [
    "df1['PRODUCT_GROUP'].unique()"
   ]
  },
  {
   "cell_type": "code",
   "execution_count": 78,
   "metadata": {},
   "outputs": [],
   "source": [
    "# DROP THE SPACES AFTER THE PRODUCT GROUP\n",
    "\n",
    "df1.replace('CORE WEARABLES                                    ', 'CORE WEARABLES', inplace=True)\n",
    "df1.replace('MOBILE COMPUTING                                  ', 'MOBILE COMPUTING', inplace=True)\n",
    "df1.replace('SMARTPHONES                                       ', 'SMARTPHONES', inplace=True)\n",
    "df1.replace('PTV/FLAT                                          ', 'PTV/FLAT', inplace=True)\n",
    "df1.replace('WASHINGMACHINES FREESTANDING                      ', 'WASHINGMACHINES FREESTANDING', inplace=True)"
   ]
  },
  {
   "cell_type": "code",
   "execution_count": 79,
   "metadata": {},
   "outputs": [],
   "source": [
    "core_wear = df1[df1['PRODUCT_GROUP']=='CORE WEARABLES']\n",
    "wash = df1[df1['PRODUCT_GROUP']=='WASHINGMACHINES FREESTANDING']\n",
    "pc = df1[df1['PRODUCT_GROUP']=='MOBILE COMPUTING']\n",
    "smartphones = df1[df1['PRODUCT_GROUP']=='SMARTPHONES']\n",
    "tv = df1[df1['PRODUCT_GROUP']=='PTV/FLAT']"
   ]
  },
  {
   "cell_type": "code",
   "execution_count": 80,
   "metadata": {},
   "outputs": [
    {
     "data": {
      "text/plain": [
       "ITEM_ID                 0\n",
       "CARATTERISTICA_01       0\n",
       "CARATTERISTICA_02       0\n",
       "CARATTERISTICA_05      77\n",
       "CARATTERISTICA_04       1\n",
       "CARATTERISTICA_03       1\n",
       "CARATTERISTICA_06     235\n",
       "CARATTERISTICA_07    1561\n",
       "dtype: int64"
      ]
     },
     "execution_count": 80,
     "metadata": {},
     "output_type": "execute_result"
    }
   ],
   "source": [
    "gfk.isnull().sum()"
   ]
  },
  {
   "cell_type": "markdown",
   "metadata": {},
   "source": [
    "## SMARTPHONES"
   ]
  },
  {
   "cell_type": "code",
   "execution_count": 81,
   "metadata": {},
   "outputs": [],
   "source": [
    "smartphones = df1[df1['PRODUCT_GROUP']=='SMARTPHONES']\n",
    "smartphones = pd.merge(smartphones, gfk, on='ITEM_ID', how='left')\n",
    "smartphones['SCONTO_PERC_MEDIO_VOLANTINO'] = smartphones.groupby('CODICE_VOLANTINO')['SCONTO_PERC'].transform('mean')"
   ]
  },
  {
   "cell_type": "markdown",
   "metadata": {},
   "source": [
    "### CAR_01"
   ]
  },
  {
   "cell_type": "code",
   "execution_count": 82,
   "metadata": {},
   "outputs": [
    {
     "data": {
      "text/plain": [
       "array(['DISPLAY SIZE 6.1', 'DISPLAY SIZE 6.7', 'DISPLAY SIZE 6.2', nan,\n",
       "       'DISPLAY SIZE 6.52', 'DISPLAY SIZE 6.6', 'DISPLAY SIZE 6.56',\n",
       "       'DISPLAY SIZE 6.5', 'DISPLAY SIZE 6.59', 'DISPLAY SIZE 6.72',\n",
       "       'DISPLAY SIZE 6.43', 'DISPLAY SIZE 6.74', 'DISPLAY SIZE 6.4',\n",
       "       'DISPLAY SIZE 6.75', 'DISPLAY SIZE 6.79', 'DISPLAY SIZE 6.71',\n",
       "       'DISPLAY SIZE 6.67', 'DISPLAY SIZE 6.28', 'DISPLAY SIZE 6.8'],\n",
       "      dtype=object)"
      ]
     },
     "execution_count": 82,
     "metadata": {},
     "output_type": "execute_result"
    }
   ],
   "source": [
    "smartphones['CARATTERISTICA_01'].unique()"
   ]
  },
  {
   "cell_type": "code",
   "execution_count": 83,
   "metadata": {},
   "outputs": [],
   "source": [
    "smartphones = smartphones[smartphones['CARATTERISTICA_01']!='TYPE GRAPHIC-DEVICE']\n",
    "smartphones = smartphones.rename(columns={'CARATTERISTICA_01': 'DISPLAY_SIZE'})\n",
    "smartphones['DISPLAY_SIZE'] = smartphones['DISPLAY_SIZE'].str.replace('DISPLAY SIZE ', '').astype(float)\n",
    "smartphones['DISPLAY_SIZE'].fillna(smartphones['DISPLAY_SIZE'].value_counts().index[0], inplace=True)"
   ]
  },
  {
   "cell_type": "markdown",
   "metadata": {},
   "source": [
    "### CAR_02"
   ]
  },
  {
   "cell_type": "code",
   "execution_count": 87,
   "metadata": {},
   "outputs": [
    {
     "data": {
      "text/plain": [
       "array(['OPERATOR SIM FREE', nan, 'OPERATOR WINDTRE', 'OPERATOR VODAFONE',\n",
       "       'OPERATOR TIM'], dtype=object)"
      ]
     },
     "execution_count": 87,
     "metadata": {},
     "output_type": "execute_result"
    }
   ],
   "source": [
    "smartphones['CARATTERISTICA_02'].unique()"
   ]
  },
  {
   "cell_type": "code",
   "execution_count": 88,
   "metadata": {},
   "outputs": [],
   "source": [
    "smartphones = smartphones.rename(columns={'CARATTERISTICA_02': 'OPERATOR'})\n",
    "smartphones['OPERATOR'] = smartphones['OPERATOR'].str.replace('OPERATOR ', '').astype(str)\n",
    "smartphones['OPERATOR'].fillna('SIM FREE', inplace=True)"
   ]
  },
  {
   "cell_type": "markdown",
   "metadata": {},
   "source": [
    "### CAR_03"
   ]
  },
  {
   "cell_type": "code",
   "execution_count": 91,
   "metadata": {},
   "outputs": [
    {
     "data": {
      "text/plain": [
       "array(['GENERATION TOTAL* 5.X G', nan, 'GENERATION TOTAL* 4.X G'],\n",
       "      dtype=object)"
      ]
     },
     "execution_count": 91,
     "metadata": {},
     "output_type": "execute_result"
    }
   ],
   "source": [
    "smartphones['CARATTERISTICA_03'].unique()"
   ]
  },
  {
   "cell_type": "markdown",
   "metadata": {},
   "source": [
    "In the train set we had the following problem, while in the test set we did not.\n",
    "\n",
    "There are errors because the values 'CAPACITY' should be in the next column. I then select all the rows that contain the word 'CAPACITY' in the 'CARATTERISTICA_03' column and then:\n",
    "\n",
    "-move the values from the 'CARATTERISTICA_04' column to the 'CARATTERISTICA_05' column\n",
    "\n",
    "-Move the values from the 'CARATTERISTICA_03' column to 'CARATTERISTICA_04' column."
   ]
  },
  {
   "cell_type": "code",
   "execution_count": 92,
   "metadata": {},
   "outputs": [
    {
     "data": {
      "text/plain": [
       "\"\\nsmartphones['CARATTERISTICA_03'] = smartphones['CARATTERISTICA_03'].fillna('')\\nrighe_errate = smartphones[smartphones['CARATTERISTICA_03'].str.contains('CAPACITY')]\\nsmartphones.loc[righe_errate.index, 'CARATTERISTICA_05'] = smartphones.loc[righe_errate.index, 'CARATTERISTICA_04']\\nsmartphones['CARATTERISTICA_04'].replace(r'.*SIM.*', np.nan, regex=True, inplace=True)\\nsmartphones.loc[righe_errate.index, 'CARATTERISTICA_04'] = smartphones.loc[righe_errate.index, 'CARATTERISTICA_03']\\nsmartphones['CARATTERISTICA_03'].replace(r'.*CAPACITY.*', np.nan, regex=True, inplace=True)\\nsmartphones['CARATTERISTICA_03'].replace('', np.nan, inplace=True)\\n\""
      ]
     },
     "execution_count": 92,
     "metadata": {},
     "output_type": "execute_result"
    }
   ],
   "source": [
    "'''\n",
    "smartphones['CARATTERISTICA_03'] = smartphones['CARATTERISTICA_03'].fillna('')\n",
    "righe_errate = smartphones[smartphones['CARATTERISTICA_03'].str.contains('CAPACITY')]\n",
    "smartphones.loc[righe_errate.index, 'CARATTERISTICA_05'] = smartphones.loc[righe_errate.index, 'CARATTERISTICA_04']\n",
    "smartphones['CARATTERISTICA_04'].replace(r'.*SIM.*', np.nan, regex=True, inplace=True)\n",
    "smartphones.loc[righe_errate.index, 'CARATTERISTICA_04'] = smartphones.loc[righe_errate.index, 'CARATTERISTICA_03']\n",
    "smartphones['CARATTERISTICA_03'].replace(r'.*CAPACITY.*', np.nan, regex=True, inplace=True)\n",
    "smartphones['CARATTERISTICA_03'].replace('', np.nan, inplace=True)\n",
    "'''"
   ]
  },
  {
   "cell_type": "code",
   "execution_count": 93,
   "metadata": {},
   "outputs": [],
   "source": [
    "smartphones = smartphones.rename(columns={'CARATTERISTICA_03': 'GENERATION'})"
   ]
  },
  {
   "cell_type": "code",
   "execution_count": 94,
   "metadata": {},
   "outputs": [],
   "source": [
    "# WE DEFINED A FUNCTION TO EXTRACT ONLY THE NUMBER (EX. 'GENERATION TOTAL* 4.X G' --> 4)\n",
    "\n",
    "import re\n",
    "\n",
    "def estrai_numero(testo):\n",
    "    if isinstance(testo, str): \n",
    "        match = re.search(r'\\d+\\.*\\d*', testo)\n",
    "        if match:\n",
    "            return float(match.group())\n",
    "    return np.nan  \n",
    "\n",
    "smartphones['GENERATION'] = smartphones['GENERATION'].apply(estrai_numero)\n"
   ]
  },
  {
   "cell_type": "code",
   "execution_count": 95,
   "metadata": {},
   "outputs": [],
   "source": [
    "smartphones['GENERATION'].fillna(smartphones['GENERATION'].value_counts().index[0], inplace=True)\n"
   ]
  },
  {
   "cell_type": "markdown",
   "metadata": {},
   "source": [
    "### CAR_04"
   ]
  },
  {
   "cell_type": "code",
   "execution_count": 96,
   "metadata": {},
   "outputs": [
    {
     "data": {
      "text/plain": [
       "array(['CAPACITY 2815', 'CAPACITY 3240', 'CAPACITY 3279', 'CAPACITY 4323',\n",
       "       'CAPACITY 3349', 'CAPACITY 4422', 'CAPACITY 3274', 'CAPACITY 4385',\n",
       "       'CAPACITY 4575', 'CAPACITY 5050', nan, 'CAPACITY 5000',\n",
       "       'CAPACITY 4500', 'CAPACITY 5200', 'CAPACITY 3700', 'CAPACITY 3900',\n",
       "       'CAPACITY 4700', 'CAPACITY 5010', 'CAPACITY 4300', 'CAPACITY 4820',\n",
       "       'CAPACITY 3110', 'CAPACITY 4020'], dtype=object)"
      ]
     },
     "execution_count": 96,
     "metadata": {},
     "output_type": "execute_result"
    }
   ],
   "source": [
    "smartphones['CARATTERISTICA_04'].unique()"
   ]
  },
  {
   "cell_type": "code",
   "execution_count": 97,
   "metadata": {},
   "outputs": [],
   "source": [
    "smartphones = smartphones.rename(columns={'CARATTERISTICA_04': 'CAPACITY'})\n",
    "smartphones['CAPACITY'] = smartphones['CAPACITY'].str.replace('CAPACITY ', '').astype(float)\n",
    "smartphones['CAPACITY'].fillna(smartphones['CAPACITY'].value_counts().index[0], inplace=True)"
   ]
  },
  {
   "cell_type": "markdown",
   "metadata": {},
   "source": [
    "### CAR_05"
   ]
  },
  {
   "cell_type": "code",
   "execution_count": 100,
   "metadata": {},
   "outputs": [
    {
     "data": {
      "text/plain": [
       "array(['SIM CARD 1SIM SLOT +ESIM', nan, 'SIM CARD 2SIM SLOTS',\n",
       "       'SIM CARD 2SIM SLOTS+ESIM'], dtype=object)"
      ]
     },
     "execution_count": 100,
     "metadata": {},
     "output_type": "execute_result"
    }
   ],
   "source": [
    "smartphones['CARATTERISTICA_05'].unique()"
   ]
  },
  {
   "cell_type": "code",
   "execution_count": 101,
   "metadata": {},
   "outputs": [],
   "source": [
    "smartphones = smartphones.rename(columns={'CARATTERISTICA_05': 'NUMBER_OF_SIM'})\n",
    "smartphones['NUMBER_OF_SIM'].replace('SIM CARD 1SIM SLOT +ESIM', 2, inplace=True)\n",
    "smartphones['NUMBER_OF_SIM'].replace('SIM CARD 2SIM SLOTS', 2, inplace=True)\n",
    "smartphones['NUMBER_OF_SIM'].replace('SIM CARD 2SIM SLOTS+ESIM', 3, inplace=True)\n",
    "smartphones['NUMBER_OF_SIM'].fillna(smartphones['NUMBER_OF_SIM'].value_counts().index[0], inplace=True)"
   ]
  },
  {
   "cell_type": "markdown",
   "metadata": {},
   "source": [
    "### CAR_06"
   ]
  },
  {
   "cell_type": "code",
   "execution_count": 104,
   "metadata": {},
   "outputs": [
    {
     "data": {
      "text/plain": [
       "array(['OPERATING SYST. IOS', 'OPERATING SYST. ANDROID', nan],\n",
       "      dtype=object)"
      ]
     },
     "execution_count": 104,
     "metadata": {},
     "output_type": "execute_result"
    }
   ],
   "source": [
    "smartphones['CARATTERISTICA_06'].unique()"
   ]
  },
  {
   "cell_type": "code",
   "execution_count": 105,
   "metadata": {},
   "outputs": [],
   "source": [
    "smartphones = smartphones.rename(columns={'CARATTERISTICA_06': 'OPERATING_SYST'})\n",
    "smartphones['OPERATING_SYST'] = smartphones['OPERATING_SYST'].str.replace('OPERATING SYST. ', '')\n",
    "\n",
    "def sostituisci_nan(row):\n",
    "    if pd.isnull(row['OPERATING_SYST']):  \n",
    "        if row['ART_COD'].startswith('APL'):  \n",
    "            return 'IOS'\n",
    "        else:\n",
    "            return 'ANDROID'\n",
    "    else:\n",
    "        return row['OPERATING_SYST']  \n",
    "\n",
    "\n",
    "smartphones['OPERATING_SYST'] = smartphones.apply(sostituisci_nan, axis=1)"
   ]
  },
  {
   "cell_type": "markdown",
   "metadata": {},
   "source": [
    "### CAR_07"
   ]
  },
  {
   "cell_type": "code",
   "execution_count": 108,
   "metadata": {},
   "outputs": [],
   "source": [
    "smartphones.drop('CARATTERISTICA_07', axis=1, inplace = True)"
   ]
  },
  {
   "cell_type": "markdown",
   "metadata": {},
   "source": [
    "## CORE WEAR"
   ]
  },
  {
   "cell_type": "code",
   "execution_count": 109,
   "metadata": {},
   "outputs": [],
   "source": [
    "core_wear = df1[df1['PRODUCT_GROUP']=='CORE WEARABLES']\n",
    "core_wear = pd.merge(core_wear, gfk, on='ITEM_ID', how='left')\n",
    "core_wear['SCONTO_PERC_MEDIO_VOLANTINO'] = core_wear.groupby('CODICE_VOLANTINO')['SCONTO_PERC'].transform('mean')"
   ]
  },
  {
   "cell_type": "markdown",
   "metadata": {},
   "source": [
    "### CAR_01"
   ]
  },
  {
   "cell_type": "code",
   "execution_count": 110,
   "metadata": {},
   "outputs": [
    {
     "data": {
      "text/plain": [
       "array([nan, 'CATEGORY SMARTWATCHES NO SIM',\n",
       "       'CATEGORY WRIST SPORT COMPUTER', 'CATEGORY SMARTWATCHES SIM',\n",
       "       'CATEGORY HEALTH AND FITNESS TRACKER'], dtype=object)"
      ]
     },
     "execution_count": 110,
     "metadata": {},
     "output_type": "execute_result"
    }
   ],
   "source": [
    "core_wear['CARATTERISTICA_01'].unique()"
   ]
  },
  {
   "cell_type": "code",
   "execution_count": 111,
   "metadata": {},
   "outputs": [],
   "source": [
    "core_wear = core_wear.rename(columns={'CARATTERISTICA_01': 'CATEGORY'})\n",
    "core_wear['CATEGORY'] = core_wear['CATEGORY'].str.replace('CATEGORY ', '')\n",
    "core_wear['CATEGORY'].replace(np.nan, 'NOT DEFINED', inplace=True)"
   ]
  },
  {
   "cell_type": "markdown",
   "metadata": {},
   "source": [
    "### CAR_02"
   ]
  },
  {
   "cell_type": "code",
   "execution_count": 114,
   "metadata": {},
   "outputs": [
    {
     "data": {
      "text/plain": [
       "array([nan, 'DISPLAY TECHNOL OLED-DISPLAY', 'DISPLAY TECHNOL LCD-DISPLAY'],\n",
       "      dtype=object)"
      ]
     },
     "execution_count": 114,
     "metadata": {},
     "output_type": "execute_result"
    }
   ],
   "source": [
    "core_wear['CARATTERISTICA_02'].unique()"
   ]
  },
  {
   "cell_type": "code",
   "execution_count": 115,
   "metadata": {},
   "outputs": [],
   "source": [
    "core_wear = core_wear.rename(columns={'CARATTERISTICA_02': 'DISPLAY_QUALITY'})\n",
    "core_wear['DISPLAY_QUALITY'] = core_wear['DISPLAY_QUALITY'].str.replace('DISPLAY TECHNOL ', '')\n",
    "core_wear['DISPLAY_QUALITY'].replace(np.nan, 'NOT DEFINED', inplace=True)"
   ]
  },
  {
   "cell_type": "markdown",
   "metadata": {},
   "source": [
    "### CAR_03"
   ]
  },
  {
   "cell_type": "code",
   "execution_count": 118,
   "metadata": {},
   "outputs": [
    {
     "data": {
      "text/plain": [
       "array([nan, 'DISPLAY SIZE 1.47', 'DISPLAY SIZE 1.69', 'DISPLAY SIZE 1.91',\n",
       "       'DISPLAY SIZE 1.45', 'DISPLAY SIZE 1.28', 'DISPLAY SIZE 1.55',\n",
       "       'DISPLAY SIZE 1.75', 'DISPLAY SIZE 1.65', 'DISPLAY SIZE 1.9',\n",
       "       'DISPLAY SIZE UNKNOWN', 'DISPLAY SIZE 1.57', 'DISPLAY SIZE 1.78',\n",
       "       'DISPLAY SIZE 1.58', 'DISPLAY SIZE 1.3', 'DISPLAY SIZE 1.04',\n",
       "       'DISPLAY SIZE 1.41', 'DISPLAY SIZE 1.2', 'DISPLAY SIZE 1.83',\n",
       "       'DISPLAY SIZE 1.4', 'DISPLAY SIZE 1.5', 'DISPLAY SIZE 1.62',\n",
       "       'DISPLAY SIZE 1.39', 'DISPLAY SIZE 1.43', 'DISPLAY SIZE 0.9'],\n",
       "      dtype=object)"
      ]
     },
     "execution_count": 118,
     "metadata": {},
     "output_type": "execute_result"
    }
   ],
   "source": [
    "core_wear['CARATTERISTICA_03'].unique()"
   ]
  },
  {
   "cell_type": "code",
   "execution_count": 119,
   "metadata": {},
   "outputs": [],
   "source": [
    "core_wear = core_wear.rename(columns={'CARATTERISTICA_03': 'DISPLAY_SIZE'})\n",
    "core_wear['DISPLAY_SIZE'].replace('DISPLAY SIZE UNKNOWN', np.nan, inplace=True)\n",
    "core_wear['DISPLAY_SIZE'] = core_wear['DISPLAY_SIZE'].str.replace('DISPLAY SIZE ', '').astype(float)\n",
    "core_wear['DISPLAY_SIZE'].fillna(core_wear['DISPLAY_SIZE'].value_counts().index[0], inplace=True)"
   ]
  },
  {
   "cell_type": "markdown",
   "metadata": {},
   "source": [
    "### CAR_04"
   ]
  },
  {
   "cell_type": "code",
   "execution_count": 123,
   "metadata": {},
   "outputs": [
    {
     "data": {
      "text/plain": [
       "array([nan, 'WIFI NO', 'WIFI YES'], dtype=object)"
      ]
     },
     "execution_count": 123,
     "metadata": {},
     "output_type": "execute_result"
    }
   ],
   "source": [
    "core_wear['CARATTERISTICA_04'].unique()"
   ]
  },
  {
   "cell_type": "code",
   "execution_count": 124,
   "metadata": {},
   "outputs": [],
   "source": [
    "core_wear = core_wear.rename(columns={'CARATTERISTICA_04': 'WIFI'})\n",
    "core_wear['WIFI'].replace(np.nan, 0, inplace=True)\n",
    "core_wear['WIFI'].replace('WIFI NO', 0, inplace=True)\n",
    "core_wear['WIFI'].replace('WIFI YES', 1, inplace=True)"
   ]
  },
  {
   "cell_type": "markdown",
   "metadata": {},
   "source": [
    "### CAR_05"
   ]
  },
  {
   "cell_type": "code",
   "execution_count": 126,
   "metadata": {},
   "outputs": [
    {
     "data": {
      "text/plain": [
       "array([nan, 'BLUETOOTH WITH BLUETOOTH'], dtype=object)"
      ]
     },
     "execution_count": 126,
     "metadata": {},
     "output_type": "execute_result"
    }
   ],
   "source": [
    "core_wear['CARATTERISTICA_05'].unique()"
   ]
  },
  {
   "cell_type": "code",
   "execution_count": 127,
   "metadata": {},
   "outputs": [],
   "source": [
    "core_wear = core_wear.rename(columns={'CARATTERISTICA_05': 'BLUETOOTH'})\n",
    "core_wear['BLUETOOTH'].replace(np.nan, 0, inplace=True)\n",
    "core_wear['BLUETOOTH'].replace('BLUETOOTH WITH BLUETOOTH', 1, inplace=True)"
   ]
  },
  {
   "cell_type": "markdown",
   "metadata": {},
   "source": [
    "### CAR_06 & CAR_07"
   ]
  },
  {
   "cell_type": "code",
   "execution_count": 129,
   "metadata": {},
   "outputs": [],
   "source": [
    "core_wear.drop(['CARATTERISTICA_06', 'CARATTERISTICA_07'], axis=1, inplace=True)"
   ]
  },
  {
   "cell_type": "markdown",
   "metadata": {},
   "source": [
    "## WASH"
   ]
  },
  {
   "cell_type": "code",
   "execution_count": 130,
   "metadata": {},
   "outputs": [],
   "source": [
    "wash = df1[df1['PRODUCT_GROUP']=='WASHINGMACHINES FREESTANDING']\n",
    "wash = pd.merge(wash, gfk, on='ITEM_ID', how='left')\n",
    "wash['SCONTO_PERC_MEDIO_VOLANTINO'] = wash.groupby('CODICE_VOLANTINO')['SCONTO_PERC'].transform('mean')"
   ]
  },
  {
   "cell_type": "markdown",
   "metadata": {},
   "source": [
    "### CAR_01"
   ]
  },
  {
   "cell_type": "code",
   "execution_count": 131,
   "metadata": {},
   "outputs": [
    {
     "data": {
      "text/plain": [
       "array(['MAIN TYPES FULLAUTOMATIC', 'MAIN TYPES WASHDRYER', nan],\n",
       "      dtype=object)"
      ]
     },
     "execution_count": 131,
     "metadata": {},
     "output_type": "execute_result"
    }
   ],
   "source": [
    "wash['CARATTERISTICA_01'].unique()"
   ]
  },
  {
   "cell_type": "code",
   "execution_count": 133,
   "metadata": {},
   "outputs": [],
   "source": [
    "wash = wash.rename(columns={'CARATTERISTICA_01': 'TYPE'})\n",
    "wash['TYPE'].replace('MAIN TYPES FULLAUTOMATIC', 1, inplace=True)\n",
    "wash['TYPE'].replace('MAIN TYPES WASHDRYER', 0, inplace=True)\n",
    "wash['TYPE'].fillna(wash['TYPE'].value_counts().index[0], inplace=True)"
   ]
  },
  {
   "cell_type": "markdown",
   "metadata": {},
   "source": [
    "### CAR_02"
   ]
  },
  {
   "cell_type": "code",
   "execution_count": 135,
   "metadata": {},
   "outputs": [
    {
     "data": {
      "text/plain": [
       "array(['LOADING FRONTLOADING', 'LOADING TOPLOADING', nan], dtype=object)"
      ]
     },
     "execution_count": 135,
     "metadata": {},
     "output_type": "execute_result"
    }
   ],
   "source": [
    "wash['CARATTERISTICA_02'].unique()"
   ]
  },
  {
   "cell_type": "code",
   "execution_count": 136,
   "metadata": {},
   "outputs": [],
   "source": [
    "wash = wash.rename(columns={'CARATTERISTICA_02': 'TOPLOADING'})\n",
    "wash['TOPLOADING'].replace('LOADING TOPLOADING', 1, inplace=True)\n",
    "wash['TOPLOADING'].replace('LOADING FRONTLOADING', 0, inplace=True)\n",
    "wash['TOPLOADING'].fillna(wash['TOPLOADING'].value_counts().index[0], inplace=True)"
   ]
  },
  {
   "cell_type": "markdown",
   "metadata": {},
   "source": [
    "### CAR_03"
   ]
  },
  {
   "cell_type": "code",
   "execution_count": 138,
   "metadata": {},
   "outputs": [
    {
     "data": {
      "text/plain": [
       "array(['DEPTH IN CM STANDARD > 48 CM', 'DEPTH IN CM SLIM <= 48 CM', nan],\n",
       "      dtype=object)"
      ]
     },
     "execution_count": 138,
     "metadata": {},
     "output_type": "execute_result"
    }
   ],
   "source": [
    "wash['CARATTERISTICA_03'].unique()"
   ]
  },
  {
   "cell_type": "code",
   "execution_count": 139,
   "metadata": {},
   "outputs": [],
   "source": [
    "wash = wash.rename(columns={'CARATTERISTICA_03': 'DEPTH_CM>48'})\n",
    "wash['DEPTH_CM>48'].replace('DEPTH IN CM STANDARD > 48 CM', 1, inplace=True)\n",
    "wash['DEPTH_CM>48'].replace('DEPTH IN CM SLIM <= 48 CM', 0, inplace=True)\n",
    "wash['DEPTH_CM>48'].fillna(wash['DEPTH_CM>48'].value_counts().index[0], inplace=True)\n"
   ]
  },
  {
   "cell_type": "markdown",
   "metadata": {},
   "source": [
    "### CAR_04"
   ]
  },
  {
   "cell_type": "code",
   "execution_count": 141,
   "metadata": {},
   "outputs": [
    {
     "data": {
      "text/plain": [
       "array(['21EN.EFF.CLASS A', '21EN.EFF.CLASS B', '21EN.EFF.CLASS C', nan,\n",
       "       '21EN.EFF.CLASS D'], dtype=object)"
      ]
     },
     "execution_count": 141,
     "metadata": {},
     "output_type": "execute_result"
    }
   ],
   "source": [
    "wash['CARATTERISTICA_04'].unique()"
   ]
  },
  {
   "cell_type": "code",
   "execution_count": 142,
   "metadata": {},
   "outputs": [],
   "source": [
    "wash = wash.rename(columns={'CARATTERISTICA_04': 'ENERGY_CLASS'})"
   ]
  },
  {
   "cell_type": "code",
   "execution_count": 145,
   "metadata": {},
   "outputs": [],
   "source": [
    "wash['ENERGY_CLASS'].replace('21EN.EFF.CLASS D', 3, inplace=True)\n",
    "wash['ENERGY_CLASS'].replace('21EN.EFF.CLASS C', 4, inplace=True)\n",
    "wash['ENERGY_CLASS'].replace('21EN.EFF.CLASS B', 5, inplace=True)\n",
    "wash['ENERGY_CLASS'].replace('21EN.EFF.CLASS A', 6, inplace=True)\n",
    "wash['ENERGY_CLASS'].fillna(wash['ENERGY_CLASS'].value_counts().index[0], inplace=True)"
   ]
  },
  {
   "cell_type": "markdown",
   "metadata": {},
   "source": [
    "### CAR_05"
   ]
  },
  {
   "cell_type": "code",
   "execution_count": 147,
   "metadata": {},
   "outputs": [
    {
     "data": {
      "text/plain": [
       "array(['LOADING KG 8', 'LOADING KG 9', 'LOADING KG 7', 'LOADING KG 6',\n",
       "       nan, 'LOADING KG 12', 'LOADING KG 10', 'LOADING KG 11'],\n",
       "      dtype=object)"
      ]
     },
     "execution_count": 147,
     "metadata": {},
     "output_type": "execute_result"
    }
   ],
   "source": [
    "wash['CARATTERISTICA_05'].unique()"
   ]
  },
  {
   "cell_type": "code",
   "execution_count": 148,
   "metadata": {},
   "outputs": [],
   "source": [
    "wash = wash.rename(columns={'CARATTERISTICA_05': 'LOADING_KG'})\n",
    "wash['LOADING_KG'] = wash['LOADING_KG'].str.replace('LOADING KG ', '').astype(float)\n",
    "wash['LOADING_KG'].fillna(wash['LOADING_KG'].value_counts().index[0], inplace=True)"
   ]
  },
  {
   "cell_type": "markdown",
   "metadata": {},
   "source": [
    "### CAR_06"
   ]
  },
  {
   "cell_type": "code",
   "execution_count": 151,
   "metadata": {},
   "outputs": [
    {
     "data": {
      "text/plain": [
       "array(['SMART CONNECT NO', nan, 'SMART CONNECT SMART CONNECT'],\n",
       "      dtype=object)"
      ]
     },
     "execution_count": 151,
     "metadata": {},
     "output_type": "execute_result"
    }
   ],
   "source": [
    "wash['CARATTERISTICA_06'].unique()"
   ]
  },
  {
   "cell_type": "code",
   "execution_count": 152,
   "metadata": {},
   "outputs": [],
   "source": [
    "wash = wash.rename(columns={'CARATTERISTICA_06': 'SMART_CONNECT'})\n",
    "wash['SMART_CONNECT'].replace(np.nan, 0, inplace=True)\n",
    "wash['SMART_CONNECT'].replace('SMART CONNECT NO', 0, inplace=True)\n",
    "wash['SMART_CONNECT'].replace('SMART CONNECT SMART CONNECT', 1, inplace=True)"
   ]
  },
  {
   "cell_type": "markdown",
   "metadata": {},
   "source": [
    "### CAR_07"
   ]
  },
  {
   "cell_type": "code",
   "execution_count": 154,
   "metadata": {},
   "outputs": [],
   "source": [
    "wash.drop('CARATTERISTICA_07', axis=1, inplace=True)"
   ]
  },
  {
   "cell_type": "markdown",
   "metadata": {},
   "source": [
    "## PC"
   ]
  },
  {
   "cell_type": "code",
   "execution_count": 155,
   "metadata": {},
   "outputs": [],
   "source": [
    "pc = df1[df1['PRODUCT_GROUP']=='MOBILE COMPUTING']\n",
    "pc = pd.merge(pc, gfk, on='ITEM_ID', how='left')\n",
    "pc['SCONTO_PERC_MEDIO_VOLANTINO'] = pc.groupby('CODICE_VOLANTINO')['SCONTO_PERC'].transform('mean')\n"
   ]
  },
  {
   "cell_type": "markdown",
   "metadata": {},
   "source": [
    "### CAR_01"
   ]
  },
  {
   "cell_type": "code",
   "execution_count": 156,
   "metadata": {},
   "outputs": [
    {
     "data": {
      "text/plain": [
       "array(['GPU MODEL RAD 610M', nan, 'GPU MODEL UHD GRAPH. 600',\n",
       "       'GPU MODEL RAD', 'GPU MODEL APPLE 8CORE GPU',\n",
       "       'GPU MODEL APPLE 10COREGPU', 'GPU MODEL INTEL IRIS XE',\n",
       "       'GPU MODEL INTEL UHD GPU', 'GPU MODEL GEF RTX3050',\n",
       "       'GPU MODEL GEF RTX3050 TI', 'GPU MODEL MALI-G52 2EE MC',\n",
       "       'GPU MODEL GEF RTX4050', 'GPU MODEL GEF RTX4060',\n",
       "       'GPU MODEL APPLE 7CORE GPU'], dtype=object)"
      ]
     },
     "execution_count": 156,
     "metadata": {},
     "output_type": "execute_result"
    }
   ],
   "source": [
    "pc['CARATTERISTICA_01'].unique()"
   ]
  },
  {
   "cell_type": "code",
   "execution_count": 159,
   "metadata": {},
   "outputs": [],
   "source": [
    "pc['CARATTERISTICA_01'] = pc['CARATTERISTICA_01'].str.replace('GPU MODEL ', '')"
   ]
  },
  {
   "cell_type": "code",
   "execution_count": 160,
   "metadata": {},
   "outputs": [],
   "source": [
    "pc['CARATTERISTICA_01'].fillna('NOT DEFINED', inplace=True)"
   ]
  },
  {
   "cell_type": "markdown",
   "metadata": {},
   "source": [
    "INTEL produce: UHD, HD, IRIS, MALI-G72, ADRENO506\n",
    "\n",
    "With the following loop, we add the word 'INTEL' before the gpu model produced by them\n"
   ]
  },
  {
   "cell_type": "code",
   "execution_count": 161,
   "metadata": {},
   "outputs": [],
   "source": [
    "for i in range(pc.shape[0]):\n",
    "    if 'UHD' in pc.iloc[i, 21] and 'INTEL' not in pc.iloc[i, 21]:\n",
    "        pc.iloc[i, 21] = 'INTEL'+' '+pc.iloc[i, 21]\n",
    "    elif 'HD' in pc.iloc[i, 21] and 'INTEL' not in pc.iloc[i, 21]:\n",
    "        pc.iloc[i, 21] = 'INTEL'+' '+pc.iloc[i, 21]\n",
    "    elif 'IRIS' in pc.iloc[i, 21] and 'INTEL' not in pc.iloc[i, 21]:\n",
    "        pc.iloc[i, 21] = 'INTEL'+' '+pc.iloc[i, 21]\n",
    "    elif 'MALI' in pc.iloc[i, 21] and 'INTEL' not in pc.iloc[i, 21]:\n",
    "        pc.iloc[i, 21] = 'INTEL'+' '+pc.iloc[i, 21]\n",
    "    elif 'ADRENO506' in pc.iloc[i, 21] and 'INTEL' not in pc.iloc[i, 21]:\n",
    "        pc.iloc[i, 21] = 'INTEL'+' '+pc.iloc[i, 21]"
   ]
  },
  {
   "cell_type": "code",
   "execution_count": 162,
   "metadata": {},
   "outputs": [],
   "source": [
    "pc = pc.rename(columns={'CARATTERISTICA_01': 'GPU_MODEL'})"
   ]
  },
  {
   "cell_type": "code",
   "execution_count": 163,
   "metadata": {},
   "outputs": [
    {
     "data": {
      "text/plain": [
       "GPU_MODEL\n",
       "INTEL IRIS XE            26\n",
       "NOT DEFINED              23\n",
       "APPLE 8CORE GPU          15\n",
       "INTEL UHD GPU            12\n",
       "RAD                      10\n",
       "APPLE 7CORE GPU           8\n",
       "APPLE 10COREGPU           6\n",
       "GEF RTX4060               5\n",
       "RAD 610M                  4\n",
       "INTEL UHD GRAPH. 600      4\n",
       "GEF RTX3050               4\n",
       "GEF RTX3050 TI            1\n",
       "INTEL MALI-G52 2EE MC     1\n",
       "GEF RTX4050               1\n",
       "Name: count, dtype: int64"
      ]
     },
     "execution_count": 163,
     "metadata": {},
     "output_type": "execute_result"
    }
   ],
   "source": [
    "pc['GPU_MODEL'].value_counts()"
   ]
  },
  {
   "cell_type": "code",
   "execution_count": 164,
   "metadata": {},
   "outputs": [
    {
     "data": {
      "text/plain": [
       "array(['RAD 610M', 'NOT DEFINED', 'INTEL UHD GRAPH. 600', 'RAD',\n",
       "       'APPLE 8CORE GPU', 'APPLE 10COREGPU', 'INTEL IRIS XE',\n",
       "       'INTEL UHD GPU', 'GEF RTX3050', 'GEF RTX3050 TI',\n",
       "       'INTEL MALI-G52 2EE MC', 'GEF RTX4050', 'GEF RTX4060',\n",
       "       'APPLE 7CORE GPU'], dtype=object)"
      ]
     },
     "execution_count": 164,
     "metadata": {},
     "output_type": "execute_result"
    }
   ],
   "source": [
    "pc['GPU_MODEL'].unique()"
   ]
  },
  {
   "cell_type": "code",
   "execution_count": 165,
   "metadata": {},
   "outputs": [],
   "source": [
    "# WITH THIS LOOP, WE CREATE NEW COLUMNS IN ORDER TO ENCODE THE GPU MODELS BASED ON THEIR VERSION\n",
    "\n",
    "INTEL = []\n",
    "APPLE = []\n",
    "RAD = []\n",
    "GEF = [] \n",
    "NOT_DEFINED = []\n",
    "\n",
    "for i in range(pc.shape[0]):\n",
    "    if 'NOT DEFINED' == pc.iloc[i, 21]:\n",
    "        NOT_DEFINED.append(1)\n",
    "        INTEL.append(0)\n",
    "        APPLE.append(0)\n",
    "        RAD.append(0)\n",
    "        GEF.append(0)\n",
    "    elif 'INTEL' in pc.iloc[i, 21]:\n",
    "        NOT_DEFINED.append(0)\n",
    "        INTEL.append(1)\n",
    "        APPLE.append(0)\n",
    "        RAD.append(0)\n",
    "        GEF.append(0)\n",
    "    elif 'APPLE' in pc.iloc[i, 21]:\n",
    "        NOT_DEFINED.append(0)\n",
    "        INTEL.append(0)\n",
    "        APPLE.append(1)\n",
    "        RAD.append(0)\n",
    "        GEF.append(0)\n",
    "    elif 'RAD' in pc.iloc[i, 21]:\n",
    "        NOT_DEFINED.append(0)\n",
    "        INTEL.append(0)\n",
    "        APPLE.append(0)\n",
    "        RAD.append(1)\n",
    "        GEF.append(0)\n",
    "    elif 'GEF' in pc.iloc[i, 21]:\n",
    "        NOT_DEFINED.append(0)\n",
    "        INTEL.append(0)\n",
    "        APPLE.append(0)\n",
    "        RAD.append(0)\n",
    "        GEF.append(1)\n",
    "\n",
    "pc['VERSION_NOT_DEFINED'] = NOT_DEFINED\n",
    "pc['VERSION_INTEL'] = INTEL\n",
    "pc['VERSION_APPLE'] = APPLE\n",
    "pc['VERSION_RAD'] = RAD\n",
    "pc['VERSION_GEF'] = GEF"
   ]
  },
  {
   "cell_type": "code",
   "execution_count": 166,
   "metadata": {},
   "outputs": [
    {
     "data": {
      "text/html": [
       "<div>\n",
       "<style scoped>\n",
       "    .dataframe tbody tr th:only-of-type {\n",
       "        vertical-align: middle;\n",
       "    }\n",
       "\n",
       "    .dataframe tbody tr th {\n",
       "        vertical-align: top;\n",
       "    }\n",
       "\n",
       "    .dataframe thead th {\n",
       "        text-align: right;\n",
       "    }\n",
       "</style>\n",
       "<table border=\"1\" class=\"dataframe\">\n",
       "  <thead>\n",
       "    <tr style=\"text-align: right;\">\n",
       "      <th></th>\n",
       "      <th>CODICE_VOLANTINO</th>\n",
       "      <th>DATA_INIZIO</th>\n",
       "      <th>DATA_FINE</th>\n",
       "      <th>NOME_CAMPAGNA</th>\n",
       "      <th>ART_COD</th>\n",
       "      <th>PREZZO_PROMO</th>\n",
       "      <th>PREZZO_LISTINO</th>\n",
       "      <th>STOCK_PZ</th>\n",
       "      <th>TIPOLOGIA_PRODOTTO</th>\n",
       "      <th>SCONTO_PERC</th>\n",
       "      <th>PRODUCT_GROUP</th>\n",
       "      <th>BRAND</th>\n",
       "      <th>ITEM_ID</th>\n",
       "      <th>KPI_1</th>\n",
       "      <th>KPI_2</th>\n",
       "      <th>KPI_3</th>\n",
       "      <th>KPI_4</th>\n",
       "      <th>KPI_5</th>\n",
       "      <th>QTA_storico</th>\n",
       "      <th>FATTURATO_storico</th>\n",
       "      <th>DURATA_VOLANTINO_IN_GIORNI</th>\n",
       "      <th>GPU_MODEL</th>\n",
       "      <th>CARATTERISTICA_02</th>\n",
       "      <th>CARATTERISTICA_05</th>\n",
       "      <th>CARATTERISTICA_04</th>\n",
       "      <th>CARATTERISTICA_03</th>\n",
       "      <th>CARATTERISTICA_06</th>\n",
       "      <th>CARATTERISTICA_07</th>\n",
       "      <th>SCONTO_PERC_MEDIO_VOLANTINO</th>\n",
       "      <th>VERSION_NOT_DEFINED</th>\n",
       "      <th>VERSION_INTEL</th>\n",
       "      <th>VERSION_APPLE</th>\n",
       "      <th>VERSION_RAD</th>\n",
       "      <th>VERSION_GEF</th>\n",
       "    </tr>\n",
       "  </thead>\n",
       "  <tbody>\n",
       "    <tr>\n",
       "      <th>0</th>\n",
       "      <td>23MB</td>\n",
       "      <td>2023-11-09</td>\n",
       "      <td>2023-11-15</td>\n",
       "      <td>BLACK FRIDAY 1</td>\n",
       "      <td>ACEA31524PR2KM</td>\n",
       "      <td>449.9</td>\n",
       "      <td>649.9</td>\n",
       "      <td>1112</td>\n",
       "      <td>Principale</td>\n",
       "      <td>30.77</td>\n",
       "      <td>MOBILE COMPUTING</td>\n",
       "      <td>ACER</td>\n",
       "      <td>180577047.0</td>\n",
       "      <td>0.960614</td>\n",
       "      <td>0.698699</td>\n",
       "      <td>0.658007</td>\n",
       "      <td>1.000000</td>\n",
       "      <td>1.000000</td>\n",
       "      <td>791</td>\n",
       "      <td>297913.02</td>\n",
       "      <td>6</td>\n",
       "      <td>RAD 610M</td>\n",
       "      <td>PROCESSOR RYZEN 5</td>\n",
       "      <td>OS VERSION WIN11 HOME</td>\n",
       "      <td>STORAGE IN GB 512</td>\n",
       "      <td>RAM IN GB 8</td>\n",
       "      <td>DISPLAY SIZE 15.6</td>\n",
       "      <td>CONVERTIBLE NO</td>\n",
       "      <td>29.019286</td>\n",
       "      <td>0</td>\n",
       "      <td>0</td>\n",
       "      <td>0</td>\n",
       "      <td>1</td>\n",
       "      <td>0</td>\n",
       "    </tr>\n",
       "    <tr>\n",
       "      <th>1</th>\n",
       "      <td>23NB</td>\n",
       "      <td>2023-12-07</td>\n",
       "      <td>2023-12-16</td>\n",
       "      <td>SOTTOCOSTO TASSO ZERO</td>\n",
       "      <td>ACEA5155758Y8</td>\n",
       "      <td>549.0</td>\n",
       "      <td>699.9</td>\n",
       "      <td>220</td>\n",
       "      <td>Principale</td>\n",
       "      <td>21.56</td>\n",
       "      <td>MOBILE COMPUTING</td>\n",
       "      <td>ACER</td>\n",
       "      <td>185137535.0</td>\n",
       "      <td>1.000000</td>\n",
       "      <td>0.000000</td>\n",
       "      <td>0.000000</td>\n",
       "      <td>0.000000</td>\n",
       "      <td>0.000000</td>\n",
       "      <td>0</td>\n",
       "      <td>0.00</td>\n",
       "      <td>9</td>\n",
       "      <td>NOT DEFINED</td>\n",
       "      <td>NaN</td>\n",
       "      <td>NaN</td>\n",
       "      <td>NaN</td>\n",
       "      <td>NaN</td>\n",
       "      <td>NaN</td>\n",
       "      <td>NaN</td>\n",
       "      <td>27.256923</td>\n",
       "      <td>1</td>\n",
       "      <td>0</td>\n",
       "      <td>0</td>\n",
       "      <td>0</td>\n",
       "      <td>0</td>\n",
       "    </tr>\n",
       "    <tr>\n",
       "      <th>2</th>\n",
       "      <td>23NA</td>\n",
       "      <td>2023-12-01</td>\n",
       "      <td>2023-12-06</td>\n",
       "      <td>BASKET TASSO ZERO</td>\n",
       "      <td>ACEA5155758Y8</td>\n",
       "      <td>599.0</td>\n",
       "      <td>699.9</td>\n",
       "      <td>0</td>\n",
       "      <td>Principale</td>\n",
       "      <td>14.42</td>\n",
       "      <td>MOBILE COMPUTING</td>\n",
       "      <td>ACER</td>\n",
       "      <td>185137535.0</td>\n",
       "      <td>1.000000</td>\n",
       "      <td>0.000000</td>\n",
       "      <td>0.000000</td>\n",
       "      <td>0.000000</td>\n",
       "      <td>0.000000</td>\n",
       "      <td>0</td>\n",
       "      <td>0.00</td>\n",
       "      <td>5</td>\n",
       "      <td>NOT DEFINED</td>\n",
       "      <td>NaN</td>\n",
       "      <td>NaN</td>\n",
       "      <td>NaN</td>\n",
       "      <td>NaN</td>\n",
       "      <td>NaN</td>\n",
       "      <td>NaN</td>\n",
       "      <td>19.625000</td>\n",
       "      <td>1</td>\n",
       "      <td>0</td>\n",
       "      <td>0</td>\n",
       "      <td>0</td>\n",
       "      <td>0</td>\n",
       "    </tr>\n",
       "    <tr>\n",
       "      <th>3</th>\n",
       "      <td>23MA</td>\n",
       "      <td>2023-11-01</td>\n",
       "      <td>2023-11-08</td>\n",
       "      <td>BASKET TASSO ZERO</td>\n",
       "      <td>ACECB3153HC322</td>\n",
       "      <td>249.9</td>\n",
       "      <td>289.9</td>\n",
       "      <td>0</td>\n",
       "      <td>Principale</td>\n",
       "      <td>13.80</td>\n",
       "      <td>MOBILE COMPUTING</td>\n",
       "      <td>ACER</td>\n",
       "      <td>178878940.0</td>\n",
       "      <td>0.960614</td>\n",
       "      <td>0.226019</td>\n",
       "      <td>0.000000</td>\n",
       "      <td>0.143809</td>\n",
       "      <td>0.000000</td>\n",
       "      <td>0</td>\n",
       "      <td>0.00</td>\n",
       "      <td>7</td>\n",
       "      <td>INTEL UHD GRAPH. 600</td>\n",
       "      <td>PROCESSOR CELERON N</td>\n",
       "      <td>OS VERSION CHROME OS</td>\n",
       "      <td>STORAGE IN GB 64</td>\n",
       "      <td>RAM IN GB 4</td>\n",
       "      <td>DISPLAY SIZE 15.6</td>\n",
       "      <td>CONVERTIBLE NO</td>\n",
       "      <td>17.554706</td>\n",
       "      <td>0</td>\n",
       "      <td>1</td>\n",
       "      <td>0</td>\n",
       "      <td>0</td>\n",
       "      <td>0</td>\n",
       "    </tr>\n",
       "    <tr>\n",
       "      <th>4</th>\n",
       "      <td>23NB</td>\n",
       "      <td>2023-12-07</td>\n",
       "      <td>2023-12-16</td>\n",
       "      <td>SOTTOCOSTO TASSO ZERO</td>\n",
       "      <td>ACESF31443R90U</td>\n",
       "      <td>649.9</td>\n",
       "      <td>829.9</td>\n",
       "      <td>572</td>\n",
       "      <td>Principale</td>\n",
       "      <td>21.69</td>\n",
       "      <td>MOBILE COMPUTING</td>\n",
       "      <td>ACER</td>\n",
       "      <td>184819894.0</td>\n",
       "      <td>1.000000</td>\n",
       "      <td>0.000000</td>\n",
       "      <td>0.075439</td>\n",
       "      <td>0.321116</td>\n",
       "      <td>0.705751</td>\n",
       "      <td>26</td>\n",
       "      <td>13523.66</td>\n",
       "      <td>9</td>\n",
       "      <td>RAD</td>\n",
       "      <td>PROCESSOR RYZEN 7</td>\n",
       "      <td>OS VERSION WIN11 HOME</td>\n",
       "      <td>STORAGE IN GB 512</td>\n",
       "      <td>RAM IN GB 16</td>\n",
       "      <td>DISPLAY SIZE 14</td>\n",
       "      <td>CONVERTIBLE NO</td>\n",
       "      <td>27.256923</td>\n",
       "      <td>0</td>\n",
       "      <td>0</td>\n",
       "      <td>0</td>\n",
       "      <td>1</td>\n",
       "      <td>0</td>\n",
       "    </tr>\n",
       "  </tbody>\n",
       "</table>\n",
       "</div>"
      ],
      "text/plain": [
       "  CODICE_VOLANTINO DATA_INIZIO  DATA_FINE          NOME_CAMPAGNA  \\\n",
       "0             23MB  2023-11-09 2023-11-15         BLACK FRIDAY 1   \n",
       "1             23NB  2023-12-07 2023-12-16  SOTTOCOSTO TASSO ZERO   \n",
       "2             23NA  2023-12-01 2023-12-06      BASKET TASSO ZERO   \n",
       "3             23MA  2023-11-01 2023-11-08      BASKET TASSO ZERO   \n",
       "4             23NB  2023-12-07 2023-12-16  SOTTOCOSTO TASSO ZERO   \n",
       "\n",
       "          ART_COD  PREZZO_PROMO  PREZZO_LISTINO  STOCK_PZ TIPOLOGIA_PRODOTTO  \\\n",
       "0  ACEA31524PR2KM         449.9           649.9      1112         Principale   \n",
       "1   ACEA5155758Y8         549.0           699.9       220         Principale   \n",
       "2   ACEA5155758Y8         599.0           699.9         0         Principale   \n",
       "3  ACECB3153HC322         249.9           289.9         0         Principale   \n",
       "4  ACESF31443R90U         649.9           829.9       572         Principale   \n",
       "\n",
       "   SCONTO_PERC     PRODUCT_GROUP                           BRAND      ITEM_ID  \\\n",
       "0        30.77  MOBILE COMPUTING  ACER                            180577047.0   \n",
       "1        21.56  MOBILE COMPUTING  ACER                            185137535.0   \n",
       "2        14.42  MOBILE COMPUTING  ACER                            185137535.0   \n",
       "3        13.80  MOBILE COMPUTING  ACER                            178878940.0   \n",
       "4        21.69  MOBILE COMPUTING  ACER                            184819894.0   \n",
       "\n",
       "      KPI_1     KPI_2     KPI_3     KPI_4     KPI_5  QTA_storico  \\\n",
       "0  0.960614  0.698699  0.658007  1.000000  1.000000          791   \n",
       "1  1.000000  0.000000  0.000000  0.000000  0.000000            0   \n",
       "2  1.000000  0.000000  0.000000  0.000000  0.000000            0   \n",
       "3  0.960614  0.226019  0.000000  0.143809  0.000000            0   \n",
       "4  1.000000  0.000000  0.075439  0.321116  0.705751           26   \n",
       "\n",
       "   FATTURATO_storico  DURATA_VOLANTINO_IN_GIORNI             GPU_MODEL  \\\n",
       "0          297913.02                           6              RAD 610M   \n",
       "1               0.00                           9           NOT DEFINED   \n",
       "2               0.00                           5           NOT DEFINED   \n",
       "3               0.00                           7  INTEL UHD GRAPH. 600   \n",
       "4           13523.66                           9                   RAD   \n",
       "\n",
       "     CARATTERISTICA_02      CARATTERISTICA_05  CARATTERISTICA_04  \\\n",
       "0    PROCESSOR RYZEN 5  OS VERSION WIN11 HOME  STORAGE IN GB 512   \n",
       "1                  NaN                    NaN                NaN   \n",
       "2                  NaN                    NaN                NaN   \n",
       "3  PROCESSOR CELERON N   OS VERSION CHROME OS   STORAGE IN GB 64   \n",
       "4    PROCESSOR RYZEN 7  OS VERSION WIN11 HOME  STORAGE IN GB 512   \n",
       "\n",
       "  CARATTERISTICA_03  CARATTERISTICA_06 CARATTERISTICA_07  \\\n",
       "0       RAM IN GB 8  DISPLAY SIZE 15.6    CONVERTIBLE NO   \n",
       "1               NaN                NaN               NaN   \n",
       "2               NaN                NaN               NaN   \n",
       "3       RAM IN GB 4  DISPLAY SIZE 15.6    CONVERTIBLE NO   \n",
       "4      RAM IN GB 16    DISPLAY SIZE 14    CONVERTIBLE NO   \n",
       "\n",
       "   SCONTO_PERC_MEDIO_VOLANTINO  VERSION_NOT_DEFINED  VERSION_INTEL  \\\n",
       "0                    29.019286                    0              0   \n",
       "1                    27.256923                    1              0   \n",
       "2                    19.625000                    1              0   \n",
       "3                    17.554706                    0              1   \n",
       "4                    27.256923                    0              0   \n",
       "\n",
       "   VERSION_APPLE  VERSION_RAD  VERSION_GEF  \n",
       "0              0            1            0  \n",
       "1              0            0            0  \n",
       "2              0            0            0  \n",
       "3              0            0            0  \n",
       "4              0            1            0  "
      ]
     },
     "execution_count": 166,
     "metadata": {},
     "output_type": "execute_result"
    }
   ],
   "source": [
    "pc.head()"
   ]
  },
  {
   "cell_type": "markdown",
   "metadata": {},
   "source": [
    "FOCUS ON INTEL\n",
    "\n",
    "high_quality_models = ['IRIS', 'ADRENO']                                                -->3\n",
    "\n",
    "medium_quality_models = ['UHD', 'GRAPH. 6']                                             -->2\n",
    "\n",
    "low_quality_models = ['HD', 'GRAPH. 5', 'GRAPH. 4', 'ADRENO506', 'MALI']            -->1"
   ]
  },
  {
   "cell_type": "code",
   "execution_count": 167,
   "metadata": {},
   "outputs": [
    {
     "data": {
      "text/plain": [
       "array(['INTEL UHD GRAPH. 600', 'INTEL IRIS XE', 'INTEL UHD GPU',\n",
       "       'INTEL MALI-G52 2EE MC'], dtype=object)"
      ]
     },
     "execution_count": 167,
     "metadata": {},
     "output_type": "execute_result"
    }
   ],
   "source": [
    "pc['GPU_MODEL'][pc['GPU_MODEL'].str.contains('INTEL', na=False)].unique()"
   ]
  },
  {
   "cell_type": "markdown",
   "metadata": {},
   "source": [
    "FOCUS ON APPLE\n",
    "\n",
    "high_quality_models = ['16', '14']                                                -->3\n",
    "\n",
    "medium_quality_models = ['10']                                             -->2\n",
    "\n",
    "low_quality_models = ['8', '7']            -->1"
   ]
  },
  {
   "cell_type": "code",
   "execution_count": 168,
   "metadata": {},
   "outputs": [
    {
     "data": {
      "text/plain": [
       "array(['APPLE 8CORE GPU', 'APPLE 10COREGPU', 'APPLE 7CORE GPU'],\n",
       "      dtype=object)"
      ]
     },
     "execution_count": 168,
     "metadata": {},
     "output_type": "execute_result"
    }
   ],
   "source": [
    "pc['GPU_MODEL'][pc['GPU_MODEL'].str.contains('APPLE', na=False)].unique()"
   ]
  },
  {
   "cell_type": "markdown",
   "metadata": {},
   "source": [
    "FOCUS ON RAD\n",
    "\n",
    "high_quality_models = ['VEGA']                                                -->3\n",
    "\n",
    "medium_quality_models = ['PRO', '610', 'R7', 'R5']                                             -->2\n",
    "\n",
    "low_quality_models = ['R3', 'R2']            -->1"
   ]
  },
  {
   "cell_type": "code",
   "execution_count": 169,
   "metadata": {},
   "outputs": [
    {
     "data": {
      "text/plain": [
       "array(['RAD 610M', 'RAD'], dtype=object)"
      ]
     },
     "execution_count": 169,
     "metadata": {},
     "output_type": "execute_result"
    }
   ],
   "source": [
    "pc['GPU_MODEL'][pc['GPU_MODEL'].str.contains('RAD', na=False)].unique()"
   ]
  },
  {
   "cell_type": "markdown",
   "metadata": {},
   "source": [
    "FOCUS ON GEF\n",
    "\n",
    "high_quality_models = ['RTX']                                                -->3\n",
    "\n",
    "medium_quality_models = ['GTX']                                             -->2\n",
    "\n",
    "low_quality_models = ['MX']            -->1"
   ]
  },
  {
   "cell_type": "code",
   "execution_count": 170,
   "metadata": {},
   "outputs": [
    {
     "data": {
      "text/plain": [
       "array(['GEF RTX3050', 'GEF RTX3050 TI', 'GEF RTX4050', 'GEF RTX4060'],\n",
       "      dtype=object)"
      ]
     },
     "execution_count": 170,
     "metadata": {},
     "output_type": "execute_result"
    }
   ],
   "source": [
    "pc['GPU_MODEL'][pc['GPU_MODEL'].str.contains('GEF', na=False)].unique()"
   ]
  },
  {
   "cell_type": "code",
   "execution_count": 171,
   "metadata": {},
   "outputs": [],
   "source": [
    "# WE CREATE A NEW COLUMN 'QUALITY VERSION' THAT ASSIGN A VALUE BETWEEN 1 AND 3 BASED ON THE QUALITY OF THE GPU\n",
    "\n",
    "QUALITY_VERSION = []\n",
    "for i in range(pc.shape[0]):\n",
    "    if 'INTEL' in pc.iloc[i, 21]:\n",
    "        if 'IRIS' in pc.iloc[i, 21] or 'ADRENO' in pc.iloc[i, 21]:\n",
    "            QUALITY_VERSION.append(3)\n",
    "        elif 'UHD' in pc.iloc[i, 21] or 'GRAPH. 6' in pc.iloc[i, 21]:\n",
    "            QUALITY_VERSION.append(2)\n",
    "        else:\n",
    "            QUALITY_VERSION.append(1)\n",
    "\n",
    "    elif 'APPLE' in pc.iloc[i, 21]:\n",
    "        if '16' in pc.iloc[i, 21] or '14' in pc.iloc[i, 21]:\n",
    "            QUALITY_VERSION.append(3)\n",
    "        elif '10' in pc.iloc[i, 21]:\n",
    "            QUALITY_VERSION.append(2)\n",
    "        else:\n",
    "            QUALITY_VERSION.append(1)\n",
    "        \n",
    "    elif 'RAD' in pc.iloc[i, 21]:\n",
    "        if 'VEGA' in pc.iloc[i, 21]:\n",
    "            QUALITY_VERSION.append(3)\n",
    "        elif 'PRO' in pc.iloc[i, 21] or '610' in pc.iloc[i, 21] or 'R7' in pc.iloc[i, 21] or 'R5' in pc.iloc[i, 21]:\n",
    "            QUALITY_VERSION.append(2)\n",
    "        else:\n",
    "            QUALITY_VERSION.append(1)\n",
    "\n",
    "    elif 'GEF' in pc.iloc[i, 21]:\n",
    "        if 'RTX' in pc.iloc[i, 21]:\n",
    "            QUALITY_VERSION.append(3)\n",
    "        elif 'GTX' in pc.iloc[i, 21]:\n",
    "            QUALITY_VERSION.append(2)\n",
    "        else:\n",
    "            QUALITY_VERSION.append(1)\n",
    "    \n",
    "    else:  #SE IL VALORE è NOT DEFINED\n",
    "         QUALITY_VERSION.append(1)\n",
    "    \n",
    "\n",
    "pc['QUALITY_VERSION'] = QUALITY_VERSION\n",
    "    \n"
   ]
  },
  {
   "cell_type": "code",
   "execution_count": 172,
   "metadata": {},
   "outputs": [],
   "source": [
    "pc.drop('GPU_MODEL', axis=1, inplace=True)"
   ]
  },
  {
   "cell_type": "markdown",
   "metadata": {},
   "source": [
    "### CAR_02"
   ]
  },
  {
   "cell_type": "code",
   "execution_count": 174,
   "metadata": {},
   "outputs": [
    {
     "data": {
      "text/plain": [
       "array(['PROCESSOR RYZEN 5', nan, 'PROCESSOR CELERON N',\n",
       "       'PROCESSOR RYZEN 7', 'PROCESSOR APPLE M-SERIES',\n",
       "       'PROCESSOR CORE I5', 'PROCESSOR CORE I7', 'PROCESSOR CORE I3',\n",
       "       'PROCESSOR KOMPANIO', 'PROCESSOR RYZEN 3',\n",
       "       'PROCESSOR PENTIUM GOLD'], dtype=object)"
      ]
     },
     "execution_count": 174,
     "metadata": {},
     "output_type": "execute_result"
    }
   ],
   "source": [
    "pc['CARATTERISTICA_02'].unique()"
   ]
  },
  {
   "cell_type": "code",
   "execution_count": 175,
   "metadata": {},
   "outputs": [],
   "source": [
    "pc = pc.rename(columns={'CARATTERISTICA_02': 'PROCESSOR'})"
   ]
  },
  {
   "cell_type": "code",
   "execution_count": 176,
   "metadata": {},
   "outputs": [],
   "source": [
    "pc['PROCESSOR'] = pc['PROCESSOR'].str.replace('PROCESSOR ', '')\n",
    "pc['PROCESSOR'].fillna('NOT DEFINED', inplace=True)"
   ]
  },
  {
   "cell_type": "markdown",
   "metadata": {},
   "source": [
    "WE PERFORMED ORDINAL ENCODING ORDING TO THE QUALITY OF THE PROCESSORS \n",
    "\n",
    "quality_high = ['CORE I7', 'RYZEN 7', 'CORE I5', 'RYZEN 5'] -->3\n",
    "\n",
    "quality_medium = ['CORE I3', 'RYZEN 3', 'A9-SERIES', 'A12-SERIES', 'PENTIUM GOLD', 'PENTIUM SILVER', 'APPLE'] -->2\n",
    "\n",
    "quality_low = tutti gli altri  -->1"
   ]
  },
  {
   "cell_type": "code",
   "execution_count": 177,
   "metadata": {},
   "outputs": [],
   "source": [
    "QUALITY_PROCESSOR = []\n",
    "\n",
    "for i in range(pc.shape[0]):\n",
    "    if 'CORE I7' in pc.iloc[i,21] or 'RYZEN 7' in pc.iloc[i,21] or 'CORE I5' in pc.iloc[i,21] or 'RYZEN 5' in pc.iloc[i,21]:\n",
    "        QUALITY_PROCESSOR.append(3)\n",
    "    elif 'CORE I3' in pc.iloc[i,21] or 'RYZEN 3' in pc.iloc[i,21] or 'A9-SERIES' in pc.iloc[i,21] or 'A12-SERIES' in pc.iloc[i,21] or 'PENTIUM GOLD' in pc.iloc[i,21] or 'PENTIUM SILVER' in pc.iloc[i,21] or 'APPLE' in pc.iloc[i,21]:\n",
    "        QUALITY_PROCESSOR.append(2)\n",
    "    else:\n",
    "        QUALITY_PROCESSOR.append(1)\n",
    "\n",
    "pc['QUALITY_PROCESSOR'] = QUALITY_PROCESSOR"
   ]
  },
  {
   "cell_type": "code",
   "execution_count": 178,
   "metadata": {},
   "outputs": [],
   "source": [
    "pc.drop('PROCESSOR', axis=1, inplace=True)"
   ]
  },
  {
   "cell_type": "markdown",
   "metadata": {},
   "source": [
    "### CAR_03"
   ]
  },
  {
   "cell_type": "code",
   "execution_count": 179,
   "metadata": {},
   "outputs": [
    {
     "data": {
      "text/plain": [
       "array(['RAM IN GB 8', nan, 'RAM IN GB 4', 'RAM IN GB 16'], dtype=object)"
      ]
     },
     "execution_count": 179,
     "metadata": {},
     "output_type": "execute_result"
    }
   ],
   "source": [
    "pc['CARATTERISTICA_03'].unique()"
   ]
  },
  {
   "cell_type": "code",
   "execution_count": 180,
   "metadata": {},
   "outputs": [],
   "source": [
    "pc = pc.rename(columns={'CARATTERISTICA_03': 'RAM_GB'})\n",
    "pc['RAM_GB'] = pc['RAM_GB'].str.replace('RAM IN GB ', '').astype(float)\n",
    "pc['RAM_GB'].fillna(pc['RAM_GB'].value_counts().index[0], inplace=True)"
   ]
  },
  {
   "cell_type": "markdown",
   "metadata": {},
   "source": [
    "### CAR_04"
   ]
  },
  {
   "cell_type": "code",
   "execution_count": 182,
   "metadata": {},
   "outputs": [
    {
     "data": {
      "text/plain": [
       "array(['STORAGE IN GB 512', nan, 'STORAGE IN GB 64', 'STORAGE IN GB 256',\n",
       "       'STORAGE IN GB 128', 'STORAGE IN GB 1000'], dtype=object)"
      ]
     },
     "execution_count": 182,
     "metadata": {},
     "output_type": "execute_result"
    }
   ],
   "source": [
    "pc['CARATTERISTICA_04'].unique()"
   ]
  },
  {
   "cell_type": "code",
   "execution_count": 183,
   "metadata": {},
   "outputs": [],
   "source": [
    "pc = pc.rename(columns={'CARATTERISTICA_04': 'STORAGE_GB'})\n",
    "pc['STORAGE_GB'] = pc['STORAGE_GB'].str.replace('STORAGE IN GB ', '').astype(float)\n",
    "pc['STORAGE_GB'].fillna(pc['STORAGE_GB'].value_counts().index[0], inplace=True)"
   ]
  },
  {
   "cell_type": "markdown",
   "metadata": {},
   "source": [
    "### CAR_05"
   ]
  },
  {
   "cell_type": "code",
   "execution_count": 185,
   "metadata": {},
   "outputs": [
    {
     "data": {
      "text/plain": [
       "array(['OS VERSION WIN11 HOME', nan, 'OS VERSION CHROME OS',\n",
       "       'OS VERSION MACOS MONTEREY', 'OS VERSION MACOS VENTURA',\n",
       "       'OS VERSION WIN11 HOME S', 'OS VERSION MACOS BIG SUR'],\n",
       "      dtype=object)"
      ]
     },
     "execution_count": 185,
     "metadata": {},
     "output_type": "execute_result"
    }
   ],
   "source": [
    "pc['CARATTERISTICA_05'].unique()"
   ]
  },
  {
   "cell_type": "code",
   "execution_count": 186,
   "metadata": {},
   "outputs": [],
   "source": [
    "pc = pc.rename(columns={'CARATTERISTICA_05': 'OS_VERSION'})\n",
    "pc['OS_VERSION'] = pc['OS_VERSION'].str.split('OS VERSION ').str.get(1).str.split().str.get(0)\n",
    "pc['OS_VERSION'].fillna('NOT DEFINED', inplace=True)"
   ]
  },
  {
   "cell_type": "markdown",
   "metadata": {},
   "source": [
    "### CAR_06"
   ]
  },
  {
   "cell_type": "code",
   "execution_count": 189,
   "metadata": {},
   "outputs": [
    {
     "data": {
      "text/plain": [
       "array(['DISPLAY SIZE 15.6', nan, 'DISPLAY SIZE 14', 'DISPLAY SIZE 13.6',\n",
       "       'DISPLAY SIZE 13.3', 'DISPLAY SIZE 15.3', 'DISPLAY SIZE 16',\n",
       "       'DISPLAY SIZE 17.3', 'DISPLAY SIZE 14.5', 'DISPLAY SIZE 13'],\n",
       "      dtype=object)"
      ]
     },
     "execution_count": 189,
     "metadata": {},
     "output_type": "execute_result"
    }
   ],
   "source": [
    "pc['CARATTERISTICA_06'].unique()"
   ]
  },
  {
   "cell_type": "code",
   "execution_count": 190,
   "metadata": {},
   "outputs": [],
   "source": [
    "pc = pc.rename(columns={'CARATTERISTICA_06': 'DISPLAY_SIZE'})\n",
    "pc['DISPLAY_SIZE'] = pc['DISPLAY_SIZE'].str.replace('DISPLAY SIZE ', '').astype(float)\n",
    "pc['DISPLAY_SIZE'].fillna(pc['DISPLAY_SIZE'].value_counts().index[0], inplace=True)"
   ]
  },
  {
   "cell_type": "markdown",
   "metadata": {},
   "source": [
    "### CAR_07"
   ]
  },
  {
   "cell_type": "code",
   "execution_count": 192,
   "metadata": {},
   "outputs": [
    {
     "data": {
      "text/plain": [
       "array(['CONVERTIBLE NO', nan, 'CONVERTIBLE YES'], dtype=object)"
      ]
     },
     "execution_count": 192,
     "metadata": {},
     "output_type": "execute_result"
    }
   ],
   "source": [
    "pc['CARATTERISTICA_07'].unique()"
   ]
  },
  {
   "cell_type": "code",
   "execution_count": 193,
   "metadata": {},
   "outputs": [],
   "source": [
    "pc = pc.rename(columns={'CARATTERISTICA_07': 'CONVERTIBLE'})\n",
    "pc['CONVERTIBLE'].replace(np.nan, 0, inplace=True)\n",
    "pc['CONVERTIBLE'].replace('CONVERTIBLE NO', 0, inplace=True)\n",
    "pc['CONVERTIBLE'].replace('CONVERTIBLE YES', 1, inplace=True)"
   ]
  },
  {
   "cell_type": "markdown",
   "metadata": {},
   "source": [
    "## TV"
   ]
  },
  {
   "cell_type": "code",
   "execution_count": 195,
   "metadata": {},
   "outputs": [],
   "source": [
    "tv = df1[df1['PRODUCT_GROUP']=='PTV/FLAT']\n",
    "tv = pd.merge(tv, gfk, on='ITEM_ID', how='left')\n",
    "tv['SCONTO_PERC_MEDIO_VOLANTINO'] = tv.groupby('CODICE_VOLANTINO')['SCONTO_PERC'].transform('mean')\n"
   ]
  },
  {
   "cell_type": "markdown",
   "metadata": {},
   "source": [
    "### CAR_01"
   ]
  },
  {
   "cell_type": "code",
   "execution_count": 196,
   "metadata": {},
   "outputs": [
    {
     "data": {
      "text/plain": [
       "array(['DISPLAY SIZE 43', 'DISPLAY SIZE 55', 'DISPLAY SIZE 65', nan,\n",
       "       'DISPLAY SIZE 75', 'DISPLAY SIZE 77', 'DISPLAY SIZE 40',\n",
       "       'DISPLAY SIZE 50', 'DISPLAY SIZE 32', 'DISPLAY SIZE 54.6',\n",
       "       'DISPLAY SIZE 48'], dtype=object)"
      ]
     },
     "execution_count": 196,
     "metadata": {},
     "output_type": "execute_result"
    }
   ],
   "source": [
    "tv['CARATTERISTICA_01'].unique()"
   ]
  },
  {
   "cell_type": "code",
   "execution_count": 197,
   "metadata": {},
   "outputs": [],
   "source": [
    "tv = tv.rename(columns={'CARATTERISTICA_01': 'DISPLAY_SIZE'})\n",
    "tv['DISPLAY_SIZE'] = tv['DISPLAY_SIZE'].str.replace('DISPLAY SIZE ', '').astype(float)\n",
    "tv['DISPLAY_SIZE'].fillna(tv['DISPLAY_SIZE'].value_counts().index[0], inplace=True)"
   ]
  },
  {
   "cell_type": "markdown",
   "metadata": {},
   "source": [
    "### CAR_02"
   ]
  },
  {
   "cell_type": "code",
   "execution_count": 199,
   "metadata": {},
   "outputs": [
    {
     "data": {
      "text/plain": [
       "array(['HD TYPES ULTRA HD/4K (3840X2160P)', nan, 'HD TYPES FULL HD',\n",
       "       'HD TYPES HD READY'], dtype=object)"
      ]
     },
     "execution_count": 199,
     "metadata": {},
     "output_type": "execute_result"
    }
   ],
   "source": [
    "tv['CARATTERISTICA_02'].unique()"
   ]
  },
  {
   "cell_type": "code",
   "execution_count": 200,
   "metadata": {},
   "outputs": [],
   "source": [
    "tv = tv.rename(columns={'CARATTERISTICA_02': 'HD_QUALITY'})\n",
    "tv['HD_QUALITY'].replace('HD TYPES HD READY', 1, inplace=True)\n",
    "tv['HD_QUALITY'].replace('HD TYPES FULL HD', 2, inplace=True)\n",
    "tv['HD_QUALITY'].replace('HD TYPES ULTRA HD/4K (3840X2160P)', 3, inplace=True)\n",
    "tv['HD_QUALITY'].fillna(tv['HD_QUALITY'].value_counts().index[0], inplace=True)"
   ]
  },
  {
   "cell_type": "markdown",
   "metadata": {},
   "source": [
    "### CAR_03"
   ]
  },
  {
   "cell_type": "code",
   "execution_count": 203,
   "metadata": {},
   "outputs": [
    {
     "data": {
      "text/plain": [
       "array(['MFM NO MFM', nan], dtype=object)"
      ]
     },
     "execution_count": 203,
     "metadata": {},
     "output_type": "execute_result"
    }
   ],
   "source": [
    "tv['CARATTERISTICA_03'].unique()"
   ]
  },
  {
   "cell_type": "code",
   "execution_count": 204,
   "metadata": {},
   "outputs": [],
   "source": [
    "tv = tv.rename(columns={'CARATTERISTICA_03': 'MFM'})\n",
    "tv['MFM'].replace('MFM NO MFM', 0, inplace=True)\n",
    "tv['MFM'].fillna(0, inplace=True)"
   ]
  },
  {
   "cell_type": "markdown",
   "metadata": {},
   "source": [
    "### CAR_04"
   ]
  },
  {
   "cell_type": "code",
   "execution_count": 206,
   "metadata": {},
   "outputs": [
    {
     "data": {
      "text/plain": [
       "array(['SMART TV SMART TV', nan], dtype=object)"
      ]
     },
     "execution_count": 206,
     "metadata": {},
     "output_type": "execute_result"
    }
   ],
   "source": [
    "tv['CARATTERISTICA_04'].unique()"
   ]
  },
  {
   "cell_type": "markdown",
   "metadata": {},
   "source": [
    "In the train set we had the following problem, while in the test set we did not.\n",
    "\n",
    "The rows were is present 'CURVED CURVED' or 'CURVED NOT CURVED', have the information abuot 'smart' on the next column.\n",
    "\n",
    "Since the information about 'curve' is available just for a few observation, we decided to don't care about it.\n",
    "\n",
    "So, for these rows we moved all the values on the previous column. Similarly to what we did for 'CARATTERISTICA_03' of smartphone."
   ]
  },
  {
   "cell_type": "code",
   "execution_count": 207,
   "metadata": {},
   "outputs": [
    {
     "data": {
      "text/plain": [
       "\"\\nselezione = (tv['CARATTERISTICA_04'] == 'CURVED CURVED') | (tv['CARATTERISTICA_04'] == 'CURVED NOT CURVED')\\n\\ntv.loc[selezione, 'CARATTERISTICA_04'] = tv.loc[selezione, 'CARATTERISTICA_05']\\ntv.loc[selezione, 'CARATTERISTICA_05'] = tv.loc[selezione, 'CARATTERISTICA_06']\\n\""
      ]
     },
     "execution_count": 207,
     "metadata": {},
     "output_type": "execute_result"
    }
   ],
   "source": [
    "'''\n",
    "selezione = (tv['CARATTERISTICA_04'] == 'CURVED CURVED') | (tv['CARATTERISTICA_04'] == 'CURVED NOT CURVED')\n",
    "\n",
    "tv.loc[selezione, 'CARATTERISTICA_04'] = tv.loc[selezione, 'CARATTERISTICA_05']\n",
    "tv.loc[selezione, 'CARATTERISTICA_05'] = tv.loc[selezione, 'CARATTERISTICA_06']\n",
    "\n",
    "tv['CARATTERISTICA_04'] = tv['CARATTERISTICA_04'].fillna('')\n",
    "righe_errate = tv[tv['CARATTERISTICA_04'].str.contains('CURVED')]\n",
    "tv.loc[righe_errate.index, 'CARATTERISTICA_04'] = tv.loc[righe_errate.index, 'CARATTERISTICA_05']\n",
    "tv['CARATTERISTICA_05'].replace(r'.*SMART.*', np.nan, regex=True, inplace=True)\n",
    "tv.loc[righe_errate.index, 'CARATTERISTICA_05'] = tv.loc[righe_errate.index, 'CARATTERISTICA_06']\n",
    "tv['CARATTERISTICA_06'].replace(r'.*DISPLAY.*', np.nan, regex=True, inplace=True)\n",
    "tv['CARATTERISTICA_04'].replace('', 0, inplace=True)\n",
    "'''"
   ]
  },
  {
   "cell_type": "code",
   "execution_count": 209,
   "metadata": {},
   "outputs": [],
   "source": [
    "tv = tv.rename(columns={'CARATTERISTICA_04': 'SMART'})\n",
    "tv['SMART'].replace('SMART TV SMART TV', 1, inplace=True)\n",
    "tv['SMART'].replace('SMART TV NO SMART TV', 0, inplace=True)\n",
    "tv['SMART'].fillna(tv['SMART'].value_counts().index[0], inplace=True)"
   ]
  },
  {
   "cell_type": "markdown",
   "metadata": {},
   "source": [
    "### CAR_05"
   ]
  },
  {
   "cell_type": "code",
   "execution_count": 212,
   "metadata": {},
   "outputs": [
    {
     "data": {
      "text/plain": [
       "array(['DISPLAY TECHNOL LCD-DISPLAY', 'DISPLAY TECHNOL OLED-DISPLAY', nan],\n",
       "      dtype=object)"
      ]
     },
     "execution_count": 212,
     "metadata": {},
     "output_type": "execute_result"
    }
   ],
   "source": [
    "tv['CARATTERISTICA_05'].unique()"
   ]
  },
  {
   "cell_type": "code",
   "execution_count": 213,
   "metadata": {},
   "outputs": [],
   "source": [
    "tv = tv.rename(columns={'CARATTERISTICA_05': 'OLED'})\n",
    "tv['OLED'].replace('DISPLAY TECHNOL LCD-DISPLAY', 0, inplace=True)\n",
    "tv['OLED'].replace('DISPLAY TECHNOL OLED-DISPLAY', 1, inplace=True)\n",
    "tv['OLED'].fillna(tv['OLED'].value_counts().index[0], inplace=True)"
   ]
  },
  {
   "cell_type": "markdown",
   "metadata": {},
   "source": [
    "### CAR_06"
   ]
  },
  {
   "cell_type": "code",
   "execution_count": 216,
   "metadata": {},
   "outputs": [
    {
     "data": {
      "text/plain": [
       "array(['WCG QUANTUM DOT', 'WCG VARIOUS WCG TEC', nan, 'WCG NO WCG'],\n",
       "      dtype=object)"
      ]
     },
     "execution_count": 216,
     "metadata": {},
     "output_type": "execute_result"
    }
   ],
   "source": [
    "tv['CARATTERISTICA_06'].unique()"
   ]
  },
  {
   "cell_type": "code",
   "execution_count": 217,
   "metadata": {},
   "outputs": [],
   "source": [
    "tv = tv.rename(columns={'CARATTERISTICA_06': 'WCG'})\n",
    "tv['WCG'].replace('WCG NO WCG', 0, inplace=True)\n",
    "tv['WCG'].replace('WCG VARIOUS WCG TEC', 1, inplace=True)\n",
    "tv['WCG'].replace('WCG QUANTUM DOT', 2, inplace=True)\n",
    "tv['WCG'].fillna(tv['WCG'].value_counts().index[0], inplace=True)"
   ]
  },
  {
   "cell_type": "markdown",
   "metadata": {},
   "source": [
    "### CAR_07"
   ]
  },
  {
   "cell_type": "code",
   "execution_count": 220,
   "metadata": {},
   "outputs": [
    {
     "data": {
      "text/plain": [
       "array(['MINILED BACKLIT NO MINILED', nan, 'MINILED BACKLIT MINILED'],\n",
       "      dtype=object)"
      ]
     },
     "execution_count": 220,
     "metadata": {},
     "output_type": "execute_result"
    }
   ],
   "source": [
    "tv['CARATTERISTICA_07'].unique()"
   ]
  },
  {
   "cell_type": "code",
   "execution_count": 221,
   "metadata": {},
   "outputs": [],
   "source": [
    "tv = tv.rename(columns={'CARATTERISTICA_07': 'MINILED'})\n",
    "tv['MINILED'].replace('MINILED BACKLIT NO MINILED', 0, inplace=True)\n",
    "tv['MINILED'].replace('MINILED BACKLIT MINILED', 1, inplace=True)\n",
    "tv['MINILED'].fillna(tv['MINILED'].value_counts().index[0], inplace=True)"
   ]
  },
  {
   "cell_type": "markdown",
   "metadata": {},
   "source": [
    "# ULTERIORI MODIFICHE AI DATASET"
   ]
  },
  {
   "cell_type": "code",
   "execution_count": 224,
   "metadata": {},
   "outputs": [],
   "source": [
    "# WE DEFINED THIS FUNCTION IN ORDER TO CREATE A NEW COLUMN 'SCONTO_PERC_MEDIO_NOME_CAMPAGNA'.\n",
    "# FIRST OF ALL WE ORGANISED 'NOME_CAMPAGNA' in 11 CATEGORIES: back_to_school, basket, black_friday, fuori_tutto, passione_casa, sottocosto, \n",
    "# tasso_zero, special_days, fly, bike, 50% and other.\n",
    "# THEN, FOR EACH CATEGORY WE CALCULATED THE AVERAGE DISCOUNT OF THE PRODUCTS\n",
    "# WE WILL APPLY THIS FUNCTION TO EACH PRODUCT GROUP DATAFRAME\n",
    "\n",
    "def nomi_campagna(df):\n",
    "    \n",
    "    pattern = ['BACK TO SCHOOL', 'BACK TO SCHOOL 1', 'BACK TO SCHOOL 2', 'Back to School', 'Back to School continua']\n",
    "    df.NOME_CAMPAGNA.replace(pattern, 'back_to_school', inplace = True)\n",
    "\n",
    "    pattern = ['BASKET', 'BASKET INTERESSI ZERO + TRADE IN', 'BASKET MARZO', 'BASKET SCONTI APRILE', 'BASKET SCONTI FEBBRAIO', 'BASKET SCONTI FEBBRAIO 2']\n",
    "    df.NOME_CAMPAGNA.replace(pattern, 'basket', inplace = True)\n",
    "\n",
    "    pattern = ['BLACK FRIDAY - EPISODIO 1', 'BLACK FRIDAY - EPISODIO 3', 'BLACK FRIDAY EP.0', 'BLACK FRIDAY EP.1',\n",
    "            'BLACK FRIDAY EP.2', 'Bastard Black Friday', 'Black Addams Friday', 'Black Addams Friday Continua', 'Black Rock Friday',\n",
    "            'Change Black Friday', 'Change Black Friday 2', 'Change Black Friday Gran Finale', 'Change Black Friday', \n",
    "            'Manà Manà Black Friday', 'Manà Manà Black Friday continua','Manà Manà Black Friday continua 2', 'Manà Manà Black Friday continua 3',\n",
    "            'BF 2 - TEMPTATION BLACK FRIDAY', 'SUMMER BLACK FRIDAY 2', 'SUMMER BLACK FRIDAY 1', 'Summer Black Friday', 'Summer Black Friday 2']\n",
    "    df.NOME_CAMPAGNA.replace(pattern, 'black_friday', inplace = True)\n",
    "\n",
    "    pattern = ['Continua il Fuoritutto Gennaio', 'FUORITUTTO 1','FUORITUTTO 1 AGOSTO','FUORITUTTO 2','FUORITUTTO 2 AGOSTO','Fuoritutto',\n",
    "            'Fuoritutto 1','Fuoritutto 1 Summer','Fuoritutto 2','Fuoritutto 2 Summer','Fuoritutto Continua','Fuoritutto Gennaio','Fuoritutto Inverno 1',\n",
    "            'Fuoritutto Inverno 2','Fuoritutto1 E','Fuoritutto1 W','Fuoritutto2 E','Fuoritutto2 W','Il Vero Fuoritutto', 'Il Vero Fuoritutto continua']\n",
    "    df.NOME_CAMPAGNA.replace(pattern, 'fuori_tutto', inplace = True)\n",
    "\n",
    "    pattern = ['PASSIONE CASA','PASSIONE CASA - BUONI INNOVAZIONE','Passione Casa','Passione Casa - Hitachi Abbinato',\n",
    "            'Passione Casa - Kitchenaid Abbinato','Passione Casa Settembre','Passione casa']\n",
    "    df.NOME_CAMPAGNA.replace(pattern, 'passione_casa', inplace = True)\n",
    "\n",
    "    pattern = ['SOTTOCOSTO', 'SOTTOCOSTO LUGLIO', 'SOTTOCOSTO NATALE', 'Sottoprezzo','Sottocosto Natale','Sottocosto Luglio','Sottocosto Giugno',\n",
    "            'Sottocosto Dicembre','Sottocosto Autunno','Sottocosto 2', 'Sottocosto', \"Sotto Costo un mare d'offerte\"]\n",
    "    df.NOME_CAMPAGNA.replace(pattern, 'sottocosto', inplace = True)\n",
    "\n",
    "    pattern = ['Happy Sconti - Tasso 0', 'Tasso 0 Risparmio Vero',\"Tasso 0 - Sconti d'Estate\",'Tasso 0 - Sconti', 'TASSO ZERO - IT TRADE IN','TASSO ZERO',\n",
    "            'TASSO 0 - SPECIALE PULIZIA',\" Solo il Meglio? E' scontato - Tasso Zero\", 'Settembre di Sconti - Tasso 0', 'UN MARE DI SCONTI A TASSO ZERO',\n",
    "            \"Sconti di Settembre Tasso Zero\", \"Sconti d'Estate a Tasso Zero\", \"Sconti che Sognavi - Tasso Zero\", 'SCONTI DI MAGGIO A TASSO ZERO', \n",
    "            'Risparmio Vero Tasso Zero', 'Natale Tasso Zero', 'NATALE A TASSO ZERO','Mare di Sconti - Tasso 0','Happy Sconti - Tasso 0',\n",
    "            \"Solo il Meglio? E' scontato - Tasso Zero\"]\n",
    "    df.NOME_CAMPAGNA.replace(pattern, 'tasso_zero', inplace = True)\n",
    "\n",
    "    pattern = ['Natalissimi','Halloween Days', 'Primavera di Sconti', 'Fioriscono gli Sconti', 'Collezione primavera', 'CALENDARIO AVVENTO', 'HALLOWEEN WEEK',\n",
    "            'Summer Days', 'I Natalissimi', 'Buon anno con Unieuro']\n",
    "    df.NOME_CAMPAGNA.replace(pattern, 'special_days', inplace = True)\n",
    "\n",
    "    pattern = ['Flyer Volo', 'VOLAGRATIS', 'Vola con noi']\n",
    "    df.NOME_CAMPAGNA.replace(pattern, 'fly', inplace = True)\n",
    "\n",
    "    pattern = ['BIKE IN REGALO', 'Flyer Bike', 'Promo Bike WOW']\n",
    "    df.NOME_CAMPAGNA.replace(pattern, 'bike', inplace = True)\n",
    "\n",
    "    pattern = ['Sconti Fino Al 50 - Focus Ped', 'SECONDO AL 50', 'Flyer Secondo Al 50%', 'Sconti Fino Al 50 - Focus Bianco']\n",
    "    df.NOME_CAMPAGNA.replace(pattern, '50%', inplace = True)\n",
    "\n",
    "    pattern = ['VOLANTINO BUONI','Ogni momento è buono','TRADE IN PC','Lovely Days',\n",
    "            'Unieuro ti regala la Mia','Amore al primo acquisto', 'Tanto ti dà Tanto','Cookeo connect',\n",
    "            'Se Vuoi Puoi','Tra tante offerte la tua','Se Vuoi Puoi 2','E amore al primo acquisto','Noi ci siamo', 'Sconti batticuore']\n",
    "\n",
    "    df.NOME_CAMPAGNA.replace(pattern, 'other', inplace = True)\n",
    "\n",
    "    df['SCONTO_PERC_MEDIO_NOME_CAMPAGNA'] = df.groupby('NOME_CAMPAGNA')['SCONTO_PERC'].transform('mean')"
   ]
  },
  {
   "cell_type": "markdown",
   "metadata": {},
   "source": [
    "## SMARTPHONES"
   ]
  },
  {
   "cell_type": "code",
   "execution_count": 225,
   "metadata": {},
   "outputs": [],
   "source": [
    "smartphones['DATA_INIZIO'] = pd.to_datetime(smartphones['DATA_INIZIO'])\n",
    "smartphones['DATA_FINE'] = pd.to_datetime(smartphones['DATA_FINE'])\n",
    "\n",
    "smartphones['Month'] = smartphones['DATA_INIZIO'].dt.month\n",
    "smartphones['Month'] = smartphones['Month'].astype(str)\n",
    "\n",
    "smartphones['Year'] = smartphones['DATA_INIZIO'].dt.year\n",
    "smartphones['Year'].replace([2018, 2019], 'PRE_COVID', inplace=True)\n",
    "smartphones['Year'].replace([2020, 2021], 'COVID', inplace=True)\n",
    "smartphones['Year'].replace([2022, 2023], 'POST_COVID', inplace=True)\n",
    "\n",
    "smartphones['OPERATOR'].fillna('SIM FREE', inplace=True)\n",
    "smartphones['OPERATOR'].replace('WIND', 'WINDTRE', inplace=True)"
   ]
  },
  {
   "cell_type": "code",
   "execution_count": 226,
   "metadata": {},
   "outputs": [],
   "source": [
    "nomi_campagna(smartphones)"
   ]
  },
  {
   "cell_type": "markdown",
   "metadata": {},
   "source": [
    "From the test set data, we divided the months into three bands according to their degree of profitability. The first band is assigned value 1, the second band value 2 and the third band value 3.\n",
    "\n",
    "As regards smartphones:\n",
    "\n",
    "November --> 2 \n",
    "\n",
    "December --> 3 "
   ]
  },
  {
   "cell_type": "code",
   "execution_count": 227,
   "metadata": {},
   "outputs": [],
   "source": [
    "smartphones['Month'].replace(['11'], 2, inplace=True)\n",
    "smartphones['Month'].replace(['12'], 3, inplace=True)\n",
    "smartphones.rename(columns={'Month': 'Month_Redditivity'}, inplace=True)"
   ]
  },
  {
   "cell_type": "code",
   "execution_count": 228,
   "metadata": {},
   "outputs": [],
   "source": [
    "smartphones['OPERATING_SYST'].replace('IOS', 1, inplace=True)\n",
    "smartphones['OPERATING_SYST'].replace('ANDROID', 0, inplace=True)"
   ]
  },
  {
   "cell_type": "markdown",
   "metadata": {},
   "source": [
    "## PC"
   ]
  },
  {
   "cell_type": "code",
   "execution_count": 229,
   "metadata": {},
   "outputs": [],
   "source": [
    "pc['DATA_INIZIO'] = pd.to_datetime(pc['DATA_INIZIO'])\n",
    "pc['DATA_FINE'] = pd.to_datetime(pc['DATA_FINE'])\n",
    "\n",
    "pc['Month'] = pc['DATA_INIZIO'].dt.month\n",
    "pc['Month'] = pc['Month'].astype(str)\n",
    "\n",
    "pc['Year'] = pc['DATA_INIZIO'].dt.year\n",
    "pc['Year'].replace([2018, 2019], 'PRE_COVID', inplace=True)\n",
    "pc['Year'].replace([2020, 2021], 'COVID', inplace=True)\n",
    "pc['Year'].replace([2022, 2023], 'POST_COVID', inplace=True)"
   ]
  },
  {
   "cell_type": "code",
   "execution_count": 230,
   "metadata": {},
   "outputs": [],
   "source": [
    "nomi_campagna(pc)"
   ]
  },
  {
   "cell_type": "markdown",
   "metadata": {},
   "source": [
    "From the test set data, we divided the months into three bands according to their degree of profitability. The first band is assigned value 1, the second band value 2 and the third band value 3.\n",
    "\n",
    "As regards pc:\n",
    "\n",
    "November --> 2  \n",
    "\n",
    "December --> 3 "
   ]
  },
  {
   "cell_type": "code",
   "execution_count": 231,
   "metadata": {},
   "outputs": [],
   "source": [
    "pc['Month'].replace(['11'], 2, inplace=True)\n",
    "pc['Month'].replace(['12'], 3, inplace=True)\n",
    "pc.rename(columns={'Month': 'Month_Redditivity'}, inplace=True)"
   ]
  },
  {
   "cell_type": "markdown",
   "metadata": {},
   "source": [
    "## WASH"
   ]
  },
  {
   "cell_type": "code",
   "execution_count": 232,
   "metadata": {},
   "outputs": [],
   "source": [
    "wash['DATA_INIZIO'] = pd.to_datetime(wash['DATA_INIZIO'])\n",
    "wash['DATA_FINE'] = pd.to_datetime(wash['DATA_FINE'])\n",
    "\n",
    "wash['Month'] = wash['DATA_INIZIO'].dt.month\n",
    "wash['Month'] = wash['Month'].astype(str)\n",
    "\n",
    "wash['Year'] = wash['DATA_INIZIO'].dt.year\n",
    "wash['Year'].replace([2018, 2019], 'PRE_COVID', inplace=True)\n",
    "wash['Year'].replace([2020, 2021], 'COVID', inplace=True)\n",
    "wash['Year'].replace([2022, 2023], 'POST_COVID', inplace=True)"
   ]
  },
  {
   "cell_type": "code",
   "execution_count": 233,
   "metadata": {},
   "outputs": [],
   "source": [
    "nomi_campagna(wash)"
   ]
  },
  {
   "cell_type": "markdown",
   "metadata": {},
   "source": [
    "From the test set data, we divided the months into three bands according to their degree of profitability. The first band is assigned value 1, the second band value 2 and the third band value 3.\n",
    "\n",
    "As regards wash:\n",
    "\n",
    "November --> 2  \n",
    "\n",
    "December --> 2 "
   ]
  },
  {
   "cell_type": "code",
   "execution_count": 234,
   "metadata": {},
   "outputs": [],
   "source": [
    "wash['Month'].replace(['11'], 2, inplace=True)\n",
    "wash['Month'].replace(['12'], 2, inplace=True)\n",
    "wash.rename(columns={'Month': 'Month_Redditivity'}, inplace=True)"
   ]
  },
  {
   "cell_type": "markdown",
   "metadata": {},
   "source": [
    "## CORE WEAR"
   ]
  },
  {
   "cell_type": "code",
   "execution_count": 235,
   "metadata": {},
   "outputs": [],
   "source": [
    "core_wear['DATA_INIZIO'] = pd.to_datetime(core_wear['DATA_INIZIO'])\n",
    "core_wear['DATA_FINE'] = pd.to_datetime(core_wear['DATA_FINE'])\n",
    "\n",
    "core_wear['Month'] = core_wear['DATA_INIZIO'].dt.month\n",
    "core_wear['Month'] = core_wear['Month'].astype(str)\n",
    "\n",
    "core_wear['Year'] = core_wear['DATA_INIZIO'].dt.year\n",
    "core_wear['Year'].replace([2018, 2019], 'PRE_COVID', inplace=True)\n",
    "core_wear['Year'].replace([2020, 2021], 'COVID', inplace=True)\n",
    "core_wear['Year'].replace([2022, 2023], 'POST_COVID', inplace=True)"
   ]
  },
  {
   "cell_type": "code",
   "execution_count": 236,
   "metadata": {},
   "outputs": [],
   "source": [
    "nomi_campagna(core_wear)"
   ]
  },
  {
   "cell_type": "markdown",
   "metadata": {},
   "source": [
    "From the test set data, we divided the months into three bands according to their degree of profitability. The first band is assigned value 1, the second band value 2 and the third band value 3.\n",
    "\n",
    "As regards core_wear:\n",
    "\n",
    "November --> 2 fascia \n",
    "\n",
    "December --> 5 fascia\n",
    "\n",
    "We decided to allocate 5 to December because it is extremely more profitable for this product group than the other months"
   ]
  },
  {
   "cell_type": "code",
   "execution_count": 237,
   "metadata": {},
   "outputs": [],
   "source": [
    "core_wear['Month'].replace(['11'], 2, inplace=True)\n",
    "core_wear['Month'].replace(['12'], 5, inplace=True)\n",
    "core_wear.rename(columns={'Month': 'Month_Redditivity'}, inplace=True)"
   ]
  },
  {
   "cell_type": "code",
   "execution_count": 238,
   "metadata": {},
   "outputs": [],
   "source": [
    "core_wear['DISPLAY_QUALITY'].replace('NOT DEFINED', np.nan, inplace=True)\n",
    "core_wear['DISPLAY_QUALITY'].replace('ELECTRONIC INK', 1, inplace=True)\n",
    "core_wear['DISPLAY_QUALITY'].replace('LCD-DISPLAY', 2, inplace=True)\n",
    "core_wear['DISPLAY_QUALITY'].replace('OLED-DISPLAY', 3, inplace=True)\n",
    "core_wear['DISPLAY_QUALITY'].fillna(round(core_wear['DISPLAY_QUALITY'].mean(), 2), inplace=True)\n"
   ]
  },
  {
   "cell_type": "markdown",
   "metadata": {},
   "source": [
    "## TV"
   ]
  },
  {
   "cell_type": "code",
   "execution_count": 239,
   "metadata": {},
   "outputs": [],
   "source": [
    "tv['DATA_INIZIO'] = pd.to_datetime(tv['DATA_INIZIO'])\n",
    "tv['DATA_FINE'] = pd.to_datetime(tv['DATA_FINE'])\n",
    "\n",
    "tv['Month'] = tv['DATA_INIZIO'].dt.month\n",
    "tv['Month'] = tv['Month'].astype(str)\n",
    "\n",
    "tv['Year'] = tv['DATA_INIZIO'].dt.year\n",
    "tv['Year'].replace([2018, 2019], 'PRE_COVID', inplace=True)\n",
    "tv['Year'].replace([2020, 2021], 'COVID', inplace=True)\n",
    "tv['Year'].replace([2022, 2023], 'POST_COVID', inplace=True)"
   ]
  },
  {
   "cell_type": "code",
   "execution_count": 240,
   "metadata": {},
   "outputs": [],
   "source": [
    "nomi_campagna(tv)"
   ]
  },
  {
   "cell_type": "markdown",
   "metadata": {},
   "source": [
    "From the test set data, we divided the months into three bands according to their degree of profitability. The first band is assigned value 1, the second band value 2 and the third band value 3.\n",
    "\n",
    "As regards tv:\n",
    "\n",
    "November --> 2  \n",
    "\n",
    "December --> 2 "
   ]
  },
  {
   "cell_type": "code",
   "execution_count": 241,
   "metadata": {},
   "outputs": [],
   "source": [
    "tv['Month'].replace(['11'], 2, inplace=True)\n",
    "tv['Month'].replace(['12'], 2, inplace=True)\n",
    "tv.rename(columns={'Month': 'Month_Redditivity'}, inplace=True)"
   ]
  },
  {
   "cell_type": "markdown",
   "metadata": {},
   "source": [
    "# SALVATAGGIO DATASET PER TEST"
   ]
  },
  {
   "cell_type": "code",
   "execution_count": 242,
   "metadata": {},
   "outputs": [],
   "source": [
    "#smartphones.to_csv('/Users/vincenzocamerlengo/Desktop/Data Science in Action/Unieuro Dataset-20240305/dati_luiss_2/test/smartphone_test.csv', index=False)\n",
    "#pc.to_csv('/Users/vincenzocamerlengo/Desktop/Data Science in Action/Unieuro Dataset-20240305/dati_luiss_2/test/pc_test.csv', index=False)\n",
    "#wash.to_csv('/Users/vincenzocamerlengo/Desktop/Data Science in Action/Unieuro Dataset-20240305/dati_luiss_2/test/wash_test.csv', index=False)\n",
    "#core_wear.to_csv('/Users/vincenzocamerlengo/Desktop/Data Science in Action/Unieuro Dataset-20240305/dati_luiss_2/test/core_wear_test.csv', index=False)\n",
    "#tv.to_csv('/Users/vincenzocamerlengo/Desktop/Data Science in Action/Unieuro Dataset-20240305/dati_luiss_2/test/tv_test.csv', index=False)"
   ]
  },
  {
   "cell_type": "markdown",
   "metadata": {},
   "source": [
    "# MODELLI"
   ]
  },
  {
   "cell_type": "markdown",
   "metadata": {},
   "source": [
    "## SMARTPHONES"
   ]
  },
  {
   "cell_type": "code",
   "execution_count": 23,
   "metadata": {},
   "outputs": [],
   "source": [
    "smartphones_test = pd.read_csv('./Working Code/Datasets/smartphone_test.csv')\n",
    "smartphones_test['DATA_INIZIO'] = pd.to_datetime(smartphones_test['DATA_INIZIO'])\n",
    "smartphones_test['OPERATOR'].fillna('SIM FREE', inplace=True)\n",
    "\n",
    "smartphones_train = pd.read_csv('./Working Code/Datasets/smartphones1.csv')\n",
    "smartphones_train['DATA_INIZIO'] = pd.to_datetime(smartphones_train['DATA_INIZIO'])\n",
    "smartphones_train = smartphones_train[smartphones_train['DATA_INIZIO'].dt.year >= 2022].reset_index()\n",
    "smartphones_train.drop('index', axis=1, inplace=True)"
   ]
  },
  {
   "cell_type": "code",
   "execution_count": 24,
   "metadata": {},
   "outputs": [],
   "source": [
    "X_test = smartphones_test[['PREZZO_PROMO', 'PREZZO_LISTINO', 'STOCK_PZ',\n",
    "                 'TIPOLOGIA_PRODOTTO', 'SCONTO_PERC', 'KPI_1',\n",
    "                 'KPI_2', 'KPI_3', 'KPI_4', 'KPI_5', 'QTA_storico',\n",
    "                 'FATTURATO_storico', 'DURATA_VOLANTINO_IN_GIORNI',\n",
    "                 'DISPLAY_SIZE', 'OPERATOR', 'NUMBER_OF_SIM',\n",
    "                 'CAPACITY', 'GENERATION', 'OPERATING_SYST', 'Month_Redditivity',\n",
    "                 'SCONTO_PERC_MEDIO_VOLANTINO', 'SCONTO_PERC_MEDIO_NOME_CAMPAGNA']]\n",
    "\n",
    "from sklearn.preprocessing import OneHotEncoder\n",
    "ohe = OneHotEncoder(sparse = False)\n",
    "oheTransform = ohe.fit_transform(X_test[['TIPOLOGIA_PRODOTTO', 'OPERATOR']])\n",
    "oheTransform = pd.DataFrame(oheTransform, columns=ohe.get_feature_names_out())\n",
    "\n",
    "final_df = pd.concat([X_test, oheTransform], axis=1)\n",
    "\n",
    "final_df = final_df.drop(['TIPOLOGIA_PRODOTTO', 'OPERATOR'], axis = 1)\n",
    "\n",
    "X_test = final_df.copy()\n",
    "TIPOLOGIA_PRODOTTO_ND = [0] * len(X_test)\n",
    "X_test.insert(20, 'TIPOLOGIA_PRODOTTO_ND', TIPOLOGIA_PRODOTTO_ND)\n",
    "\n",
    "X_train = smartphones_train[['PREZZO_PROMO', 'PREZZO_LISTINO', 'STOCK_PZ',\n",
    "                 'TIPOLOGIA_PRODOTTO', 'SCONTO_PERC', 'KPI_1',\n",
    "                 'KPI_2', 'KPI_3', 'KPI_4', 'KPI_5', 'QTA_storico',\n",
    "                 'FATTURATO_storico', 'DURATA_VOLANTINO_IN_GIORNI',\n",
    "                 'DISPLAY_SIZE', 'OPERATOR', 'NUMBER_OF_SIM',\n",
    "                 'CAPACITY', 'GENERATION', 'OPERATING_SYST', 'Month_Redditivity',\n",
    "                 'SCONTO_PERC_MEDIO_VOLANTINO', 'SCONTO_PERC_MEDIO_NOME_CAMPAGNA']]\n",
    "\n",
    "from sklearn.preprocessing import OneHotEncoder\n",
    "ohe = OneHotEncoder(sparse = False)\n",
    "oheTransform = ohe.fit_transform(X_train[['TIPOLOGIA_PRODOTTO', 'OPERATOR']])\n",
    "oheTransform = pd.DataFrame(oheTransform, columns=ohe.get_feature_names_out())\n",
    "\n",
    "final_df = pd.concat([X_train, oheTransform], axis=1)\n",
    "\n",
    "final_df = final_df.drop(['TIPOLOGIA_PRODOTTO', 'OPERATOR'], axis = 1)\n",
    "\n",
    "X_train = final_df.copy()\n",
    "\n",
    "y_train = smartphones_train[['QTA']].values"
   ]
  },
  {
   "cell_type": "markdown",
   "metadata": {},
   "source": [
    "Our best model for the smartphones is the Linear Regression"
   ]
  },
  {
   "cell_type": "code",
   "execution_count": 27,
   "metadata": {},
   "outputs": [],
   "source": [
    "from sklearn.preprocessing import StandardScaler\n",
    "column_names = X_train.columns.tolist()\n",
    "scaler = StandardScaler()\n",
    "X_train = scaler.fit_transform(X_train)\n",
    "X_test = scaler.transform(X_test)\n",
    "\n",
    "from sklearn.linear_model import LinearRegression\n",
    "classifier = LinearRegression()\n",
    "classifier.fit(X_train, y_train)\n",
    "\n",
    "y_pred = classifier.predict(X_test)\n",
    "y_pred = np.where(y_pred < 0, 0, y_pred)\n"
   ]
  },
  {
   "cell_type": "code",
   "execution_count": 45,
   "metadata": {},
   "outputs": [],
   "source": [
    "smartphones_forecast = pd.DataFrame({'CODICE_VOLANTINO' : smartphones_test['CODICE_VOLANTINO'],\n",
    "                                     'ART_COD' : smartphones_test['ART_COD'],\n",
    "                                     'FORECAST' : y_pred.flatten().tolist()})"
   ]
  },
  {
   "cell_type": "markdown",
   "metadata": {},
   "source": [
    "## PC"
   ]
  },
  {
   "cell_type": "code",
   "execution_count": 47,
   "metadata": {},
   "outputs": [],
   "source": [
    "pc_test = pd.read_csv('./Working Code/Datasets/pc_test.csv')\n",
    "pc_test['DATA_INIZIO'] = pd.to_datetime(pc_test['DATA_INIZIO'])\n",
    "\n",
    "pc_train = pd.read_csv('./Working Code/Datasets/pc1.csv')\n",
    "pc_train['DATA_INIZIO'] = pd.to_datetime(pc_train['DATA_INIZIO'])\n",
    "pc_train = pc_train[pc_train['DATA_INIZIO'].dt.year >= 2022].reset_index()\n",
    "pc_train.drop('index', axis=1, inplace=True)"
   ]
  },
  {
   "cell_type": "code",
   "execution_count": 48,
   "metadata": {},
   "outputs": [],
   "source": [
    "X_test = pc_test[['PREZZO_PROMO', 'PREZZO_LISTINO', 'STOCK_PZ',\n",
    "        'TIPOLOGIA_PRODOTTO','SCONTO_PERC', 'KPI_1',\n",
    "        'KPI_2', 'KPI_3', 'KPI_4', 'KPI_5', 'QTA_storico',\n",
    "        'FATTURATO_storico', 'DURATA_VOLANTINO_IN_GIORNI',\n",
    "        'STORAGE_GB', 'RAM_GB', 'DISPLAY_SIZE', 'CONVERTIBLE',\n",
    "        'SCONTO_PERC_MEDIO_VOLANTINO', 'VERSION_NOT_DEFINED',\n",
    "        'VERSION_INTEL', 'VERSION_APPLE', 'VERSION_RAD',\n",
    "        'VERSION_GEF', 'QUALITY_VERSION', 'QUALITY_PROCESSOR',\n",
    "        'Month_Redditivity', 'SCONTO_PERC_MEDIO_NOME_CAMPAGNA']]\n",
    "\n",
    "\n",
    "from sklearn.preprocessing import OneHotEncoder\n",
    "ohe = OneHotEncoder(sparse = False)\n",
    "oheTransform = ohe.fit_transform(X_test[['TIPOLOGIA_PRODOTTO']])\n",
    "oheTransform = pd.DataFrame(oheTransform, columns=ohe.get_feature_names_out())\n",
    "\n",
    "final_df = pd.concat([X_test, oheTransform], axis=1)\n",
    "\n",
    "final_df = final_df.drop(['TIPOLOGIA_PRODOTTO'], axis = 1)\n",
    "\n",
    "X_test = final_df.copy()\n",
    "TIPOLOGIA_PRODOTTO_ND = [0] * len(X_test)\n",
    "X_test.insert(26, 'TIPOLOGIA_PRODOTTO_ND', TIPOLOGIA_PRODOTTO_ND)\n",
    "\n",
    "X_train = pc_train[['PREZZO_PROMO', 'PREZZO_LISTINO', 'STOCK_PZ',\n",
    "        'TIPOLOGIA_PRODOTTO','SCONTO_PERC', 'KPI_1',\n",
    "        'KPI_2', 'KPI_3', 'KPI_4', 'KPI_5', 'QTA_storico',\n",
    "        'FATTURATO_storico', 'DURATA_VOLANTINO_IN_GIORNI',\n",
    "        'STORAGE_GB', 'RAM_GB', 'DISPLAY_SIZE', 'CONVERTIBLE',\n",
    "        'SCONTO_PERC_MEDIO_VOLANTINO', 'VERSION_NOT_DEFINED',\n",
    "        'VERSION_INTEL', 'VERSION_APPLE', 'VERSION_RAD',\n",
    "        'VERSION_GEF', 'QUALITY_VERSION', 'QUALITY_PROCESSOR',\n",
    "        'Month_Redditivity', 'SCONTO_PERC_MEDIO_NOME_CAMPAGNA']]\n",
    "\n",
    "\n",
    "from sklearn.preprocessing import OneHotEncoder\n",
    "ohe = OneHotEncoder(sparse = False)\n",
    "oheTransform = ohe.fit_transform(X_train[['TIPOLOGIA_PRODOTTO']])\n",
    "oheTransform = pd.DataFrame(oheTransform, columns=ohe.get_feature_names_out())\n",
    "\n",
    "final_df = pd.concat([X_train, oheTransform], axis=1)\n",
    "\n",
    "final_df = final_df.drop(['TIPOLOGIA_PRODOTTO'], axis = 1)\n",
    "\n",
    "X_train = final_df.copy()\n",
    "\n",
    "y_train = pc_train[['QTA']].values"
   ]
  },
  {
   "cell_type": "markdown",
   "metadata": {},
   "source": [
    "Our best model is an XGBoost"
   ]
  },
  {
   "cell_type": "code",
   "execution_count": 49,
   "metadata": {},
   "outputs": [],
   "source": [
    "hyperparameters = {'subsample': 0.9, 'n_estimators': 400, 'min_child_weight': 1, 'max_depth': 5, 'learning_rate': 0.01, 'gamma': 0.2, 'colsample_bytree': 1.0}\n",
    "\n",
    "import xgboost as xgb\n",
    "\n",
    "xgbr = xgb.XGBRegressor(random_state=69, **hyperparameters)\n",
    "xgbr.fit(X_train, y_train)\n",
    "y_pred = xgbr.predict(X_test)\n",
    "y_pred = np.where(y_pred < 0, 0, y_pred)"
   ]
  },
  {
   "cell_type": "code",
   "execution_count": 50,
   "metadata": {},
   "outputs": [],
   "source": [
    "pc_forecast = pd.DataFrame({'CODICE_VOLANTINO' : pc_test['CODICE_VOLANTINO'],\n",
    "                                     'ART_COD' : pc_test['ART_COD'],\n",
    "                                     'FORECAST' : y_pred})"
   ]
  },
  {
   "cell_type": "markdown",
   "metadata": {},
   "source": [
    "## WASH"
   ]
  },
  {
   "cell_type": "code",
   "execution_count": 52,
   "metadata": {},
   "outputs": [],
   "source": [
    "wash_test = pd.read_csv('./Working Code/Datasets/wash_test.csv')\n",
    "wash_test['DATA_INIZIO'] = pd.to_datetime(wash_test['DATA_INIZIO'])\n",
    "\n",
    "wash_train = pd.read_csv('./Working Code/Datasets/wash1.csv')\n",
    "wash_train['DATA_INIZIO'] = pd.to_datetime(wash_train['DATA_INIZIO'])\n",
    "wash_train = wash_train[wash_train['DATA_INIZIO'].dt.year >= 2022].reset_index()\n",
    "wash_train.drop('index', axis=1, inplace=True)"
   ]
  },
  {
   "cell_type": "code",
   "execution_count": 53,
   "metadata": {},
   "outputs": [],
   "source": [
    "X_test = wash_test[['PREZZO_PROMO', 'PREZZO_LISTINO', 'STOCK_PZ',\n",
    "        'TIPOLOGIA_PRODOTTO','SCONTO_PERC', 'KPI_1',\n",
    "        'KPI_2', 'KPI_3', 'KPI_4', 'KPI_5', 'QTA_storico',\n",
    "        'FATTURATO_storico', 'DURATA_VOLANTINO_IN_GIORNI',\n",
    "        'TYPE', 'TOPLOADING', 'LOADING_KG', 'ENERGY_CLASS',\n",
    "        'DEPTH_CM>48', 'SMART_CONNECT', 'SCONTO_PERC_MEDIO_VOLANTINO', 'Month_Redditivity',\n",
    "        'SCONTO_PERC_MEDIO_NOME_CAMPAGNA']]\n",
    "\n",
    "from sklearn.preprocessing import OneHotEncoder\n",
    "ohe = OneHotEncoder(sparse = False)\n",
    "oheTransform = ohe.fit_transform(X_test[['TIPOLOGIA_PRODOTTO']])\n",
    "oheTransform = pd.DataFrame(oheTransform, columns=ohe.get_feature_names_out())\n",
    "\n",
    "final_df = pd.concat([X_test, oheTransform], axis=1)\n",
    "\n",
    "final_df = final_df.drop(['TIPOLOGIA_PRODOTTO'], axis = 1)\n",
    "\n",
    "X_test = final_df.copy()\n",
    "TIPOLOGIA_PRODOTTO_ND = [0] * len(X_test)\n",
    "TIPOLOGIA_PRODOTTO_Sostitutivo = [0] * len(X_test)\n",
    "X_test.insert(21, 'TIPOLOGIA_PRODOTTO_ND', TIPOLOGIA_PRODOTTO_ND)\n",
    "X_test.insert(23, 'TIPOLOGIA_PRODOTTO_Sostitutivo', TIPOLOGIA_PRODOTTO_Sostitutivo)\n",
    "\n",
    "\n",
    "X_train = wash_train[['PREZZO_PROMO', 'PREZZO_LISTINO', 'STOCK_PZ',\n",
    "        'TIPOLOGIA_PRODOTTO','SCONTO_PERC', 'KPI_1',\n",
    "        'KPI_2', 'KPI_3', 'KPI_4', 'KPI_5', 'QTA_storico',\n",
    "        'FATTURATO_storico', 'DURATA_VOLANTINO_IN_GIORNI',\n",
    "        'TYPE', 'TOPLOADING', 'LOADING_KG', 'ENERGY_CLASS',\n",
    "        'DEPTH_CM>48', 'SMART_CONNECT', 'SCONTO_PERC_MEDIO_VOLANTINO', 'Month_Redditivity',\n",
    "        'SCONTO_PERC_MEDIO_NOME_CAMPAGNA']]\n",
    "\n",
    "from sklearn.preprocessing import OneHotEncoder\n",
    "ohe = OneHotEncoder(sparse = False)\n",
    "oheTransform = ohe.fit_transform(X_train[['TIPOLOGIA_PRODOTTO']])\n",
    "oheTransform = pd.DataFrame(oheTransform, columns=ohe.get_feature_names_out())\n",
    "\n",
    "final_df = pd.concat([X_train, oheTransform], axis=1)\n",
    "\n",
    "final_df = final_df.drop(['TIPOLOGIA_PRODOTTO'], axis = 1)\n",
    "\n",
    "X_train = final_df.copy()\n",
    "\n",
    "y_train = wash_train[['QTA']].values"
   ]
  },
  {
   "cell_type": "markdown",
   "metadata": {},
   "source": [
    "Our best model is a Random Forest"
   ]
  },
  {
   "cell_type": "code",
   "execution_count": 54,
   "metadata": {},
   "outputs": [],
   "source": [
    "hyperparameters = {'n_estimators': 300, 'min_samples_split': 2, 'min_samples_leaf': 1, 'max_features': 'sqrt', 'max_depth': 40, 'bootstrap': False}\n",
    "\n",
    "from sklearn.ensemble import RandomForestRegressor\n",
    "\n",
    "rfr = RandomForestRegressor(random_state=69, **hyperparameters)\n",
    "rfr.fit(X_train, y_train)\n",
    "y_pred = rfr.predict(X_test)\n",
    "y_pred = np.where(y_pred < 0, 0, y_pred)"
   ]
  },
  {
   "cell_type": "code",
   "execution_count": 55,
   "metadata": {},
   "outputs": [],
   "source": [
    "wash_forecast = pd.DataFrame({'CODICE_VOLANTINO' : wash_test['CODICE_VOLANTINO'],\n",
    "                                     'ART_COD' : wash_test['ART_COD'],\n",
    "                                     'FORECAST' : y_pred})"
   ]
  },
  {
   "cell_type": "markdown",
   "metadata": {},
   "source": [
    "## CORE WEAR"
   ]
  },
  {
   "cell_type": "code",
   "execution_count": 57,
   "metadata": {},
   "outputs": [],
   "source": [
    "core_wear_test = pd.read_csv('./Working Code/Datasets/core_wear_test.csv')\n",
    "core_wear_test['DATA_INIZIO'] = pd.to_datetime(core_wear_test['DATA_INIZIO'])\n",
    "\n",
    "core_wear_train = pd.read_csv('./Working Code/Datasets/core_wear1.csv')\n",
    "core_wear_train['DATA_INIZIO'] = pd.to_datetime(core_wear_train['DATA_INIZIO'])\n",
    "core_wear_train = core_wear_train[core_wear_train['DATA_INIZIO'].dt.year >= 2022].reset_index()\n",
    "core_wear_train.drop('index', axis=1, inplace=True)"
   ]
  },
  {
   "cell_type": "code",
   "execution_count": 58,
   "metadata": {},
   "outputs": [],
   "source": [
    "X_test = core_wear_test[['PREZZO_PROMO', 'PREZZO_LISTINO', 'STOCK_PZ',\n",
    "        'TIPOLOGIA_PRODOTTO','SCONTO_PERC', 'KPI_1',\n",
    "        'KPI_2', 'KPI_3', 'KPI_4', 'KPI_5', 'QTA_storico',\n",
    "        'FATTURATO_storico', 'DURATA_VOLANTINO_IN_GIORNI',\n",
    "        'DISPLAY_QUALITY', 'BLUETOOTH', 'WIFI', 'DISPLAY_SIZE',\n",
    "        'SCONTO_PERC_MEDIO_VOLANTINO', 'Month_Redditivity', 'SCONTO_PERC_MEDIO_NOME_CAMPAGNA']]\n",
    "\n",
    "from sklearn.preprocessing import OneHotEncoder\n",
    "ohe = OneHotEncoder(sparse = False)\n",
    "oheTransform = ohe.fit_transform(X_test[['TIPOLOGIA_PRODOTTO']])\n",
    "oheTransform = pd.DataFrame(oheTransform, columns=ohe.get_feature_names_out())\n",
    "\n",
    "final_df = pd.concat([X_test, oheTransform], axis=1)\n",
    "\n",
    "final_df = final_df.drop(['TIPOLOGIA_PRODOTTO'], axis = 1)\n",
    "\n",
    "X_test = final_df.copy()\n",
    "TIPOLOGIA_PRODOTTO_ND = [0] * len(X_test)\n",
    "X_test.insert(19, 'TIPOLOGIA_PRODOTTO_ND', TIPOLOGIA_PRODOTTO_ND)\n",
    "\n",
    "\n",
    "\n",
    "X_train = core_wear_train[['PREZZO_PROMO', 'PREZZO_LISTINO', 'STOCK_PZ',\n",
    "        'TIPOLOGIA_PRODOTTO','SCONTO_PERC', 'KPI_1',\n",
    "        'KPI_2', 'KPI_3', 'KPI_4', 'KPI_5', 'QTA_storico',\n",
    "        'FATTURATO_storico', 'DURATA_VOLANTINO_IN_GIORNI',\n",
    "        'DISPLAY_QUALITY', 'BLUETOOTH', 'WIFI', 'DISPLAY_SIZE',\n",
    "        'SCONTO_PERC_MEDIO_VOLANTINO', 'Month_Redditivity', 'SCONTO_PERC_MEDIO_NOME_CAMPAGNA']]\n",
    "\n",
    "from sklearn.preprocessing import OneHotEncoder\n",
    "ohe = OneHotEncoder(sparse = False)\n",
    "oheTransform = ohe.fit_transform(X_train[['TIPOLOGIA_PRODOTTO']])\n",
    "oheTransform = pd.DataFrame(oheTransform, columns=ohe.get_feature_names_out())\n",
    "\n",
    "final_df = pd.concat([X_train, oheTransform], axis=1)\n",
    "\n",
    "final_df = final_df.drop(['TIPOLOGIA_PRODOTTO'], axis = 1)\n",
    "\n",
    "X_train = final_df.copy()\n",
    "\n",
    "y_train = core_wear_train[['QTA']].values"
   ]
  },
  {
   "cell_type": "markdown",
   "metadata": {},
   "source": [
    "Our best model is an XGBoost"
   ]
  },
  {
   "cell_type": "code",
   "execution_count": 59,
   "metadata": {},
   "outputs": [],
   "source": [
    "hyperparameters = {'subsample': 0.6, 'n_estimators': 500, 'min_child_weight': 3, 'max_depth': 9, 'learning_rate': 0.05, 'gamma': 0, 'colsample_bytree': 0.9}\n",
    "\n",
    "import xgboost as xgb\n",
    "\n",
    "xgbr = xgb.XGBRegressor(random_state=69, **hyperparameters)\n",
    "xgbr.fit(X_train, y_train)\n",
    "y_pred = xgbr.predict(X_test)\n",
    "y_pred = np.where(y_pred < 0, 0, y_pred)"
   ]
  },
  {
   "cell_type": "code",
   "execution_count": 60,
   "metadata": {},
   "outputs": [],
   "source": [
    "core_wear_forecast = pd.DataFrame({'CODICE_VOLANTINO' : core_wear_test['CODICE_VOLANTINO'],\n",
    "                                     'ART_COD' : core_wear_test['ART_COD'],\n",
    "                                     'FORECAST' : y_pred})"
   ]
  },
  {
   "cell_type": "markdown",
   "metadata": {},
   "source": [
    "## TV"
   ]
  },
  {
   "cell_type": "code",
   "execution_count": 62,
   "metadata": {},
   "outputs": [],
   "source": [
    "tv_test = pd.read_csv('./Working Code/Datasets/tv_test.csv')\n",
    "tv_test['DATA_INIZIO'] = pd.to_datetime(tv_test['DATA_INIZIO'])\n",
    "\n",
    "tv_train = pd.read_csv('./Working Code/Datasets/tv1.csv')\n",
    "tv_train['DATA_INIZIO'] = pd.to_datetime(tv_train['DATA_INIZIO'])\n",
    "tv_train = tv_train[tv_train['DATA_INIZIO'].dt.year >= 2022].reset_index()\n",
    "tv_train.drop('index', axis=1, inplace=True)"
   ]
  },
  {
   "cell_type": "code",
   "execution_count": 63,
   "metadata": {},
   "outputs": [],
   "source": [
    "X_test = tv_test[['PREZZO_PROMO', 'PREZZO_LISTINO', 'STOCK_PZ',\n",
    "        'SCONTO_PERC', 'KPI_1',\n",
    "        'KPI_2', 'KPI_3', 'KPI_4', 'KPI_5', 'QTA_storico',\n",
    "        'FATTURATO_storico', 'DURATA_VOLANTINO_IN_GIORNI',\n",
    "        'DISPLAY_SIZE', 'HD_QUALITY', 'OLED', 'SMART',\n",
    "        'MFM', 'WCG', 'MINILED', 'SCONTO_PERC_MEDIO_VOLANTINO', 'Month_Redditivity',\n",
    "        'SCONTO_PERC_MEDIO_NOME_CAMPAGNA']]\n",
    "\n",
    "X_train = tv_train[['PREZZO_PROMO', 'PREZZO_LISTINO', 'STOCK_PZ',\n",
    "        'SCONTO_PERC', 'KPI_1',\n",
    "        'KPI_2', 'KPI_3', 'KPI_4', 'KPI_5', 'QTA_storico',\n",
    "        'FATTURATO_storico', 'DURATA_VOLANTINO_IN_GIORNI',\n",
    "        'DISPLAY_SIZE', 'HD_QUALITY', 'OLED', 'SMART',\n",
    "        'MFM', 'WCG', 'MINILED', 'SCONTO_PERC_MEDIO_VOLANTINO', 'Month_Redditivity',\n",
    "        'SCONTO_PERC_MEDIO_NOME_CAMPAGNA']]\n",
    "\n",
    "y_train = tv_train[['QTA']].values\n"
   ]
  },
  {
   "cell_type": "markdown",
   "metadata": {},
   "source": [
    "Our best model is an XGBoost"
   ]
  },
  {
   "cell_type": "code",
   "execution_count": 64,
   "metadata": {},
   "outputs": [],
   "source": [
    "hyperparameters = {'subsample': 0.6, 'n_estimators': 300, 'min_child_weight': 2, 'max_depth': 5, 'learning_rate': 0.01, 'gamma': 0, 'colsample_bytree': 0.6}\n",
    "\n",
    "import xgboost as xgb\n",
    "\n",
    "xgbr = xgb.XGBRegressor(random_state=69, **hyperparameters)\n",
    "xgbr.fit(X_train, y_train)\n",
    "y_pred = xgbr.predict(X_test)\n",
    "y_pred = np.where(y_pred < 0, 0, y_pred)"
   ]
  },
  {
   "cell_type": "code",
   "execution_count": 65,
   "metadata": {},
   "outputs": [],
   "source": [
    "tv_forecast = pd.DataFrame({'CODICE_VOLANTINO' : tv_test['CODICE_VOLANTINO'],\n",
    "                                     'ART_COD' : tv_test['ART_COD'],\n",
    "                                     'FORECAST' : y_pred})"
   ]
  },
  {
   "cell_type": "markdown",
   "metadata": {},
   "source": [
    "# OUR FORECAST"
   ]
  },
  {
   "cell_type": "code",
   "execution_count": 67,
   "metadata": {},
   "outputs": [],
   "source": [
    "forecast = pd.concat([smartphones_forecast, pc_forecast, wash_forecast, core_wear_forecast, tv_forecast], ignore_index=True)"
   ]
  },
  {
   "cell_type": "code",
   "execution_count": 68,
   "metadata": {},
   "outputs": [
    {
     "data": {
      "text/plain": [
       "(1382, 3)"
      ]
     },
     "execution_count": 68,
     "metadata": {},
     "output_type": "execute_result"
    }
   ],
   "source": [
    "forecast.shape"
   ]
  },
  {
   "cell_type": "code",
   "execution_count": 69,
   "metadata": {},
   "outputs": [],
   "source": [
    "#forecast.to_csv('/Users/vincenzocamerlengo/Desktop/Data Science in Action/Unieuro Dataset-20240305/dati_luiss_2/test/FORECAST.csv', index=False)"
   ]
  }
 ],
 "metadata": {
  "kernelspec": {
   "display_name": "base",
   "language": "python",
   "name": "python3"
  },
  "language_info": {
   "codemirror_mode": {
    "name": "ipython",
    "version": 3
   },
   "file_extension": ".py",
   "mimetype": "text/x-python",
   "name": "python",
   "nbconvert_exporter": "python",
   "pygments_lexer": "ipython3",
   "version": "3.9.13"
  }
 },
 "nbformat": 4,
 "nbformat_minor": 2
}
