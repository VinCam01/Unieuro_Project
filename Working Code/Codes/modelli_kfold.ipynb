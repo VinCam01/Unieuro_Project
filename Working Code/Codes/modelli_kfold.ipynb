{
 "cells": [
  {
   "cell_type": "code",
   "execution_count": 1,
   "metadata": {},
   "outputs": [],
   "source": [
    "import pandas as pd\n",
    "import matplotlib.pyplot as plt\n",
    "import seaborn as sns\n",
    "from pandas import Timedelta\n",
    "import numpy as np\n",
    "import warnings\n",
    "warnings.filterwarnings(\"ignore\")\n",
    "\n",
    "\n",
    "pd.set_option('display.max_columns', None)"
   ]
  },
  {
   "cell_type": "markdown",
   "metadata": {},
   "source": [
    "# SMARTPHONE"
   ]
  },
  {
   "cell_type": "code",
   "execution_count": 2,
   "metadata": {},
   "outputs": [],
   "source": [
    "smartphones = pd.read_csv('./Working Code/Datasets/smartphones1.csv') "
   ]
  },
  {
   "cell_type": "code",
   "execution_count": 3,
   "metadata": {},
   "outputs": [],
   "source": [
    "X = smartphones[['PREZZO_PROMO', 'PREZZO_LISTINO', 'STOCK_PZ',\n",
    "                 'TIPOLOGIA_PRODOTTO', 'SCONTO_PERC', 'KPI_1',\n",
    "                 'KPI_2', 'KPI_3', 'KPI_4', 'KPI_5', 'QTA_storico',\n",
    "                 'FATTURATO_storico', 'DURATA_VOLANTINO_IN_GIORNI',\n",
    "                 'DISPLAY_SIZE', 'OPERATOR', 'NUMBER_OF_SIM',\n",
    "                 'CAPACITY', 'GENERATION', 'OPERATING_SYST', 'Month_Redditivity', 'Year',\n",
    "                 'SCONTO_PERC_MEDIO_VOLANTINO', 'SCONTO_PERC_MEDIO_NOME_CAMPAGNA']]\n",
    "y = smartphones[['QTA']].values\n",
    "\n",
    "from sklearn.preprocessing import OneHotEncoder\n",
    "ohe = OneHotEncoder(sparse = False)\n",
    "oheTransform = ohe.fit_transform(X[['TIPOLOGIA_PRODOTTO', 'OPERATOR', 'Year']])\n",
    "oheTransform = pd.DataFrame(oheTransform, columns=ohe.get_feature_names_out())\n",
    "\n",
    "final_df = pd.concat([X, oheTransform], axis=1)\n",
    "\n",
    "final_df = final_df.drop(['TIPOLOGIA_PRODOTTO', 'OPERATOR', 'Year'], axis = 1)"
   ]
  },
  {
   "cell_type": "markdown",
   "metadata": {},
   "source": [
    "## BENCHMARK"
   ]
  },
  {
   "cell_type": "markdown",
   "metadata": {},
   "source": [
    "Our benchmark consists of multiplying the average daily sales per product by the days the flyer is online"
   ]
  },
  {
   "cell_type": "code",
   "execution_count": 4,
   "metadata": {},
   "outputs": [
    {
     "name": "stdout",
     "output_type": "stream",
     "text": [
      "RMSE = 560.964044318735\n"
     ]
    }
   ],
   "source": [
    "\n",
    "from sklearn.metrics import mean_squared_error as mse\n",
    "\n",
    "bench = smartphones.copy(deep=True)\n",
    "bench = bench.dropna(subset=['QTA'])\n",
    "bench['Previsione'] = bench['QTA_storico']/30\n",
    "bench['Previsione'] *= bench['DURATA_VOLANTINO_IN_GIORNI']\n",
    "\n",
    "rmse = np.sqrt(mse(bench['QTA'], bench['Previsione']))\n",
    "\n",
    "print(f'RMSE = {rmse}')"
   ]
  },
  {
   "cell_type": "markdown",
   "metadata": {},
   "source": [
    "## REGRESSIONE LINEARE"
   ]
  },
  {
   "cell_type": "code",
   "execution_count": 5,
   "metadata": {},
   "outputs": [
    {
     "name": "stdout",
     "output_type": "stream",
     "text": [
      "Linear Regression RMSE scores per fold: [387.98317872 383.66799769 408.35662719 477.69460499 416.47195921\n",
      " 431.32142846 375.13961058 394.80470503 599.06876356 464.11491227]\n",
      "Linear Regression Average RMSE: 433.8623787697528\n"
     ]
    }
   ],
   "source": [
    "from sklearn.model_selection import KFold\n",
    "from sklearn.model_selection import cross_val_score\n",
    "from sklearn.linear_model import LinearRegression\n",
    "from sklearn.preprocessing import StandardScaler\n",
    "\n",
    "scaler = StandardScaler()\n",
    "final_df_scaled = scaler.fit_transform(final_df)\n",
    "\n",
    "kf = KFold(n_splits=10, shuffle=True, random_state=42)\n",
    "lr = LinearRegression()\n",
    "\n",
    "lr_scores = cross_val_score(lr, final_df_scaled, y, cv=kf, scoring='neg_mean_squared_error')\n",
    "lr_rmse_scores = np.sqrt(-lr_scores)\n",
    "\n",
    "print(f\"Linear Regression RMSE scores per fold: {lr_rmse_scores}\")\n",
    "print(f\"Linear Regression Average RMSE: {lr_rmse_scores.mean()}\")"
   ]
  },
  {
   "cell_type": "code",
   "execution_count": 6,
   "metadata": {},
   "outputs": [
    {
     "name": "stdout",
     "output_type": "stream",
     "text": [
      "\n",
      "Coefficients:\n",
      "PREZZO_PROMO: 89.59451333774543\n",
      "PREZZO_LISTINO: -204.76404583311978\n",
      "STOCK_PZ: 121.17951797137482\n",
      "SCONTO_PERC: 41.03912149905196\n",
      "KPI_1: 62.079898332851904\n",
      "KPI_2: -28.03368825675091\n",
      "KPI_3: 100.2718838081358\n",
      "KPI_4: 74.96525807712786\n",
      "KPI_5: 0.8536218965956865\n",
      "QTA_storico: 149.02465746064485\n",
      "FATTURATO_storico: -3.5388103862884432\n",
      "DURATA_VOLANTINO_IN_GIORNI: 63.75247839072945\n",
      "DISPLAY_SIZE: 41.166733326246415\n",
      "NUMBER_OF_SIM: -11.652266072837818\n",
      "CAPACITY: 20.08169922763983\n",
      "GENERATION: -20.487933644459407\n",
      "OPERATING_SYST: 77.37179883561758\n",
      "Month_Redditivity: 43.86587004224931\n",
      "SCONTO_PERC_MEDIO_VOLANTINO: 4.018875798233514\n",
      "SCONTO_PERC_MEDIO_NOME_CAMPAGNA: 28.27184531238472\n",
      "TIPOLOGIA_PRODOTTO_ND: 150458682409655.72\n",
      "TIPOLOGIA_PRODOTTO_Principale: 104398302555223.39\n",
      "TIPOLOGIA_PRODOTTO_Sostitutivo: 131186979120303.69\n",
      "OPERATOR_SIM FREE: 130931663178879.45\n",
      "OPERATOR_TIM: 79991080730751.05\n",
      "OPERATOR_VODAFONE: 83766711241117.4\n",
      "OPERATOR_WINDTRE: 68030510088703.95\n",
      "Year_COVID: -18794897594089.348\n",
      "Year_POST_COVID: -18896436016749.855\n",
      "Year_PRE_COVID: -16340953995192.863\n"
     ]
    }
   ],
   "source": [
    "column_names = final_df.columns.tolist()\n",
    "\n",
    "lr.fit(final_df_scaled, y)\n",
    "\n",
    "print(\"\\nCoefficients:\")\n",
    "for feature, coef in zip(column_names, lr.coef_.tolist()[0]):\n",
    "    print(f\"{feature}: {coef}\")"
   ]
  },
  {
   "cell_type": "markdown",
   "metadata": {},
   "source": [
    "## RANDOM FOREST"
   ]
  },
  {
   "cell_type": "code",
   "execution_count": 6,
   "metadata": {},
   "outputs": [
    {
     "name": "stdout",
     "output_type": "stream",
     "text": [
      "Random Forest RMSE scores per fold: [342.86923389 317.35524288 347.18851015 387.65229762 345.86212656\n",
      " 400.51550387 322.54816895 360.30887006 470.61115106 390.15908124]\n",
      "Random Forest Average RMSE: 368.50701862839753\n"
     ]
    }
   ],
   "source": [
    "from sklearn.model_selection import KFold\n",
    "from sklearn.model_selection import cross_val_score\n",
    "from sklearn.ensemble import RandomForestRegressor\n",
    "\n",
    "kf = KFold(n_splits=10, shuffle=True, random_state=42)\n",
    "rfr = RandomForestRegressor()\n",
    "\n",
    "rfr_scores = cross_val_score(rfr, final_df, y, cv=kf, scoring='neg_mean_squared_error')\n",
    "rfr_rmse_scores = np.sqrt(-rfr_scores)\n",
    "\n",
    "print(f\"Random Forest RMSE scores per fold: {rfr_rmse_scores}\")\n",
    "print(f\"Random Forest Average RMSE: {rfr_rmse_scores.mean()}\")"
   ]
  },
  {
   "cell_type": "code",
   "execution_count": 7,
   "metadata": {},
   "outputs": [
    {
     "name": "stdout",
     "output_type": "stream",
     "text": [
      "Feature Importance:\n",
      "PREZZO_PROMO: 0.052204181110103505\n",
      "PREZZO_LISTINO: 0.02712499756443851\n",
      "STOCK_PZ: 0.13510755486776177\n",
      "SCONTO_PERC: 0.04593173597292109\n",
      "KPI_1: 0.08280704642927933\n",
      "KPI_2: 0.029009393551002762\n",
      "KPI_3: 0.04180711707547522\n",
      "KPI_4: 0.029499944296485805\n",
      "KPI_5: 0.016226648726635103\n",
      "QTA_storico: 0.34008472093407943\n",
      "FATTURATO_storico: 0.02936153097775698\n",
      "DURATA_VOLANTINO_IN_GIORNI: 0.02944614708248621\n",
      "DISPLAY_SIZE: 0.02985497851436045\n",
      "NUMBER_OF_SIM: 0.0013433366562624165\n",
      "CAPACITY: 0.01219751588265356\n",
      "GENERATION: 0.0017443744660710747\n",
      "OPERATING_SYST: 0.0005526826107185999\n",
      "Month_Redditivity: 0.006027952519446364\n",
      "SCONTO_PERC_MEDIO_VOLANTINO: 0.032193821340966614\n",
      "SCONTO_PERC_MEDIO_NOME_CAMPAGNA: 0.01414665388346554\n",
      "TIPOLOGIA_PRODOTTO_ND: 0.0015581870602613917\n",
      "TIPOLOGIA_PRODOTTO_Principale: 0.007501158884815568\n",
      "TIPOLOGIA_PRODOTTO_Sostitutivo: 0.0025596233770920677\n",
      "OPERATOR_SIM FREE: 0.0036012084765195455\n",
      "OPERATOR_TIM: 0.002230470979660051\n",
      "OPERATOR_VODAFONE: 0.0034941204519086193\n",
      "OPERATOR_WINDTRE: 0.002954691430491924\n",
      "Year_COVID: 0.010057812306794898\n",
      "Year_POST_COVID: 0.0025016234254887585\n",
      "Year_PRE_COVID: 0.00686876914459693\n"
     ]
    }
   ],
   "source": [
    "rfr.fit(final_df, y)\n",
    "\n",
    "print(\"Feature Importance:\")\n",
    "for feature, importance in zip(final_df.columns, rfr.feature_importances_):\n",
    "    print(f\"{feature}: {importance}\")"
   ]
  },
  {
   "cell_type": "markdown",
   "metadata": {},
   "source": [
    "## XGBoost"
   ]
  },
  {
   "cell_type": "code",
   "execution_count": 8,
   "metadata": {},
   "outputs": [
    {
     "name": "stdout",
     "output_type": "stream",
     "text": [
      "XGBoost RMSE scores per fold: [313.69550689 329.0097739  325.95609309 381.63725812 346.26636486\n",
      " 374.32544375 300.32323234 354.09284919 428.00629042 362.31697241]\n",
      "XGBoost Average RMSE: 351.5629784970521\n"
     ]
    }
   ],
   "source": [
    "import xgboost as xgb\n",
    "from sklearn.model_selection import KFold, cross_val_score\n",
    "\n",
    "xgb_model = xgb.XGBRegressor()\n",
    "\n",
    "kf = KFold(n_splits=10, shuffle=True, random_state=42)\n",
    "xgb_scores = cross_val_score(xgb_model, final_df, y.ravel(), cv=kf, scoring='neg_mean_squared_error')\n",
    "xgb_rmse_scores = np.sqrt(-xgb_scores)\n",
    "\n",
    "print(f\"XGBoost RMSE scores per fold: {xgb_rmse_scores}\")\n",
    "print(f\"XGBoost Average RMSE: {xgb_rmse_scores.mean()}\")"
   ]
  },
  {
   "cell_type": "code",
   "execution_count": 9,
   "metadata": {},
   "outputs": [
    {
     "name": "stdout",
     "output_type": "stream",
     "text": [
      "Feature Importance:\n",
      "PREZZO_PROMO: 0.02413618378341198\n",
      "PREZZO_LISTINO: 0.020300980657339096\n",
      "STOCK_PZ: 0.04457062855362892\n",
      "SCONTO_PERC: 0.025412552058696747\n",
      "KPI_1: 0.04950347915291786\n",
      "KPI_2: 0.01902691461145878\n",
      "KPI_3: 0.01521324273198843\n",
      "KPI_4: 0.021379491314291954\n",
      "KPI_5: 0.015769246965646744\n",
      "QTA_storico: 0.15081554651260376\n",
      "FATTURATO_storico: 0.011695192195475101\n",
      "DURATA_VOLANTINO_IN_GIORNI: 0.027948083356022835\n",
      "DISPLAY_SIZE: 0.03997332230210304\n",
      "NUMBER_OF_SIM: 0.010641309432685375\n",
      "CAPACITY: 0.014994444325566292\n",
      "GENERATION: 0.011707930825650692\n",
      "OPERATING_SYST: 0.009996605105698109\n",
      "Month_Redditivity: 0.017152458429336548\n",
      "SCONTO_PERC_MEDIO_VOLANTINO: 0.017643511295318604\n",
      "SCONTO_PERC_MEDIO_NOME_CAMPAGNA: 0.013715360313653946\n",
      "TIPOLOGIA_PRODOTTO_ND: 0.04108757898211479\n",
      "TIPOLOGIA_PRODOTTO_Principale: 0.029171323403716087\n",
      "TIPOLOGIA_PRODOTTO_Sostitutivo: 0.016062594950199127\n",
      "OPERATOR_SIM FREE: 0.033843107521533966\n",
      "OPERATOR_TIM: 0.020716538652777672\n",
      "OPERATOR_VODAFONE: 0.03135155141353607\n",
      "OPERATOR_WINDTRE: 0.03157344087958336\n",
      "Year_COVID: 0.11829370260238647\n",
      "Year_POST_COVID: 0.01307670772075653\n",
      "Year_PRE_COVID: 0.10322698950767517\n"
     ]
    }
   ],
   "source": [
    "xgb_model = xgb.XGBRegressor()\n",
    "xgb_model.fit(final_df, y.ravel())\n",
    "\n",
    "print(\"Feature Importance:\")\n",
    "for feature, importance in zip(final_df.columns, xgb_model.feature_importances_):\n",
    "    print(f\"{feature}: {importance}\")"
   ]
  },
  {
   "cell_type": "markdown",
   "metadata": {},
   "source": [
    "# PC"
   ]
  },
  {
   "cell_type": "code",
   "execution_count": 5,
   "metadata": {},
   "outputs": [],
   "source": [
    "pc = pd.read_csv('./Working Code/Datasets/pc1.csv') "
   ]
  },
  {
   "cell_type": "code",
   "execution_count": 6,
   "metadata": {},
   "outputs": [],
   "source": [
    "X = pc[['PREZZO_PROMO', 'PREZZO_LISTINO', 'STOCK_PZ',\n",
    "        'TIPOLOGIA_PRODOTTO','SCONTO_PERC', 'KPI_1',\n",
    "        'KPI_2', 'KPI_3', 'KPI_4', 'KPI_5', 'QTA_storico',\n",
    "        'FATTURATO_storico', 'DURATA_VOLANTINO_IN_GIORNI',\n",
    "        'STORAGE_GB', 'RAM_GB', 'DISPLAY_SIZE', 'CONVERTIBLE',\n",
    "        'SCONTO_PERC_MEDIO_VOLANTINO', 'VERSION_NOT_DEFINED',\n",
    "        'VERSION_INTEL', 'VERSION_APPLE', 'VERSION_RAD',\n",
    "        'VERSION_GEF', 'QUALITY_VERSION', 'QUALITY_PROCESSOR',\n",
    "        'Month_Redditivity', 'Year', 'SCONTO_PERC_MEDIO_NOME_CAMPAGNA']]\n",
    "y = pc[['QTA']].values\n",
    "\n",
    "from sklearn.preprocessing import OneHotEncoder\n",
    "ohe = OneHotEncoder(sparse = False)\n",
    "oheTransform = ohe.fit_transform(X[['TIPOLOGIA_PRODOTTO', 'Year']])\n",
    "oheTransform = pd.DataFrame(oheTransform, columns=ohe.get_feature_names_out())\n",
    "\n",
    "final_df = pd.concat([X, oheTransform], axis=1)\n",
    "\n",
    "final_df = final_df.drop(['TIPOLOGIA_PRODOTTO', 'Year'], axis = 1)"
   ]
  },
  {
   "cell_type": "markdown",
   "metadata": {},
   "source": [
    "## BENCHMARK"
   ]
  },
  {
   "cell_type": "code",
   "execution_count": 7,
   "metadata": {},
   "outputs": [
    {
     "name": "stdout",
     "output_type": "stream",
     "text": [
      "RMSE = 420.96770029356077\n"
     ]
    }
   ],
   "source": [
    "from sklearn.metrics import mean_squared_error as mse\n",
    "\n",
    "bench = pc.copy(deep=True)\n",
    "bench = bench.dropna(subset=['QTA'])\n",
    "bench['Previsione'] = bench['QTA_storico']/30\n",
    "bench['Previsione'] *= bench['DURATA_VOLANTINO_IN_GIORNI']\n",
    "\n",
    "rmse = np.sqrt(mse(bench['QTA'], bench['Previsione']))\n",
    "\n",
    "print(f'RMSE = {rmse}')"
   ]
  },
  {
   "cell_type": "markdown",
   "metadata": {},
   "source": [
    "## LINEAR REGRESSION"
   ]
  },
  {
   "cell_type": "code",
   "execution_count": 13,
   "metadata": {},
   "outputs": [
    {
     "name": "stdout",
     "output_type": "stream",
     "text": [
      "Linear Regression RMSE scores per fold: [266.61096966 334.82275409 271.98714692 319.9776972  311.37090606\n",
      " 241.3886163  300.25994251 257.50240456 260.86793625 272.18837438]\n",
      "Linear Regression Average RMSE: 283.6976747923588\n"
     ]
    }
   ],
   "source": [
    "from sklearn.model_selection import KFold\n",
    "from sklearn.model_selection import cross_val_score\n",
    "from sklearn.linear_model import LinearRegression\n",
    "from sklearn.preprocessing import StandardScaler\n",
    "\n",
    "scaler = StandardScaler()\n",
    "final_df_scaled = scaler.fit_transform(final_df)\n",
    "\n",
    "kf = KFold(n_splits=10, shuffle=True, random_state=42)\n",
    "lr = LinearRegression()\n",
    "\n",
    "lr_scores = cross_val_score(lr, final_df_scaled, y, cv=kf, scoring='neg_mean_squared_error')\n",
    "lr_rmse_scores = np.sqrt(-lr_scores)\n",
    "\n",
    "print(f\"Linear Regression RMSE scores per fold: {lr_rmse_scores}\")\n",
    "print(f\"Linear Regression Average RMSE: {lr_rmse_scores.mean()}\")"
   ]
  },
  {
   "cell_type": "code",
   "execution_count": 14,
   "metadata": {},
   "outputs": [
    {
     "name": "stdout",
     "output_type": "stream",
     "text": [
      "\n",
      "Coefficients:\n",
      "PREZZO_PROMO: -104.47904977820562\n",
      "PREZZO_LISTINO: -4.479317858557824\n",
      "STOCK_PZ: 36.178620338331726\n",
      "SCONTO_PERC: 10.123848265972653\n",
      "KPI_1: 53.62487192961656\n",
      "KPI_2: -6.760468754108146\n",
      "KPI_3: 2.2418922700884045\n",
      "KPI_4: 15.206781169774587\n",
      "KPI_5: -23.499833980311752\n",
      "QTA_storico: 46.33357309776275\n",
      "FATTURATO_storico: -18.37310295212628\n",
      "DURATA_VOLANTINO_IN_GIORNI: 53.81387519789695\n",
      "STORAGE_GB: 1.267891827893151\n",
      "RAM_GB: 21.303720391967083\n",
      "DISPLAY_SIZE: 104.49417380107266\n",
      "CONVERTIBLE: -14.652722242546268\n",
      "SCONTO_PERC_MEDIO_VOLANTINO: 28.240710723917598\n",
      "VERSION_NOT_DEFINED: -23.46606225389116\n",
      "VERSION_INTEL: -0.6742668399782262\n",
      "VERSION_APPLE: 68.46124833902796\n",
      "VERSION_RAD: 3.0810787866712093\n",
      "VERSION_GEF: -53.46190829671742\n",
      "QUALITY_VERSION: 0.12870195817129693\n",
      "QUALITY_PROCESSOR: 11.004802988255756\n",
      "Month_Redditivity: 8.985756659447837\n",
      "SCONTO_PERC_MEDIO_NOME_CAMPAGNA: 30.126775724175904\n",
      "TIPOLOGIA_PRODOTTO_ND: 77.29214888492645\n",
      "TIPOLOGIA_PRODOTTO_Principale: -41.753903950383176\n",
      "TIPOLOGIA_PRODOTTO_Sostitutivo: -63.515426877408686\n",
      "Year_COVID: 9.015990920540505\n",
      "Year_POST_COVID: 6.869970436806168\n",
      "Year_PRE_COVID: -18.06263145250388\n"
     ]
    }
   ],
   "source": [
    "column_names = final_df.columns.tolist()\n",
    "\n",
    "lr.fit(final_df_scaled, y)\n",
    "\n",
    "print(\"\\nCoefficients:\")\n",
    "for feature, coef in zip(column_names, lr.coef_.tolist()[0]):\n",
    "    print(f\"{feature}: {coef}\")"
   ]
  },
  {
   "cell_type": "markdown",
   "metadata": {},
   "source": [
    "## RANDOM FOREST"
   ]
  },
  {
   "cell_type": "code",
   "execution_count": 15,
   "metadata": {},
   "outputs": [
    {
     "name": "stdout",
     "output_type": "stream",
     "text": [
      "Random Forest RMSE scores per fold: [271.04389127 303.76289418 244.47126654 289.34099406 282.02172039\n",
      " 218.57602422 278.805499   230.39434126 211.17772197 273.99664187]\n",
      "Random Forest Average RMSE: 260.35909947529274\n"
     ]
    }
   ],
   "source": [
    "from sklearn.model_selection import KFold\n",
    "from sklearn.model_selection import cross_val_score\n",
    "from sklearn.ensemble import RandomForestRegressor\n",
    "\n",
    "kf = KFold(n_splits=10, shuffle=True, random_state=42)\n",
    "rfr = RandomForestRegressor()\n",
    "\n",
    "rfr_scores = cross_val_score(rfr, final_df, y, cv=kf, scoring='neg_mean_squared_error')\n",
    "rfr_rmse_scores = np.sqrt(-rfr_scores)\n",
    "\n",
    "print(f\"Random Forest RMSE scores per fold: {rfr_rmse_scores}\")\n",
    "print(f\"Random Forest Average RMSE: {rfr_rmse_scores.mean()}\")"
   ]
  },
  {
   "cell_type": "code",
   "execution_count": 16,
   "metadata": {},
   "outputs": [
    {
     "name": "stdout",
     "output_type": "stream",
     "text": [
      "Feature Importance:\n",
      "PREZZO_PROMO: 0.09284596616800192\n",
      "PREZZO_LISTINO: 0.1556259835304594\n",
      "STOCK_PZ: 0.08236918369961202\n",
      "SCONTO_PERC: 0.04682179457737161\n",
      "KPI_1: 0.08582456735911619\n",
      "KPI_2: 0.03115337381723927\n",
      "KPI_3: 0.036560997205427326\n",
      "KPI_4: 0.04450703772890848\n",
      "KPI_5: 0.023261955036515493\n",
      "QTA_storico: 0.03698761084875058\n",
      "FATTURATO_storico: 0.027870099377745268\n",
      "DURATA_VOLANTINO_IN_GIORNI: 0.02878186613179083\n",
      "STORAGE_GB: 0.015233012713569617\n",
      "RAM_GB: 0.01240692002654614\n",
      "DISPLAY_SIZE: 0.05256404889297229\n",
      "CONVERTIBLE: 0.00037341083197829655\n",
      "SCONTO_PERC_MEDIO_VOLANTINO: 0.10088750947652718\n",
      "VERSION_NOT_DEFINED: 0.00031945828072396556\n",
      "VERSION_INTEL: 0.005704984240199796\n",
      "VERSION_APPLE: 0.0008794525685356478\n",
      "VERSION_RAD: 0.004115384926118034\n",
      "VERSION_GEF: 0.003524781597440699\n",
      "QUALITY_VERSION: 0.012076737558881142\n",
      "QUALITY_PROCESSOR: 0.004601468545042682\n",
      "Month_Redditivity: 0.008121001455372128\n",
      "SCONTO_PERC_MEDIO_NOME_CAMPAGNA: 0.021569278510222122\n",
      "TIPOLOGIA_PRODOTTO_ND: 0.028106990274596552\n",
      "TIPOLOGIA_PRODOTTO_Principale: 0.0038525062942956945\n",
      "TIPOLOGIA_PRODOTTO_Sostitutivo: 0.013691410615074666\n",
      "Year_COVID: 0.006732578884558766\n",
      "Year_POST_COVID: 0.008397524959384723\n",
      "Year_PRE_COVID: 0.004231103867021471\n"
     ]
    }
   ],
   "source": [
    "rfr.fit(final_df, y)\n",
    "\n",
    "print(\"Feature Importance:\")\n",
    "for feature, importance in zip(final_df.columns, rfr.feature_importances_):\n",
    "    print(f\"{feature}: {importance}\")"
   ]
  },
  {
   "cell_type": "markdown",
   "metadata": {},
   "source": [
    "## XGBoost"
   ]
  },
  {
   "cell_type": "code",
   "execution_count": 17,
   "metadata": {},
   "outputs": [
    {
     "name": "stdout",
     "output_type": "stream",
     "text": [
      "XGBoost RMSE scores per fold: [276.96197546 296.55922859 256.85806344 291.73871207 259.71991994\n",
      " 211.61272483 277.89664302 221.42522022 220.55286913 271.88395665]\n",
      "XGBoost Average RMSE: 258.52093133626147\n"
     ]
    }
   ],
   "source": [
    "import xgboost as xgb\n",
    "from sklearn.model_selection import KFold, cross_val_score\n",
    "\n",
    "xgb_model = xgb.XGBRegressor()\n",
    "\n",
    "kf = KFold(n_splits=10, shuffle=True, random_state=42)\n",
    "xgb_scores = cross_val_score(xgb_model, final_df, y.ravel(), cv=kf, scoring='neg_mean_squared_error')\n",
    "xgb_rmse_scores = np.sqrt(-xgb_scores)\n",
    "\n",
    "print(f\"XGBoost RMSE scores per fold: {xgb_rmse_scores}\")\n",
    "print(f\"XGBoost Average RMSE: {xgb_rmse_scores.mean()}\")"
   ]
  },
  {
   "cell_type": "code",
   "execution_count": 18,
   "metadata": {},
   "outputs": [
    {
     "name": "stdout",
     "output_type": "stream",
     "text": [
      "Feature Importance:\n",
      "PREZZO_PROMO: 0.01608029566705227\n",
      "PREZZO_LISTINO: 0.05011957883834839\n",
      "STOCK_PZ: 0.011292696930468082\n",
      "SCONTO_PERC: 0.012758077122271061\n",
      "KPI_1: 0.02795729786157608\n",
      "KPI_2: 0.013249324634671211\n",
      "KPI_3: 0.013064149767160416\n",
      "KPI_4: 0.012272121384739876\n",
      "KPI_5: 0.011822122149169445\n",
      "QTA_storico: 0.014677504077553749\n",
      "FATTURATO_storico: 0.011305294930934906\n",
      "DURATA_VOLANTINO_IN_GIORNI: 0.015070145949721336\n",
      "STORAGE_GB: 0.02327827550470829\n",
      "RAM_GB: 0.04239007458090782\n",
      "DISPLAY_SIZE: 0.07268953323364258\n",
      "CONVERTIBLE: 0.024642307311296463\n",
      "SCONTO_PERC_MEDIO_VOLANTINO: 0.022859696298837662\n",
      "VERSION_NOT_DEFINED: 0.011583608575165272\n",
      "VERSION_INTEL: 0.021241283044219017\n",
      "VERSION_APPLE: 0.04189718887209892\n",
      "VERSION_RAD: 0.005541618447750807\n",
      "VERSION_GEF: 0.0038524200208485126\n",
      "QUALITY_VERSION: 0.01558564230799675\n",
      "QUALITY_PROCESSOR: 0.02759852632880211\n",
      "Month_Redditivity: 0.008536459878087044\n",
      "SCONTO_PERC_MEDIO_NOME_CAMPAGNA: 0.008320294320583344\n",
      "TIPOLOGIA_PRODOTTO_ND: 0.21995025873184204\n",
      "TIPOLOGIA_PRODOTTO_Principale: 0.09109890460968018\n",
      "TIPOLOGIA_PRODOTTO_Sostitutivo: 0.062368158251047134\n",
      "Year_COVID: 0.02811308763921261\n",
      "Year_POST_COVID: 0.03093867562711239\n",
      "Year_PRE_COVID: 0.027845393866300583\n"
     ]
    }
   ],
   "source": [
    "xgb_model = xgb.XGBRegressor()\n",
    "xgb_model.fit(final_df, y.ravel())\n",
    "\n",
    "print(\"Feature Importance:\")\n",
    "for feature, importance in zip(final_df.columns, xgb_model.feature_importances_):\n",
    "    print(f\"{feature}: {importance}\")"
   ]
  },
  {
   "cell_type": "markdown",
   "metadata": {},
   "source": [
    "# WASH"
   ]
  },
  {
   "cell_type": "code",
   "execution_count": 19,
   "metadata": {},
   "outputs": [],
   "source": [
    "wash = pd.read_csv('./Working Code/Datasets/wash1.csv') "
   ]
  },
  {
   "cell_type": "code",
   "execution_count": 20,
   "metadata": {},
   "outputs": [],
   "source": [
    "X = wash[['PREZZO_PROMO', 'PREZZO_LISTINO', 'STOCK_PZ',\n",
    "        'TIPOLOGIA_PRODOTTO','SCONTO_PERC', 'KPI_1',\n",
    "        'KPI_2', 'KPI_3', 'KPI_4', 'KPI_5', 'QTA_storico',\n",
    "        'FATTURATO_storico', 'DURATA_VOLANTINO_IN_GIORNI',\n",
    "        'TYPE', 'TOPLOADING', 'LOADING_KG', 'ENERGY_CLASS',\n",
    "        'DEPTH_CM>48', 'SMART_CONNECT', 'SCONTO_PERC_MEDIO_VOLANTINO', 'Month_Redditivity', 'Year',\n",
    "        'SCONTO_PERC_MEDIO_NOME_CAMPAGNA']]\n",
    "y = wash[['QTA']].values\n",
    "\n",
    "from sklearn.preprocessing import OneHotEncoder\n",
    "ohe = OneHotEncoder(sparse = False)\n",
    "oheTransform = ohe.fit_transform(X[['TIPOLOGIA_PRODOTTO', 'Year']])\n",
    "oheTransform = pd.DataFrame(oheTransform, columns=ohe.get_feature_names_out())\n",
    "\n",
    "final_df = pd.concat([X, oheTransform], axis=1)\n",
    "\n",
    "final_df = final_df.drop(['TIPOLOGIA_PRODOTTO', 'Year'], axis = 1)"
   ]
  },
  {
   "cell_type": "markdown",
   "metadata": {},
   "source": [
    "## BENCHMARK"
   ]
  },
  {
   "cell_type": "code",
   "execution_count": 21,
   "metadata": {},
   "outputs": [
    {
     "name": "stdout",
     "output_type": "stream",
     "text": [
      "RMSE = 380.2144885995804\n"
     ]
    }
   ],
   "source": [
    "from sklearn.metrics import mean_squared_error as mse\n",
    "\n",
    "bench = wash.copy(deep=True)\n",
    "bench = bench.dropna(subset=['QTA'])\n",
    "bench['Previsione'] = bench['QTA_storico']/30\n",
    "bench['Previsione'] *= bench['DURATA_VOLANTINO_IN_GIORNI']\n",
    "\n",
    "rmse = np.sqrt(mse(bench['QTA'], bench['Previsione']))\n",
    "\n",
    "print(f'RMSE = {rmse}')"
   ]
  },
  {
   "cell_type": "markdown",
   "metadata": {},
   "source": [
    "## LINEAR REGRESSION"
   ]
  },
  {
   "cell_type": "code",
   "execution_count": 22,
   "metadata": {},
   "outputs": [
    {
     "name": "stdout",
     "output_type": "stream",
     "text": [
      "Linear Regression RMSE scores per fold: [225.92227645 256.49182295 190.30071461 242.13494386 244.08410054\n",
      " 256.82024865 206.16965371 207.06830401 224.67012361 210.79569932]\n",
      "Linear Regression Average RMSE: 226.4457887713116\n"
     ]
    }
   ],
   "source": [
    "from sklearn.model_selection import KFold\n",
    "from sklearn.model_selection import cross_val_score\n",
    "from sklearn.linear_model import LinearRegression\n",
    "from sklearn.preprocessing import StandardScaler\n",
    "\n",
    "scaler = StandardScaler()\n",
    "final_df_scaled = scaler.fit_transform(final_df)\n",
    "\n",
    "kf = KFold(n_splits=10, shuffle=True, random_state=42)\n",
    "lr = LinearRegression()\n",
    "\n",
    "lr_scores = cross_val_score(lr, final_df_scaled, y, cv=kf, scoring='neg_mean_squared_error')\n",
    "lr_rmse_scores = np.sqrt(-lr_scores)\n",
    "\n",
    "print(f\"Linear Regression RMSE scores per fold: {lr_rmse_scores}\")\n",
    "print(f\"Linear Regression Average RMSE: {lr_rmse_scores.mean()}\")"
   ]
  },
  {
   "cell_type": "code",
   "execution_count": 24,
   "metadata": {},
   "outputs": [
    {
     "name": "stdout",
     "output_type": "stream",
     "text": [
      "\n",
      "Coefficients:\n",
      "PREZZO_PROMO: -80.50101651608371\n",
      "PREZZO_LISTINO: -17.896830070840636\n",
      "STOCK_PZ: 15.84264150195746\n",
      "SCONTO_PERC: 80.41498185868315\n",
      "KPI_1: 18.668369363862272\n",
      "KPI_2: 13.926087025970821\n",
      "KPI_3: -11.04645004642272\n",
      "KPI_4: 4.752161515249825\n",
      "KPI_5: 14.034271849376612\n",
      "QTA_storico: 4.465114955730477\n",
      "FATTURATO_storico: 7.221721111338954\n",
      "DURATA_VOLANTINO_IN_GIORNI: 94.61804712441827\n",
      "TYPE: 20.285302243657288\n",
      "TOPLOADING: -56.62768743737433\n",
      "LOADING_KG: -28.411136917011618\n",
      "ENERGY_CLASS: -1.6288579444210574\n",
      "DEPTH_CM>48: 25.59694477711006\n",
      "SMART_CONNECT: 4.7326048796128015\n",
      "SCONTO_PERC_MEDIO_VOLANTINO: -1.5922537133684935\n",
      "Month_Redditivity: 5.855502945914851\n",
      "SCONTO_PERC_MEDIO_NOME_CAMPAGNA: 27.21312116631884\n",
      "TIPOLOGIA_PRODOTTO_ND: 7.720401002118092\n",
      "TIPOLOGIA_PRODOTTO_Principale: -5.559236046113472\n",
      "TIPOLOGIA_PRODOTTO_Sostitutivo: -15.384033529657195\n",
      "Year_COVID: -24.346582869479285\n",
      "Year_POST_COVID: -3.1666292284169426\n",
      "Year_PRE_COVID: 31.859314045759437\n"
     ]
    }
   ],
   "source": [
    "column_names = final_df.columns.tolist()\n",
    "\n",
    "lr.fit(final_df_scaled, y)\n",
    "\n",
    "print(\"\\nCoefficients:\")\n",
    "for feature, coef in zip(column_names, lr.coef_.tolist()[0]):\n",
    "    print(f\"{feature}: {coef}\")"
   ]
  },
  {
   "cell_type": "markdown",
   "metadata": {},
   "source": [
    "## RANDOM FOREST"
   ]
  },
  {
   "cell_type": "code",
   "execution_count": 23,
   "metadata": {},
   "outputs": [
    {
     "name": "stdout",
     "output_type": "stream",
     "text": [
      "Random Forest RMSE scores per fold: [178.78653604 218.4309478  200.66966456 209.88725107 192.45641156\n",
      " 208.7955757  194.68932061 167.37504778 205.43360797 166.73975151]\n",
      "Random Forest Average RMSE: 194.3264114588316\n"
     ]
    }
   ],
   "source": [
    "from sklearn.model_selection import KFold\n",
    "from sklearn.model_selection import cross_val_score\n",
    "from sklearn.ensemble import RandomForestRegressor\n",
    "\n",
    "kf = KFold(n_splits=10, shuffle=True, random_state=42)\n",
    "rfr = RandomForestRegressor()\n",
    "\n",
    "rfr_scores = cross_val_score(rfr, final_df, y, cv=kf, scoring='neg_mean_squared_error')\n",
    "rfr_rmse_scores = np.sqrt(-rfr_scores)\n",
    "\n",
    "print(f\"Random Forest RMSE scores per fold: {rfr_rmse_scores}\")\n",
    "print(f\"Random Forest Average RMSE: {rfr_rmse_scores.mean()}\")"
   ]
  },
  {
   "cell_type": "code",
   "execution_count": 26,
   "metadata": {},
   "outputs": [
    {
     "name": "stdout",
     "output_type": "stream",
     "text": [
      "Feature Importance:\n",
      "PREZZO_PROMO: 0.2860511933553144\n",
      "PREZZO_LISTINO: 0.025655716551598887\n",
      "STOCK_PZ: 0.03106649261129721\n",
      "SCONTO_PERC: 0.12854938563004048\n",
      "KPI_1: 0.02889171386531852\n",
      "KPI_2: 0.02945379834939563\n",
      "KPI_3: 0.03413756667073382\n",
      "KPI_4: 0.06863753800537802\n",
      "KPI_5: 0.022483693072749913\n",
      "QTA_storico: 0.01793990499325171\n",
      "FATTURATO_storico: 0.019762426066062013\n",
      "DURATA_VOLANTINO_IN_GIORNI: 0.16343466015206376\n",
      "TYPE: 0.0002983724933863497\n",
      "TOPLOADING: 0.0003263442459782513\n",
      "LOADING_KG: 0.010245961847662848\n",
      "ENERGY_CLASS: 0.010170917358556067\n",
      "DEPTH_CM>48: 0.0017645297243704208\n",
      "SMART_CONNECT: 0.005418183671646396\n",
      "SCONTO_PERC_MEDIO_VOLANTINO: 0.04572879250743726\n",
      "Month_Redditivity: 0.00868817568395662\n",
      "SCONTO_PERC_MEDIO_NOME_CAMPAGNA: 0.017460827143186277\n",
      "TIPOLOGIA_PRODOTTO_ND: 0.0012570390656949679\n",
      "TIPOLOGIA_PRODOTTO_Principale: 0.0019715463576678183\n",
      "TIPOLOGIA_PRODOTTO_Sostitutivo: 0.00026169184556446717\n",
      "Year_COVID: 0.0040909516139983814\n",
      "Year_POST_COVID: 0.0017642725919058168\n",
      "Year_PRE_COVID: 0.03448830452578365\n"
     ]
    }
   ],
   "source": [
    "rfr.fit(final_df, y)\n",
    "\n",
    "print(\"Feature Importance:\")\n",
    "for feature, importance in zip(final_df.columns, rfr.feature_importances_):\n",
    "    print(f\"{feature}: {importance}\")"
   ]
  },
  {
   "cell_type": "markdown",
   "metadata": {},
   "source": [
    "## XGBoost"
   ]
  },
  {
   "cell_type": "code",
   "execution_count": 24,
   "metadata": {},
   "outputs": [
    {
     "name": "stdout",
     "output_type": "stream",
     "text": [
      "XGBoost RMSE scores per fold: [186.71821747 212.25694785 200.53454398 207.00025948 191.980312\n",
      " 217.97568829 193.42591026 166.66016883 206.06863423 168.18199812]\n",
      "XGBoost Average RMSE: 195.08026805190624\n"
     ]
    }
   ],
   "source": [
    "import xgboost as xgb\n",
    "from sklearn.model_selection import KFold, cross_val_score\n",
    "\n",
    "xgb_model = xgb.XGBRegressor()\n",
    "\n",
    "kf = KFold(n_splits=10, shuffle=True, random_state=42)\n",
    "xgb_scores = cross_val_score(xgb_model, final_df, y.ravel(), cv=kf, scoring='neg_mean_squared_error')\n",
    "xgb_rmse_scores = np.sqrt(-xgb_scores)\n",
    "\n",
    "print(f\"XGBoost RMSE scores per fold: {xgb_rmse_scores}\")\n",
    "print(f\"XGBoost Average RMSE: {xgb_rmse_scores.mean()}\")"
   ]
  },
  {
   "cell_type": "code",
   "execution_count": 25,
   "metadata": {},
   "outputs": [
    {
     "name": "stdout",
     "output_type": "stream",
     "text": [
      "Feature Importance:\n",
      "PREZZO_PROMO: 0.09155365079641342\n",
      "PREZZO_LISTINO: 0.012232553213834763\n",
      "STOCK_PZ: 0.010479087010025978\n",
      "SCONTO_PERC: 0.07134723663330078\n",
      "KPI_1: 0.01686110906302929\n",
      "KPI_2: 0.015372331254184246\n",
      "KPI_3: 0.01789514534175396\n",
      "KPI_4: 0.03676408901810646\n",
      "KPI_5: 0.013056125491857529\n",
      "QTA_storico: 0.011358445510268211\n",
      "FATTURATO_storico: 0.010274804197251797\n",
      "DURATA_VOLANTINO_IN_GIORNI: 0.1643996238708496\n",
      "TYPE: 0.0\n",
      "TOPLOADING: 0.0\n",
      "LOADING_KG: 0.01826060377061367\n",
      "ENERGY_CLASS: 0.014944680966436863\n",
      "DEPTH_CM>48: 0.02831684984266758\n",
      "SMART_CONNECT: 0.012578881345689297\n",
      "SCONTO_PERC_MEDIO_VOLANTINO: 0.023950373753905296\n",
      "Month_Redditivity: 0.02479427121579647\n",
      "SCONTO_PERC_MEDIO_NOME_CAMPAGNA: 0.0285690575838089\n",
      "TIPOLOGIA_PRODOTTO_ND: 0.03069634921848774\n",
      "TIPOLOGIA_PRODOTTO_Principale: 0.025041092187166214\n",
      "TIPOLOGIA_PRODOTTO_Sostitutivo: 0.024008318781852722\n",
      "Year_COVID: 0.03942021355032921\n",
      "Year_POST_COVID: 0.015133017674088478\n",
      "Year_PRE_COVID: 0.24269205331802368\n"
     ]
    }
   ],
   "source": [
    "xgb_model = xgb.XGBRegressor()\n",
    "xgb_model.fit(final_df, y.ravel())\n",
    "\n",
    "print(\"Feature Importance:\")\n",
    "for feature, importance in zip(final_df.columns, xgb_model.feature_importances_):\n",
    "    print(f\"{feature}: {importance}\")"
   ]
  },
  {
   "cell_type": "markdown",
   "metadata": {},
   "source": [
    "# CORE WEAR"
   ]
  },
  {
   "cell_type": "code",
   "execution_count": 27,
   "metadata": {},
   "outputs": [],
   "source": [
    "core_wear = pd.read_csv('./Working Code/Datasets/core_wear1.csv') "
   ]
  },
  {
   "cell_type": "code",
   "execution_count": 28,
   "metadata": {},
   "outputs": [],
   "source": [
    "X = core_wear[['PREZZO_PROMO', 'PREZZO_LISTINO', 'STOCK_PZ',\n",
    "        'TIPOLOGIA_PRODOTTO','SCONTO_PERC', 'KPI_1',\n",
    "        'KPI_2', 'KPI_3', 'KPI_4', 'KPI_5', 'QTA_storico',\n",
    "        'FATTURATO_storico', 'DURATA_VOLANTINO_IN_GIORNI',\n",
    "        'DISPLAY_QUALITY', 'BLUETOOTH', 'WIFI', 'DISPLAY_SIZE',\n",
    "        'SCONTO_PERC_MEDIO_VOLANTINO', 'Month_Redditivity', 'Year', 'SCONTO_PERC_MEDIO_NOME_CAMPAGNA']]\n",
    "y = core_wear[['QTA']].values\n",
    "\n",
    "from sklearn.preprocessing import OneHotEncoder\n",
    "ohe = OneHotEncoder(sparse = False)\n",
    "oheTransform = ohe.fit_transform(X[['TIPOLOGIA_PRODOTTO', 'Year']])\n",
    "oheTransform = pd.DataFrame(oheTransform, columns=ohe.get_feature_names_out())\n",
    "\n",
    "final_df = pd.concat([X, oheTransform], axis=1)\n",
    "\n",
    "final_df = final_df.drop(['TIPOLOGIA_PRODOTTO', 'Year'], axis = 1)"
   ]
  },
  {
   "cell_type": "markdown",
   "metadata": {},
   "source": [
    "## BENCHMARK"
   ]
  },
  {
   "cell_type": "code",
   "execution_count": 29,
   "metadata": {},
   "outputs": [
    {
     "name": "stdout",
     "output_type": "stream",
     "text": [
      "RMSE = 301.5367598519154\n"
     ]
    }
   ],
   "source": [
    "from sklearn.metrics import mean_squared_error as mse\n",
    "\n",
    "bench = core_wear.copy(deep=True)\n",
    "bench = bench.dropna(subset=['QTA'])\n",
    "bench['Previsione'] = bench['QTA_storico']/30\n",
    "bench['Previsione'] *= bench['DURATA_VOLANTINO_IN_GIORNI']\n",
    "\n",
    "rmse = np.sqrt(mse(bench['QTA'], bench['Previsione']))\n",
    "\n",
    "print(f'RMSE = {rmse}')"
   ]
  },
  {
   "cell_type": "markdown",
   "metadata": {},
   "source": [
    "## LINEAR REGRESSION"
   ]
  },
  {
   "cell_type": "code",
   "execution_count": 30,
   "metadata": {},
   "outputs": [
    {
     "name": "stdout",
     "output_type": "stream",
     "text": [
      "Linear Regression RMSE scores per fold: [179.48523689 224.55724371 309.90870447 354.11716744 292.5629471\n",
      " 161.64326951 156.29192419 281.56669054 166.03254691 203.11843897]\n",
      "Linear Regression Average RMSE: 232.9284169726456\n"
     ]
    }
   ],
   "source": [
    "from sklearn.model_selection import KFold\n",
    "from sklearn.model_selection import cross_val_score\n",
    "from sklearn.linear_model import LinearRegression\n",
    "from sklearn.preprocessing import StandardScaler\n",
    "\n",
    "scaler = StandardScaler()\n",
    "final_df_scaled = scaler.fit_transform(final_df)\n",
    "\n",
    "kf = KFold(n_splits=10, shuffle=True, random_state=42)\n",
    "lr = LinearRegression()\n",
    "\n",
    "lr_scores = cross_val_score(lr, final_df_scaled, y, cv=kf, scoring='neg_mean_squared_error')\n",
    "lr_rmse_scores = np.sqrt(-lr_scores)\n",
    "\n",
    "print(f\"Linear Regression RMSE scores per fold: {lr_rmse_scores}\")\n",
    "print(f\"Linear Regression Average RMSE: {lr_rmse_scores.mean()}\")"
   ]
  },
  {
   "cell_type": "code",
   "execution_count": 33,
   "metadata": {},
   "outputs": [
    {
     "name": "stdout",
     "output_type": "stream",
     "text": [
      "\n",
      "Coefficients:\n",
      "PREZZO_PROMO: 91.16859819359848\n",
      "PREZZO_LISTINO: -115.5257704804783\n",
      "STOCK_PZ: 166.27203105224575\n",
      "SCONTO_PERC: 27.944477774928355\n",
      "KPI_1: 48.872946319297235\n",
      "KPI_2: 24.637891744722687\n",
      "KPI_3: 36.72807127339222\n",
      "KPI_4: 7.385951713878828\n",
      "KPI_5: -4.8504143074372\n",
      "QTA_storico: 104.0724671679581\n",
      "FATTURATO_storico: -21.446095710826178\n",
      "DURATA_VOLANTINO_IN_GIORNI: 16.72220081232369\n",
      "DISPLAY_QUALITY: 8.85948074482248\n",
      "BLUETOOTH: -5.617153761966526\n",
      "WIFI: -1.7944909026994162\n",
      "DISPLAY_SIZE: -30.329443876801534\n",
      "SCONTO_PERC_MEDIO_VOLANTINO: 17.316658060592264\n",
      "Month_Redditivity: 18.19409895017826\n",
      "SCONTO_PERC_MEDIO_NOME_CAMPAGNA: -1.0033824744148665\n",
      "TIPOLOGIA_PRODOTTO_ND: -1.8503311478178701\n",
      "TIPOLOGIA_PRODOTTO_Principale: 5.7687010752498455\n",
      "TIPOLOGIA_PRODOTTO_Sostitutivo: -2.9643284988406884\n",
      "Year_COVID: 18.099013058062365\n",
      "Year_POST_COVID: -16.038019039581087\n",
      "Year_PRE_COVID: -1.3457157409089886\n"
     ]
    }
   ],
   "source": [
    "column_names = final_df.columns.tolist()\n",
    "\n",
    "lr.fit(final_df_scaled, y)\n",
    "\n",
    "print(\"\\nCoefficients:\")\n",
    "for feature, coef in zip(column_names, lr.coef_.tolist()[0]):\n",
    "    print(f\"{feature}: {coef}\")"
   ]
  },
  {
   "cell_type": "markdown",
   "metadata": {},
   "source": [
    "## RANDOM FOREST"
   ]
  },
  {
   "cell_type": "code",
   "execution_count": 31,
   "metadata": {},
   "outputs": [
    {
     "name": "stdout",
     "output_type": "stream",
     "text": [
      "Random Forest RMSE scores per fold: [188.30514724 166.52102108 184.94045274 300.32267717 130.43725968\n",
      " 141.39389658 163.07847913 297.48095849 126.10139584 167.14311045]\n",
      "Random Forest Average RMSE: 186.57243983893457\n"
     ]
    }
   ],
   "source": [
    "from sklearn.model_selection import KFold\n",
    "from sklearn.model_selection import cross_val_score\n",
    "from sklearn.ensemble import RandomForestRegressor\n",
    "\n",
    "kf = KFold(n_splits=10, shuffle=True, random_state=42)\n",
    "rfr = RandomForestRegressor()\n",
    "\n",
    "rfr_scores = cross_val_score(rfr, final_df, y, cv=kf, scoring='neg_mean_squared_error')\n",
    "rfr_rmse_scores = np.sqrt(-rfr_scores)\n",
    "\n",
    "print(f\"Random Forest RMSE scores per fold: {rfr_rmse_scores}\")\n",
    "print(f\"Random Forest Average RMSE: {rfr_rmse_scores.mean()}\")"
   ]
  },
  {
   "cell_type": "code",
   "execution_count": 32,
   "metadata": {},
   "outputs": [
    {
     "name": "stdout",
     "output_type": "stream",
     "text": [
      "Feature Importance:\n",
      "PREZZO_PROMO: 0.293791963057688\n",
      "PREZZO_LISTINO: 0.02241494458738513\n",
      "STOCK_PZ: 0.23256347676116285\n",
      "SCONTO_PERC: 0.027536647947121896\n",
      "KPI_1: 0.039723123041817535\n",
      "KPI_2: 0.02582313586696859\n",
      "KPI_3: 0.02321235493572802\n",
      "KPI_4: 0.012495735468445287\n",
      "KPI_5: 0.010652848020223166\n",
      "QTA_storico: 0.18744794307213353\n",
      "FATTURATO_storico: 0.015215041925786524\n",
      "DURATA_VOLANTINO_IN_GIORNI: 0.01862830993615674\n",
      "DISPLAY_QUALITY: 0.0022927547432609915\n",
      "BLUETOOTH: 0.00043426266172210955\n",
      "WIFI: 0.0003963785301479295\n",
      "DISPLAY_SIZE: 0.018592256447938903\n",
      "SCONTO_PERC_MEDIO_VOLANTINO: 0.01805517643334572\n",
      "Month_Redditivity: 0.03308694583796522\n",
      "SCONTO_PERC_MEDIO_NOME_CAMPAGNA: 0.005711859909446425\n",
      "TIPOLOGIA_PRODOTTO_ND: 0.0010020279179977411\n",
      "TIPOLOGIA_PRODOTTO_Principale: 0.0019368314734037554\n",
      "TIPOLOGIA_PRODOTTO_Sostitutivo: 0.0014004568974378421\n",
      "Year_COVID: 0.004483096795479018\n",
      "Year_POST_COVID: 0.0024720909139449338\n",
      "Year_PRE_COVID: 0.000630336817292157\n"
     ]
    }
   ],
   "source": [
    "rfr.fit(final_df, y)\n",
    "\n",
    "print(\"Feature Importance:\")\n",
    "for feature, importance in zip(final_df.columns, rfr.feature_importances_):\n",
    "    print(f\"{feature}: {importance}\")"
   ]
  },
  {
   "cell_type": "markdown",
   "metadata": {},
   "source": [
    "## XGBoost"
   ]
  },
  {
   "cell_type": "code",
   "execution_count": 33,
   "metadata": {},
   "outputs": [
    {
     "name": "stdout",
     "output_type": "stream",
     "text": [
      "XGBoost RMSE scores per fold: [195.28222125 176.19558642 164.81641247 297.89467711 224.28430842\n",
      " 207.82385524 217.11970823 330.20614284 126.34614173 162.11843497]\n",
      "XGBoost Average RMSE: 210.20874886726574\n"
     ]
    }
   ],
   "source": [
    "import xgboost as xgb\n",
    "from sklearn.model_selection import KFold, cross_val_score\n",
    "\n",
    "xgb_model = xgb.XGBRegressor()\n",
    "\n",
    "kf = KFold(n_splits=10, shuffle=True, random_state=42)\n",
    "xgb_scores = cross_val_score(xgb_model, final_df, y.ravel(), cv=kf, scoring='neg_mean_squared_error')\n",
    "xgb_rmse_scores = np.sqrt(-xgb_scores)\n",
    "\n",
    "print(f\"XGBoost RMSE scores per fold: {xgb_rmse_scores}\")\n",
    "print(f\"XGBoost Average RMSE: {xgb_rmse_scores.mean()}\")"
   ]
  },
  {
   "cell_type": "code",
   "execution_count": 34,
   "metadata": {},
   "outputs": [
    {
     "name": "stdout",
     "output_type": "stream",
     "text": [
      "Feature Importance:\n",
      "PREZZO_PROMO: 0.22588419914245605\n",
      "PREZZO_LISTINO: 0.03144478797912598\n",
      "STOCK_PZ: 0.0493842251598835\n",
      "SCONTO_PERC: 0.011248852126300335\n",
      "KPI_1: 0.07655955106019974\n",
      "KPI_2: 0.02050107717514038\n",
      "KPI_3: 0.013392888940870762\n",
      "KPI_4: 0.011406655423343182\n",
      "KPI_5: 0.008884632028639317\n",
      "QTA_storico: 0.10651448369026184\n",
      "FATTURATO_storico: 0.00823717750608921\n",
      "DURATA_VOLANTINO_IN_GIORNI: 0.025511471554636955\n",
      "DISPLAY_QUALITY: 0.031461138278245926\n",
      "BLUETOOTH: 0.004714273847639561\n",
      "WIFI: 0.004258707631379366\n",
      "DISPLAY_SIZE: 0.02103389799594879\n",
      "SCONTO_PERC_MEDIO_VOLANTINO: 0.012009812518954277\n",
      "Month_Redditivity: 0.0072911945171654224\n",
      "SCONTO_PERC_MEDIO_NOME_CAMPAGNA: 0.007538649719208479\n",
      "TIPOLOGIA_PRODOTTO_ND: 0.1409490555524826\n",
      "TIPOLOGIA_PRODOTTO_Principale: 0.011985477060079575\n",
      "TIPOLOGIA_PRODOTTO_Sostitutivo: 0.016649674624204636\n",
      "Year_COVID: 0.055879440158605576\n",
      "Year_POST_COVID: 0.09612061083316803\n",
      "Year_PRE_COVID: 0.001138034276664257\n"
     ]
    }
   ],
   "source": [
    "xgb_model = xgb.XGBRegressor()\n",
    "xgb_model.fit(final_df, y.ravel())\n",
    "\n",
    "print(\"Feature Importance:\")\n",
    "for feature, importance in zip(final_df.columns, xgb_model.feature_importances_):\n",
    "    print(f\"{feature}: {importance}\")"
   ]
  },
  {
   "cell_type": "markdown",
   "metadata": {},
   "source": [
    "# TV"
   ]
  },
  {
   "cell_type": "code",
   "execution_count": 35,
   "metadata": {},
   "outputs": [],
   "source": [
    "tv = pd.read_csv('./Working Code/Datasets/tv1.csv') "
   ]
  },
  {
   "cell_type": "code",
   "execution_count": 36,
   "metadata": {},
   "outputs": [],
   "source": [
    "X = tv[['PREZZO_PROMO', 'PREZZO_LISTINO', 'STOCK_PZ',\n",
    "        'SCONTO_PERC', 'KPI_1',\n",
    "        'KPI_2', 'KPI_3', 'KPI_4', 'KPI_5', 'QTA_storico',\n",
    "        'FATTURATO_storico', 'DURATA_VOLANTINO_IN_GIORNI',\n",
    "        'DISPLAY_SIZE', 'HD_QUALITY', 'OLED', 'SMART',\n",
    "        'MFM', 'WCG', 'MINILED', 'SCONTO_PERC_MEDIO_VOLANTINO', 'Month_Redditivity',\n",
    "        'Year', 'SCONTO_PERC_MEDIO_NOME_CAMPAGNA']]\n",
    "y = tv[['QTA']].values\n",
    "\n",
    "from sklearn.preprocessing import OneHotEncoder\n",
    "ohe = OneHotEncoder(sparse = False)\n",
    "oheTransform = ohe.fit_transform(X[['Year']])\n",
    "oheTransform = pd.DataFrame(oheTransform, columns=ohe.get_feature_names_out())\n",
    "\n",
    "final_df = pd.concat([X, oheTransform], axis=1)\n",
    "\n",
    "final_df = final_df.drop(['Year'], axis = 1)"
   ]
  },
  {
   "cell_type": "markdown",
   "metadata": {},
   "source": [
    "## BENCHMARK"
   ]
  },
  {
   "cell_type": "code",
   "execution_count": 37,
   "metadata": {},
   "outputs": [
    {
     "name": "stdout",
     "output_type": "stream",
     "text": [
      "RMSE = 420.9253442726455\n"
     ]
    }
   ],
   "source": [
    "from sklearn.metrics import mean_squared_error as mse\n",
    "\n",
    "bench = tv.copy(deep=True)\n",
    "bench = bench.dropna(subset=['QTA'])\n",
    "bench['Previsione'] = bench['QTA_storico']/30\n",
    "bench['Previsione'] *= bench['DURATA_VOLANTINO_IN_GIORNI']\n",
    "\n",
    "rmse = np.sqrt(mse(bench['QTA'], bench['Previsione']))\n",
    "\n",
    "print(f'RMSE = {rmse}')"
   ]
  },
  {
   "cell_type": "markdown",
   "metadata": {},
   "source": [
    "## LINEAR REGRESSION"
   ]
  },
  {
   "cell_type": "code",
   "execution_count": 38,
   "metadata": {},
   "outputs": [
    {
     "name": "stdout",
     "output_type": "stream",
     "text": [
      "Linear Regression RMSE scores per fold: [307.31547116 306.8680023  269.55159616 319.02917918 234.68757962\n",
      " 304.70563182 290.68911597 336.83398852 240.61246639 518.78660299]\n",
      "Linear Regression Average RMSE: 312.90796341032626\n"
     ]
    }
   ],
   "source": [
    "from sklearn.model_selection import KFold\n",
    "from sklearn.model_selection import cross_val_score\n",
    "from sklearn.linear_model import LinearRegression\n",
    "from sklearn.preprocessing import StandardScaler\n",
    "\n",
    "scaler = StandardScaler()\n",
    "final_df_scaled = scaler.fit_transform(final_df)\n",
    "\n",
    "kf = KFold(n_splits=10, shuffle=True, random_state=42)\n",
    "lr = LinearRegression()\n",
    "\n",
    "lr_scores = cross_val_score(lr, final_df_scaled, y, cv=kf, scoring='neg_mean_squared_error')\n",
    "lr_rmse_scores = np.sqrt(-lr_scores)\n",
    "\n",
    "print(f\"Linear Regression RMSE scores per fold: {lr_rmse_scores}\")\n",
    "print(f\"Linear Regression Average RMSE: {lr_rmse_scores.mean()}\")"
   ]
  },
  {
   "cell_type": "code",
   "execution_count": 39,
   "metadata": {},
   "outputs": [
    {
     "name": "stdout",
     "output_type": "stream",
     "text": [
      "\n",
      "Coefficients:\n",
      "PREZZO_PROMO: -3.5634011153718905\n",
      "PREZZO_LISTINO: -18.59453342156977\n",
      "STOCK_PZ: 129.84730874995876\n",
      "SCONTO_PERC: 46.52953630914751\n",
      "KPI_1: 42.10195073997686\n",
      "KPI_2: -16.307318611139127\n",
      "KPI_3: 5.620192532468837\n",
      "KPI_4: 2.6305128595209846\n",
      "KPI_5: 18.72083013801395\n",
      "QTA_storico: 103.54025185306214\n",
      "FATTURATO_storico: -23.815394201060766\n",
      "DURATA_VOLANTINO_IN_GIORNI: 66.30386319138856\n",
      "DISPLAY_SIZE: -41.70162564202628\n",
      "HD_QUALITY: -84.12826583361807\n",
      "OLED: -3.4887982590227398\n",
      "SMART: 40.84785710482938\n",
      "MFM: 1.5732616470771323\n",
      "WCG: -28.00584017843344\n",
      "MINILED: -0.2513358868938059\n",
      "SCONTO_PERC_MEDIO_VOLANTINO: -16.58130021782537\n",
      "Month_Redditivity: 24.876851681073727\n",
      "SCONTO_PERC_MEDIO_NOME_CAMPAGNA: 38.851759490874045\n",
      "Year_COVID: 13.809996897538761\n",
      "Year_POST_COVID: -8.248107103398615\n",
      "Year_PRE_COVID: -6.087296432791706\n"
     ]
    }
   ],
   "source": [
    "column_names = final_df.columns.tolist()\n",
    "\n",
    "lr.fit(final_df_scaled, y)\n",
    "\n",
    "print(\"\\nCoefficients:\")\n",
    "for feature, coef in zip(column_names, lr.coef_.tolist()[0]):\n",
    "    print(f\"{feature}: {coef}\")"
   ]
  },
  {
   "cell_type": "markdown",
   "metadata": {},
   "source": [
    "## RANDOM FOREST"
   ]
  },
  {
   "cell_type": "code",
   "execution_count": 40,
   "metadata": {},
   "outputs": [
    {
     "name": "stdout",
     "output_type": "stream",
     "text": [
      "Random Forest RMSE scores per fold: [298.65287172 279.17002124 247.06873644 311.62527511 215.96946097\n",
      " 292.25202221 284.94859523 384.50963063 229.27328422 484.58649448]\n",
      "Random Forest Average RMSE: 302.80563922530956\n"
     ]
    }
   ],
   "source": [
    "from sklearn.model_selection import KFold\n",
    "from sklearn.model_selection import cross_val_score\n",
    "from sklearn.ensemble import RandomForestRegressor\n",
    "\n",
    "kf = KFold(n_splits=10, shuffle=True, random_state=42)\n",
    "rfr = RandomForestRegressor()\n",
    "\n",
    "rfr_scores = cross_val_score(rfr, final_df, y, cv=kf, scoring='neg_mean_squared_error')\n",
    "rfr_rmse_scores = np.sqrt(-rfr_scores)\n",
    "\n",
    "print(f\"Random Forest RMSE scores per fold: {rfr_rmse_scores}\")\n",
    "print(f\"Random Forest Average RMSE: {rfr_rmse_scores.mean()}\")"
   ]
  },
  {
   "cell_type": "code",
   "execution_count": 41,
   "metadata": {},
   "outputs": [
    {
     "name": "stdout",
     "output_type": "stream",
     "text": [
      "Feature Importance:\n",
      "PREZZO_PROMO: 0.15908573635720621\n",
      "PREZZO_LISTINO: 0.03665521766454854\n",
      "STOCK_PZ: 0.2065740926993592\n",
      "SCONTO_PERC: 0.07216485315349153\n",
      "KPI_1: 0.05855043230621396\n",
      "KPI_2: 0.03059566018120907\n",
      "KPI_3: 0.039803399864958476\n",
      "KPI_4: 0.0199546557907136\n",
      "KPI_5: 0.02238592496789392\n",
      "QTA_storico: 0.16961234117460006\n",
      "FATTURATO_storico: 0.04203919128750274\n",
      "DURATA_VOLANTINO_IN_GIORNI: 0.024754066189573584\n",
      "DISPLAY_SIZE: 0.016533019941281996\n",
      "HD_QUALITY: 0.005890542706348907\n",
      "OLED: 0.0001379007795597618\n",
      "SMART: 0.001521079893828259\n",
      "MFM: 0.00036955862626032986\n",
      "WCG: 0.001831289960280168\n",
      "MINILED: 3.54218417818228e-05\n",
      "SCONTO_PERC_MEDIO_VOLANTINO: 0.04602949313500707\n",
      "Month_Redditivity: 0.007738729600347159\n",
      "SCONTO_PERC_MEDIO_NOME_CAMPAGNA: 0.020448683948759476\n",
      "Year_COVID: 0.00430982126822284\n",
      "Year_POST_COVID: 0.005641998901709187\n",
      "Year_PRE_COVID: 0.0073368877593421805\n"
     ]
    }
   ],
   "source": [
    "rfr.fit(final_df, y)\n",
    "\n",
    "print(\"Feature Importance:\")\n",
    "for feature, importance in zip(final_df.columns, rfr.feature_importances_):\n",
    "    print(f\"{feature}: {importance}\")"
   ]
  },
  {
   "cell_type": "markdown",
   "metadata": {},
   "source": [
    "## XGBoost"
   ]
  },
  {
   "cell_type": "code",
   "execution_count": 42,
   "metadata": {},
   "outputs": [
    {
     "name": "stdout",
     "output_type": "stream",
     "text": [
      "XGBoost RMSE scores per fold: [291.37209429 280.83900969 230.17308965 325.63163335 216.61790789\n",
      " 338.76382447 285.41237851 370.34967798 218.87293422 454.8391452 ]\n",
      "XGBoost Average RMSE: 301.2871695251239\n"
     ]
    }
   ],
   "source": [
    "import xgboost as xgb\n",
    "from sklearn.model_selection import KFold, cross_val_score\n",
    "\n",
    "xgb_model = xgb.XGBRegressor()\n",
    "\n",
    "kf = KFold(n_splits=10, shuffle=True, random_state=42)\n",
    "xgb_scores = cross_val_score(xgb_model, final_df, y.ravel(), cv=kf, scoring='neg_mean_squared_error')\n",
    "xgb_rmse_scores = np.sqrt(-xgb_scores)\n",
    "\n",
    "print(f\"XGBoost RMSE scores per fold: {xgb_rmse_scores}\")\n",
    "print(f\"XGBoost Average RMSE: {xgb_rmse_scores.mean()}\")"
   ]
  },
  {
   "cell_type": "code",
   "execution_count": 43,
   "metadata": {},
   "outputs": [
    {
     "name": "stdout",
     "output_type": "stream",
     "text": [
      "Feature Importance:\n",
      "PREZZO_PROMO: 0.1017080768942833\n",
      "PREZZO_LISTINO: 0.02155967615544796\n",
      "STOCK_PZ: 0.06783775240182877\n",
      "SCONTO_PERC: 0.05595667287707329\n",
      "KPI_1: 0.04516518488526344\n",
      "KPI_2: 0.046180881559848785\n",
      "KPI_3: 0.028865812346339226\n",
      "KPI_4: 0.012091819196939468\n",
      "KPI_5: 0.02003631927073002\n",
      "QTA_storico: 0.08438415825366974\n",
      "FATTURATO_storico: 0.039382435381412506\n",
      "DURATA_VOLANTINO_IN_GIORNI: 0.047860756516456604\n",
      "DISPLAY_SIZE: 0.026080893352627754\n",
      "HD_QUALITY: 0.02061224915087223\n",
      "OLED: 0.003964218311011791\n",
      "SMART: 0.04107169434428215\n",
      "MFM: 0.005983822979032993\n",
      "WCG: 0.004907253663986921\n",
      "MINILED: 0.0019471992272883654\n",
      "SCONTO_PERC_MEDIO_VOLANTINO: 0.03187764063477516\n",
      "Month_Redditivity: 0.039803776890039444\n",
      "SCONTO_PERC_MEDIO_NOME_CAMPAGNA: 0.03370236977934837\n",
      "Year_COVID: 0.062110960483551025\n",
      "Year_POST_COVID: 0.06626830250024796\n",
      "Year_PRE_COVID: 0.0906400978565216\n"
     ]
    }
   ],
   "source": [
    "xgb_model = xgb.XGBRegressor()\n",
    "xgb_model.fit(final_df, y.ravel())\n",
    "\n",
    "print(\"Feature Importance:\")\n",
    "for feature, importance in zip(final_df.columns, xgb_model.feature_importances_):\n",
    "    print(f\"{feature}: {importance}\")"
   ]
  }
 ],
 "metadata": {
  "kernelspec": {
   "display_name": "base",
   "language": "python",
   "name": "python3"
  },
  "language_info": {
   "codemirror_mode": {
    "name": "ipython",
    "version": 3
   },
   "file_extension": ".py",
   "mimetype": "text/x-python",
   "name": "python",
   "nbconvert_exporter": "python",
   "pygments_lexer": "ipython3",
   "version": "3.9.13"
  }
 },
 "nbformat": 4,
 "nbformat_minor": 2
}
