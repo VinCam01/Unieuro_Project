{
 "cells": [
  {
   "cell_type": "code",
   "execution_count": 1,
   "metadata": {},
   "outputs": [],
   "source": [
    "import pandas as pd\n",
    "import matplotlib.pyplot as plt\n",
    "import seaborn as sns\n",
    "from pandas import Timedelta\n",
    "import numpy as np\n",
    "import warnings\n",
    "warnings.filterwarnings(\"ignore\")\n",
    "\n",
    "\n",
    "pd.set_option('display.max_columns', None)"
   ]
  },
  {
   "cell_type": "markdown",
   "metadata": {},
   "source": [
    "# SMARTPHONE"
   ]
  },
  {
   "cell_type": "code",
   "execution_count": 66,
   "metadata": {},
   "outputs": [],
   "source": [
    "smartphones = pd.read_csv('./Working Code/Datasets/smartphones1.csv') \n",
    "smartphones['DATA_INIZIO'] = pd.to_datetime(smartphones['DATA_INIZIO'])\n",
    "smartphones['Year'] = smartphones['DATA_INIZIO'].dt.year\n",
    "smartphones = smartphones[smartphones['Year'] != 2020].reset_index()\n",
    "smartphones.drop('index', axis=1, inplace=True)"
   ]
  },
  {
   "cell_type": "code",
   "execution_count": 67,
   "metadata": {},
   "outputs": [],
   "source": [
    "X = smartphones[['PREZZO_PROMO', 'PREZZO_LISTINO', 'STOCK_PZ',\n",
    "                 'TIPOLOGIA_PRODOTTO', 'SCONTO_PERC', 'KPI_1',\n",
    "                 'KPI_2', 'KPI_3', 'KPI_4', 'KPI_5', 'QTA_storico',\n",
    "                 'FATTURATO_storico', 'DURATA_VOLANTINO_IN_GIORNI',\n",
    "                 'DISPLAY_SIZE', 'OPERATOR', 'NUMBER_OF_SIM',\n",
    "                 'CAPACITY', 'GENERATION', 'OPERATING_SYST', 'Month_Redditivity',\n",
    "                 'SCONTO_PERC_MEDIO_VOLANTINO', 'SCONTO_PERC_MEDIO_NOME_CAMPAGNA', 'DATA_INIZIO']]\n",
    "\n",
    "y = smartphones[['QTA', 'DATA_INIZIO']]\n",
    "\n",
    "from sklearn.preprocessing import OneHotEncoder\n",
    "ohe = OneHotEncoder(sparse = False)\n",
    "oheTransform = ohe.fit_transform(X[['TIPOLOGIA_PRODOTTO', 'OPERATOR']])\n",
    "oheTransform = pd.DataFrame(oheTransform, columns=ohe.get_feature_names_out())\n",
    "\n",
    "final_df = pd.concat([X, oheTransform], axis=1)\n",
    "\n",
    "final_df = final_df.drop(['TIPOLOGIA_PRODOTTO', 'OPERATOR'], axis = 1)"
   ]
  },
  {
   "cell_type": "code",
   "execution_count": 68,
   "metadata": {},
   "outputs": [],
   "source": [
    "# WE WILL USE AS TEST SET AUGUST, SEPTEMBER AND OCTOBER 2023\n",
    "\n",
    "X_train = final_df[~(((final_df['DATA_INIZIO'].dt.month == 8) | (final_df['DATA_INIZIO'].dt.month == 9) | (final_df['DATA_INIZIO'].dt.month == 10)) & (final_df['DATA_INIZIO'].dt.year == 2023))]\n",
    "X_test = final_df[((final_df['DATA_INIZIO'].dt.month == 8) | (final_df['DATA_INIZIO'].dt.month == 9) | (final_df['DATA_INIZIO'].dt.month == 10)) & (final_df['DATA_INIZIO'].dt.year == 2023)]\n",
    "\n",
    "X_train.drop('DATA_INIZIO', axis=1, inplace=True)\n",
    "X_test.drop('DATA_INIZIO', axis=1, inplace=True)\n",
    "\n",
    "y_train = y[~(((y['DATA_INIZIO'].dt.month == 8) | (y['DATA_INIZIO'].dt.month == 9) | (y['DATA_INIZIO'].dt.month == 10)) & (y['DATA_INIZIO'].dt.year == 2023))]\n",
    "y_test = y[((y['DATA_INIZIO'].dt.month == 8) | (y['DATA_INIZIO'].dt.month == 9) | (y['DATA_INIZIO'].dt.month == 10)) & (y['DATA_INIZIO'].dt.year == 2023)]\n",
    "y_train.drop('DATA_INIZIO', axis=1, inplace=True)\n",
    "y_test.drop('DATA_INIZIO', axis=1, inplace=True)\n",
    "\n"
   ]
  },
  {
   "cell_type": "markdown",
   "metadata": {},
   "source": [
    "## BENCHMARK"
   ]
  },
  {
   "cell_type": "code",
   "execution_count": 69,
   "metadata": {},
   "outputs": [
    {
     "name": "stdout",
     "output_type": "stream",
     "text": [
      "RMSE = 314.9338690616392\n"
     ]
    }
   ],
   "source": [
    "from sklearn.metrics import mean_squared_error as mse\n",
    "\n",
    "bench = X_test.copy(deep=True)\n",
    "bench['Previsione'] = bench['QTA_storico']/30\n",
    "bench['Previsione'] *= bench['DURATA_VOLANTINO_IN_GIORNI']\n",
    "\n",
    "rmse = np.sqrt(mse(y_test['QTA'], bench['Previsione']))\n",
    "\n",
    "y_train = y_train.values\n",
    "y_test = y_test.values\n",
    "\n",
    "print(f'RMSE = {rmse}')"
   ]
  },
  {
   "cell_type": "markdown",
   "metadata": {},
   "source": [
    "## LINEAR REGRESSION"
   ]
  },
  {
   "cell_type": "code",
   "execution_count": 70,
   "metadata": {},
   "outputs": [
    {
     "name": "stdout",
     "output_type": "stream",
     "text": [
      "RMSE = 306.9776763954178\n"
     ]
    }
   ],
   "source": [
    "from sklearn.preprocessing import StandardScaler\n",
    "column_names = X_train.columns.tolist()\n",
    "scaler = StandardScaler()\n",
    "X_train = scaler.fit_transform(X_train)\n",
    "X_test = scaler.transform(X_test)\n",
    "\n",
    "from sklearn.linear_model import LinearRegression\n",
    "classifier = LinearRegression()\n",
    "classifier.fit(X_train, y_train)\n",
    "\n",
    "y_pred = classifier.predict(X_test)\n",
    "y_pred = np.where(y_pred < 0, 0, y_pred)\n",
    "\n",
    "from sklearn.metrics import mean_squared_error, r2_score\n",
    "mse = mean_squared_error(y_test, y_pred)\n",
    "rmse = np.sqrt(mse)\n",
    "r2 = r2_score(y_test, y_pred)\n",
    "\n",
    "print(f'RMSE = {rmse}')"
   ]
  },
  {
   "cell_type": "code",
   "execution_count": 57,
   "metadata": {},
   "outputs": [
    {
     "name": "stdout",
     "output_type": "stream",
     "text": [
      "\n",
      "Coefficients:\n",
      "PREZZO_PROMO: 17.534558317709934\n",
      "PREZZO_LISTINO: -158.7584875941524\n",
      "STOCK_PZ: 117.81219375234733\n",
      "SCONTO_PERC: 34.323918912757875\n",
      "KPI_1: 58.906910109075696\n",
      "KPI_2: -34.5523159948223\n",
      "KPI_3: 109.24351348194458\n",
      "KPI_4: 63.29688428520864\n",
      "KPI_5: 1.2136439095072222\n",
      "QTA_storico: 152.11634822222175\n",
      "FATTURATO_storico: -28.603137121481453\n",
      "DURATA_VOLANTINO_IN_GIORNI: 63.18163542377227\n",
      "DISPLAY_SIZE: 80.54001923353225\n",
      "NUMBER_OF_SIM: 0.07980573805180541\n",
      "CAPACITY: 16.663197451565722\n",
      "GENERATION: 3.772174381750905\n",
      "OPERATING_SYST: 104.15737366189298\n",
      "Month_Redditivity: 15.159451141879194\n",
      "SCONTO_PERC_MEDIO_VOLANTINO: -21.468844621595412\n",
      "SCONTO_PERC_MEDIO_NOME_CAMPAGNA: 40.8499112827952\n",
      "TIPOLOGIA_PRODOTTO_ND: -10.121943731106093\n",
      "TIPOLOGIA_PRODOTTO_Principale: 46.27263681145886\n",
      "TIPOLOGIA_PRODOTTO_Sostitutivo: -25.092120845551037\n",
      "OPERATOR_SIM FREE: -11.954221577610245\n",
      "OPERATOR_TIM: 8.001468513237976\n",
      "OPERATOR_VODAFONE: 2.1498371869197506\n",
      "OPERATOR_WINDTRE: 10.711581496254192\n"
     ]
    }
   ],
   "source": [
    "print(\"\\nCoefficients:\")\n",
    "for feature, coef in zip(column_names, classifier.coef_.tolist()[0]):\n",
    "    print(f\"{feature}: {coef}\")"
   ]
  },
  {
   "cell_type": "markdown",
   "metadata": {},
   "source": [
    "## RANDOM FOREST"
   ]
  },
  {
   "cell_type": "code",
   "execution_count": 58,
   "metadata": {},
   "outputs": [
    {
     "name": "stdout",
     "output_type": "stream",
     "text": [
      "Hyperparameters:\n",
      "{'n_estimators': 700, 'min_samples_split': 2, 'min_samples_leaf': 1, 'max_features': 'sqrt', 'max_depth': 20}\n",
      "RMSE con i migliori iperparametri = 327.0856605338226\n"
     ]
    }
   ],
   "source": [
    "from sklearn.model_selection import RandomizedSearchCV\n",
    "from sklearn.ensemble import RandomForestRegressor\n",
    "\n",
    "param_grid = {\n",
    "    'n_estimators': [100, 200, 300, 400, 500, 600, 700, 800], \n",
    "    'max_features': ['sqrt'], \n",
    "    'max_depth': [10, 20, 30], \n",
    "    'min_samples_split': [2, 5, 10], \n",
    "    'min_samples_leaf': [1, 2, 4] \n",
    "}\n",
    "\n",
    "random_search = RandomizedSearchCV(estimator=RandomForestRegressor(random_state=69),\n",
    "                                   param_distributions=param_grid,\n",
    "                                   n_iter=100,  \n",
    "                                   cv=3,  \n",
    "                                   scoring='neg_mean_squared_error', \n",
    "                                   random_state=42\n",
    "                                   )\n",
    "\n",
    "random_search.fit(X_train, y_train)\n",
    "\n",
    "print(\"Hyperparameters:\")\n",
    "print(random_search.best_params_)\n",
    "\n",
    "best_model = random_search.best_estimator_\n",
    "y_pred = best_model.predict(X_test)\n",
    "y_pred = np.where(y_pred < 0, 0, y_pred)\n",
    "\n",
    "mse = mean_squared_error(y_test, y_pred)\n",
    "rmse = np.sqrt(mse)\n",
    "print(f'RMSE con i migliori iperparametri = {rmse}')\n"
   ]
  },
  {
   "cell_type": "code",
   "execution_count": 71,
   "metadata": {},
   "outputs": [
    {
     "name": "stdout",
     "output_type": "stream",
     "text": [
      "RMSE = 327.0856605338226\n"
     ]
    }
   ],
   "source": [
    "hyperparameters = {'n_estimators': 700, 'min_samples_split': 2, 'min_samples_leaf': 1, 'max_features': 'sqrt', 'max_depth': 20}\n",
    "\n",
    "from sklearn.ensemble import RandomForestRegressor\n",
    "from sklearn.model_selection import cross_val_score\n",
    "from sklearn.metrics import mean_squared_error, mean_absolute_error, r2_score\n",
    "\n",
    "rfr = RandomForestRegressor(random_state=69, **hyperparameters)\n",
    "rfr.fit(X_train, y_train)\n",
    "y_pred = rfr.predict(X_test)\n",
    "y_pred = np.where(y_pred < 0, 0, y_pred)\n",
    "\n",
    "mean_absolute_error(y_test, y_pred)\n",
    "mse = mean_squared_error(y_test, y_pred)\n",
    "#r2_score(y_test, y_pred)\n",
    "rmse = np.sqrt(mse)\n",
    "print(f'RMSE = {rmse}')"
   ]
  },
  {
   "cell_type": "code",
   "execution_count": 60,
   "metadata": {},
   "outputs": [
    {
     "name": "stdout",
     "output_type": "stream",
     "text": [
      "Feature Importance:\n",
      "PREZZO_PROMO: 0.0682482333986906\n",
      "PREZZO_LISTINO: 0.06049223760459818\n",
      "STOCK_PZ: 0.14414385156091836\n",
      "SCONTO_PERC: 0.05077180581787915\n",
      "KPI_1: 0.05010833635289502\n",
      "KPI_2: 0.04000710026599493\n",
      "KPI_3: 0.08517534211305161\n",
      "KPI_4: 0.03278810215676554\n",
      "KPI_5: 0.02984694629977493\n",
      "QTA_storico: 0.15007972697360702\n",
      "FATTURATO_storico: 0.08638124142453178\n",
      "DURATA_VOLANTINO_IN_GIORNI: 0.031405076239882646\n",
      "DISPLAY_SIZE: 0.03527395944427165\n",
      "NUMBER_OF_SIM: 0.0026322829020369656\n",
      "CAPACITY: 0.015197082213772492\n",
      "GENERATION: 0.004561971311100102\n",
      "OPERATING_SYST: 0.0014228259988885894\n",
      "Month_Redditivity: 0.011490479583186868\n",
      "SCONTO_PERC_MEDIO_VOLANTINO: 0.03567568855513191\n",
      "SCONTO_PERC_MEDIO_NOME_CAMPAGNA: 0.019230135931100754\n",
      "TIPOLOGIA_PRODOTTO_ND: 0.006368935162313195\n",
      "TIPOLOGIA_PRODOTTO_Principale: 0.015657218269028658\n",
      "TIPOLOGIA_PRODOTTO_Sostitutivo: 0.005208435815358113\n",
      "OPERATOR_SIM FREE: 0.006820208032711593\n",
      "OPERATOR_TIM: 0.0038949949301724175\n",
      "OPERATOR_VODAFONE: 0.0030520817004791485\n",
      "OPERATOR_WINDTRE: 0.0040656999418576265\n"
     ]
    }
   ],
   "source": [
    "print(\"Feature Importance:\")\n",
    "for feature, importance in zip(column_names, rfr.feature_importances_):\n",
    "    print(f\"{feature}: {importance}\")"
   ]
  },
  {
   "cell_type": "markdown",
   "metadata": {},
   "source": [
    "## XGBOOST"
   ]
  },
  {
   "cell_type": "code",
   "execution_count": 61,
   "metadata": {},
   "outputs": [
    {
     "name": "stdout",
     "output_type": "stream",
     "text": [
      "Migliori iperparametri:\n",
      "{'subsample': 1.0, 'n_estimators': 400, 'min_child_weight': 1, 'max_depth': 6, 'learning_rate': 0.05, 'gamma': 0.2, 'colsample_bytree': 0.6}\n",
      "RMSE con i migliori iperparametri = 341.2504337269346\n"
     ]
    }
   ],
   "source": [
    "from sklearn.model_selection import RandomizedSearchCV\n",
    "import xgboost as xgb\n",
    "\n",
    "param_grid = {\n",
    "    'n_estimators': [100, 200, 300, 400, 500], \n",
    "    'learning_rate': [0.01, 0.05, 0.1, 0.2, 0.3], \n",
    "    'max_depth': [3, 4, 5, 6, 7, 8, 9, 10], \n",
    "    'min_child_weight': [1, 2, 3, 4, 5],\n",
    "    'subsample': [0.6, 0.7, 0.8, 0.9, 1.0],  \n",
    "    'colsample_bytree': [0.6, 0.7, 0.8, 0.9, 1.0],  \n",
    "    'gamma': [0, 0.1, 0.2, 0.3, 0.4] \n",
    "}\n",
    "\n",
    "random_search = RandomizedSearchCV(estimator=xgb.XGBRegressor(random_state=69),\n",
    "                                   param_distributions=param_grid,\n",
    "                                   n_iter=100, \n",
    "                                   cv=3, \n",
    "                                   scoring='neg_mean_squared_error', \n",
    "                                   random_state=42,\n",
    "                                   n_jobs = -1)\n",
    "\n",
    "random_search.fit(X_train, y_train)\n",
    "\n",
    "print(\"Migliori iperparametri:\")\n",
    "print(random_search.best_params_)\n",
    "\n",
    "best_model = random_search.best_estimator_\n",
    "y_pred = best_model.predict(X_test)\n",
    "y_pred = np.where(y_pred < 0, 0, y_pred)\n",
    "\n",
    "mse = mean_squared_error(y_test, y_pred)\n",
    "rmse = np.sqrt(mse)\n",
    "print(f'RMSE con i migliori iperparametri = {rmse}')"
   ]
  },
  {
   "cell_type": "code",
   "execution_count": 72,
   "metadata": {},
   "outputs": [
    {
     "name": "stdout",
     "output_type": "stream",
     "text": [
      "RMSE = 341.2504337269346\n"
     ]
    }
   ],
   "source": [
    "hyperparameters = {'subsample': 1.0, 'n_estimators': 400, 'min_child_weight': 1, 'max_depth': 6, 'learning_rate': 0.05, 'gamma': 0.2, 'colsample_bytree': 0.6}\n",
    "\n",
    "import xgboost as xgb\n",
    "from sklearn.metrics import mean_squared_error, mean_absolute_error\n",
    "\n",
    "xgbr = xgb.XGBRegressor(random_state=69, **hyperparameters)\n",
    "xgbr.fit(X_train, y_train)\n",
    "y_pred = xgbr.predict(X_test)\n",
    "y_pred = np.where(y_pred < 0, 0, y_pred)\n",
    "mse = mean_squared_error(y_test, y_pred)\n",
    "rmse = np.sqrt(mse)\n",
    "\n",
    "print(f'RMSE = {rmse}')\n"
   ]
  },
  {
   "cell_type": "code",
   "execution_count": 63,
   "metadata": {},
   "outputs": [
    {
     "name": "stdout",
     "output_type": "stream",
     "text": [
      "Feature Importance:\n",
      "PREZZO_PROMO: 0.03458721190690994\n",
      "PREZZO_LISTINO: 0.0357833132147789\n",
      "STOCK_PZ: 0.07435755431652069\n",
      "SCONTO_PERC: 0.03712259978055954\n",
      "KPI_1: 0.0437902994453907\n",
      "KPI_2: 0.027001013979315758\n",
      "KPI_3: 0.028121542185544968\n",
      "KPI_4: 0.026619447395205498\n",
      "KPI_5: 0.022879458963871002\n",
      "QTA_storico: 0.13976448774337769\n",
      "FATTURATO_storico: 0.02078085206449032\n",
      "DURATA_VOLANTINO_IN_GIORNI: 0.03696943074464798\n",
      "DISPLAY_SIZE: 0.05150375887751579\n",
      "NUMBER_OF_SIM: 0.012760818004608154\n",
      "CAPACITY: 0.023385334759950638\n",
      "GENERATION: 0.025875283405184746\n",
      "OPERATING_SYST: 0.013070090673863888\n",
      "Month_Redditivity: 0.028848515823483467\n",
      "SCONTO_PERC_MEDIO_VOLANTINO: 0.023975513875484467\n",
      "SCONTO_PERC_MEDIO_NOME_CAMPAGNA: 0.01915685646235943\n",
      "TIPOLOGIA_PRODOTTO_ND: 0.05496830865740776\n",
      "TIPOLOGIA_PRODOTTO_Principale: 0.05338415503501892\n",
      "TIPOLOGIA_PRODOTTO_Sostitutivo: 0.0346207395195961\n",
      "OPERATOR_SIM FREE: 0.03378095477819443\n",
      "OPERATOR_TIM: 0.023993076756596565\n",
      "OPERATOR_VODAFONE: 0.03483058512210846\n",
      "OPERATOR_WINDTRE: 0.03806890547275543\n"
     ]
    }
   ],
   "source": [
    "\n",
    "print(\"Feature Importance:\")\n",
    "for feature, importance in zip(column_names, xgbr.feature_importances_):\n",
    "    print(f\"{feature}: {importance}\")"
   ]
  },
  {
   "cell_type": "markdown",
   "metadata": {},
   "source": [
    "# PC"
   ]
  },
  {
   "cell_type": "code",
   "execution_count": 73,
   "metadata": {},
   "outputs": [],
   "source": [
    "pc = pd.read_csv('./Working Code/Datasets/pc1.csv') \n",
    "pc['DATA_INIZIO'] = pd.to_datetime(pc['DATA_INIZIO'])\n",
    "pc['Year'] = pc['DATA_INIZIO'].dt.year\n",
    "pc = pc[pc['Year'] != 2020].reset_index()\n",
    "pc.drop('index', axis=1, inplace=True)"
   ]
  },
  {
   "cell_type": "code",
   "execution_count": 74,
   "metadata": {},
   "outputs": [],
   "source": [
    "X = pc[['PREZZO_PROMO', 'PREZZO_LISTINO', 'STOCK_PZ',\n",
    "        'TIPOLOGIA_PRODOTTO','SCONTO_PERC', 'KPI_1',\n",
    "        'KPI_2', 'KPI_3', 'KPI_4', 'KPI_5', 'QTA_storico',\n",
    "        'FATTURATO_storico', 'DURATA_VOLANTINO_IN_GIORNI',\n",
    "        'STORAGE_GB', 'RAM_GB', 'DISPLAY_SIZE', 'CONVERTIBLE',\n",
    "        'SCONTO_PERC_MEDIO_VOLANTINO', 'VERSION_NOT_DEFINED',\n",
    "        'VERSION_INTEL', 'VERSION_APPLE', 'VERSION_RAD',\n",
    "        'VERSION_GEF', 'QUALITY_VERSION', 'QUALITY_PROCESSOR',\n",
    "        'Month_Redditivity', 'SCONTO_PERC_MEDIO_NOME_CAMPAGNA', 'DATA_INIZIO']]\n",
    "y = pc[['QTA', 'DATA_INIZIO']]\n",
    "\n",
    "from sklearn.preprocessing import OneHotEncoder\n",
    "ohe = OneHotEncoder(sparse = False)\n",
    "oheTransform = ohe.fit_transform(X[['TIPOLOGIA_PRODOTTO']])\n",
    "oheTransform = pd.DataFrame(oheTransform, columns=ohe.get_feature_names_out())\n",
    "\n",
    "final_df = pd.concat([X, oheTransform], axis=1)\n",
    "\n",
    "final_df = final_df.drop(['TIPOLOGIA_PRODOTTO'], axis = 1)"
   ]
  },
  {
   "cell_type": "code",
   "execution_count": 75,
   "metadata": {},
   "outputs": [],
   "source": [
    "# WE WILL USE AS TEST SET AUGUST, SEPTEMBER AND OCTOBER 2023\n",
    "\n",
    "X_train = final_df[~(((final_df['DATA_INIZIO'].dt.month == 8) | (final_df['DATA_INIZIO'].dt.month == 9) | (final_df['DATA_INIZIO'].dt.month == 10)) & (final_df['DATA_INIZIO'].dt.year == 2023))]\n",
    "X_test = final_df[((final_df['DATA_INIZIO'].dt.month == 8) | (final_df['DATA_INIZIO'].dt.month == 9) | (final_df['DATA_INIZIO'].dt.month == 10)) & (final_df['DATA_INIZIO'].dt.year == 2023)]\n",
    "\n",
    "X_train.drop('DATA_INIZIO', axis=1, inplace=True)\n",
    "X_test.drop('DATA_INIZIO', axis=1, inplace=True)\n",
    "\n",
    "y_train = y[~(((y['DATA_INIZIO'].dt.month == 8) | (y['DATA_INIZIO'].dt.month == 9) | (y['DATA_INIZIO'].dt.month == 10)) & (y['DATA_INIZIO'].dt.year == 2023))]\n",
    "y_test = y[((y['DATA_INIZIO'].dt.month == 8) | (y['DATA_INIZIO'].dt.month == 9) | (y['DATA_INIZIO'].dt.month == 10)) & (y['DATA_INIZIO'].dt.year == 2023)]\n",
    "y_train.drop('DATA_INIZIO', axis=1, inplace=True)\n",
    "y_test.drop('DATA_INIZIO', axis=1, inplace=True)\n",
    "\n"
   ]
  },
  {
   "cell_type": "markdown",
   "metadata": {},
   "source": [
    "## BENCHMARK"
   ]
  },
  {
   "cell_type": "code",
   "execution_count": 76,
   "metadata": {},
   "outputs": [
    {
     "name": "stdout",
     "output_type": "stream",
     "text": [
      "RMSE = 257.31527639463883\n"
     ]
    }
   ],
   "source": [
    "from sklearn.metrics import mean_squared_error as mse\n",
    "\n",
    "bench = X_test.copy(deep=True)\n",
    "bench['Previsione'] = bench['QTA_storico']/30\n",
    "bench['Previsione'] *= bench['DURATA_VOLANTINO_IN_GIORNI']\n",
    "\n",
    "rmse = np.sqrt(mse(y_test['QTA'], bench['Previsione']))\n",
    "\n",
    "y_train = y_train.values\n",
    "y_test = y_test.values\n",
    "\n",
    "print(f'RMSE = {rmse}')"
   ]
  },
  {
   "cell_type": "markdown",
   "metadata": {},
   "source": [
    "## LINEAR REGRESSION"
   ]
  },
  {
   "cell_type": "code",
   "execution_count": 77,
   "metadata": {},
   "outputs": [
    {
     "name": "stdout",
     "output_type": "stream",
     "text": [
      "RMSE = 178.03943167198634\n"
     ]
    }
   ],
   "source": [
    "from sklearn.preprocessing import StandardScaler\n",
    "column_names = X_train.columns.tolist()\n",
    "scaler = StandardScaler()\n",
    "X_train = scaler.fit_transform(X_train)\n",
    "X_test = scaler.transform(X_test)\n",
    "\n",
    "from sklearn.linear_model import LinearRegression\n",
    "classifier = LinearRegression()\n",
    "classifier.fit(X_train, y_train)\n",
    "\n",
    "y_pred = classifier.predict(X_test)\n",
    "y_pred = np.where(y_pred < 0, 0, y_pred)\n",
    "\n",
    "from sklearn.metrics import mean_squared_error, r2_score\n",
    "mse = mean_squared_error(y_test, y_pred)\n",
    "rmse = np.sqrt(mse)\n",
    "r2 = r2_score(y_test, y_pred)\n",
    "\n",
    "print(f'RMSE = {rmse}')"
   ]
  },
  {
   "cell_type": "code",
   "execution_count": 78,
   "metadata": {},
   "outputs": [
    {
     "name": "stdout",
     "output_type": "stream",
     "text": [
      "\n",
      "Coefficients:\n",
      "PREZZO_PROMO: -138.7694415003767\n",
      "PREZZO_LISTINO: 23.06108478940054\n",
      "STOCK_PZ: 41.13632302226836\n",
      "SCONTO_PERC: 14.700580046381019\n",
      "KPI_1: 55.12115928637761\n",
      "KPI_2: -24.458657882430362\n",
      "KPI_3: -4.413866992206581\n",
      "KPI_4: 22.655119472933187\n",
      "KPI_5: -19.78091555261102\n",
      "QTA_storico: 21.17436319211781\n",
      "FATTURATO_storico: 2.2637614834903017\n",
      "DURATA_VOLANTINO_IN_GIORNI: 55.52169970789217\n",
      "STORAGE_GB: 5.254122869917298\n",
      "RAM_GB: 13.71477918543268\n",
      "DISPLAY_SIZE: 109.86179156027421\n",
      "CONVERTIBLE: -14.279831503720741\n",
      "SCONTO_PERC_MEDIO_VOLANTINO: 35.11049748043353\n",
      "VERSION_NOT_DEFINED: -23.782773755016287\n",
      "VERSION_INTEL: -10.158619399487707\n",
      "VERSION_APPLE: 89.70372032272562\n",
      "VERSION_RAD: -5.260305820844044\n",
      "VERSION_GEF: -54.835564631409234\n",
      "QUALITY_VERSION: 3.0246782903470866\n",
      "QUALITY_PROCESSOR: 14.763504733216585\n",
      "Month_Redditivity: 11.740296883413542\n",
      "SCONTO_PERC_MEDIO_NOME_CAMPAGNA: 11.340719472530553\n",
      "TIPOLOGIA_PRODOTTO_ND: 67.93550317177618\n",
      "TIPOLOGIA_PRODOTTO_Principale: -33.19858440135238\n",
      "TIPOLOGIA_PRODOTTO_Sostitutivo: -60.835056940068654\n"
     ]
    }
   ],
   "source": [
    "print(\"\\nCoefficients:\")\n",
    "for feature, coef in zip(column_names, classifier.coef_.tolist()[0]):\n",
    "    print(f\"{feature}: {coef}\")"
   ]
  },
  {
   "cell_type": "markdown",
   "metadata": {},
   "source": [
    "## RANDOM FOREST"
   ]
  },
  {
   "cell_type": "code",
   "execution_count": 80,
   "metadata": {},
   "outputs": [
    {
     "name": "stdout",
     "output_type": "stream",
     "text": [
      "Hyperparameters:\n",
      "{'n_estimators': 500, 'min_samples_split': 5, 'min_samples_leaf': 1, 'max_features': 'sqrt', 'max_depth': 10, 'bootstrap': False}\n",
      "RMSE con i migliori iperparametri = 164.87563518281718\n"
     ]
    }
   ],
   "source": [
    "from sklearn.model_selection import RandomizedSearchCV\n",
    "from sklearn.ensemble import RandomForestRegressor\n",
    "\n",
    "param_grid = {\n",
    "    'n_estimators': [100, 200, 300, 400, 500], \n",
    "    'max_features': ['auto', 'sqrt'], \n",
    "    'max_depth': [10, 20, 30, 40, 50, 60, 70, 80, 90, 100, None], \n",
    "    'min_samples_split': [2, 5, 10], \n",
    "    'min_samples_leaf': [1, 2, 4], \n",
    "    'bootstrap': [True, False] \n",
    "}\n",
    "\n",
    "random_search = RandomizedSearchCV(estimator=RandomForestRegressor(random_state=69),\n",
    "                                   param_distributions=param_grid,\n",
    "                                   n_iter=10,  \n",
    "                                   cv=5,  \n",
    "                                   scoring='neg_mean_squared_error', \n",
    "                                   random_state=42)\n",
    "\n",
    "random_search.fit(X_train, y_train)\n",
    "\n",
    "print(\"Hyperparameters:\")\n",
    "print(random_search.best_params_)\n",
    "\n",
    "best_model = random_search.best_estimator_\n",
    "y_pred = best_model.predict(X_test)\n",
    "y_pred = np.where(y_pred < 0, 0, y_pred)\n",
    "\n",
    "mse = mean_squared_error(y_test, y_pred)\n",
    "rmse = np.sqrt(mse)\n",
    "print(f'RMSE con i migliori iperparametri = {rmse}')"
   ]
  },
  {
   "cell_type": "code",
   "execution_count": 79,
   "metadata": {},
   "outputs": [
    {
     "name": "stdout",
     "output_type": "stream",
     "text": [
      "RMSE = 164.87563518281718\n"
     ]
    }
   ],
   "source": [
    "hyperparameters = {'n_estimators': 500, 'min_samples_split': 5, 'min_samples_leaf': 1, 'max_features': 'sqrt', 'max_depth': 10, 'bootstrap': False}\n",
    "\n",
    "from sklearn.ensemble import RandomForestRegressor\n",
    "from sklearn.model_selection import cross_val_score\n",
    "from sklearn.metrics import mean_squared_error, mean_absolute_error, r2_score\n",
    "\n",
    "rfr = RandomForestRegressor(random_state=69, **hyperparameters)\n",
    "rfr.fit(X_train, y_train)\n",
    "y_pred = rfr.predict(X_test)\n",
    "y_pred = np.where(y_pred < 0, 0, y_pred)\n",
    "\n",
    "mean_absolute_error(y_test, y_pred)\n",
    "mse = mean_squared_error(y_test, y_pred)\n",
    "#r2_score(y_test, y_pred)\n",
    "rmse = np.sqrt(mse)\n",
    "print(f'RMSE = {rmse}')"
   ]
  },
  {
   "cell_type": "code",
   "execution_count": 25,
   "metadata": {},
   "outputs": [
    {
     "name": "stdout",
     "output_type": "stream",
     "text": [
      "Feature Importance:\n",
      "PREZZO_PROMO: 0.03434348106384277\n",
      "PREZZO_LISTINO: 0.036376625299453735\n",
      "STOCK_PZ: 0.0765182226896286\n",
      "SCONTO_PERC: 0.03906714543700218\n",
      "KPI_1: 0.04586119204759598\n",
      "KPI_2: 0.02639801800251007\n",
      "KPI_3: 0.027691323310136795\n",
      "KPI_4: 0.029260994866490364\n",
      "KPI_5: 0.02309444360435009\n",
      "QTA_storico: 0.14724865555763245\n",
      "FATTURATO_storico: 0.02183818817138672\n",
      "DURATA_VOLANTINO_IN_GIORNI: 0.03699907287955284\n",
      "STORAGE_GB: 0.05073227360844612\n",
      "RAM_GB: 0.00991913489997387\n",
      "DISPLAY_SIZE: 0.023333264514803886\n",
      "CONVERTIBLE: 0.03511432185769081\n",
      "SCONTO_PERC_MEDIO_VOLANTINO: 0.01669209450483322\n",
      "VERSION_NOT_DEFINED: 0.02501477487385273\n",
      "VERSION_INTEL: 0.023957757279276848\n",
      "VERSION_APPLE: 0.017712589353322983\n",
      "VERSION_RAD: 0.03458438068628311\n",
      "VERSION_GEF: 0.05390232801437378\n",
      "QUALITY_VERSION: 0.03423963859677315\n",
      "QUALITY_PROCESSOR: 0.03709931671619415\n",
      "Month_Redditivity: 0.02064560167491436\n",
      "SCONTO_PERC_MEDIO_NOME_CAMPAGNA: 0.035571519285440445\n",
      "TIPOLOGIA_PRODOTTO_ND: 0.036783616989851\n"
     ]
    }
   ],
   "source": [
    "print(\"Feature Importance:\")\n",
    "for feature, importance in zip(column_names, rfr.feature_importances_):\n",
    "    print(f\"{feature}: {importance}\")"
   ]
  },
  {
   "cell_type": "markdown",
   "metadata": {},
   "source": [
    "## XGBOOST"
   ]
  },
  {
   "cell_type": "code",
   "execution_count": 82,
   "metadata": {},
   "outputs": [
    {
     "name": "stdout",
     "output_type": "stream",
     "text": [
      "Migliori iperparametri:\n",
      "{'subsample': 1.0, 'n_estimators': 500, 'min_child_weight': 2, 'max_depth': 4, 'learning_rate': 0.01, 'gamma': 0.4, 'colsample_bytree': 1.0}\n",
      "RMSE con i migliori iperparametri = 163.6359501820956\n"
     ]
    }
   ],
   "source": [
    "from sklearn.model_selection import RandomizedSearchCV\n",
    "import xgboost as xgb\n",
    "\n",
    "param_grid = {\n",
    "    'n_estimators': [100, 200, 300, 400, 500], \n",
    "    'learning_rate': [0.01, 0.05, 0.1, 0.2, 0.3], \n",
    "    'max_depth': [3, 4, 5, 6, 7, 8, 9, 10], \n",
    "    'min_child_weight': [1, 2, 3, 4, 5],\n",
    "    'subsample': [0.6, 0.7, 0.8, 0.9, 1.0],  \n",
    "    'colsample_bytree': [0.6, 0.7, 0.8, 0.9, 1.0],  \n",
    "    'gamma': [0, 0.1, 0.2, 0.3, 0.4] \n",
    "}\n",
    "\n",
    "random_search = RandomizedSearchCV(estimator=xgb.XGBRegressor(random_state=69),\n",
    "                                   param_distributions=param_grid,\n",
    "                                   n_iter=100, \n",
    "                                   cv=3,  \n",
    "                                   scoring='neg_mean_squared_error', \n",
    "                                   random_state=42)\n",
    "\n",
    "random_search.fit(X_train, y_train)\n",
    "\n",
    "print(\"Migliori iperparametri:\")\n",
    "print(random_search.best_params_)\n",
    "\n",
    "best_model = random_search.best_estimator_\n",
    "y_pred = best_model.predict(X_test)\n",
    "y_pred = np.where(y_pred < 0, 0, y_pred)\n",
    "\n",
    "mse = mean_squared_error(y_test, y_pred)\n",
    "rmse = np.sqrt(mse)\n",
    "print(f'RMSE con i migliori iperparametri = {rmse}')"
   ]
  },
  {
   "cell_type": "code",
   "execution_count": 81,
   "metadata": {},
   "outputs": [
    {
     "name": "stdout",
     "output_type": "stream",
     "text": [
      "RMSE = 162.3577202925557\n"
     ]
    }
   ],
   "source": [
    "hyperparameters = {'subsample': 0.9, 'n_estimators': 400, 'min_child_weight': 1, 'max_depth': 5, 'learning_rate': 0.01, 'gamma': 0.2, 'colsample_bytree': 1.0}\n",
    "\n",
    "import xgboost as xgb\n",
    "from sklearn.metrics import mean_squared_error, mean_absolute_error\n",
    "\n",
    "xgbr = xgb.XGBRegressor(random_state=69, **hyperparameters)\n",
    "xgbr.fit(X_train, y_train)\n",
    "y_pred = xgbr.predict(X_test)\n",
    "y_pred = np.where(y_pred < 0, 0, y_pred)\n",
    "mse = mean_squared_error(y_test, y_pred)\n",
    "rmse = np.sqrt(mse)\n",
    "\n",
    "print(f'RMSE = {rmse}')"
   ]
  },
  {
   "cell_type": "code",
   "execution_count": 83,
   "metadata": {},
   "outputs": [
    {
     "name": "stdout",
     "output_type": "stream",
     "text": [
      "Feature Importance:\n",
      "PREZZO_PROMO: 0.0737595185637474\n",
      "PREZZO_LISTINO: 0.03400077670812607\n",
      "STOCK_PZ: 0.027254972606897354\n",
      "SCONTO_PERC: 0.027176346629858017\n",
      "KPI_1: 0.04933350533246994\n",
      "KPI_2: 0.02869297005236149\n",
      "KPI_3: 0.022554220631718636\n",
      "KPI_4: 0.025020718574523926\n",
      "KPI_5: 0.01722922921180725\n",
      "QTA_storico: 0.020131496712565422\n",
      "FATTURATO_storico: 0.02730761654675007\n",
      "DURATA_VOLANTINO_IN_GIORNI: 0.018234428018331528\n",
      "STORAGE_GB: 0.05538512393832207\n",
      "RAM_GB: 0.031536225229501724\n",
      "DISPLAY_SIZE: 0.07936739921569824\n",
      "CONVERTIBLE: 0.009405390359461308\n",
      "SCONTO_PERC_MEDIO_VOLANTINO: 0.048543088138103485\n",
      "VERSION_NOT_DEFINED: 0.01128406636416912\n",
      "VERSION_INTEL: 0.027129756286740303\n",
      "VERSION_APPLE: 0.018814295530319214\n",
      "VERSION_RAD: 0.025835566222667694\n",
      "VERSION_GEF: 0.010476211085915565\n",
      "QUALITY_VERSION: 0.04785388708114624\n",
      "QUALITY_PROCESSOR: 0.020692160353064537\n",
      "Month_Redditivity: 0.0317317470908165\n",
      "SCONTO_PERC_MEDIO_NOME_CAMPAGNA: 0.019315728917717934\n",
      "TIPOLOGIA_PRODOTTO_ND: 0.07054855674505234\n",
      "TIPOLOGIA_PRODOTTO_Principale: 0.06115226447582245\n",
      "TIPOLOGIA_PRODOTTO_Sostitutivo: 0.060232702642679214\n"
     ]
    }
   ],
   "source": [
    "print(\"Feature Importance:\")\n",
    "for feature, importance in zip(column_names, xgbr.feature_importances_):\n",
    "    print(f\"{feature}: {importance}\")"
   ]
  },
  {
   "cell_type": "markdown",
   "metadata": {},
   "source": [
    "# WASH"
   ]
  },
  {
   "cell_type": "code",
   "execution_count": 84,
   "metadata": {},
   "outputs": [],
   "source": [
    "wash = pd.read_csv('./Working Code/Datasets/wash1.csv') \n",
    "wash['DATA_INIZIO'] = pd.to_datetime(wash['DATA_INIZIO'])\n",
    "wash['Year'] = wash['DATA_INIZIO'].dt.year\n",
    "wash = wash[wash['Year'] != 2020].reset_index()\n",
    "wash.drop('index', axis=1, inplace=True)"
   ]
  },
  {
   "cell_type": "code",
   "execution_count": 85,
   "metadata": {},
   "outputs": [],
   "source": [
    "X = wash[['PREZZO_PROMO', 'PREZZO_LISTINO', 'STOCK_PZ',\n",
    "        'TIPOLOGIA_PRODOTTO','SCONTO_PERC', 'KPI_1',\n",
    "        'KPI_2', 'KPI_3', 'KPI_4', 'KPI_5', 'QTA_storico',\n",
    "        'FATTURATO_storico', 'DURATA_VOLANTINO_IN_GIORNI',\n",
    "        'TYPE', 'TOPLOADING', 'LOADING_KG', 'ENERGY_CLASS',\n",
    "        'DEPTH_CM>48', 'SMART_CONNECT', 'SCONTO_PERC_MEDIO_VOLANTINO', 'Month_Redditivity',\n",
    "        'SCONTO_PERC_MEDIO_NOME_CAMPAGNA', 'DATA_INIZIO']]\n",
    "y = wash[['QTA', 'DATA_INIZIO']]\n",
    "\n",
    "from sklearn.preprocessing import OneHotEncoder\n",
    "ohe = OneHotEncoder(sparse = False)\n",
    "oheTransform = ohe.fit_transform(X[['TIPOLOGIA_PRODOTTO']])\n",
    "oheTransform = pd.DataFrame(oheTransform, columns=ohe.get_feature_names_out())\n",
    "\n",
    "final_df = pd.concat([X, oheTransform], axis=1)\n",
    "\n",
    "final_df = final_df.drop(['TIPOLOGIA_PRODOTTO'], axis = 1)"
   ]
  },
  {
   "cell_type": "code",
   "execution_count": 86,
   "metadata": {},
   "outputs": [],
   "source": [
    "# WE WILL USE AS TEST SET AUGUST, SEPTEMBER AND OCTOBER 2023\n",
    "\n",
    "X_train = final_df[~(((final_df['DATA_INIZIO'].dt.month == 8) | (final_df['DATA_INIZIO'].dt.month == 9) | (final_df['DATA_INIZIO'].dt.month == 10)) & (final_df['DATA_INIZIO'].dt.year == 2023))]\n",
    "X_test = final_df[((final_df['DATA_INIZIO'].dt.month == 8) | (final_df['DATA_INIZIO'].dt.month == 9) | (final_df['DATA_INIZIO'].dt.month == 10)) & (final_df['DATA_INIZIO'].dt.year == 2023)]\n",
    "\n",
    "X_train.drop('DATA_INIZIO', axis=1, inplace=True)\n",
    "X_test.drop('DATA_INIZIO', axis=1, inplace=True)\n",
    "\n",
    "y_train = y[~(((y['DATA_INIZIO'].dt.month == 8) | (y['DATA_INIZIO'].dt.month == 9) | (y['DATA_INIZIO'].dt.month == 10)) & (y['DATA_INIZIO'].dt.year == 2023))]\n",
    "y_test = y[((y['DATA_INIZIO'].dt.month == 8) | (y['DATA_INIZIO'].dt.month == 9) | (y['DATA_INIZIO'].dt.month == 10)) & (y['DATA_INIZIO'].dt.year == 2023)]\n",
    "y_train.drop('DATA_INIZIO', axis=1, inplace=True)\n",
    "y_test.drop('DATA_INIZIO', axis=1, inplace=True)\n",
    "\n"
   ]
  },
  {
   "cell_type": "markdown",
   "metadata": {},
   "source": [
    "## BENCHMARK"
   ]
  },
  {
   "cell_type": "code",
   "execution_count": 87,
   "metadata": {},
   "outputs": [
    {
     "name": "stdout",
     "output_type": "stream",
     "text": [
      "RMSE = 244.3826713055839\n"
     ]
    }
   ],
   "source": [
    "from sklearn.metrics import mean_squared_error as mse\n",
    "\n",
    "bench = X_test.copy(deep=True)\n",
    "bench['Previsione'] = bench['QTA_storico']/30\n",
    "bench['Previsione'] *= bench['DURATA_VOLANTINO_IN_GIORNI']\n",
    "\n",
    "rmse = np.sqrt(mse(y_test['QTA'], bench['Previsione']))\n",
    "\n",
    "y_train = y_train.values\n",
    "y_test = y_test.values\n",
    "\n",
    "print(f'RMSE = {rmse}')"
   ]
  },
  {
   "cell_type": "markdown",
   "metadata": {},
   "source": [
    "## LINEAR REGRESSION"
   ]
  },
  {
   "cell_type": "code",
   "execution_count": 88,
   "metadata": {},
   "outputs": [
    {
     "name": "stdout",
     "output_type": "stream",
     "text": [
      "RMSE = 160.3081728814228\n"
     ]
    }
   ],
   "source": [
    "from sklearn.preprocessing import StandardScaler\n",
    "column_names = X_train.columns.tolist()\n",
    "scaler = StandardScaler()\n",
    "X_train = scaler.fit_transform(X_train)\n",
    "X_test = scaler.transform(X_test)\n",
    "\n",
    "from sklearn.linear_model import LinearRegression\n",
    "classifier = LinearRegression()\n",
    "classifier.fit(X_train, y_train)\n",
    "\n",
    "y_pred = classifier.predict(X_test)\n",
    "y_pred = np.where(y_pred < 0, 0, y_pred)\n",
    "\n",
    "from sklearn.metrics import mean_squared_error, r2_score\n",
    "mse = mean_squared_error(y_test, y_pred)\n",
    "rmse = np.sqrt(mse)\n",
    "r2 = r2_score(y_test, y_pred)\n",
    "\n",
    "print(f'RMSE = {rmse}')"
   ]
  },
  {
   "cell_type": "code",
   "execution_count": 89,
   "metadata": {},
   "outputs": [
    {
     "name": "stdout",
     "output_type": "stream",
     "text": [
      "\n",
      "Coefficients:\n",
      "PREZZO_PROMO: -93.72977041379716\n",
      "PREZZO_LISTINO: -13.920315447515343\n",
      "STOCK_PZ: 7.702751440102822\n",
      "SCONTO_PERC: 89.18928645286177\n",
      "KPI_1: 21.944170165718226\n",
      "KPI_2: 13.098000544983488\n",
      "KPI_3: -16.2874156964759\n",
      "KPI_4: -19.441410526173428\n",
      "KPI_5: 8.565216780023087\n",
      "QTA_storico: -9.019755657333652\n",
      "FATTURATO_storico: 24.937779137969404\n",
      "DURATA_VOLANTINO_IN_GIORNI: 102.83175847055267\n",
      "TYPE: 30.087505765199236\n",
      "TOPLOADING: -80.99738402161508\n",
      "LOADING_KG: -60.686913287988105\n",
      "ENERGY_CLASS: 20.179099426718864\n",
      "DEPTH_CM>48: 48.28270370839417\n",
      "SMART_CONNECT: 3.9503308311919128\n",
      "SCONTO_PERC_MEDIO_VOLANTINO: -10.7026241603419\n",
      "Month_Redditivity: -5.944550905768345\n",
      "SCONTO_PERC_MEDIO_NOME_CAMPAGNA: 31.475619408672806\n",
      "TIPOLOGIA_PRODOTTO_ND: 8.865678461805693\n",
      "TIPOLOGIA_PRODOTTO_Principale: -5.827109133219141\n",
      "TIPOLOGIA_PRODOTTO_Sostitutivo: -19.029980327177448\n"
     ]
    }
   ],
   "source": [
    "print(\"\\nCoefficients:\")\n",
    "for feature, coef in zip(column_names, classifier.coef_.tolist()[0]):\n",
    "    print(f\"{feature}: {coef}\")"
   ]
  },
  {
   "cell_type": "markdown",
   "metadata": {},
   "source": [
    "## RANDOM FOREST"
   ]
  },
  {
   "cell_type": "code",
   "execution_count": 91,
   "metadata": {},
   "outputs": [
    {
     "name": "stdout",
     "output_type": "stream",
     "text": [
      "Hyperparameters:\n",
      "{'n_estimators': 300, 'min_samples_split': 2, 'min_samples_leaf': 1, 'max_features': 'sqrt', 'max_depth': 40, 'bootstrap': False}\n",
      "RMSE con i migliori iperparametri = 145.91339451585202\n"
     ]
    }
   ],
   "source": [
    "from sklearn.model_selection import RandomizedSearchCV\n",
    "from sklearn.ensemble import RandomForestRegressor\n",
    "\n",
    "param_grid = {\n",
    "    'n_estimators': [100, 200, 300, 400, 500], \n",
    "    'max_features': ['auto', 'sqrt'], \n",
    "    'max_depth': [10, 20, 30, 40, 50, 60, 70, 80, 90, 100, None], \n",
    "    'min_samples_split': [2, 5, 10], \n",
    "    'min_samples_leaf': [1, 2, 4], \n",
    "    'bootstrap': [True, False] \n",
    "}\n",
    "\n",
    "random_search = RandomizedSearchCV(estimator=RandomForestRegressor(random_state=69),\n",
    "                                   param_distributions=param_grid,\n",
    "                                   n_iter=100,  \n",
    "                                   cv=3,  \n",
    "                                   scoring='neg_mean_squared_error', \n",
    "                                   random_state=42)\n",
    "\n",
    "random_search.fit(X_train, y_train)\n",
    "\n",
    "print(\"Hyperparameters:\")\n",
    "print(random_search.best_params_)\n",
    "\n",
    "best_model = random_search.best_estimator_\n",
    "y_pred = best_model.predict(X_test)\n",
    "y_pred = np.where(y_pred < 0, 0, y_pred)\n",
    "\n",
    "mse = mean_squared_error(y_test, y_pred)\n",
    "rmse = np.sqrt(mse)\n",
    "print(f'RMSE con i migliori iperparametri = {rmse}')"
   ]
  },
  {
   "cell_type": "code",
   "execution_count": 92,
   "metadata": {},
   "outputs": [
    {
     "name": "stdout",
     "output_type": "stream",
     "text": [
      "RMSE = 145.91339451585202\n"
     ]
    }
   ],
   "source": [
    "hyperparameters = {'n_estimators': 300, 'min_samples_split': 2, 'min_samples_leaf': 1, 'max_features': 'sqrt', 'max_depth': 40, 'bootstrap': False}\n",
    "\n",
    "from sklearn.ensemble import RandomForestRegressor\n",
    "from sklearn.model_selection import cross_val_score\n",
    "from sklearn.metrics import mean_squared_error, mean_absolute_error, r2_score\n",
    "\n",
    "rfr = RandomForestRegressor(random_state=69, **hyperparameters)\n",
    "rfr.fit(X_train, y_train)\n",
    "y_pred = rfr.predict(X_test)\n",
    "y_pred = np.where(y_pred < 0, 0, y_pred)\n",
    "\n",
    "mean_absolute_error(y_test, y_pred)\n",
    "mse = mean_squared_error(y_test, y_pred)\n",
    "#r2_score(y_test, y_pred)\n",
    "rmse = np.sqrt(mse)\n",
    "print(f'RMSE = {rmse}')"
   ]
  },
  {
   "cell_type": "code",
   "execution_count": 93,
   "metadata": {},
   "outputs": [
    {
     "name": "stdout",
     "output_type": "stream",
     "text": [
      "Feature Importance:\n",
      "PREZZO_PROMO: 0.0737595185637474\n",
      "PREZZO_LISTINO: 0.03400077670812607\n",
      "STOCK_PZ: 0.027254972606897354\n",
      "SCONTO_PERC: 0.027176346629858017\n",
      "KPI_1: 0.04933350533246994\n",
      "KPI_2: 0.02869297005236149\n",
      "KPI_3: 0.022554220631718636\n",
      "KPI_4: 0.025020718574523926\n",
      "KPI_5: 0.01722922921180725\n",
      "QTA_storico: 0.020131496712565422\n",
      "FATTURATO_storico: 0.02730761654675007\n",
      "DURATA_VOLANTINO_IN_GIORNI: 0.018234428018331528\n",
      "TYPE: 0.05538512393832207\n",
      "TOPLOADING: 0.031536225229501724\n",
      "LOADING_KG: 0.07936739921569824\n",
      "ENERGY_CLASS: 0.009405390359461308\n",
      "DEPTH_CM>48: 0.048543088138103485\n",
      "SMART_CONNECT: 0.01128406636416912\n",
      "SCONTO_PERC_MEDIO_VOLANTINO: 0.027129756286740303\n",
      "Month_Redditivity: 0.018814295530319214\n",
      "SCONTO_PERC_MEDIO_NOME_CAMPAGNA: 0.025835566222667694\n",
      "TIPOLOGIA_PRODOTTO_ND: 0.010476211085915565\n",
      "TIPOLOGIA_PRODOTTO_Principale: 0.04785388708114624\n",
      "TIPOLOGIA_PRODOTTO_Sostitutivo: 0.020692160353064537\n"
     ]
    }
   ],
   "source": [
    "print(\"Feature Importance:\")\n",
    "for feature, importance in zip(column_names, rfr.feature_importances_):\n",
    "    print(f\"{feature}: {importance}\")"
   ]
  },
  {
   "cell_type": "markdown",
   "metadata": {},
   "source": [
    "## XGBOOST"
   ]
  },
  {
   "cell_type": "code",
   "execution_count": 95,
   "metadata": {},
   "outputs": [
    {
     "name": "stdout",
     "output_type": "stream",
     "text": [
      "Migliori iperparametri:\n",
      "{'subsample': 0.7, 'n_estimators': 200, 'min_child_weight': 5, 'max_depth': 7, 'learning_rate': 0.05, 'gamma': 0.3, 'colsample_bytree': 0.7}\n",
      "RMSE con i migliori iperparametri = 159.87009724993806\n"
     ]
    }
   ],
   "source": [
    "from sklearn.model_selection import RandomizedSearchCV\n",
    "import xgboost as xgb\n",
    "\n",
    "param_grid = {\n",
    "    'n_estimators': [100, 200, 300, 400, 500], \n",
    "    'learning_rate': [0.01, 0.05, 0.1, 0.2, 0.3], \n",
    "    'max_depth': [3, 4, 5, 6, 7, 8, 9, 10], \n",
    "    'min_child_weight': [1, 2, 3, 4, 5],\n",
    "    'subsample': [0.6, 0.7, 0.8, 0.9, 1.0],  \n",
    "    'colsample_bytree': [0.6, 0.7, 0.8, 0.9, 1.0],  \n",
    "    'gamma': [0, 0.1, 0.2, 0.3, 0.4] \n",
    "}\n",
    "\n",
    "random_search = RandomizedSearchCV(estimator=xgb.XGBRegressor(random_state=69),\n",
    "                                   param_distributions=param_grid,\n",
    "                                   n_iter=100, \n",
    "                                   cv=3,  \n",
    "                                   scoring='neg_mean_squared_error', \n",
    "                                   random_state=42)\n",
    "\n",
    "random_search.fit(X_train, y_train)\n",
    "\n",
    "print(\"Migliori iperparametri:\")\n",
    "print(random_search.best_params_)\n",
    "\n",
    "best_model = random_search.best_estimator_\n",
    "y_pred = best_model.predict(X_test)\n",
    "y_pred = np.where(y_pred < 0, 0, y_pred)\n",
    "\n",
    "mse = mean_squared_error(y_test, y_pred)\n",
    "rmse = np.sqrt(mse)\n",
    "print(f'RMSE con i migliori iperparametri = {rmse}')"
   ]
  },
  {
   "cell_type": "code",
   "execution_count": 96,
   "metadata": {},
   "outputs": [
    {
     "name": "stdout",
     "output_type": "stream",
     "text": [
      "RMSE = 159.87009724993806\n"
     ]
    }
   ],
   "source": [
    "hyperparameters = {'subsample': 0.7, 'n_estimators': 200, 'min_child_weight': 5, 'max_depth': 7, 'learning_rate': 0.05, 'gamma': 0.3, 'colsample_bytree': 0.7}\n",
    "\n",
    "import xgboost as xgb\n",
    "from sklearn.metrics import mean_squared_error, mean_absolute_error\n",
    "\n",
    "xgbr = xgb.XGBRegressor(random_state=69, **hyperparameters)\n",
    "xgbr.fit(X_train, y_train)\n",
    "y_pred = xgbr.predict(X_test)\n",
    "y_pred = np.where(y_pred < 0, 0, y_pred)\n",
    "mse = mean_squared_error(y_test, y_pred)\n",
    "rmse = np.sqrt(mse)\n",
    "\n",
    "print(f'RMSE = {rmse}')"
   ]
  },
  {
   "cell_type": "code",
   "execution_count": 97,
   "metadata": {},
   "outputs": [
    {
     "name": "stdout",
     "output_type": "stream",
     "text": [
      "Feature Importance:\n",
      "PREZZO_PROMO: 0.11485069990158081\n",
      "PREZZO_LISTINO: 0.05403902381658554\n",
      "STOCK_PZ: 0.021450472995638847\n",
      "SCONTO_PERC: 0.05353478714823723\n",
      "KPI_1: 0.024790069088339806\n",
      "KPI_2: 0.022039873525500298\n",
      "KPI_3: 0.027293410152196884\n",
      "KPI_4: 0.0365188866853714\n",
      "KPI_5: 0.020258944481611252\n",
      "QTA_storico: 0.030047409236431122\n",
      "FATTURATO_storico: 0.018488574773073196\n",
      "DURATA_VOLANTINO_IN_GIORNI: 0.08289302885532379\n",
      "TYPE: 0.04803519695997238\n",
      "TOPLOADING: 0.13952435553073883\n",
      "LOADING_KG: 0.0278888288885355\n",
      "ENERGY_CLASS: 0.06072785705327988\n",
      "DEPTH_CM>48: 0.043386854231357574\n",
      "SMART_CONNECT: 0.0262801144272089\n",
      "SCONTO_PERC_MEDIO_VOLANTINO: 0.021745959296822548\n",
      "Month_Redditivity: 0.043600015342235565\n",
      "SCONTO_PERC_MEDIO_NOME_CAMPAGNA: 0.028933659195899963\n",
      "TIPOLOGIA_PRODOTTO_ND: 0.020796457305550575\n",
      "TIPOLOGIA_PRODOTTO_Principale: 0.019015561789274216\n",
      "TIPOLOGIA_PRODOTTO_Sostitutivo: 0.01385989598929882\n"
     ]
    }
   ],
   "source": [
    "print(\"Feature Importance:\")\n",
    "for feature, importance in zip(column_names, xgbr.feature_importances_):\n",
    "    print(f\"{feature}: {importance}\")"
   ]
  },
  {
   "cell_type": "markdown",
   "metadata": {},
   "source": [
    "# CORE WEAR"
   ]
  },
  {
   "cell_type": "code",
   "execution_count": 98,
   "metadata": {},
   "outputs": [],
   "source": [
    "core_wear = pd.read_csv('./Working Code/Datasets/core_wear1.csv')\n",
    "core_wear['DATA_INIZIO'] = pd.to_datetime(core_wear['DATA_INIZIO'])\n",
    "core_wear['Year'] = core_wear['DATA_INIZIO'].dt.year\n",
    "core_wear = core_wear[core_wear['Year'] != 2020].reset_index()\n",
    "core_wear.drop('index', axis=1, inplace=True)"
   ]
  },
  {
   "cell_type": "code",
   "execution_count": 99,
   "metadata": {},
   "outputs": [],
   "source": [
    "X = core_wear[['PREZZO_PROMO', 'PREZZO_LISTINO', 'STOCK_PZ',\n",
    "        'TIPOLOGIA_PRODOTTO','SCONTO_PERC', 'KPI_1',\n",
    "        'KPI_2', 'KPI_3', 'KPI_4', 'KPI_5', 'QTA_storico',\n",
    "        'FATTURATO_storico', 'DURATA_VOLANTINO_IN_GIORNI',\n",
    "        'DISPLAY_QUALITY', 'BLUETOOTH', 'WIFI', 'DISPLAY_SIZE',\n",
    "        'SCONTO_PERC_MEDIO_VOLANTINO', 'Month_Redditivity', 'SCONTO_PERC_MEDIO_NOME_CAMPAGNA', 'DATA_INIZIO']]\n",
    "y = core_wear[['QTA', 'DATA_INIZIO']]\n",
    "\n",
    "from sklearn.preprocessing import OneHotEncoder\n",
    "ohe = OneHotEncoder(sparse = False)\n",
    "oheTransform = ohe.fit_transform(X[['TIPOLOGIA_PRODOTTO']])\n",
    "oheTransform = pd.DataFrame(oheTransform, columns=ohe.get_feature_names_out())\n",
    "\n",
    "final_df = pd.concat([X, oheTransform], axis=1)\n",
    "\n",
    "final_df = final_df.drop(['TIPOLOGIA_PRODOTTO'], axis = 1)"
   ]
  },
  {
   "cell_type": "code",
   "execution_count": 100,
   "metadata": {},
   "outputs": [],
   "source": [
    "# WE WILL USE AS TEST SET AUGUST, SEPTEMBER AND OCTOBER 2023\n",
    "\n",
    "X_train = final_df[~(((final_df['DATA_INIZIO'].dt.month == 8) | (final_df['DATA_INIZIO'].dt.month == 9) | (final_df['DATA_INIZIO'].dt.month == 10)) & (final_df['DATA_INIZIO'].dt.year == 2023))]\n",
    "X_test = final_df[((final_df['DATA_INIZIO'].dt.month == 8) | (final_df['DATA_INIZIO'].dt.month == 9) | (final_df['DATA_INIZIO'].dt.month == 10)) & (final_df['DATA_INIZIO'].dt.year == 2023)]\n",
    "\n",
    "X_train.drop('DATA_INIZIO', axis=1, inplace=True)\n",
    "X_test.drop('DATA_INIZIO', axis=1, inplace=True)\n",
    "\n",
    "y_train = y[~(((y['DATA_INIZIO'].dt.month == 8) | (y['DATA_INIZIO'].dt.month == 9) | (y['DATA_INIZIO'].dt.month == 10)) & (y['DATA_INIZIO'].dt.year == 2023))]\n",
    "y_test = y[((y['DATA_INIZIO'].dt.month == 8) | (y['DATA_INIZIO'].dt.month == 9) | (y['DATA_INIZIO'].dt.month == 10)) & (y['DATA_INIZIO'].dt.year == 2023)]\n",
    "y_train.drop('DATA_INIZIO', axis=1, inplace=True)\n",
    "y_test.drop('DATA_INIZIO', axis=1, inplace=True)\n",
    "\n"
   ]
  },
  {
   "cell_type": "markdown",
   "metadata": {},
   "source": [
    "## BENCHMARK"
   ]
  },
  {
   "cell_type": "code",
   "execution_count": 101,
   "metadata": {},
   "outputs": [
    {
     "name": "stdout",
     "output_type": "stream",
     "text": [
      "RMSE = 150.37084341840824\n"
     ]
    }
   ],
   "source": [
    "from sklearn.metrics import mean_squared_error as mse\n",
    "\n",
    "bench = X_test.copy(deep=True)\n",
    "bench['Previsione'] = bench['QTA_storico']/30\n",
    "bench['Previsione'] *= bench['DURATA_VOLANTINO_IN_GIORNI']\n",
    "\n",
    "rmse = np.sqrt(mse(y_test['QTA'], bench['Previsione']))\n",
    "\n",
    "y_train = y_train.values\n",
    "y_test = y_test.values\n",
    "\n",
    "print(f'RMSE = {rmse}')"
   ]
  },
  {
   "cell_type": "markdown",
   "metadata": {},
   "source": [
    "## LINEAR REGRESSION"
   ]
  },
  {
   "cell_type": "code",
   "execution_count": 102,
   "metadata": {},
   "outputs": [
    {
     "name": "stdout",
     "output_type": "stream",
     "text": [
      "RMSE = 141.55032766962748\n"
     ]
    }
   ],
   "source": [
    "from sklearn.preprocessing import StandardScaler\n",
    "column_names = X_train.columns.tolist()\n",
    "scaler = StandardScaler()\n",
    "X_train = scaler.fit_transform(X_train)\n",
    "X_test = scaler.transform(X_test)\n",
    "\n",
    "from sklearn.linear_model import LinearRegression\n",
    "classifier = LinearRegression()\n",
    "classifier.fit(X_train, y_train)\n",
    "\n",
    "y_pred = classifier.predict(X_test)\n",
    "y_pred = np.where(y_pred < 0, 0, y_pred)\n",
    "\n",
    "from sklearn.metrics import mean_squared_error, r2_score\n",
    "mse = mean_squared_error(y_test, y_pred)\n",
    "rmse = np.sqrt(mse)\n",
    "r2 = r2_score(y_test, y_pred)\n",
    "\n",
    "print(f'RMSE = {rmse}')"
   ]
  },
  {
   "cell_type": "code",
   "execution_count": 103,
   "metadata": {},
   "outputs": [
    {
     "name": "stdout",
     "output_type": "stream",
     "text": [
      "\n",
      "Coefficients:\n",
      "PREZZO_PROMO: 118.04198694529569\n",
      "PREZZO_LISTINO: -140.15572590771066\n",
      "STOCK_PZ: 179.51077123442937\n",
      "SCONTO_PERC: 35.792333791146866\n",
      "KPI_1: 65.86165638691479\n",
      "KPI_2: 32.39755848304105\n",
      "KPI_3: 32.08800319720749\n",
      "KPI_4: -3.1772423050651004\n",
      "KPI_5: -4.151983517869958\n",
      "QTA_storico: 105.38124914904586\n",
      "FATTURATO_storico: -15.83582312815802\n",
      "DURATA_VOLANTINO_IN_GIORNI: 16.838004220327498\n",
      "DISPLAY_QUALITY: 11.026185479268793\n",
      "BLUETOOTH: -2.9137679113442454\n",
      "WIFI: -7.177363599349922\n",
      "DISPLAY_SIZE: -37.221290978166586\n",
      "SCONTO_PERC_MEDIO_VOLANTINO: 22.790023823630744\n",
      "Month_Redditivity: -3.0447137636309023\n",
      "SCONTO_PERC_MEDIO_NOME_CAMPAGNA: -1.0732269628375464\n",
      "TIPOLOGIA_PRODOTTO_ND: 12.060272494701326\n",
      "TIPOLOGIA_PRODOTTO_Principale: -1.4564049824664562\n",
      "TIPOLOGIA_PRODOTTO_Sostitutivo: -11.903155226467284\n"
     ]
    }
   ],
   "source": [
    "print(\"\\nCoefficients:\")\n",
    "for feature, coef in zip(column_names, classifier.coef_.tolist()[0]):\n",
    "    print(f\"{feature}: {coef}\")"
   ]
  },
  {
   "cell_type": "markdown",
   "metadata": {},
   "source": [
    "## RANDOM FOREST"
   ]
  },
  {
   "cell_type": "code",
   "execution_count": 104,
   "metadata": {},
   "outputs": [
    {
     "name": "stdout",
     "output_type": "stream",
     "text": [
      "Hyperparameters:\n",
      "{'n_estimators': 300, 'min_samples_split': 2, 'min_samples_leaf': 1, 'max_features': 'sqrt', 'max_depth': 40, 'bootstrap': False}\n",
      "RMSE con i migliori iperparametri = 131.195608146421\n"
     ]
    }
   ],
   "source": [
    "from sklearn.model_selection import RandomizedSearchCV\n",
    "from sklearn.ensemble import RandomForestRegressor\n",
    "\n",
    "param_grid = {\n",
    "    'n_estimators': [100, 200, 300, 400, 500], \n",
    "    'max_features': ['auto', 'sqrt'], \n",
    "    'max_depth': [10, 20, 30, 40, 50, 60, 70, 80, 90, 100, None], \n",
    "    'min_samples_split': [2, 5, 10], \n",
    "    'min_samples_leaf': [1, 2, 4], \n",
    "    'bootstrap': [True, False] \n",
    "}\n",
    "\n",
    "random_search = RandomizedSearchCV(estimator=RandomForestRegressor(random_state=69),\n",
    "                                   param_distributions=param_grid,\n",
    "                                   n_iter=100,  \n",
    "                                   cv=3,  \n",
    "                                   scoring='neg_mean_squared_error', \n",
    "                                   random_state=42)\n",
    "\n",
    "random_search.fit(X_train, y_train)\n",
    "\n",
    "print(\"Hyperparameters:\")\n",
    "print(random_search.best_params_)\n",
    "\n",
    "best_model = random_search.best_estimator_\n",
    "y_pred = best_model.predict(X_test)\n",
    "y_pred = np.where(y_pred < 0, 0, y_pred)\n",
    "\n",
    "mse = mean_squared_error(y_test, y_pred)\n",
    "rmse = np.sqrt(mse)\n",
    "print(f'RMSE con i migliori iperparametri = {rmse}')"
   ]
  },
  {
   "cell_type": "code",
   "execution_count": 106,
   "metadata": {},
   "outputs": [
    {
     "name": "stdout",
     "output_type": "stream",
     "text": [
      "RMSE = 131.195608146421\n"
     ]
    }
   ],
   "source": [
    "hyperparameters = {'n_estimators': 300, 'min_samples_split': 2, 'min_samples_leaf': 1, 'max_features': 'sqrt', 'max_depth': 40, 'bootstrap': False}\n",
    "\n",
    "from sklearn.ensemble import RandomForestRegressor\n",
    "from sklearn.model_selection import cross_val_score\n",
    "from sklearn.metrics import mean_squared_error, mean_absolute_error, r2_score\n",
    "\n",
    "rfr = RandomForestRegressor(random_state=69, **hyperparameters)\n",
    "rfr.fit(X_train, y_train)\n",
    "y_pred = rfr.predict(X_test)\n",
    "y_pred = np.where(y_pred < 0, 0, y_pred)\n",
    "\n",
    "mean_absolute_error(y_test, y_pred)\n",
    "mse = mean_squared_error(y_test, y_pred)\n",
    "#r2_score(y_test, y_pred)\n",
    "rmse = np.sqrt(mse)\n",
    "print(f'RMSE = {rmse}')"
   ]
  },
  {
   "cell_type": "code",
   "execution_count": 107,
   "metadata": {},
   "outputs": [
    {
     "name": "stdout",
     "output_type": "stream",
     "text": [
      "Feature Importance:\n",
      "PREZZO_PROMO: 0.16191831158855718\n",
      "PREZZO_LISTINO: 0.12659043170303239\n",
      "STOCK_PZ: 0.1639400933835142\n",
      "SCONTO_PERC: 0.04793546871294562\n",
      "KPI_1: 0.03690320131514168\n",
      "KPI_2: 0.029139602122520283\n",
      "KPI_3: 0.05240288049165252\n",
      "KPI_4: 0.01261214692528774\n",
      "KPI_5: 0.013210989562682079\n",
      "QTA_storico: 0.12125312772747923\n",
      "FATTURATO_storico: 0.04929710874775367\n",
      "DURATA_VOLANTINO_IN_GIORNI: 0.01981224982305805\n",
      "DISPLAY_QUALITY: 0.0036405960654144307\n",
      "BLUETOOTH: 0.00021465579914120103\n",
      "WIFI: 0.005853720745754182\n",
      "DISPLAY_SIZE: 0.08209751330326953\n",
      "SCONTO_PERC_MEDIO_VOLANTINO: 0.018853052613259758\n",
      "Month_Redditivity: 0.023453317469701612\n",
      "SCONTO_PERC_MEDIO_NOME_CAMPAGNA: 0.015041363848197369\n",
      "TIPOLOGIA_PRODOTTO_ND: 0.00589910806240657\n",
      "TIPOLOGIA_PRODOTTO_Principale: 0.00673744973554746\n",
      "TIPOLOGIA_PRODOTTO_Sostitutivo: 0.003193610253683366\n"
     ]
    }
   ],
   "source": [
    "print(\"Feature Importance:\")\n",
    "for feature, importance in zip(column_names, rfr.feature_importances_):\n",
    "    print(f\"{feature}: {importance}\")"
   ]
  },
  {
   "cell_type": "markdown",
   "metadata": {},
   "source": [
    "## XGBOOST"
   ]
  },
  {
   "cell_type": "code",
   "execution_count": 108,
   "metadata": {},
   "outputs": [
    {
     "name": "stdout",
     "output_type": "stream",
     "text": [
      "Migliori iperparametri:\n",
      "{'subsample': 0.6, 'n_estimators': 500, 'min_child_weight': 3, 'max_depth': 9, 'learning_rate': 0.05, 'gamma': 0, 'colsample_bytree': 0.9}\n",
      "RMSE con i migliori iperparametri = 127.01051568818703\n"
     ]
    }
   ],
   "source": [
    "from sklearn.model_selection import RandomizedSearchCV\n",
    "import xgboost as xgb\n",
    "\n",
    "param_grid = {\n",
    "    'n_estimators': [100, 200, 300, 400, 500], \n",
    "    'learning_rate': [0.01, 0.05, 0.1, 0.2, 0.3], \n",
    "    'max_depth': [3, 4, 5, 6, 7, 8, 9, 10], \n",
    "    'min_child_weight': [1, 2, 3, 4, 5],\n",
    "    'subsample': [0.6, 0.7, 0.8, 0.9, 1.0],  \n",
    "    'colsample_bytree': [0.6, 0.7, 0.8, 0.9, 1.0],  \n",
    "    'gamma': [0, 0.1, 0.2, 0.3, 0.4] \n",
    "}\n",
    "\n",
    "random_search = RandomizedSearchCV(estimator=xgb.XGBRegressor(random_state=69),\n",
    "                                   param_distributions=param_grid,\n",
    "                                   n_iter=20, \n",
    "                                   cv=5,  \n",
    "                                   scoring='neg_mean_squared_error', \n",
    "                                   random_state=42)\n",
    "\n",
    "random_search.fit(X_train, y_train)\n",
    "\n",
    "print(\"Migliori iperparametri:\")\n",
    "print(random_search.best_params_)\n",
    "\n",
    "best_model = random_search.best_estimator_\n",
    "y_pred = best_model.predict(X_test)\n",
    "y_pred = np.where(y_pred < 0, 0, y_pred)\n",
    "\n",
    "mse = mean_squared_error(y_test, y_pred)\n",
    "rmse = np.sqrt(mse)\n",
    "print(f'RMSE con i migliori iperparametri = {rmse}')"
   ]
  },
  {
   "cell_type": "code",
   "execution_count": 109,
   "metadata": {},
   "outputs": [
    {
     "name": "stdout",
     "output_type": "stream",
     "text": [
      "RMSE = 127.01051568818703\n"
     ]
    }
   ],
   "source": [
    "hyperparameters = {'subsample': 0.6, 'n_estimators': 500, 'min_child_weight': 3, 'max_depth': 9, 'learning_rate': 0.05, 'gamma': 0, 'colsample_bytree': 0.9}\n",
    "\n",
    "import xgboost as xgb\n",
    "from sklearn.metrics import mean_squared_error, mean_absolute_error\n",
    "\n",
    "xgbr = xgb.XGBRegressor(random_state=69, **hyperparameters)\n",
    "xgbr.fit(X_train, y_train)\n",
    "y_pred = xgbr.predict(X_test)\n",
    "y_pred = np.where(y_pred < 0, 0, y_pred)\n",
    "mse = mean_squared_error(y_test, y_pred)\n",
    "rmse = np.sqrt(mse)\n",
    "\n",
    "print(f'RMSE = {rmse}')"
   ]
  },
  {
   "cell_type": "code",
   "execution_count": 110,
   "metadata": {},
   "outputs": [
    {
     "name": "stdout",
     "output_type": "stream",
     "text": [
      "Feature Importance:\n",
      "PREZZO_PROMO: 0.2206956297159195\n",
      "PREZZO_LISTINO: 0.11870881915092468\n",
      "STOCK_PZ: 0.08111002296209335\n",
      "SCONTO_PERC: 0.018021322786808014\n",
      "KPI_1: 0.06802632659673691\n",
      "KPI_2: 0.031353287398815155\n",
      "KPI_3: 0.018974702805280685\n",
      "KPI_4: 0.018615098670125008\n",
      "KPI_5: 0.014361381530761719\n",
      "QTA_storico: 0.07723483443260193\n",
      "FATTURATO_storico: 0.014256485737860203\n",
      "DURATA_VOLANTINO_IN_GIORNI: 0.053632453083992004\n",
      "DISPLAY_QUALITY: 0.010156884789466858\n",
      "BLUETOOTH: 0.004326631315052509\n",
      "WIFI: 0.009992126375436783\n",
      "DISPLAY_SIZE: 0.038872603327035904\n",
      "SCONTO_PERC_MEDIO_VOLANTINO: 0.017180096358060837\n",
      "Month_Redditivity: 0.0330706387758255\n",
      "SCONTO_PERC_MEDIO_NOME_CAMPAGNA: 0.016413243487477303\n",
      "TIPOLOGIA_PRODOTTO_ND: 0.08865683525800705\n",
      "TIPOLOGIA_PRODOTTO_Principale: 0.02845672145485878\n",
      "TIPOLOGIA_PRODOTTO_Sostitutivo: 0.017883753404021263\n"
     ]
    }
   ],
   "source": [
    "print(\"Feature Importance:\")\n",
    "for feature, importance in zip(column_names, xgbr.feature_importances_):\n",
    "    print(f\"{feature}: {importance}\")"
   ]
  },
  {
   "cell_type": "markdown",
   "metadata": {},
   "source": [
    "# TV"
   ]
  },
  {
   "cell_type": "code",
   "execution_count": 111,
   "metadata": {},
   "outputs": [],
   "source": [
    "tv = pd.read_csv('./Working Code/Datasets/tv1.csv') \n",
    "tv['DATA_INIZIO'] = pd.to_datetime(tv['DATA_INIZIO'])\n",
    "tv['Year'] = tv['DATA_INIZIO'].dt.year\n",
    "tv = tv[tv['Year'] != 2020].reset_index()\n",
    "tv.drop('index', axis=1, inplace=True) "
   ]
  },
  {
   "cell_type": "code",
   "execution_count": 112,
   "metadata": {},
   "outputs": [],
   "source": [
    "X = tv[['PREZZO_PROMO', 'PREZZO_LISTINO', 'STOCK_PZ',\n",
    "        'SCONTO_PERC', 'KPI_1',\n",
    "        'KPI_2', 'KPI_3', 'KPI_4', 'KPI_5', 'QTA_storico',\n",
    "        'FATTURATO_storico', 'DURATA_VOLANTINO_IN_GIORNI',\n",
    "        'DISPLAY_SIZE', 'HD_QUALITY', 'OLED', 'SMART',\n",
    "        'MFM', 'WCG', 'MINILED', 'SCONTO_PERC_MEDIO_VOLANTINO', 'Month_Redditivity',\n",
    "        'SCONTO_PERC_MEDIO_NOME_CAMPAGNA', 'DATA_INIZIO']]\n",
    "y = tv[['QTA', 'DATA_INIZIO']]\n",
    "\n",
    "final_df = X"
   ]
  },
  {
   "cell_type": "code",
   "execution_count": 113,
   "metadata": {},
   "outputs": [],
   "source": [
    "# WE WILL USE AS TEST SET AUGUST, SEPTEMBER AND OCTOBER 2023\n",
    "\n",
    "X_train = final_df[~(((final_df['DATA_INIZIO'].dt.month == 8) | (final_df['DATA_INIZIO'].dt.month == 9) | (final_df['DATA_INIZIO'].dt.month == 10)) & (final_df['DATA_INIZIO'].dt.year == 2023))]\n",
    "X_test = final_df[((final_df['DATA_INIZIO'].dt.month == 8) | (final_df['DATA_INIZIO'].dt.month == 9) | (final_df['DATA_INIZIO'].dt.month == 10)) & (final_df['DATA_INIZIO'].dt.year == 2023)]\n",
    "\n",
    "X_train.drop('DATA_INIZIO', axis=1, inplace=True)\n",
    "X_test.drop('DATA_INIZIO', axis=1, inplace=True)\n",
    "\n",
    "y_train = y[~(((y['DATA_INIZIO'].dt.month == 8) | (y['DATA_INIZIO'].dt.month == 9) | (y['DATA_INIZIO'].dt.month == 10)) & (y['DATA_INIZIO'].dt.year == 2023))]\n",
    "y_test = y[((y['DATA_INIZIO'].dt.month == 8) | (y['DATA_INIZIO'].dt.month == 9) | (y['DATA_INIZIO'].dt.month == 10)) & (y['DATA_INIZIO'].dt.year == 2023)]\n",
    "y_train.drop('DATA_INIZIO', axis=1, inplace=True)\n",
    "y_test.drop('DATA_INIZIO', axis=1, inplace=True)\n",
    "\n"
   ]
  },
  {
   "cell_type": "markdown",
   "metadata": {},
   "source": [
    "## BENCHMARK"
   ]
  },
  {
   "cell_type": "code",
   "execution_count": 114,
   "metadata": {},
   "outputs": [
    {
     "name": "stdout",
     "output_type": "stream",
     "text": [
      "RMSE = 176.05099673189127\n"
     ]
    }
   ],
   "source": [
    "from sklearn.metrics import mean_squared_error as mse\n",
    "\n",
    "bench = X_test.copy(deep=True)\n",
    "bench['Previsione'] = bench['QTA_storico']/30\n",
    "bench['Previsione'] *= bench['DURATA_VOLANTINO_IN_GIORNI']\n",
    "\n",
    "rmse = np.sqrt(mse(y_test['QTA'], bench['Previsione']))\n",
    "\n",
    "y_train = y_train.values\n",
    "y_test = y_test.values\n",
    "\n",
    "print(f'RMSE = {rmse}')"
   ]
  },
  {
   "cell_type": "markdown",
   "metadata": {},
   "source": [
    "## LINEAR REGRESSION"
   ]
  },
  {
   "cell_type": "code",
   "execution_count": 115,
   "metadata": {},
   "outputs": [
    {
     "name": "stdout",
     "output_type": "stream",
     "text": [
      "RMSE = 221.59542912478605\n"
     ]
    }
   ],
   "source": [
    "\n",
    "from sklearn.preprocessing import StandardScaler\n",
    "column_names = X_train.columns.tolist()\n",
    "scaler = StandardScaler()\n",
    "X_train = scaler.fit_transform(X_train)\n",
    "X_test = scaler.transform(X_test)\n",
    "\n",
    "from sklearn.linear_model import LinearRegression\n",
    "classifier = LinearRegression()\n",
    "classifier.fit(X_train, y_train)\n",
    "\n",
    "y_pred = classifier.predict(X_test)\n",
    "y_pred = np.where(y_pred < 0, 0, y_pred)\n",
    "\n",
    "from sklearn.metrics import mean_squared_error, r2_score\n",
    "mse = mean_squared_error(y_test, y_pred)\n",
    "rmse = np.sqrt(mse)\n",
    "r2 = r2_score(y_test, y_pred)\n",
    "\n",
    "print(f'RMSE = {rmse}')"
   ]
  },
  {
   "cell_type": "code",
   "execution_count": null,
   "metadata": {},
   "outputs": [
    {
     "name": "stdout",
     "output_type": "stream",
     "text": [
      "\n",
      "Coefficients:\n",
      "PREZZO_PROMO: -54.97200550000509\n",
      "PREZZO_LISTINO: 43.6910213487729\n",
      "STOCK_PZ: 106.08775583736939\n",
      "SCONTO_PERC: 5.380081840777786\n",
      "KPI_1: 26.28705765415378\n",
      "KPI_2: -23.64399387275635\n",
      "KPI_3: -0.1937888254122382\n",
      "KPI_4: 15.869674959644327\n",
      "KPI_5: 52.00910545119117\n",
      "QTA_storico: 85.73805603357593\n",
      "FATTURATO_storico: 0.12751744047357036\n",
      "DURATA_VOLANTINO_IN_GIORNI: 43.9338691007949\n",
      "DISPLAY_SIZE: -23.24928248891727\n",
      "HD_QUALITY: -77.7439544531675\n",
      "OLED: -0.3607525653709332\n",
      "SMART: 13.374124261005202\n",
      "MFM: -9.24027300358304\n",
      "WCG: -30.35886991498585\n",
      "MINILED: 5.49215014518227\n",
      "SCONTO_PERC_MEDIO_VOLANTINO: -1.2624199161045275\n",
      "Month_Redditivity: 27.869248577086363\n",
      "SCONTO_PERC_MEDIO_NOME_CAMPAGNA: 38.97369038569735\n"
     ]
    }
   ],
   "source": [
    "print(\"\\nCoefficients:\")\n",
    "for feature, coef in zip(column_names, classifier.coef_.tolist()[0]):\n",
    "    print(f\"{feature}: {coef}\")"
   ]
  },
  {
   "cell_type": "markdown",
   "metadata": {},
   "source": [
    "## RANDOM FOREST"
   ]
  },
  {
   "cell_type": "code",
   "execution_count": 117,
   "metadata": {},
   "outputs": [
    {
     "name": "stdout",
     "output_type": "stream",
     "text": [
      "Hyperparameters:\n",
      "{'n_estimators': 500, 'min_samples_split': 2, 'min_samples_leaf': 1, 'max_features': 'sqrt', 'max_depth': 100, 'bootstrap': False}\n",
      "RMSE con i migliori iperparametri = 202.8039203004248\n"
     ]
    }
   ],
   "source": [
    "from sklearn.model_selection import RandomizedSearchCV\n",
    "from sklearn.ensemble import RandomForestRegressor\n",
    "\n",
    "param_grid = {\n",
    "    'n_estimators': [100, 200, 300, 400, 500], \n",
    "    'max_features': ['auto', 'sqrt'], \n",
    "    'max_depth': [10, 20, 30, 40, 50, 60, 70, 80, 90, 100, None], \n",
    "    'min_samples_split': [2, 5, 10], \n",
    "    'min_samples_leaf': [1, 2, 4], \n",
    "    'bootstrap': [True, False] \n",
    "}\n",
    "\n",
    "random_search = RandomizedSearchCV(estimator=RandomForestRegressor(random_state=69),\n",
    "                                   param_distributions=param_grid,\n",
    "                                   n_iter=100,  \n",
    "                                   cv=3,  \n",
    "                                   scoring='neg_mean_squared_error', \n",
    "                                   random_state=42)\n",
    "\n",
    "random_search.fit(X_train, y_train)\n",
    "\n",
    "print(\"Hyperparameters:\")\n",
    "print(random_search.best_params_)\n",
    "\n",
    "best_model = random_search.best_estimator_\n",
    "y_pred = best_model.predict(X_test)\n",
    "y_pred = np.where(y_pred < 0, 0, y_pred)\n",
    "\n",
    "mse = mean_squared_error(y_test, y_pred)\n",
    "rmse = np.sqrt(mse)\n",
    "print(f'RMSE con i migliori iperparametri = {rmse}')"
   ]
  },
  {
   "cell_type": "code",
   "execution_count": 118,
   "metadata": {},
   "outputs": [
    {
     "name": "stdout",
     "output_type": "stream",
     "text": [
      "RMSE = 202.8039203004248\n"
     ]
    }
   ],
   "source": [
    "hyperparameters = {'n_estimators': 500, 'min_samples_split': 2, 'min_samples_leaf': 1, 'max_features': 'sqrt', 'max_depth': 100, 'bootstrap': False}\n",
    "\n",
    "from sklearn.ensemble import RandomForestRegressor\n",
    "from sklearn.model_selection import cross_val_score\n",
    "from sklearn.metrics import mean_squared_error, mean_absolute_error, r2_score\n",
    "\n",
    "rfr = RandomForestRegressor(random_state=69, **hyperparameters)\n",
    "rfr.fit(X_train, y_train)\n",
    "y_pred = rfr.predict(X_test)\n",
    "y_pred = np.where(y_pred < 0, 0, y_pred)\n",
    "\n",
    "mean_absolute_error(y_test, y_pred)\n",
    "mse = mean_squared_error(y_test, y_pred)\n",
    "#r2_score(y_test, y_pred)\n",
    "rmse = np.sqrt(mse)\n",
    "print(f'RMSE = {rmse}')"
   ]
  },
  {
   "cell_type": "code",
   "execution_count": 119,
   "metadata": {},
   "outputs": [
    {
     "name": "stdout",
     "output_type": "stream",
     "text": [
      "Feature Importance:\n",
      "PREZZO_PROMO: 0.11473594016031426\n",
      "PREZZO_LISTINO: 0.0895401901919833\n",
      "STOCK_PZ: 0.0935117868426444\n",
      "SCONTO_PERC: 0.06839071053002645\n",
      "KPI_1: 0.048866548163420946\n",
      "KPI_2: 0.0383082607677952\n",
      "KPI_3: 0.06844460414906146\n",
      "KPI_4: 0.04565854037818285\n",
      "KPI_5: 0.04103478716784798\n",
      "QTA_storico: 0.1063163795908548\n",
      "FATTURATO_storico: 0.06690909276340098\n",
      "DURATA_VOLANTINO_IN_GIORNI: 0.028745234379494836\n",
      "DISPLAY_SIZE: 0.04497895834898972\n",
      "HD_QUALITY: 0.030062143619115304\n",
      "OLED: 0.0014001652117161412\n",
      "SMART: 0.006165214505908794\n",
      "MFM: 0.001275014045003325\n",
      "WCG: 0.007698848887849501\n",
      "MINILED: 0.0002084100029456676\n",
      "SCONTO_PERC_MEDIO_VOLANTINO: 0.05792544847927301\n",
      "Month_Redditivity: 0.014486076930736594\n",
      "SCONTO_PERC_MEDIO_NOME_CAMPAGNA: 0.02533764488343455\n"
     ]
    }
   ],
   "source": [
    "print(\"Feature Importance:\")\n",
    "for feature, importance in zip(column_names, rfr.feature_importances_):\n",
    "    print(f\"{feature}: {importance}\")"
   ]
  },
  {
   "cell_type": "markdown",
   "metadata": {},
   "source": [
    "## XGBOOST"
   ]
  },
  {
   "cell_type": "code",
   "execution_count": null,
   "metadata": {},
   "outputs": [],
   "source": [
    "from sklearn.model_selection import RandomizedSearchCV\n",
    "import xgboost as xgb\n",
    "\n",
    "param_grid = {\n",
    "    'n_estimators': [100, 200, 300, 400, 500], \n",
    "    'learning_rate': [0.01, 0.05, 0.1, 0.2, 0.3], \n",
    "    'max_depth': [3, 4, 5, 6, 7, 8, 9, 10], \n",
    "    'min_child_weight': [1, 2, 3, 4, 5],\n",
    "    'subsample': [0.6, 0.7, 0.8, 0.9, 1.0],  \n",
    "    'colsample_bytree': [0.6, 0.7, 0.8, 0.9, 1.0],  \n",
    "    'gamma': [0, 0.1, 0.2, 0.3, 0.4] \n",
    "}\n",
    "\n",
    "random_search = RandomizedSearchCV(estimator=xgb.XGBRegressor(random_state=69),\n",
    "                                   param_distributions=param_grid,\n",
    "                                   n_iter=1000, \n",
    "                                   cv=3,  \n",
    "                                   scoring='neg_mean_squared_error', \n",
    "                                   random_state=42,\n",
    "                                   n_jobs=-1)\n",
    "\n",
    "random_search.fit(X_train, y_train)\n",
    "\n",
    "print(\"Migliori iperparametri:\")\n",
    "print(random_search.best_params_)\n",
    "\n",
    "best_model = random_search.best_estimator_\n",
    "y_pred = best_model.predict(X_test)\n",
    "y_pred = np.where(y_pred < 0, 0, y_pred)\n",
    "\n",
    "mse = mean_squared_error(y_test, y_pred)\n",
    "rmse = np.sqrt(mse)\n",
    "print(f'RMSE con i migliori iperparametri = {rmse}')"
   ]
  },
  {
   "cell_type": "code",
   "execution_count": 143,
   "metadata": {},
   "outputs": [
    {
     "name": "stdout",
     "output_type": "stream",
     "text": [
      "RMSE = 174.58032381245732\n"
     ]
    }
   ],
   "source": [
    "hyperparameters = {'subsample': 0.6, 'n_estimators': 300, 'min_child_weight': 2, 'max_depth': 5, 'learning_rate': 0.01, 'gamma': 0, 'colsample_bytree': 0.6}\n",
    "\n",
    "import xgboost as xgb\n",
    "from sklearn.metrics import mean_squared_error, mean_absolute_error\n",
    "\n",
    "xgbr = xgb.XGBRegressor(random_state=69, **hyperparameters)\n",
    "xgbr.fit(X_train, y_train)\n",
    "y_pred = xgbr.predict(X_test)\n",
    "y_pred = np.where(y_pred < 0, 0, y_pred)\n",
    "mse = mean_squared_error(y_test, y_pred)\n",
    "rmse = np.sqrt(mse)\n",
    "\n",
    "print(f'RMSE = {rmse}')"
   ]
  },
  {
   "cell_type": "code",
   "execution_count": 144,
   "metadata": {},
   "outputs": [
    {
     "name": "stdout",
     "output_type": "stream",
     "text": [
      "Feature Importance:\n",
      "PREZZO_PROMO: 0.08307284116744995\n",
      "PREZZO_LISTINO: 0.04726877063512802\n",
      "STOCK_PZ: 0.05090203136205673\n",
      "SCONTO_PERC: 0.04794443026185036\n",
      "KPI_1: 0.038954317569732666\n",
      "KPI_2: 0.030493415892124176\n",
      "KPI_3: 0.048473045229911804\n",
      "KPI_4: 0.02254926785826683\n",
      "KPI_5: 0.02982579730451107\n",
      "QTA_storico: 0.07260873168706894\n",
      "FATTURATO_storico: 0.04504093527793884\n",
      "DURATA_VOLANTINO_IN_GIORNI: 0.022079210728406906\n",
      "DISPLAY_SIZE: 0.11065320670604706\n",
      "HD_QUALITY: 0.13343355059623718\n",
      "OLED: 0.052585311233997345\n",
      "SMART: 0.02962680347263813\n",
      "MFM: 0.009874059818685055\n",
      "WCG: 0.01753782480955124\n",
      "MINILED: 0.010058106854557991\n",
      "SCONTO_PERC_MEDIO_VOLANTINO: 0.050159960985183716\n",
      "Month_Redditivity: 0.02180098183453083\n",
      "SCONTO_PERC_MEDIO_NOME_CAMPAGNA: 0.025057435035705566\n"
     ]
    }
   ],
   "source": [
    "print(\"Feature Importance:\")\n",
    "for feature, importance in zip(column_names, xgbr.feature_importances_):\n",
    "    print(f\"{feature}: {importance}\")"
   ]
  }
 ],
 "metadata": {
  "kernelspec": {
   "display_name": "base",
   "language": "python",
   "name": "python3"
  },
  "language_info": {
   "codemirror_mode": {
    "name": "ipython",
    "version": 3
   },
   "file_extension": ".py",
   "mimetype": "text/x-python",
   "name": "python",
   "nbconvert_exporter": "python",
   "pygments_lexer": "ipython3",
   "version": "3.9.13"
  }
 },
 "nbformat": 4,
 "nbformat_minor": 2
}
