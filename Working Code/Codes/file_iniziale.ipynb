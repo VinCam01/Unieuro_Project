{
 "cells": [
  {
   "cell_type": "markdown",
   "metadata": {},
   "source": [
    "## IMPORT"
   ]
  },
  {
   "cell_type": "code",
   "execution_count": 1,
   "metadata": {
    "ExecuteTime": {
     "end_time": "2024-04-04T14:48:47.048407Z",
     "start_time": "2024-04-04T14:48:47.032864Z"
    }
   },
   "outputs": [],
   "source": [
    "import pandas as pd\n",
    "import matplotlib.pyplot as plt\n",
    "import seaborn as sns\n",
    "from pandas import Timedelta\n",
    "import numpy as np\n",
    "import warnings\n",
    "warnings.filterwarnings(\"ignore\")\n",
    "\n",
    "\n",
    "pd.set_option('display.max_columns', None)"
   ]
  },
  {
   "cell_type": "code",
   "execution_count": 13,
   "metadata": {
    "ExecuteTime": {
     "end_time": "2024-04-04T14:48:56.959724Z",
     "start_time": "2024-04-04T14:48:47.628266Z"
    }
   },
   "outputs": [],
   "source": [
    "ice = pd.read_csv('./Working Code/Datasets/icecat_caratteristiche_training.csv')\n",
    "kpi = pd.read_csv('./Working Code/Datasets/kpi_prodotti_volantini_training.csv')\n",
    "anagrafica = pd.read_csv('./Working Code/Datasets/anagrafica_volantini_training.csv', encoding='ISO-8859-1')\n",
    "storico = pd.read_csv('./Working Code/Datasets/storico_quantita_training.csv')\n",
    "gfk = pd.read_csv('./Working Code/Datasets/gfk_caratteristiche_training.csv')\n",
    "risultati = pd.read_csv('./Working Code/Datasets/risultati_prodotti_volantini_training.csv')"
   ]
  },
  {
   "cell_type": "markdown",
   "metadata": {},
   "source": [
    "## DATA CLEANING"
   ]
  },
  {
   "cell_type": "markdown",
   "metadata": {},
   "source": [
    "### ICE"
   ]
  },
  {
   "cell_type": "markdown",
   "metadata": {},
   "source": [
    "We does not used this dataset, so we just did an exploratory analysis"
   ]
  },
  {
   "cell_type": "code",
   "execution_count": 7,
   "metadata": {
    "ExecuteTime": {
     "end_time": "2024-04-04T14:48:56.971766Z",
     "start_time": "2024-04-04T14:48:56.961906Z"
    }
   },
   "outputs": [
    {
     "data": {
      "text/html": [
       "<div>\n",
       "<style scoped>\n",
       "    .dataframe tbody tr th:only-of-type {\n",
       "        vertical-align: middle;\n",
       "    }\n",
       "\n",
       "    .dataframe tbody tr th {\n",
       "        vertical-align: top;\n",
       "    }\n",
       "\n",
       "    .dataframe thead th {\n",
       "        text-align: right;\n",
       "    }\n",
       "</style>\n",
       "<table border=\"1\" class=\"dataframe\">\n",
       "  <thead>\n",
       "    <tr style=\"text-align: right;\">\n",
       "      <th></th>\n",
       "      <th>ART_COD</th>\n",
       "      <th>name</th>\n",
       "      <th>title</th>\n",
       "      <th>description</th>\n",
       "      <th>macro_feature_cod</th>\n",
       "      <th>macro_feature_des</th>\n",
       "      <th>feature_cod</th>\n",
       "      <th>feature_des</th>\n",
       "      <th>feature_value</th>\n",
       "      <th>feature_value_nounit</th>\n",
       "      <th>feature_value_unit_cod</th>\n",
       "      <th>feature_value_unit_des</th>\n",
       "      <th>feature_value_type</th>\n",
       "    </tr>\n",
       "  </thead>\n",
       "  <tbody>\n",
       "    <tr>\n",
       "      <th>0</th>\n",
       "      <td>CANCST360L01</td>\n",
       "      <td>CST 360L-01</td>\n",
       "      <td>Candy Smart CST 360L-01 lavatrice Caricamento ...</td>\n",
       "      <td>Smart\\nCandy crede nell'importanza del godersi...</td>\n",
       "      <td>1829</td>\n",
       "      <td>Gestione energetica</td>\n",
       "      <td>2494</td>\n",
       "      <td>Consumo di energia per lavaggio</td>\n",
       "      <td>0.765 kWh</td>\n",
       "      <td>0.765</td>\n",
       "      <td>173.0</td>\n",
       "      <td>kWh</td>\n",
       "      <td>number</td>\n",
       "    </tr>\n",
       "    <tr>\n",
       "      <th>1</th>\n",
       "      <td>CANCST360L01</td>\n",
       "      <td>CST 360L-01</td>\n",
       "      <td>Candy Smart CST 360L-01 lavatrice Caricamento ...</td>\n",
       "      <td>Smart\\nCandy crede nell'importanza del godersi...</td>\n",
       "      <td>1829</td>\n",
       "      <td>Gestione energetica</td>\n",
       "      <td>8491</td>\n",
       "      <td>Tensione di ingresso AC</td>\n",
       "      <td>220 - 240 V</td>\n",
       "      <td>220 - 240</td>\n",
       "      <td>379.0</td>\n",
       "      <td>V</td>\n",
       "      <td>text</td>\n",
       "    </tr>\n",
       "    <tr>\n",
       "      <th>2</th>\n",
       "      <td>CANCST360L01</td>\n",
       "      <td>CST 360L-01</td>\n",
       "      <td>Candy Smart CST 360L-01 lavatrice Caricamento ...</td>\n",
       "      <td>Smart\\nCandy crede nell'importanza del godersi...</td>\n",
       "      <td>1829</td>\n",
       "      <td>Gestione energetica</td>\n",
       "      <td>8484</td>\n",
       "      <td>Frequenza di ingresso AC</td>\n",
       "      <td>50 Hz</td>\n",
       "      <td>50</td>\n",
       "      <td>130.0</td>\n",
       "      <td>Hz</td>\n",
       "      <td>text</td>\n",
       "    </tr>\n",
       "    <tr>\n",
       "      <th>3</th>\n",
       "      <td>CANCST360L01</td>\n",
       "      <td>CST 360L-01</td>\n",
       "      <td>Candy Smart CST 360L-01 lavatrice Caricamento ...</td>\n",
       "      <td>Smart\\nCandy crede nell'importanza del godersi...</td>\n",
       "      <td>1829</td>\n",
       "      <td>Gestione energetica</td>\n",
       "      <td>2034</td>\n",
       "      <td>Consumi (modalità spento)</td>\n",
       "      <td>0.2 W</td>\n",
       "      <td>0.2</td>\n",
       "      <td>387.0</td>\n",
       "      <td>W</td>\n",
       "      <td>number</td>\n",
       "    </tr>\n",
       "    <tr>\n",
       "      <th>4</th>\n",
       "      <td>CANCST360L01</td>\n",
       "      <td>CST 360L-01</td>\n",
       "      <td>Candy Smart CST 360L-01 lavatrice Caricamento ...</td>\n",
       "      <td>Smart\\nCandy crede nell'importanza del godersi...</td>\n",
       "      <td>1829</td>\n",
       "      <td>Gestione energetica</td>\n",
       "      <td>2036</td>\n",
       "      <td>Consumi (modalità stand-by)</td>\n",
       "      <td>1 W</td>\n",
       "      <td>1</td>\n",
       "      <td>387.0</td>\n",
       "      <td>W</td>\n",
       "      <td>number</td>\n",
       "    </tr>\n",
       "  </tbody>\n",
       "</table>\n",
       "</div>"
      ],
      "text/plain": [
       "        ART_COD         name  \\\n",
       "0  CANCST360L01  CST 360L-01   \n",
       "1  CANCST360L01  CST 360L-01   \n",
       "2  CANCST360L01  CST 360L-01   \n",
       "3  CANCST360L01  CST 360L-01   \n",
       "4  CANCST360L01  CST 360L-01   \n",
       "\n",
       "                                               title  \\\n",
       "0  Candy Smart CST 360L-01 lavatrice Caricamento ...   \n",
       "1  Candy Smart CST 360L-01 lavatrice Caricamento ...   \n",
       "2  Candy Smart CST 360L-01 lavatrice Caricamento ...   \n",
       "3  Candy Smart CST 360L-01 lavatrice Caricamento ...   \n",
       "4  Candy Smart CST 360L-01 lavatrice Caricamento ...   \n",
       "\n",
       "                                         description  macro_feature_cod  \\\n",
       "0  Smart\\nCandy crede nell'importanza del godersi...               1829   \n",
       "1  Smart\\nCandy crede nell'importanza del godersi...               1829   \n",
       "2  Smart\\nCandy crede nell'importanza del godersi...               1829   \n",
       "3  Smart\\nCandy crede nell'importanza del godersi...               1829   \n",
       "4  Smart\\nCandy crede nell'importanza del godersi...               1829   \n",
       "\n",
       "     macro_feature_des  feature_cod                      feature_des  \\\n",
       "0  Gestione energetica         2494  Consumo di energia per lavaggio   \n",
       "1  Gestione energetica         8491          Tensione di ingresso AC   \n",
       "2  Gestione energetica         8484         Frequenza di ingresso AC   \n",
       "3  Gestione energetica         2034        Consumi (modalità spento)   \n",
       "4  Gestione energetica         2036      Consumi (modalità stand-by)   \n",
       "\n",
       "  feature_value feature_value_nounit feature_value_unit_cod  \\\n",
       "0     0.765 kWh                0.765                  173.0   \n",
       "1   220 - 240 V            220 - 240                  379.0   \n",
       "2         50 Hz                   50                  130.0   \n",
       "3         0.2 W                  0.2                  387.0   \n",
       "4           1 W                    1                  387.0   \n",
       "\n",
       "  feature_value_unit_des feature_value_type  \n",
       "0                    kWh             number  \n",
       "1                      V               text  \n",
       "2                     Hz               text  \n",
       "3                      W             number  \n",
       "4                      W             number  "
      ]
     },
     "execution_count": 7,
     "metadata": {},
     "output_type": "execute_result"
    }
   ],
   "source": [
    "ice.head()"
   ]
  },
  {
   "cell_type": "code",
   "execution_count": 8,
   "metadata": {
    "ExecuteTime": {
     "end_time": "2024-04-04T14:48:57.962880Z",
     "start_time": "2024-04-04T14:48:56.972604Z"
    }
   },
   "outputs": [
    {
     "name": "stdout",
     "output_type": "stream",
     "text": [
      "<class 'pandas.core.frame.DataFrame'>\n",
      "RangeIndex: 491277 entries, 0 to 491276\n",
      "Data columns (total 13 columns):\n",
      " #   Column                  Non-Null Count   Dtype \n",
      "---  ------                  --------------   ----- \n",
      " 0   ART_COD                 491277 non-null  object\n",
      " 1   name                    491277 non-null  object\n",
      " 2   title                   491277 non-null  object\n",
      " 3   description             491153 non-null  object\n",
      " 4   macro_feature_cod       491277 non-null  int64 \n",
      " 5   macro_feature_des       491277 non-null  object\n",
      " 6   feature_cod             491277 non-null  int64 \n",
      " 7   feature_des             491277 non-null  object\n",
      " 8   feature_value           466447 non-null  object\n",
      " 9   feature_value_nounit    466444 non-null  object\n",
      " 10  feature_value_unit_cod  125171 non-null  object\n",
      " 11  feature_value_unit_des  125171 non-null  object\n",
      " 12  feature_value_type      491277 non-null  object\n",
      "dtypes: int64(2), object(11)\n",
      "memory usage: 48.7+ MB\n"
     ]
    }
   ],
   "source": [
    "ice.info()"
   ]
  },
  {
   "cell_type": "code",
   "execution_count": 9,
   "metadata": {
    "ExecuteTime": {
     "end_time": "2024-04-04T14:48:58.009143Z",
     "start_time": "2024-04-04T14:48:57.971436Z"
    }
   },
   "outputs": [
    {
     "data": {
      "text/plain": [
       "71"
      ]
     },
     "execution_count": 9,
     "metadata": {},
     "output_type": "execute_result"
    }
   ],
   "source": [
    "ice['feature_value_unit_des'].nunique()"
   ]
  },
  {
   "cell_type": "code",
   "execution_count": 10,
   "metadata": {
    "ExecuteTime": {
     "end_time": "2024-04-04T14:48:58.068351Z",
     "start_time": "2024-04-04T14:48:58.010527Z"
    }
   },
   "outputs": [
    {
     "data": {
      "text/html": [
       "<div>\n",
       "<style scoped>\n",
       "    .dataframe tbody tr th:only-of-type {\n",
       "        vertical-align: middle;\n",
       "    }\n",
       "\n",
       "    .dataframe tbody tr th {\n",
       "        vertical-align: top;\n",
       "    }\n",
       "\n",
       "    .dataframe thead th {\n",
       "        text-align: right;\n",
       "    }\n",
       "</style>\n",
       "<table border=\"1\" class=\"dataframe\">\n",
       "  <thead>\n",
       "    <tr style=\"text-align: right;\">\n",
       "      <th></th>\n",
       "      <th>macro_feature_cod</th>\n",
       "      <th>feature_cod</th>\n",
       "    </tr>\n",
       "  </thead>\n",
       "  <tbody>\n",
       "    <tr>\n",
       "      <th>count</th>\n",
       "      <td>491277.000000</td>\n",
       "      <td>491277.000000</td>\n",
       "    </tr>\n",
       "    <tr>\n",
       "      <th>mean</th>\n",
       "      <td>8948.912101</td>\n",
       "      <td>12231.972417</td>\n",
       "    </tr>\n",
       "    <tr>\n",
       "      <th>std</th>\n",
       "      <td>7607.729523</td>\n",
       "      <td>12572.139867</td>\n",
       "    </tr>\n",
       "    <tr>\n",
       "      <th>min</th>\n",
       "      <td>-1.000000</td>\n",
       "      <td>5.000000</td>\n",
       "    </tr>\n",
       "    <tr>\n",
       "      <th>25%</th>\n",
       "      <td>5078.000000</td>\n",
       "      <td>2328.000000</td>\n",
       "    </tr>\n",
       "    <tr>\n",
       "      <th>50%</th>\n",
       "      <td>6890.000000</td>\n",
       "      <td>7979.000000</td>\n",
       "    </tr>\n",
       "    <tr>\n",
       "      <th>75%</th>\n",
       "      <td>10707.000000</td>\n",
       "      <td>17554.000000</td>\n",
       "    </tr>\n",
       "    <tr>\n",
       "      <th>max</th>\n",
       "      <td>77548.000000</td>\n",
       "      <td>47293.000000</td>\n",
       "    </tr>\n",
       "  </tbody>\n",
       "</table>\n",
       "</div>"
      ],
      "text/plain": [
       "       macro_feature_cod    feature_cod\n",
       "count      491277.000000  491277.000000\n",
       "mean         8948.912101   12231.972417\n",
       "std          7607.729523   12572.139867\n",
       "min            -1.000000       5.000000\n",
       "25%          5078.000000    2328.000000\n",
       "50%          6890.000000    7979.000000\n",
       "75%         10707.000000   17554.000000\n",
       "max         77548.000000   47293.000000"
      ]
     },
     "execution_count": 10,
     "metadata": {},
     "output_type": "execute_result"
    }
   ],
   "source": [
    "ice.describe()"
   ]
  },
  {
   "cell_type": "code",
   "execution_count": 11,
   "metadata": {
    "ExecuteTime": {
     "end_time": "2024-04-04T14:48:58.719841Z",
     "start_time": "2024-04-04T14:48:58.070803Z"
    }
   },
   "outputs": [
    {
     "data": {
      "text/plain": [
       "ART_COD                        0\n",
       "name                           0\n",
       "title                          0\n",
       "description                  124\n",
       "macro_feature_cod              0\n",
       "macro_feature_des              0\n",
       "feature_cod                    0\n",
       "feature_des                    0\n",
       "feature_value              24830\n",
       "feature_value_nounit       24833\n",
       "feature_value_unit_cod    366106\n",
       "feature_value_unit_des    366106\n",
       "feature_value_type             0\n",
       "dtype: int64"
      ]
     },
     "execution_count": 11,
     "metadata": {},
     "output_type": "execute_result"
    }
   ],
   "source": [
    "ice.isnull().sum()"
   ]
  },
  {
   "cell_type": "code",
   "execution_count": 12,
   "metadata": {
    "ExecuteTime": {
     "end_time": "2024-04-04T14:48:58.770703Z",
     "start_time": "2024-04-04T14:48:58.720960Z"
    }
   },
   "outputs": [
    {
     "data": {
      "text/html": [
       "<div>\n",
       "<style scoped>\n",
       "    .dataframe tbody tr th:only-of-type {\n",
       "        vertical-align: middle;\n",
       "    }\n",
       "\n",
       "    .dataframe tbody tr th {\n",
       "        vertical-align: top;\n",
       "    }\n",
       "\n",
       "    .dataframe thead th {\n",
       "        text-align: right;\n",
       "    }\n",
       "</style>\n",
       "<table border=\"1\" class=\"dataframe\">\n",
       "  <thead>\n",
       "    <tr style=\"text-align: right;\">\n",
       "      <th></th>\n",
       "      <th>ART_COD</th>\n",
       "      <th>name</th>\n",
       "      <th>title</th>\n",
       "      <th>description</th>\n",
       "      <th>macro_feature_cod</th>\n",
       "      <th>macro_feature_des</th>\n",
       "      <th>feature_cod</th>\n",
       "      <th>feature_des</th>\n",
       "      <th>feature_value</th>\n",
       "      <th>feature_value_nounit</th>\n",
       "      <th>feature_value_unit_cod</th>\n",
       "      <th>feature_value_unit_des</th>\n",
       "      <th>feature_value_type</th>\n",
       "    </tr>\n",
       "  </thead>\n",
       "  <tbody>\n",
       "    <tr>\n",
       "      <th>100022</th>\n",
       "      <td>HORVIEW10LITE64</td>\n",
       "      <td>Honor View 10 Lite 6.5 Doppia SIM</td>\n",
       "      <td>Honor View 10 Lite 6.5 Doppia SIM</td>\n",
       "      <td>Sistema operativo Android 8.1 Processore Octa ...</td>\n",
       "      <td>6887</td>\n",
       "      <td>Archiviazione</td>\n",
       "      <td>33517</td>\n",
       "      <td>Tipo di slot per scheda di memoria</td>\n",
       "      <td>microSD</td>\n",
       "      <td>NaN</td>\n",
       "      <td>NaN</td>\n",
       "      <td>NaN</td>\n",
       "      <td>enumerate</td>\n",
       "    </tr>\n",
       "    <tr>\n",
       "      <th>100025</th>\n",
       "      <td>HORVIEW10LITE64</td>\n",
       "      <td>Honor View 10 Lite 6.5 Doppia SIM</td>\n",
       "      <td>Honor View 10 Lite 6.5 Doppia SIM</td>\n",
       "      <td>Sistema operativo Android 8.1 Processore Octa ...</td>\n",
       "      <td>6890</td>\n",
       "      <td>Collegamento in rete</td>\n",
       "      <td>1208</td>\n",
       "      <td>Versione Bluetooth</td>\n",
       "      <td>4.2</td>\n",
       "      <td>NaN</td>\n",
       "      <td>NaN</td>\n",
       "      <td>NaN</td>\n",
       "      <td>enumerate</td>\n",
       "    </tr>\n",
       "    <tr>\n",
       "      <th>100026</th>\n",
       "      <td>HORVIEW10LITE64</td>\n",
       "      <td>Honor View 10 Lite 6.5 Doppia SIM</td>\n",
       "      <td>Honor View 10 Lite 6.5 Doppia SIM</td>\n",
       "      <td>Sistema operativo Android 8.1 Processore Octa ...</td>\n",
       "      <td>6890</td>\n",
       "      <td>Collegamento in rete</td>\n",
       "      <td>16921</td>\n",
       "      <td>4G</td>\n",
       "      <td>Sì</td>\n",
       "      <td>NaN</td>\n",
       "      <td>NaN</td>\n",
       "      <td>NaN</td>\n",
       "      <td>enumerate</td>\n",
       "    </tr>\n",
       "  </tbody>\n",
       "</table>\n",
       "</div>"
      ],
      "text/plain": [
       "                ART_COD                               name  \\\n",
       "100022  HORVIEW10LITE64  Honor View 10 Lite 6.5 Doppia SIM   \n",
       "100025  HORVIEW10LITE64  Honor View 10 Lite 6.5 Doppia SIM   \n",
       "100026  HORVIEW10LITE64  Honor View 10 Lite 6.5 Doppia SIM   \n",
       "\n",
       "                                    title  \\\n",
       "100022  Honor View 10 Lite 6.5 Doppia SIM   \n",
       "100025  Honor View 10 Lite 6.5 Doppia SIM   \n",
       "100026  Honor View 10 Lite 6.5 Doppia SIM   \n",
       "\n",
       "                                              description  macro_feature_cod  \\\n",
       "100022  Sistema operativo Android 8.1 Processore Octa ...               6887   \n",
       "100025  Sistema operativo Android 8.1 Processore Octa ...               6890   \n",
       "100026  Sistema operativo Android 8.1 Processore Octa ...               6890   \n",
       "\n",
       "           macro_feature_des  feature_cod                         feature_des  \\\n",
       "100022         Archiviazione        33517  Tipo di slot per scheda di memoria   \n",
       "100025  Collegamento in rete         1208                  Versione Bluetooth   \n",
       "100026  Collegamento in rete        16921                                  4G   \n",
       "\n",
       "       feature_value feature_value_nounit feature_value_unit_cod  \\\n",
       "100022       microSD                  NaN                    NaN   \n",
       "100025           4.2                  NaN                    NaN   \n",
       "100026            Sì                  NaN                    NaN   \n",
       "\n",
       "       feature_value_unit_des feature_value_type  \n",
       "100022                    NaN          enumerate  \n",
       "100025                    NaN          enumerate  \n",
       "100026                    NaN          enumerate  "
      ]
     },
     "execution_count": 12,
     "metadata": {},
     "output_type": "execute_result"
    }
   ],
   "source": [
    "ice[(ice['feature_value'].notnull()) & (ice['feature_value_nounit'].isnull())]  "
   ]
  },
  {
   "cell_type": "markdown",
   "metadata": {},
   "source": [
    "### KPI"
   ]
  },
  {
   "cell_type": "code",
   "execution_count": 13,
   "metadata": {
    "ExecuteTime": {
     "end_time": "2024-04-04T14:48:58.781703Z",
     "start_time": "2024-04-04T14:48:58.772152Z"
    }
   },
   "outputs": [
    {
     "data": {
      "text/html": [
       "<div>\n",
       "<style scoped>\n",
       "    .dataframe tbody tr th:only-of-type {\n",
       "        vertical-align: middle;\n",
       "    }\n",
       "\n",
       "    .dataframe tbody tr th {\n",
       "        vertical-align: top;\n",
       "    }\n",
       "\n",
       "    .dataframe thead th {\n",
       "        text-align: right;\n",
       "    }\n",
       "</style>\n",
       "<table border=\"1\" class=\"dataframe\">\n",
       "  <thead>\n",
       "    <tr style=\"text-align: right;\">\n",
       "      <th></th>\n",
       "      <th>CODICE_VOLANTINO</th>\n",
       "      <th>ART_COD</th>\n",
       "      <th>PRODUCT_GROUP</th>\n",
       "      <th>ITEM_ID</th>\n",
       "      <th>KPI_1</th>\n",
       "      <th>KPI_2</th>\n",
       "      <th>KPI_3</th>\n",
       "      <th>KPI_4</th>\n",
       "      <th>KPI_5</th>\n",
       "    </tr>\n",
       "  </thead>\n",
       "  <tbody>\n",
       "    <tr>\n",
       "      <th>0</th>\n",
       "      <td>18AA</td>\n",
       "      <td>ACEA31521G9827</td>\n",
       "      <td>MOBILE COMPUTING</td>\n",
       "      <td>136498792.0</td>\n",
       "      <td>0.719809</td>\n",
       "      <td>NaN</td>\n",
       "      <td>0.095513</td>\n",
       "      <td>NaN</td>\n",
       "      <td>0.509244</td>\n",
       "    </tr>\n",
       "    <tr>\n",
       "      <th>1</th>\n",
       "      <td>18AA</td>\n",
       "      <td>ACEA31531C825</td>\n",
       "      <td>MOBILE COMPUTING</td>\n",
       "      <td>126394531.0</td>\n",
       "      <td>0.719809</td>\n",
       "      <td>0.345495</td>\n",
       "      <td>0.142099</td>\n",
       "      <td>1.000000</td>\n",
       "      <td>0.506211</td>\n",
       "    </tr>\n",
       "    <tr>\n",
       "      <th>2</th>\n",
       "      <td>18AA</td>\n",
       "      <td>APLMPXQ2TA</td>\n",
       "      <td>MOBILE COMPUTING</td>\n",
       "      <td>125136538.0</td>\n",
       "      <td>0.719809</td>\n",
       "      <td>0.938900</td>\n",
       "      <td>0.879351</td>\n",
       "      <td>0.699513</td>\n",
       "      <td>0.702057</td>\n",
       "    </tr>\n",
       "    <tr>\n",
       "      <th>3</th>\n",
       "      <td>18AA</td>\n",
       "      <td>APLMPXR2TA</td>\n",
       "      <td>MOBILE COMPUTING</td>\n",
       "      <td>125136538.0</td>\n",
       "      <td>0.719809</td>\n",
       "      <td>0.938900</td>\n",
       "      <td>0.158026</td>\n",
       "      <td>0.699513</td>\n",
       "      <td>0.702057</td>\n",
       "    </tr>\n",
       "    <tr>\n",
       "      <th>4</th>\n",
       "      <td>18AA</td>\n",
       "      <td>APLMQD32TA</td>\n",
       "      <td>MOBILE COMPUTING</td>\n",
       "      <td>124814100.0</td>\n",
       "      <td>0.719809</td>\n",
       "      <td>1.000000</td>\n",
       "      <td>1.000000</td>\n",
       "      <td>0.699513</td>\n",
       "      <td>1.000000</td>\n",
       "    </tr>\n",
       "  </tbody>\n",
       "</table>\n",
       "</div>"
      ],
      "text/plain": [
       "  CODICE_VOLANTINO         ART_COD     PRODUCT_GROUP      ITEM_ID     KPI_1  \\\n",
       "0             18AA  ACEA31521G9827  MOBILE COMPUTING  136498792.0  0.719809   \n",
       "1             18AA   ACEA31531C825  MOBILE COMPUTING  126394531.0  0.719809   \n",
       "2             18AA      APLMPXQ2TA  MOBILE COMPUTING  125136538.0  0.719809   \n",
       "3             18AA      APLMPXR2TA  MOBILE COMPUTING  125136538.0  0.719809   \n",
       "4             18AA      APLMQD32TA  MOBILE COMPUTING  124814100.0  0.719809   \n",
       "\n",
       "      KPI_2     KPI_3     KPI_4     KPI_5  \n",
       "0       NaN  0.095513       NaN  0.509244  \n",
       "1  0.345495  0.142099  1.000000  0.506211  \n",
       "2  0.938900  0.879351  0.699513  0.702057  \n",
       "3  0.938900  0.158026  0.699513  0.702057  \n",
       "4  1.000000  1.000000  0.699513  1.000000  "
      ]
     },
     "execution_count": 13,
     "metadata": {},
     "output_type": "execute_result"
    }
   ],
   "source": [
    "kpi.head()"
   ]
  },
  {
   "cell_type": "code",
   "execution_count": 14,
   "metadata": {
    "ExecuteTime": {
     "end_time": "2024-04-04T14:48:58.797211Z",
     "start_time": "2024-04-04T14:48:58.782876Z"
    }
   },
   "outputs": [
    {
     "name": "stdout",
     "output_type": "stream",
     "text": [
      "<class 'pandas.core.frame.DataFrame'>\n",
      "RangeIndex: 20983 entries, 0 to 20982\n",
      "Data columns (total 9 columns):\n",
      " #   Column            Non-Null Count  Dtype  \n",
      "---  ------            --------------  -----  \n",
      " 0   CODICE_VOLANTINO  20983 non-null  object \n",
      " 1   ART_COD           20983 non-null  object \n",
      " 2   PRODUCT_GROUP     20983 non-null  object \n",
      " 3   ITEM_ID           20791 non-null  float64\n",
      " 4   KPI_1             20983 non-null  float64\n",
      " 5   KPI_2             14674 non-null  float64\n",
      " 6   KPI_3             17927 non-null  float64\n",
      " 7   KPI_4             20571 non-null  float64\n",
      " 8   KPI_5             17902 non-null  float64\n",
      "dtypes: float64(6), object(3)\n",
      "memory usage: 1.4+ MB\n"
     ]
    }
   ],
   "source": [
    "kpi.info()"
   ]
  },
  {
   "cell_type": "code",
   "execution_count": 15,
   "metadata": {
    "ExecuteTime": {
     "end_time": "2024-04-04T14:48:58.818032Z",
     "start_time": "2024-04-04T14:48:58.799939Z"
    }
   },
   "outputs": [
    {
     "data": {
      "text/html": [
       "<div>\n",
       "<style scoped>\n",
       "    .dataframe tbody tr th:only-of-type {\n",
       "        vertical-align: middle;\n",
       "    }\n",
       "\n",
       "    .dataframe tbody tr th {\n",
       "        vertical-align: top;\n",
       "    }\n",
       "\n",
       "    .dataframe thead th {\n",
       "        text-align: right;\n",
       "    }\n",
       "</style>\n",
       "<table border=\"1\" class=\"dataframe\">\n",
       "  <thead>\n",
       "    <tr style=\"text-align: right;\">\n",
       "      <th></th>\n",
       "      <th>ITEM_ID</th>\n",
       "      <th>KPI_1</th>\n",
       "      <th>KPI_2</th>\n",
       "      <th>KPI_3</th>\n",
       "      <th>KPI_4</th>\n",
       "      <th>KPI_5</th>\n",
       "    </tr>\n",
       "  </thead>\n",
       "  <tbody>\n",
       "    <tr>\n",
       "      <th>count</th>\n",
       "      <td>2.079100e+04</td>\n",
       "      <td>20983.000000</td>\n",
       "      <td>14674.000000</td>\n",
       "      <td>17927.000000</td>\n",
       "      <td>20571.000000</td>\n",
       "      <td>17902.000000</td>\n",
       "    </tr>\n",
       "    <tr>\n",
       "      <th>mean</th>\n",
       "      <td>1.627056e+08</td>\n",
       "      <td>0.603360</td>\n",
       "      <td>0.468689</td>\n",
       "      <td>0.294528</td>\n",
       "      <td>0.509629</td>\n",
       "      <td>0.503340</td>\n",
       "    </tr>\n",
       "    <tr>\n",
       "      <th>std</th>\n",
       "      <td>1.529419e+07</td>\n",
       "      <td>0.195180</td>\n",
       "      <td>0.301951</td>\n",
       "      <td>0.270543</td>\n",
       "      <td>0.349280</td>\n",
       "      <td>0.381922</td>\n",
       "    </tr>\n",
       "    <tr>\n",
       "      <th>min</th>\n",
       "      <td>2.500554e+06</td>\n",
       "      <td>0.177862</td>\n",
       "      <td>0.000000</td>\n",
       "      <td>-0.000005</td>\n",
       "      <td>0.000000</td>\n",
       "      <td>0.000000</td>\n",
       "    </tr>\n",
       "    <tr>\n",
       "      <th>25%</th>\n",
       "      <td>1.561955e+08</td>\n",
       "      <td>0.492729</td>\n",
       "      <td>0.275072</td>\n",
       "      <td>0.063739</td>\n",
       "      <td>0.200692</td>\n",
       "      <td>0.132923</td>\n",
       "    </tr>\n",
       "    <tr>\n",
       "      <th>50%</th>\n",
       "      <td>1.663445e+08</td>\n",
       "      <td>0.589046</td>\n",
       "      <td>0.450172</td>\n",
       "      <td>0.214534</td>\n",
       "      <td>0.474110</td>\n",
       "      <td>0.436915</td>\n",
       "    </tr>\n",
       "    <tr>\n",
       "      <th>75%</th>\n",
       "      <td>1.732319e+08</td>\n",
       "      <td>0.725830</td>\n",
       "      <td>0.708024</td>\n",
       "      <td>0.469987</td>\n",
       "      <td>1.000000</td>\n",
       "      <td>1.000000</td>\n",
       "    </tr>\n",
       "    <tr>\n",
       "      <th>max</th>\n",
       "      <td>1.849542e+08</td>\n",
       "      <td>1.000000</td>\n",
       "      <td>1.000000</td>\n",
       "      <td>1.000000</td>\n",
       "      <td>1.000000</td>\n",
       "      <td>1.000000</td>\n",
       "    </tr>\n",
       "  </tbody>\n",
       "</table>\n",
       "</div>"
      ],
      "text/plain": [
       "            ITEM_ID         KPI_1         KPI_2         KPI_3         KPI_4  \\\n",
       "count  2.079100e+04  20983.000000  14674.000000  17927.000000  20571.000000   \n",
       "mean   1.627056e+08      0.603360      0.468689      0.294528      0.509629   \n",
       "std    1.529419e+07      0.195180      0.301951      0.270543      0.349280   \n",
       "min    2.500554e+06      0.177862      0.000000     -0.000005      0.000000   \n",
       "25%    1.561955e+08      0.492729      0.275072      0.063739      0.200692   \n",
       "50%    1.663445e+08      0.589046      0.450172      0.214534      0.474110   \n",
       "75%    1.732319e+08      0.725830      0.708024      0.469987      1.000000   \n",
       "max    1.849542e+08      1.000000      1.000000      1.000000      1.000000   \n",
       "\n",
       "              KPI_5  \n",
       "count  17902.000000  \n",
       "mean       0.503340  \n",
       "std        0.381922  \n",
       "min        0.000000  \n",
       "25%        0.132923  \n",
       "50%        0.436915  \n",
       "75%        1.000000  \n",
       "max        1.000000  "
      ]
     },
     "execution_count": 15,
     "metadata": {},
     "output_type": "execute_result"
    }
   ],
   "source": [
    "kpi.describe()"
   ]
  },
  {
   "cell_type": "markdown",
   "metadata": {},
   "source": [
    "As we can see from kpi.describe(), columns 'KPI_3' has some negative values, so we replaced them with NaN value"
   ]
  },
  {
   "cell_type": "code",
   "execution_count": 16,
   "metadata": {
    "ExecuteTime": {
     "end_time": "2024-04-04T14:48:58.829099Z",
     "start_time": "2024-04-04T14:48:58.818919Z"
    }
   },
   "outputs": [],
   "source": [
    "kpi['KPI_3'].where(kpi['KPI_3']>=0, pd.NA, inplace=True) "
   ]
  },
  {
   "cell_type": "code",
   "execution_count": 17,
   "metadata": {
    "ExecuteTime": {
     "end_time": "2024-04-04T14:48:58.846100Z",
     "start_time": "2024-04-04T14:48:58.830083Z"
    }
   },
   "outputs": [
    {
     "data": {
      "text/html": [
       "<div>\n",
       "<style scoped>\n",
       "    .dataframe tbody tr th:only-of-type {\n",
       "        vertical-align: middle;\n",
       "    }\n",
       "\n",
       "    .dataframe tbody tr th {\n",
       "        vertical-align: top;\n",
       "    }\n",
       "\n",
       "    .dataframe thead th {\n",
       "        text-align: right;\n",
       "    }\n",
       "</style>\n",
       "<table border=\"1\" class=\"dataframe\">\n",
       "  <thead>\n",
       "    <tr style=\"text-align: right;\">\n",
       "      <th></th>\n",
       "      <th>ITEM_ID</th>\n",
       "      <th>KPI_1</th>\n",
       "      <th>KPI_2</th>\n",
       "      <th>KPI_3</th>\n",
       "      <th>KPI_4</th>\n",
       "      <th>KPI_5</th>\n",
       "    </tr>\n",
       "  </thead>\n",
       "  <tbody>\n",
       "    <tr>\n",
       "      <th>count</th>\n",
       "      <td>2.079100e+04</td>\n",
       "      <td>20983.000000</td>\n",
       "      <td>14674.000000</td>\n",
       "      <td>1.792600e+04</td>\n",
       "      <td>20571.000000</td>\n",
       "      <td>17902.000000</td>\n",
       "    </tr>\n",
       "    <tr>\n",
       "      <th>mean</th>\n",
       "      <td>1.627056e+08</td>\n",
       "      <td>0.603360</td>\n",
       "      <td>0.468689</td>\n",
       "      <td>2.945445e-01</td>\n",
       "      <td>0.509629</td>\n",
       "      <td>0.503340</td>\n",
       "    </tr>\n",
       "    <tr>\n",
       "      <th>std</th>\n",
       "      <td>1.529419e+07</td>\n",
       "      <td>0.195180</td>\n",
       "      <td>0.301951</td>\n",
       "      <td>2.705418e-01</td>\n",
       "      <td>0.349280</td>\n",
       "      <td>0.381922</td>\n",
       "    </tr>\n",
       "    <tr>\n",
       "      <th>min</th>\n",
       "      <td>2.500554e+06</td>\n",
       "      <td>0.177862</td>\n",
       "      <td>0.000000</td>\n",
       "      <td>8.900000e-09</td>\n",
       "      <td>0.000000</td>\n",
       "      <td>0.000000</td>\n",
       "    </tr>\n",
       "    <tr>\n",
       "      <th>25%</th>\n",
       "      <td>1.561955e+08</td>\n",
       "      <td>0.492729</td>\n",
       "      <td>0.275072</td>\n",
       "      <td>6.375398e-02</td>\n",
       "      <td>0.200692</td>\n",
       "      <td>0.132923</td>\n",
       "    </tr>\n",
       "    <tr>\n",
       "      <th>50%</th>\n",
       "      <td>1.663445e+08</td>\n",
       "      <td>0.589046</td>\n",
       "      <td>0.450172</td>\n",
       "      <td>2.145608e-01</td>\n",
       "      <td>0.474110</td>\n",
       "      <td>0.436915</td>\n",
       "    </tr>\n",
       "    <tr>\n",
       "      <th>75%</th>\n",
       "      <td>1.732319e+08</td>\n",
       "      <td>0.725830</td>\n",
       "      <td>0.708024</td>\n",
       "      <td>4.699965e-01</td>\n",
       "      <td>1.000000</td>\n",
       "      <td>1.000000</td>\n",
       "    </tr>\n",
       "    <tr>\n",
       "      <th>max</th>\n",
       "      <td>1.849542e+08</td>\n",
       "      <td>1.000000</td>\n",
       "      <td>1.000000</td>\n",
       "      <td>1.000000e+00</td>\n",
       "      <td>1.000000</td>\n",
       "      <td>1.000000</td>\n",
       "    </tr>\n",
       "  </tbody>\n",
       "</table>\n",
       "</div>"
      ],
      "text/plain": [
       "            ITEM_ID         KPI_1         KPI_2         KPI_3         KPI_4  \\\n",
       "count  2.079100e+04  20983.000000  14674.000000  1.792600e+04  20571.000000   \n",
       "mean   1.627056e+08      0.603360      0.468689  2.945445e-01      0.509629   \n",
       "std    1.529419e+07      0.195180      0.301951  2.705418e-01      0.349280   \n",
       "min    2.500554e+06      0.177862      0.000000  8.900000e-09      0.000000   \n",
       "25%    1.561955e+08      0.492729      0.275072  6.375398e-02      0.200692   \n",
       "50%    1.663445e+08      0.589046      0.450172  2.145608e-01      0.474110   \n",
       "75%    1.732319e+08      0.725830      0.708024  4.699965e-01      1.000000   \n",
       "max    1.849542e+08      1.000000      1.000000  1.000000e+00      1.000000   \n",
       "\n",
       "              KPI_5  \n",
       "count  17902.000000  \n",
       "mean       0.503340  \n",
       "std        0.381922  \n",
       "min        0.000000  \n",
       "25%        0.132923  \n",
       "50%        0.436915  \n",
       "75%        1.000000  \n",
       "max        1.000000  "
      ]
     },
     "execution_count": 17,
     "metadata": {},
     "output_type": "execute_result"
    }
   ],
   "source": [
    "kpi.describe()"
   ]
  },
  {
   "cell_type": "code",
   "execution_count": 18,
   "metadata": {
    "ExecuteTime": {
     "end_time": "2024-04-04T14:48:58.859390Z",
     "start_time": "2024-04-04T14:48:58.847133Z"
    }
   },
   "outputs": [
    {
     "data": {
      "text/plain": [
       "CODICE_VOLANTINO       0\n",
       "ART_COD                0\n",
       "PRODUCT_GROUP          0\n",
       "ITEM_ID              192\n",
       "KPI_1                  0\n",
       "KPI_2               6309\n",
       "KPI_3               3057\n",
       "KPI_4                412\n",
       "KPI_5               3081\n",
       "dtype: int64"
      ]
     },
     "execution_count": 18,
     "metadata": {},
     "output_type": "execute_result"
    }
   ],
   "source": [
    "kpi.isnull().sum()"
   ]
  },
  {
   "cell_type": "markdown",
   "metadata": {},
   "source": [
    "### ANAGRAFICA"
   ]
  },
  {
   "cell_type": "code",
   "execution_count": 19,
   "metadata": {
    "ExecuteTime": {
     "end_time": "2024-04-04T14:48:58.872752Z",
     "start_time": "2024-04-04T14:48:58.863318Z"
    }
   },
   "outputs": [
    {
     "data": {
      "text/html": [
       "<div>\n",
       "<style scoped>\n",
       "    .dataframe tbody tr th:only-of-type {\n",
       "        vertical-align: middle;\n",
       "    }\n",
       "\n",
       "    .dataframe tbody tr th {\n",
       "        vertical-align: top;\n",
       "    }\n",
       "\n",
       "    .dataframe thead th {\n",
       "        text-align: right;\n",
       "    }\n",
       "</style>\n",
       "<table border=\"1\" class=\"dataframe\">\n",
       "  <thead>\n",
       "    <tr style=\"text-align: right;\">\n",
       "      <th></th>\n",
       "      <th>CODICE_VOLANTINO</th>\n",
       "      <th>DATA_INIZIO</th>\n",
       "      <th>DATA_FINE</th>\n",
       "      <th>NOME_CAMPAGNA</th>\n",
       "      <th>ART_COD</th>\n",
       "      <th>PREZZO_PROMO</th>\n",
       "      <th>PREZZO_LISTINO</th>\n",
       "      <th>STOCK_PZ</th>\n",
       "      <th>TIPOLOGIA_PRODOTTO</th>\n",
       "      <th>SCONTO_PERC</th>\n",
       "      <th>STOCK_ORD_IN_ARRIVO_PZ</th>\n",
       "      <th>PRODUCT_GROUP</th>\n",
       "      <th>BRAND</th>\n",
       "    </tr>\n",
       "  </thead>\n",
       "  <tbody>\n",
       "    <tr>\n",
       "      <th>0</th>\n",
       "      <td>22LB</td>\n",
       "      <td>2022-10-17</td>\n",
       "      <td>2022-10-27</td>\n",
       "      <td>SECONDO AL 50</td>\n",
       "      <td>AMFBAND7</td>\n",
       "      <td>49.99</td>\n",
       "      <td>49.99</td>\n",
       "      <td>-2.0</td>\n",
       "      <td>Principale</td>\n",
       "      <td>0.0</td>\n",
       "      <td>0.0</td>\n",
       "      <td>CORE WEARABLES</td>\n",
       "      <td>AMAZFIT</td>\n",
       "    </tr>\n",
       "    <tr>\n",
       "      <th>1</th>\n",
       "      <td>23BA</td>\n",
       "      <td>2023-02-03</td>\n",
       "      <td>2023-02-12</td>\n",
       "      <td>BASKET SCONTI FEBBRAIO</td>\n",
       "      <td>AMFBAND7</td>\n",
       "      <td>44.99</td>\n",
       "      <td>49.99</td>\n",
       "      <td>854.0</td>\n",
       "      <td>Principale</td>\n",
       "      <td>-10.0</td>\n",
       "      <td>41.0</td>\n",
       "      <td>CORE WEARABLES</td>\n",
       "      <td>AMAZFIT</td>\n",
       "    </tr>\n",
       "    <tr>\n",
       "      <th>2</th>\n",
       "      <td>23EA</td>\n",
       "      <td>2023-05-12</td>\n",
       "      <td>2023-05-25</td>\n",
       "      <td>VOLAGRATIS</td>\n",
       "      <td>AMFBAND7</td>\n",
       "      <td>49.99</td>\n",
       "      <td>49.99</td>\n",
       "      <td>1104.0</td>\n",
       "      <td>Principale</td>\n",
       "      <td>0.0</td>\n",
       "      <td>194.0</td>\n",
       "      <td>CORE WEARABLES</td>\n",
       "      <td>AMAZFIT</td>\n",
       "    </tr>\n",
       "    <tr>\n",
       "      <th>3</th>\n",
       "      <td>22NB</td>\n",
       "      <td>2022-12-18</td>\n",
       "      <td>2022-12-24</td>\n",
       "      <td>CALENDARIO AVVENTO</td>\n",
       "      <td>AMFBAND7</td>\n",
       "      <td>49.99</td>\n",
       "      <td>49.99</td>\n",
       "      <td>1296.0</td>\n",
       "      <td>Principale</td>\n",
       "      <td>0.0</td>\n",
       "      <td>373.0</td>\n",
       "      <td>CORE WEARABLES</td>\n",
       "      <td>AMAZFIT</td>\n",
       "    </tr>\n",
       "    <tr>\n",
       "      <th>4</th>\n",
       "      <td>23CD</td>\n",
       "      <td>2023-03-31</td>\n",
       "      <td>2023-04-13</td>\n",
       "      <td>BASKET SCONTI APRILE</td>\n",
       "      <td>AMFBAND7</td>\n",
       "      <td>44.99</td>\n",
       "      <td>49.99</td>\n",
       "      <td>938.0</td>\n",
       "      <td>Principale</td>\n",
       "      <td>-10.0</td>\n",
       "      <td>182.0</td>\n",
       "      <td>CORE WEARABLES</td>\n",
       "      <td>AMAZFIT</td>\n",
       "    </tr>\n",
       "  </tbody>\n",
       "</table>\n",
       "</div>"
      ],
      "text/plain": [
       "  CODICE_VOLANTINO DATA_INIZIO   DATA_FINE           NOME_CAMPAGNA   ART_COD  \\\n",
       "0             22LB  2022-10-17  2022-10-27           SECONDO AL 50  AMFBAND7   \n",
       "1             23BA  2023-02-03  2023-02-12  BASKET SCONTI FEBBRAIO  AMFBAND7   \n",
       "2             23EA  2023-05-12  2023-05-25              VOLAGRATIS  AMFBAND7   \n",
       "3             22NB  2022-12-18  2022-12-24      CALENDARIO AVVENTO  AMFBAND7   \n",
       "4             23CD  2023-03-31  2023-04-13    BASKET SCONTI APRILE  AMFBAND7   \n",
       "\n",
       "   PREZZO_PROMO  PREZZO_LISTINO  STOCK_PZ TIPOLOGIA_PRODOTTO  SCONTO_PERC  \\\n",
       "0         49.99           49.99      -2.0         Principale          0.0   \n",
       "1         44.99           49.99     854.0         Principale        -10.0   \n",
       "2         49.99           49.99    1104.0         Principale          0.0   \n",
       "3         49.99           49.99    1296.0         Principale          0.0   \n",
       "4         44.99           49.99     938.0         Principale        -10.0   \n",
       "\n",
       "   STOCK_ORD_IN_ARRIVO_PZ   PRODUCT_GROUP    BRAND  \n",
       "0                     0.0  CORE WEARABLES  AMAZFIT  \n",
       "1                    41.0  CORE WEARABLES  AMAZFIT  \n",
       "2                   194.0  CORE WEARABLES  AMAZFIT  \n",
       "3                   373.0  CORE WEARABLES  AMAZFIT  \n",
       "4                   182.0  CORE WEARABLES  AMAZFIT  "
      ]
     },
     "metadata": {},
     "output_type": "display_data"
    },
    {
     "data": {
      "text/plain": [
       "(20983, 13)"
      ]
     },
     "execution_count": 19,
     "metadata": {},
     "output_type": "execute_result"
    }
   ],
   "source": [
    "display(anagrafica.head())\n",
    "anagrafica.shape"
   ]
  },
  {
   "cell_type": "code",
   "execution_count": 20,
   "metadata": {
    "ExecuteTime": {
     "end_time": "2024-04-04T14:48:58.897733Z",
     "start_time": "2024-04-04T14:48:58.873644Z"
    }
   },
   "outputs": [
    {
     "name": "stdout",
     "output_type": "stream",
     "text": [
      "<class 'pandas.core.frame.DataFrame'>\n",
      "RangeIndex: 20983 entries, 0 to 20982\n",
      "Data columns (total 13 columns):\n",
      " #   Column                  Non-Null Count  Dtype  \n",
      "---  ------                  --------------  -----  \n",
      " 0   CODICE_VOLANTINO        20983 non-null  object \n",
      " 1   DATA_INIZIO             20983 non-null  object \n",
      " 2   DATA_FINE               20983 non-null  object \n",
      " 3   NOME_CAMPAGNA           20983 non-null  object \n",
      " 4   ART_COD                 20983 non-null  object \n",
      " 5   PREZZO_PROMO            20963 non-null  float64\n",
      " 6   PREZZO_LISTINO          17102 non-null  float64\n",
      " 7   STOCK_PZ                20139 non-null  float64\n",
      " 8   TIPOLOGIA_PRODOTTO      20983 non-null  object \n",
      " 9   SCONTO_PERC             17125 non-null  float64\n",
      " 10  STOCK_ORD_IN_ARRIVO_PZ  6113 non-null   float64\n",
      " 11  PRODUCT_GROUP           20983 non-null  object \n",
      " 12  BRAND                   20983 non-null  object \n",
      "dtypes: float64(5), object(8)\n",
      "memory usage: 2.1+ MB\n"
     ]
    }
   ],
   "source": [
    "anagrafica.info()"
   ]
  },
  {
   "cell_type": "code",
   "execution_count": 3,
   "metadata": {
    "ExecuteTime": {
     "end_time": "2024-04-04T14:48:58.921253Z",
     "start_time": "2024-04-04T14:48:58.898929Z"
    }
   },
   "outputs": [
    {
     "data": {
      "text/plain": [
       "CODICE_VOLANTINO              0\n",
       "DATA_INIZIO                   0\n",
       "DATA_FINE                     0\n",
       "NOME_CAMPAGNA                 0\n",
       "ART_COD                       0\n",
       "PREZZO_PROMO                 20\n",
       "PREZZO_LISTINO             3881\n",
       "STOCK_PZ                    844\n",
       "TIPOLOGIA_PRODOTTO            0\n",
       "SCONTO_PERC                3858\n",
       "STOCK_ORD_IN_ARRIVO_PZ    14870\n",
       "PRODUCT_GROUP                 0\n",
       "BRAND                         0\n",
       "dtype: int64"
      ]
     },
     "execution_count": 3,
     "metadata": {},
     "output_type": "execute_result"
    }
   ],
   "source": [
    "anagrafica.isnull().sum()"
   ]
  },
  {
   "cell_type": "code",
   "execution_count": 4,
   "metadata": {
    "ExecuteTime": {
     "end_time": "2024-04-04T14:48:58.937803Z",
     "start_time": "2024-04-04T14:48:58.922117Z"
    }
   },
   "outputs": [
    {
     "data": {
      "text/html": [
       "<div>\n",
       "<style scoped>\n",
       "    .dataframe tbody tr th:only-of-type {\n",
       "        vertical-align: middle;\n",
       "    }\n",
       "\n",
       "    .dataframe tbody tr th {\n",
       "        vertical-align: top;\n",
       "    }\n",
       "\n",
       "    .dataframe thead th {\n",
       "        text-align: right;\n",
       "    }\n",
       "</style>\n",
       "<table border=\"1\" class=\"dataframe\">\n",
       "  <thead>\n",
       "    <tr style=\"text-align: right;\">\n",
       "      <th></th>\n",
       "      <th>PREZZO_PROMO</th>\n",
       "      <th>PREZZO_LISTINO</th>\n",
       "      <th>STOCK_PZ</th>\n",
       "      <th>SCONTO_PERC</th>\n",
       "      <th>STOCK_ORD_IN_ARRIVO_PZ</th>\n",
       "    </tr>\n",
       "  </thead>\n",
       "  <tbody>\n",
       "    <tr>\n",
       "      <th>count</th>\n",
       "      <td>20963.000000</td>\n",
       "      <td>17102.000000</td>\n",
       "      <td>20139.000000</td>\n",
       "      <td>17125.000000</td>\n",
       "      <td>6113.000000</td>\n",
       "    </tr>\n",
       "    <tr>\n",
       "      <th>mean</th>\n",
       "      <td>512.989647</td>\n",
       "      <td>628.006715</td>\n",
       "      <td>712.278018</td>\n",
       "      <td>-8.367783</td>\n",
       "      <td>86.295763</td>\n",
       "    </tr>\n",
       "    <tr>\n",
       "      <th>std</th>\n",
       "      <td>461.381760</td>\n",
       "      <td>563.735599</td>\n",
       "      <td>1323.811763</td>\n",
       "      <td>14.729870</td>\n",
       "      <td>231.581742</td>\n",
       "    </tr>\n",
       "    <tr>\n",
       "      <th>min</th>\n",
       "      <td>0.010000</td>\n",
       "      <td>0.000000</td>\n",
       "      <td>-20861.000000</td>\n",
       "      <td>-68.340000</td>\n",
       "      <td>0.000000</td>\n",
       "    </tr>\n",
       "    <tr>\n",
       "      <th>25%</th>\n",
       "      <td>199.990000</td>\n",
       "      <td>229.900000</td>\n",
       "      <td>74.000000</td>\n",
       "      <td>-16.680000</td>\n",
       "      <td>2.000000</td>\n",
       "    </tr>\n",
       "    <tr>\n",
       "      <th>50%</th>\n",
       "      <td>379.900000</td>\n",
       "      <td>469.000000</td>\n",
       "      <td>365.000000</td>\n",
       "      <td>0.080000</td>\n",
       "      <td>12.000000</td>\n",
       "    </tr>\n",
       "    <tr>\n",
       "      <th>75%</th>\n",
       "      <td>699.900000</td>\n",
       "      <td>899.000000</td>\n",
       "      <td>884.000000</td>\n",
       "      <td>0.240000</td>\n",
       "      <td>60.000000</td>\n",
       "    </tr>\n",
       "    <tr>\n",
       "      <th>max</th>\n",
       "      <td>16999.000000</td>\n",
       "      <td>10999.000000</td>\n",
       "      <td>39653.000000</td>\n",
       "      <td>649.960000</td>\n",
       "      <td>4489.000000</td>\n",
       "    </tr>\n",
       "  </tbody>\n",
       "</table>\n",
       "</div>"
      ],
      "text/plain": [
       "       PREZZO_PROMO  PREZZO_LISTINO      STOCK_PZ   SCONTO_PERC  \\\n",
       "count  20963.000000    17102.000000  20139.000000  17125.000000   \n",
       "mean     512.989647      628.006715    712.278018     -8.367783   \n",
       "std      461.381760      563.735599   1323.811763     14.729870   \n",
       "min        0.010000        0.000000 -20861.000000    -68.340000   \n",
       "25%      199.990000      229.900000     74.000000    -16.680000   \n",
       "50%      379.900000      469.000000    365.000000      0.080000   \n",
       "75%      699.900000      899.000000    884.000000      0.240000   \n",
       "max    16999.000000    10999.000000  39653.000000    649.960000   \n",
       "\n",
       "       STOCK_ORD_IN_ARRIVO_PZ  \n",
       "count             6113.000000  \n",
       "mean                86.295763  \n",
       "std                231.581742  \n",
       "min                  0.000000  \n",
       "25%                  2.000000  \n",
       "50%                 12.000000  \n",
       "75%                 60.000000  \n",
       "max               4489.000000  "
      ]
     },
     "execution_count": 4,
     "metadata": {},
     "output_type": "execute_result"
    }
   ],
   "source": [
    "anagrafica.describe()"
   ]
  },
  {
   "cell_type": "code",
   "execution_count": 14,
   "metadata": {
    "ExecuteTime": {
     "end_time": "2024-04-04T14:48:58.943352Z",
     "start_time": "2024-04-04T14:48:58.938735Z"
    }
   },
   "outputs": [],
   "source": [
    "# WE TOOK THE ABSOLUTE VALUE OF THE VALUES IN 'SCONTO_PERC' COLUMN\n",
    "\n",
    "anagrafica['SCONTO_PERC'] = anagrafica['SCONTO_PERC'].abs() "
   ]
  },
  {
   "cell_type": "code",
   "execution_count": 15,
   "metadata": {
    "ExecuteTime": {
     "end_time": "2024-04-04T14:48:58.948598Z",
     "start_time": "2024-04-04T14:48:58.944495Z"
    }
   },
   "outputs": [],
   "source": [
    "# REPLACE 0 WITH NAN IN 'PREZZO_LISTINO' COLUMN. (PREZZO_LISTINO = 0 MAKES NO SENSE)\n",
    "\n",
    "anagrafica['PREZZO_LISTINO'].replace(0, np.nan, inplace=True)"
   ]
  },
  {
   "cell_type": "code",
   "execution_count": 16,
   "metadata": {
    "ExecuteTime": {
     "end_time": "2024-04-04T14:49:05.937219Z",
     "start_time": "2024-04-04T14:48:58.950367Z"
    }
   },
   "outputs": [],
   "source": [
    "# RETRIEVE MISSING 'PREZZO_LISTINO' BY AVERAGING PRICES WITH THE SAME 'ART_COD'\n",
    "\n",
    "for i in range(anagrafica.shape[0]):\n",
    "    if pd.isna(anagrafica['PREZZO_LISTINO'][i]):\n",
    "        df = anagrafica[anagrafica['ART_COD'] == anagrafica['ART_COD'][i]].reset_index()\n",
    "        if pd.notnull(df['PREZZO_LISTINO'].mean()):\n",
    "            anagrafica['PREZZO_LISTINO'][i] = df['PREZZO_LISTINO'].mean()"
   ]
  },
  {
   "cell_type": "code",
   "execution_count": 17,
   "metadata": {
    "ExecuteTime": {
     "end_time": "2024-04-04T14:49:05.945913Z",
     "start_time": "2024-04-04T14:49:05.939501Z"
    }
   },
   "outputs": [],
   "source": [
    "# CALCULATE 'SCONTO_PERC' WHERE I HAVE BOTH 'PREZZO_LISTINO' AND 'PREZZO_PROMO'\n",
    "\n",
    "condizione = (\n",
    "    pd.notnull(anagrafica['PREZZO_LISTINO']) &\n",
    "    pd.notnull(anagrafica['PREZZO_PROMO']) &\n",
    "    pd.isnull(anagrafica['SCONTO_PERC']) &\n",
    "    (anagrafica['PREZZO_PROMO'] <= anagrafica['PREZZO_LISTINO'])\n",
    ")\n",
    "\n",
    "anagrafica['SCONTO_PERC'] = np.where(\n",
    "    condizione,\n",
    "    ((anagrafica['PREZZO_LISTINO'] - anagrafica['PREZZO_PROMO']) / anagrafica['PREZZO_LISTINO']) * 100,\n",
    "    anagrafica['SCONTO_PERC']\n",
    ")"
   ]
  },
  {
   "cell_type": "code",
   "execution_count": 19,
   "metadata": {
    "ExecuteTime": {
     "end_time": "2024-04-04T14:49:05.951308Z",
     "start_time": "2024-04-04T14:49:05.946798Z"
    }
   },
   "outputs": [],
   "source": [
    "# CALCULATE 'PREZZO_PROMO' WHERE I HAVE BOTH 'PREZZO_LISTINO' AND 'SCONTO_PERC'\n",
    "\n",
    "condizione = (\n",
    "    pd.notnull(anagrafica['PREZZO_LISTINO']) &\n",
    "    pd.isnull(anagrafica['PREZZO_PROMO']) &\n",
    "    pd.notnull(anagrafica['SCONTO_PERC'])\n",
    ")\n",
    "\n",
    "anagrafica['PREZZO_PROMO'] = np.where(\n",
    "    condizione,\n",
    "    anagrafica['PREZZO_LISTINO'] * (1 - (anagrafica['SCONTO_PERC'])/100),\n",
    "    anagrafica['PREZZO_PROMO']\n",
    ")"
   ]
  },
  {
   "cell_type": "code",
   "execution_count": 28,
   "metadata": {
    "ExecuteTime": {
     "end_time": "2024-04-04T14:49:05.973962Z",
     "start_time": "2024-04-04T14:49:05.952199Z"
    }
   },
   "outputs": [
    {
     "data": {
      "text/plain": [
       "CODICE_VOLANTINO              0\n",
       "DATA_INIZIO                   0\n",
       "DATA_FINE                     0\n",
       "NOME_CAMPAGNA                 0\n",
       "ART_COD                       0\n",
       "PREZZO_PROMO                  2\n",
       "PREZZO_LISTINO              655\n",
       "STOCK_PZ                    844\n",
       "TIPOLOGIA_PRODOTTO            0\n",
       "SCONTO_PERC                 727\n",
       "STOCK_ORD_IN_ARRIVO_PZ    14870\n",
       "PRODUCT_GROUP                 0\n",
       "BRAND                         0\n",
       "dtype: int64"
      ]
     },
     "execution_count": 28,
     "metadata": {},
     "output_type": "execute_result"
    }
   ],
   "source": [
    "anagrafica.isnull().sum()"
   ]
  },
  {
   "cell_type": "code",
   "execution_count": 21,
   "metadata": {
    "ExecuteTime": {
     "end_time": "2024-04-04T14:49:05.982413Z",
     "start_time": "2024-04-04T14:49:05.977701Z"
    }
   },
   "outputs": [
    {
     "data": {
      "text/plain": [
       "463"
      ]
     },
     "execution_count": 21,
     "metadata": {},
     "output_type": "execute_result"
    }
   ],
   "source": [
    "x = list(anagrafica[anagrafica['PREZZO_LISTINO'].isnull()]['ART_COD'].unique())\n",
    "len(x)"
   ]
  },
  {
   "cell_type": "markdown",
   "metadata": {},
   "source": [
    "x is a list containing the 'ART_COD' of all the product that have a 'PREZZO_LISTINO' null.\n",
    "\n",
    "We will use this list later."
   ]
  },
  {
   "cell_type": "code",
   "execution_count": 30,
   "metadata": {
    "ExecuteTime": {
     "end_time": "2024-04-04T14:49:06.005347Z",
     "start_time": "2024-04-04T14:49:05.992090Z"
    }
   },
   "outputs": [
    {
     "data": {
      "text/html": [
       "<div>\n",
       "<style scoped>\n",
       "    .dataframe tbody tr th:only-of-type {\n",
       "        vertical-align: middle;\n",
       "    }\n",
       "\n",
       "    .dataframe tbody tr th {\n",
       "        vertical-align: top;\n",
       "    }\n",
       "\n",
       "    .dataframe thead th {\n",
       "        text-align: right;\n",
       "    }\n",
       "</style>\n",
       "<table border=\"1\" class=\"dataframe\">\n",
       "  <thead>\n",
       "    <tr style=\"text-align: right;\">\n",
       "      <th></th>\n",
       "      <th>CODICE_VOLANTINO</th>\n",
       "      <th>DATA_INIZIO</th>\n",
       "      <th>DATA_FINE</th>\n",
       "      <th>NOME_CAMPAGNA</th>\n",
       "      <th>ART_COD</th>\n",
       "      <th>PREZZO_PROMO</th>\n",
       "      <th>PREZZO_LISTINO</th>\n",
       "      <th>STOCK_PZ</th>\n",
       "      <th>TIPOLOGIA_PRODOTTO</th>\n",
       "      <th>SCONTO_PERC</th>\n",
       "      <th>STOCK_ORD_IN_ARRIVO_PZ</th>\n",
       "      <th>PRODUCT_GROUP</th>\n",
       "      <th>BRAND</th>\n",
       "    </tr>\n",
       "  </thead>\n",
       "  <tbody>\n",
       "    <tr>\n",
       "      <th>0</th>\n",
       "      <td>22LB</td>\n",
       "      <td>2022-10-17</td>\n",
       "      <td>2022-10-27</td>\n",
       "      <td>SECONDO AL 50</td>\n",
       "      <td>AMFBAND7</td>\n",
       "      <td>49.99</td>\n",
       "      <td>49.99</td>\n",
       "      <td>-2.0</td>\n",
       "      <td>Principale</td>\n",
       "      <td>0.00</td>\n",
       "      <td>0.0</td>\n",
       "      <td>CORE WEARABLES</td>\n",
       "      <td>AMAZFIT</td>\n",
       "    </tr>\n",
       "    <tr>\n",
       "      <th>2</th>\n",
       "      <td>23EA</td>\n",
       "      <td>2023-05-12</td>\n",
       "      <td>2023-05-25</td>\n",
       "      <td>VOLAGRATIS</td>\n",
       "      <td>AMFBAND7</td>\n",
       "      <td>49.99</td>\n",
       "      <td>49.99</td>\n",
       "      <td>1104.0</td>\n",
       "      <td>Principale</td>\n",
       "      <td>0.00</td>\n",
       "      <td>194.0</td>\n",
       "      <td>CORE WEARABLES</td>\n",
       "      <td>AMAZFIT</td>\n",
       "    </tr>\n",
       "    <tr>\n",
       "      <th>3</th>\n",
       "      <td>22NB</td>\n",
       "      <td>2022-12-18</td>\n",
       "      <td>2022-12-24</td>\n",
       "      <td>CALENDARIO AVVENTO</td>\n",
       "      <td>AMFBAND7</td>\n",
       "      <td>49.99</td>\n",
       "      <td>49.99</td>\n",
       "      <td>1296.0</td>\n",
       "      <td>Principale</td>\n",
       "      <td>0.00</td>\n",
       "      <td>373.0</td>\n",
       "      <td>CORE WEARABLES</td>\n",
       "      <td>AMAZFIT</td>\n",
       "    </tr>\n",
       "    <tr>\n",
       "      <th>7</th>\n",
       "      <td>22LB</td>\n",
       "      <td>2022-10-17</td>\n",
       "      <td>2022-10-27</td>\n",
       "      <td>SECONDO AL 50</td>\n",
       "      <td>AMFBAND7W</td>\n",
       "      <td>49.99</td>\n",
       "      <td>49.99</td>\n",
       "      <td>0.0</td>\n",
       "      <td>Sostitutivo</td>\n",
       "      <td>0.00</td>\n",
       "      <td>0.0</td>\n",
       "      <td>CORE WEARABLES</td>\n",
       "      <td>AMAZFIT</td>\n",
       "    </tr>\n",
       "    <tr>\n",
       "      <th>9</th>\n",
       "      <td>23EA</td>\n",
       "      <td>2023-05-12</td>\n",
       "      <td>2023-05-25</td>\n",
       "      <td>VOLAGRATIS</td>\n",
       "      <td>AMFBAND7W</td>\n",
       "      <td>49.99</td>\n",
       "      <td>49.99</td>\n",
       "      <td>1005.0</td>\n",
       "      <td>Sostitutivo</td>\n",
       "      <td>0.00</td>\n",
       "      <td>92.0</td>\n",
       "      <td>CORE WEARABLES</td>\n",
       "      <td>AMAZFIT</td>\n",
       "    </tr>\n",
       "    <tr>\n",
       "      <th>...</th>\n",
       "      <td>...</td>\n",
       "      <td>...</td>\n",
       "      <td>...</td>\n",
       "      <td>...</td>\n",
       "      <td>...</td>\n",
       "      <td>...</td>\n",
       "      <td>...</td>\n",
       "      <td>...</td>\n",
       "      <td>...</td>\n",
       "      <td>...</td>\n",
       "      <td>...</td>\n",
       "      <td>...</td>\n",
       "      <td>...</td>\n",
       "    </tr>\n",
       "    <tr>\n",
       "      <th>20962</th>\n",
       "      <td>18HB</td>\n",
       "      <td>2018-08-17</td>\n",
       "      <td>2018-08-30</td>\n",
       "      <td>Fuoritutto2 E</td>\n",
       "      <td>XIAREDMINOTE5332G</td>\n",
       "      <td>179.90</td>\n",
       "      <td>229.90</td>\n",
       "      <td>31.0</td>\n",
       "      <td>ND</td>\n",
       "      <td>0.22</td>\n",
       "      <td>NaN</td>\n",
       "      <td>SMARTPHONES</td>\n",
       "      <td>XIAOMI</td>\n",
       "    </tr>\n",
       "    <tr>\n",
       "      <th>20963</th>\n",
       "      <td>18LB</td>\n",
       "      <td>2018-10-25</td>\n",
       "      <td>2018-11-10</td>\n",
       "      <td>Cookeo connect</td>\n",
       "      <td>XIAREDMINOTE6PRO464</td>\n",
       "      <td>249.90</td>\n",
       "      <td>298.00</td>\n",
       "      <td>1034.0</td>\n",
       "      <td>ND</td>\n",
       "      <td>0.16</td>\n",
       "      <td>NaN</td>\n",
       "      <td>SMARTPHONES</td>\n",
       "      <td>XIAOMI</td>\n",
       "    </tr>\n",
       "    <tr>\n",
       "      <th>20964</th>\n",
       "      <td>19GD</td>\n",
       "      <td>2019-07-26</td>\n",
       "      <td>2019-08-04</td>\n",
       "      <td>Sotto Costo un mare d'offerte</td>\n",
       "      <td>XIAREDMINOTE7464</td>\n",
       "      <td>169.90</td>\n",
       "      <td>199.90</td>\n",
       "      <td>4594.0</td>\n",
       "      <td>ND</td>\n",
       "      <td>0.15</td>\n",
       "      <td>NaN</td>\n",
       "      <td>SMARTPHONES</td>\n",
       "      <td>XIAOMI</td>\n",
       "    </tr>\n",
       "    <tr>\n",
       "      <th>20965</th>\n",
       "      <td>19CB</td>\n",
       "      <td>2019-03-22</td>\n",
       "      <td>2019-04-04</td>\n",
       "      <td>Collezione primavera</td>\n",
       "      <td>XIAREDMINOTE7464</td>\n",
       "      <td>199.90</td>\n",
       "      <td>199.90</td>\n",
       "      <td>767.0</td>\n",
       "      <td>ND</td>\n",
       "      <td>0.00</td>\n",
       "      <td>NaN</td>\n",
       "      <td>SMARTPHONES</td>\n",
       "      <td>XIAOMI</td>\n",
       "    </tr>\n",
       "    <tr>\n",
       "      <th>20966</th>\n",
       "      <td>19EB</td>\n",
       "      <td>2019-05-17</td>\n",
       "      <td>2019-05-30</td>\n",
       "      <td>Passione casa</td>\n",
       "      <td>XIAREDMINOTE7464</td>\n",
       "      <td>199.90</td>\n",
       "      <td>199.90</td>\n",
       "      <td>NaN</td>\n",
       "      <td>ND</td>\n",
       "      <td>0.00</td>\n",
       "      <td>NaN</td>\n",
       "      <td>SMARTPHONES</td>\n",
       "      <td>XIAOMI</td>\n",
       "    </tr>\n",
       "  </tbody>\n",
       "</table>\n",
       "<p>11612 rows × 13 columns</p>\n",
       "</div>"
      ],
      "text/plain": [
       "      CODICE_VOLANTINO DATA_INIZIO   DATA_FINE                  NOME_CAMPAGNA  \\\n",
       "0                 22LB  2022-10-17  2022-10-27                  SECONDO AL 50   \n",
       "2                 23EA  2023-05-12  2023-05-25                     VOLAGRATIS   \n",
       "3                 22NB  2022-12-18  2022-12-24             CALENDARIO AVVENTO   \n",
       "7                 22LB  2022-10-17  2022-10-27                  SECONDO AL 50   \n",
       "9                 23EA  2023-05-12  2023-05-25                     VOLAGRATIS   \n",
       "...                ...         ...         ...                            ...   \n",
       "20962             18HB  2018-08-17  2018-08-30                  Fuoritutto2 E   \n",
       "20963             18LB  2018-10-25  2018-11-10                 Cookeo connect   \n",
       "20964             19GD  2019-07-26  2019-08-04  Sotto Costo un mare d'offerte   \n",
       "20965             19CB  2019-03-22  2019-04-04           Collezione primavera   \n",
       "20966             19EB  2019-05-17  2019-05-30                  Passione casa   \n",
       "\n",
       "                   ART_COD  PREZZO_PROMO  PREZZO_LISTINO  STOCK_PZ  \\\n",
       "0                 AMFBAND7         49.99           49.99      -2.0   \n",
       "2                 AMFBAND7         49.99           49.99    1104.0   \n",
       "3                 AMFBAND7         49.99           49.99    1296.0   \n",
       "7                AMFBAND7W         49.99           49.99       0.0   \n",
       "9                AMFBAND7W         49.99           49.99    1005.0   \n",
       "...                    ...           ...             ...       ...   \n",
       "20962    XIAREDMINOTE5332G        179.90          229.90      31.0   \n",
       "20963  XIAREDMINOTE6PRO464        249.90          298.00    1034.0   \n",
       "20964     XIAREDMINOTE7464        169.90          199.90    4594.0   \n",
       "20965     XIAREDMINOTE7464        199.90          199.90     767.0   \n",
       "20966     XIAREDMINOTE7464        199.90          199.90       NaN   \n",
       "\n",
       "      TIPOLOGIA_PRODOTTO  SCONTO_PERC  STOCK_ORD_IN_ARRIVO_PZ   PRODUCT_GROUP  \\\n",
       "0             Principale         0.00                     0.0  CORE WEARABLES   \n",
       "2             Principale         0.00                   194.0  CORE WEARABLES   \n",
       "3             Principale         0.00                   373.0  CORE WEARABLES   \n",
       "7            Sostitutivo         0.00                     0.0  CORE WEARABLES   \n",
       "9            Sostitutivo         0.00                    92.0  CORE WEARABLES   \n",
       "...                  ...          ...                     ...             ...   \n",
       "20962                 ND         0.22                     NaN     SMARTPHONES   \n",
       "20963                 ND         0.16                     NaN     SMARTPHONES   \n",
       "20964                 ND         0.15                     NaN     SMARTPHONES   \n",
       "20965                 ND         0.00                     NaN     SMARTPHONES   \n",
       "20966                 ND         0.00                     NaN     SMARTPHONES   \n",
       "\n",
       "         BRAND  \n",
       "0      AMAZFIT  \n",
       "2      AMAZFIT  \n",
       "3      AMAZFIT  \n",
       "7      AMAZFIT  \n",
       "9      AMAZFIT  \n",
       "...        ...  \n",
       "20962   XIAOMI  \n",
       "20963   XIAOMI  \n",
       "20964   XIAOMI  \n",
       "20965   XIAOMI  \n",
       "20966   XIAOMI  \n",
       "\n",
       "[11612 rows x 13 columns]"
      ]
     },
     "execution_count": 30,
     "metadata": {},
     "output_type": "execute_result"
    }
   ],
   "source": [
    "anagrafica[anagrafica['SCONTO_PERC']<1]"
   ]
  },
  {
   "cell_type": "code",
   "execution_count": 22,
   "metadata": {
    "ExecuteTime": {
     "end_time": "2024-04-04T14:49:06.010163Z",
     "start_time": "2024-04-04T14:49:06.006242Z"
    }
   },
   "outputs": [],
   "source": [
    "# MULTIPLIED BY 100 ALL \"DISCOUNT_PERC\" LESS THAN 1\n",
    "\n",
    "anagrafica.loc[anagrafica['SCONTO_PERC']<1, 'SCONTO_PERC'] *= 100"
   ]
  },
  {
   "cell_type": "code",
   "execution_count": 32,
   "metadata": {
    "ExecuteTime": {
     "end_time": "2024-04-04T14:49:06.024885Z",
     "start_time": "2024-04-04T14:49:06.010967Z"
    }
   },
   "outputs": [
    {
     "data": {
      "text/html": [
       "<div>\n",
       "<style scoped>\n",
       "    .dataframe tbody tr th:only-of-type {\n",
       "        vertical-align: middle;\n",
       "    }\n",
       "\n",
       "    .dataframe tbody tr th {\n",
       "        vertical-align: top;\n",
       "    }\n",
       "\n",
       "    .dataframe thead th {\n",
       "        text-align: right;\n",
       "    }\n",
       "</style>\n",
       "<table border=\"1\" class=\"dataframe\">\n",
       "  <thead>\n",
       "    <tr style=\"text-align: right;\">\n",
       "      <th></th>\n",
       "      <th>PREZZO_PROMO</th>\n",
       "      <th>PREZZO_LISTINO</th>\n",
       "      <th>STOCK_PZ</th>\n",
       "      <th>SCONTO_PERC</th>\n",
       "      <th>STOCK_ORD_IN_ARRIVO_PZ</th>\n",
       "    </tr>\n",
       "  </thead>\n",
       "  <tbody>\n",
       "    <tr>\n",
       "      <th>count</th>\n",
       "      <td>20981.000000</td>\n",
       "      <td>20328.000000</td>\n",
       "      <td>20139.000000</td>\n",
       "      <td>20256.000000</td>\n",
       "      <td>6113.000000</td>\n",
       "    </tr>\n",
       "    <tr>\n",
       "      <th>mean</th>\n",
       "      <td>512.813077</td>\n",
       "      <td>653.479176</td>\n",
       "      <td>712.278018</td>\n",
       "      <td>21.345450</td>\n",
       "      <td>86.295763</td>\n",
       "    </tr>\n",
       "    <tr>\n",
       "      <th>std</th>\n",
       "      <td>461.243295</td>\n",
       "      <td>556.480797</td>\n",
       "      <td>1323.811763</td>\n",
       "      <td>14.566328</td>\n",
       "      <td>231.581742</td>\n",
       "    </tr>\n",
       "    <tr>\n",
       "      <th>min</th>\n",
       "      <td>0.010000</td>\n",
       "      <td>29.900000</td>\n",
       "      <td>-20861.000000</td>\n",
       "      <td>0.000000</td>\n",
       "      <td>0.000000</td>\n",
       "    </tr>\n",
       "    <tr>\n",
       "      <th>25%</th>\n",
       "      <td>199.990000</td>\n",
       "      <td>249.990000</td>\n",
       "      <td>74.000000</td>\n",
       "      <td>11.000000</td>\n",
       "      <td>2.000000</td>\n",
       "    </tr>\n",
       "    <tr>\n",
       "      <th>50%</th>\n",
       "      <td>379.900000</td>\n",
       "      <td>499.000000</td>\n",
       "      <td>365.000000</td>\n",
       "      <td>20.017207</td>\n",
       "      <td>12.000000</td>\n",
       "    </tr>\n",
       "    <tr>\n",
       "      <th>75%</th>\n",
       "      <td>699.900000</td>\n",
       "      <td>899.900000</td>\n",
       "      <td>884.000000</td>\n",
       "      <td>31.000000</td>\n",
       "      <td>60.000000</td>\n",
       "    </tr>\n",
       "    <tr>\n",
       "      <th>max</th>\n",
       "      <td>16999.000000</td>\n",
       "      <td>10999.000000</td>\n",
       "      <td>39653.000000</td>\n",
       "      <td>649.960000</td>\n",
       "      <td>4489.000000</td>\n",
       "    </tr>\n",
       "  </tbody>\n",
       "</table>\n",
       "</div>"
      ],
      "text/plain": [
       "       PREZZO_PROMO  PREZZO_LISTINO      STOCK_PZ   SCONTO_PERC  \\\n",
       "count  20981.000000    20328.000000  20139.000000  20256.000000   \n",
       "mean     512.813077      653.479176    712.278018     21.345450   \n",
       "std      461.243295      556.480797   1323.811763     14.566328   \n",
       "min        0.010000       29.900000 -20861.000000      0.000000   \n",
       "25%      199.990000      249.990000     74.000000     11.000000   \n",
       "50%      379.900000      499.000000    365.000000     20.017207   \n",
       "75%      699.900000      899.900000    884.000000     31.000000   \n",
       "max    16999.000000    10999.000000  39653.000000    649.960000   \n",
       "\n",
       "       STOCK_ORD_IN_ARRIVO_PZ  \n",
       "count             6113.000000  \n",
       "mean                86.295763  \n",
       "std                231.581742  \n",
       "min                  0.000000  \n",
       "25%                  2.000000  \n",
       "50%                 12.000000  \n",
       "75%                 60.000000  \n",
       "max               4489.000000  "
      ]
     },
     "execution_count": 32,
     "metadata": {},
     "output_type": "execute_result"
    }
   ],
   "source": [
    "anagrafica.describe()"
   ]
  },
  {
   "cell_type": "code",
   "execution_count": 33,
   "metadata": {
    "ExecuteTime": {
     "end_time": "2024-04-04T14:49:06.047628Z",
     "start_time": "2024-04-04T14:49:06.026209Z"
    }
   },
   "outputs": [
    {
     "data": {
      "text/plain": [
       "CODICE_VOLANTINO              0\n",
       "DATA_INIZIO                   0\n",
       "DATA_FINE                     0\n",
       "NOME_CAMPAGNA                 0\n",
       "ART_COD                       0\n",
       "PREZZO_PROMO                  2\n",
       "PREZZO_LISTINO              655\n",
       "STOCK_PZ                    844\n",
       "TIPOLOGIA_PRODOTTO            0\n",
       "SCONTO_PERC                 727\n",
       "STOCK_ORD_IN_ARRIVO_PZ    14870\n",
       "PRODUCT_GROUP                 0\n",
       "BRAND                         0\n",
       "dtype: int64"
      ]
     },
     "execution_count": 33,
     "metadata": {},
     "output_type": "execute_result"
    }
   ],
   "source": [
    "anagrafica.isnull().sum()"
   ]
  },
  {
   "cell_type": "code",
   "execution_count": 34,
   "metadata": {
    "ExecuteTime": {
     "end_time": "2024-04-04T14:49:06.060831Z",
     "start_time": "2024-04-04T14:49:06.048506Z"
    }
   },
   "outputs": [
    {
     "data": {
      "text/html": [
       "<div>\n",
       "<style scoped>\n",
       "    .dataframe tbody tr th:only-of-type {\n",
       "        vertical-align: middle;\n",
       "    }\n",
       "\n",
       "    .dataframe tbody tr th {\n",
       "        vertical-align: top;\n",
       "    }\n",
       "\n",
       "    .dataframe thead th {\n",
       "        text-align: right;\n",
       "    }\n",
       "</style>\n",
       "<table border=\"1\" class=\"dataframe\">\n",
       "  <thead>\n",
       "    <tr style=\"text-align: right;\">\n",
       "      <th></th>\n",
       "      <th>CODICE_VOLANTINO</th>\n",
       "      <th>DATA_INIZIO</th>\n",
       "      <th>DATA_FINE</th>\n",
       "      <th>NOME_CAMPAGNA</th>\n",
       "      <th>ART_COD</th>\n",
       "      <th>PREZZO_PROMO</th>\n",
       "      <th>PREZZO_LISTINO</th>\n",
       "      <th>STOCK_PZ</th>\n",
       "      <th>TIPOLOGIA_PRODOTTO</th>\n",
       "      <th>SCONTO_PERC</th>\n",
       "      <th>STOCK_ORD_IN_ARRIVO_PZ</th>\n",
       "      <th>PRODUCT_GROUP</th>\n",
       "      <th>BRAND</th>\n",
       "    </tr>\n",
       "  </thead>\n",
       "  <tbody>\n",
       "    <tr>\n",
       "      <th>0</th>\n",
       "      <td>22LB</td>\n",
       "      <td>2022-10-17</td>\n",
       "      <td>2022-10-27</td>\n",
       "      <td>SECONDO AL 50</td>\n",
       "      <td>AMFBAND7</td>\n",
       "      <td>49.99</td>\n",
       "      <td>49.99</td>\n",
       "      <td>-2.0</td>\n",
       "      <td>Principale</td>\n",
       "      <td>0.000000</td>\n",
       "      <td>0.0</td>\n",
       "      <td>CORE WEARABLES</td>\n",
       "      <td>AMAZFIT</td>\n",
       "    </tr>\n",
       "    <tr>\n",
       "      <th>36</th>\n",
       "      <td>21GA</td>\n",
       "      <td>2021-07-02</td>\n",
       "      <td>2021-07-11</td>\n",
       "      <td>Summer Black Friday 2</td>\n",
       "      <td>AMFBIPUP</td>\n",
       "      <td>39.99</td>\n",
       "      <td>59.99</td>\n",
       "      <td>-45.0</td>\n",
       "      <td>ND</td>\n",
       "      <td>33.000000</td>\n",
       "      <td>NaN</td>\n",
       "      <td>CORE WEARABLES</td>\n",
       "      <td>AMAZFIT</td>\n",
       "    </tr>\n",
       "    <tr>\n",
       "      <th>62</th>\n",
       "      <td>21GC</td>\n",
       "      <td>2021-07-12</td>\n",
       "      <td>2021-07-22</td>\n",
       "      <td>Mare di Sconti - Tasso 0</td>\n",
       "      <td>AMFBIPUPROGRN</td>\n",
       "      <td>59.99</td>\n",
       "      <td>85.39</td>\n",
       "      <td>-1.0</td>\n",
       "      <td>ND</td>\n",
       "      <td>30.000000</td>\n",
       "      <td>NaN</td>\n",
       "      <td>CORE WEARABLES</td>\n",
       "      <td>AMAZFIT</td>\n",
       "    </tr>\n",
       "    <tr>\n",
       "      <th>144</th>\n",
       "      <td>21GA</td>\n",
       "      <td>2021-07-02</td>\n",
       "      <td>2021-07-11</td>\n",
       "      <td>Summer Black Friday 2</td>\n",
       "      <td>AMFGTS2EGR</td>\n",
       "      <td>99.99</td>\n",
       "      <td>129.99</td>\n",
       "      <td>-3.0</td>\n",
       "      <td>ND</td>\n",
       "      <td>23.078698</td>\n",
       "      <td>NaN</td>\n",
       "      <td>CORE WEARABLES</td>\n",
       "      <td>AMAZFIT</td>\n",
       "    </tr>\n",
       "    <tr>\n",
       "      <th>159</th>\n",
       "      <td>21GA</td>\n",
       "      <td>2021-07-02</td>\n",
       "      <td>2021-07-11</td>\n",
       "      <td>Summer Black Friday 2</td>\n",
       "      <td>AMFGTS2EP</td>\n",
       "      <td>99.99</td>\n",
       "      <td>129.99</td>\n",
       "      <td>-8.0</td>\n",
       "      <td>ND</td>\n",
       "      <td>23.078698</td>\n",
       "      <td>NaN</td>\n",
       "      <td>CORE WEARABLES</td>\n",
       "      <td>AMAZFIT</td>\n",
       "    </tr>\n",
       "    <tr>\n",
       "      <th>...</th>\n",
       "      <td>...</td>\n",
       "      <td>...</td>\n",
       "      <td>...</td>\n",
       "      <td>...</td>\n",
       "      <td>...</td>\n",
       "      <td>...</td>\n",
       "      <td>...</td>\n",
       "      <td>...</td>\n",
       "      <td>...</td>\n",
       "      <td>...</td>\n",
       "      <td>...</td>\n",
       "      <td>...</td>\n",
       "      <td>...</td>\n",
       "    </tr>\n",
       "    <tr>\n",
       "      <th>20960</th>\n",
       "      <td>23HC</td>\n",
       "      <td>2023-08-25</td>\n",
       "      <td>2023-09-07</td>\n",
       "      <td>BACK TO SCHOOL</td>\n",
       "      <td>XIAREDMINOTE12PRO4GS</td>\n",
       "      <td>269.90</td>\n",
       "      <td>369.90</td>\n",
       "      <td>-17.0</td>\n",
       "      <td>Sostitutivo</td>\n",
       "      <td>27.030000</td>\n",
       "      <td>0.0</td>\n",
       "      <td>SMARTPHONES</td>\n",
       "      <td>XIAOMI</td>\n",
       "    </tr>\n",
       "    <tr>\n",
       "      <th>20970</th>\n",
       "      <td>23LA</td>\n",
       "      <td>2023-10-06</td>\n",
       "      <td>2023-10-15</td>\n",
       "      <td>SOTTOCOSTO</td>\n",
       "      <td>XIARENOTE12PRO256GR</td>\n",
       "      <td>249.90</td>\n",
       "      <td>399.90</td>\n",
       "      <td>-9.0</td>\n",
       "      <td>Sostitutivo</td>\n",
       "      <td>37.510000</td>\n",
       "      <td>0.0</td>\n",
       "      <td>SMARTPHONES</td>\n",
       "      <td>XIAOMI</td>\n",
       "    </tr>\n",
       "    <tr>\n",
       "      <th>20971</th>\n",
       "      <td>23LC</td>\n",
       "      <td>2023-10-23</td>\n",
       "      <td>2023-10-31</td>\n",
       "      <td>HALLOWEEN WEEK</td>\n",
       "      <td>XIARENOTE12PRO256GR</td>\n",
       "      <td>279.90</td>\n",
       "      <td>399.90</td>\n",
       "      <td>-12.0</td>\n",
       "      <td>Sostitutivo</td>\n",
       "      <td>30.010000</td>\n",
       "      <td>0.0</td>\n",
       "      <td>SMARTPHONES</td>\n",
       "      <td>XIAOMI</td>\n",
       "    </tr>\n",
       "    <tr>\n",
       "      <th>20973</th>\n",
       "      <td>23LA</td>\n",
       "      <td>2023-10-06</td>\n",
       "      <td>2023-10-15</td>\n",
       "      <td>SOTTOCOSTO</td>\n",
       "      <td>XIARENOTE12PRO256W</td>\n",
       "      <td>249.90</td>\n",
       "      <td>399.90</td>\n",
       "      <td>-9.0</td>\n",
       "      <td>Sostitutivo</td>\n",
       "      <td>37.510000</td>\n",
       "      <td>0.0</td>\n",
       "      <td>SMARTPHONES</td>\n",
       "      <td>XIAOMI</td>\n",
       "    </tr>\n",
       "    <tr>\n",
       "      <th>20974</th>\n",
       "      <td>23LC</td>\n",
       "      <td>2023-10-23</td>\n",
       "      <td>2023-10-31</td>\n",
       "      <td>HALLOWEEN WEEK</td>\n",
       "      <td>XIARENOTE12PRO256W</td>\n",
       "      <td>279.90</td>\n",
       "      <td>399.90</td>\n",
       "      <td>-12.0</td>\n",
       "      <td>Sostitutivo</td>\n",
       "      <td>30.010000</td>\n",
       "      <td>0.0</td>\n",
       "      <td>SMARTPHONES</td>\n",
       "      <td>XIAOMI</td>\n",
       "    </tr>\n",
       "  </tbody>\n",
       "</table>\n",
       "<p>1509 rows × 13 columns</p>\n",
       "</div>"
      ],
      "text/plain": [
       "      CODICE_VOLANTINO DATA_INIZIO   DATA_FINE             NOME_CAMPAGNA  \\\n",
       "0                 22LB  2022-10-17  2022-10-27             SECONDO AL 50   \n",
       "36                21GA  2021-07-02  2021-07-11     Summer Black Friday 2   \n",
       "62                21GC  2021-07-12  2021-07-22  Mare di Sconti - Tasso 0   \n",
       "144               21GA  2021-07-02  2021-07-11     Summer Black Friday 2   \n",
       "159               21GA  2021-07-02  2021-07-11     Summer Black Friday 2   \n",
       "...                ...         ...         ...                       ...   \n",
       "20960             23HC  2023-08-25  2023-09-07            BACK TO SCHOOL   \n",
       "20970             23LA  2023-10-06  2023-10-15                SOTTOCOSTO   \n",
       "20971             23LC  2023-10-23  2023-10-31            HALLOWEEN WEEK   \n",
       "20973             23LA  2023-10-06  2023-10-15                SOTTOCOSTO   \n",
       "20974             23LC  2023-10-23  2023-10-31            HALLOWEEN WEEK   \n",
       "\n",
       "                    ART_COD  PREZZO_PROMO  PREZZO_LISTINO  STOCK_PZ  \\\n",
       "0                  AMFBAND7         49.99           49.99      -2.0   \n",
       "36                 AMFBIPUP         39.99           59.99     -45.0   \n",
       "62            AMFBIPUPROGRN         59.99           85.39      -1.0   \n",
       "144              AMFGTS2EGR         99.99          129.99      -3.0   \n",
       "159               AMFGTS2EP         99.99          129.99      -8.0   \n",
       "...                     ...           ...             ...       ...   \n",
       "20960  XIAREDMINOTE12PRO4GS        269.90          369.90     -17.0   \n",
       "20970   XIARENOTE12PRO256GR        249.90          399.90      -9.0   \n",
       "20971   XIARENOTE12PRO256GR        279.90          399.90     -12.0   \n",
       "20973    XIARENOTE12PRO256W        249.90          399.90      -9.0   \n",
       "20974    XIARENOTE12PRO256W        279.90          399.90     -12.0   \n",
       "\n",
       "      TIPOLOGIA_PRODOTTO  SCONTO_PERC  STOCK_ORD_IN_ARRIVO_PZ   PRODUCT_GROUP  \\\n",
       "0             Principale     0.000000                     0.0  CORE WEARABLES   \n",
       "36                    ND    33.000000                     NaN  CORE WEARABLES   \n",
       "62                    ND    30.000000                     NaN  CORE WEARABLES   \n",
       "144                   ND    23.078698                     NaN  CORE WEARABLES   \n",
       "159                   ND    23.078698                     NaN  CORE WEARABLES   \n",
       "...                  ...          ...                     ...             ...   \n",
       "20960        Sostitutivo    27.030000                     0.0     SMARTPHONES   \n",
       "20970        Sostitutivo    37.510000                     0.0     SMARTPHONES   \n",
       "20971        Sostitutivo    30.010000                     0.0     SMARTPHONES   \n",
       "20973        Sostitutivo    37.510000                     0.0     SMARTPHONES   \n",
       "20974        Sostitutivo    30.010000                     0.0     SMARTPHONES   \n",
       "\n",
       "         BRAND  \n",
       "0      AMAZFIT  \n",
       "36     AMAZFIT  \n",
       "62     AMAZFIT  \n",
       "144    AMAZFIT  \n",
       "159    AMAZFIT  \n",
       "...        ...  \n",
       "20960   XIAOMI  \n",
       "20970   XIAOMI  \n",
       "20971   XIAOMI  \n",
       "20973   XIAOMI  \n",
       "20974   XIAOMI  \n",
       "\n",
       "[1509 rows x 13 columns]"
      ]
     },
     "execution_count": 34,
     "metadata": {},
     "output_type": "execute_result"
    }
   ],
   "source": [
    "anagrafica[anagrafica['STOCK_PZ'] < 0]"
   ]
  },
  {
   "cell_type": "code",
   "execution_count": 23,
   "metadata": {
    "ExecuteTime": {
     "end_time": "2024-04-04T14:49:06.065321Z",
     "start_time": "2024-04-04T14:49:06.061853Z"
    }
   },
   "outputs": [],
   "source": [
    "# REPLACE NULL VALUES AND NEGATIVE VALUES WITH 0 IN 'STOCK_PZ' COLUMN\n",
    "\n",
    "anagrafica['STOCK_PZ'] = anagrafica['STOCK_PZ'].mask(anagrafica['STOCK_PZ'] < 0, 0)\n",
    "anagrafica['STOCK_PZ'].fillna(0, inplace=True)"
   ]
  },
  {
   "cell_type": "code",
   "execution_count": 24,
   "metadata": {
    "ExecuteTime": {
     "end_time": "2024-04-04T14:49:06.070441Z",
     "start_time": "2024-04-04T14:49:06.066211Z"
    }
   },
   "outputs": [],
   "source": [
    "# WE DECIDED TO DROP 'STOCK_ORD_IN_ARRIVO_PZ' COLUMN \n",
    "\n",
    "anagrafica = anagrafica.drop('STOCK_ORD_IN_ARRIVO_PZ', axis=1)"
   ]
  },
  {
   "cell_type": "code",
   "execution_count": 37,
   "metadata": {
    "ExecuteTime": {
     "end_time": "2024-04-04T14:49:06.083952Z",
     "start_time": "2024-04-04T14:49:06.071328Z"
    }
   },
   "outputs": [
    {
     "data": {
      "text/html": [
       "<div>\n",
       "<style scoped>\n",
       "    .dataframe tbody tr th:only-of-type {\n",
       "        vertical-align: middle;\n",
       "    }\n",
       "\n",
       "    .dataframe tbody tr th {\n",
       "        vertical-align: top;\n",
       "    }\n",
       "\n",
       "    .dataframe thead th {\n",
       "        text-align: right;\n",
       "    }\n",
       "</style>\n",
       "<table border=\"1\" class=\"dataframe\">\n",
       "  <thead>\n",
       "    <tr style=\"text-align: right;\">\n",
       "      <th></th>\n",
       "      <th>PREZZO_PROMO</th>\n",
       "      <th>PREZZO_LISTINO</th>\n",
       "      <th>STOCK_PZ</th>\n",
       "      <th>SCONTO_PERC</th>\n",
       "    </tr>\n",
       "  </thead>\n",
       "  <tbody>\n",
       "    <tr>\n",
       "      <th>count</th>\n",
       "      <td>20981.000000</td>\n",
       "      <td>20328.000000</td>\n",
       "      <td>20983.000000</td>\n",
       "      <td>20256.000000</td>\n",
       "    </tr>\n",
       "    <tr>\n",
       "      <th>mean</th>\n",
       "      <td>512.813077</td>\n",
       "      <td>653.479176</td>\n",
       "      <td>696.925606</td>\n",
       "      <td>21.345450</td>\n",
       "    </tr>\n",
       "    <tr>\n",
       "      <th>std</th>\n",
       "      <td>461.243295</td>\n",
       "      <td>556.480797</td>\n",
       "      <td>1267.727430</td>\n",
       "      <td>14.566328</td>\n",
       "    </tr>\n",
       "    <tr>\n",
       "      <th>min</th>\n",
       "      <td>0.010000</td>\n",
       "      <td>29.900000</td>\n",
       "      <td>0.000000</td>\n",
       "      <td>0.000000</td>\n",
       "    </tr>\n",
       "    <tr>\n",
       "      <th>25%</th>\n",
       "      <td>199.990000</td>\n",
       "      <td>249.990000</td>\n",
       "      <td>47.000000</td>\n",
       "      <td>11.000000</td>\n",
       "    </tr>\n",
       "    <tr>\n",
       "      <th>50%</th>\n",
       "      <td>379.900000</td>\n",
       "      <td>499.000000</td>\n",
       "      <td>336.000000</td>\n",
       "      <td>20.017207</td>\n",
       "    </tr>\n",
       "    <tr>\n",
       "      <th>75%</th>\n",
       "      <td>699.900000</td>\n",
       "      <td>899.900000</td>\n",
       "      <td>849.000000</td>\n",
       "      <td>31.000000</td>\n",
       "    </tr>\n",
       "    <tr>\n",
       "      <th>max</th>\n",
       "      <td>16999.000000</td>\n",
       "      <td>10999.000000</td>\n",
       "      <td>39653.000000</td>\n",
       "      <td>649.960000</td>\n",
       "    </tr>\n",
       "  </tbody>\n",
       "</table>\n",
       "</div>"
      ],
      "text/plain": [
       "       PREZZO_PROMO  PREZZO_LISTINO      STOCK_PZ   SCONTO_PERC\n",
       "count  20981.000000    20328.000000  20983.000000  20256.000000\n",
       "mean     512.813077      653.479176    696.925606     21.345450\n",
       "std      461.243295      556.480797   1267.727430     14.566328\n",
       "min        0.010000       29.900000      0.000000      0.000000\n",
       "25%      199.990000      249.990000     47.000000     11.000000\n",
       "50%      379.900000      499.000000    336.000000     20.017207\n",
       "75%      699.900000      899.900000    849.000000     31.000000\n",
       "max    16999.000000    10999.000000  39653.000000    649.960000"
      ]
     },
     "execution_count": 37,
     "metadata": {},
     "output_type": "execute_result"
    }
   ],
   "source": [
    "anagrafica.describe()"
   ]
  },
  {
   "cell_type": "code",
   "execution_count": 25,
   "metadata": {
    "ExecuteTime": {
     "end_time": "2024-04-04T14:49:06.105874Z",
     "start_time": "2024-04-04T14:49:06.085011Z"
    }
   },
   "outputs": [
    {
     "data": {
      "text/plain": [
       "CODICE_VOLANTINO        0\n",
       "DATA_INIZIO             0\n",
       "DATA_FINE               0\n",
       "NOME_CAMPAGNA           0\n",
       "ART_COD                 0\n",
       "PREZZO_PROMO            2\n",
       "PREZZO_LISTINO        655\n",
       "STOCK_PZ                0\n",
       "TIPOLOGIA_PRODOTTO      0\n",
       "SCONTO_PERC           727\n",
       "PRODUCT_GROUP           0\n",
       "BRAND                   0\n",
       "dtype: int64"
      ]
     },
     "execution_count": 25,
     "metadata": {},
     "output_type": "execute_result"
    }
   ],
   "source": [
    "anagrafica.isnull().sum()"
   ]
  },
  {
   "cell_type": "code",
   "execution_count": 39,
   "metadata": {
    "ExecuteTime": {
     "end_time": "2024-04-04T14:49:06.109901Z",
     "start_time": "2024-04-04T14:49:06.106811Z"
    }
   },
   "outputs": [
    {
     "data": {
      "text/plain": [
       "(20983, 12)"
      ]
     },
     "execution_count": 39,
     "metadata": {},
     "output_type": "execute_result"
    }
   ],
   "source": [
    "anagrafica.shape"
   ]
  },
  {
   "cell_type": "markdown",
   "metadata": {},
   "source": [
    "### STORICO QUANTITA'"
   ]
  },
  {
   "cell_type": "code",
   "execution_count": 26,
   "metadata": {
    "ExecuteTime": {
     "end_time": "2024-04-04T14:49:06.116293Z",
     "start_time": "2024-04-04T14:49:06.110729Z"
    }
   },
   "outputs": [
    {
     "data": {
      "text/html": [
       "<div>\n",
       "<style scoped>\n",
       "    .dataframe tbody tr th:only-of-type {\n",
       "        vertical-align: middle;\n",
       "    }\n",
       "\n",
       "    .dataframe tbody tr th {\n",
       "        vertical-align: top;\n",
       "    }\n",
       "\n",
       "    .dataframe thead th {\n",
       "        text-align: right;\n",
       "    }\n",
       "</style>\n",
       "<table border=\"1\" class=\"dataframe\">\n",
       "  <thead>\n",
       "    <tr style=\"text-align: right;\">\n",
       "      <th></th>\n",
       "      <th>CODICE_VOLANTINO</th>\n",
       "      <th>GIORNO</th>\n",
       "      <th>QTA</th>\n",
       "      <th>ART_COD</th>\n",
       "      <th>FATTURATO</th>\n",
       "    </tr>\n",
       "  </thead>\n",
       "  <tbody>\n",
       "    <tr>\n",
       "      <th>0</th>\n",
       "      <td>18AA</td>\n",
       "      <td>2017-11-30</td>\n",
       "      <td>1</td>\n",
       "      <td>WIKUFEELB</td>\n",
       "      <td>98.35</td>\n",
       "    </tr>\n",
       "    <tr>\n",
       "      <th>1</th>\n",
       "      <td>18AA</td>\n",
       "      <td>2017-11-19</td>\n",
       "      <td>1</td>\n",
       "      <td>WIKUFEELB</td>\n",
       "      <td>106.55</td>\n",
       "    </tr>\n",
       "    <tr>\n",
       "      <th>2</th>\n",
       "      <td>18AA</td>\n",
       "      <td>2017-12-02</td>\n",
       "      <td>2</td>\n",
       "      <td>WIKUFEELB</td>\n",
       "      <td>196.70</td>\n",
       "    </tr>\n",
       "    <tr>\n",
       "      <th>3</th>\n",
       "      <td>18AA</td>\n",
       "      <td>2017-11-22</td>\n",
       "      <td>1</td>\n",
       "      <td>WIKUFEELB</td>\n",
       "      <td>106.55</td>\n",
       "    </tr>\n",
       "    <tr>\n",
       "      <th>4</th>\n",
       "      <td>18AA</td>\n",
       "      <td>2017-11-24</td>\n",
       "      <td>1</td>\n",
       "      <td>WIKUFEELB</td>\n",
       "      <td>106.55</td>\n",
       "    </tr>\n",
       "  </tbody>\n",
       "</table>\n",
       "</div>"
      ],
      "text/plain": [
       "  CODICE_VOLANTINO      GIORNO  QTA    ART_COD  FATTURATO\n",
       "0             18AA  2017-11-30    1  WIKUFEELB      98.35\n",
       "1             18AA  2017-11-19    1  WIKUFEELB     106.55\n",
       "2             18AA  2017-12-02    2  WIKUFEELB     196.70\n",
       "3             18AA  2017-11-22    1  WIKUFEELB     106.55\n",
       "4             18AA  2017-11-24    1  WIKUFEELB     106.55"
      ]
     },
     "execution_count": 26,
     "metadata": {},
     "output_type": "execute_result"
    }
   ],
   "source": [
    "storico.head()"
   ]
  },
  {
   "cell_type": "code",
   "execution_count": 27,
   "metadata": {
    "ExecuteTime": {
     "end_time": "2024-04-04T14:49:06.318296Z",
     "start_time": "2024-04-04T14:49:06.117203Z"
    }
   },
   "outputs": [
    {
     "name": "stdout",
     "output_type": "stream",
     "text": [
      "<class 'pandas.core.frame.DataFrame'>\n",
      "RangeIndex: 631437 entries, 0 to 631436\n",
      "Data columns (total 5 columns):\n",
      " #   Column            Non-Null Count   Dtype  \n",
      "---  ------            --------------   -----  \n",
      " 0   CODICE_VOLANTINO  631437 non-null  object \n",
      " 1   GIORNO            631437 non-null  object \n",
      " 2   QTA               631437 non-null  int64  \n",
      " 3   ART_COD           631437 non-null  object \n",
      " 4   FATTURATO         394288 non-null  float64\n",
      "dtypes: float64(1), int64(1), object(3)\n",
      "memory usage: 24.1+ MB\n"
     ]
    }
   ],
   "source": [
    "storico.info()"
   ]
  },
  {
   "cell_type": "markdown",
   "metadata": {},
   "source": [
    "We decided to group and aggregate data by 'CODICE_VOLANTINO' and 'ART_COD', summing 'QTA' and 'FATTURATO'."
   ]
  },
  {
   "cell_type": "code",
   "execution_count": 28,
   "metadata": {
    "ExecuteTime": {
     "end_time": "2024-04-04T14:49:06.422864Z",
     "start_time": "2024-04-04T14:49:06.319686Z"
    }
   },
   "outputs": [],
   "source": [
    "storico = storico.groupby(['CODICE_VOLANTINO', 'ART_COD']).agg({'QTA': 'sum', 'FATTURATO': 'sum'}).reset_index()"
   ]
  },
  {
   "cell_type": "code",
   "execution_count": 29,
   "metadata": {
    "ExecuteTime": {
     "end_time": "2024-04-04T14:49:06.429994Z",
     "start_time": "2024-04-04T14:49:06.423850Z"
    }
   },
   "outputs": [
    {
     "data": {
      "text/html": [
       "<div>\n",
       "<style scoped>\n",
       "    .dataframe tbody tr th:only-of-type {\n",
       "        vertical-align: middle;\n",
       "    }\n",
       "\n",
       "    .dataframe tbody tr th {\n",
       "        vertical-align: top;\n",
       "    }\n",
       "\n",
       "    .dataframe thead th {\n",
       "        text-align: right;\n",
       "    }\n",
       "</style>\n",
       "<table border=\"1\" class=\"dataframe\">\n",
       "  <thead>\n",
       "    <tr style=\"text-align: right;\">\n",
       "      <th></th>\n",
       "      <th>CODICE_VOLANTINO</th>\n",
       "      <th>ART_COD</th>\n",
       "      <th>QTA</th>\n",
       "      <th>FATTURATO</th>\n",
       "    </tr>\n",
       "  </thead>\n",
       "  <tbody>\n",
       "    <tr>\n",
       "      <th>0</th>\n",
       "      <td>18AA</td>\n",
       "      <td>ACEA31521G9827</td>\n",
       "      <td>83</td>\n",
       "      <td>31335.64</td>\n",
       "    </tr>\n",
       "    <tr>\n",
       "      <th>1</th>\n",
       "      <td>18AA</td>\n",
       "      <td>ACEA31531C825</td>\n",
       "      <td>109</td>\n",
       "      <td>29275.51</td>\n",
       "    </tr>\n",
       "    <tr>\n",
       "      <th>2</th>\n",
       "      <td>18AA</td>\n",
       "      <td>APLMPXQ2TA</td>\n",
       "      <td>494</td>\n",
       "      <td>509286.93</td>\n",
       "    </tr>\n",
       "    <tr>\n",
       "      <th>3</th>\n",
       "      <td>18AA</td>\n",
       "      <td>APLMPXR2TA</td>\n",
       "      <td>43</td>\n",
       "      <td>41962.49</td>\n",
       "    </tr>\n",
       "    <tr>\n",
       "      <th>4</th>\n",
       "      <td>18AA</td>\n",
       "      <td>APLMQD32TA</td>\n",
       "      <td>1327</td>\n",
       "      <td>991313.03</td>\n",
       "    </tr>\n",
       "  </tbody>\n",
       "</table>\n",
       "</div>"
      ],
      "text/plain": [
       "  CODICE_VOLANTINO         ART_COD   QTA  FATTURATO\n",
       "0             18AA  ACEA31521G9827    83   31335.64\n",
       "1             18AA   ACEA31531C825   109   29275.51\n",
       "2             18AA      APLMPXQ2TA   494  509286.93\n",
       "3             18AA      APLMPXR2TA    43   41962.49\n",
       "4             18AA      APLMQD32TA  1327  991313.03"
      ]
     },
     "execution_count": 29,
     "metadata": {},
     "output_type": "execute_result"
    }
   ],
   "source": [
    "storico.head()"
   ]
  },
  {
   "cell_type": "code",
   "execution_count": 30,
   "metadata": {
    "ExecuteTime": {
     "end_time": "2024-04-04T14:49:06.439424Z",
     "start_time": "2024-04-04T14:49:06.430838Z"
    }
   },
   "outputs": [
    {
     "data": {
      "text/plain": [
       "CODICE_VOLANTINO    0\n",
       "ART_COD             0\n",
       "QTA                 0\n",
       "FATTURATO           0\n",
       "dtype: int64"
      ]
     },
     "execution_count": 30,
     "metadata": {},
     "output_type": "execute_result"
    }
   ],
   "source": [
    "storico.isnull().sum()"
   ]
  },
  {
   "cell_type": "markdown",
   "metadata": {},
   "source": [
    "### RECUPERO PREZZI LISTINI IN ANAGRAFICA"
   ]
  },
  {
   "cell_type": "code",
   "execution_count": 31,
   "metadata": {
    "ExecuteTime": {
     "end_time": "2024-04-04T14:49:38.175792Z",
     "start_time": "2024-04-04T14:49:06.440334Z"
    }
   },
   "outputs": [],
   "source": [
    "# BEFORE WE CREATED THE LIST X CONTAINING ALL THE 'ART_COD' THAT HAVE E 'PREZZO_LISTINO' NULL.\n",
    "# WITH THIS LOOP WE TRIED TO RETRIEVE 'PREZZO_LISTINO' BY DIVIDING 'FATTURATO' BY 'QTA' IN THE 'storico' DATAFRAME.\n",
    "# SO THE OUTPUT WILL BE A DICTIONARY CONTAINING 'ART_COD' AS KEY AND 'PREZZO_LISTINO' AS VALUE.\n",
    "\n",
    "prezzi_listini_mancanti = {}\n",
    "for i in x:\n",
    "    for index in range(storico.shape[0]):\n",
    "        if storico['ART_COD'][index] == i:\n",
    "            prezzo = storico['FATTURATO'][index] / storico['QTA'][index]\n",
    "            prezzi_listini_mancanti[i] = prezzo\n",
    "\n"
   ]
  },
  {
   "cell_type": "code",
   "execution_count": 32,
   "metadata": {
    "ExecuteTime": {
     "end_time": "2024-04-04T14:49:38.341931Z",
     "start_time": "2024-04-04T14:49:38.177669Z"
    }
   },
   "outputs": [],
   "source": [
    "# INSERT IN THE 'anagrafica' DATAFRAME THE 'PREZZO_LISTINO' VALUES THAT WE HAVE FOUND\n",
    "\n",
    "for index in range(anagrafica.shape[0]):\n",
    "    if anagrafica['ART_COD'][index] in prezzi_listini_mancanti.keys() and pd.isnull(anagrafica['PREZZO_LISTINO'][index]):\n",
    "        anagrafica['PREZZO_LISTINO'][index] = prezzi_listini_mancanti[anagrafica['ART_COD'][index]]\n"
   ]
  },
  {
   "cell_type": "code",
   "execution_count": 33,
   "metadata": {
    "ExecuteTime": {
     "end_time": "2024-04-04T14:49:38.348506Z",
     "start_time": "2024-04-04T14:49:38.342846Z"
    }
   },
   "outputs": [],
   "source": [
    "# CALCULATE 'SCONTO_PERC' WHERE I HAVE BOTH 'PREZZO_LISTINO' AND 'PREZZO_PROMO'\n",
    "\n",
    "condizione = (\n",
    "    pd.notnull(anagrafica['PREZZO_LISTINO']) &\n",
    "    pd.notnull(anagrafica['PREZZO_PROMO']) &\n",
    "    pd.isnull(anagrafica['SCONTO_PERC']) &\n",
    "    (anagrafica['PREZZO_PROMO'] <= anagrafica['PREZZO_LISTINO'])\n",
    ")\n",
    "\n",
    "anagrafica['SCONTO_PERC'] = np.where(\n",
    "    condizione,\n",
    "    ((anagrafica['PREZZO_LISTINO'] - anagrafica['PREZZO_PROMO']) / anagrafica['PREZZO_LISTINO']) * 100,\n",
    "    anagrafica['SCONTO_PERC']\n",
    ")"
   ]
  },
  {
   "cell_type": "code",
   "execution_count": 34,
   "metadata": {
    "ExecuteTime": {
     "end_time": "2024-04-04T14:49:38.372705Z",
     "start_time": "2024-04-04T14:49:38.349251Z"
    }
   },
   "outputs": [
    {
     "data": {
      "text/plain": [
       "CODICE_VOLANTINO        0\n",
       "DATA_INIZIO             0\n",
       "DATA_FINE               0\n",
       "NOME_CAMPAGNA           0\n",
       "ART_COD                 0\n",
       "PREZZO_PROMO          687\n",
       "PREZZO_LISTINO        228\n",
       "STOCK_PZ                0\n",
       "TIPOLOGIA_PRODOTTO      0\n",
       "SCONTO_PERC           687\n",
       "PRODUCT_GROUP           0\n",
       "BRAND                   0\n",
       "dtype: int64"
      ]
     },
     "execution_count": 34,
     "metadata": {},
     "output_type": "execute_result"
    }
   ],
   "source": [
    "# SET ALL 'PREZZO_PROMO' GREATER THAN 'PREZZO_LISTINO' AS NULL\n",
    "\n",
    "anagrafica.loc[anagrafica['PREZZO_PROMO'] > anagrafica['PREZZO_LISTINO'], 'PREZZO_PROMO'] = np.nan\n",
    "anagrafica.isnull().sum()"
   ]
  },
  {
   "cell_type": "code",
   "execution_count": 35,
   "metadata": {
    "ExecuteTime": {
     "end_time": "2024-04-04T14:51:12.977172Z",
     "start_time": "2024-04-04T14:49:38.373741Z"
    }
   },
   "outputs": [],
   "source": [
    "# RECOVERY 'PREZZO_PROMO' DIVIDING 'FATTURATO' BY 'QTA'\n",
    "\n",
    "for index in range(anagrafica.shape[0]):\n",
    "    if pd.isnull(anagrafica['PREZZO_PROMO'][index]):\n",
    "        for element in range(storico.shape[0]):\n",
    "            if anagrafica['ART_COD'][index] == storico['ART_COD'][element] and anagrafica['CODICE_VOLANTINO'][index] == storico['CODICE_VOLANTINO'][element]:\n",
    "                prezzo = storico['FATTURATO'][element] / storico['QTA'][element]\n",
    "                anagrafica['PREZZO_PROMO'][index] = prezzo"
   ]
  },
  {
   "cell_type": "code",
   "execution_count": 36,
   "metadata": {
    "ExecuteTime": {
     "end_time": "2024-04-04T14:51:13.003244Z",
     "start_time": "2024-04-04T14:51:12.978926Z"
    }
   },
   "outputs": [
    {
     "data": {
      "text/plain": [
       "CODICE_VOLANTINO        0\n",
       "DATA_INIZIO             0\n",
       "DATA_FINE               0\n",
       "NOME_CAMPAGNA           0\n",
       "ART_COD                 0\n",
       "PREZZO_PROMO          172\n",
       "PREZZO_LISTINO        228\n",
       "STOCK_PZ                0\n",
       "TIPOLOGIA_PRODOTTO      0\n",
       "SCONTO_PERC           687\n",
       "PRODUCT_GROUP           0\n",
       "BRAND                   0\n",
       "dtype: int64"
      ]
     },
     "execution_count": 36,
     "metadata": {},
     "output_type": "execute_result"
    }
   ],
   "source": [
    "anagrafica.isnull().sum()"
   ]
  },
  {
   "cell_type": "code",
   "execution_count": 37,
   "metadata": {
    "ExecuteTime": {
     "end_time": "2024-04-04T14:51:13.009713Z",
     "start_time": "2024-04-04T14:51:13.004254Z"
    }
   },
   "outputs": [],
   "source": [
    "# CALCULATE AGAIN 'SCONTO_PERC' WHERE I HAVE BOTH 'PREZZO_LISTINO' AND 'PREZZO_PROMO'\n",
    "\n",
    "condizione = (\n",
    "    pd.notnull(anagrafica['PREZZO_LISTINO']) &\n",
    "    pd.notnull(anagrafica['PREZZO_PROMO']) &\n",
    "    pd.isnull(anagrafica['SCONTO_PERC']) &\n",
    "    (anagrafica['PREZZO_PROMO'] <= anagrafica['PREZZO_LISTINO'])\n",
    ")\n",
    "\n",
    "anagrafica['SCONTO_PERC'] = np.where(\n",
    "    condizione,\n",
    "    ((anagrafica['PREZZO_LISTINO'] - anagrafica['PREZZO_PROMO']) / anagrafica['PREZZO_LISTINO']) * 100,\n",
    "    anagrafica['SCONTO_PERC']\n",
    ")"
   ]
  },
  {
   "cell_type": "code",
   "execution_count": 38,
   "metadata": {
    "ExecuteTime": {
     "end_time": "2024-04-04T14:51:13.032580Z",
     "start_time": "2024-04-04T14:51:13.011007Z"
    }
   },
   "outputs": [
    {
     "data": {
      "text/plain": [
       "CODICE_VOLANTINO        0\n",
       "DATA_INIZIO             0\n",
       "DATA_FINE               0\n",
       "NOME_CAMPAGNA           0\n",
       "ART_COD                 0\n",
       "PREZZO_PROMO          172\n",
       "PREZZO_LISTINO        228\n",
       "STOCK_PZ                0\n",
       "TIPOLOGIA_PRODOTTO      0\n",
       "SCONTO_PERC           331\n",
       "PRODUCT_GROUP           0\n",
       "BRAND                   0\n",
       "dtype: int64"
      ]
     },
     "execution_count": 38,
     "metadata": {},
     "output_type": "execute_result"
    }
   ],
   "source": [
    "anagrafica.isnull().sum()"
   ]
  },
  {
   "cell_type": "code",
   "execution_count": 44,
   "metadata": {
    "ExecuteTime": {
     "end_time": "2024-04-04T14:51:13.039386Z",
     "start_time": "2024-04-04T14:51:13.033532Z"
    }
   },
   "outputs": [],
   "source": [
    "# CALCULATE 'PREZZO_PROMO' WHERE I HAVE BOTH 'PREZZO_LISTINO' AND 'SCONTO_PERC'\n",
    "\n",
    "condizione = (\n",
    "    pd.notnull(anagrafica['PREZZO_LISTINO']) &\n",
    "    pd.isnull(anagrafica['PREZZO_PROMO']) &\n",
    "    pd.notnull(anagrafica['SCONTO_PERC'])\n",
    ")\n",
    "\n",
    "anagrafica['PREZZO_PROMO'] = np.where(\n",
    "    condizione,\n",
    "    anagrafica['PREZZO_LISTINO'] * (1 - (anagrafica['SCONTO_PERC'])/100),\n",
    "    anagrafica['PREZZO_PROMO']\n",
    ")"
   ]
  },
  {
   "cell_type": "code",
   "execution_count": 45,
   "metadata": {
    "ExecuteTime": {
     "end_time": "2024-04-04T14:51:13.064170Z",
     "start_time": "2024-04-04T14:51:13.040362Z"
    }
   },
   "outputs": [],
   "source": [
    "anagrafica.dropna(inplace=True)"
   ]
  },
  {
   "cell_type": "code",
   "execution_count": 46,
   "metadata": {
    "ExecuteTime": {
     "end_time": "2024-04-04T14:51:13.078786Z",
     "start_time": "2024-04-04T14:51:13.065186Z"
    }
   },
   "outputs": [
    {
     "data": {
      "text/html": [
       "<div>\n",
       "<style scoped>\n",
       "    .dataframe tbody tr th:only-of-type {\n",
       "        vertical-align: middle;\n",
       "    }\n",
       "\n",
       "    .dataframe tbody tr th {\n",
       "        vertical-align: top;\n",
       "    }\n",
       "\n",
       "    .dataframe thead th {\n",
       "        text-align: right;\n",
       "    }\n",
       "</style>\n",
       "<table border=\"1\" class=\"dataframe\">\n",
       "  <thead>\n",
       "    <tr style=\"text-align: right;\">\n",
       "      <th></th>\n",
       "      <th>count</th>\n",
       "      <th>mean</th>\n",
       "      <th>std</th>\n",
       "      <th>min</th>\n",
       "      <th>25%</th>\n",
       "      <th>50%</th>\n",
       "      <th>75%</th>\n",
       "      <th>max</th>\n",
       "    </tr>\n",
       "  </thead>\n",
       "  <tbody>\n",
       "    <tr>\n",
       "      <th>PREZZO_PROMO</th>\n",
       "      <td>20602.0</td>\n",
       "      <td>503.594198</td>\n",
       "      <td>415.249862</td>\n",
       "      <td>0.01</td>\n",
       "      <td>199.99</td>\n",
       "      <td>379.900000</td>\n",
       "      <td>699.00</td>\n",
       "      <td>6999.00</td>\n",
       "    </tr>\n",
       "    <tr>\n",
       "      <th>PREZZO_LISTINO</th>\n",
       "      <td>20602.0</td>\n",
       "      <td>650.030284</td>\n",
       "      <td>554.786865</td>\n",
       "      <td>29.90</td>\n",
       "      <td>249.99</td>\n",
       "      <td>492.554167</td>\n",
       "      <td>899.90</td>\n",
       "      <td>10999.00</td>\n",
       "    </tr>\n",
       "    <tr>\n",
       "      <th>STOCK_PZ</th>\n",
       "      <td>20602.0</td>\n",
       "      <td>706.884040</td>\n",
       "      <td>1275.663203</td>\n",
       "      <td>0.00</td>\n",
       "      <td>55.00</td>\n",
       "      <td>345.000000</td>\n",
       "      <td>862.75</td>\n",
       "      <td>39653.00</td>\n",
       "    </tr>\n",
       "    <tr>\n",
       "      <th>SCONTO_PERC</th>\n",
       "      <td>20602.0</td>\n",
       "      <td>21.105023</td>\n",
       "      <td>14.604325</td>\n",
       "      <td>0.00</td>\n",
       "      <td>10.72</td>\n",
       "      <td>20.000000</td>\n",
       "      <td>30.77</td>\n",
       "      <td>649.96</td>\n",
       "    </tr>\n",
       "  </tbody>\n",
       "</table>\n",
       "</div>"
      ],
      "text/plain": [
       "                  count        mean          std    min     25%         50%  \\\n",
       "PREZZO_PROMO    20602.0  503.594198   415.249862   0.01  199.99  379.900000   \n",
       "PREZZO_LISTINO  20602.0  650.030284   554.786865  29.90  249.99  492.554167   \n",
       "STOCK_PZ        20602.0  706.884040  1275.663203   0.00   55.00  345.000000   \n",
       "SCONTO_PERC     20602.0   21.105023    14.604325   0.00   10.72   20.000000   \n",
       "\n",
       "                   75%       max  \n",
       "PREZZO_PROMO    699.00   6999.00  \n",
       "PREZZO_LISTINO  899.90  10999.00  \n",
       "STOCK_PZ        862.75  39653.00  \n",
       "SCONTO_PERC      30.77    649.96  "
      ]
     },
     "execution_count": 46,
     "metadata": {},
     "output_type": "execute_result"
    }
   ],
   "source": [
    "anagrafica.describe().T"
   ]
  },
  {
   "cell_type": "code",
   "execution_count": 47,
   "metadata": {
    "ExecuteTime": {
     "end_time": "2024-04-04T14:51:13.084299Z",
     "start_time": "2024-04-04T14:51:13.079798Z"
    }
   },
   "outputs": [],
   "source": [
    "# WE DROP ALLA THE ROWS THAT HAVE 'PREZZO_PROMO' EQUAL TO 0\n",
    "\n",
    "anagrafica = anagrafica[anagrafica['PREZZO_PROMO'] > 0.01]"
   ]
  },
  {
   "cell_type": "code",
   "execution_count": 48,
   "metadata": {
    "ExecuteTime": {
     "end_time": "2024-04-04T14:51:13.088200Z",
     "start_time": "2024-04-04T14:51:13.085216Z"
    }
   },
   "outputs": [
    {
     "data": {
      "text/plain": [
       "(20599, 12)"
      ]
     },
     "execution_count": 48,
     "metadata": {},
     "output_type": "execute_result"
    }
   ],
   "source": [
    "anagrafica.shape"
   ]
  },
  {
   "cell_type": "markdown",
   "metadata": {},
   "source": [
    "### GFK"
   ]
  },
  {
   "cell_type": "markdown",
   "metadata": {},
   "source": [
    "Initially we did just an exploratory analysis on this dataset. \n",
    "\n",
    "Later we will manipulate it to make the best use of it."
   ]
  },
  {
   "cell_type": "code",
   "execution_count": 58,
   "metadata": {
    "ExecuteTime": {
     "end_time": "2024-04-04T14:51:13.095504Z",
     "start_time": "2024-04-04T14:51:13.089127Z"
    }
   },
   "outputs": [
    {
     "data": {
      "text/html": [
       "<div>\n",
       "<style scoped>\n",
       "    .dataframe tbody tr th:only-of-type {\n",
       "        vertical-align: middle;\n",
       "    }\n",
       "\n",
       "    .dataframe tbody tr th {\n",
       "        vertical-align: top;\n",
       "    }\n",
       "\n",
       "    .dataframe thead th {\n",
       "        text-align: right;\n",
       "    }\n",
       "</style>\n",
       "<table border=\"1\" class=\"dataframe\">\n",
       "  <thead>\n",
       "    <tr style=\"text-align: right;\">\n",
       "      <th></th>\n",
       "      <th>ITEM_ID</th>\n",
       "      <th>CARATTERISTICA_01</th>\n",
       "      <th>CARATTERISTICA_02</th>\n",
       "      <th>CARATTERISTICA_05</th>\n",
       "      <th>CARATTERISTICA_04</th>\n",
       "      <th>CARATTERISTICA_03</th>\n",
       "      <th>CARATTERISTICA_06</th>\n",
       "      <th>CARATTERISTICA_07</th>\n",
       "      <th>CARATTERISTICA_08</th>\n",
       "    </tr>\n",
       "  </thead>\n",
       "  <tbody>\n",
       "    <tr>\n",
       "      <th>0</th>\n",
       "      <td>136498792.0</td>\n",
       "      <td>GPU MODEL RAD 520</td>\n",
       "      <td>PROCESSOR A9-SERIES</td>\n",
       "      <td>OS VERSION WIN10 HOME</td>\n",
       "      <td>STORAGE IN GB 1000</td>\n",
       "      <td>RAM IN GB 8</td>\n",
       "      <td>DISPLAY SIZE 15.6</td>\n",
       "      <td>CONVERTIBLE NO</td>\n",
       "      <td>ND</td>\n",
       "    </tr>\n",
       "    <tr>\n",
       "      <th>1</th>\n",
       "      <td>126394531.0</td>\n",
       "      <td>SEGMENTS NOTEBOOK</td>\n",
       "      <td>PROCESSOR CELERON N</td>\n",
       "      <td>OS VERSION WIN10 HOME</td>\n",
       "      <td>STORAGE IN GB 500</td>\n",
       "      <td>RAM IN GB 4</td>\n",
       "      <td>DISPLAY SIZE 15.6</td>\n",
       "      <td>CONVERTIBLE NO</td>\n",
       "      <td>ND</td>\n",
       "    </tr>\n",
       "    <tr>\n",
       "      <th>2</th>\n",
       "      <td>125136538.0</td>\n",
       "      <td>SEGMENTS NOTEBOOK</td>\n",
       "      <td>PROCESSOR CORE I5</td>\n",
       "      <td>OS VERSION MACOS HIGH SIER</td>\n",
       "      <td>STORAGE IN GB 128</td>\n",
       "      <td>RAM IN GB 8</td>\n",
       "      <td>DISPLAY SIZE 13.3</td>\n",
       "      <td>CONVERTIBLE NO</td>\n",
       "      <td>ND</td>\n",
       "    </tr>\n",
       "    <tr>\n",
       "      <th>3</th>\n",
       "      <td>124814100.0</td>\n",
       "      <td>SEGMENTS NOTEBOOK</td>\n",
       "      <td>PROCESSOR CORE I5</td>\n",
       "      <td>OS VERSION MACOS SIERRA</td>\n",
       "      <td>STORAGE IN GB 128</td>\n",
       "      <td>RAM IN GB 8</td>\n",
       "      <td>DISPLAY SIZE 13.3</td>\n",
       "      <td>CONVERTIBLE NO</td>\n",
       "      <td>ND</td>\n",
       "    </tr>\n",
       "    <tr>\n",
       "      <th>4</th>\n",
       "      <td>133558471.0</td>\n",
       "      <td>NaN</td>\n",
       "      <td>NaN</td>\n",
       "      <td>NaN</td>\n",
       "      <td>NaN</td>\n",
       "      <td>NaN</td>\n",
       "      <td>NaN</td>\n",
       "      <td>NaN</td>\n",
       "      <td>NaN</td>\n",
       "    </tr>\n",
       "  </tbody>\n",
       "</table>\n",
       "</div>"
      ],
      "text/plain": [
       "       ITEM_ID  CARATTERISTICA_01    CARATTERISTICA_02  \\\n",
       "0  136498792.0  GPU MODEL RAD 520  PROCESSOR A9-SERIES   \n",
       "1  126394531.0  SEGMENTS NOTEBOOK  PROCESSOR CELERON N   \n",
       "2  125136538.0  SEGMENTS NOTEBOOK    PROCESSOR CORE I5   \n",
       "3  124814100.0  SEGMENTS NOTEBOOK    PROCESSOR CORE I5   \n",
       "4  133558471.0                NaN                  NaN   \n",
       "\n",
       "            CARATTERISTICA_05   CARATTERISTICA_04 CARATTERISTICA_03  \\\n",
       "0       OS VERSION WIN10 HOME  STORAGE IN GB 1000       RAM IN GB 8   \n",
       "1       OS VERSION WIN10 HOME   STORAGE IN GB 500       RAM IN GB 4   \n",
       "2  OS VERSION MACOS HIGH SIER   STORAGE IN GB 128       RAM IN GB 8   \n",
       "3     OS VERSION MACOS SIERRA   STORAGE IN GB 128       RAM IN GB 8   \n",
       "4                         NaN                 NaN               NaN   \n",
       "\n",
       "   CARATTERISTICA_06 CARATTERISTICA_07 CARATTERISTICA_08  \n",
       "0  DISPLAY SIZE 15.6    CONVERTIBLE NO                ND  \n",
       "1  DISPLAY SIZE 15.6    CONVERTIBLE NO                ND  \n",
       "2  DISPLAY SIZE 13.3    CONVERTIBLE NO                ND  \n",
       "3  DISPLAY SIZE 13.3    CONVERTIBLE NO                ND  \n",
       "4                NaN               NaN               NaN  "
      ]
     },
     "execution_count": 58,
     "metadata": {},
     "output_type": "execute_result"
    }
   ],
   "source": [
    "gfk.head()"
   ]
  },
  {
   "cell_type": "code",
   "execution_count": 59,
   "metadata": {
    "ExecuteTime": {
     "end_time": "2024-04-04T14:51:13.106883Z",
     "start_time": "2024-04-04T14:51:13.096538Z"
    }
   },
   "outputs": [
    {
     "name": "stdout",
     "output_type": "stream",
     "text": [
      "<class 'pandas.core.frame.DataFrame'>\n",
      "RangeIndex: 3267 entries, 0 to 3266\n",
      "Data columns (total 9 columns):\n",
      " #   Column             Non-Null Count  Dtype  \n",
      "---  ------             --------------  -----  \n",
      " 0   ITEM_ID            3266 non-null   float64\n",
      " 1   CARATTERISTICA_01  2923 non-null   object \n",
      " 2   CARATTERISTICA_02  2923 non-null   object \n",
      " 3   CARATTERISTICA_05  2923 non-null   object \n",
      " 4   CARATTERISTICA_04  2923 non-null   object \n",
      " 5   CARATTERISTICA_03  2923 non-null   object \n",
      " 6   CARATTERISTICA_06  2923 non-null   object \n",
      " 7   CARATTERISTICA_07  2923 non-null   object \n",
      " 8   CARATTERISTICA_08  2923 non-null   object \n",
      "dtypes: float64(1), object(8)\n",
      "memory usage: 229.8+ KB\n"
     ]
    }
   ],
   "source": [
    "gfk.info()"
   ]
  },
  {
   "cell_type": "code",
   "execution_count": 60,
   "metadata": {
    "ExecuteTime": {
     "end_time": "2024-04-04T14:51:13.115102Z",
     "start_time": "2024-04-04T14:51:13.107706Z"
    }
   },
   "outputs": [
    {
     "data": {
      "text/plain": [
       "ITEM_ID                1\n",
       "CARATTERISTICA_01    344\n",
       "CARATTERISTICA_02    344\n",
       "CARATTERISTICA_05    344\n",
       "CARATTERISTICA_04    344\n",
       "CARATTERISTICA_03    344\n",
       "CARATTERISTICA_06    344\n",
       "CARATTERISTICA_07    344\n",
       "CARATTERISTICA_08    344\n",
       "dtype: int64"
      ]
     },
     "execution_count": 60,
     "metadata": {},
     "output_type": "execute_result"
    }
   ],
   "source": [
    "gfk.isnull().sum()"
   ]
  },
  {
   "cell_type": "code",
   "execution_count": 61,
   "metadata": {
    "ExecuteTime": {
     "end_time": "2024-04-04T14:51:13.121832Z",
     "start_time": "2024-04-04T14:51:13.115854Z"
    }
   },
   "outputs": [],
   "source": [
    "# WE USED dropna() BECAUSE THERE WERE 344 ROWS WITH ONLY NULL VALUES\n",
    "\n",
    "gfk = gfk.dropna()"
   ]
  },
  {
   "cell_type": "markdown",
   "metadata": {},
   "source": [
    "### RISULTATI PRODOTTI VOLANTINI"
   ]
  },
  {
   "cell_type": "code",
   "execution_count": 62,
   "metadata": {
    "ExecuteTime": {
     "end_time": "2024-04-04T14:51:13.129417Z",
     "start_time": "2024-04-04T14:51:13.122836Z"
    }
   },
   "outputs": [
    {
     "data": {
      "text/html": [
       "<div>\n",
       "<style scoped>\n",
       "    .dataframe tbody tr th:only-of-type {\n",
       "        vertical-align: middle;\n",
       "    }\n",
       "\n",
       "    .dataframe tbody tr th {\n",
       "        vertical-align: top;\n",
       "    }\n",
       "\n",
       "    .dataframe thead th {\n",
       "        text-align: right;\n",
       "    }\n",
       "</style>\n",
       "<table border=\"1\" class=\"dataframe\">\n",
       "  <thead>\n",
       "    <tr style=\"text-align: right;\">\n",
       "      <th></th>\n",
       "      <th>CODICE_VOLANTINO</th>\n",
       "      <th>ART_COD</th>\n",
       "      <th>PRODUCT_GROUP</th>\n",
       "      <th>QTA</th>\n",
       "      <th>FATTURATO</th>\n",
       "    </tr>\n",
       "  </thead>\n",
       "  <tbody>\n",
       "    <tr>\n",
       "      <th>0</th>\n",
       "      <td>18AA</td>\n",
       "      <td>ACEA31521G9827</td>\n",
       "      <td>MOBILE COMPUTING</td>\n",
       "      <td>641.0</td>\n",
       "      <td>226565.24</td>\n",
       "    </tr>\n",
       "    <tr>\n",
       "      <th>1</th>\n",
       "      <td>18AA</td>\n",
       "      <td>ACEA31531C825</td>\n",
       "      <td>MOBILE COMPUTING</td>\n",
       "      <td>649.0</td>\n",
       "      <td>159475.61</td>\n",
       "    </tr>\n",
       "    <tr>\n",
       "      <th>2</th>\n",
       "      <td>18AA</td>\n",
       "      <td>APLMPXQ2TA</td>\n",
       "      <td>MOBILE COMPUTING</td>\n",
       "      <td>316.0</td>\n",
       "      <td>357913.48</td>\n",
       "    </tr>\n",
       "    <tr>\n",
       "      <th>3</th>\n",
       "      <td>18AA</td>\n",
       "      <td>APLMPXR2TA</td>\n",
       "      <td>MOBILE COMPUTING</td>\n",
       "      <td>93.0</td>\n",
       "      <td>105817.16</td>\n",
       "    </tr>\n",
       "    <tr>\n",
       "      <th>4</th>\n",
       "      <td>18AA</td>\n",
       "      <td>APLMQD32TA</td>\n",
       "      <td>MOBILE COMPUTING</td>\n",
       "      <td>1133.0</td>\n",
       "      <td>882267.08</td>\n",
       "    </tr>\n",
       "  </tbody>\n",
       "</table>\n",
       "</div>"
      ],
      "text/plain": [
       "  CODICE_VOLANTINO         ART_COD     PRODUCT_GROUP     QTA  FATTURATO\n",
       "0             18AA  ACEA31521G9827  MOBILE COMPUTING   641.0  226565.24\n",
       "1             18AA   ACEA31531C825  MOBILE COMPUTING   649.0  159475.61\n",
       "2             18AA      APLMPXQ2TA  MOBILE COMPUTING   316.0  357913.48\n",
       "3             18AA      APLMPXR2TA  MOBILE COMPUTING    93.0  105817.16\n",
       "4             18AA      APLMQD32TA  MOBILE COMPUTING  1133.0  882267.08"
      ]
     },
     "execution_count": 62,
     "metadata": {},
     "output_type": "execute_result"
    }
   ],
   "source": [
    "risultati.head()"
   ]
  },
  {
   "cell_type": "code",
   "execution_count": 63,
   "metadata": {
    "ExecuteTime": {
     "end_time": "2024-04-04T14:51:13.142222Z",
     "start_time": "2024-04-04T14:51:13.130692Z"
    }
   },
   "outputs": [
    {
     "data": {
      "text/plain": [
       "CODICE_VOLANTINO       0\n",
       "ART_COD                0\n",
       "PRODUCT_GROUP          0\n",
       "QTA                 1662\n",
       "FATTURATO           1662\n",
       "dtype: int64"
      ]
     },
     "execution_count": 63,
     "metadata": {},
     "output_type": "execute_result"
    }
   ],
   "source": [
    "risultati.isnull().sum()"
   ]
  },
  {
   "cell_type": "code",
   "execution_count": 64,
   "metadata": {
    "ExecuteTime": {
     "end_time": "2024-04-04T14:51:13.152192Z",
     "start_time": "2024-04-04T14:51:13.143079Z"
    }
   },
   "outputs": [],
   "source": [
    "# WE REPLACED THE NULL VALUES WITH 0\n",
    "\n",
    "risultati.fillna(0, inplace=True)"
   ]
  },
  {
   "cell_type": "markdown",
   "metadata": {},
   "source": [
    "## UNIONE"
   ]
  },
  {
   "cell_type": "code",
   "execution_count": 65,
   "metadata": {
    "ExecuteTime": {
     "end_time": "2024-04-04T14:51:13.182168Z",
     "start_time": "2024-04-04T14:51:13.153289Z"
    }
   },
   "outputs": [],
   "source": [
    "df1 = pd.merge(anagrafica, kpi, on = [\"ART_COD\", \"CODICE_VOLANTINO\"])"
   ]
  },
  {
   "cell_type": "code",
   "execution_count": 66,
   "metadata": {
    "ExecuteTime": {
     "end_time": "2024-04-04T14:51:13.194760Z",
     "start_time": "2024-04-04T14:51:13.183171Z"
    }
   },
   "outputs": [
    {
     "data": {
      "text/html": [
       "<div>\n",
       "<style scoped>\n",
       "    .dataframe tbody tr th:only-of-type {\n",
       "        vertical-align: middle;\n",
       "    }\n",
       "\n",
       "    .dataframe tbody tr th {\n",
       "        vertical-align: top;\n",
       "    }\n",
       "\n",
       "    .dataframe thead th {\n",
       "        text-align: right;\n",
       "    }\n",
       "</style>\n",
       "<table border=\"1\" class=\"dataframe\">\n",
       "  <thead>\n",
       "    <tr style=\"text-align: right;\">\n",
       "      <th></th>\n",
       "      <th>CODICE_VOLANTINO</th>\n",
       "      <th>DATA_INIZIO</th>\n",
       "      <th>DATA_FINE</th>\n",
       "      <th>NOME_CAMPAGNA</th>\n",
       "      <th>ART_COD</th>\n",
       "      <th>PREZZO_PROMO</th>\n",
       "      <th>PREZZO_LISTINO</th>\n",
       "      <th>STOCK_PZ</th>\n",
       "      <th>TIPOLOGIA_PRODOTTO</th>\n",
       "      <th>SCONTO_PERC</th>\n",
       "      <th>PRODUCT_GROUP_x</th>\n",
       "      <th>BRAND</th>\n",
       "      <th>PRODUCT_GROUP_y</th>\n",
       "      <th>ITEM_ID</th>\n",
       "      <th>KPI_1</th>\n",
       "      <th>KPI_2</th>\n",
       "      <th>KPI_3</th>\n",
       "      <th>KPI_4</th>\n",
       "      <th>KPI_5</th>\n",
       "    </tr>\n",
       "  </thead>\n",
       "  <tbody>\n",
       "    <tr>\n",
       "      <th>0</th>\n",
       "      <td>22LB</td>\n",
       "      <td>2022-10-17</td>\n",
       "      <td>2022-10-27</td>\n",
       "      <td>SECONDO AL 50</td>\n",
       "      <td>AMFBAND7</td>\n",
       "      <td>49.99</td>\n",
       "      <td>49.99</td>\n",
       "      <td>0.0</td>\n",
       "      <td>Principale</td>\n",
       "      <td>0.0</td>\n",
       "      <td>CORE WEARABLES</td>\n",
       "      <td>AMAZFIT</td>\n",
       "      <td>CORE WEARABLES</td>\n",
       "      <td>177507779.0</td>\n",
       "      <td>0.314157</td>\n",
       "      <td>0.000000</td>\n",
       "      <td>NaN</td>\n",
       "      <td>0.308088</td>\n",
       "      <td>NaN</td>\n",
       "    </tr>\n",
       "    <tr>\n",
       "      <th>1</th>\n",
       "      <td>23BA</td>\n",
       "      <td>2023-02-03</td>\n",
       "      <td>2023-02-12</td>\n",
       "      <td>BASKET SCONTI FEBBRAIO</td>\n",
       "      <td>AMFBAND7</td>\n",
       "      <td>44.99</td>\n",
       "      <td>49.99</td>\n",
       "      <td>854.0</td>\n",
       "      <td>Principale</td>\n",
       "      <td>10.0</td>\n",
       "      <td>CORE WEARABLES</td>\n",
       "      <td>AMAZFIT</td>\n",
       "      <td>CORE WEARABLES</td>\n",
       "      <td>177507779.0</td>\n",
       "      <td>0.283915</td>\n",
       "      <td>0.000000</td>\n",
       "      <td>0.151703</td>\n",
       "      <td>1.000000</td>\n",
       "      <td>NaN</td>\n",
       "    </tr>\n",
       "    <tr>\n",
       "      <th>2</th>\n",
       "      <td>23EA</td>\n",
       "      <td>2023-05-12</td>\n",
       "      <td>2023-05-25</td>\n",
       "      <td>VOLAGRATIS</td>\n",
       "      <td>AMFBAND7</td>\n",
       "      <td>49.99</td>\n",
       "      <td>49.99</td>\n",
       "      <td>1104.0</td>\n",
       "      <td>Principale</td>\n",
       "      <td>0.0</td>\n",
       "      <td>CORE WEARABLES</td>\n",
       "      <td>AMAZFIT</td>\n",
       "      <td>CORE WEARABLES</td>\n",
       "      <td>177507779.0</td>\n",
       "      <td>0.344724</td>\n",
       "      <td>0.219108</td>\n",
       "      <td>0.142482</td>\n",
       "      <td>1.000000</td>\n",
       "      <td>0.044455</td>\n",
       "    </tr>\n",
       "    <tr>\n",
       "      <th>3</th>\n",
       "      <td>22NB</td>\n",
       "      <td>2022-12-18</td>\n",
       "      <td>2022-12-24</td>\n",
       "      <td>CALENDARIO AVVENTO</td>\n",
       "      <td>AMFBAND7</td>\n",
       "      <td>49.99</td>\n",
       "      <td>49.99</td>\n",
       "      <td>1296.0</td>\n",
       "      <td>Principale</td>\n",
       "      <td>0.0</td>\n",
       "      <td>CORE WEARABLES</td>\n",
       "      <td>AMAZFIT</td>\n",
       "      <td>CORE WEARABLES</td>\n",
       "      <td>177507779.0</td>\n",
       "      <td>1.000000</td>\n",
       "      <td>0.000000</td>\n",
       "      <td>0.013192</td>\n",
       "      <td>0.630478</td>\n",
       "      <td>NaN</td>\n",
       "    </tr>\n",
       "    <tr>\n",
       "      <th>4</th>\n",
       "      <td>23CD</td>\n",
       "      <td>2023-03-31</td>\n",
       "      <td>2023-04-13</td>\n",
       "      <td>BASKET SCONTI APRILE</td>\n",
       "      <td>AMFBAND7</td>\n",
       "      <td>44.99</td>\n",
       "      <td>49.99</td>\n",
       "      <td>938.0</td>\n",
       "      <td>Principale</td>\n",
       "      <td>10.0</td>\n",
       "      <td>CORE WEARABLES</td>\n",
       "      <td>AMAZFIT</td>\n",
       "      <td>CORE WEARABLES</td>\n",
       "      <td>177507779.0</td>\n",
       "      <td>0.243773</td>\n",
       "      <td>0.225063</td>\n",
       "      <td>0.142833</td>\n",
       "      <td>1.000000</td>\n",
       "      <td>0.025981</td>\n",
       "    </tr>\n",
       "  </tbody>\n",
       "</table>\n",
       "</div>"
      ],
      "text/plain": [
       "  CODICE_VOLANTINO DATA_INIZIO   DATA_FINE           NOME_CAMPAGNA   ART_COD  \\\n",
       "0             22LB  2022-10-17  2022-10-27           SECONDO AL 50  AMFBAND7   \n",
       "1             23BA  2023-02-03  2023-02-12  BASKET SCONTI FEBBRAIO  AMFBAND7   \n",
       "2             23EA  2023-05-12  2023-05-25              VOLAGRATIS  AMFBAND7   \n",
       "3             22NB  2022-12-18  2022-12-24      CALENDARIO AVVENTO  AMFBAND7   \n",
       "4             23CD  2023-03-31  2023-04-13    BASKET SCONTI APRILE  AMFBAND7   \n",
       "\n",
       "   PREZZO_PROMO  PREZZO_LISTINO  STOCK_PZ TIPOLOGIA_PRODOTTO  SCONTO_PERC  \\\n",
       "0         49.99           49.99       0.0         Principale          0.0   \n",
       "1         44.99           49.99     854.0         Principale         10.0   \n",
       "2         49.99           49.99    1104.0         Principale          0.0   \n",
       "3         49.99           49.99    1296.0         Principale          0.0   \n",
       "4         44.99           49.99     938.0         Principale         10.0   \n",
       "\n",
       "  PRODUCT_GROUP_x    BRAND PRODUCT_GROUP_y      ITEM_ID     KPI_1     KPI_2  \\\n",
       "0  CORE WEARABLES  AMAZFIT  CORE WEARABLES  177507779.0  0.314157  0.000000   \n",
       "1  CORE WEARABLES  AMAZFIT  CORE WEARABLES  177507779.0  0.283915  0.000000   \n",
       "2  CORE WEARABLES  AMAZFIT  CORE WEARABLES  177507779.0  0.344724  0.219108   \n",
       "3  CORE WEARABLES  AMAZFIT  CORE WEARABLES  177507779.0  1.000000  0.000000   \n",
       "4  CORE WEARABLES  AMAZFIT  CORE WEARABLES  177507779.0  0.243773  0.225063   \n",
       "\n",
       "      KPI_3     KPI_4     KPI_5  \n",
       "0       NaN  0.308088       NaN  \n",
       "1  0.151703  1.000000       NaN  \n",
       "2  0.142482  1.000000  0.044455  \n",
       "3  0.013192  0.630478       NaN  \n",
       "4  0.142833  1.000000  0.025981  "
      ]
     },
     "execution_count": 66,
     "metadata": {},
     "output_type": "execute_result"
    }
   ],
   "source": [
    "df1.head()"
   ]
  },
  {
   "cell_type": "code",
   "execution_count": 67,
   "metadata": {
    "ExecuteTime": {
     "end_time": "2024-04-04T14:51:13.210159Z",
     "start_time": "2024-04-04T14:51:13.195902Z"
    }
   },
   "outputs": [],
   "source": [
    "df1 = pd.merge(df1, risultati, on = [\"ART_COD\", \"CODICE_VOLANTINO\"])"
   ]
  },
  {
   "cell_type": "code",
   "execution_count": 68,
   "metadata": {
    "ExecuteTime": {
     "end_time": "2024-04-04T14:51:13.223084Z",
     "start_time": "2024-04-04T14:51:13.211035Z"
    }
   },
   "outputs": [
    {
     "data": {
      "text/html": [
       "<div>\n",
       "<style scoped>\n",
       "    .dataframe tbody tr th:only-of-type {\n",
       "        vertical-align: middle;\n",
       "    }\n",
       "\n",
       "    .dataframe tbody tr th {\n",
       "        vertical-align: top;\n",
       "    }\n",
       "\n",
       "    .dataframe thead th {\n",
       "        text-align: right;\n",
       "    }\n",
       "</style>\n",
       "<table border=\"1\" class=\"dataframe\">\n",
       "  <thead>\n",
       "    <tr style=\"text-align: right;\">\n",
       "      <th></th>\n",
       "      <th>CODICE_VOLANTINO</th>\n",
       "      <th>DATA_INIZIO</th>\n",
       "      <th>DATA_FINE</th>\n",
       "      <th>NOME_CAMPAGNA</th>\n",
       "      <th>ART_COD</th>\n",
       "      <th>PREZZO_PROMO</th>\n",
       "      <th>PREZZO_LISTINO</th>\n",
       "      <th>STOCK_PZ</th>\n",
       "      <th>TIPOLOGIA_PRODOTTO</th>\n",
       "      <th>SCONTO_PERC</th>\n",
       "      <th>PRODUCT_GROUP_x</th>\n",
       "      <th>BRAND</th>\n",
       "      <th>PRODUCT_GROUP_y</th>\n",
       "      <th>ITEM_ID</th>\n",
       "      <th>KPI_1</th>\n",
       "      <th>KPI_2</th>\n",
       "      <th>KPI_3</th>\n",
       "      <th>KPI_4</th>\n",
       "      <th>KPI_5</th>\n",
       "      <th>PRODUCT_GROUP</th>\n",
       "      <th>QTA</th>\n",
       "      <th>FATTURATO</th>\n",
       "    </tr>\n",
       "  </thead>\n",
       "  <tbody>\n",
       "    <tr>\n",
       "      <th>0</th>\n",
       "      <td>22LB</td>\n",
       "      <td>2022-10-17</td>\n",
       "      <td>2022-10-27</td>\n",
       "      <td>SECONDO AL 50</td>\n",
       "      <td>AMFBAND7</td>\n",
       "      <td>49.99</td>\n",
       "      <td>49.99</td>\n",
       "      <td>0.0</td>\n",
       "      <td>Principale</td>\n",
       "      <td>0.0</td>\n",
       "      <td>CORE WEARABLES</td>\n",
       "      <td>AMAZFIT</td>\n",
       "      <td>CORE WEARABLES</td>\n",
       "      <td>177507779.0</td>\n",
       "      <td>0.314157</td>\n",
       "      <td>0.000000</td>\n",
       "      <td>NaN</td>\n",
       "      <td>0.308088</td>\n",
       "      <td>NaN</td>\n",
       "      <td>CORE WEARABLES</td>\n",
       "      <td>25.0</td>\n",
       "      <td>1010.07</td>\n",
       "    </tr>\n",
       "    <tr>\n",
       "      <th>1</th>\n",
       "      <td>23BA</td>\n",
       "      <td>2023-02-03</td>\n",
       "      <td>2023-02-12</td>\n",
       "      <td>BASKET SCONTI FEBBRAIO</td>\n",
       "      <td>AMFBAND7</td>\n",
       "      <td>44.99</td>\n",
       "      <td>49.99</td>\n",
       "      <td>854.0</td>\n",
       "      <td>Principale</td>\n",
       "      <td>10.0</td>\n",
       "      <td>CORE WEARABLES</td>\n",
       "      <td>AMAZFIT</td>\n",
       "      <td>CORE WEARABLES</td>\n",
       "      <td>177507779.0</td>\n",
       "      <td>0.283915</td>\n",
       "      <td>0.000000</td>\n",
       "      <td>0.151703</td>\n",
       "      <td>1.000000</td>\n",
       "      <td>NaN</td>\n",
       "      <td>CORE WEARABLES</td>\n",
       "      <td>151.0</td>\n",
       "      <td>5643.55</td>\n",
       "    </tr>\n",
       "    <tr>\n",
       "      <th>2</th>\n",
       "      <td>23EA</td>\n",
       "      <td>2023-05-12</td>\n",
       "      <td>2023-05-25</td>\n",
       "      <td>VOLAGRATIS</td>\n",
       "      <td>AMFBAND7</td>\n",
       "      <td>49.99</td>\n",
       "      <td>49.99</td>\n",
       "      <td>1104.0</td>\n",
       "      <td>Principale</td>\n",
       "      <td>0.0</td>\n",
       "      <td>CORE WEARABLES</td>\n",
       "      <td>AMAZFIT</td>\n",
       "      <td>CORE WEARABLES</td>\n",
       "      <td>177507779.0</td>\n",
       "      <td>0.344724</td>\n",
       "      <td>0.219108</td>\n",
       "      <td>0.142482</td>\n",
       "      <td>1.000000</td>\n",
       "      <td>0.044455</td>\n",
       "      <td>CORE WEARABLES</td>\n",
       "      <td>165.0</td>\n",
       "      <td>6718.26</td>\n",
       "    </tr>\n",
       "    <tr>\n",
       "      <th>3</th>\n",
       "      <td>22NB</td>\n",
       "      <td>2022-12-18</td>\n",
       "      <td>2022-12-24</td>\n",
       "      <td>CALENDARIO AVVENTO</td>\n",
       "      <td>AMFBAND7</td>\n",
       "      <td>49.99</td>\n",
       "      <td>49.99</td>\n",
       "      <td>1296.0</td>\n",
       "      <td>Principale</td>\n",
       "      <td>0.0</td>\n",
       "      <td>CORE WEARABLES</td>\n",
       "      <td>AMAZFIT</td>\n",
       "      <td>CORE WEARABLES</td>\n",
       "      <td>177507779.0</td>\n",
       "      <td>1.000000</td>\n",
       "      <td>0.000000</td>\n",
       "      <td>0.013192</td>\n",
       "      <td>0.630478</td>\n",
       "      <td>NaN</td>\n",
       "      <td>CORE WEARABLES</td>\n",
       "      <td>423.0</td>\n",
       "      <td>17289.27</td>\n",
       "    </tr>\n",
       "    <tr>\n",
       "      <th>4</th>\n",
       "      <td>23CD</td>\n",
       "      <td>2023-03-31</td>\n",
       "      <td>2023-04-13</td>\n",
       "      <td>BASKET SCONTI APRILE</td>\n",
       "      <td>AMFBAND7</td>\n",
       "      <td>44.99</td>\n",
       "      <td>49.99</td>\n",
       "      <td>938.0</td>\n",
       "      <td>Principale</td>\n",
       "      <td>10.0</td>\n",
       "      <td>CORE WEARABLES</td>\n",
       "      <td>AMAZFIT</td>\n",
       "      <td>CORE WEARABLES</td>\n",
       "      <td>177507779.0</td>\n",
       "      <td>0.243773</td>\n",
       "      <td>0.225063</td>\n",
       "      <td>0.142833</td>\n",
       "      <td>1.000000</td>\n",
       "      <td>0.025981</td>\n",
       "      <td>CORE WEARABLES</td>\n",
       "      <td>132.0</td>\n",
       "      <td>4956.73</td>\n",
       "    </tr>\n",
       "  </tbody>\n",
       "</table>\n",
       "</div>"
      ],
      "text/plain": [
       "  CODICE_VOLANTINO DATA_INIZIO   DATA_FINE           NOME_CAMPAGNA   ART_COD  \\\n",
       "0             22LB  2022-10-17  2022-10-27           SECONDO AL 50  AMFBAND7   \n",
       "1             23BA  2023-02-03  2023-02-12  BASKET SCONTI FEBBRAIO  AMFBAND7   \n",
       "2             23EA  2023-05-12  2023-05-25              VOLAGRATIS  AMFBAND7   \n",
       "3             22NB  2022-12-18  2022-12-24      CALENDARIO AVVENTO  AMFBAND7   \n",
       "4             23CD  2023-03-31  2023-04-13    BASKET SCONTI APRILE  AMFBAND7   \n",
       "\n",
       "   PREZZO_PROMO  PREZZO_LISTINO  STOCK_PZ TIPOLOGIA_PRODOTTO  SCONTO_PERC  \\\n",
       "0         49.99           49.99       0.0         Principale          0.0   \n",
       "1         44.99           49.99     854.0         Principale         10.0   \n",
       "2         49.99           49.99    1104.0         Principale          0.0   \n",
       "3         49.99           49.99    1296.0         Principale          0.0   \n",
       "4         44.99           49.99     938.0         Principale         10.0   \n",
       "\n",
       "  PRODUCT_GROUP_x    BRAND PRODUCT_GROUP_y      ITEM_ID     KPI_1     KPI_2  \\\n",
       "0  CORE WEARABLES  AMAZFIT  CORE WEARABLES  177507779.0  0.314157  0.000000   \n",
       "1  CORE WEARABLES  AMAZFIT  CORE WEARABLES  177507779.0  0.283915  0.000000   \n",
       "2  CORE WEARABLES  AMAZFIT  CORE WEARABLES  177507779.0  0.344724  0.219108   \n",
       "3  CORE WEARABLES  AMAZFIT  CORE WEARABLES  177507779.0  1.000000  0.000000   \n",
       "4  CORE WEARABLES  AMAZFIT  CORE WEARABLES  177507779.0  0.243773  0.225063   \n",
       "\n",
       "      KPI_3     KPI_4     KPI_5   PRODUCT_GROUP    QTA  FATTURATO  \n",
       "0       NaN  0.308088       NaN  CORE WEARABLES   25.0    1010.07  \n",
       "1  0.151703  1.000000       NaN  CORE WEARABLES  151.0    5643.55  \n",
       "2  0.142482  1.000000  0.044455  CORE WEARABLES  165.0    6718.26  \n",
       "3  0.013192  0.630478       NaN  CORE WEARABLES  423.0   17289.27  \n",
       "4  0.142833  1.000000  0.025981  CORE WEARABLES  132.0    4956.73  "
      ]
     },
     "execution_count": 68,
     "metadata": {},
     "output_type": "execute_result"
    }
   ],
   "source": [
    "df1.head()"
   ]
  },
  {
   "cell_type": "code",
   "execution_count": 69,
   "metadata": {
    "ExecuteTime": {
     "end_time": "2024-04-04T14:51:13.239788Z",
     "start_time": "2024-04-04T14:51:13.224393Z"
    }
   },
   "outputs": [],
   "source": [
    "df1 = pd.merge(df1, storico, on = [\"ART_COD\", \"CODICE_VOLANTINO\"], suffixes=('', '_storico'))"
   ]
  },
  {
   "cell_type": "code",
   "execution_count": 70,
   "metadata": {
    "ExecuteTime": {
     "end_time": "2024-04-04T14:51:13.252410Z",
     "start_time": "2024-04-04T14:51:13.240598Z"
    }
   },
   "outputs": [
    {
     "data": {
      "text/html": [
       "<div>\n",
       "<style scoped>\n",
       "    .dataframe tbody tr th:only-of-type {\n",
       "        vertical-align: middle;\n",
       "    }\n",
       "\n",
       "    .dataframe tbody tr th {\n",
       "        vertical-align: top;\n",
       "    }\n",
       "\n",
       "    .dataframe thead th {\n",
       "        text-align: right;\n",
       "    }\n",
       "</style>\n",
       "<table border=\"1\" class=\"dataframe\">\n",
       "  <thead>\n",
       "    <tr style=\"text-align: right;\">\n",
       "      <th></th>\n",
       "      <th>CODICE_VOLANTINO</th>\n",
       "      <th>DATA_INIZIO</th>\n",
       "      <th>DATA_FINE</th>\n",
       "      <th>NOME_CAMPAGNA</th>\n",
       "      <th>ART_COD</th>\n",
       "      <th>PREZZO_PROMO</th>\n",
       "      <th>PREZZO_LISTINO</th>\n",
       "      <th>STOCK_PZ</th>\n",
       "      <th>TIPOLOGIA_PRODOTTO</th>\n",
       "      <th>SCONTO_PERC</th>\n",
       "      <th>PRODUCT_GROUP_x</th>\n",
       "      <th>BRAND</th>\n",
       "      <th>PRODUCT_GROUP_y</th>\n",
       "      <th>ITEM_ID</th>\n",
       "      <th>KPI_1</th>\n",
       "      <th>KPI_2</th>\n",
       "      <th>KPI_3</th>\n",
       "      <th>KPI_4</th>\n",
       "      <th>KPI_5</th>\n",
       "      <th>PRODUCT_GROUP</th>\n",
       "      <th>QTA</th>\n",
       "      <th>FATTURATO</th>\n",
       "      <th>QTA_storico</th>\n",
       "      <th>FATTURATO_storico</th>\n",
       "    </tr>\n",
       "  </thead>\n",
       "  <tbody>\n",
       "    <tr>\n",
       "      <th>0</th>\n",
       "      <td>22LB</td>\n",
       "      <td>2022-10-17</td>\n",
       "      <td>2022-10-27</td>\n",
       "      <td>SECONDO AL 50</td>\n",
       "      <td>AMFBAND7</td>\n",
       "      <td>49.99</td>\n",
       "      <td>49.99</td>\n",
       "      <td>0.0</td>\n",
       "      <td>Principale</td>\n",
       "      <td>0.0</td>\n",
       "      <td>CORE WEARABLES</td>\n",
       "      <td>AMAZFIT</td>\n",
       "      <td>CORE WEARABLES</td>\n",
       "      <td>177507779.0</td>\n",
       "      <td>0.314157</td>\n",
       "      <td>0.000000</td>\n",
       "      <td>NaN</td>\n",
       "      <td>0.308088</td>\n",
       "      <td>NaN</td>\n",
       "      <td>CORE WEARABLES</td>\n",
       "      <td>25.0</td>\n",
       "      <td>1010.07</td>\n",
       "      <td>0</td>\n",
       "      <td>0.00</td>\n",
       "    </tr>\n",
       "    <tr>\n",
       "      <th>1</th>\n",
       "      <td>23BA</td>\n",
       "      <td>2023-02-03</td>\n",
       "      <td>2023-02-12</td>\n",
       "      <td>BASKET SCONTI FEBBRAIO</td>\n",
       "      <td>AMFBAND7</td>\n",
       "      <td>44.99</td>\n",
       "      <td>49.99</td>\n",
       "      <td>854.0</td>\n",
       "      <td>Principale</td>\n",
       "      <td>10.0</td>\n",
       "      <td>CORE WEARABLES</td>\n",
       "      <td>AMAZFIT</td>\n",
       "      <td>CORE WEARABLES</td>\n",
       "      <td>177507779.0</td>\n",
       "      <td>0.283915</td>\n",
       "      <td>0.000000</td>\n",
       "      <td>0.151703</td>\n",
       "      <td>1.000000</td>\n",
       "      <td>NaN</td>\n",
       "      <td>CORE WEARABLES</td>\n",
       "      <td>151.0</td>\n",
       "      <td>5643.55</td>\n",
       "      <td>617</td>\n",
       "      <td>25389.55</td>\n",
       "    </tr>\n",
       "    <tr>\n",
       "      <th>2</th>\n",
       "      <td>23EA</td>\n",
       "      <td>2023-05-12</td>\n",
       "      <td>2023-05-25</td>\n",
       "      <td>VOLAGRATIS</td>\n",
       "      <td>AMFBAND7</td>\n",
       "      <td>49.99</td>\n",
       "      <td>49.99</td>\n",
       "      <td>1104.0</td>\n",
       "      <td>Principale</td>\n",
       "      <td>0.0</td>\n",
       "      <td>CORE WEARABLES</td>\n",
       "      <td>AMAZFIT</td>\n",
       "      <td>CORE WEARABLES</td>\n",
       "      <td>177507779.0</td>\n",
       "      <td>0.344724</td>\n",
       "      <td>0.219108</td>\n",
       "      <td>0.142482</td>\n",
       "      <td>1.000000</td>\n",
       "      <td>0.044455</td>\n",
       "      <td>CORE WEARABLES</td>\n",
       "      <td>165.0</td>\n",
       "      <td>6718.26</td>\n",
       "      <td>214</td>\n",
       "      <td>8303.87</td>\n",
       "    </tr>\n",
       "    <tr>\n",
       "      <th>3</th>\n",
       "      <td>22NB</td>\n",
       "      <td>2022-12-18</td>\n",
       "      <td>2022-12-24</td>\n",
       "      <td>CALENDARIO AVVENTO</td>\n",
       "      <td>AMFBAND7</td>\n",
       "      <td>49.99</td>\n",
       "      <td>49.99</td>\n",
       "      <td>1296.0</td>\n",
       "      <td>Principale</td>\n",
       "      <td>0.0</td>\n",
       "      <td>CORE WEARABLES</td>\n",
       "      <td>AMAZFIT</td>\n",
       "      <td>CORE WEARABLES</td>\n",
       "      <td>177507779.0</td>\n",
       "      <td>1.000000</td>\n",
       "      <td>0.000000</td>\n",
       "      <td>0.013192</td>\n",
       "      <td>0.630478</td>\n",
       "      <td>NaN</td>\n",
       "      <td>CORE WEARABLES</td>\n",
       "      <td>423.0</td>\n",
       "      <td>17289.27</td>\n",
       "      <td>38</td>\n",
       "      <td>1537.51</td>\n",
       "    </tr>\n",
       "    <tr>\n",
       "      <th>4</th>\n",
       "      <td>23CD</td>\n",
       "      <td>2023-03-31</td>\n",
       "      <td>2023-04-13</td>\n",
       "      <td>BASKET SCONTI APRILE</td>\n",
       "      <td>AMFBAND7</td>\n",
       "      <td>44.99</td>\n",
       "      <td>49.99</td>\n",
       "      <td>938.0</td>\n",
       "      <td>Principale</td>\n",
       "      <td>10.0</td>\n",
       "      <td>CORE WEARABLES</td>\n",
       "      <td>AMAZFIT</td>\n",
       "      <td>CORE WEARABLES</td>\n",
       "      <td>177507779.0</td>\n",
       "      <td>0.243773</td>\n",
       "      <td>0.225063</td>\n",
       "      <td>0.142833</td>\n",
       "      <td>1.000000</td>\n",
       "      <td>0.025981</td>\n",
       "      <td>CORE WEARABLES</td>\n",
       "      <td>132.0</td>\n",
       "      <td>4956.73</td>\n",
       "      <td>177</td>\n",
       "      <td>6725.63</td>\n",
       "    </tr>\n",
       "  </tbody>\n",
       "</table>\n",
       "</div>"
      ],
      "text/plain": [
       "  CODICE_VOLANTINO DATA_INIZIO   DATA_FINE           NOME_CAMPAGNA   ART_COD  \\\n",
       "0             22LB  2022-10-17  2022-10-27           SECONDO AL 50  AMFBAND7   \n",
       "1             23BA  2023-02-03  2023-02-12  BASKET SCONTI FEBBRAIO  AMFBAND7   \n",
       "2             23EA  2023-05-12  2023-05-25              VOLAGRATIS  AMFBAND7   \n",
       "3             22NB  2022-12-18  2022-12-24      CALENDARIO AVVENTO  AMFBAND7   \n",
       "4             23CD  2023-03-31  2023-04-13    BASKET SCONTI APRILE  AMFBAND7   \n",
       "\n",
       "   PREZZO_PROMO  PREZZO_LISTINO  STOCK_PZ TIPOLOGIA_PRODOTTO  SCONTO_PERC  \\\n",
       "0         49.99           49.99       0.0         Principale          0.0   \n",
       "1         44.99           49.99     854.0         Principale         10.0   \n",
       "2         49.99           49.99    1104.0         Principale          0.0   \n",
       "3         49.99           49.99    1296.0         Principale          0.0   \n",
       "4         44.99           49.99     938.0         Principale         10.0   \n",
       "\n",
       "  PRODUCT_GROUP_x    BRAND PRODUCT_GROUP_y      ITEM_ID     KPI_1     KPI_2  \\\n",
       "0  CORE WEARABLES  AMAZFIT  CORE WEARABLES  177507779.0  0.314157  0.000000   \n",
       "1  CORE WEARABLES  AMAZFIT  CORE WEARABLES  177507779.0  0.283915  0.000000   \n",
       "2  CORE WEARABLES  AMAZFIT  CORE WEARABLES  177507779.0  0.344724  0.219108   \n",
       "3  CORE WEARABLES  AMAZFIT  CORE WEARABLES  177507779.0  1.000000  0.000000   \n",
       "4  CORE WEARABLES  AMAZFIT  CORE WEARABLES  177507779.0  0.243773  0.225063   \n",
       "\n",
       "      KPI_3     KPI_4     KPI_5   PRODUCT_GROUP    QTA  FATTURATO  \\\n",
       "0       NaN  0.308088       NaN  CORE WEARABLES   25.0    1010.07   \n",
       "1  0.151703  1.000000       NaN  CORE WEARABLES  151.0    5643.55   \n",
       "2  0.142482  1.000000  0.044455  CORE WEARABLES  165.0    6718.26   \n",
       "3  0.013192  0.630478       NaN  CORE WEARABLES  423.0   17289.27   \n",
       "4  0.142833  1.000000  0.025981  CORE WEARABLES  132.0    4956.73   \n",
       "\n",
       "   QTA_storico  FATTURATO_storico  \n",
       "0            0               0.00  \n",
       "1          617           25389.55  \n",
       "2          214            8303.87  \n",
       "3           38            1537.51  \n",
       "4          177            6725.63  "
      ]
     },
     "execution_count": 70,
     "metadata": {},
     "output_type": "execute_result"
    }
   ],
   "source": [
    "df1.head()"
   ]
  },
  {
   "cell_type": "code",
   "execution_count": 71,
   "metadata": {
    "ExecuteTime": {
     "end_time": "2024-04-04T14:51:13.258257Z",
     "start_time": "2024-04-04T14:51:13.253362Z"
    }
   },
   "outputs": [],
   "source": [
    "df1.drop([\"PRODUCT_GROUP_x\",'PRODUCT_GROUP_y'], inplace = True, axis = 1)"
   ]
  },
  {
   "cell_type": "code",
   "execution_count": 72,
   "metadata": {
    "ExecuteTime": {
     "end_time": "2024-04-04T14:51:13.263422Z",
     "start_time": "2024-04-04T14:51:13.259662Z"
    }
   },
   "outputs": [
    {
     "data": {
      "text/plain": [
       "Index(['CODICE_VOLANTINO', 'DATA_INIZIO', 'DATA_FINE', 'NOME_CAMPAGNA',\n",
       "       'ART_COD', 'PREZZO_PROMO', 'PREZZO_LISTINO', 'STOCK_PZ',\n",
       "       'TIPOLOGIA_PRODOTTO', 'SCONTO_PERC', 'BRAND', 'ITEM_ID', 'KPI_1',\n",
       "       'KPI_2', 'KPI_3', 'KPI_4', 'KPI_5', 'PRODUCT_GROUP', 'QTA', 'FATTURATO',\n",
       "       'QTA_storico', 'FATTURATO_storico'],\n",
       "      dtype='object')"
      ]
     },
     "execution_count": 72,
     "metadata": {},
     "output_type": "execute_result"
    }
   ],
   "source": [
    "df1.columns"
   ]
  },
  {
   "cell_type": "code",
   "execution_count": 73,
   "metadata": {
    "ExecuteTime": {
     "end_time": "2024-04-04T14:51:13.287299Z",
     "start_time": "2024-04-04T14:51:13.264659Z"
    }
   },
   "outputs": [
    {
     "data": {
      "text/plain": [
       "CODICE_VOLANTINO         0\n",
       "DATA_INIZIO              0\n",
       "DATA_FINE                0\n",
       "NOME_CAMPAGNA            0\n",
       "ART_COD                  0\n",
       "PREZZO_PROMO             0\n",
       "PREZZO_LISTINO           0\n",
       "STOCK_PZ                 0\n",
       "TIPOLOGIA_PRODOTTO       0\n",
       "SCONTO_PERC              0\n",
       "BRAND                    0\n",
       "ITEM_ID                163\n",
       "KPI_1                    0\n",
       "KPI_2                 6009\n",
       "KPI_3                 2731\n",
       "KPI_4                  371\n",
       "KPI_5                 2753\n",
       "PRODUCT_GROUP            0\n",
       "QTA                      0\n",
       "FATTURATO                0\n",
       "QTA_storico              0\n",
       "FATTURATO_storico        0\n",
       "dtype: int64"
      ]
     },
     "execution_count": 73,
     "metadata": {},
     "output_type": "execute_result"
    }
   ],
   "source": [
    "df1.isnull().sum()"
   ]
  },
  {
   "cell_type": "code",
   "execution_count": 74,
   "metadata": {
    "ExecuteTime": {
     "end_time": "2024-04-04T14:51:13.291382Z",
     "start_time": "2024-04-04T14:51:13.288285Z"
    }
   },
   "outputs": [
    {
     "data": {
      "text/plain": [
       "(20542, 22)"
      ]
     },
     "execution_count": 74,
     "metadata": {},
     "output_type": "execute_result"
    }
   ],
   "source": [
    "df1.shape"
   ]
  },
  {
   "cell_type": "markdown",
   "metadata": {},
   "source": [
    "## LAVORO SUL DATASET"
   ]
  },
  {
   "cell_type": "code",
   "execution_count": 75,
   "metadata": {
    "ExecuteTime": {
     "end_time": "2024-04-04T14:51:13.304601Z",
     "start_time": "2024-04-04T14:51:13.292362Z"
    }
   },
   "outputs": [
    {
     "data": {
      "text/html": [
       "<div>\n",
       "<style scoped>\n",
       "    .dataframe tbody tr th:only-of-type {\n",
       "        vertical-align: middle;\n",
       "    }\n",
       "\n",
       "    .dataframe tbody tr th {\n",
       "        vertical-align: top;\n",
       "    }\n",
       "\n",
       "    .dataframe thead th {\n",
       "        text-align: right;\n",
       "    }\n",
       "</style>\n",
       "<table border=\"1\" class=\"dataframe\">\n",
       "  <thead>\n",
       "    <tr style=\"text-align: right;\">\n",
       "      <th></th>\n",
       "      <th>CODICE_VOLANTINO</th>\n",
       "      <th>DATA_INIZIO</th>\n",
       "      <th>DATA_FINE</th>\n",
       "      <th>NOME_CAMPAGNA</th>\n",
       "      <th>ART_COD</th>\n",
       "      <th>PREZZO_PROMO</th>\n",
       "      <th>PREZZO_LISTINO</th>\n",
       "      <th>STOCK_PZ</th>\n",
       "      <th>TIPOLOGIA_PRODOTTO</th>\n",
       "      <th>SCONTO_PERC</th>\n",
       "      <th>BRAND</th>\n",
       "      <th>ITEM_ID</th>\n",
       "      <th>KPI_1</th>\n",
       "      <th>KPI_2</th>\n",
       "      <th>KPI_3</th>\n",
       "      <th>KPI_4</th>\n",
       "      <th>KPI_5</th>\n",
       "      <th>PRODUCT_GROUP</th>\n",
       "      <th>QTA</th>\n",
       "      <th>FATTURATO</th>\n",
       "      <th>QTA_storico</th>\n",
       "      <th>FATTURATO_storico</th>\n",
       "    </tr>\n",
       "  </thead>\n",
       "  <tbody>\n",
       "    <tr>\n",
       "      <th>0</th>\n",
       "      <td>22LB</td>\n",
       "      <td>2022-10-17</td>\n",
       "      <td>2022-10-27</td>\n",
       "      <td>SECONDO AL 50</td>\n",
       "      <td>AMFBAND7</td>\n",
       "      <td>49.99</td>\n",
       "      <td>49.99</td>\n",
       "      <td>0.0</td>\n",
       "      <td>Principale</td>\n",
       "      <td>0.0</td>\n",
       "      <td>AMAZFIT</td>\n",
       "      <td>177507779.0</td>\n",
       "      <td>0.314157</td>\n",
       "      <td>0.000000</td>\n",
       "      <td>NaN</td>\n",
       "      <td>0.308088</td>\n",
       "      <td>NaN</td>\n",
       "      <td>CORE WEARABLES</td>\n",
       "      <td>25.0</td>\n",
       "      <td>1010.07</td>\n",
       "      <td>0</td>\n",
       "      <td>0.00</td>\n",
       "    </tr>\n",
       "    <tr>\n",
       "      <th>1</th>\n",
       "      <td>23BA</td>\n",
       "      <td>2023-02-03</td>\n",
       "      <td>2023-02-12</td>\n",
       "      <td>BASKET SCONTI FEBBRAIO</td>\n",
       "      <td>AMFBAND7</td>\n",
       "      <td>44.99</td>\n",
       "      <td>49.99</td>\n",
       "      <td>854.0</td>\n",
       "      <td>Principale</td>\n",
       "      <td>10.0</td>\n",
       "      <td>AMAZFIT</td>\n",
       "      <td>177507779.0</td>\n",
       "      <td>0.283915</td>\n",
       "      <td>0.000000</td>\n",
       "      <td>0.151703</td>\n",
       "      <td>1.000000</td>\n",
       "      <td>NaN</td>\n",
       "      <td>CORE WEARABLES</td>\n",
       "      <td>151.0</td>\n",
       "      <td>5643.55</td>\n",
       "      <td>617</td>\n",
       "      <td>25389.55</td>\n",
       "    </tr>\n",
       "    <tr>\n",
       "      <th>2</th>\n",
       "      <td>23EA</td>\n",
       "      <td>2023-05-12</td>\n",
       "      <td>2023-05-25</td>\n",
       "      <td>VOLAGRATIS</td>\n",
       "      <td>AMFBAND7</td>\n",
       "      <td>49.99</td>\n",
       "      <td>49.99</td>\n",
       "      <td>1104.0</td>\n",
       "      <td>Principale</td>\n",
       "      <td>0.0</td>\n",
       "      <td>AMAZFIT</td>\n",
       "      <td>177507779.0</td>\n",
       "      <td>0.344724</td>\n",
       "      <td>0.219108</td>\n",
       "      <td>0.142482</td>\n",
       "      <td>1.000000</td>\n",
       "      <td>0.044455</td>\n",
       "      <td>CORE WEARABLES</td>\n",
       "      <td>165.0</td>\n",
       "      <td>6718.26</td>\n",
       "      <td>214</td>\n",
       "      <td>8303.87</td>\n",
       "    </tr>\n",
       "    <tr>\n",
       "      <th>3</th>\n",
       "      <td>22NB</td>\n",
       "      <td>2022-12-18</td>\n",
       "      <td>2022-12-24</td>\n",
       "      <td>CALENDARIO AVVENTO</td>\n",
       "      <td>AMFBAND7</td>\n",
       "      <td>49.99</td>\n",
       "      <td>49.99</td>\n",
       "      <td>1296.0</td>\n",
       "      <td>Principale</td>\n",
       "      <td>0.0</td>\n",
       "      <td>AMAZFIT</td>\n",
       "      <td>177507779.0</td>\n",
       "      <td>1.000000</td>\n",
       "      <td>0.000000</td>\n",
       "      <td>0.013192</td>\n",
       "      <td>0.630478</td>\n",
       "      <td>NaN</td>\n",
       "      <td>CORE WEARABLES</td>\n",
       "      <td>423.0</td>\n",
       "      <td>17289.27</td>\n",
       "      <td>38</td>\n",
       "      <td>1537.51</td>\n",
       "    </tr>\n",
       "    <tr>\n",
       "      <th>4</th>\n",
       "      <td>23CD</td>\n",
       "      <td>2023-03-31</td>\n",
       "      <td>2023-04-13</td>\n",
       "      <td>BASKET SCONTI APRILE</td>\n",
       "      <td>AMFBAND7</td>\n",
       "      <td>44.99</td>\n",
       "      <td>49.99</td>\n",
       "      <td>938.0</td>\n",
       "      <td>Principale</td>\n",
       "      <td>10.0</td>\n",
       "      <td>AMAZFIT</td>\n",
       "      <td>177507779.0</td>\n",
       "      <td>0.243773</td>\n",
       "      <td>0.225063</td>\n",
       "      <td>0.142833</td>\n",
       "      <td>1.000000</td>\n",
       "      <td>0.025981</td>\n",
       "      <td>CORE WEARABLES</td>\n",
       "      <td>132.0</td>\n",
       "      <td>4956.73</td>\n",
       "      <td>177</td>\n",
       "      <td>6725.63</td>\n",
       "    </tr>\n",
       "  </tbody>\n",
       "</table>\n",
       "</div>"
      ],
      "text/plain": [
       "  CODICE_VOLANTINO DATA_INIZIO   DATA_FINE           NOME_CAMPAGNA   ART_COD  \\\n",
       "0             22LB  2022-10-17  2022-10-27           SECONDO AL 50  AMFBAND7   \n",
       "1             23BA  2023-02-03  2023-02-12  BASKET SCONTI FEBBRAIO  AMFBAND7   \n",
       "2             23EA  2023-05-12  2023-05-25              VOLAGRATIS  AMFBAND7   \n",
       "3             22NB  2022-12-18  2022-12-24      CALENDARIO AVVENTO  AMFBAND7   \n",
       "4             23CD  2023-03-31  2023-04-13    BASKET SCONTI APRILE  AMFBAND7   \n",
       "\n",
       "   PREZZO_PROMO  PREZZO_LISTINO  STOCK_PZ TIPOLOGIA_PRODOTTO  SCONTO_PERC  \\\n",
       "0         49.99           49.99       0.0         Principale          0.0   \n",
       "1         44.99           49.99     854.0         Principale         10.0   \n",
       "2         49.99           49.99    1104.0         Principale          0.0   \n",
       "3         49.99           49.99    1296.0         Principale          0.0   \n",
       "4         44.99           49.99     938.0         Principale         10.0   \n",
       "\n",
       "     BRAND      ITEM_ID     KPI_1     KPI_2     KPI_3     KPI_4     KPI_5  \\\n",
       "0  AMAZFIT  177507779.0  0.314157  0.000000       NaN  0.308088       NaN   \n",
       "1  AMAZFIT  177507779.0  0.283915  0.000000  0.151703  1.000000       NaN   \n",
       "2  AMAZFIT  177507779.0  0.344724  0.219108  0.142482  1.000000  0.044455   \n",
       "3  AMAZFIT  177507779.0  1.000000  0.000000  0.013192  0.630478       NaN   \n",
       "4  AMAZFIT  177507779.0  0.243773  0.225063  0.142833  1.000000  0.025981   \n",
       "\n",
       "    PRODUCT_GROUP    QTA  FATTURATO  QTA_storico  FATTURATO_storico  \n",
       "0  CORE WEARABLES   25.0    1010.07            0               0.00  \n",
       "1  CORE WEARABLES  151.0    5643.55          617           25389.55  \n",
       "2  CORE WEARABLES  165.0    6718.26          214            8303.87  \n",
       "3  CORE WEARABLES  423.0   17289.27           38            1537.51  \n",
       "4  CORE WEARABLES  132.0    4956.73          177            6725.63  "
      ]
     },
     "execution_count": 75,
     "metadata": {},
     "output_type": "execute_result"
    }
   ],
   "source": [
    "df1.head()"
   ]
  },
  {
   "cell_type": "code",
   "execution_count": 76,
   "metadata": {
    "ExecuteTime": {
     "end_time": "2024-04-04T14:51:13.318911Z",
     "start_time": "2024-04-04T14:51:13.305668Z"
    }
   },
   "outputs": [],
   "source": [
    "df1['DATA_INIZIO'] = pd.to_datetime(df1['DATA_INIZIO'])\n",
    "df1['DATA_FINE'] = pd.to_datetime(df1['DATA_FINE'])"
   ]
  },
  {
   "cell_type": "code",
   "execution_count": 77,
   "metadata": {
    "ExecuteTime": {
     "end_time": "2024-04-04T14:51:13.534566Z",
     "start_time": "2024-04-04T14:51:13.319739Z"
    }
   },
   "outputs": [],
   "source": [
    "# WE CREATED 'DURATA_VOLANTINO_IN_GIORNI' COLUMN\n",
    "\n",
    "df1['DURATA_VOLANTINO_IN_GIORNI'] = df1['DATA_FINE'] - df1['DATA_INIZIO']\n",
    "df1['DURATA_VOLANTINO_IN_GIORNI'] = df1['DURATA_VOLANTINO_IN_GIORNI'].apply(lambda x: x.days)"
   ]
  },
  {
   "cell_type": "code",
   "execution_count": 78,
   "metadata": {
    "ExecuteTime": {
     "end_time": "2024-04-04T14:51:13.555975Z",
     "start_time": "2024-04-04T14:51:13.535333Z"
    }
   },
   "outputs": [
    {
     "name": "stdout",
     "output_type": "stream",
     "text": [
      "<class 'pandas.core.frame.DataFrame'>\n",
      "RangeIndex: 20542 entries, 0 to 20541\n",
      "Data columns (total 23 columns):\n",
      " #   Column                      Non-Null Count  Dtype         \n",
      "---  ------                      --------------  -----         \n",
      " 0   CODICE_VOLANTINO            20542 non-null  object        \n",
      " 1   DATA_INIZIO                 20542 non-null  datetime64[ns]\n",
      " 2   DATA_FINE                   20542 non-null  datetime64[ns]\n",
      " 3   NOME_CAMPAGNA               20542 non-null  object        \n",
      " 4   ART_COD                     20542 non-null  object        \n",
      " 5   PREZZO_PROMO                20542 non-null  float64       \n",
      " 6   PREZZO_LISTINO              20542 non-null  float64       \n",
      " 7   STOCK_PZ                    20542 non-null  float64       \n",
      " 8   TIPOLOGIA_PRODOTTO          20542 non-null  object        \n",
      " 9   SCONTO_PERC                 20542 non-null  float64       \n",
      " 10  BRAND                       20542 non-null  object        \n",
      " 11  ITEM_ID                     20379 non-null  float64       \n",
      " 12  KPI_1                       20542 non-null  float64       \n",
      " 13  KPI_2                       14533 non-null  float64       \n",
      " 14  KPI_3                       17811 non-null  float64       \n",
      " 15  KPI_4                       20171 non-null  float64       \n",
      " 16  KPI_5                       17789 non-null  float64       \n",
      " 17  PRODUCT_GROUP               20542 non-null  object        \n",
      " 18  QTA                         20542 non-null  float64       \n",
      " 19  FATTURATO                   20542 non-null  float64       \n",
      " 20  QTA_storico                 20542 non-null  int64         \n",
      " 21  FATTURATO_storico           20542 non-null  float64       \n",
      " 22  DURATA_VOLANTINO_IN_GIORNI  20542 non-null  int64         \n",
      "dtypes: datetime64[ns](2), float64(13), int64(2), object(6)\n",
      "memory usage: 3.6+ MB\n"
     ]
    }
   ],
   "source": [
    "df1.info()"
   ]
  },
  {
   "cell_type": "code",
   "execution_count": 79,
   "metadata": {
    "ExecuteTime": {
     "end_time": "2024-04-04T14:51:13.575767Z",
     "start_time": "2024-04-04T14:51:13.557051Z"
    }
   },
   "outputs": [
    {
     "data": {
      "text/plain": [
       "CODICE_VOLANTINO                 0\n",
       "DATA_INIZIO                      0\n",
       "DATA_FINE                        0\n",
       "NOME_CAMPAGNA                    0\n",
       "ART_COD                          0\n",
       "PREZZO_PROMO                     0\n",
       "PREZZO_LISTINO                   0\n",
       "STOCK_PZ                         0\n",
       "TIPOLOGIA_PRODOTTO               0\n",
       "SCONTO_PERC                      0\n",
       "BRAND                            0\n",
       "ITEM_ID                        163\n",
       "KPI_1                            0\n",
       "KPI_2                         6009\n",
       "KPI_3                         2731\n",
       "KPI_4                          371\n",
       "KPI_5                         2753\n",
       "PRODUCT_GROUP                    0\n",
       "QTA                              0\n",
       "FATTURATO                        0\n",
       "QTA_storico                      0\n",
       "FATTURATO_storico                0\n",
       "DURATA_VOLANTINO_IN_GIORNI       0\n",
       "dtype: int64"
      ]
     },
     "execution_count": 79,
     "metadata": {},
     "output_type": "execute_result"
    }
   ],
   "source": [
    "df1.isnull().sum()"
   ]
  },
  {
   "cell_type": "markdown",
   "metadata": {},
   "source": [
    "We decided to fill null values of KPI columns with 0 because in the data mapping file provided us by Unieuro, they say 'If missing, it's because the product/product group is not sold...'\n",
    "\n",
    "So we believe that if a product was not sold, it's reasonably that his KPI is zero"
   ]
  },
  {
   "cell_type": "code",
   "execution_count": 80,
   "metadata": {
    "ExecuteTime": {
     "end_time": "2024-04-04T14:51:13.580684Z",
     "start_time": "2024-04-04T14:51:13.576782Z"
    }
   },
   "outputs": [],
   "source": [
    "df1['KPI_2'].fillna(0, inplace=True)\n",
    "df1['KPI_3'].fillna(0, inplace=True)\n",
    "df1['KPI_4'].fillna(0, inplace=True)\n",
    "df1['KPI_5'].fillna(0, inplace=True)"
   ]
  },
  {
   "cell_type": "code",
   "execution_count": 81,
   "metadata": {
    "ExecuteTime": {
     "end_time": "2024-04-04T14:51:13.615932Z",
     "start_time": "2024-04-04T14:51:13.582116Z"
    }
   },
   "outputs": [
    {
     "data": {
      "text/html": [
       "<div>\n",
       "<style scoped>\n",
       "    .dataframe tbody tr th:only-of-type {\n",
       "        vertical-align: middle;\n",
       "    }\n",
       "\n",
       "    .dataframe tbody tr th {\n",
       "        vertical-align: top;\n",
       "    }\n",
       "\n",
       "    .dataframe thead th {\n",
       "        text-align: right;\n",
       "    }\n",
       "</style>\n",
       "<table border=\"1\" class=\"dataframe\">\n",
       "  <thead>\n",
       "    <tr style=\"text-align: right;\">\n",
       "      <th></th>\n",
       "      <th>count</th>\n",
       "      <th>mean</th>\n",
       "      <th>min</th>\n",
       "      <th>25%</th>\n",
       "      <th>50%</th>\n",
       "      <th>75%</th>\n",
       "      <th>max</th>\n",
       "      <th>std</th>\n",
       "    </tr>\n",
       "  </thead>\n",
       "  <tbody>\n",
       "    <tr>\n",
       "      <th>DATA_INIZIO</th>\n",
       "      <td>20542</td>\n",
       "      <td>2021-06-20 14:49:13.324895232</td>\n",
       "      <td>2018-01-02 00:00:00</td>\n",
       "      <td>2020-04-20 00:00:00</td>\n",
       "      <td>2021-10-08 00:00:00</td>\n",
       "      <td>2022-10-07 00:00:00</td>\n",
       "      <td>2023-10-23 00:00:00</td>\n",
       "      <td>NaN</td>\n",
       "    </tr>\n",
       "    <tr>\n",
       "      <th>DATA_FINE</th>\n",
       "      <td>20542</td>\n",
       "      <td>2021-07-02 13:06:06.273975552</td>\n",
       "      <td>2018-01-24 00:00:00</td>\n",
       "      <td>2020-05-03 00:00:00</td>\n",
       "      <td>2021-10-17 00:00:00</td>\n",
       "      <td>2022-10-16 00:00:00</td>\n",
       "      <td>2023-10-31 00:00:00</td>\n",
       "      <td>NaN</td>\n",
       "    </tr>\n",
       "    <tr>\n",
       "      <th>PREZZO_PROMO</th>\n",
       "      <td>20542.0</td>\n",
       "      <td>503.149485</td>\n",
       "      <td>19.9</td>\n",
       "      <td>199.99</td>\n",
       "      <td>379.9</td>\n",
       "      <td>699.0</td>\n",
       "      <td>6999.0</td>\n",
       "      <td>413.868576</td>\n",
       "    </tr>\n",
       "    <tr>\n",
       "      <th>PREZZO_LISTINO</th>\n",
       "      <td>20542.0</td>\n",
       "      <td>649.746478</td>\n",
       "      <td>29.9</td>\n",
       "      <td>249.99</td>\n",
       "      <td>491.06</td>\n",
       "      <td>899.9</td>\n",
       "      <td>10999.0</td>\n",
       "      <td>553.946087</td>\n",
       "    </tr>\n",
       "    <tr>\n",
       "      <th>STOCK_PZ</th>\n",
       "      <td>20542.0</td>\n",
       "      <td>708.846558</td>\n",
       "      <td>0.0</td>\n",
       "      <td>57.0</td>\n",
       "      <td>346.0</td>\n",
       "      <td>865.75</td>\n",
       "      <td>39653.0</td>\n",
       "      <td>1276.970797</td>\n",
       "    </tr>\n",
       "    <tr>\n",
       "      <th>SCONTO_PERC</th>\n",
       "      <td>20542.0</td>\n",
       "      <td>21.123469</td>\n",
       "      <td>0.0</td>\n",
       "      <td>10.943163</td>\n",
       "      <td>20.0</td>\n",
       "      <td>30.77</td>\n",
       "      <td>649.96</td>\n",
       "      <td>14.557577</td>\n",
       "    </tr>\n",
       "    <tr>\n",
       "      <th>ITEM_ID</th>\n",
       "      <td>20379.0</td>\n",
       "      <td>162814088.918396</td>\n",
       "      <td>2500554.0</td>\n",
       "      <td>156473267.0</td>\n",
       "      <td>166392251.0</td>\n",
       "      <td>173244063.0</td>\n",
       "      <td>184954193.0</td>\n",
       "      <td>15201750.624292</td>\n",
       "    </tr>\n",
       "    <tr>\n",
       "      <th>KPI_1</th>\n",
       "      <td>20542.0</td>\n",
       "      <td>0.602878</td>\n",
       "      <td>0.177862</td>\n",
       "      <td>0.490511</td>\n",
       "      <td>0.589046</td>\n",
       "      <td>0.72583</td>\n",
       "      <td>1.0</td>\n",
       "      <td>0.195516</td>\n",
       "    </tr>\n",
       "    <tr>\n",
       "      <th>KPI_2</th>\n",
       "      <td>20542.0</td>\n",
       "      <td>0.33296</td>\n",
       "      <td>0.0</td>\n",
       "      <td>0.0</td>\n",
       "      <td>0.300045</td>\n",
       "      <td>0.58823</td>\n",
       "      <td>1.0</td>\n",
       "      <td>0.331757</td>\n",
       "    </tr>\n",
       "    <tr>\n",
       "      <th>KPI_3</th>\n",
       "      <td>20542.0</td>\n",
       "      <td>0.256041</td>\n",
       "      <td>0.0</td>\n",
       "      <td>0.022993</td>\n",
       "      <td>0.158792</td>\n",
       "      <td>0.417547</td>\n",
       "      <td>1.0</td>\n",
       "      <td>0.27108</td>\n",
       "    </tr>\n",
       "    <tr>\n",
       "      <th>KPI_4</th>\n",
       "      <td>20542.0</td>\n",
       "      <td>0.501252</td>\n",
       "      <td>0.0</td>\n",
       "      <td>0.189426</td>\n",
       "      <td>0.45477</td>\n",
       "      <td>1.0</td>\n",
       "      <td>1.0</td>\n",
       "      <td>0.352674</td>\n",
       "    </tr>\n",
       "    <tr>\n",
       "      <th>KPI_5</th>\n",
       "      <td>20542.0</td>\n",
       "      <td>0.435766</td>\n",
       "      <td>0.0</td>\n",
       "      <td>0.04974</td>\n",
       "      <td>0.324215</td>\n",
       "      <td>1.0</td>\n",
       "      <td>1.0</td>\n",
       "      <td>0.394654</td>\n",
       "    </tr>\n",
       "    <tr>\n",
       "      <th>QTA</th>\n",
       "      <td>20542.0</td>\n",
       "      <td>288.093564</td>\n",
       "      <td>0.0</td>\n",
       "      <td>27.0</td>\n",
       "      <td>126.0</td>\n",
       "      <td>362.0</td>\n",
       "      <td>10456.0</td>\n",
       "      <td>472.618238</td>\n",
       "    </tr>\n",
       "    <tr>\n",
       "      <th>FATTURATO</th>\n",
       "      <td>20542.0</td>\n",
       "      <td>82765.694469</td>\n",
       "      <td>0.0</td>\n",
       "      <td>7937.2825</td>\n",
       "      <td>39710.415</td>\n",
       "      <td>106774.49</td>\n",
       "      <td>2523450.16</td>\n",
       "      <td>126914.944031</td>\n",
       "    </tr>\n",
       "    <tr>\n",
       "      <th>QTA_storico</th>\n",
       "      <td>20542.0</td>\n",
       "      <td>370.266917</td>\n",
       "      <td>0.0</td>\n",
       "      <td>12.0</td>\n",
       "      <td>107.0</td>\n",
       "      <td>405.0</td>\n",
       "      <td>20593.0</td>\n",
       "      <td>732.863992</td>\n",
       "    </tr>\n",
       "    <tr>\n",
       "      <th>FATTURATO_storico</th>\n",
       "      <td>20542.0</td>\n",
       "      <td>111239.769143</td>\n",
       "      <td>0.0</td>\n",
       "      <td>3643.9275</td>\n",
       "      <td>33954.335</td>\n",
       "      <td>126150.74</td>\n",
       "      <td>3246776.4</td>\n",
       "      <td>208149.829617</td>\n",
       "    </tr>\n",
       "    <tr>\n",
       "      <th>DURATA_VOLANTINO_IN_GIORNI</th>\n",
       "      <td>20542.0</td>\n",
       "      <td>11.928391</td>\n",
       "      <td>6.0</td>\n",
       "      <td>9.0</td>\n",
       "      <td>13.0</td>\n",
       "      <td>13.0</td>\n",
       "      <td>22.0</td>\n",
       "      <td>3.84355</td>\n",
       "    </tr>\n",
       "  </tbody>\n",
       "</table>\n",
       "</div>"
      ],
      "text/plain": [
       "                              count                           mean  \\\n",
       "DATA_INIZIO                   20542  2021-06-20 14:49:13.324895232   \n",
       "DATA_FINE                     20542  2021-07-02 13:06:06.273975552   \n",
       "PREZZO_PROMO                20542.0                     503.149485   \n",
       "PREZZO_LISTINO              20542.0                     649.746478   \n",
       "STOCK_PZ                    20542.0                     708.846558   \n",
       "SCONTO_PERC                 20542.0                      21.123469   \n",
       "ITEM_ID                     20379.0               162814088.918396   \n",
       "KPI_1                       20542.0                       0.602878   \n",
       "KPI_2                       20542.0                        0.33296   \n",
       "KPI_3                       20542.0                       0.256041   \n",
       "KPI_4                       20542.0                       0.501252   \n",
       "KPI_5                       20542.0                       0.435766   \n",
       "QTA                         20542.0                     288.093564   \n",
       "FATTURATO                   20542.0                   82765.694469   \n",
       "QTA_storico                 20542.0                     370.266917   \n",
       "FATTURATO_storico           20542.0                  111239.769143   \n",
       "DURATA_VOLANTINO_IN_GIORNI  20542.0                      11.928391   \n",
       "\n",
       "                                            min                  25%  \\\n",
       "DATA_INIZIO                 2018-01-02 00:00:00  2020-04-20 00:00:00   \n",
       "DATA_FINE                   2018-01-24 00:00:00  2020-05-03 00:00:00   \n",
       "PREZZO_PROMO                               19.9               199.99   \n",
       "PREZZO_LISTINO                             29.9               249.99   \n",
       "STOCK_PZ                                    0.0                 57.0   \n",
       "SCONTO_PERC                                 0.0            10.943163   \n",
       "ITEM_ID                               2500554.0          156473267.0   \n",
       "KPI_1                                  0.177862             0.490511   \n",
       "KPI_2                                       0.0                  0.0   \n",
       "KPI_3                                       0.0             0.022993   \n",
       "KPI_4                                       0.0             0.189426   \n",
       "KPI_5                                       0.0              0.04974   \n",
       "QTA                                         0.0                 27.0   \n",
       "FATTURATO                                   0.0            7937.2825   \n",
       "QTA_storico                                 0.0                 12.0   \n",
       "FATTURATO_storico                           0.0            3643.9275   \n",
       "DURATA_VOLANTINO_IN_GIORNI                  6.0                  9.0   \n",
       "\n",
       "                                            50%                  75%  \\\n",
       "DATA_INIZIO                 2021-10-08 00:00:00  2022-10-07 00:00:00   \n",
       "DATA_FINE                   2021-10-17 00:00:00  2022-10-16 00:00:00   \n",
       "PREZZO_PROMO                              379.9                699.0   \n",
       "PREZZO_LISTINO                           491.06                899.9   \n",
       "STOCK_PZ                                  346.0               865.75   \n",
       "SCONTO_PERC                                20.0                30.77   \n",
       "ITEM_ID                             166392251.0          173244063.0   \n",
       "KPI_1                                  0.589046              0.72583   \n",
       "KPI_2                                  0.300045              0.58823   \n",
       "KPI_3                                  0.158792             0.417547   \n",
       "KPI_4                                   0.45477                  1.0   \n",
       "KPI_5                                  0.324215                  1.0   \n",
       "QTA                                       126.0                362.0   \n",
       "FATTURATO                             39710.415            106774.49   \n",
       "QTA_storico                               107.0                405.0   \n",
       "FATTURATO_storico                     33954.335            126150.74   \n",
       "DURATA_VOLANTINO_IN_GIORNI                 13.0                 13.0   \n",
       "\n",
       "                                            max              std  \n",
       "DATA_INIZIO                 2023-10-23 00:00:00              NaN  \n",
       "DATA_FINE                   2023-10-31 00:00:00              NaN  \n",
       "PREZZO_PROMO                             6999.0       413.868576  \n",
       "PREZZO_LISTINO                          10999.0       553.946087  \n",
       "STOCK_PZ                                39653.0      1276.970797  \n",
       "SCONTO_PERC                              649.96        14.557577  \n",
       "ITEM_ID                             184954193.0  15201750.624292  \n",
       "KPI_1                                       1.0         0.195516  \n",
       "KPI_2                                       1.0         0.331757  \n",
       "KPI_3                                       1.0          0.27108  \n",
       "KPI_4                                       1.0         0.352674  \n",
       "KPI_5                                       1.0         0.394654  \n",
       "QTA                                     10456.0       472.618238  \n",
       "FATTURATO                            2523450.16    126914.944031  \n",
       "QTA_storico                             20593.0       732.863992  \n",
       "FATTURATO_storico                     3246776.4    208149.829617  \n",
       "DURATA_VOLANTINO_IN_GIORNI                 22.0          3.84355  "
      ]
     },
     "execution_count": 81,
     "metadata": {},
     "output_type": "execute_result"
    }
   ],
   "source": [
    "df1.describe().T"
   ]
  },
  {
   "cell_type": "code",
   "execution_count": 82,
   "metadata": {
    "ExecuteTime": {
     "end_time": "2024-04-04T14:51:13.620115Z",
     "start_time": "2024-04-04T14:51:13.616835Z"
    }
   },
   "outputs": [
    {
     "data": {
      "text/plain": [
       "(20542, 23)"
      ]
     },
     "execution_count": 82,
     "metadata": {},
     "output_type": "execute_result"
    }
   ],
   "source": [
    "df1.shape"
   ]
  },
  {
   "cell_type": "code",
   "execution_count": 680,
   "metadata": {
    "ExecuteTime": {
     "end_time": "2024-04-04T14:51:13.623192Z",
     "start_time": "2024-04-04T14:51:13.621307Z"
    }
   },
   "outputs": [],
   "source": [
    "#df1.to_csv('/Users/vincenzocamerlengo/Desktop/Data Science in Action/Unieuro Dataset-20240305/dati_luiss_2/dataframe_finale.csv')"
   ]
  }
 ],
 "metadata": {
  "kernelspec": {
   "display_name": "base",
   "language": "python",
   "name": "python3"
  },
  "language_info": {
   "codemirror_mode": {
    "name": "ipython",
    "version": 3
   },
   "file_extension": ".py",
   "mimetype": "text/x-python",
   "name": "python",
   "nbconvert_exporter": "python",
   "pygments_lexer": "ipython3",
   "version": "3.9.13"
  }
 },
 "nbformat": 4,
 "nbformat_minor": 2
}
