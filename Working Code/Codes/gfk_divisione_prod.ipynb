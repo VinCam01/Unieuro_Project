{
 "cells": [
  {
   "cell_type": "code",
   "execution_count": 1,
   "metadata": {},
   "outputs": [],
   "source": [
    "import pandas as pd\n",
    "import numpy as np\n",
    "import warnings\n",
    "warnings.filterwarnings(\"ignore\")\n",
    "pd.set_option('display.max_columns', None)\n",
    "\n",
    "df1 = pd.read_csv('./Working Code/Datasets/dataframe_finale.csv')\n",
    "df1.drop('Unnamed: 0', axis=1, inplace=True)\n"
   ]
  },
  {
   "cell_type": "code",
   "execution_count": 2,
   "metadata": {},
   "outputs": [],
   "source": [
    "# DELETE THE ROWS THAT HAVE A 'QTA' VALUE EQUAL TO ZERO  AND THE REMAINING NULL VALUES\n",
    "\n",
    "df1 = df1[df1['QTA']!=0]\n",
    "df1.dropna(inplace=True)"
   ]
  },
  {
   "cell_type": "code",
   "execution_count": 3,
   "metadata": {},
   "outputs": [
    {
     "data": {
      "text/plain": [
       "array(['CORE WEARABLES', 'WASHINGMACHINES FREESTANDING',\n",
       "       'MOBILE COMPUTING', 'SMARTPHONES', 'PTV/FLAT'], dtype=object)"
      ]
     },
     "execution_count": 3,
     "metadata": {},
     "output_type": "execute_result"
    }
   ],
   "source": [
    "df1['PRODUCT_GROUP'].unique()"
   ]
  },
  {
   "cell_type": "code",
   "execution_count": 4,
   "metadata": {},
   "outputs": [],
   "source": [
    "# WE DIVIDED THE FINAL DATAFRAME BY PRODUCT GROUP\n",
    "\n",
    "core_wear = df1[df1['PRODUCT_GROUP']=='CORE WEARABLES']\n",
    "wash = df1[df1['PRODUCT_GROUP']=='WASHINGMACHINES FREESTANDING']\n",
    "pc = df1[df1['PRODUCT_GROUP']=='MOBILE COMPUTING']\n",
    "smartphones = df1[df1['PRODUCT_GROUP']=='SMARTPHONES']\n",
    "tv = df1[df1['PRODUCT_GROUP']=='PTV/FLAT']"
   ]
  },
  {
   "cell_type": "code",
   "execution_count": 5,
   "metadata": {},
   "outputs": [],
   "source": [
    "gfk = pd.read_csv('./Working Code/Datasets/gfk_caratteristiche_training.csv')\n",
    "gfk = gfk.dropna()  #DROP THE ROWS THAT HAVE ONLY NULL VALUES\n",
    "gfk.replace('ND', np.nan, inplace=True)  # REPLACE 'ND' WITH NULL VALUES. WE WILL DEAL THESE VALUES LATER\n",
    "gfk.drop('CARATTERISTICA_08', axis=1, inplace=True) #DROP THIS COLUMNS BEACUSE IS COMPOSED ONLY BY NULL VALUES"
   ]
  },
  {
   "cell_type": "code",
   "execution_count": 6,
   "metadata": {},
   "outputs": [
    {
     "data": {
      "text/plain": [
       "ITEM_ID                 0\n",
       "CARATTERISTICA_01       0\n",
       "CARATTERISTICA_02       0\n",
       "CARATTERISTICA_05      77\n",
       "CARATTERISTICA_04       1\n",
       "CARATTERISTICA_03       1\n",
       "CARATTERISTICA_06     235\n",
       "CARATTERISTICA_07    1561\n",
       "dtype: int64"
      ]
     },
     "execution_count": 6,
     "metadata": {},
     "output_type": "execute_result"
    }
   ],
   "source": [
    "gfk.isnull().sum()"
   ]
  },
  {
   "cell_type": "markdown",
   "metadata": {},
   "source": [
    "# SMARTPHONES"
   ]
  },
  {
   "cell_type": "code",
   "execution_count": 8,
   "metadata": {},
   "outputs": [],
   "source": [
    "# MERGE 'smartphones' AND 'gfk' BY 'ITEM_ID' AND CREATE A NEW COLUMN 'SCONTO_PERC_MEDIO_VOLANTINO'\n",
    "\n",
    "smartphones = df1[df1['PRODUCT_GROUP']=='SMARTPHONES']\n",
    "smartphones = pd.merge(smartphones, gfk, on='ITEM_ID', how='left')\n",
    "smartphones['SCONTO_PERC_MEDIO_VOLANTINO'] = smartphones.groupby('CODICE_VOLANTINO')['SCONTO_PERC'].transform('mean')"
   ]
  },
  {
   "cell_type": "markdown",
   "metadata": {},
   "source": [
    "## CAR_01"
   ]
  },
  {
   "cell_type": "code",
   "execution_count": 9,
   "metadata": {},
   "outputs": [
    {
     "data": {
      "text/plain": [
       "array(['DISPLAY SIZE 6.1', 'DISPLAY SIZE 6.5', 'DISPLAY SIZE 5.8',\n",
       "       'DISPLAY SIZE 5.4', 'DISPLAY SIZE 6.7', nan, 'DISPLAY SIZE 4.7',\n",
       "       'DISPLAY SIZE 5.5', 'DISPLAY SIZE 6.3', 'DISPLAY SIZE 5.2',\n",
       "       'DISPLAY SIZE 6.2', 'DISPLAY SIZE 5.9', 'DISPLAY SIZE 5',\n",
       "       'DISPLAY SIZE 5.99', 'DISPLAY SIZE 5.7', 'DISPLAY SIZE 5.3',\n",
       "       'DISPLAY SIZE 6.55', 'DISPLAY SIZE 6.6', 'DISPLAY SIZE 6.53',\n",
       "       'DISPLAY SIZE 6.52', 'DISPLAY SIZE 5.84', 'DISPLAY SIZE 6.21',\n",
       "       'DISPLAY SIZE 5.93', 'DISPLAY SIZE 5.65', 'DISPLAY SIZE 6.59',\n",
       "       'DISPLAY SIZE 6.67', 'DISPLAY SIZE 6.56', 'DISPLAY SIZE 6.74',\n",
       "       'DISPLAY SIZE 6', 'DISPLAY SIZE 6.39', 'DISPLAY SIZE 5.1',\n",
       "       'DISPLAY SIZE 6.15', 'DISPLAY SIZE 6.47', 'DISPLAY SIZE 6.4',\n",
       "       'DISPLAY SIZE 5.71', 'DISPLAY SIZE 5.45', 'DISPLAY SIZE 6.09',\n",
       "       'DISPLAY SIZE 6.26', 'DISPLAY SIZE 6.28', 'DISPLAY SIZE 4',\n",
       "       'DISPLAY SIZE 6.71', 'DISPLAY SIZE 6.43', 'DISPLAY SIZE 6.72',\n",
       "       'DISPLAY SIZE 6.57', 'DISPLAY SIZE 6.62', 'DISPLAY SIZE 5.6',\n",
       "       'DISPLAY SIZE 7.6', 'DISPLAY SIZE 6.9', 'DISPLAY SIZE 6.8',\n",
       "       'DISPLAY SIZE 6.75', 'DISPLAY SIZE 6.51', 'DISPLAY SIZE 6.44',\n",
       "       'DISPLAY SIZE 6.01', 'DISPLAY SIZE 6.79', 'DISPLAY SIZE 6.58',\n",
       "       'TYPE GRAPHIC-DEVICE', 'DISPLAY SIZE 6.82', 'DISPLAY SIZE 6.22'],\n",
       "      dtype=object)"
      ]
     },
     "execution_count": 9,
     "metadata": {},
     "output_type": "execute_result"
    }
   ],
   "source": [
    "smartphones['CARATTERISTICA_01'].unique()"
   ]
  },
  {
   "cell_type": "code",
   "execution_count": 10,
   "metadata": {},
   "outputs": [],
   "source": [
    "# DELETE 'TYPE GRAPHIC-DEVICE' BEACUSE IS CLEARLY AN ERROR\n",
    "\n",
    "smartphones = smartphones[smartphones['CARATTERISTICA_01']!='TYPE GRAPHIC-DEVICE']"
   ]
  },
  {
   "cell_type": "code",
   "execution_count": 11,
   "metadata": {},
   "outputs": [],
   "source": [
    "# RENAME THE COLUMN\n",
    "\n",
    "smartphones = smartphones.rename(columns={'CARATTERISTICA_01': 'DISPLAY_SIZE'})"
   ]
  },
  {
   "cell_type": "code",
   "execution_count": 12,
   "metadata": {},
   "outputs": [],
   "source": [
    "# TAKE JUST THE FLOAT PART OF THE VALUES (EX. 'DISPLAY SIZE 6.22' --> 6.22)\n",
    "\n",
    "smartphones['DISPLAY_SIZE'] = smartphones['DISPLAY_SIZE'].str.replace('DISPLAY SIZE ', '').astype(float)"
   ]
  },
  {
   "cell_type": "code",
   "execution_count": 13,
   "metadata": {},
   "outputs": [],
   "source": [
    "# FILL NULL VALUES WITH THE MOST FREQUENT CLASS\n",
    "\n",
    "smartphones['DISPLAY_SIZE'].fillna(smartphones['DISPLAY_SIZE'].value_counts().index[0], inplace=True)"
   ]
  },
  {
   "cell_type": "markdown",
   "metadata": {},
   "source": [
    "## CAR_02"
   ]
  },
  {
   "cell_type": "code",
   "execution_count": 14,
   "metadata": {},
   "outputs": [
    {
     "data": {
      "text/plain": [
       "array(['OPERATOR SIM FREE', nan, 'OPERATOR WINDTRE', 'OPERATOR VODAFONE',\n",
       "       'OPERATOR TIM', 'OPERATOR WIND'], dtype=object)"
      ]
     },
     "execution_count": 14,
     "metadata": {},
     "output_type": "execute_result"
    }
   ],
   "source": [
    "smartphones['CARATTERISTICA_02'].unique()"
   ]
  },
  {
   "cell_type": "code",
   "execution_count": 15,
   "metadata": {},
   "outputs": [],
   "source": [
    "# RENAME THE COLUMN\n",
    "\n",
    "smartphones = smartphones.rename(columns={'CARATTERISTICA_02': 'OPERATOR'})"
   ]
  },
  {
   "cell_type": "code",
   "execution_count": 16,
   "metadata": {},
   "outputs": [],
   "source": [
    "# DELETE THE WORD 'OPERATOR'\n",
    "\n",
    "smartphones['OPERATOR'] = smartphones['OPERATOR'].str.replace('OPERATOR ', '').astype(str)"
   ]
  },
  {
   "cell_type": "code",
   "execution_count": 17,
   "metadata": {},
   "outputs": [],
   "source": [
    "# FILL NULL VALUES WITH 'SIM FREE' AND REPLACE 'WIND' WITH 'WINDTRE' BECAUSE THEY REPRESENT THE SAME OPERATOR\n",
    "\n",
    "smartphones['OPERATOR'].fillna('SIM FREE', inplace=True)\n",
    "\n",
    "smartphones['OPERATOR'].replace('WIND', 'WINDTRE', inplace=True)"
   ]
  },
  {
   "cell_type": "markdown",
   "metadata": {},
   "source": [
    "## CAR_03"
   ]
  },
  {
   "cell_type": "code",
   "execution_count": 21,
   "metadata": {},
   "outputs": [
    {
     "data": {
      "text/plain": [
       "array(['GENERATION TOTAL* 4.X G', 'GENERATION TOTAL* 5.X G', nan,\n",
       "       'CAPACITY 2716', 'CAPACITY 4100', 'CAPACITY 4130', 'CAPACITY 3000',\n",
       "       'CAPACITY 3300', 'CAPACITY 2650', 'CAPACITY 5000',\n",
       "       'GENERATION TOTAL* 3.X G', 'CAPACITY 2800', 'CAPACITY 2500',\n",
       "       'CAPACITY 3340', 'CAPACITY 4000', 'CAPACITY 3200', 'CAPACITY 3750',\n",
       "       'CAPACITY 3800', 'CAPACITY 3500', 'CAPACITY 3174', 'CAPACITY 2600',\n",
       "       'CAPACITY 3600', 'CAPACITY 2700', 'CAPACITY 1624', 'CAPACITY 2658',\n",
       "       'CAPACITY 3020', 'CAPACITY 2900', 'CAPACITY 1810', 'CAPACITY 3080',\n",
       "       'CAPACITY 2675', 'CAPACITY 2620'], dtype=object)"
      ]
     },
     "execution_count": 21,
     "metadata": {},
     "output_type": "execute_result"
    }
   ],
   "source": [
    "smartphones['CARATTERISTICA_03'].unique()"
   ]
  },
  {
   "cell_type": "markdown",
   "metadata": {},
   "source": [
    "There are errors because the values 'CAPACITY' should be in the next column. I then select all the rows that contain the word 'CAPACITY' in the 'CARATTERISTICA_03' column and then:\n",
    "\n",
    "-move the values from the 'CARATTERISTICA_04' column to the 'CARATTERISTICA_05' column\n",
    "\n",
    "-Move the values from the 'CARATTERISTICA_03' column to 'CARATTERISTICA_04' column."
   ]
  },
  {
   "cell_type": "code",
   "execution_count": 22,
   "metadata": {},
   "outputs": [],
   "source": [
    "smartphones['CARATTERISTICA_03'] = smartphones['CARATTERISTICA_03'].fillna('')\n",
    "righe_errate = smartphones[smartphones['CARATTERISTICA_03'].str.contains('CAPACITY')]\n",
    "smartphones.loc[righe_errate.index, 'CARATTERISTICA_05'] = smartphones.loc[righe_errate.index, 'CARATTERISTICA_04']\n",
    "smartphones['CARATTERISTICA_04'].replace(r'.*SIM.*', np.nan, regex=True, inplace=True)\n",
    "smartphones.loc[righe_errate.index, 'CARATTERISTICA_04'] = smartphones.loc[righe_errate.index, 'CARATTERISTICA_03']\n",
    "smartphones['CARATTERISTICA_03'].replace(r'.*CAPACITY.*', np.nan, regex=True, inplace=True)\n",
    "smartphones['CARATTERISTICA_03'].replace('', np.nan, inplace=True)"
   ]
  },
  {
   "cell_type": "code",
   "execution_count": 23,
   "metadata": {},
   "outputs": [
    {
     "data": {
      "text/plain": [
       "array(['GENERATION TOTAL* 4.X G', 'GENERATION TOTAL* 5.X G', nan,\n",
       "       'GENERATION TOTAL* 3.X G'], dtype=object)"
      ]
     },
     "execution_count": 23,
     "metadata": {},
     "output_type": "execute_result"
    }
   ],
   "source": [
    "smartphones['CARATTERISTICA_03'].unique()"
   ]
  },
  {
   "cell_type": "code",
   "execution_count": 24,
   "metadata": {},
   "outputs": [],
   "source": [
    "# RENAME THE COLUMN\n",
    "\n",
    "smartphones = smartphones.rename(columns={'CARATTERISTICA_03': 'GENERATION'})"
   ]
  },
  {
   "cell_type": "code",
   "execution_count": 25,
   "metadata": {},
   "outputs": [],
   "source": [
    "# WE DEFINED A FUNCTION TO EXTRACT ONLY THE NUMBER (EX. 'GENERATION TOTAL* 4.X G' --> 4)\n",
    "\n",
    "import re\n",
    "\n",
    "def estrai_numero(testo):\n",
    "    if isinstance(testo, str): \n",
    "        match = re.search(r'\\d+\\.*\\d*', testo)\n",
    "        if match:\n",
    "            return float(match.group())\n",
    "    return np.nan  \n",
    "\n",
    "smartphones['GENERATION'] = smartphones['GENERATION'].apply(estrai_numero)\n"
   ]
  },
  {
   "cell_type": "code",
   "execution_count": 26,
   "metadata": {},
   "outputs": [],
   "source": [
    "# FILL NULL VALUES WITH THE MOST FREQUENT CLASS\n",
    "\n",
    "smartphones['GENERATION'].fillna(smartphones['GENERATION'].value_counts().index[0], inplace=True)"
   ]
  },
  {
   "cell_type": "markdown",
   "metadata": {},
   "source": [
    "## CAR_04"
   ]
  },
  {
   "cell_type": "code",
   "execution_count": 27,
   "metadata": {},
   "outputs": [
    {
     "data": {
      "text/plain": [
       "array(['CAPACITY 3110', 'CAPACITY 3046', 'CAPACITY 3969', 'CAPACITY 3190',\n",
       "       'CAPACITY 2815', 'CAPACITY 2227', 'CAPACITY 3687', 'CAPACITY 3240',\n",
       "       'CAPACITY 2438', 'CAPACITY 4352', nan, 'CAPACITY 3095',\n",
       "       'CAPACITY 3279', 'CAPACITY 4323', 'CAPACITY 3200', 'CAPACITY 3349',\n",
       "       'CAPACITY 4383', 'CAPACITY 2018', 'CAPACITY 1821', 'CAPACITY 2716',\n",
       "       'CAPACITY 4000', 'CAPACITY 5000', 'CAPACITY 4100', 'CAPACITY 4130',\n",
       "       'CAPACITY 3000', 'CAPACITY 3300', 'CAPACITY 2650', 'CAPACITY 2000',\n",
       "       'CAPACITY 2800', 'CAPACITY 2200', 'CAPACITY 4385', 'CAPACITY 4575',\n",
       "       'CAPACITY 5050', 'CAPACITY 2500', 'CAPACITY 3500', 'CAPACITY 3400',\n",
       "       'CAPACITY 3100', 'CAPACITY 3700', 'CAPACITY 4500', 'CAPACITY 3340',\n",
       "       'CAPACITY 5100', 'CAPACITY 5200', 'CAPACITY 4200', 'CAPACITY 4300',\n",
       "       'CAPACITY 3750', 'CAPACITY 3650', 'CAPACITY 3020', 'CAPACITY 4020',\n",
       "       'CAPACITY 3800', 'CAPACITY 2942', 'CAPACITY 3174', 'CAPACITY 4820',\n",
       "       'CAPACITY 5260', 'CAPACITY 5020', 'CAPACITY 4230', 'CAPACITY 4040',\n",
       "       'CAPACITY 4025', 'CAPACITY 4800', 'CAPACITY 4035', 'CAPACITY 4400',\n",
       "       'CAPACITY 2600', 'CAPACITY 3600', 'CAPACITY 3900', 'CAPACITY 4700',\n",
       "       'CAPACITY 2700', 'CAPACITY 5010', 'CAPACITY 1624', 'CAPACITY 2658',\n",
       "       'CAPACITY 2900', 'CAPACITY 1810', 'CAPACITY 4250', 'CAPACITY 4160',\n",
       "       'CAPACITY 3080', 'CAPACITY 4030', 'CAPACITY 6000', 'CAPACITY 2675',\n",
       "       'CAPACITY 2750', 'CAPACITY 4310', 'CAPACITY 4520', 'CAPACITY 5160',\n",
       "       'CAPACITY 2620', 'CAPACITY 2020'], dtype=object)"
      ]
     },
     "execution_count": 27,
     "metadata": {},
     "output_type": "execute_result"
    }
   ],
   "source": [
    "smartphones['CARATTERISTICA_04'].unique()"
   ]
  },
  {
   "cell_type": "code",
   "execution_count": 28,
   "metadata": {},
   "outputs": [],
   "source": [
    "# RENAME THE COLUMN\n",
    "\n",
    "smartphones = smartphones.rename(columns={'CARATTERISTICA_04': 'CAPACITY'})"
   ]
  },
  {
   "cell_type": "code",
   "execution_count": 29,
   "metadata": {},
   "outputs": [],
   "source": [
    "# TAKE JUST THE INTEGER PART OF THE VALUES (EX. 'CAPACITY 4310' --> 4310)\n",
    "\n",
    "smartphones['CAPACITY'] = smartphones['CAPACITY'].str.replace('CAPACITY ', '').astype(float)"
   ]
  },
  {
   "cell_type": "code",
   "execution_count": 30,
   "metadata": {},
   "outputs": [],
   "source": [
    "# FILL NULL VALUES WITH THE MOST FREQUENT CLASS\n",
    "\n",
    "smartphones['CAPACITY'].fillna(smartphones['CAPACITY'].value_counts().index[0], inplace=True)"
   ]
  },
  {
   "cell_type": "markdown",
   "metadata": {},
   "source": [
    "## CAR_05"
   ]
  },
  {
   "cell_type": "code",
   "execution_count": 31,
   "metadata": {},
   "outputs": [
    {
     "data": {
      "text/plain": [
       "array(['SIM CARD 1SIM SLOT +ESIM', nan, 'SIM CARD 1SIM SLOT',\n",
       "       'SIM CARD 2SIM SLOTS', 'SIM CARD 2SIM SLOTS+ESIM'], dtype=object)"
      ]
     },
     "execution_count": 31,
     "metadata": {},
     "output_type": "execute_result"
    }
   ],
   "source": [
    "smartphones['CARATTERISTICA_05'].unique()"
   ]
  },
  {
   "cell_type": "code",
   "execution_count": 32,
   "metadata": {},
   "outputs": [],
   "source": [
    "# RENAME THE COLUMN\n",
    "\n",
    "smartphones = smartphones.rename(columns={'CARATTERISTICA_05': 'NUMBER_OF_SIM'})"
   ]
  },
  {
   "cell_type": "code",
   "execution_count": 33,
   "metadata": {},
   "outputs": [],
   "source": [
    "# REPLACE WITH THE NUMBER OF SIM AND ESIM \n",
    "\n",
    "smartphones['NUMBER_OF_SIM'].replace('SIM CARD 1SIM SLOT +ESIM', 2, inplace=True)\n",
    "smartphones['NUMBER_OF_SIM'].replace('SIM CARD 1SIM SLOT', 1, inplace=True)\n",
    "smartphones['NUMBER_OF_SIM'].replace('SIM CARD 2SIM SLOTS', 2, inplace=True)\n",
    "smartphones['NUMBER_OF_SIM'].replace('SIM CARD 2SIM SLOTS+ESIM', 3, inplace=True)"
   ]
  },
  {
   "cell_type": "code",
   "execution_count": 34,
   "metadata": {},
   "outputs": [],
   "source": [
    "# FILL NULL VALUES WITH THE MOST FREQUENT CLASS\n",
    "\n",
    "smartphones['NUMBER_OF_SIM'].fillna(smartphones['NUMBER_OF_SIM'].value_counts().index[0], inplace=True)"
   ]
  },
  {
   "cell_type": "markdown",
   "metadata": {},
   "source": [
    "## CAR_06"
   ]
  },
  {
   "cell_type": "code",
   "execution_count": 35,
   "metadata": {},
   "outputs": [
    {
     "data": {
      "text/plain": [
       "array(['OPERATING SYST. IOS', nan, 'OPERATING SYST. ANDROID'],\n",
       "      dtype=object)"
      ]
     },
     "execution_count": 35,
     "metadata": {},
     "output_type": "execute_result"
    }
   ],
   "source": [
    "smartphones['CARATTERISTICA_06'].unique()"
   ]
  },
  {
   "cell_type": "code",
   "execution_count": 36,
   "metadata": {},
   "outputs": [],
   "source": [
    "# RENAME THE COLUMN\n",
    "\n",
    "smartphones = smartphones.rename(columns={'CARATTERISTICA_06': 'OPERATING_SYST'})"
   ]
  },
  {
   "cell_type": "code",
   "execution_count": 37,
   "metadata": {},
   "outputs": [],
   "source": [
    "# DELETE 'OPERATOR SYST. ' IN ORDER TO HAVE JUST 'IOS' OR 'ANDROID'\n",
    "\n",
    "smartphones['OPERATING_SYST'] = smartphones['OPERATING_SYST'].str.replace('OPERATING SYST. ', '')"
   ]
  },
  {
   "cell_type": "code",
   "execution_count": 38,
   "metadata": {},
   "outputs": [],
   "source": [
    "# FILL NULL VALUES WITH 'IOS' IF 'ART_COD' STARTS WITH 'APL', OTHERWHISE 'ANDROID'\n",
    "\n",
    "def sostituisci_nan(row):\n",
    "    if pd.isnull(row['OPERATING_SYST']):  \n",
    "        if row['ART_COD'].startswith('APL'):  \n",
    "            return 'IOS'\n",
    "        else:\n",
    "            return 'ANDROID'\n",
    "    else:\n",
    "        return row['OPERATING_SYST']  \n",
    "\n",
    "\n",
    "smartphones['OPERATING_SYST'] = smartphones.apply(sostituisci_nan, axis=1)"
   ]
  },
  {
   "cell_type": "markdown",
   "metadata": {},
   "source": [
    "## CAR_07"
   ]
  },
  {
   "cell_type": "code",
   "execution_count": 39,
   "metadata": {},
   "outputs": [],
   "source": [
    "# THIS COLUMN IS EMPTY\n",
    "\n",
    "smartphones.drop('CARATTERISTICA_07', axis=1, inplace = True)"
   ]
  },
  {
   "cell_type": "code",
   "execution_count": 484,
   "metadata": {},
   "outputs": [],
   "source": [
    "#smartphones.to_csv('/Users/vincenzocamerlengo/Desktop/Data Science in Action/Unieuro Dataset-20240305/dati_luiss_2/smartphones.csv')"
   ]
  },
  {
   "cell_type": "markdown",
   "metadata": {},
   "source": [
    "# CORE WEAR"
   ]
  },
  {
   "cell_type": "code",
   "execution_count": 40,
   "metadata": {},
   "outputs": [],
   "source": [
    "# MERGE 'core_wear' AND 'gfk' BY 'ITEM_ID' AND CREATE A NEW COLUMN 'SCONTO_PERC_MEDIO_VOLANTINO'\n",
    "\n",
    "core_wear = df1[df1['PRODUCT_GROUP']=='CORE WEARABLES']\n",
    "core_wear = pd.merge(core_wear, gfk, on='ITEM_ID', how='left')\n",
    "core_wear['SCONTO_PERC_MEDIO_VOLANTINO'] = core_wear.groupby('CODICE_VOLANTINO')['SCONTO_PERC'].transform('mean')"
   ]
  },
  {
   "cell_type": "markdown",
   "metadata": {},
   "source": [
    "## CAR_01"
   ]
  },
  {
   "cell_type": "code",
   "execution_count": 41,
   "metadata": {},
   "outputs": [
    {
     "data": {
      "text/plain": [
       "array(['CATEGORY SMARTWATCHES NO SIM', 'CATEGORY WRIST SPORT COMPUTER',\n",
       "       nan, 'CATEGORY SMARTWATCHES SIM',\n",
       "       'CATEGORY HEALTH AND FITNESS TRACKER'], dtype=object)"
      ]
     },
     "execution_count": 41,
     "metadata": {},
     "output_type": "execute_result"
    }
   ],
   "source": [
    "core_wear['CARATTERISTICA_01'].unique()"
   ]
  },
  {
   "cell_type": "code",
   "execution_count": 42,
   "metadata": {},
   "outputs": [],
   "source": [
    "# RENAME THE COLUMN\n",
    "\n",
    "core_wear = core_wear.rename(columns={'CARATTERISTICA_01': 'CATEGORY'})"
   ]
  },
  {
   "cell_type": "code",
   "execution_count": 43,
   "metadata": {},
   "outputs": [],
   "source": [
    "# REMOVE THE WORD 'CATEGORY'\n",
    "\n",
    "core_wear['CATEGORY'] = core_wear['CATEGORY'].str.replace('CATEGORY ', '')"
   ]
  },
  {
   "cell_type": "code",
   "execution_count": 44,
   "metadata": {},
   "outputs": [],
   "source": [
    "# FILL THE NULL VALUES WITH A NEW CLASS, CALLED 'NOT DEFINED'\n",
    "\n",
    "core_wear['CATEGORY'].replace(np.nan, 'NOT DEFINED', inplace=True)"
   ]
  },
  {
   "cell_type": "markdown",
   "metadata": {},
   "source": [
    "## CAR_02"
   ]
  },
  {
   "cell_type": "code",
   "execution_count": 45,
   "metadata": {},
   "outputs": [
    {
     "data": {
      "text/plain": [
       "array(['DISPLAY TECHNOL OLED-DISPLAY', 'DISPLAY TECHNOL LCD-DISPLAY', nan,\n",
       "       'DISPLAY TECHNOL ELECTRONIC INK'], dtype=object)"
      ]
     },
     "execution_count": 45,
     "metadata": {},
     "output_type": "execute_result"
    }
   ],
   "source": [
    "core_wear['CARATTERISTICA_02'].unique()"
   ]
  },
  {
   "cell_type": "code",
   "execution_count": 46,
   "metadata": {},
   "outputs": [],
   "source": [
    "# RENAME THE COLUMN\n",
    "\n",
    "core_wear = core_wear.rename(columns={'CARATTERISTICA_02': 'DISPLAY_QUALITY'})"
   ]
  },
  {
   "cell_type": "code",
   "execution_count": 47,
   "metadata": {},
   "outputs": [],
   "source": [
    "# REMOVE THE WORD 'DISPLAY TECHNOL '\n",
    "\n",
    "core_wear['DISPLAY_QUALITY'] = core_wear['DISPLAY_QUALITY'].str.replace('DISPLAY TECHNOL ', '')"
   ]
  },
  {
   "cell_type": "code",
   "execution_count": 48,
   "metadata": {},
   "outputs": [],
   "source": [
    "# FILL THE NULL VALUES WITH A NEW CLASS, CALLED 'NOT DEFINED'\n",
    "\n",
    "core_wear['DISPLAY_QUALITY'].replace(np.nan, 'NOT DEFINED', inplace=True)"
   ]
  },
  {
   "cell_type": "markdown",
   "metadata": {},
   "source": [
    "## CAR_03"
   ]
  },
  {
   "cell_type": "code",
   "execution_count": 49,
   "metadata": {},
   "outputs": [
    {
     "data": {
      "text/plain": [
       "array(['DISPLAY SIZE 1.47', 'DISPLAY SIZE 1.69', 'DISPLAY SIZE 1.28',\n",
       "       'DISPLAY SIZE 1.43', 'DISPLAY SIZE 1.39', nan, 'DISPLAY SIZE 1.45',\n",
       "       'DISPLAY SIZE 1.2', 'DISPLAY SIZE 1.65', 'DISPLAY SIZE 1.55',\n",
       "       'DISPLAY SIZE 1.75', 'DISPLAY SIZE 1.3', 'DISPLAY SIZE 1.57',\n",
       "       'DISPLAY SIZE 1.78', 'DISPLAY SIZE 1.5', 'DISPLAY SIZE 1.9',\n",
       "       'DISPLAY SIZE 1.92', 'DISPLAY SIZE UNKNOWN', 'DISPLAY SIZE 1.54',\n",
       "       'DISPLAY SIZE 1.04', 'DISPLAY SIZE 1.58', 'DISPLAY SIZE 1.32',\n",
       "       'DISPLAY SIZE 1.38', 'DISPLAY SIZE 0.73', 'DISPLAY SIZE 0.95',\n",
       "       'DISPLAY SIZE 1.74', 'DISPLAY SIZE 1.64', 'DISPLAY SIZE 1.1',\n",
       "       'DISPLAY SIZE 1.83', 'DISPLAY SIZE 1.4', 'DISPLAY SIZE 1.19',\n",
       "       'DISPLAY SIZE 1.62', 'DISPLAY SIZE 0.9', 'DISPLAY SIZE 1.41',\n",
       "       'DISPLAY SIZE 0.74', 'DISPLAY SIZE 0.42', 'DISPLAY SIZE 0.78',\n",
       "       'DISPLAY SIZE 1.56'], dtype=object)"
      ]
     },
     "execution_count": 49,
     "metadata": {},
     "output_type": "execute_result"
    }
   ],
   "source": [
    "core_wear['CARATTERISTICA_03'].unique()"
   ]
  },
  {
   "cell_type": "code",
   "execution_count": 50,
   "metadata": {},
   "outputs": [],
   "source": [
    "# RENAME THE COLUMN\n",
    "\n",
    "core_wear = core_wear.rename(columns={'CARATTERISTICA_03': 'DISPLAY_SIZE'})"
   ]
  },
  {
   "cell_type": "code",
   "execution_count": 51,
   "metadata": {},
   "outputs": [],
   "source": [
    "# REPLACE 'DISPLAY SIZE UNKNOWN' WITH NULL VALUE\n",
    "\n",
    "core_wear['DISPLAY_SIZE'].replace('DISPLAY SIZE UNKNOWN', np.nan, inplace=True)"
   ]
  },
  {
   "cell_type": "code",
   "execution_count": 52,
   "metadata": {},
   "outputs": [],
   "source": [
    "# TAKE JUST THE FLOAT PART OF THE VALUES (EX. 'DISPLAY SIZE 1.74' --> 1.74)\n",
    "\n",
    "core_wear['DISPLAY_SIZE'] = core_wear['DISPLAY_SIZE'].str.replace('DISPLAY SIZE ', '').astype(float)"
   ]
  },
  {
   "cell_type": "code",
   "execution_count": 53,
   "metadata": {},
   "outputs": [],
   "source": [
    "# FILL NULL VALUES WITH THE MOST FREQUENT CLASS\n",
    "\n",
    "core_wear['DISPLAY_SIZE'].fillna(core_wear['DISPLAY_SIZE'].value_counts().index[0], inplace=True)"
   ]
  },
  {
   "cell_type": "markdown",
   "metadata": {},
   "source": [
    "## CAR_04"
   ]
  },
  {
   "cell_type": "code",
   "execution_count": 54,
   "metadata": {},
   "outputs": [
    {
     "data": {
      "text/plain": [
       "array(['WIFI NO', nan, 'WIFI YES'], dtype=object)"
      ]
     },
     "execution_count": 54,
     "metadata": {},
     "output_type": "execute_result"
    }
   ],
   "source": [
    "core_wear['CARATTERISTICA_04'].unique()"
   ]
  },
  {
   "cell_type": "code",
   "execution_count": 55,
   "metadata": {},
   "outputs": [],
   "source": [
    "# RENAME THE COLUMN\n",
    "\n",
    "core_wear = core_wear.rename(columns={'CARATTERISTICA_04': 'WIFI'})"
   ]
  },
  {
   "cell_type": "code",
   "execution_count": 56,
   "metadata": {},
   "outputs": [],
   "source": [
    "# REPLACE 'WIFI NO' AND NULL VALUES WITH 0 AND 'WIFI YES' WITH 1\n",
    "\n",
    "core_wear['WIFI'].replace(np.nan, 0, inplace=True)\n",
    "core_wear['WIFI'].replace('WIFI NO', 0, inplace=True)\n",
    "core_wear['WIFI'].replace('WIFI YES', 1, inplace=True)"
   ]
  },
  {
   "cell_type": "markdown",
   "metadata": {},
   "source": [
    "## CAR_05"
   ]
  },
  {
   "cell_type": "code",
   "execution_count": 57,
   "metadata": {},
   "outputs": [
    {
     "data": {
      "text/plain": [
       "array(['BLUETOOTH WITH BLUETOOTH', nan], dtype=object)"
      ]
     },
     "execution_count": 57,
     "metadata": {},
     "output_type": "execute_result"
    }
   ],
   "source": [
    "core_wear['CARATTERISTICA_05'].unique()"
   ]
  },
  {
   "cell_type": "code",
   "execution_count": 58,
   "metadata": {},
   "outputs": [],
   "source": [
    "# RENAME THE COLUMN\n",
    "\n",
    "core_wear = core_wear.rename(columns={'CARATTERISTICA_05': 'BLUETOOTH'})"
   ]
  },
  {
   "cell_type": "code",
   "execution_count": 59,
   "metadata": {},
   "outputs": [],
   "source": [
    "# REPLACE NULL VALUES WITH 0 AND 'BLUETOOTH WITH BLUETOOTH' WITH 1\n",
    "\n",
    "core_wear['BLUETOOTH'].replace(np.nan, 0, inplace=True)\n",
    "core_wear['BLUETOOTH'].replace('BLUETOOTH WITH BLUETOOTH', 1, inplace=True)"
   ]
  },
  {
   "cell_type": "markdown",
   "metadata": {},
   "source": [
    "## CAR_06 & CAR_07"
   ]
  },
  {
   "cell_type": "code",
   "execution_count": 60,
   "metadata": {},
   "outputs": [],
   "source": [
    "# THESE TWO COLUMNS ARE EMPTY\n",
    "\n",
    "core_wear.drop(['CARATTERISTICA_06', 'CARATTERISTICA_07'], axis=1, inplace=True)"
   ]
  },
  {
   "cell_type": "code",
   "execution_count": 507,
   "metadata": {},
   "outputs": [],
   "source": [
    "#core_wear.to_csv('/Users/vincenzocamerlengo/Desktop/Data Science in Action/Unieuro Dataset-20240305/dati_luiss_2/core_wear.csv')"
   ]
  },
  {
   "cell_type": "markdown",
   "metadata": {},
   "source": [
    "# WASH"
   ]
  },
  {
   "cell_type": "code",
   "execution_count": 61,
   "metadata": {},
   "outputs": [],
   "source": [
    "# MERGE 'wash' AND 'gfk' BY 'ITEM_ID' AND CREATE A NEW COLUMN 'SCONTO_PERC_MEDIO_VOLANTINO'\n",
    "\n",
    "wash = df1[df1['PRODUCT_GROUP']=='WASHINGMACHINES FREESTANDING']\n",
    "wash = pd.merge(wash, gfk, on='ITEM_ID', how='left')\n",
    "wash['SCONTO_PERC_MEDIO_VOLANTINO'] = wash.groupby('CODICE_VOLANTINO')['SCONTO_PERC'].transform('mean')"
   ]
  },
  {
   "cell_type": "markdown",
   "metadata": {},
   "source": [
    "## CAR_01"
   ]
  },
  {
   "cell_type": "code",
   "execution_count": 62,
   "metadata": {},
   "outputs": [
    {
     "data": {
      "text/plain": [
       "array(['MAIN TYPES FULLAUTOMATIC', nan, 'MAIN TYPES WASHDRYER',\n",
       "       'CONSTR.2 BUILT IN/UNDER', 'TYPE OF HOOD CHIMNEY/DECORAT'],\n",
       "      dtype=object)"
      ]
     },
     "execution_count": 62,
     "metadata": {},
     "output_type": "execute_result"
    }
   ],
   "source": [
    "wash['CARATTERISTICA_01'].unique()"
   ]
  },
  {
   "cell_type": "code",
   "execution_count": 63,
   "metadata": {},
   "outputs": [],
   "source": [
    "# DELETE 'TYPE OF HOOD CHIMNEY/DECORAT' AND 'CONSTR.2 BUILT IN/UNDER' BEACUSE ARE CLEARLY ERRORS\n",
    "\n",
    "wash = wash[(wash['CARATTERISTICA_01']!='TYPE OF HOOD CHIMNEY/DECORAT') & (wash['CARATTERISTICA_01']!='CONSTR.2 BUILT IN/UNDER')]"
   ]
  },
  {
   "cell_type": "code",
   "execution_count": 64,
   "metadata": {},
   "outputs": [],
   "source": [
    "# RENAME THE COLUMN\n",
    "\n",
    "wash = wash.rename(columns={'CARATTERISTICA_01': 'TYPE'})"
   ]
  },
  {
   "cell_type": "code",
   "execution_count": 65,
   "metadata": {},
   "outputs": [],
   "source": [
    "# REPLACE 'MAIN TYPES WASHDRYER' WITH 0 AND 'MAIN TYPES FULLAUTOMATIC' WITH 1. THEN FILL NULL VALUES WITH THE MOST FREQUENT CLASS\n",
    "\n",
    "wash['TYPE'].replace('MAIN TYPES FULLAUTOMATIC', 1, inplace=True)\n",
    "wash['TYPE'].replace('MAIN TYPES WASHDRYER', 0, inplace=True)\n",
    "wash['TYPE'].fillna(wash['TYPE'].value_counts().index[0], inplace=True)"
   ]
  },
  {
   "cell_type": "markdown",
   "metadata": {},
   "source": [
    "## CAR_02"
   ]
  },
  {
   "cell_type": "code",
   "execution_count": 66,
   "metadata": {},
   "outputs": [
    {
     "data": {
      "text/plain": [
       "array(['LOADING FRONTLOADING', nan, 'LOADING TOPLOADING'], dtype=object)"
      ]
     },
     "execution_count": 66,
     "metadata": {},
     "output_type": "execute_result"
    }
   ],
   "source": [
    "wash['CARATTERISTICA_02'].unique()"
   ]
  },
  {
   "cell_type": "code",
   "execution_count": 67,
   "metadata": {},
   "outputs": [],
   "source": [
    "# RENAME THE COLUMN\n",
    "\n",
    "wash = wash.rename(columns={'CARATTERISTICA_02': 'TOPLOADING'})"
   ]
  },
  {
   "cell_type": "code",
   "execution_count": 68,
   "metadata": {},
   "outputs": [],
   "source": [
    "# REPLACE 'LOADING FRONTLOADING' WITH 0 AND 'LOADING TOPLOADING' WITH 1. THEN FILL NULL VALUES WITH THE MOST FREQUENT CLASS\n",
    "\n",
    "wash['TOPLOADING'].replace('LOADING TOPLOADING', 1, inplace=True)\n",
    "wash['TOPLOADING'].replace('LOADING FRONTLOADING', 0, inplace=True)\n",
    "wash['TOPLOADING'].fillna(wash['TOPLOADING'].value_counts().index[0], inplace=True)"
   ]
  },
  {
   "cell_type": "markdown",
   "metadata": {},
   "source": [
    "## CAR_03"
   ]
  },
  {
   "cell_type": "code",
   "execution_count": 69,
   "metadata": {},
   "outputs": [
    {
     "data": {
      "text/plain": [
       "array(['DEPTH IN CM STANDARD > 48 CM', nan, 'DEPTH IN CM SLIM <= 48 CM'],\n",
       "      dtype=object)"
      ]
     },
     "execution_count": 69,
     "metadata": {},
     "output_type": "execute_result"
    }
   ],
   "source": [
    "wash['CARATTERISTICA_03'].unique()"
   ]
  },
  {
   "cell_type": "code",
   "execution_count": 70,
   "metadata": {},
   "outputs": [],
   "source": [
    "# RENAME THE COLUMN\n",
    "\n",
    "wash = wash.rename(columns={'CARATTERISTICA_03': 'DEPTH_CM>48'})"
   ]
  },
  {
   "cell_type": "code",
   "execution_count": 71,
   "metadata": {},
   "outputs": [],
   "source": [
    "# REPLACE 'DEPTH IN CM SLIM <= 48 CM' WITH 0 AND 'DEPTH IN CM STANDARD > 48 CM' WITH 1. THEN FILL NULL VALUES WITH THE MOST FREQUENT CLASS\n",
    "\n",
    "wash['DEPTH_CM>48'].replace('DEPTH IN CM STANDARD > 48 CM', 1, inplace=True)\n",
    "wash['DEPTH_CM>48'].replace('DEPTH IN CM SLIM <= 48 CM', 0, inplace=True)\n",
    "wash['DEPTH_CM>48'].fillna(wash['DEPTH_CM>48'].value_counts().index[0], inplace=True)"
   ]
  },
  {
   "cell_type": "markdown",
   "metadata": {},
   "source": [
    "## CAR_04"
   ]
  },
  {
   "cell_type": "code",
   "execution_count": 72,
   "metadata": {},
   "outputs": [
    {
     "data": {
      "text/plain": [
       "array(['21EN.EFF.CLASS A', '21EN.EFF.CLASS D', nan, '21EN.EFF.CLASS N.A.',\n",
       "       '21EN.EFF.CLASS C', 'ENERGY LABEL EU A+++',\n",
       "       '21EN.EFF.CLASS UNKNOWN', '21EN.EFF.CLASS B', '21EN.EFF.CLASS E',\n",
       "       'ENERGY LABEL EU A', '21EN.EFF.CLASS F', 'ENERGY LABEL EU A++'],\n",
       "      dtype=object)"
      ]
     },
     "execution_count": 72,
     "metadata": {},
     "output_type": "execute_result"
    }
   ],
   "source": [
    "wash['CARATTERISTICA_04'].unique()"
   ]
  },
  {
   "cell_type": "code",
   "execution_count": 73,
   "metadata": {},
   "outputs": [],
   "source": [
    "# RENAME THE COLUMN\n",
    "\n",
    "wash = wash.rename(columns={'CARATTERISTICA_04': 'ENERGY_CLASS'})"
   ]
  },
  {
   "cell_type": "code",
   "execution_count": 74,
   "metadata": {},
   "outputs": [],
   "source": [
    "# REPLACE '21EN.EFF.CLASS N.A.' AND '21EN.EFF.CLASS UNKNOWN' WITH NULL VALUE\n",
    "\n",
    "wash['ENERGY_CLASS'].replace('21EN.EFF.CLASS N.A.', np.nan, inplace=True)\n",
    "wash['ENERGY_CLASS'].replace('21EN.EFF.CLASS UNKNOWN', np.nan, inplace=True)"
   ]
  },
  {
   "cell_type": "code",
   "execution_count": 75,
   "metadata": {},
   "outputs": [
    {
     "data": {
      "text/plain": [
       "array(['21EN.EFF.CLASS A', '21EN.EFF.CLASS D', nan, '21EN.EFF.CLASS C',\n",
       "       'ENERGY LABEL EU A+++', '21EN.EFF.CLASS B', '21EN.EFF.CLASS E',\n",
       "       'ENERGY LABEL EU A', '21EN.EFF.CLASS F', 'ENERGY LABEL EU A++'],\n",
       "      dtype=object)"
      ]
     },
     "execution_count": 75,
     "metadata": {},
     "output_type": "execute_result"
    }
   ],
   "source": [
    "wash['ENERGY_CLASS'].unique()"
   ]
  },
  {
   "cell_type": "code",
   "execution_count": 76,
   "metadata": {},
   "outputs": [],
   "source": [
    "# REPLACE EACH STRING WITH A NUMBER, ACCORDING TO THEIR ENERGY CLASS\n",
    "\n",
    "wash['ENERGY_CLASS'].replace('21EN.EFF.CLASS F', 1, inplace=True)\n",
    "wash['ENERGY_CLASS'].replace('21EN.EFF.CLASS E', 2, inplace=True)\n",
    "wash['ENERGY_CLASS'].replace('21EN.EFF.CLASS D', 3, inplace=True)\n",
    "wash['ENERGY_CLASS'].replace('21EN.EFF.CLASS C', 4, inplace=True)\n",
    "wash['ENERGY_CLASS'].replace('21EN.EFF.CLASS B', 5, inplace=True)\n",
    "wash['ENERGY_CLASS'].replace('21EN.EFF.CLASS A', 6, inplace=True)\n",
    "wash['ENERGY_CLASS'].replace('ENERGY LABEL EU A', 3, inplace=True)\n",
    "wash['ENERGY_CLASS'].replace('ENERGY LABEL EU A++', 5, inplace=True)\n",
    "wash['ENERGY_CLASS'].replace('ENERGY LABEL EU A+++', 6, inplace=True)"
   ]
  },
  {
   "cell_type": "code",
   "execution_count": 77,
   "metadata": {},
   "outputs": [],
   "source": [
    "# FILL NULL VALUES WITH THE MOST FREQUENT CLASS\n",
    "\n",
    "wash['ENERGY_CLASS'].fillna(wash['ENERGY_CLASS'].value_counts().index[0], inplace=True)"
   ]
  },
  {
   "cell_type": "markdown",
   "metadata": {},
   "source": [
    "## CAR_05"
   ]
  },
  {
   "cell_type": "code",
   "execution_count": 78,
   "metadata": {},
   "outputs": [
    {
     "data": {
      "text/plain": [
       "array(['LOADING KG 10', 'LOADING KG 8', nan, 'LOADING KG 9',\n",
       "       'LOADING KG 7', 'LOADING KG 6', 'LOADING KG 8.5', 'LOADING KG 12',\n",
       "       'LOADING KG 10.5', 'LOADING KG 11', 'LOADING KG 6.5',\n",
       "       'LOADING KG 14', 'LOADING KG 5'], dtype=object)"
      ]
     },
     "execution_count": 78,
     "metadata": {},
     "output_type": "execute_result"
    }
   ],
   "source": [
    "wash['CARATTERISTICA_05'].unique()"
   ]
  },
  {
   "cell_type": "code",
   "execution_count": 79,
   "metadata": {},
   "outputs": [],
   "source": [
    "# RENAME THE COLUMN\n",
    "\n",
    "wash = wash.rename(columns={'CARATTERISTICA_05': 'LOADING_KG'})"
   ]
  },
  {
   "cell_type": "code",
   "execution_count": 80,
   "metadata": {},
   "outputs": [],
   "source": [
    "# TAKE JUST THE FLOAT PART OF THE VALUES (EX. 'LOADING KG 8.5' --> 8.5)\n",
    "\n",
    "wash['LOADING_KG'] = wash['LOADING_KG'].str.replace('LOADING KG ', '').astype(float)"
   ]
  },
  {
   "cell_type": "code",
   "execution_count": 81,
   "metadata": {},
   "outputs": [],
   "source": [
    "# FILL NULL VALUES WITH THE MOST FREQUENT CLASS\n",
    "\n",
    "wash['LOADING_KG'].fillna(wash['LOADING_KG'].value_counts().index[0], inplace=True)"
   ]
  },
  {
   "cell_type": "markdown",
   "metadata": {},
   "source": [
    "## CAR_06"
   ]
  },
  {
   "cell_type": "code",
   "execution_count": 82,
   "metadata": {},
   "outputs": [
    {
     "data": {
      "text/plain": [
       "array(['SMART CONNECT NO', nan, 'SMART CONNECT SMART CONNECT'],\n",
       "      dtype=object)"
      ]
     },
     "execution_count": 82,
     "metadata": {},
     "output_type": "execute_result"
    }
   ],
   "source": [
    "wash['CARATTERISTICA_06'].unique()"
   ]
  },
  {
   "cell_type": "code",
   "execution_count": 83,
   "metadata": {},
   "outputs": [],
   "source": [
    "# RENAME THE COLUMN\n",
    "\n",
    "wash = wash.rename(columns={'CARATTERISTICA_06': 'SMART_CONNECT'})"
   ]
  },
  {
   "cell_type": "code",
   "execution_count": 84,
   "metadata": {},
   "outputs": [],
   "source": [
    "# REPLACE 'SMART CONNECT NO' AND NULL VALUES WITH 0 AND 'SMART CONNECT SMART CONNECT' WITH 1\n",
    "\n",
    "wash['SMART_CONNECT'].replace(np.nan, 0, inplace=True)\n",
    "wash['SMART_CONNECT'].replace('SMART CONNECT NO', 0, inplace=True)\n",
    "wash['SMART_CONNECT'].replace('SMART CONNECT SMART CONNECT', 1, inplace=True)"
   ]
  },
  {
   "cell_type": "markdown",
   "metadata": {},
   "source": [
    "## CAR_07"
   ]
  },
  {
   "cell_type": "code",
   "execution_count": 85,
   "metadata": {},
   "outputs": [],
   "source": [
    "# THIS COLUMN IS EMPTY\n",
    "\n",
    "wash.drop('CARATTERISTICA_07', axis=1, inplace=True)"
   ]
  },
  {
   "cell_type": "code",
   "execution_count": 533,
   "metadata": {},
   "outputs": [],
   "source": [
    "#wash.to_csv('/Users/vincenzocamerlengo/Desktop/Data Science in Action/Unieuro Dataset-20240305/dati_luiss_2/wash.csv')"
   ]
  },
  {
   "cell_type": "markdown",
   "metadata": {},
   "source": [
    "# PC"
   ]
  },
  {
   "cell_type": "code",
   "execution_count": 7,
   "metadata": {},
   "outputs": [],
   "source": [
    "# MERGE 'pc' AND 'gfk' BY 'ITEM_ID' AND CREATE A NEW COLUMN 'SCONTO_PERC_MEDIO_VOLANTINO'\n",
    "\n",
    "pc = df1[df1['PRODUCT_GROUP']=='MOBILE COMPUTING']\n",
    "pc = pd.merge(pc, gfk, on='ITEM_ID', how='left')\n",
    "pc['SCONTO_PERC_MEDIO_VOLANTINO'] = pc.groupby('CODICE_VOLANTINO')['SCONTO_PERC'].transform('mean')"
   ]
  },
  {
   "cell_type": "markdown",
   "metadata": {},
   "source": [
    "## CAR_01"
   ]
  },
  {
   "cell_type": "code",
   "execution_count": 8,
   "metadata": {},
   "outputs": [
    {
     "data": {
      "text/plain": [
       "array(['SEGMENTS NOTEBOOK', 'GPU MODEL INTEL UHD GPU',\n",
       "       'GPU MODEL RAD R5 APU', 'GPU MODEL RAD 610M',\n",
       "       'GPU MODEL UHD GRAPH. 605', 'GPU MODEL RAD VEGA 8',\n",
       "       'GPU MODEL RAD VEGA 3', 'GPU MODEL GEF MX130',\n",
       "       'GPU MODEL UHD GRAPH. 620', 'GPU MODEL HD GRAPH. 620',\n",
       "       'GPU MODEL INTEL IRIS PLUS', 'GPU MODEL RAD',\n",
       "       'GPU MODEL INTEL IRIS XE', 'GPU MODEL GEF MX450',\n",
       "       'GPU MODEL GEF GTX1650', 'GPU MODEL GEF RTX3050',\n",
       "       'GPU MODEL GEF RTX2060', 'GPU MODEL GEF RTX3060',\n",
       "       'GPU MODEL UHD GRAPH. 600', nan, 'GPU MODEL APPLE 7CORE GPU',\n",
       "       'GPU MODEL APPLE 8CORE GPU', 'GPU MODEL APPLE 10COREGPU',\n",
       "       'GPU MODEL IRIS PLUS 655', 'GPU MODEL HD GRAPH. 6000',\n",
       "       'GPU MODEL UHD GRAPH. 617', 'GPU MODEL IRIS PLUS 645',\n",
       "       'GPU MODEL RAD PRO 5300M', 'GPU MODEL HD GRAPH. 500',\n",
       "       'GPU MODEL HD GRAPH. 400', 'GPU MODEL GEF MX230',\n",
       "       'GPU MODEL GEF MX110', 'GPU MODEL GEF MX330',\n",
       "       'GPU MODEL RAD R4 APU', 'GPU MODEL HD GRAPH. 510',\n",
       "       'GPU MODEL RAD R7 APU', 'GPU MODEL GEF GTX1050TI',\n",
       "       'GPU MODEL GEF GTX1050', 'GPU MODEL GEF MX350',\n",
       "       'GPU MODEL HD GRAPH. 610', 'GPU MODEL RAD R5 M420',\n",
       "       'GPU MODEL GEF 930MX', 'SEGMENTS TABLET PC', 'GPU MODEL ADRENO506',\n",
       "       'GPU MODEL GEF MX150', 'GPU MODEL GEF GTX1650TI',\n",
       "       'GPU MODEL RAD 520', 'GPU MODEL RAD 530', 'GPU MODEL GEF 940MX',\n",
       "       'GPU MODEL GEF MX250', 'GPU MODEL RAD VEGA 6',\n",
       "       'GPU MODEL GEF GTX1660TI', 'GPU MODEL GEF GTX1660',\n",
       "       'GPU MODEL GEF RTX2070 S.M', 'GPU MODEL RAD RX VEGA 10',\n",
       "       'GPU MODEL RAD R3 APU', 'GPU MODEL GEF GTX1660TI M',\n",
       "       'GPU MODEL GEF RTX3070', 'GPU MODEL RAD 535',\n",
       "       'GPU MODEL GEF RTX3050 TI', 'GPU MODEL HD GRAPH. 505',\n",
       "       'GPU MODEL UHD GRAPH. 610', 'GPU MODEL GEF GTX1650MAXQ',\n",
       "       'GPU MODEL MALI-G72 MP3', 'GPU MODEL HD GRAPH. 615',\n",
       "       'GPU MODEL RAD VEGA', 'GPU MODEL GEF GTX1060',\n",
       "       'GPU MODEL GEF RTX3070 TI', 'GPU MODEL GEF RTX4050',\n",
       "       'GPU MODEL HD GRAPH. 520', 'GPU MODEL APPLE 16COREGPU',\n",
       "       'GPU MODEL APPLE 14COREGPU', 'GPU MODEL RAD R2 APU',\n",
       "       'GPU MODEL GEF RTX4060', 'GPU MODEL INTEL HD GPU'], dtype=object)"
      ]
     },
     "execution_count": 8,
     "metadata": {},
     "output_type": "execute_result"
    }
   ],
   "source": [
    "pc['CARATTERISTICA_01'].unique()"
   ]
  },
  {
   "cell_type": "code",
   "execution_count": 9,
   "metadata": {},
   "outputs": [],
   "source": [
    "pc = pc[pc['CARATTERISTICA_01'].str.contains('GPU', na=True)] #DELETE THE VALUES THAT DOES NOT CONTAIN THE WORD 'GPU'\n",
    "pc.reset_index(inplace=True)\n",
    "pc.drop('index', axis=1, inplace=True)"
   ]
  },
  {
   "cell_type": "code",
   "execution_count": 10,
   "metadata": {},
   "outputs": [],
   "source": [
    "# DELETE THW WORD 'GPU MODEL '\n",
    "\n",
    "pc['CARATTERISTICA_01'] = pc['CARATTERISTICA_01'].str.replace('GPU MODEL ', '')"
   ]
  },
  {
   "cell_type": "code",
   "execution_count": 11,
   "metadata": {},
   "outputs": [],
   "source": [
    "# FILL THE NULL VALUES WITH A NEW CLASS, CALLED 'NOT DEFINED'\n",
    "\n",
    "pc['CARATTERISTICA_01'].fillna('NOT DEFINED', inplace=True)"
   ]
  },
  {
   "cell_type": "markdown",
   "metadata": {},
   "source": [
    "INTEL produce: UHD, HD, IRIS, MALI-G72, ADRENO506\n",
    "\n",
    "With the following loop, we add the word 'INTEL' before the gpu model produced by them"
   ]
  },
  {
   "cell_type": "code",
   "execution_count": 12,
   "metadata": {},
   "outputs": [],
   "source": [
    "for i in range(pc.shape[0]):\n",
    "    if 'UHD' in pc.iloc[i, 23] and 'INTEL' not in pc.iloc[i, 23]:\n",
    "        pc.iloc[i, 23] = 'INTEL'+' '+pc.iloc[i, 23]\n",
    "    elif 'HD' in pc.iloc[i, 23] and 'INTEL' not in pc.iloc[i, 23]:\n",
    "        pc.iloc[i, 23] = 'INTEL'+' '+pc.iloc[i, 23]\n",
    "    elif 'IRIS' in pc.iloc[i, 23] and 'INTEL' not in pc.iloc[i, 23]:\n",
    "        pc.iloc[i, 23] = 'INTEL'+' '+pc.iloc[i, 23]\n",
    "    elif 'MALI-G72' in pc.iloc[i, 23] and 'INTEL' not in pc.iloc[i, 23]:\n",
    "        pc.iloc[i, 23] = 'INTEL'+' '+pc.iloc[i, 23]\n",
    "    elif 'ADRENO506' in pc.iloc[i, 23] and 'INTEL' not in pc.iloc[i, 23]:\n",
    "        pc.iloc[i, 23] = 'INTEL'+' '+pc.iloc[i, 23]"
   ]
  },
  {
   "cell_type": "code",
   "execution_count": 13,
   "metadata": {},
   "outputs": [],
   "source": [
    "# RENAME THE COLUMN\n",
    "\n",
    "pc = pc.rename(columns={'CARATTERISTICA_01': 'GPU_MODEL'})"
   ]
  },
  {
   "cell_type": "code",
   "execution_count": 14,
   "metadata": {},
   "outputs": [
    {
     "data": {
      "text/plain": [
       "GPU_MODEL\n",
       "INTEL IRIS XE          225\n",
       "INTEL UHD GPU          203\n",
       "RAD                    133\n",
       "APPLE 7CORE GPU        132\n",
       "APPLE 8CORE GPU         97\n",
       "                      ... \n",
       "INTEL ADRENO506          1\n",
       "INTEL HD GRAPH. 505      1\n",
       "GEF 940MX                1\n",
       "RAD VEGA 6               1\n",
       "INTEL HD GRAPH. 510      1\n",
       "Name: count, Length: 73, dtype: int64"
      ]
     },
     "execution_count": 14,
     "metadata": {},
     "output_type": "execute_result"
    }
   ],
   "source": [
    "pc['GPU_MODEL'].value_counts()"
   ]
  },
  {
   "cell_type": "code",
   "execution_count": 15,
   "metadata": {},
   "outputs": [
    {
     "data": {
      "text/plain": [
       "array(['INTEL UHD GPU', 'RAD R5 APU', 'RAD 610M', 'INTEL UHD GRAPH. 605',\n",
       "       'RAD VEGA 8', 'RAD VEGA 3', 'GEF MX130', 'INTEL UHD GRAPH. 620',\n",
       "       'INTEL HD GRAPH. 620', 'INTEL IRIS PLUS', 'RAD', 'INTEL IRIS XE',\n",
       "       'GEF MX450', 'GEF GTX1650', 'GEF RTX3050', 'GEF RTX2060',\n",
       "       'GEF RTX3060', 'INTEL UHD GRAPH. 600', 'NOT DEFINED',\n",
       "       'APPLE 7CORE GPU', 'APPLE 8CORE GPU', 'APPLE 10COREGPU',\n",
       "       'INTEL IRIS PLUS 655', 'INTEL HD GRAPH. 6000',\n",
       "       'INTEL UHD GRAPH. 617', 'INTEL IRIS PLUS 645', 'RAD PRO 5300M',\n",
       "       'INTEL HD GRAPH. 500', 'INTEL HD GRAPH. 400', 'GEF MX230',\n",
       "       'GEF MX110', 'GEF MX330', 'RAD R4 APU', 'INTEL HD GRAPH. 510',\n",
       "       'RAD R7 APU', 'GEF GTX1050TI', 'GEF GTX1050', 'GEF MX350',\n",
       "       'INTEL HD GRAPH. 610', 'RAD R5 M420', 'GEF 930MX',\n",
       "       'INTEL ADRENO506', 'GEF MX150', 'GEF GTX1650TI', 'RAD 520',\n",
       "       'RAD 530', 'GEF 940MX', 'GEF MX250', 'RAD VEGA 6', 'GEF GTX1660TI',\n",
       "       'GEF GTX1660', 'GEF RTX2070 S.M', 'RAD RX VEGA 10', 'RAD R3 APU',\n",
       "       'GEF GTX1660TI M', 'GEF RTX3070', 'RAD 535', 'GEF RTX3050 TI',\n",
       "       'INTEL HD GRAPH. 505', 'INTEL UHD GRAPH. 610', 'GEF GTX1650MAXQ',\n",
       "       'INTEL MALI-G72 MP3', 'INTEL HD GRAPH. 615', 'RAD VEGA',\n",
       "       'GEF GTX1060', 'GEF RTX3070 TI', 'GEF RTX4050',\n",
       "       'INTEL HD GRAPH. 520', 'APPLE 16COREGPU', 'APPLE 14COREGPU',\n",
       "       'RAD R2 APU', 'GEF RTX4060', 'INTEL HD GPU'], dtype=object)"
      ]
     },
     "execution_count": 15,
     "metadata": {},
     "output_type": "execute_result"
    }
   ],
   "source": [
    "pc['GPU_MODEL'].unique()"
   ]
  },
  {
   "cell_type": "code",
   "execution_count": 16,
   "metadata": {},
   "outputs": [],
   "source": [
    "# WITH THIS LOOP, WE CREATE NEW COLUMNS IN ORDER TO ENCODE THE GPU MODELS BASED ON THEIR VERSION\n",
    "\n",
    "INTEL = []\n",
    "APPLE = []\n",
    "RAD = []\n",
    "GEF = [] \n",
    "NOT_DEFINED = []\n",
    "\n",
    "for i in range(pc.shape[0]):\n",
    "    if 'NOT DEFINED' == pc.iloc[i, 23]:\n",
    "        NOT_DEFINED.append(1)\n",
    "        INTEL.append(0)\n",
    "        APPLE.append(0)\n",
    "        RAD.append(0)\n",
    "        GEF.append(0)\n",
    "    elif 'INTEL' in pc.iloc[i, 23]:\n",
    "        NOT_DEFINED.append(0)\n",
    "        INTEL.append(1)\n",
    "        APPLE.append(0)\n",
    "        RAD.append(0)\n",
    "        GEF.append(0)\n",
    "    elif 'APPLE' in pc.iloc[i, 23]:\n",
    "        NOT_DEFINED.append(0)\n",
    "        INTEL.append(0)\n",
    "        APPLE.append(1)\n",
    "        RAD.append(0)\n",
    "        GEF.append(0)\n",
    "    elif 'RAD' in pc.iloc[i, 23]:\n",
    "        NOT_DEFINED.append(0)\n",
    "        INTEL.append(0)\n",
    "        APPLE.append(0)\n",
    "        RAD.append(1)\n",
    "        GEF.append(0)\n",
    "    elif 'GEF' in pc.iloc[i, 23]:\n",
    "        NOT_DEFINED.append(0)\n",
    "        INTEL.append(0)\n",
    "        APPLE.append(0)\n",
    "        RAD.append(0)\n",
    "        GEF.append(1)\n",
    "\n",
    "pc['VERSION_NOT_DEFINED'] = NOT_DEFINED\n",
    "pc['VERSION_INTEL'] = INTEL\n",
    "pc['VERSION_APPLE'] = APPLE\n",
    "pc['VERSION_RAD'] = RAD\n",
    "pc['VERSION_GEF'] = GEF"
   ]
  },
  {
   "cell_type": "code",
   "execution_count": 17,
   "metadata": {},
   "outputs": [
    {
     "data": {
      "text/html": [
       "<div>\n",
       "<style scoped>\n",
       "    .dataframe tbody tr th:only-of-type {\n",
       "        vertical-align: middle;\n",
       "    }\n",
       "\n",
       "    .dataframe tbody tr th {\n",
       "        vertical-align: top;\n",
       "    }\n",
       "\n",
       "    .dataframe thead th {\n",
       "        text-align: right;\n",
       "    }\n",
       "</style>\n",
       "<table border=\"1\" class=\"dataframe\">\n",
       "  <thead>\n",
       "    <tr style=\"text-align: right;\">\n",
       "      <th></th>\n",
       "      <th>CODICE_VOLANTINO</th>\n",
       "      <th>DATA_INIZIO</th>\n",
       "      <th>DATA_FINE</th>\n",
       "      <th>NOME_CAMPAGNA</th>\n",
       "      <th>ART_COD</th>\n",
       "      <th>PREZZO_PROMO</th>\n",
       "      <th>PREZZO_LISTINO</th>\n",
       "      <th>STOCK_PZ</th>\n",
       "      <th>TIPOLOGIA_PRODOTTO</th>\n",
       "      <th>SCONTO_PERC</th>\n",
       "      <th>BRAND</th>\n",
       "      <th>ITEM_ID</th>\n",
       "      <th>KPI_1</th>\n",
       "      <th>KPI_2</th>\n",
       "      <th>KPI_3</th>\n",
       "      <th>KPI_4</th>\n",
       "      <th>KPI_5</th>\n",
       "      <th>PRODUCT_GROUP</th>\n",
       "      <th>QTA</th>\n",
       "      <th>FATTURATO</th>\n",
       "      <th>QTA_storico</th>\n",
       "      <th>FATTURATO_storico</th>\n",
       "      <th>DURATA_VOLANTINO_IN_GIORNI</th>\n",
       "      <th>GPU_MODEL</th>\n",
       "      <th>CARATTERISTICA_02</th>\n",
       "      <th>CARATTERISTICA_05</th>\n",
       "      <th>CARATTERISTICA_04</th>\n",
       "      <th>CARATTERISTICA_03</th>\n",
       "      <th>CARATTERISTICA_06</th>\n",
       "      <th>CARATTERISTICA_07</th>\n",
       "      <th>SCONTO_PERC_MEDIO_VOLANTINO</th>\n",
       "      <th>VERSION_NOT_DEFINED</th>\n",
       "      <th>VERSION_INTEL</th>\n",
       "      <th>VERSION_APPLE</th>\n",
       "      <th>VERSION_RAD</th>\n",
       "      <th>VERSION_GEF</th>\n",
       "    </tr>\n",
       "  </thead>\n",
       "  <tbody>\n",
       "    <tr>\n",
       "      <th>0</th>\n",
       "      <td>22GC</td>\n",
       "      <td>2022-07-11</td>\n",
       "      <td>2022-07-21</td>\n",
       "      <td>UN MARE DI SCONTI A TASSO ZERO</td>\n",
       "      <td>ACEA11532C64E</td>\n",
       "      <td>249.9</td>\n",
       "      <td>359.9</td>\n",
       "      <td>2028.0</td>\n",
       "      <td>Principale</td>\n",
       "      <td>31.00</td>\n",
       "      <td>ACER</td>\n",
       "      <td>172229207.0</td>\n",
       "      <td>0.656697</td>\n",
       "      <td>0.000000</td>\n",
       "      <td>0.000000</td>\n",
       "      <td>0.322690</td>\n",
       "      <td>0.000000</td>\n",
       "      <td>MOBILE COMPUTING</td>\n",
       "      <td>188.0</td>\n",
       "      <td>38403.30</td>\n",
       "      <td>0</td>\n",
       "      <td>0.00</td>\n",
       "      <td>10</td>\n",
       "      <td>INTEL UHD GPU</td>\n",
       "      <td>PROCESSOR CELERON N</td>\n",
       "      <td>OS VERSION WIN11 HOME S</td>\n",
       "      <td>STORAGE IN GB 128</td>\n",
       "      <td>RAM IN GB 4</td>\n",
       "      <td>DISPLAY SIZE 15.6</td>\n",
       "      <td>CONVERTIBLE NO</td>\n",
       "      <td>25.370370</td>\n",
       "      <td>0</td>\n",
       "      <td>1</td>\n",
       "      <td>0</td>\n",
       "      <td>0</td>\n",
       "      <td>0</td>\n",
       "    </tr>\n",
       "    <tr>\n",
       "      <th>1</th>\n",
       "      <td>23DB</td>\n",
       "      <td>2023-04-28</td>\n",
       "      <td>2023-05-11</td>\n",
       "      <td>PASSIONE CASA</td>\n",
       "      <td>ACEA11532C64E</td>\n",
       "      <td>269.9</td>\n",
       "      <td>349.9</td>\n",
       "      <td>1217.0</td>\n",
       "      <td>Principale</td>\n",
       "      <td>22.86</td>\n",
       "      <td>ACER</td>\n",
       "      <td>172229207.0</td>\n",
       "      <td>0.528941</td>\n",
       "      <td>0.489399</td>\n",
       "      <td>0.633822</td>\n",
       "      <td>0.322895</td>\n",
       "      <td>0.123499</td>\n",
       "      <td>MOBILE COMPUTING</td>\n",
       "      <td>203.0</td>\n",
       "      <td>44754.80</td>\n",
       "      <td>854</td>\n",
       "      <td>190473.36</td>\n",
       "      <td>13</td>\n",
       "      <td>INTEL UHD GPU</td>\n",
       "      <td>PROCESSOR CELERON N</td>\n",
       "      <td>OS VERSION WIN11 HOME S</td>\n",
       "      <td>STORAGE IN GB 128</td>\n",
       "      <td>RAM IN GB 4</td>\n",
       "      <td>DISPLAY SIZE 15.6</td>\n",
       "      <td>CONVERTIBLE NO</td>\n",
       "      <td>25.475714</td>\n",
       "      <td>0</td>\n",
       "      <td>1</td>\n",
       "      <td>0</td>\n",
       "      <td>0</td>\n",
       "      <td>0</td>\n",
       "    </tr>\n",
       "    <tr>\n",
       "      <th>2</th>\n",
       "      <td>23LB</td>\n",
       "      <td>2023-10-16</td>\n",
       "      <td>2023-10-22</td>\n",
       "      <td>BASKET</td>\n",
       "      <td>ACEA11532C64E</td>\n",
       "      <td>269.9</td>\n",
       "      <td>349.9</td>\n",
       "      <td>1917.0</td>\n",
       "      <td>Principale</td>\n",
       "      <td>22.86</td>\n",
       "      <td>ACER</td>\n",
       "      <td>172229207.0</td>\n",
       "      <td>0.914982</td>\n",
       "      <td>0.547895</td>\n",
       "      <td>0.213179</td>\n",
       "      <td>0.207078</td>\n",
       "      <td>1.000000</td>\n",
       "      <td>MOBILE COMPUTING</td>\n",
       "      <td>251.0</td>\n",
       "      <td>55181.62</td>\n",
       "      <td>119</td>\n",
       "      <td>27877.12</td>\n",
       "      <td>6</td>\n",
       "      <td>INTEL UHD GPU</td>\n",
       "      <td>PROCESSOR CELERON N</td>\n",
       "      <td>OS VERSION WIN11 HOME S</td>\n",
       "      <td>STORAGE IN GB 128</td>\n",
       "      <td>RAM IN GB 4</td>\n",
       "      <td>DISPLAY SIZE 15.6</td>\n",
       "      <td>CONVERTIBLE NO</td>\n",
       "      <td>25.476111</td>\n",
       "      <td>0</td>\n",
       "      <td>1</td>\n",
       "      <td>0</td>\n",
       "      <td>0</td>\n",
       "      <td>0</td>\n",
       "    </tr>\n",
       "    <tr>\n",
       "      <th>3</th>\n",
       "      <td>23CB</td>\n",
       "      <td>2023-03-17</td>\n",
       "      <td>2023-03-30</td>\n",
       "      <td>BASKET MARZO</td>\n",
       "      <td>ACEA11532C64E</td>\n",
       "      <td>249.9</td>\n",
       "      <td>349.9</td>\n",
       "      <td>438.0</td>\n",
       "      <td>Principale</td>\n",
       "      <td>28.58</td>\n",
       "      <td>ACER</td>\n",
       "      <td>172229207.0</td>\n",
       "      <td>0.610293</td>\n",
       "      <td>0.443426</td>\n",
       "      <td>0.345346</td>\n",
       "      <td>0.230252</td>\n",
       "      <td>1.000000</td>\n",
       "      <td>MOBILE COMPUTING</td>\n",
       "      <td>642.0</td>\n",
       "      <td>143062.52</td>\n",
       "      <td>180</td>\n",
       "      <td>44349.29</td>\n",
       "      <td>13</td>\n",
       "      <td>INTEL UHD GPU</td>\n",
       "      <td>PROCESSOR CELERON N</td>\n",
       "      <td>OS VERSION WIN11 HOME S</td>\n",
       "      <td>STORAGE IN GB 128</td>\n",
       "      <td>RAM IN GB 4</td>\n",
       "      <td>DISPLAY SIZE 15.6</td>\n",
       "      <td>CONVERTIBLE NO</td>\n",
       "      <td>27.353000</td>\n",
       "      <td>0</td>\n",
       "      <td>1</td>\n",
       "      <td>0</td>\n",
       "      <td>0</td>\n",
       "      <td>0</td>\n",
       "    </tr>\n",
       "    <tr>\n",
       "      <th>4</th>\n",
       "      <td>23CD</td>\n",
       "      <td>2023-03-31</td>\n",
       "      <td>2023-04-13</td>\n",
       "      <td>BASKET SCONTI APRILE</td>\n",
       "      <td>ACEA11532C64E</td>\n",
       "      <td>269.9</td>\n",
       "      <td>349.9</td>\n",
       "      <td>2175.0</td>\n",
       "      <td>Principale</td>\n",
       "      <td>22.86</td>\n",
       "      <td>ACER</td>\n",
       "      <td>172229207.0</td>\n",
       "      <td>0.611496</td>\n",
       "      <td>0.489399</td>\n",
       "      <td>0.295215</td>\n",
       "      <td>0.322895</td>\n",
       "      <td>0.123499</td>\n",
       "      <td>MOBILE COMPUTING</td>\n",
       "      <td>393.0</td>\n",
       "      <td>87141.30</td>\n",
       "      <td>117</td>\n",
       "      <td>29500.73</td>\n",
       "      <td>13</td>\n",
       "      <td>INTEL UHD GPU</td>\n",
       "      <td>PROCESSOR CELERON N</td>\n",
       "      <td>OS VERSION WIN11 HOME S</td>\n",
       "      <td>STORAGE IN GB 128</td>\n",
       "      <td>RAM IN GB 4</td>\n",
       "      <td>DISPLAY SIZE 15.6</td>\n",
       "      <td>CONVERTIBLE NO</td>\n",
       "      <td>22.851667</td>\n",
       "      <td>0</td>\n",
       "      <td>1</td>\n",
       "      <td>0</td>\n",
       "      <td>0</td>\n",
       "      <td>0</td>\n",
       "    </tr>\n",
       "  </tbody>\n",
       "</table>\n",
       "</div>"
      ],
      "text/plain": [
       "  CODICE_VOLANTINO DATA_INIZIO   DATA_FINE                   NOME_CAMPAGNA  \\\n",
       "0             22GC  2022-07-11  2022-07-21  UN MARE DI SCONTI A TASSO ZERO   \n",
       "1             23DB  2023-04-28  2023-05-11                   PASSIONE CASA   \n",
       "2             23LB  2023-10-16  2023-10-22                          BASKET   \n",
       "3             23CB  2023-03-17  2023-03-30                    BASKET MARZO   \n",
       "4             23CD  2023-03-31  2023-04-13            BASKET SCONTI APRILE   \n",
       "\n",
       "         ART_COD  PREZZO_PROMO  PREZZO_LISTINO  STOCK_PZ TIPOLOGIA_PRODOTTO  \\\n",
       "0  ACEA11532C64E         249.9           359.9    2028.0         Principale   \n",
       "1  ACEA11532C64E         269.9           349.9    1217.0         Principale   \n",
       "2  ACEA11532C64E         269.9           349.9    1917.0         Principale   \n",
       "3  ACEA11532C64E         249.9           349.9     438.0         Principale   \n",
       "4  ACEA11532C64E         269.9           349.9    2175.0         Principale   \n",
       "\n",
       "   SCONTO_PERC BRAND      ITEM_ID     KPI_1     KPI_2     KPI_3     KPI_4  \\\n",
       "0        31.00  ACER  172229207.0  0.656697  0.000000  0.000000  0.322690   \n",
       "1        22.86  ACER  172229207.0  0.528941  0.489399  0.633822  0.322895   \n",
       "2        22.86  ACER  172229207.0  0.914982  0.547895  0.213179  0.207078   \n",
       "3        28.58  ACER  172229207.0  0.610293  0.443426  0.345346  0.230252   \n",
       "4        22.86  ACER  172229207.0  0.611496  0.489399  0.295215  0.322895   \n",
       "\n",
       "      KPI_5     PRODUCT_GROUP    QTA  FATTURATO  QTA_storico  \\\n",
       "0  0.000000  MOBILE COMPUTING  188.0   38403.30            0   \n",
       "1  0.123499  MOBILE COMPUTING  203.0   44754.80          854   \n",
       "2  1.000000  MOBILE COMPUTING  251.0   55181.62          119   \n",
       "3  1.000000  MOBILE COMPUTING  642.0  143062.52          180   \n",
       "4  0.123499  MOBILE COMPUTING  393.0   87141.30          117   \n",
       "\n",
       "   FATTURATO_storico  DURATA_VOLANTINO_IN_GIORNI      GPU_MODEL  \\\n",
       "0               0.00                          10  INTEL UHD GPU   \n",
       "1          190473.36                          13  INTEL UHD GPU   \n",
       "2           27877.12                           6  INTEL UHD GPU   \n",
       "3           44349.29                          13  INTEL UHD GPU   \n",
       "4           29500.73                          13  INTEL UHD GPU   \n",
       "\n",
       "     CARATTERISTICA_02        CARATTERISTICA_05  CARATTERISTICA_04  \\\n",
       "0  PROCESSOR CELERON N  OS VERSION WIN11 HOME S  STORAGE IN GB 128   \n",
       "1  PROCESSOR CELERON N  OS VERSION WIN11 HOME S  STORAGE IN GB 128   \n",
       "2  PROCESSOR CELERON N  OS VERSION WIN11 HOME S  STORAGE IN GB 128   \n",
       "3  PROCESSOR CELERON N  OS VERSION WIN11 HOME S  STORAGE IN GB 128   \n",
       "4  PROCESSOR CELERON N  OS VERSION WIN11 HOME S  STORAGE IN GB 128   \n",
       "\n",
       "  CARATTERISTICA_03  CARATTERISTICA_06 CARATTERISTICA_07  \\\n",
       "0       RAM IN GB 4  DISPLAY SIZE 15.6    CONVERTIBLE NO   \n",
       "1       RAM IN GB 4  DISPLAY SIZE 15.6    CONVERTIBLE NO   \n",
       "2       RAM IN GB 4  DISPLAY SIZE 15.6    CONVERTIBLE NO   \n",
       "3       RAM IN GB 4  DISPLAY SIZE 15.6    CONVERTIBLE NO   \n",
       "4       RAM IN GB 4  DISPLAY SIZE 15.6    CONVERTIBLE NO   \n",
       "\n",
       "   SCONTO_PERC_MEDIO_VOLANTINO  VERSION_NOT_DEFINED  VERSION_INTEL  \\\n",
       "0                    25.370370                    0              1   \n",
       "1                    25.475714                    0              1   \n",
       "2                    25.476111                    0              1   \n",
       "3                    27.353000                    0              1   \n",
       "4                    22.851667                    0              1   \n",
       "\n",
       "   VERSION_APPLE  VERSION_RAD  VERSION_GEF  \n",
       "0              0            0            0  \n",
       "1              0            0            0  \n",
       "2              0            0            0  \n",
       "3              0            0            0  \n",
       "4              0            0            0  "
      ]
     },
     "execution_count": 17,
     "metadata": {},
     "output_type": "execute_result"
    }
   ],
   "source": [
    "pc.head()"
   ]
  },
  {
   "cell_type": "markdown",
   "metadata": {},
   "source": [
    "FOCUS ON INTEL\n",
    "\n",
    "high_quality_models = ['IRIS', 'ADRENO']                                                -->3\n",
    "\n",
    "medium_quality_models = ['UHD', 'GRAPH. 6']                                             -->2\n",
    "\n",
    "low_quality_models = ['HD', 'GRAPH. 5', 'GRAPH. 4', 'ADRENO506', 'MALI-G72']            -->1"
   ]
  },
  {
   "cell_type": "code",
   "execution_count": 18,
   "metadata": {},
   "outputs": [
    {
     "data": {
      "text/plain": [
       "array(['INTEL UHD GPU', 'INTEL UHD GRAPH. 605', 'INTEL UHD GRAPH. 620',\n",
       "       'INTEL HD GRAPH. 620', 'INTEL IRIS PLUS', 'INTEL IRIS XE',\n",
       "       'INTEL UHD GRAPH. 600', 'INTEL IRIS PLUS 655',\n",
       "       'INTEL HD GRAPH. 6000', 'INTEL UHD GRAPH. 617',\n",
       "       'INTEL IRIS PLUS 645', 'INTEL HD GRAPH. 500',\n",
       "       'INTEL HD GRAPH. 400', 'INTEL HD GRAPH. 510',\n",
       "       'INTEL HD GRAPH. 610', 'INTEL ADRENO506', 'INTEL HD GRAPH. 505',\n",
       "       'INTEL UHD GRAPH. 610', 'INTEL MALI-G72 MP3',\n",
       "       'INTEL HD GRAPH. 615', 'INTEL HD GRAPH. 520', 'INTEL HD GPU'],\n",
       "      dtype=object)"
      ]
     },
     "execution_count": 18,
     "metadata": {},
     "output_type": "execute_result"
    }
   ],
   "source": [
    "pc['GPU_MODEL'][pc['GPU_MODEL'].str.contains('INTEL', na=False)].unique()"
   ]
  },
  {
   "cell_type": "markdown",
   "metadata": {},
   "source": [
    "FOCUS ON APPLE\n",
    "\n",
    "high_quality_models = ['16', '14']                                                -->3\n",
    "\n",
    "medium_quality_models = ['10']                                             -->2\n",
    "\n",
    "low_quality_models = ['8', '7']            -->1"
   ]
  },
  {
   "cell_type": "code",
   "execution_count": 19,
   "metadata": {},
   "outputs": [
    {
     "data": {
      "text/plain": [
       "array(['APPLE 7CORE GPU', 'APPLE 8CORE GPU', 'APPLE 10COREGPU',\n",
       "       'APPLE 16COREGPU', 'APPLE 14COREGPU'], dtype=object)"
      ]
     },
     "execution_count": 19,
     "metadata": {},
     "output_type": "execute_result"
    }
   ],
   "source": [
    "pc['GPU_MODEL'][pc['GPU_MODEL'].str.contains('APPLE', na=False)].unique()"
   ]
  },
  {
   "cell_type": "markdown",
   "metadata": {},
   "source": [
    "FOCUS ON RAD\n",
    "\n",
    "high_quality_models = ['VEGA']                                                -->3\n",
    "\n",
    "medium_quality_models = ['PRO', '610', 'R7', 'R5']                                             -->2\n",
    "\n",
    "low_quality_models = ['R3', 'R2']            -->1"
   ]
  },
  {
   "cell_type": "code",
   "execution_count": 20,
   "metadata": {},
   "outputs": [
    {
     "data": {
      "text/plain": [
       "array(['RAD R5 APU', 'RAD 610M', 'RAD VEGA 8', 'RAD VEGA 3', 'RAD',\n",
       "       'RAD PRO 5300M', 'RAD R4 APU', 'RAD R7 APU', 'RAD R5 M420',\n",
       "       'RAD 520', 'RAD 530', 'RAD VEGA 6', 'RAD RX VEGA 10', 'RAD R3 APU',\n",
       "       'RAD 535', 'RAD VEGA', 'RAD R2 APU'], dtype=object)"
      ]
     },
     "execution_count": 20,
     "metadata": {},
     "output_type": "execute_result"
    }
   ],
   "source": [
    "pc['GPU_MODEL'][pc['GPU_MODEL'].str.contains('RAD', na=False)].unique()"
   ]
  },
  {
   "cell_type": "markdown",
   "metadata": {},
   "source": [
    "FOCUS ON GEF\n",
    "\n",
    "high_quality_models = ['RTX']                                                -->3\n",
    "\n",
    "medium_quality_models = ['GTX']                                             -->2\n",
    "\n",
    "low_quality_models = ['MX']            -->1"
   ]
  },
  {
   "cell_type": "code",
   "execution_count": 21,
   "metadata": {},
   "outputs": [
    {
     "data": {
      "text/plain": [
       "array(['GEF MX130', 'GEF MX450', 'GEF GTX1650', 'GEF RTX3050',\n",
       "       'GEF RTX2060', 'GEF RTX3060', 'GEF MX230', 'GEF MX110',\n",
       "       'GEF MX330', 'GEF GTX1050TI', 'GEF GTX1050', 'GEF MX350',\n",
       "       'GEF 930MX', 'GEF MX150', 'GEF GTX1650TI', 'GEF 940MX',\n",
       "       'GEF MX250', 'GEF GTX1660TI', 'GEF GTX1660', 'GEF RTX2070 S.M',\n",
       "       'GEF GTX1660TI M', 'GEF RTX3070', 'GEF RTX3050 TI',\n",
       "       'GEF GTX1650MAXQ', 'GEF GTX1060', 'GEF RTX3070 TI', 'GEF RTX4050',\n",
       "       'GEF RTX4060'], dtype=object)"
      ]
     },
     "execution_count": 21,
     "metadata": {},
     "output_type": "execute_result"
    }
   ],
   "source": [
    "pc['GPU_MODEL'][pc['GPU_MODEL'].str.contains('GEF', na=False)].unique()"
   ]
  },
  {
   "cell_type": "code",
   "execution_count": 22,
   "metadata": {},
   "outputs": [],
   "source": [
    "# WE CREATE A NEW COLUMN 'QUALITY VERSION' THAT ASSIGN A VALUE BETWEEN 1 AND 3 BASED ON THE QUALITY OF THE GPU\n",
    "\n",
    "QUALITY_VERSION = []\n",
    "for i in range(pc.shape[0]):\n",
    "    if 'INTEL' in pc.iloc[i, 23]:\n",
    "        if 'IRIS' in pc.iloc[i, 23] or 'ADRENO' in pc.iloc[i, 23]:\n",
    "            QUALITY_VERSION.append(3)\n",
    "        elif 'UHD' in pc.iloc[i, 23] or 'GRAPH. 6' in pc.iloc[i, 23]:\n",
    "            QUALITY_VERSION.append(2)\n",
    "        else:\n",
    "            QUALITY_VERSION.append(1)\n",
    "\n",
    "    elif 'APPLE' in pc.iloc[i, 23]:\n",
    "        if '16' in pc.iloc[i, 23] or '14' in pc.iloc[i, 23]:\n",
    "            QUALITY_VERSION.append(3)\n",
    "        elif '10' in pc.iloc[i, 23]:\n",
    "            QUALITY_VERSION.append(2)\n",
    "        else:\n",
    "            QUALITY_VERSION.append(1)\n",
    "        \n",
    "    elif 'RAD' in pc.iloc[i, 23]:\n",
    "        if 'VEGA' in pc.iloc[i, 23]:\n",
    "            QUALITY_VERSION.append(3)\n",
    "        elif 'PRO' in pc.iloc[i, 23] or '610' in pc.iloc[i, 23] or 'R7' in pc.iloc[i, 23] or 'R5' in pc.iloc[i, 23]:\n",
    "            QUALITY_VERSION.append(2)\n",
    "        else:\n",
    "            QUALITY_VERSION.append(1)\n",
    "\n",
    "    elif 'GEF' in pc.iloc[i, 23]:\n",
    "        if 'RTX' in pc.iloc[i, 23]:\n",
    "            QUALITY_VERSION.append(3)\n",
    "        elif 'GTX' in pc.iloc[i, 23]:\n",
    "            QUALITY_VERSION.append(2)\n",
    "        else:\n",
    "            QUALITY_VERSION.append(1)\n",
    "    \n",
    "    else:  #SE IL VALORE è NOT DEFINED\n",
    "         QUALITY_VERSION.append(1)\n",
    "    \n",
    "\n",
    "pc['QUALITY_VERSION'] = QUALITY_VERSION\n",
    "    \n"
   ]
  },
  {
   "cell_type": "code",
   "execution_count": 23,
   "metadata": {},
   "outputs": [],
   "source": [
    "# DROP GPU_MODEL COLUMN BEACAUSE IS ENCODED\n",
    "\n",
    "pc.drop('GPU_MODEL', axis=1, inplace=True)"
   ]
  },
  {
   "cell_type": "code",
   "execution_count": 24,
   "metadata": {},
   "outputs": [
    {
     "data": {
      "text/html": [
       "<div>\n",
       "<style scoped>\n",
       "    .dataframe tbody tr th:only-of-type {\n",
       "        vertical-align: middle;\n",
       "    }\n",
       "\n",
       "    .dataframe tbody tr th {\n",
       "        vertical-align: top;\n",
       "    }\n",
       "\n",
       "    .dataframe thead th {\n",
       "        text-align: right;\n",
       "    }\n",
       "</style>\n",
       "<table border=\"1\" class=\"dataframe\">\n",
       "  <thead>\n",
       "    <tr style=\"text-align: right;\">\n",
       "      <th></th>\n",
       "      <th>CODICE_VOLANTINO</th>\n",
       "      <th>DATA_INIZIO</th>\n",
       "      <th>DATA_FINE</th>\n",
       "      <th>NOME_CAMPAGNA</th>\n",
       "      <th>ART_COD</th>\n",
       "      <th>PREZZO_PROMO</th>\n",
       "      <th>PREZZO_LISTINO</th>\n",
       "      <th>STOCK_PZ</th>\n",
       "      <th>TIPOLOGIA_PRODOTTO</th>\n",
       "      <th>SCONTO_PERC</th>\n",
       "      <th>BRAND</th>\n",
       "      <th>ITEM_ID</th>\n",
       "      <th>KPI_1</th>\n",
       "      <th>KPI_2</th>\n",
       "      <th>KPI_3</th>\n",
       "      <th>KPI_4</th>\n",
       "      <th>KPI_5</th>\n",
       "      <th>PRODUCT_GROUP</th>\n",
       "      <th>QTA</th>\n",
       "      <th>FATTURATO</th>\n",
       "      <th>QTA_storico</th>\n",
       "      <th>FATTURATO_storico</th>\n",
       "      <th>DURATA_VOLANTINO_IN_GIORNI</th>\n",
       "      <th>CARATTERISTICA_02</th>\n",
       "      <th>CARATTERISTICA_05</th>\n",
       "      <th>CARATTERISTICA_04</th>\n",
       "      <th>CARATTERISTICA_03</th>\n",
       "      <th>CARATTERISTICA_06</th>\n",
       "      <th>CARATTERISTICA_07</th>\n",
       "      <th>SCONTO_PERC_MEDIO_VOLANTINO</th>\n",
       "      <th>VERSION_NOT_DEFINED</th>\n",
       "      <th>VERSION_INTEL</th>\n",
       "      <th>VERSION_APPLE</th>\n",
       "      <th>VERSION_RAD</th>\n",
       "      <th>VERSION_GEF</th>\n",
       "      <th>QUALITY_VERSION</th>\n",
       "    </tr>\n",
       "  </thead>\n",
       "  <tbody>\n",
       "    <tr>\n",
       "      <th>0</th>\n",
       "      <td>22GC</td>\n",
       "      <td>2022-07-11</td>\n",
       "      <td>2022-07-21</td>\n",
       "      <td>UN MARE DI SCONTI A TASSO ZERO</td>\n",
       "      <td>ACEA11532C64E</td>\n",
       "      <td>249.9</td>\n",
       "      <td>359.9</td>\n",
       "      <td>2028.0</td>\n",
       "      <td>Principale</td>\n",
       "      <td>31.00</td>\n",
       "      <td>ACER</td>\n",
       "      <td>172229207.0</td>\n",
       "      <td>0.656697</td>\n",
       "      <td>0.000000</td>\n",
       "      <td>0.000000</td>\n",
       "      <td>0.322690</td>\n",
       "      <td>0.000000</td>\n",
       "      <td>MOBILE COMPUTING</td>\n",
       "      <td>188.0</td>\n",
       "      <td>38403.30</td>\n",
       "      <td>0</td>\n",
       "      <td>0.00</td>\n",
       "      <td>10</td>\n",
       "      <td>PROCESSOR CELERON N</td>\n",
       "      <td>OS VERSION WIN11 HOME S</td>\n",
       "      <td>STORAGE IN GB 128</td>\n",
       "      <td>RAM IN GB 4</td>\n",
       "      <td>DISPLAY SIZE 15.6</td>\n",
       "      <td>CONVERTIBLE NO</td>\n",
       "      <td>25.370370</td>\n",
       "      <td>0</td>\n",
       "      <td>1</td>\n",
       "      <td>0</td>\n",
       "      <td>0</td>\n",
       "      <td>0</td>\n",
       "      <td>2</td>\n",
       "    </tr>\n",
       "    <tr>\n",
       "      <th>1</th>\n",
       "      <td>23DB</td>\n",
       "      <td>2023-04-28</td>\n",
       "      <td>2023-05-11</td>\n",
       "      <td>PASSIONE CASA</td>\n",
       "      <td>ACEA11532C64E</td>\n",
       "      <td>269.9</td>\n",
       "      <td>349.9</td>\n",
       "      <td>1217.0</td>\n",
       "      <td>Principale</td>\n",
       "      <td>22.86</td>\n",
       "      <td>ACER</td>\n",
       "      <td>172229207.0</td>\n",
       "      <td>0.528941</td>\n",
       "      <td>0.489399</td>\n",
       "      <td>0.633822</td>\n",
       "      <td>0.322895</td>\n",
       "      <td>0.123499</td>\n",
       "      <td>MOBILE COMPUTING</td>\n",
       "      <td>203.0</td>\n",
       "      <td>44754.80</td>\n",
       "      <td>854</td>\n",
       "      <td>190473.36</td>\n",
       "      <td>13</td>\n",
       "      <td>PROCESSOR CELERON N</td>\n",
       "      <td>OS VERSION WIN11 HOME S</td>\n",
       "      <td>STORAGE IN GB 128</td>\n",
       "      <td>RAM IN GB 4</td>\n",
       "      <td>DISPLAY SIZE 15.6</td>\n",
       "      <td>CONVERTIBLE NO</td>\n",
       "      <td>25.475714</td>\n",
       "      <td>0</td>\n",
       "      <td>1</td>\n",
       "      <td>0</td>\n",
       "      <td>0</td>\n",
       "      <td>0</td>\n",
       "      <td>2</td>\n",
       "    </tr>\n",
       "    <tr>\n",
       "      <th>2</th>\n",
       "      <td>23LB</td>\n",
       "      <td>2023-10-16</td>\n",
       "      <td>2023-10-22</td>\n",
       "      <td>BASKET</td>\n",
       "      <td>ACEA11532C64E</td>\n",
       "      <td>269.9</td>\n",
       "      <td>349.9</td>\n",
       "      <td>1917.0</td>\n",
       "      <td>Principale</td>\n",
       "      <td>22.86</td>\n",
       "      <td>ACER</td>\n",
       "      <td>172229207.0</td>\n",
       "      <td>0.914982</td>\n",
       "      <td>0.547895</td>\n",
       "      <td>0.213179</td>\n",
       "      <td>0.207078</td>\n",
       "      <td>1.000000</td>\n",
       "      <td>MOBILE COMPUTING</td>\n",
       "      <td>251.0</td>\n",
       "      <td>55181.62</td>\n",
       "      <td>119</td>\n",
       "      <td>27877.12</td>\n",
       "      <td>6</td>\n",
       "      <td>PROCESSOR CELERON N</td>\n",
       "      <td>OS VERSION WIN11 HOME S</td>\n",
       "      <td>STORAGE IN GB 128</td>\n",
       "      <td>RAM IN GB 4</td>\n",
       "      <td>DISPLAY SIZE 15.6</td>\n",
       "      <td>CONVERTIBLE NO</td>\n",
       "      <td>25.476111</td>\n",
       "      <td>0</td>\n",
       "      <td>1</td>\n",
       "      <td>0</td>\n",
       "      <td>0</td>\n",
       "      <td>0</td>\n",
       "      <td>2</td>\n",
       "    </tr>\n",
       "    <tr>\n",
       "      <th>3</th>\n",
       "      <td>23CB</td>\n",
       "      <td>2023-03-17</td>\n",
       "      <td>2023-03-30</td>\n",
       "      <td>BASKET MARZO</td>\n",
       "      <td>ACEA11532C64E</td>\n",
       "      <td>249.9</td>\n",
       "      <td>349.9</td>\n",
       "      <td>438.0</td>\n",
       "      <td>Principale</td>\n",
       "      <td>28.58</td>\n",
       "      <td>ACER</td>\n",
       "      <td>172229207.0</td>\n",
       "      <td>0.610293</td>\n",
       "      <td>0.443426</td>\n",
       "      <td>0.345346</td>\n",
       "      <td>0.230252</td>\n",
       "      <td>1.000000</td>\n",
       "      <td>MOBILE COMPUTING</td>\n",
       "      <td>642.0</td>\n",
       "      <td>143062.52</td>\n",
       "      <td>180</td>\n",
       "      <td>44349.29</td>\n",
       "      <td>13</td>\n",
       "      <td>PROCESSOR CELERON N</td>\n",
       "      <td>OS VERSION WIN11 HOME S</td>\n",
       "      <td>STORAGE IN GB 128</td>\n",
       "      <td>RAM IN GB 4</td>\n",
       "      <td>DISPLAY SIZE 15.6</td>\n",
       "      <td>CONVERTIBLE NO</td>\n",
       "      <td>27.353000</td>\n",
       "      <td>0</td>\n",
       "      <td>1</td>\n",
       "      <td>0</td>\n",
       "      <td>0</td>\n",
       "      <td>0</td>\n",
       "      <td>2</td>\n",
       "    </tr>\n",
       "    <tr>\n",
       "      <th>4</th>\n",
       "      <td>23CD</td>\n",
       "      <td>2023-03-31</td>\n",
       "      <td>2023-04-13</td>\n",
       "      <td>BASKET SCONTI APRILE</td>\n",
       "      <td>ACEA11532C64E</td>\n",
       "      <td>269.9</td>\n",
       "      <td>349.9</td>\n",
       "      <td>2175.0</td>\n",
       "      <td>Principale</td>\n",
       "      <td>22.86</td>\n",
       "      <td>ACER</td>\n",
       "      <td>172229207.0</td>\n",
       "      <td>0.611496</td>\n",
       "      <td>0.489399</td>\n",
       "      <td>0.295215</td>\n",
       "      <td>0.322895</td>\n",
       "      <td>0.123499</td>\n",
       "      <td>MOBILE COMPUTING</td>\n",
       "      <td>393.0</td>\n",
       "      <td>87141.30</td>\n",
       "      <td>117</td>\n",
       "      <td>29500.73</td>\n",
       "      <td>13</td>\n",
       "      <td>PROCESSOR CELERON N</td>\n",
       "      <td>OS VERSION WIN11 HOME S</td>\n",
       "      <td>STORAGE IN GB 128</td>\n",
       "      <td>RAM IN GB 4</td>\n",
       "      <td>DISPLAY SIZE 15.6</td>\n",
       "      <td>CONVERTIBLE NO</td>\n",
       "      <td>22.851667</td>\n",
       "      <td>0</td>\n",
       "      <td>1</td>\n",
       "      <td>0</td>\n",
       "      <td>0</td>\n",
       "      <td>0</td>\n",
       "      <td>2</td>\n",
       "    </tr>\n",
       "  </tbody>\n",
       "</table>\n",
       "</div>"
      ],
      "text/plain": [
       "  CODICE_VOLANTINO DATA_INIZIO   DATA_FINE                   NOME_CAMPAGNA  \\\n",
       "0             22GC  2022-07-11  2022-07-21  UN MARE DI SCONTI A TASSO ZERO   \n",
       "1             23DB  2023-04-28  2023-05-11                   PASSIONE CASA   \n",
       "2             23LB  2023-10-16  2023-10-22                          BASKET   \n",
       "3             23CB  2023-03-17  2023-03-30                    BASKET MARZO   \n",
       "4             23CD  2023-03-31  2023-04-13            BASKET SCONTI APRILE   \n",
       "\n",
       "         ART_COD  PREZZO_PROMO  PREZZO_LISTINO  STOCK_PZ TIPOLOGIA_PRODOTTO  \\\n",
       "0  ACEA11532C64E         249.9           359.9    2028.0         Principale   \n",
       "1  ACEA11532C64E         269.9           349.9    1217.0         Principale   \n",
       "2  ACEA11532C64E         269.9           349.9    1917.0         Principale   \n",
       "3  ACEA11532C64E         249.9           349.9     438.0         Principale   \n",
       "4  ACEA11532C64E         269.9           349.9    2175.0         Principale   \n",
       "\n",
       "   SCONTO_PERC BRAND      ITEM_ID     KPI_1     KPI_2     KPI_3     KPI_4  \\\n",
       "0        31.00  ACER  172229207.0  0.656697  0.000000  0.000000  0.322690   \n",
       "1        22.86  ACER  172229207.0  0.528941  0.489399  0.633822  0.322895   \n",
       "2        22.86  ACER  172229207.0  0.914982  0.547895  0.213179  0.207078   \n",
       "3        28.58  ACER  172229207.0  0.610293  0.443426  0.345346  0.230252   \n",
       "4        22.86  ACER  172229207.0  0.611496  0.489399  0.295215  0.322895   \n",
       "\n",
       "      KPI_5     PRODUCT_GROUP    QTA  FATTURATO  QTA_storico  \\\n",
       "0  0.000000  MOBILE COMPUTING  188.0   38403.30            0   \n",
       "1  0.123499  MOBILE COMPUTING  203.0   44754.80          854   \n",
       "2  1.000000  MOBILE COMPUTING  251.0   55181.62          119   \n",
       "3  1.000000  MOBILE COMPUTING  642.0  143062.52          180   \n",
       "4  0.123499  MOBILE COMPUTING  393.0   87141.30          117   \n",
       "\n",
       "   FATTURATO_storico  DURATA_VOLANTINO_IN_GIORNI    CARATTERISTICA_02  \\\n",
       "0               0.00                          10  PROCESSOR CELERON N   \n",
       "1          190473.36                          13  PROCESSOR CELERON N   \n",
       "2           27877.12                           6  PROCESSOR CELERON N   \n",
       "3           44349.29                          13  PROCESSOR CELERON N   \n",
       "4           29500.73                          13  PROCESSOR CELERON N   \n",
       "\n",
       "         CARATTERISTICA_05  CARATTERISTICA_04 CARATTERISTICA_03  \\\n",
       "0  OS VERSION WIN11 HOME S  STORAGE IN GB 128       RAM IN GB 4   \n",
       "1  OS VERSION WIN11 HOME S  STORAGE IN GB 128       RAM IN GB 4   \n",
       "2  OS VERSION WIN11 HOME S  STORAGE IN GB 128       RAM IN GB 4   \n",
       "3  OS VERSION WIN11 HOME S  STORAGE IN GB 128       RAM IN GB 4   \n",
       "4  OS VERSION WIN11 HOME S  STORAGE IN GB 128       RAM IN GB 4   \n",
       "\n",
       "   CARATTERISTICA_06 CARATTERISTICA_07  SCONTO_PERC_MEDIO_VOLANTINO  \\\n",
       "0  DISPLAY SIZE 15.6    CONVERTIBLE NO                    25.370370   \n",
       "1  DISPLAY SIZE 15.6    CONVERTIBLE NO                    25.475714   \n",
       "2  DISPLAY SIZE 15.6    CONVERTIBLE NO                    25.476111   \n",
       "3  DISPLAY SIZE 15.6    CONVERTIBLE NO                    27.353000   \n",
       "4  DISPLAY SIZE 15.6    CONVERTIBLE NO                    22.851667   \n",
       "\n",
       "   VERSION_NOT_DEFINED  VERSION_INTEL  VERSION_APPLE  VERSION_RAD  \\\n",
       "0                    0              1              0            0   \n",
       "1                    0              1              0            0   \n",
       "2                    0              1              0            0   \n",
       "3                    0              1              0            0   \n",
       "4                    0              1              0            0   \n",
       "\n",
       "   VERSION_GEF  QUALITY_VERSION  \n",
       "0            0                2  \n",
       "1            0                2  \n",
       "2            0                2  \n",
       "3            0                2  \n",
       "4            0                2  "
      ]
     },
     "execution_count": 24,
     "metadata": {},
     "output_type": "execute_result"
    }
   ],
   "source": [
    "pc.head()"
   ]
  },
  {
   "cell_type": "markdown",
   "metadata": {},
   "source": [
    "## CAR_02"
   ]
  },
  {
   "cell_type": "code",
   "execution_count": 25,
   "metadata": {},
   "outputs": [
    {
     "data": {
      "text/plain": [
       "array(['PROCESSOR CELERON N', 'PROCESSOR A9-SERIES', 'PROCESSOR RYZEN 5',\n",
       "       'PROCESSOR PENTIUM SILVER', 'PROCESSOR RYZEN 3',\n",
       "       'PROCESSOR CORE I5', 'PROCESSOR CORE I3', 'PROCESSOR CORE I7',\n",
       "       'PROCESSOR RYZEN 7', nan, 'PROCESSOR APPLE M-SERIES',\n",
       "       'PROCESSOR A6-SERIES', 'PROCESSOR PENTIUM', 'PROCESSOR A12-SERIES',\n",
       "       'PROCESSOR PENTIUM GOLD', 'PROCESSOR SNAPDRAGON',\n",
       "       'PROCESSOR 3000 SERIES', 'PROCESSOR HELIO P', 'PROCESSOR ATHLON',\n",
       "       'PROCESSOR E2-SERIES'], dtype=object)"
      ]
     },
     "execution_count": 25,
     "metadata": {},
     "output_type": "execute_result"
    }
   ],
   "source": [
    "pc['CARATTERISTICA_02'].unique()"
   ]
  },
  {
   "cell_type": "code",
   "execution_count": 26,
   "metadata": {},
   "outputs": [],
   "source": [
    "# RENAME THE COLUMN\n",
    "\n",
    "pc = pc.rename(columns={'CARATTERISTICA_02': 'PROCESSOR'})"
   ]
  },
  {
   "cell_type": "code",
   "execution_count": 27,
   "metadata": {},
   "outputs": [],
   "source": [
    "# DELETE THE WORD 'PROCESSOR' AND FILL THE NULL VALUES WITH A NEW CLASS, CALLED 'NOT DEFINED'\n",
    "\n",
    "pc['PROCESSOR'] = pc['PROCESSOR'].str.replace('PROCESSOR ', '')\n",
    "pc['PROCESSOR'].fillna('NOT DEFINED', inplace=True)"
   ]
  },
  {
   "cell_type": "markdown",
   "metadata": {},
   "source": [
    "WE PERFORMED ORDINAL ENCODING ORDING TO THE QUALITY OF THE PROCESSORS \n",
    "\n",
    "quality_high = ['CORE I7', 'RYZEN 7', 'CORE I5', 'RYZEN 5'] -->3\n",
    "\n",
    "quality_medium = ['CORE I3', 'RYZEN 3', 'A9-SERIES', 'A12-SERIES', 'PENTIUM GOLD', 'PENTIUM SILVER', 'APPLE'] -->2\n",
    "\n",
    "quality_low = others  -->1"
   ]
  },
  {
   "cell_type": "code",
   "execution_count": 28,
   "metadata": {},
   "outputs": [],
   "source": [
    "QUALITY_PROCESSOR = []\n",
    "\n",
    "for i in range(pc.shape[0]):\n",
    "    if 'CORE I7' in pc.iloc[i,23] or 'RYZEN 7' in pc.iloc[i,23] or 'CORE I5' in pc.iloc[i,23] or 'RYZEN 5' in pc.iloc[i,23]:\n",
    "        QUALITY_PROCESSOR.append(3)\n",
    "    elif 'CORE I3' in pc.iloc[i,23] or 'RYZEN 3' in pc.iloc[i,23] or 'A9-SERIES' in pc.iloc[i,23] or 'A12-SERIES' in pc.iloc[i,23] or 'PENTIUM GOLD' in pc.iloc[i,23] or 'PENTIUM SILVER' in pc.iloc[i,23] or 'APPLE' in pc.iloc[i,23]:\n",
    "        QUALITY_PROCESSOR.append(2)\n",
    "    else:\n",
    "        QUALITY_PROCESSOR.append(1)\n",
    "\n",
    "pc['QUALITY_PROCESSOR'] = QUALITY_PROCESSOR"
   ]
  },
  {
   "cell_type": "code",
   "execution_count": 29,
   "metadata": {},
   "outputs": [],
   "source": [
    "# DROP THE COLUMN 'PROCESSOR' BECAUSE WE CREATE THE COLUMN 'QUALITY_PROCESSOR'\n",
    "\n",
    "pc.drop('PROCESSOR', axis=1, inplace=True)"
   ]
  },
  {
   "cell_type": "markdown",
   "metadata": {},
   "source": [
    "## CAR_03"
   ]
  },
  {
   "cell_type": "code",
   "execution_count": 30,
   "metadata": {},
   "outputs": [
    {
     "data": {
      "text/plain": [
       "array(['RAM IN GB 4', 'RAM IN GB 8', 'RAM IN GB 16', nan, 'RAM IN GB 12',\n",
       "       'RAM IN GB 32'], dtype=object)"
      ]
     },
     "execution_count": 30,
     "metadata": {},
     "output_type": "execute_result"
    }
   ],
   "source": [
    "pc['CARATTERISTICA_03'].unique()"
   ]
  },
  {
   "cell_type": "code",
   "execution_count": 31,
   "metadata": {},
   "outputs": [],
   "source": [
    "# RENAME THE COLUMN\n",
    "\n",
    "pc = pc.rename(columns={'CARATTERISTICA_03': 'RAM_GB'})"
   ]
  },
  {
   "cell_type": "code",
   "execution_count": 32,
   "metadata": {},
   "outputs": [],
   "source": [
    "# TAKE JUST THE FLOAT PART OF THE VALUES (EX. 'RAM IN GB 8' --> 8.00) AND THEN FILL NULL VALUES WITH THE MOST FREQUENT CLASS\n",
    "\n",
    "pc['RAM_GB'] = pc['RAM_GB'].str.replace('RAM IN GB ', '').astype(float)\n",
    "pc['RAM_GB'].fillna(pc['RAM_GB'].value_counts().index[0], inplace=True)"
   ]
  },
  {
   "cell_type": "markdown",
   "metadata": {},
   "source": [
    "## CAR_04"
   ]
  },
  {
   "cell_type": "code",
   "execution_count": 33,
   "metadata": {},
   "outputs": [
    {
     "data": {
      "text/plain": [
       "array(['STORAGE IN GB 128', 'STORAGE IN GB 1000', 'STORAGE IN GB 512',\n",
       "       'STORAGE IN GB 256', 'STORAGE IN GB 1256', 'STORAGE IN GB 64', nan,\n",
       "       'STORAGE IN GB 500', 'STORAGE IN GB 1128', 'STORAGE IN GB 32',\n",
       "       'STORAGE IN GB 2000', 'STORAGE IN GB 120'], dtype=object)"
      ]
     },
     "execution_count": 33,
     "metadata": {},
     "output_type": "execute_result"
    }
   ],
   "source": [
    "pc['CARATTERISTICA_04'].unique()"
   ]
  },
  {
   "cell_type": "code",
   "execution_count": 34,
   "metadata": {},
   "outputs": [],
   "source": [
    "# RENAME THE COLUMN\n",
    "\n",
    "pc = pc.rename(columns={'CARATTERISTICA_04': 'STORAGE_GB'})"
   ]
  },
  {
   "cell_type": "code",
   "execution_count": 35,
   "metadata": {},
   "outputs": [],
   "source": [
    "# TAKE JUST THE FLOAT PART OF THE VALUES (EX. 'STORAGE IN GB 512' --> 512.00) AND THEN FILL NULL VALUES WITH THE MOST FREQUENT CLASS\n",
    "\n",
    "pc['STORAGE_GB'] = pc['STORAGE_GB'].str.replace('STORAGE IN GB ', '').astype(float)\n",
    "pc['STORAGE_GB'].fillna(pc['STORAGE_GB'].value_counts().index[0], inplace=True)"
   ]
  },
  {
   "cell_type": "markdown",
   "metadata": {},
   "source": [
    "## CAR_05"
   ]
  },
  {
   "cell_type": "code",
   "execution_count": 36,
   "metadata": {},
   "outputs": [
    {
     "data": {
      "text/plain": [
       "array(['OS VERSION WIN11 HOME S', 'OS VERSION WIN10 HOME',\n",
       "       'OS VERSION WIN11 HOME', 'OS VERSION WIN10 HOME S',\n",
       "       'OS VERSION CHROME OS', 'OS VERSION WIN11 S', nan,\n",
       "       'OS VERSION WIN10 PRO', 'OS VERSION MACOS BIG SUR',\n",
       "       'OS VERSION MACOS MONTEREY', 'OS VERSION MACOS VENTURA',\n",
       "       'OS VERSION MACOS HIGH SIER', 'OS VERSION OS X YOSEMITE',\n",
       "       'OS VERSION MACOS MOJAVE', 'OS VERSION OS X MOUNT.LION',\n",
       "       'OS VERSION MACOS CATALINA', 'OS VERSION WIN10 S',\n",
       "       'OS VERSION WIN11 PRO'], dtype=object)"
      ]
     },
     "execution_count": 36,
     "metadata": {},
     "output_type": "execute_result"
    }
   ],
   "source": [
    "pc['CARATTERISTICA_05'].unique()"
   ]
  },
  {
   "cell_type": "code",
   "execution_count": 37,
   "metadata": {},
   "outputs": [],
   "source": [
    "# RENAME THE COLUMN\n",
    "\n",
    "pc = pc.rename(columns={'CARATTERISTICA_05': 'OS_VERSION'})"
   ]
  },
  {
   "cell_type": "code",
   "execution_count": 38,
   "metadata": {},
   "outputs": [],
   "source": [
    "# WITH THE FOLLOWING CODE WE TAKE JUST THE FIRST WORD AFTER 'OS VERSION ' (EX. 'OS VERSION MACOS MONTEREY' --> 'MACOS')\n",
    "\n",
    "pc['OS_VERSION'] = pc['OS_VERSION'].str.split('OS VERSION ').str.get(1).str.split().str.get(0)"
   ]
  },
  {
   "cell_type": "code",
   "execution_count": 39,
   "metadata": {},
   "outputs": [],
   "source": [
    "# FILL THE NULL VALUES WITH A NEW CLASS, CALLED 'NOT DEFINED'\n",
    "\n",
    "pc['OS_VERSION'].fillna('NOT DEFINED', inplace=True)"
   ]
  },
  {
   "cell_type": "markdown",
   "metadata": {},
   "source": [
    "## CAR_06"
   ]
  },
  {
   "cell_type": "code",
   "execution_count": 40,
   "metadata": {},
   "outputs": [
    {
     "data": {
      "text/plain": [
       "array(['DISPLAY SIZE 15.6', 'DISPLAY SIZE 14', nan, 'DISPLAY SIZE 13.3',\n",
       "       'DISPLAY SIZE 13.6', 'DISPLAY SIZE 15.3', 'DISPLAY SIZE 16',\n",
       "       'DISPLAY SIZE 13.5', 'DISPLAY SIZE 16.1', 'DISPLAY SIZE 17.3',\n",
       "       'DISPLAY SIZE 13', 'DISPLAY SIZE 11.6', 'DISPLAY SIZE 14.5',\n",
       "       'DISPLAY SIZE 10.1', 'DISPLAY SIZE 12.4', 'DISPLAY SIZE 12.3',\n",
       "       'DISPLAY SIZE 10', 'DISPLAY SIZE 14.1', 'DISPLAY SIZE 13.9',\n",
       "       'DISPLAY SIZE 16.2', 'DISPLAY SIZE 14.2'], dtype=object)"
      ]
     },
     "execution_count": 40,
     "metadata": {},
     "output_type": "execute_result"
    }
   ],
   "source": [
    "pc['CARATTERISTICA_06'].unique()"
   ]
  },
  {
   "cell_type": "code",
   "execution_count": 41,
   "metadata": {},
   "outputs": [],
   "source": [
    "# RENAME THE COLUMN\n",
    "\n",
    "pc = pc.rename(columns={'CARATTERISTICA_06': 'DISPLAY_SIZE'})"
   ]
  },
  {
   "cell_type": "code",
   "execution_count": 42,
   "metadata": {},
   "outputs": [],
   "source": [
    "# TAKE JUST THE FLOAT PART OF THE VALUES (EX. 'DISPLAY SIZE 16.1' --> 16.1) AND THEN FILL NULL VALUES WITH THE MOST FREQUENT CLASS\n",
    "\n",
    "pc['DISPLAY_SIZE'] = pc['DISPLAY_SIZE'].str.replace('DISPLAY SIZE ', '').astype(float)\n",
    "pc['DISPLAY_SIZE'].fillna(pc['DISPLAY_SIZE'].value_counts().index[0], inplace=True)"
   ]
  },
  {
   "cell_type": "markdown",
   "metadata": {},
   "source": [
    "## CAR_07"
   ]
  },
  {
   "cell_type": "code",
   "execution_count": 43,
   "metadata": {},
   "outputs": [
    {
     "data": {
      "text/plain": [
       "array(['CONVERTIBLE NO', nan, 'CONVERTIBLE YES'], dtype=object)"
      ]
     },
     "execution_count": 43,
     "metadata": {},
     "output_type": "execute_result"
    }
   ],
   "source": [
    "pc['CARATTERISTICA_07'].unique()"
   ]
  },
  {
   "cell_type": "code",
   "execution_count": 44,
   "metadata": {},
   "outputs": [],
   "source": [
    "# RENAME THE COLUMN\n",
    "\n",
    "pc = pc.rename(columns={'CARATTERISTICA_07': 'CONVERTIBLE'})"
   ]
  },
  {
   "cell_type": "code",
   "execution_count": 45,
   "metadata": {},
   "outputs": [],
   "source": [
    "# REPLACE 'CONVERTIBLE NO' AND NULL VALUES WITH 0 AND 'CONVERTIBLE YES' WITH 1\n",
    "\n",
    "pc['CONVERTIBLE'].replace(np.nan, 0, inplace=True)\n",
    "pc['CONVERTIBLE'].replace('CONVERTIBLE NO', 0, inplace=True)\n",
    "pc['CONVERTIBLE'].replace('CONVERTIBLE YES', 1, inplace=True)"
   ]
  },
  {
   "cell_type": "code",
   "execution_count": 715,
   "metadata": {},
   "outputs": [],
   "source": [
    "#pc.to_csv('/Users/vincenzocamerlengo/Desktop/Data Science in Action/Unieuro Dataset-20240305/dati_luiss_2/pc.csv')"
   ]
  },
  {
   "cell_type": "markdown",
   "metadata": {},
   "source": [
    "# TV"
   ]
  },
  {
   "cell_type": "code",
   "execution_count": 46,
   "metadata": {},
   "outputs": [],
   "source": [
    "# MERGE 'TV' AND 'gfk' BY 'ITEM_ID' AND CREATE A NEW COLUMN 'SCONTO_PERC_MEDIO_VOLANTINO'\n",
    "\n",
    "tv = df1[df1['PRODUCT_GROUP']=='PTV/FLAT']\n",
    "tv = pd.merge(tv, gfk, on='ITEM_ID', how='left')\n",
    "tv['SCONTO_PERC_MEDIO_VOLANTINO'] = tv.groupby('CODICE_VOLANTINO')['SCONTO_PERC'].transform('mean')"
   ]
  },
  {
   "cell_type": "markdown",
   "metadata": {},
   "source": [
    "## CAR_01"
   ]
  },
  {
   "cell_type": "code",
   "execution_count": 47,
   "metadata": {},
   "outputs": [
    {
     "data": {
      "text/plain": [
       "array(['DISPLAY SIZE 24', 'DISPLAY SIZE 23.6', 'DISPLAY SIZE 28',\n",
       "       'DISPLAY SIZE 32', 'DISPLAY SIZE 43', 'DISPLAY SIZE 48',\n",
       "       'DISPLAY SIZE 49', 'DISPLAY SIZE 50', 'DISPLAY SIZE 55', nan,\n",
       "       'DISPLAY SIZE 60', 'DISPLAY SIZE 65', 'DISPLAY SIZE 70',\n",
       "       'DISPLAY SIZE 75', 'DISPLAY SIZE 77', 'DISPLAY SIZE 31.5',\n",
       "       'DISPLAY SIZE 40', 'DISPLAY SIZE 85', 'DISPLAY SIZE 39',\n",
       "       'DISPLAY SIZE 42', 'DISPLAY SIZE 58', 'DISPLAY SIZE 27.5',\n",
       "       'DISPLAY SIZE 54.6', 'DISPLAY SIZE 22', 'DISPLAY SIZE 42.5',\n",
       "       'DISPLAY SIZE 64.5'], dtype=object)"
      ]
     },
     "execution_count": 47,
     "metadata": {},
     "output_type": "execute_result"
    }
   ],
   "source": [
    "tv['CARATTERISTICA_01'].unique()"
   ]
  },
  {
   "cell_type": "code",
   "execution_count": 48,
   "metadata": {},
   "outputs": [],
   "source": [
    "# RENAME THE COLUMN AND TAKE JUST THE FLOAT PART OF THE VALUES (EX. 'DISPLAY SIZE 65' --> 65.00)\n",
    "\n",
    "tv = tv.rename(columns={'CARATTERISTICA_01': 'DISPLAY_SIZE'})\n",
    "tv['DISPLAY_SIZE'] = tv['DISPLAY_SIZE'].str.replace('DISPLAY SIZE ', '').astype(float)"
   ]
  },
  {
   "cell_type": "code",
   "execution_count": 49,
   "metadata": {},
   "outputs": [],
   "source": [
    "# FILL NULL VALUES WITH THE MOST FREQUENT CLASS\n",
    "\n",
    "tv['DISPLAY_SIZE'].fillna(tv['DISPLAY_SIZE'].value_counts().index[0], inplace=True)"
   ]
  },
  {
   "cell_type": "markdown",
   "metadata": {},
   "source": [
    "## CAR_02"
   ]
  },
  {
   "cell_type": "code",
   "execution_count": 50,
   "metadata": {},
   "outputs": [
    {
     "data": {
      "text/plain": [
       "array(['HD TYPES HD READY', 'HD TYPES FULL HD',\n",
       "       'HD TYPES ULTRA HD/4K (3840X2160P)', nan,\n",
       "       'HD TYPES ULTRA HD/8K (7680X4320P)'], dtype=object)"
      ]
     },
     "execution_count": 50,
     "metadata": {},
     "output_type": "execute_result"
    }
   ],
   "source": [
    "tv['CARATTERISTICA_02'].unique()"
   ]
  },
  {
   "cell_type": "code",
   "execution_count": 51,
   "metadata": {},
   "outputs": [],
   "source": [
    "# RENAME THE COLUMN \n",
    "\n",
    "tv = tv.rename(columns={'CARATTERISTICA_02': 'HD_QUALITY'})"
   ]
  },
  {
   "cell_type": "code",
   "execution_count": 52,
   "metadata": {},
   "outputs": [],
   "source": [
    "# PERFORMED AN ORDINAL ENCODING ACCORDING TO THE HD QUALITY\n",
    "\n",
    "tv['HD_QUALITY'].replace('HD TYPES HD READY', 1, inplace=True)\n",
    "tv['HD_QUALITY'].replace('HD TYPES FULL HD', 2, inplace=True)\n",
    "tv['HD_QUALITY'].replace('HD TYPES ULTRA HD/4K (3840X2160P)', 3, inplace=True)\n",
    "tv['HD_QUALITY'].replace('HD TYPES ULTRA HD/8K (7680X4320P)', 4, inplace=True)"
   ]
  },
  {
   "cell_type": "code",
   "execution_count": 53,
   "metadata": {},
   "outputs": [],
   "source": [
    "# FILL NULL VALUES WITH THE MOST FREQUENT CLASS\n",
    "\n",
    "tv['HD_QUALITY'].fillna(tv['HD_QUALITY'].value_counts().index[0], inplace=True)"
   ]
  },
  {
   "cell_type": "markdown",
   "metadata": {},
   "source": [
    "## CAR_03"
   ]
  },
  {
   "cell_type": "code",
   "execution_count": 54,
   "metadata": {},
   "outputs": [
    {
     "data": {
      "text/plain": [
       "array(['MFM MFM', 'MFM NO MFM', nan], dtype=object)"
      ]
     },
     "execution_count": 54,
     "metadata": {},
     "output_type": "execute_result"
    }
   ],
   "source": [
    "tv['CARATTERISTICA_03'].unique()"
   ]
  },
  {
   "cell_type": "code",
   "execution_count": 55,
   "metadata": {},
   "outputs": [],
   "source": [
    "# RENAME THE COLUMN \n",
    "\n",
    "tv = tv.rename(columns={'CARATTERISTICA_03': 'MFM'})"
   ]
  },
  {
   "cell_type": "code",
   "execution_count": 56,
   "metadata": {},
   "outputs": [],
   "source": [
    "# REPLACE 'MFM NO MFM' AND NULL VALUES WITH 0 AND 'MFM MFM' WITH 1\n",
    "\n",
    "tv['MFM'].replace('MFM MFM', 1, inplace=True)\n",
    "tv['MFM'].replace('MFM NO MFM', 0, inplace=True)\n",
    "tv['MFM'].fillna(0, inplace=True)"
   ]
  },
  {
   "cell_type": "markdown",
   "metadata": {},
   "source": [
    "## CAR_04"
   ]
  },
  {
   "cell_type": "code",
   "execution_count": 60,
   "metadata": {},
   "outputs": [
    {
     "data": {
      "text/plain": [
       "array(['SMART TV SMART TV', 'CURVED NOT CURVED', 'SMART TV NO SMART TV',\n",
       "       nan, 'CURVED CURVED'], dtype=object)"
      ]
     },
     "execution_count": 60,
     "metadata": {},
     "output_type": "execute_result"
    }
   ],
   "source": [
    "tv['CARATTERISTICA_04'].unique()"
   ]
  },
  {
   "cell_type": "code",
   "execution_count": 61,
   "metadata": {},
   "outputs": [
    {
     "data": {
      "text/plain": [
       "CARATTERISTICA_04\n",
       "SMART TV SMART TV       2535\n",
       "SMART TV NO SMART TV     204\n",
       "CURVED NOT CURVED        156\n",
       "CURVED CURVED             11\n",
       "Name: count, dtype: int64"
      ]
     },
     "execution_count": 61,
     "metadata": {},
     "output_type": "execute_result"
    }
   ],
   "source": [
    "tv['CARATTERISTICA_04'].value_counts()"
   ]
  },
  {
   "cell_type": "markdown",
   "metadata": {},
   "source": [
    "The rows were is present 'CURVED CURVED' or 'CURVED NOT CURVED', have the information abuot 'smart' on the next column.\n",
    "\n",
    "Since the information about 'curve' is available just for a few observation, we decided to don't care about it.\n",
    "\n",
    "So, for these rows we moved all the values on the previous column. Similarly to what we did for 'CARATTERISTICA_03' of smartphone."
   ]
  },
  {
   "cell_type": "code",
   "execution_count": 62,
   "metadata": {},
   "outputs": [],
   "source": [
    "selezione = (tv['CARATTERISTICA_04'] == 'CURVED CURVED') | (tv['CARATTERISTICA_04'] == 'CURVED NOT CURVED')\n",
    "tv.loc[selezione, 'CARATTERISTICA_04'] = tv.loc[selezione, 'CARATTERISTICA_05']\n",
    "tv.loc[selezione, 'CARATTERISTICA_05'] = tv.loc[selezione, 'CARATTERISTICA_06']\n",
    "tv['CARATTERISTICA_04'] = tv['CARATTERISTICA_04'].fillna('')\n",
    "righe_errate = tv[tv['CARATTERISTICA_04'].str.contains('CURVED')]\n",
    "tv.loc[righe_errate.index, 'CARATTERISTICA_04'] = tv.loc[righe_errate.index, 'CARATTERISTICA_05']\n",
    "tv['CARATTERISTICA_05'].replace(r'.*SMART.*', np.nan, regex=True, inplace=True)\n",
    "tv.loc[righe_errate.index, 'CARATTERISTICA_05'] = tv.loc[righe_errate.index, 'CARATTERISTICA_06']\n",
    "tv['CARATTERISTICA_06'].replace(r'.*DISPLAY.*', np.nan, regex=True, inplace=True)\n",
    "tv['CARATTERISTICA_04'].replace('', 0, inplace=True)"
   ]
  },
  {
   "cell_type": "code",
   "execution_count": 63,
   "metadata": {},
   "outputs": [],
   "source": [
    "# RENAME THE COLUMN \n",
    "\n",
    "tv = tv.rename(columns={'CARATTERISTICA_04': 'SMART'})"
   ]
  },
  {
   "cell_type": "code",
   "execution_count": 64,
   "metadata": {},
   "outputs": [],
   "source": [
    "# REPLACE 'SMART TV NO SMART TV' WITH 0 AND 'SMART TV SMART TV' WITH 1\n",
    "\n",
    "tv['SMART'].replace('SMART TV SMART TV', 1, inplace=True)\n",
    "tv['SMART'].replace('SMART TV NO SMART TV', 0, inplace=True)"
   ]
  },
  {
   "cell_type": "markdown",
   "metadata": {},
   "source": [
    "## CAR_05"
   ]
  },
  {
   "cell_type": "code",
   "execution_count": 65,
   "metadata": {},
   "outputs": [
    {
     "data": {
      "text/plain": [
       "array(['DISPLAY TECHNOL LCD-DISPLAY', nan, 'DISPLAY TECHNOL OLED-DISPLAY'],\n",
       "      dtype=object)"
      ]
     },
     "execution_count": 65,
     "metadata": {},
     "output_type": "execute_result"
    }
   ],
   "source": [
    "tv['CARATTERISTICA_05'].unique()"
   ]
  },
  {
   "cell_type": "code",
   "execution_count": 66,
   "metadata": {},
   "outputs": [],
   "source": [
    "# RENAME THE COLUMN \n",
    "\n",
    "tv = tv.rename(columns={'CARATTERISTICA_05': 'OLED'})"
   ]
  },
  {
   "cell_type": "code",
   "execution_count": 67,
   "metadata": {},
   "outputs": [],
   "source": [
    "# REPLACE 'DISPLAY TECHNOL LCD-DISPLAY' WITH 0 AND 'DISPLAY TECHNOL OLED-DISPLAY' WITH 1\n",
    "# FILL NULL VALUES WITH THE MOST FREQUENT CLASS\n",
    "\n",
    "tv['OLED'].replace('DISPLAY TECHNOL LCD-DISPLAY', 0, inplace=True)\n",
    "tv['OLED'].replace('DISPLAY TECHNOL OLED-DISPLAY', 1, inplace=True)\n",
    "tv['OLED'].fillna(tv['OLED'].value_counts().index[0], inplace=True)"
   ]
  },
  {
   "cell_type": "markdown",
   "metadata": {},
   "source": [
    "## CAR_06"
   ]
  },
  {
   "cell_type": "code",
   "execution_count": 68,
   "metadata": {},
   "outputs": [
    {
     "data": {
      "text/plain": [
       "array(['WCG NO WCG', nan, 'WCG VARIOUS WCG TEC', 'WCG QUANTUM DOT'],\n",
       "      dtype=object)"
      ]
     },
     "execution_count": 68,
     "metadata": {},
     "output_type": "execute_result"
    }
   ],
   "source": [
    "tv['CARATTERISTICA_06'].unique()"
   ]
  },
  {
   "cell_type": "code",
   "execution_count": 69,
   "metadata": {},
   "outputs": [],
   "source": [
    "# RENAME THE COLUMN \n",
    "\n",
    "tv = tv.rename(columns={'CARATTERISTICA_06': 'WCG'})"
   ]
  },
  {
   "cell_type": "code",
   "execution_count": 70,
   "metadata": {},
   "outputs": [],
   "source": [
    "# PERFORMED AND ORDINAL ENCODING REGARDING THE \"Wide Color Gamut\". \n",
    "# FILL NULL VALUES WITH THE MOST FREQUENT CLASS\n",
    "\n",
    "tv['WCG'].replace('WCG NO WCG', 0, inplace=True)\n",
    "tv['WCG'].replace('WCG VARIOUS WCG TEC', 1, inplace=True)\n",
    "tv['WCG'].replace('WCG QUANTUM DOT', 2, inplace=True)\n",
    "tv['WCG'].fillna(tv['WCG'].value_counts().index[0], inplace=True)"
   ]
  },
  {
   "cell_type": "markdown",
   "metadata": {},
   "source": [
    "## CAR_07"
   ]
  },
  {
   "cell_type": "code",
   "execution_count": 71,
   "metadata": {},
   "outputs": [
    {
     "data": {
      "text/plain": [
       "array(['MINILED BACKLIT NO MINILED', nan, 'MINILED BACKLIT MINILED'],\n",
       "      dtype=object)"
      ]
     },
     "execution_count": 71,
     "metadata": {},
     "output_type": "execute_result"
    }
   ],
   "source": [
    "tv['CARATTERISTICA_07'].unique()"
   ]
  },
  {
   "cell_type": "code",
   "execution_count": 72,
   "metadata": {},
   "outputs": [],
   "source": [
    "# RENAME THE COLUMN \n",
    "\n",
    "tv = tv.rename(columns={'CARATTERISTICA_07': 'MINILED'})"
   ]
  },
  {
   "cell_type": "code",
   "execution_count": 73,
   "metadata": {},
   "outputs": [],
   "source": [
    "# REPLACE 'MINILED BACKLIT NO MINILED' WITH 0 AND 'MINILED BACKLIT MINILED' WITH 1\n",
    "# FILL NULL VALUES WITH THE MOST FREQUENT CLASS\n",
    "\n",
    "tv['MINILED'].replace('MINILED BACKLIT NO MINILED', 0, inplace=True)\n",
    "tv['MINILED'].replace('MINILED BACKLIT MINILED', 1, inplace=True)\n",
    "tv['MINILED'].fillna(tv['MINILED'].value_counts().index[0], inplace=True)"
   ]
  },
  {
   "cell_type": "code",
   "execution_count": 587,
   "metadata": {},
   "outputs": [],
   "source": [
    "#tv.to_csv('/Users/vincenzocamerlengo/Desktop/Data Science in Action/Unieuro Dataset-20240305/dati_luiss_2/tv.csv')"
   ]
  }
 ],
 "metadata": {
  "kernelspec": {
   "display_name": "base",
   "language": "python",
   "name": "python3"
  },
  "language_info": {
   "codemirror_mode": {
    "name": "ipython",
    "version": 3
   },
   "file_extension": ".py",
   "mimetype": "text/x-python",
   "name": "python",
   "nbconvert_exporter": "python",
   "pygments_lexer": "ipython3",
   "version": "3.9.13"
  }
 },
 "nbformat": 4,
 "nbformat_minor": 2
}
